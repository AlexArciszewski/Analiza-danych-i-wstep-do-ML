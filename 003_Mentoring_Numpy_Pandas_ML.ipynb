{
 "cells": [
  {
   "cell_type": "markdown",
   "id": "24cdd70b-b480-49cb-9af2-1a71c4d8e2db",
   "metadata": {},
   "source": [
    " # Powtórka z Pythona do tego trochę NumPy i Pandas :) Sama radość"
   ]
  },
  {
   "cell_type": "code",
   "execution_count": null,
   "id": "0f97d568-ab5c-4eca-9f09-f67f9208f48b",
   "metadata": {},
   "outputs": [],
   "source": []
  },
  {
   "cell_type": "code",
   "execution_count": 36,
   "id": "fc568d86-ebce-49c9-856d-506b91f95c2e",
   "metadata": {
    "scrolled": true
   },
   "outputs": [
    {
     "name": "stdout",
     "output_type": "stream",
     "text": [
      "0\n",
      "1\n",
      "2\n",
      "3\n"
     ]
    }
   ],
   "source": [
    "i = int\n",
    "for i in range(4):\n",
    "    print(i)"
   ]
  },
  {
   "cell_type": "markdown",
   "id": "702278ad-d23a-4679-aa73-a18de62016bb",
   "metadata": {},
   "source": [
    "# Ala ma Kota"
   ]
  },
  {
   "cell_type": "code",
   "execution_count": 37,
   "id": "e275e2e8-25bb-4f5a-bf98-afa70715a13d",
   "metadata": {},
   "outputs": [
    {
     "name": "stdout",
     "output_type": "stream",
     "text": [
      "3 is the key\n"
     ]
    }
   ],
   "source": [
    "print(f\"{i} is the key\")"
   ]
  },
  {
   "cell_type": "markdown",
   "id": "713c5fa4-74a3-4e70-b958-b872cd86d158",
   "metadata": {},
   "source": [
    "# hashtag zmiana czcionki"
   ]
  },
  {
   "cell_type": "markdown",
   "id": "600cb094-5d54-41ff-8d7a-de6a8bc252a1",
   "metadata": {},
   "source": [
    "## hashtag zmianna czcionki ale mniejsza"
   ]
  },
  {
   "cell_type": "markdown",
   "id": "547c33d9-03dd-4122-8bfa-2ffba6413b98",
   "metadata": {},
   "source": [
    "<code>\n",
    "for i in range(4):\n",
    "    print(i)\n",
    "\n",
    "</code>"
   ]
  },
  {
   "cell_type": "markdown",
   "id": "f5b8e275-1c7a-4b21-9d89-5707a2f99eaf",
   "metadata": {},
   "source": [
    "$\\sqrt{5}$"
   ]
  },
  {
   "cell_type": "markdown",
   "id": "f645f9bd-5fb3-4c48-8a54-ab19e1cb521b",
   "metadata": {},
   "source": [
    "$Y = \\beta_{0} + \\beta_{1}*X + \\epsilon$"
   ]
  },
  {
   "cell_type": "markdown",
   "id": "96e660c3-137f-40d9-8624-bf4c2194a5eb",
   "metadata": {},
   "source": [
    "*kursywa*"
   ]
  },
  {
   "cell_type": "markdown",
   "id": "d12c94e1-e6fb-431f-9fe5-07b28c11d312",
   "metadata": {},
   "source": [
    "**pogrubienie**"
   ]
  },
  {
   "cell_type": "code",
   "execution_count": null,
   "id": "8aa9d898-4c47-4a1c-9965-9da03ed97db9",
   "metadata": {},
   "outputs": [],
   "source": []
  },
  {
   "cell_type": "code",
   "execution_count": null,
   "id": "c85352b5-13dc-49fd-91f5-fce0bcbedf64",
   "metadata": {},
   "outputs": [],
   "source": []
  },
  {
   "cell_type": "markdown",
   "id": "547877a6-4370-4cc1-8806-62a1374a24da",
   "metadata": {},
   "source": [
    "<ol>\n",
    "    <li> Python </li>\n",
    "    <li> R </li>\n",
    "    <li> Excel </li>\n",
    "\n",
    "\n",
    "\n",
    "\n",
    "\n",
    "\n",
    "</ol>"
   ]
  },
  {
   "cell_type": "code",
   "execution_count": 38,
   "id": "2b375508-a00d-4d15-a2da-8e8d8209cb7a",
   "metadata": {},
   "outputs": [
    {
     "name": "stdout",
     "output_type": "stream",
     "text": [
      "<class 'int'>\n"
     ]
    }
   ],
   "source": [
    "x = 2\n",
    "print(type(x))"
   ]
  },
  {
   "cell_type": "code",
   "execution_count": 39,
   "id": "a57962f4-6c4d-4cae-9ec3-5a2211b7e4e2",
   "metadata": {},
   "outputs": [
    {
     "data": {
      "text/plain": [
       "int"
      ]
     },
     "execution_count": 39,
     "metadata": {},
     "output_type": "execute_result"
    }
   ],
   "source": [
    "type(x)"
   ]
  },
  {
   "cell_type": "code",
   "execution_count": 40,
   "id": "dea52654-73ce-42bd-a9ce-29095c2bf04b",
   "metadata": {},
   "outputs": [
    {
     "data": {
      "text/plain": [
       "float"
      ]
     },
     "execution_count": 40,
     "metadata": {},
     "output_type": "execute_result"
    }
   ],
   "source": [
    "y =3.14\n",
    "type(y)"
   ]
  },
  {
   "cell_type": "code",
   "execution_count": 41,
   "id": "00293731-9fcc-46db-a6c9-2c084a442d11",
   "metadata": {},
   "outputs": [
    {
     "data": {
      "text/plain": [
       "str"
      ]
     },
     "execution_count": 41,
     "metadata": {},
     "output_type": "execute_result"
    }
   ],
   "source": [
    "z = \"ass\" \n",
    "type(z)\n"
   ]
  },
  {
   "cell_type": "code",
   "execution_count": 42,
   "id": "58b21cc6-1335-48cd-a4dc-a97d431da4af",
   "metadata": {},
   "outputs": [],
   "source": [
    "osoby = []"
   ]
  },
  {
   "cell_type": "code",
   "execution_count": 43,
   "id": "5ca5dc9e-317b-4240-9311-a59249874d89",
   "metadata": {},
   "outputs": [
    {
     "name": "stdout",
     "output_type": "stream",
     "text": [
      "['Tomek']\n"
     ]
    }
   ],
   "source": [
    "osoby.append(\"Tomek\")\n",
    "print(osoby)"
   ]
  },
  {
   "cell_type": "code",
   "execution_count": 44,
   "id": "3f8738bc-7723-441d-b943-a414b431f812",
   "metadata": {},
   "outputs": [
    {
     "data": {
      "text/plain": [
       "'Tomek'"
      ]
     },
     "execution_count": 44,
     "metadata": {},
     "output_type": "execute_result"
    }
   ],
   "source": [
    "osoby[0]"
   ]
  },
  {
   "cell_type": "code",
   "execution_count": 45,
   "id": "862a4686-dbcc-428b-8030-d6f282c2ea91",
   "metadata": {},
   "outputs": [
    {
     "data": {
      "text/plain": [
       "'Tomek'"
      ]
     },
     "execution_count": 45,
     "metadata": {},
     "output_type": "execute_result"
    }
   ],
   "source": [
    "osoby[-1]"
   ]
  },
  {
   "cell_type": "code",
   "execution_count": 46,
   "id": "a1df7850-0a9d-4b61-829d-de29f2db9a56",
   "metadata": {},
   "outputs": [
    {
     "data": {
      "text/plain": [
       "list"
      ]
     },
     "execution_count": 46,
     "metadata": {},
     "output_type": "execute_result"
    }
   ],
   "source": [
    "type(osoby)"
   ]
  },
  {
   "cell_type": "code",
   "execution_count": 47,
   "id": "96ac546b-36e0-4d4e-a1a6-e4b048641a74",
   "metadata": {},
   "outputs": [
    {
     "name": "stdout",
     "output_type": "stream",
     "text": [
      "Retrieving notices: ...working... done\n",
      "Channels:\n",
      " - defaults\n",
      "Platform: win-64\n",
      "Collecting package metadata (repodata.json): ...working... done\n",
      "Solving environment: ...working... failed\n",
      "\n",
      "Note: you may need to restart the kernel to use updated packages.\n"
     ]
    },
    {
     "name": "stderr",
     "output_type": "stream",
     "text": [
      "\n",
      "PackagesNotFoundError: The following packages are not available from current channels:\n",
      "\n",
      "  - jupyterthemes\n",
      "\n",
      "Current channels:\n",
      "\n",
      "  - defaults\n",
      "\n",
      "To search for alternate channels that may provide the conda package you're\n",
      "looking for, navigate to\n",
      "\n",
      "    https://anaconda.org\n",
      "\n",
      "and use the search bar at the top of the page.\n",
      "\n",
      "\n"
     ]
    }
   ],
   "source": [
    "conda install jupyterthemes"
   ]
  },
  {
   "cell_type": "markdown",
   "id": "ecb3ba5e-b1ce-46ee-a6c1-7972a1837eda",
   "metadata": {},
   "source": [
    "pip install jupyterthemes jt -t <onedork>"
   ]
  },
  {
   "cell_type": "code",
   "execution_count": 48,
   "id": "06d345ac-4fda-4000-97b5-25f1c08b7c3a",
   "metadata": {},
   "outputs": [
    {
     "ename": "SyntaxError",
     "evalue": "invalid syntax (4231533736.py, line 1)",
     "output_type": "error",
     "traceback": [
      "\u001b[1;36m  Cell \u001b[1;32mIn[48], line 1\u001b[1;36m\u001b[0m\n\u001b[1;33m    jt -t <monokai>\u001b[0m\n\u001b[1;37m                   ^\u001b[0m\n\u001b[1;31mSyntaxError\u001b[0m\u001b[1;31m:\u001b[0m invalid syntax\n"
     ]
    }
   ],
   "source": [
    "jt -t <monokai>\n"
   ]
  },
  {
   "cell_type": "code",
   "execution_count": null,
   "id": "a3fa7042-dc74-497a-9729-52d6c9330aa9",
   "metadata": {},
   "outputs": [],
   "source": []
  },
  {
   "cell_type": "code",
   "execution_count": null,
   "id": "78adfcd0-4110-4c4f-be29-8421df4fffec",
   "metadata": {},
   "outputs": [],
   "source": [
    "pip install jupyterthemes jt-t <chesterish>"
   ]
  },
  {
   "cell_type": "code",
   "execution_count": null,
   "id": "bca5eb58-e5f3-40d3-bff7-78e5282dce54",
   "metadata": {},
   "outputs": [],
   "source": [
    "from jupyterthemes import get_themes\n",
    "import jupyterthemes as jt\n",
    "from jupyterthemes.stylefx import set_nb_theme"
   ]
  },
  {
   "cell_type": "code",
   "execution_count": null,
   "id": "778ceadc-9397-4d8b-8390-af16c1e9d21a",
   "metadata": {},
   "outputs": [],
   "source": [
    "from jupyterthemes import get_themes\n",
    "import jupyterthemes as jt\n",
    "from jupyterthemes.stylefx import set_nb_theme\n",
    "set_nb_theme('oceans16')"
   ]
  },
  {
   "cell_type": "code",
   "execution_count": null,
   "id": "dbc5b584-fcab-4c80-a997-f4c9df8c4e9e",
   "metadata": {},
   "outputs": [],
   "source": [
    "lista2 = [1, 2, 3, 4, 5, 6, 7, 8]\n",
    "lista2[::]"
   ]
  },
  {
   "cell_type": "code",
   "execution_count": null,
   "id": "cf0018bd-99e0-459d-b503-d033ea241bb6",
   "metadata": {},
   "outputs": [],
   "source": [
    "lista2[::2]"
   ]
  },
  {
   "cell_type": "code",
   "execution_count": null,
   "id": "f5d5a9ba-704e-4330-93c2-6bb30e878fd3",
   "metadata": {},
   "outputs": [],
   "source": [
    "lista2 = [1, 2, 3, 4, 5, 6, 7, 8]\n"
   ]
  },
  {
   "cell_type": "code",
   "execution_count": null,
   "id": "0a5d2d14-a904-4864-9ba5-6be39387935e",
   "metadata": {},
   "outputs": [],
   "source": [
    "lista2.reverse()"
   ]
  },
  {
   "cell_type": "code",
   "execution_count": null,
   "id": "abb29198-77be-4144-aa1a-7a199a36f3fb",
   "metadata": {},
   "outputs": [],
   "source": [
    "lista2"
   ]
  },
  {
   "cell_type": "code",
   "execution_count": null,
   "id": "5496b2d5-85c6-446e-b4f5-65f2d643e9f3",
   "metadata": {},
   "outputs": [],
   "source": [
    "lista2.append(150)"
   ]
  },
  {
   "cell_type": "code",
   "execution_count": null,
   "id": "27d479df-c4fe-426c-a7f2-c57c9bac400d",
   "metadata": {},
   "outputs": [],
   "source": [
    "lista2"
   ]
  },
  {
   "cell_type": "code",
   "execution_count": null,
   "id": "1c36deb4-6316-4b85-ab61-5b195ad7e528",
   "metadata": {},
   "outputs": [],
   "source": [
    "lista2.insert(0,'1760')"
   ]
  },
  {
   "cell_type": "code",
   "execution_count": null,
   "id": "78cf5b75-4681-4069-9179-96e78aa6f414",
   "metadata": {},
   "outputs": [],
   "source": [
    "lista2"
   ]
  },
  {
   "cell_type": "code",
   "execution_count": null,
   "id": "bc798c45-b803-42e2-a230-8e9c496f6c2c",
   "metadata": {},
   "outputs": [],
   "source": [
    "lista2.remove(5)"
   ]
  },
  {
   "cell_type": "code",
   "execution_count": null,
   "id": "a99b5630-ab3b-490a-80c9-6558a8288102",
   "metadata": {},
   "outputs": [],
   "source": [
    "lista2"
   ]
  },
  {
   "cell_type": "code",
   "execution_count": null,
   "id": "441b2e10-5875-47b3-a4a1-f7e778995445",
   "metadata": {},
   "outputs": [],
   "source": [
    "lista2.pop(0)"
   ]
  },
  {
   "cell_type": "code",
   "execution_count": null,
   "id": "cd8afc2a-f407-4f53-aa81-a7e436fd3839",
   "metadata": {},
   "outputs": [],
   "source": [
    "lista2"
   ]
  },
  {
   "cell_type": "code",
   "execution_count": null,
   "id": "2c2eac93-0d53-4d38-b0dd-ea13bc180c94",
   "metadata": {},
   "outputs": [],
   "source": [
    "lista2.sort()"
   ]
  },
  {
   "cell_type": "code",
   "execution_count": null,
   "id": "8243e402-e866-4a43-8fb2-15d6315a3a67",
   "metadata": {},
   "outputs": [],
   "source": [
    "lista2"
   ]
  },
  {
   "cell_type": "code",
   "execution_count": null,
   "id": "3a543ce7-be57-462b-9e81-bac2dcb1ea8b",
   "metadata": {},
   "outputs": [],
   "source": [
    "lista2.sort(reverse=True)"
   ]
  },
  {
   "cell_type": "code",
   "execution_count": null,
   "id": "33465a35-b5a6-4cba-b27e-3a8cf719464a",
   "metadata": {},
   "outputs": [],
   "source": [
    "lista2"
   ]
  },
  {
   "cell_type": "code",
   "execution_count": null,
   "id": "45ff61aa-9cef-4124-bfe7-45d57b392d90",
   "metadata": {},
   "outputs": [],
   "source": [
    "lista2.index(150)"
   ]
  },
  {
   "cell_type": "code",
   "execution_count": null,
   "id": "b4aa6357-ae30-47ec-8508-99bcf4c7d38e",
   "metadata": {},
   "outputs": [],
   "source": [
    "lista2.count(150)"
   ]
  },
  {
   "cell_type": "code",
   "execution_count": null,
   "id": "0c9f64da-2501-4b5b-9b88-ce6d5990a654",
   "metadata": {},
   "outputs": [],
   "source": [
    "krotka = ( 1, 2, 3, 4, 5)\n"
   ]
  },
  {
   "cell_type": "code",
   "execution_count": null,
   "id": "16ab48dc-3d60-4dc4-989f-ed9f0e257c68",
   "metadata": {},
   "outputs": [],
   "source": [
    "for e in krotka:\n",
    "    print(e)"
   ]
  },
  {
   "cell_type": "code",
   "execution_count": null,
   "id": "7342645a-0d93-4bdf-a88c-923fa50feeeb",
   "metadata": {},
   "outputs": [],
   "source": [
    "type(krotka)"
   ]
  },
  {
   "cell_type": "markdown",
   "id": "fbfa58d5-8bec-4fb8-82df-29649568e6e7",
   "metadata": {},
   "source": [
    "indeksowanie krotek"
   ]
  },
  {
   "cell_type": "code",
   "execution_count": null,
   "id": "f2aafd82-c272-419e-b320-1c8ebc7a538d",
   "metadata": {},
   "outputs": [],
   "source": [
    "krotka = ( 1, 2, 3, 4, 5)\n",
    "krotka[0:5]"
   ]
  },
  {
   "cell_type": "code",
   "execution_count": null,
   "id": "a1fc173e-5678-467c-afeb-5a8c4bcae867",
   "metadata": {},
   "outputs": [],
   "source": [
    "krotka.count(5)"
   ]
  },
  {
   "cell_type": "markdown",
   "id": "dfb910ba-feaa-42f0-8531-340ee0c48ce7",
   "metadata": {},
   "source": [
    "ile razy dany element się pwoatarza w krotce"
   ]
  },
  {
   "cell_type": "code",
   "execution_count": null,
   "id": "0aaea0a6-7f2f-4b47-8e01-e0ab3a3023c0",
   "metadata": {},
   "outputs": [],
   "source": []
  },
  {
   "cell_type": "markdown",
   "id": "3f7d44bb-c650-4c9a-b102-f0000aa89b87",
   "metadata": {},
   "source": [
    "słowniki"
   ]
  },
  {
   "cell_type": "code",
   "execution_count": null,
   "id": "fa32edee-a417-4d3d-b5bf-e610ef2445f2",
   "metadata": {},
   "outputs": [],
   "source": [
    "panstwa = { \n",
    "    'Polska' : 'Warszawa',\n",
    "    'Niemcy' : ' Berlin',\n",
    "    'Czechy' : 'Praga',\n",
    "}\n"
   ]
  },
  {
   "cell_type": "code",
   "execution_count": null,
   "id": "ea7a395b-c6b9-4ca1-a279-fceb607f8de6",
   "metadata": {},
   "outputs": [],
   "source": [
    "for key in panstwa:\n",
    "    print(key,panstwa[key])"
   ]
  },
  {
   "cell_type": "code",
   "execution_count": null,
   "id": "c2556cc1-8915-4f14-98b9-93965fde280a",
   "metadata": {},
   "outputs": [],
   "source": [
    "panstwa.items()"
   ]
  },
  {
   "cell_type": "code",
   "execution_count": null,
   "id": "f5fcf83e-8af6-4ff8-afb2-95f978ad684a",
   "metadata": {},
   "outputs": [],
   "source": [
    "panstwa['Czechy']"
   ]
  },
  {
   "cell_type": "markdown",
   "id": "5cbbd69a-5473-4bea-8e25-89611d8dfca6",
   "metadata": {},
   "source": [
    "Dodawani danych"
   ]
  },
  {
   "cell_type": "code",
   "execution_count": null,
   "id": "5f6e9b07-79d4-42bd-a0ea-af17a86eb34d",
   "metadata": {},
   "outputs": [],
   "source": [
    "panstwa['Francja'] = 'Paryż'"
   ]
  },
  {
   "cell_type": "code",
   "execution_count": null,
   "id": "a528fd0a-458f-4951-8ca0-0bc289eb05c1",
   "metadata": {},
   "outputs": [],
   "source": [
    "print(panstwa)"
   ]
  },
  {
   "cell_type": "markdown",
   "id": "51d3779c-62a9-48c1-b995-907b59b6e0a8",
   "metadata": {},
   "source": [
    "pop usuwanie wartosci ze slownika"
   ]
  },
  {
   "cell_type": "code",
   "execution_count": null,
   "id": "78db2a70-1b06-4e9d-b813-e3add0d6c4a3",
   "metadata": {},
   "outputs": [],
   "source": [
    "panstwa.pop('Niemcy')\n",
    "print(panstwa)"
   ]
  },
  {
   "cell_type": "markdown",
   "id": "9eb424a0-031b-431f-be93-10eb465d168c",
   "metadata": {},
   "source": [
    "zmiana klucza slownika"
   ]
  },
  {
   "cell_type": "code",
   "execution_count": null,
   "id": "f14072c5-f5d1-4cbf-8763-d5f013dc5d4f",
   "metadata": {},
   "outputs": [],
   "source": [
    "panstwa['Czech Republic'] = panstwa.pop('Czechy')"
   ]
  },
  {
   "cell_type": "code",
   "execution_count": null,
   "id": "d4d31ee6-9a11-4a13-a519-13cf7bab3262",
   "metadata": {},
   "outputs": [],
   "source": [
    "print(panstwa)"
   ]
  },
  {
   "cell_type": "code",
   "execution_count": null,
   "id": "ad40fc2f-0bc4-4b02-bbda-04988a41f7a1",
   "metadata": {},
   "outputs": [],
   "source": [
    "panstwa.keys()"
   ]
  },
  {
   "cell_type": "code",
   "execution_count": null,
   "id": "d727ba03-efa9-4ace-b80e-cd6a3d3a853e",
   "metadata": {},
   "outputs": [],
   "source": [
    "panstwa.items()"
   ]
  },
  {
   "cell_type": "code",
   "execution_count": null,
   "id": "c9258d87-164e-4b9a-bed1-039b2e993c2e",
   "metadata": {},
   "outputs": [],
   "source": [
    "panstwa.values()\n"
   ]
  },
  {
   "cell_type": "markdown",
   "id": "7d91d04e-d2da-4b27-84c0-852e8e29415a",
   "metadata": {},
   "source": [
    "Zbiory"
   ]
  },
  {
   "cell_type": "code",
   "execution_count": null,
   "id": "85169877-35b4-4b32-a515-7fdd54f9aeca",
   "metadata": {},
   "outputs": [],
   "source": [
    "zbior = {1, 2, 3, 4, 5}"
   ]
  },
  {
   "cell_type": "code",
   "execution_count": null,
   "id": "520e6e2e-b3d1-4a39-aa21-65b85740219e",
   "metadata": {},
   "outputs": [],
   "source": [
    "zbior"
   ]
  },
  {
   "cell_type": "code",
   "execution_count": null,
   "id": "2cb4475f-a056-4e0f-aefe-7102bf0580cb",
   "metadata": {},
   "outputs": [],
   "source": [
    "type(zbior)"
   ]
  },
  {
   "cell_type": "code",
   "execution_count": null,
   "id": "b830f4aa-84b5-4ef8-a240-99ad30f9fcd6",
   "metadata": {},
   "outputs": [],
   "source": [
    "zbior2 = {1, 2, 2, 4, 6, 3, 4, 5}"
   ]
  },
  {
   "cell_type": "markdown",
   "id": "d665422e-1f6c-4093-a7cc-b8f6f8971f3b",
   "metadata": {},
   "source": [
    "nie poda zdublowanych elementów zbioru\n"
   ]
  },
  {
   "cell_type": "code",
   "execution_count": null,
   "id": "3308bffa-d832-4f4b-bbcb-fab074e68f19",
   "metadata": {},
   "outputs": [],
   "source": [
    "zbior2"
   ]
  },
  {
   "cell_type": "code",
   "execution_count": null,
   "id": "cf2196b5-73ce-4b5c-8634-8eb5b4748b0c",
   "metadata": {},
   "outputs": [],
   "source": [
    "zbior2.add(10000000)\n",
    "zbior2"
   ]
  },
  {
   "cell_type": "code",
   "execution_count": null,
   "id": "5aff32dd-7bf3-4829-bf7e-8d46c1336197",
   "metadata": {},
   "outputs": [],
   "source": [
    "zbior2.add(\"hahaha\")\n",
    "zbior2"
   ]
  },
  {
   "cell_type": "code",
   "execution_count": null,
   "id": "03aec608-bc00-4ff1-b9d3-2100343c1fba",
   "metadata": {},
   "outputs": [],
   "source": [
    "zbior2.update([\"hohoho\", \"hihihi\"])\n",
    "zbior2"
   ]
  },
  {
   "cell_type": "code",
   "execution_count": null,
   "id": "0b1e8537-9bb4-4f13-a9e7-0eb05f01105d",
   "metadata": {},
   "outputs": [],
   "source": [
    "zbior2.remove('hohoho')"
   ]
  },
  {
   "cell_type": "code",
   "execution_count": null,
   "id": "1a377d55-77b1-456b-9244-2f8b08e50281",
   "metadata": {},
   "outputs": [],
   "source": [
    "zbior2"
   ]
  },
  {
   "cell_type": "code",
   "execution_count": null,
   "id": "11c5d8e3-d191-46b5-b1e1-7667e6a16046",
   "metadata": {},
   "outputs": [],
   "source": [
    "zbior3 = zbior2 \n",
    "zbior3"
   ]
  },
  {
   "cell_type": "code",
   "execution_count": null,
   "id": "54e762f6-cd31-4897-b4f8-b9c8525523a0",
   "metadata": {
    "scrolled": true
   },
   "outputs": [],
   "source": [
    "zbior3.clear()\n",
    "zbior3"
   ]
  },
  {
   "cell_type": "code",
   "execution_count": null,
   "id": "c661551c-cefa-4cbc-a37d-a3b0f6d74c19",
   "metadata": {},
   "outputs": [],
   "source": [
    "zbior1 = {1, 2, 3, 4, 5, 6}"
   ]
  },
  {
   "cell_type": "code",
   "execution_count": null,
   "id": "db1fcd60-1a94-49bd-b457-11599bc4b598",
   "metadata": {},
   "outputs": [],
   "source": [
    "zbior2 = {4, 5, 6, 7, 8, 9}"
   ]
  },
  {
   "cell_type": "markdown",
   "id": "95699758-d82b-48ff-bc07-f8a537db5c7b",
   "metadata": {},
   "source": [
    "Łączenie zbiorów Union z pominieciem duplikatow"
   ]
  },
  {
   "cell_type": "code",
   "execution_count": null,
   "id": "3311e535-4933-4a07-84b9-08657694112f",
   "metadata": {},
   "outputs": [],
   "source": [
    "zbior3 = zbior1.union(zbior2)\n",
    "zbior3"
   ]
  },
  {
   "cell_type": "markdown",
   "id": "b0a03c2e-86bd-4ed1-8589-6e0a9d7d39df",
   "metadata": {},
   "source": [
    "Intersection czesc wspolna"
   ]
  },
  {
   "cell_type": "code",
   "execution_count": null,
   "id": "b5c4e4db-9eb6-4ec5-9274-7858fe43938b",
   "metadata": {},
   "outputs": [],
   "source": [
    "zbior4 = zbior1.intersection(zbior2)\n",
    "zbior4"
   ]
  },
  {
   "cell_type": "markdown",
   "id": "745716f1-cbfe-41e2-893c-017f64a82ecd",
   "metadata": {},
   "source": [
    "Difference Co jest w jednym zbiorze a wdrugim nie difference"
   ]
  },
  {
   "cell_type": "code",
   "execution_count": null,
   "id": "e1fd6116-7430-426e-82da-ee44739df169",
   "metadata": {},
   "outputs": [],
   "source": [
    "zbior5 = zbior1.difference(zbior2)\n",
    "zbior5"
   ]
  },
  {
   "cell_type": "code",
   "execution_count": null,
   "id": "bdef5c9f-9959-405b-9db7-0f453e197588",
   "metadata": {},
   "outputs": [],
   "source": []
  },
  {
   "cell_type": "markdown",
   "id": "ee900ec7-bee5-4d2e-9543-f7a245140fba",
   "metadata": {},
   "source": []
  },
  {
   "cell_type": "markdown",
   "id": "2b6a0cc7-1a10-4f1d-bab7-72d7c652be94",
   "metadata": {},
   "source": [
    "*Date*"
   ]
  },
  {
   "cell_type": "code",
   "execution_count": null,
   "id": "5d721693-1023-4583-b96f-4e03884e7a9c",
   "metadata": {},
   "outputs": [],
   "source": [
    "from datetime import date"
   ]
  },
  {
   "cell_type": "code",
   "execution_count": null,
   "id": "767a16db-3783-44c7-af81-052b4313e6dc",
   "metadata": {},
   "outputs": [],
   "source": [
    "dzis = date.today()\n",
    "dzis"
   ]
  },
  {
   "cell_type": "code",
   "execution_count": null,
   "id": "ef32f9b6-1778-497a-9979-e0c221847b76",
   "metadata": {},
   "outputs": [],
   "source": [
    "type(dzis)"
   ]
  },
  {
   "cell_type": "code",
   "execution_count": null,
   "id": "65a5c0c7-5c52-4e9e-9867-54a8c3cf1cce",
   "metadata": {},
   "outputs": [],
   "source": [
    "print(dzis)"
   ]
  },
  {
   "cell_type": "code",
   "execution_count": null,
   "id": "297acf5d-a40c-4611-bc3e-5d8225d9f3dc",
   "metadata": {},
   "outputs": [],
   "source": [
    "dzis.year"
   ]
  },
  {
   "cell_type": "code",
   "execution_count": null,
   "id": "caec76e8-077c-42c7-a035-8c7a14f96165",
   "metadata": {},
   "outputs": [],
   "source": [
    "dzis.month"
   ]
  },
  {
   "cell_type": "code",
   "execution_count": null,
   "id": "2a69ac90-f090-4e73-8f47-28b97c22f482",
   "metadata": {},
   "outputs": [],
   "source": [
    "dzis.day"
   ]
  },
  {
   "cell_type": "markdown",
   "id": "19de9c99-34d9-4557-b1c5-4880fe3c93a7",
   "metadata": {},
   "source": [
    "przypisanie daty do zmiennej "
   ]
  },
  {
   "cell_type": "code",
   "execution_count": null,
   "id": "512c18cb-6ec2-4684-b72a-172513a92f2f",
   "metadata": {},
   "outputs": [],
   "source": [
    "jakas_data =date(2024,2,1)\n",
    "jakas_data"
   ]
  },
  {
   "cell_type": "code",
   "execution_count": null,
   "id": "5e24da35-4622-4bb1-b5f9-8f48ce8d64cf",
   "metadata": {},
   "outputs": [],
   "source": []
  },
  {
   "cell_type": "markdown",
   "id": "360bac3f-6290-45a4-b341-91e715d04c7f",
   "metadata": {},
   "source": [
    "jaki dzien tygodnia byl danej daty: dni indeksujemy od zera czyli poniedziałek to 0 "
   ]
  },
  {
   "cell_type": "code",
   "execution_count": null,
   "id": "77c0f173-a389-41f3-84f1-43470798fdb0",
   "metadata": {},
   "outputs": [],
   "source": [
    "date.weekday(jakas_data)"
   ]
  },
  {
   "cell_type": "code",
   "execution_count": null,
   "id": "95e2ba74-49e5-4085-ae12-26ab77e3edb1",
   "metadata": {},
   "outputs": [],
   "source": []
  },
  {
   "attachments": {},
   "cell_type": "markdown",
   "id": "c1af5e17-63b7-406b-8151-3d2268450779",
   "metadata": {},
   "source": [
    "zmiana zapisu daty strftime nasza data.strftime(\"format daty jaki chcemy aby przyjela\") z tabeli"
   ]
  },
  {
   "cell_type": "code",
   "execution_count": null,
   "id": "f9cb97e6-27ae-41ef-a8cc-7a54d7f43966",
   "metadata": {},
   "outputs": [],
   "source": [
    "jakas_data.strftime(\"#%y%m%a\")\n"
   ]
  },
  {
   "cell_type": "code",
   "execution_count": null,
   "id": "0365d7db-f764-406a-b05f-df6838979776",
   "metadata": {},
   "outputs": [],
   "source": []
  },
  {
   "cell_type": "markdown",
   "id": "4074b262-98c4-4143-bec1-e27032c2b006",
   "metadata": {},
   "source": [
    "# Biblioteka Time\n"
   ]
  },
  {
   "cell_type": "code",
   "execution_count": null,
   "id": "4471114e-ed69-4eb6-ac36-7005437009ed",
   "metadata": {},
   "outputs": [],
   "source": [
    "from datetime import time\n",
    "time()"
   ]
  },
  {
   "cell_type": "code",
   "execution_count": null,
   "id": "160547cb-d58e-47b1-ba32-a4d41e35c068",
   "metadata": {},
   "outputs": [],
   "source": [
    "#print(time())"
   ]
  },
  {
   "cell_type": "code",
   "execution_count": null,
   "id": "ca3c1d4e-a04e-4940-994d-a67e987e1eb5",
   "metadata": {},
   "outputs": [],
   "source": [
    "czas = time(13, 5, 40, 555)   #godzina 10 minuta 5 sekund 40 mikrosekund 4 "
   ]
  },
  {
   "cell_type": "code",
   "execution_count": null,
   "id": "6918c804-42e6-4179-8edc-5b3a22599cb2",
   "metadata": {},
   "outputs": [],
   "source": [
    "print(czas)"
   ]
  },
  {
   "cell_type": "code",
   "execution_count": null,
   "id": "001c1cfa-b1b6-409c-baf9-351427d74185",
   "metadata": {},
   "outputs": [],
   "source": [
    "czas.hour"
   ]
  },
  {
   "cell_type": "code",
   "execution_count": null,
   "id": "f210a7c5-617b-4ce4-b19b-791fc7f6f979",
   "metadata": {},
   "outputs": [],
   "source": [
    "czas.second"
   ]
  },
  {
   "cell_type": "code",
   "execution_count": null,
   "id": "325342f7-26d4-4a14-a69b-228ae71ed226",
   "metadata": {},
   "outputs": [],
   "source": [
    "czas. minute"
   ]
  },
  {
   "cell_type": "code",
   "execution_count": null,
   "id": "11c26011-78bd-45a9-9891-604cbba6a3bd",
   "metadata": {},
   "outputs": [],
   "source": [
    "czas.microsecond"
   ]
  },
  {
   "cell_type": "code",
   "execution_count": null,
   "id": "416e2003-5851-48f7-8286-75aff7d3b608",
   "metadata": {},
   "outputs": [],
   "source": [
    "czas.strftime(\"%I%#M%S\")"
   ]
  },
  {
   "cell_type": "code",
   "execution_count": null,
   "id": "759da7b7-c7c3-4caf-a010-53c8f9886ed8",
   "metadata": {},
   "outputs": [],
   "source": []
  },
  {
   "cell_type": "code",
   "execution_count": null,
   "id": "682e6954-fe5a-4c4f-aafa-e0523571ff72",
   "metadata": {},
   "outputs": [],
   "source": []
  },
  {
   "cell_type": "code",
   "execution_count": null,
   "id": "8ecf0fd5-0fab-4db3-bd7f-fa5faa248721",
   "metadata": {},
   "outputs": [],
   "source": []
  },
  {
   "cell_type": "markdown",
   "id": "04c2a321-1c0f-413c-93bf-df37753f4aee",
   "metadata": {},
   "source": [
    "# *DATETIME*"
   ]
  },
  {
   "cell_type": "code",
   "execution_count": null,
   "id": "aab5f1f5-0547-4b8a-a0e4-b03983ae364e",
   "metadata": {},
   "outputs": [],
   "source": [
    "import datetime"
   ]
  },
  {
   "cell_type": "markdown",
   "id": "434fc5b0-91c5-431c-bc72-d5a889936626",
   "metadata": {},
   "source": [
    "teraz = datetime.now()\n"
   ]
  },
  {
   "cell_type": "code",
   "execution_count": null,
   "id": "8de171f6-166d-47e8-8722-67ad19cf40ea",
   "metadata": {},
   "outputs": [],
   "source": [
    "print(teraz)"
   ]
  },
  {
   "cell_type": "code",
   "execution_count": null,
   "id": "9377162e-796b-4b9c-ac03-b7e3e4433fdd",
   "metadata": {},
   "outputs": [],
   "source": []
  },
  {
   "cell_type": "code",
   "execution_count": null,
   "id": "4d84aedb-967a-4252-ad30-8962cc826748",
   "metadata": {},
   "outputs": [],
   "source": [
    "from datetime import date\n",
    "\n",
    "today = date.today()\n",
    "print(\"Today's date:\", today)"
   ]
  },
  {
   "cell_type": "code",
   "execution_count": null,
   "id": "4daf715b-19c6-4ad6-8669-d370f9c3c67e",
   "metadata": {},
   "outputs": [],
   "source": [
    "from datetime import datetime\n",
    "\n",
    "# storing the current time in the variable\n",
    "c = datetime.now()\n",
    "c\n",
    "# Displays Time\n",
    "# current_time = c.strftime('%H:%M:%S')"
   ]
  },
  {
   "cell_type": "code",
   "execution_count": null,
   "id": "02330a09-efea-4384-9a5c-aca46752b678",
   "metadata": {},
   "outputs": [],
   "source": [
    "c.year"
   ]
  },
  {
   "cell_type": "code",
   "execution_count": null,
   "id": "7d40cca2-a64c-48d0-a6d3-35b6b08f5cf0",
   "metadata": {},
   "outputs": [],
   "source": [
    "c.month, c.day"
   ]
  },
  {
   "cell_type": "code",
   "execution_count": null,
   "id": "46a1579c-3927-46b6-9181-08c3a8a4f0c7",
   "metadata": {},
   "outputs": [],
   "source": [
    "c.month"
   ]
  },
  {
   "cell_type": "code",
   "execution_count": null,
   "id": "bd66a6ce-760b-4fdb-9599-3f587447983b",
   "metadata": {},
   "outputs": [],
   "source": [
    " c.day"
   ]
  },
  {
   "cell_type": "code",
   "execution_count": null,
   "id": "7767ad2e-6395-4e17-9f98-3c8a39e28d95",
   "metadata": {},
   "outputs": [],
   "source": [
    "datetime.date(c)"
   ]
  },
  {
   "cell_type": "code",
   "execution_count": null,
   "id": "4fc7fcba-b70f-41b3-9758-c392a1532ab9",
   "metadata": {},
   "outputs": [],
   "source": [
    "c.time()"
   ]
  },
  {
   "cell_type": "code",
   "execution_count": null,
   "id": "23d64ec7-1687-4175-abd0-18315350e214",
   "metadata": {},
   "outputs": [],
   "source": [
    "dzien2 = datetime(2002,3,1,23,58,10)"
   ]
  },
  {
   "cell_type": "code",
   "execution_count": null,
   "id": "5fea8e72-134c-400d-8e84-1ce2094a0009",
   "metadata": {},
   "outputs": [],
   "source": [
    "dzien2"
   ]
  },
  {
   "cell_type": "code",
   "execution_count": null,
   "id": "6d8bf93c-a781-4883-ab5b-be595fa0cd99",
   "metadata": {},
   "outputs": [],
   "source": []
  },
  {
   "cell_type": "code",
   "execution_count": null,
   "id": "cfa5ae8a-75a5-45d4-a08b-43b733e49e47",
   "metadata": {},
   "outputs": [],
   "source": [
    "data_string = dzien2.strftime(\"%d-%m-%y %H-%M\")"
   ]
  },
  {
   "cell_type": "code",
   "execution_count": null,
   "id": "b7570cbb-5db4-4d20-b05c-3e59371a9787",
   "metadata": {},
   "outputs": [],
   "source": [
    "data_string"
   ]
  },
  {
   "cell_type": "code",
   "execution_count": null,
   "id": "4928ac39-1af6-4c9f-9c94-b48fe661113a",
   "metadata": {},
   "outputs": [],
   "source": [
    "type(data_string)"
   ]
  },
  {
   "cell_type": "code",
   "execution_count": null,
   "id": "a118310e-78d3-443e-9963-f568f8432441",
   "metadata": {},
   "outputs": [],
   "source": [
    "type(data_string)"
   ]
  },
  {
   "cell_type": "code",
   "execution_count": null,
   "id": "13dfb0d1-ab5b-478b-bf77-ca069db5f6b6",
   "metadata": {},
   "outputs": [],
   "source": [
    "data_date = datetime.strptime(data_string, \"%d-%m-%y %H-%M\")"
   ]
  },
  {
   "cell_type": "code",
   "execution_count": null,
   "id": "264fdf5a-68a1-43bc-a4da-ec68b144a947",
   "metadata": {},
   "outputs": [],
   "source": [
    "data_date"
   ]
  },
  {
   "cell_type": "markdown",
   "id": "97234417-913a-436a-8543-d2bd6fc781e8",
   "metadata": {},
   "source": [
    "# Timedelta"
   ]
  },
  {
   "cell_type": "code",
   "execution_count": null,
   "id": "31256f0f-ab91-4c5e-87a3-25edee1d7130",
   "metadata": {},
   "outputs": [],
   "source": [
    "from datetime import timedelta, datetime"
   ]
  },
  {
   "cell_type": "code",
   "execution_count": null,
   "id": "dbc8c61a-d965-48c9-8f3f-e7471a516ad3",
   "metadata": {},
   "outputs": [],
   "source": [
    "data1 = datetime.now()\n",
    "data1"
   ]
  },
  {
   "cell_type": "code",
   "execution_count": null,
   "id": "73b5ab06-6586-40d5-94f8-914e04509f79",
   "metadata": {},
   "outputs": [],
   "source": [
    "data2 = datetime(2021, 5, 1, 11, 44, 59)\n",
    "data2"
   ]
  },
  {
   "cell_type": "code",
   "execution_count": null,
   "id": "531849d9-7727-4de6-8193-9441317e9b85",
   "metadata": {},
   "outputs": [],
   "source": [
    "data1 - data2"
   ]
  },
  {
   "cell_type": "code",
   "execution_count": null,
   "id": "58e245fa-087c-4540-930c-a2f221c3a3f8",
   "metadata": {},
   "outputs": [],
   "source": [
    "data1 + timedelta(days=10)"
   ]
  },
  {
   "cell_type": "code",
   "execution_count": null,
   "id": "9ebc282d-c564-4b81-9e38-57aef5aa81c6",
   "metadata": {},
   "outputs": [],
   "source": [
    "data1 + timedelta(days=10, hours=5, minutes=20)\n"
   ]
  },
  {
   "cell_type": "code",
   "execution_count": null,
   "id": "5a93ee3a-9a69-4110-ac4b-ad26a14ebc4f",
   "metadata": {},
   "outputs": [],
   "source": [
    "dd = data1 + timedelta(days=10, hours=5, minutes=20)\n",
    "dd"
   ]
  },
  {
   "cell_type": "code",
   "execution_count": null,
   "id": "d7a47fbd-67d7-4d47-a0cb-62f3ee088cd2",
   "metadata": {},
   "outputs": [],
   "source": [
    "td = timedelta(days=10, hours=5, minutes=20)\n",
    "td"
   ]
  },
  {
   "cell_type": "code",
   "execution_count": null,
   "id": "d7c3df3d-2b4b-44a1-8e23-ea253a8a9cd4",
   "metadata": {},
   "outputs": [],
   "source": [
    "td*5"
   ]
  },
  {
   "cell_type": "markdown",
   "id": "ae7d9e6d-d32a-4483-a355-51f77219e973",
   "metadata": {},
   "source": [
    "# Tekst operacje"
   ]
  },
  {
   "cell_type": "code",
   "execution_count": null,
   "id": "9489162b-9f3e-4c97-8116-48b4c54ca1a5",
   "metadata": {},
   "outputs": [],
   "source": []
  },
  {
   "cell_type": "code",
   "execution_count": null,
   "id": "c019379e-5691-4783-b5e3-ee802faa760e",
   "metadata": {},
   "outputs": [],
   "source": [
    "some_text = \"Ala ma kota\""
   ]
  },
  {
   "cell_type": "code",
   "execution_count": null,
   "id": "b801b925-4856-4661-aea4-e1a5ce4186d4",
   "metadata": {},
   "outputs": [],
   "source": [
    "for word in some_text:\n",
    "    print(word)"
   ]
  },
  {
   "cell_type": "code",
   "execution_count": null,
   "id": "fbac5c23-f256-477c-9c79-55e2c869ab3a",
   "metadata": {},
   "outputs": [],
   "source": [
    "len(some_text)"
   ]
  },
  {
   "cell_type": "code",
   "execution_count": null,
   "id": "4155fcca-e1c0-4922-a05a-028721836256",
   "metadata": {},
   "outputs": [],
   "source": [
    "split = some_text.split(\" \")\n",
    "split"
   ]
  },
  {
   "cell_type": "code",
   "execution_count": null,
   "id": "25cc6b36-1a02-412a-8c2d-d49fb217b013",
   "metadata": {},
   "outputs": [],
   "source": [
    "split[1]"
   ]
  },
  {
   "cell_type": "code",
   "execution_count": null,
   "id": "e4f8b7c1-8bfb-44ca-a68a-3d70c61680b8",
   "metadata": {},
   "outputs": [],
   "source": [
    "long = \" \".join(split)\n",
    "long"
   ]
  },
  {
   "cell_type": "code",
   "execution_count": null,
   "id": "f11c7863-ffb5-460b-ab6c-bae865c27e2b",
   "metadata": {},
   "outputs": [],
   "source": [
    "some_text[4:]"
   ]
  },
  {
   "cell_type": "code",
   "execution_count": null,
   "id": "a732990a-9d94-4b93-a84e-6f0cc6163804",
   "metadata": {},
   "outputs": [],
   "source": [
    "x = some_text[4:] + \" i psa\"\n",
    "x"
   ]
  },
  {
   "cell_type": "code",
   "execution_count": null,
   "id": "57fd4abc-35fd-475a-8747-6153c0b0f69c",
   "metadata": {},
   "outputs": [],
   "source": [
    "\"kota\" in x"
   ]
  },
  {
   "cell_type": "markdown",
   "id": "9989f36d-3fa3-463d-9a2f-ca1ad2120ab2",
   "metadata": {},
   "source": [
    "# Operatory if else"
   ]
  },
  {
   "cell_type": "code",
   "execution_count": null,
   "id": "ab6c01a8-f1c6-49a3-9d84-85737981f3ce",
   "metadata": {},
   "outputs": [],
   "source": []
  },
  {
   "cell_type": "code",
   "execution_count": null,
   "id": "87e76298-9117-4ebb-af13-a33fc95edce5",
   "metadata": {},
   "outputs": [],
   "source": [
    "x = int(input(f\"podaj wiek: \"))\n",
    "if x > 18:\n",
    "    print(\"OK\")\n",
    "else:\n",
    "    print(\"NIE OK\")"
   ]
  },
  {
   "cell_type": "code",
   "execution_count": null,
   "id": "3c762bac-d236-4778-a21f-a3a4518ff5eb",
   "metadata": {},
   "outputs": [],
   "source": [
    "x = int(input(f\"podaj wiek: \"))\n",
    "if x > 18: print(\"OK\")\n",
    "else: print(\"NIE OK\")"
   ]
  },
  {
   "cell_type": "code",
   "execution_count": null,
   "id": "ff63a2eb-28a8-43ba-a320-1f90949dd83e",
   "metadata": {},
   "outputs": [],
   "source": []
  },
  {
   "cell_type": "markdown",
   "id": "85457a6b-0a82-40b8-b4be-fc63ceadd4c6",
   "metadata": {},
   "source": [
    "# List Comprehensions"
   ]
  },
  {
   "cell_type": "code",
   "execution_count": null,
   "id": "c5901aa8-cd52-4ac0-b574-e8c63c7eef54",
   "metadata": {},
   "outputs": [],
   "source": []
  },
  {
   "cell_type": "code",
   "execution_count": null,
   "id": "e789083c-7a05-433b-b8f5-d45a6c3414e0",
   "metadata": {},
   "outputs": [],
   "source": [
    "numbers = []\n",
    "\n",
    "for n in range(40):\n",
    "    numbers.append(n)\n",
    "numbers"
   ]
  },
  {
   "cell_type": "code",
   "execution_count": null,
   "id": "f702f29e-7a72-45cc-af0f-45d170af9976",
   "metadata": {},
   "outputs": [],
   "source": [
    "even_numbers1 = []\n",
    "for n in numbers:\n",
    "    if n %2 == 0:\n",
    "        # print(n)\n",
    "        even_numbers1.append(n)\n",
    "even_numbers1\n",
    "        "
   ]
  },
  {
   "cell_type": "code",
   "execution_count": null,
   "id": "ea0a8efd-9d2a-42be-a860-ee3a4f69064a",
   "metadata": {},
   "outputs": [],
   "source": [
    "numbers = []\n",
    "\n",
    "for n in range(40):\n",
    "    numbers.append(n)\n",
    "even_numbers_2 = [a for a in numbers if a %2 == 0]\n",
    "even_numbers_2"
   ]
  },
  {
   "cell_type": "code",
   "execution_count": null,
   "id": "0d7f28b4-0686-4821-9237-5df9005cd4ef",
   "metadata": {},
   "outputs": [],
   "source": []
  },
  {
   "cell_type": "markdown",
   "id": "fc6a01be-c12a-4644-9936-b4dcc72f0496",
   "metadata": {},
   "source": [
    "wyrażenie(koncowe zapisane do listy)  for element in lista if warunek"
   ]
  },
  {
   "cell_type": "markdown",
   "id": "1c1d6495-2bd3-4aba-b84f-106035446a2b",
   "metadata": {},
   "source": [
    "przyklad lista liczb pomnożonych przez 2 z użyciem list comprehensions"
   ]
  },
  {
   "cell_type": "code",
   "execution_count": null,
   "id": "280b8df4-c5cf-480c-b045-aacf0351079e",
   "metadata": {},
   "outputs": [],
   "source": [
    "my_list = [0, 2, 4, 6, 8, 10, 12, 14, 16, 18, 20, 22, 24, 26, 28, 30, 32, 34, 36, 38]\n",
    "\n",
    "my_numbers = [number*2 for number in my_list ]\n",
    "my_numbers"
   ]
  },
  {
   "cell_type": "code",
   "execution_count": null,
   "id": "aee4a636-fd19-4829-bb74-ede94b37d47a",
   "metadata": {},
   "outputs": [],
   "source": []
  },
  {
   "cell_type": "code",
   "execution_count": null,
   "id": "e4c41759-adb3-4705-9390-316f180a242f",
   "metadata": {},
   "outputs": [],
   "source": [
    "my_list = [0, 2, 4, 6, 8, 10, 12, 14, 16, 18, 20, 22, 24, 26, 28, 30, 32, 34, 36, 38]\n",
    "\n",
    "my_numbers = [number**2 for number in my_list if number >10 and number < 20 ]\n",
    "my_numbers"
   ]
  },
  {
   "cell_type": "code",
   "execution_count": null,
   "id": "7ea5305e-a31f-42d7-b723-cf343de93b46",
   "metadata": {},
   "outputs": [],
   "source": []
  },
  {
   "cell_type": "code",
   "execution_count": null,
   "id": "4959b6a0-8e91-454d-b663-8ec770750300",
   "metadata": {
    "scrolled": true
   },
   "outputs": [],
   "source": [
    "imiona =['Ala', 'Ania', 'Aneta', 'Beata', 'Andrzej', 'Dorota', 'Zofia']\n",
    "\n",
    "len_names_starts_a = [len(name) for name in imiona if name[0] == 'A']\n",
    "len_names_starts_a "
   ]
  },
  {
   "cell_type": "code",
   "execution_count": null,
   "id": "79bbc797-0783-41d2-8b89-3dd796349323",
   "metadata": {},
   "outputs": [],
   "source": []
  },
  {
   "cell_type": "markdown",
   "id": "8f0f3242-272d-4112-b6b5-f2d17d9c39bd",
   "metadata": {},
   "source": [
    "Zwrocenie 0 lub 1 jesli imie zaczyna sie na A"
   ]
  },
  {
   "cell_type": "code",
   "execution_count": null,
   "id": "8304d0b2-296e-4e52-bcde-6ace191b7c6c",
   "metadata": {},
   "outputs": [],
   "source": [
    "[0 if name[0]== 'A' else 1 for name in imiona]\n"
   ]
  },
  {
   "cell_type": "code",
   "execution_count": null,
   "id": "43815819-da3f-460a-a81c-5f9c8d9e82b8",
   "metadata": {},
   "outputs": [],
   "source": []
  },
  {
   "cell_type": "markdown",
   "id": "b6893f09-f520-4aea-8343-2f7d8064f338",
   "metadata": {},
   "source": [
    "While pętla..."
   ]
  },
  {
   "cell_type": "code",
   "execution_count": null,
   "id": "6d6463e0-2590-43e5-b878-952ce8625477",
   "metadata": {},
   "outputs": [],
   "source": []
  },
  {
   "cell_type": "code",
   "execution_count": null,
   "id": "7df10e6a-91d1-4512-84bb-6bd1d93870c7",
   "metadata": {},
   "outputs": [],
   "source": [
    "print(\"Opcja A\")\n",
    "for i in range(1,6):\n",
    "    print(i)\n",
    "\n",
    "print(\"Opcja B\")\n",
    "i = 1\n",
    "while i < 6:\n",
    "    print(i)\n",
    "    i+=1"
   ]
  },
  {
   "cell_type": "markdown",
   "id": "3424818b-6e96-4ee1-9af2-0bef4846e0f8",
   "metadata": {},
   "source": [
    "Inna petla"
   ]
  },
  {
   "cell_type": "code",
   "execution_count": null,
   "id": "f5e6481b-2421-4f93-8115-78e506a74ea3",
   "metadata": {},
   "outputs": [],
   "source": [
    "i=1\n",
    "while True:\n",
    "    i+=1\n",
    "    print(i)\n",
    "    if i >5:\n",
    "        \n",
    "        break"
   ]
  },
  {
   "cell_type": "code",
   "execution_count": null,
   "id": "561a2c26-7b24-40ea-91ad-513be9dcefbd",
   "metadata": {},
   "outputs": [],
   "source": []
  },
  {
   "cell_type": "markdown",
   "id": "f2fadd4e-64b8-4ce1-aba6-6a66546d8b66",
   "metadata": {},
   "source": [
    "# Pętla while nieskonczona"
   ]
  },
  {
   "cell_type": "markdown",
   "id": "91fb6475-cf1c-439e-b53a-61a86d724910",
   "metadata": {},
   "source": []
  },
  {
   "cell_type": "code",
   "execution_count": null,
   "id": "78867865-adb7-43d9-87e5-3c606d595ee8",
   "metadata": {},
   "outputs": [],
   "source": [
    "x = 1\n",
    "\n",
    "while True:\n",
    "    if x > 5:\n",
    "        break\n",
    "    print(x)\n",
    "    x+=1\n"
   ]
  },
  {
   "cell_type": "markdown",
   "id": "9854add8-f3e1-4a1f-a3fa-7c352c577e62",
   "metadata": {},
   "source": [
    "# Funkcje"
   ]
  },
  {
   "cell_type": "markdown",
   "id": "6515542f-2ab5-44a8-963b-f37f4342b7f5",
   "metadata": {},
   "source": [
    "*zabawa printem*"
   ]
  },
  {
   "cell_type": "code",
   "execution_count": null,
   "id": "e1448ba0-b0fe-4831-a613-6b3873a0a3a0",
   "metadata": {},
   "outputs": [],
   "source": [
    "print(\"Hello\",\"\\n\",\"World!\")"
   ]
  },
  {
   "cell_type": "code",
   "execution_count": null,
   "id": "2883d66b-5829-4a9b-b45f-f6e7c59039ac",
   "metadata": {},
   "outputs": [],
   "source": [
    "print(\"hksdhfkshfshfhshf {} fsdfsdfsdfsdf\".format(500))"
   ]
  },
  {
   "cell_type": "code",
   "execution_count": null,
   "id": "c877a032-bde4-46b5-8ea1-e1012e3daa98",
   "metadata": {},
   "outputs": [],
   "source": [
    "print(\"hksdhfkshfshfhshf {} fsdfsdfs {} dfsdf\".format(500, 400))"
   ]
  },
  {
   "cell_type": "code",
   "execution_count": null,
   "id": "0fdfd58b-9c6c-4d39-9283-51b869c3792a",
   "metadata": {},
   "outputs": [],
   "source": [
    "print(\"hksdhfkshfshfhshf {number1} fsdfsdfs {number2} dfsdf\".format(number1 = 500, number2 =400))"
   ]
  },
  {
   "cell_type": "code",
   "execution_count": null,
   "id": "769d843e-118f-47ad-8fc4-34d8509cf3f8",
   "metadata": {},
   "outputs": [],
   "source": []
  },
  {
   "cell_type": "markdown",
   "id": "89763652-0fe5-46eb-9587-6cc539486b86",
   "metadata": {},
   "source": [
    "*Funkcje matematyczne*"
   ]
  },
  {
   "cell_type": "code",
   "execution_count": null,
   "id": "4481a15a-46ae-472e-ace8-ecf77949712e",
   "metadata": {},
   "outputs": [],
   "source": [
    "min(5, 10,-15, 8)"
   ]
  },
  {
   "cell_type": "code",
   "execution_count": null,
   "id": "d6e68033-9b1c-4bd7-9652-13e6bc1c42ec",
   "metadata": {},
   "outputs": [],
   "source": [
    "max(5, 10,-15, 8)"
   ]
  },
  {
   "cell_type": "code",
   "execution_count": null,
   "id": "116af254-33cd-464e-89cd-b59c3ea2837d",
   "metadata": {},
   "outputs": [],
   "source": [
    "abs(-15)"
   ]
  },
  {
   "cell_type": "code",
   "execution_count": null,
   "id": "6eb12b29-bc24-4523-b67c-4c2087eda791",
   "metadata": {},
   "outputs": [],
   "source": []
  },
  {
   "cell_type": "markdown",
   "id": "84ce0555-19a7-41b5-8704-bab2b5580d55",
   "metadata": {},
   "source": [
    "# Funkcje"
   ]
  },
  {
   "cell_type": "code",
   "execution_count": null,
   "id": "e3bd1b47-a691-41b0-94cb-4bf4c2ed9d1b",
   "metadata": {},
   "outputs": [],
   "source": [
    "suma =0\n",
    "for i in range(1,100):\n",
    "    suma+=i\n",
    "print(suma)"
   ]
  },
  {
   "cell_type": "code",
   "execution_count": null,
   "id": "d9abcb3b-4ab2-4739-9a17-3239ed01d08e",
   "metadata": {},
   "outputs": [],
   "source": [
    "def sumowanie(number):\n",
    "    sum = 0\n",
    "    for i in range(1, number):\n",
    "        sum+= i\n",
    "    return sum\n",
    "sumowanie(4)\n",
    "\n",
    "\n",
    "    "
   ]
  },
  {
   "cell_type": "code",
   "execution_count": null,
   "id": "ce62fcde-9f89-42d1-881a-e38280266979",
   "metadata": {},
   "outputs": [],
   "source": []
  },
  {
   "cell_type": "code",
   "execution_count": null,
   "id": "fc6f68ce-b4fc-442f-b21d-02062791ba16",
   "metadata": {},
   "outputs": [],
   "source": [
    "def operation(number1, number2):\n",
    "    x = number1 + number2\n",
    "    y = number1 * number2\n",
    "    return f\"The sum is {x} and the product is {y}\"\n",
    "\n",
    "operation(3,4)"
   ]
  },
  {
   "cell_type": "code",
   "execution_count": null,
   "id": "943a7006-e642-44cc-a071-dc1e7c8e5410",
   "metadata": {},
   "outputs": [],
   "source": []
  },
  {
   "cell_type": "markdown",
   "id": "ab6c7e4d-ed2c-4a2c-b0fe-d05436a8c181",
   "metadata": {},
   "source": [
    "# Lambda funkcja"
   ]
  },
  {
   "cell_type": "code",
   "execution_count": null,
   "id": "c9c8911c-a614-4c3f-988e-1204eece996c",
   "metadata": {},
   "outputs": [],
   "source": [
    "(lambda x:x**3)(10)"
   ]
  },
  {
   "cell_type": "code",
   "execution_count": null,
   "id": "c6a4202b-e3b0-4937-ad8d-5da5fa93aff6",
   "metadata": {},
   "outputs": [],
   "source": []
  },
  {
   "cell_type": "code",
   "execution_count": null,
   "id": "650347ae-4354-4487-bb60-bdabd8a7625d",
   "metadata": {},
   "outputs": [],
   "source": [
    "def func(a):\n",
    "    return a**2\n",
    "func(5)"
   ]
  },
  {
   "cell_type": "code",
   "execution_count": null,
   "id": "a2b3cd44-a4c7-4ac0-8cc3-b415c8d07974",
   "metadata": {},
   "outputs": [],
   "source": [
    "(lambda x:x**2 )(5)"
   ]
  },
  {
   "cell_type": "code",
   "execution_count": null,
   "id": "82323b45-588c-4ed1-b554-623c4fce9aa1",
   "metadata": {},
   "outputs": [],
   "source": [
    "(lambda x,y: x*y)(2,5)"
   ]
  },
  {
   "cell_type": "code",
   "execution_count": null,
   "id": "d97597ad-baa4-443e-8df1-5ca1d209eac1",
   "metadata": {},
   "outputs": [],
   "source": [
    "(lambda x,y: x+y)(2,5)"
   ]
  },
  {
   "cell_type": "code",
   "execution_count": null,
   "id": "b0a6b9da-d832-4cb7-98ce-9dd7cac0c546",
   "metadata": {},
   "outputs": [],
   "source": []
  },
  {
   "cell_type": "markdown",
   "id": "aa1efb8f-fb4f-46e0-9ddc-568506c71c92",
   "metadata": {},
   "source": [
    "Filter i lambda elementy < 10"
   ]
  },
  {
   "cell_type": "code",
   "execution_count": null,
   "id": "d1c467c9-ef42-4a63-9f4c-5b99eaa698be",
   "metadata": {},
   "outputs": [],
   "source": [
    "my_list = [3, 7, 10, 20, -5, 12, 37, 45, 1,-11]\n",
    "\n",
    "\n",
    "\n",
    "\n"
   ]
  },
  {
   "cell_type": "code",
   "execution_count": null,
   "id": "110d2344-e828-463b-a281-ac89b6ac06d8",
   "metadata": {},
   "outputs": [],
   "source": [
    "# sposob klasyczny:\n",
    "\n",
    "my_list = [3, 7, 10, 20, -5, 12, 37, 45, 1,-11]\n",
    "my_nd_list =[]\n",
    "for number in my_list:\n",
    "    if number <10:\n",
    "        my_nd_list.append(number)\n",
    "my_nd_list\n",
    "\n",
    "\n"
   ]
  },
  {
   "cell_type": "markdown",
   "id": "4613419a-8efa-4cd3-8016-77f45389f54e",
   "metadata": {},
   "source": [
    "list comprehension opcja br 2\n"
   ]
  },
  {
   "cell_type": "code",
   "execution_count": null,
   "id": "7511baa1-a4e7-41a9-8650-2a0f0a19d495",
   "metadata": {},
   "outputs": [],
   "source": [
    "my_list = [3, 7, 10, 20, -5, 12, 37, 45, 1,-11]\n",
    "my_numbers = [number for number in my_list if number <10]\n",
    "my_numbers"
   ]
  },
  {
   "cell_type": "markdown",
   "id": "87b4e20c-6ac5-43b9-b516-9a668c2ec7b2",
   "metadata": {},
   "source": [
    "FILTER"
   ]
  },
  {
   "cell_type": "code",
   "execution_count": null,
   "id": "66ba0173-32b8-4755-82dd-d78dc9b91849",
   "metadata": {},
   "outputs": [],
   "source": [
    "my_list = [3, 7, 10, 20, -5, 12, 37, 45, 1,-11]\n",
    "#lista po filtrowaniu x<10 z listy my_list\n",
    "list(filter(lambda x: x<10, my_list))"
   ]
  },
  {
   "cell_type": "markdown",
   "id": "f7e3e0dc-624b-4922-9a71-b1fea0cf1e24",
   "metadata": {},
   "source": [
    "# map"
   ]
  },
  {
   "cell_type": "code",
   "execution_count": null,
   "id": "d5333421-a241-4852-a061-9b6ee4549ad7",
   "metadata": {},
   "outputs": [],
   "source": [
    "# kwadrat liczb z użyciem map lambda jako argument"
   ]
  },
  {
   "cell_type": "code",
   "execution_count": null,
   "id": "06ea0d7e-3b96-4327-8145-67ba0378858c",
   "metadata": {},
   "outputs": [],
   "source": []
  },
  {
   "cell_type": "code",
   "execution_count": null,
   "id": "f73901dc-70d6-4b2b-ad0c-5886b30cf713",
   "metadata": {},
   "outputs": [],
   "source": [
    "my_list = [3, 7, 10, 20, -5, 12, 37, 45, 1,-11]\n",
    "# lista po mapowaniu x w x2 po liscie my_list\n",
    "list(map(lambda x: x*x, my_list))"
   ]
  },
  {
   "cell_type": "code",
   "execution_count": null,
   "id": "ec15a0a0-b397-4f4a-8388-6d31407b0b22",
   "metadata": {},
   "outputs": [],
   "source": []
  },
  {
   "cell_type": "markdown",
   "id": "69a551e9-34bb-4dff-871c-042819dd3bc4",
   "metadata": {},
   "source": [
    "# Reduce\n"
   ]
  },
  {
   "cell_type": "markdown",
   "id": "d5ce5fca-443d-49d5-b610-23d074c5b175",
   "metadata": {},
   "source": [
    "*Agregacja elementów z początkowej listy do liczby*"
   ]
  },
  {
   "cell_type": "code",
   "execution_count": null,
   "id": "df5af457-824f-4f8f-af0d-a04e76beabd1",
   "metadata": {},
   "outputs": [],
   "source": [
    "from functools import reduce\n",
    "my_list = [3, 7, 10, 20, -5, 12, 37, 45, 1,-11]\n",
    "reduce(lambda x,y: x+y, my_list)\n",
    "\n",
    "\n",
    "\n"
   ]
  },
  {
   "cell_type": "markdown",
   "id": "65a9b633-7a5b-4d53-ac6f-80709ceb2337",
   "metadata": {},
   "source": [
    "# Funkcje z nieznana liczbą argumentów"
   ]
  },
  {
   "cell_type": "code",
   "execution_count": null,
   "id": "1e20be28-d969-44df-a3d0-0c42a15a4eb3",
   "metadata": {},
   "outputs": [],
   "source": [
    "# * args Nie wiemy ile jest argumentów. args argumenty spakowane do tupli"
   ]
  },
  {
   "cell_type": "code",
   "execution_count": null,
   "id": "68985296-00e3-48a4-8dc7-b882d8876018",
   "metadata": {},
   "outputs": [],
   "source": [
    "def suma(*liczby):\n",
    "    suma = 0\n",
    "    for i in liczby:\n",
    "        suma += i\n",
    "\n",
    "    return suma\n",
    "\n",
    "suma(1,2,3,4)"
   ]
  },
  {
   "cell_type": "code",
   "execution_count": null,
   "id": "126566d2-43ff-43e7-a612-4321026989c0",
   "metadata": {},
   "outputs": [],
   "source": [
    "# ** kwargs  argumenty przekazane do funkcji w psotaci do dicta klucz:wartość\n"
   ]
  },
  {
   "cell_type": "code",
   "execution_count": null,
   "id": "9f65ea26-f608-4912-b185-3e092673d82f",
   "metadata": {},
   "outputs": [],
   "source": [
    "def parametry(**params):\n",
    "    for key,value in params.items():\n",
    "        print('Klucz:', key, 'Wartosc:', value)\n",
    "\n",
    "parametry(Ala=1, Olo=2, Bolek=3)"
   ]
  },
  {
   "cell_type": "code",
   "execution_count": null,
   "id": "5c12edb9-8285-4fe2-84b2-f6fac76a0fb3",
   "metadata": {},
   "outputs": [],
   "source": []
  },
  {
   "cell_type": "code",
   "execution_count": null,
   "id": "0b4ae7e0-5ee7-4e30-9b8e-93c33ffe5525",
   "metadata": {},
   "outputs": [],
   "source": [
    "def mnozenie(*liczby):\n",
    "    iloczyn = 1\n",
    "    for i in liczby:\n",
    "        iloczyn *= i\n",
    "    return iloczyn\n",
    "\n",
    "mnozenie(5)\n",
    "    \n",
    "    "
   ]
  },
  {
   "cell_type": "markdown",
   "id": "bc42e049-09c9-4c39-b3fa-621a30f30b25",
   "metadata": {},
   "source": [
    "# Numpy i Pandas "
   ]
  },
  {
   "cell_type": "code",
   "execution_count": null,
   "id": "9e641cc4-6faa-451a-a0cb-50b0265bf9c4",
   "metadata": {},
   "outputs": [],
   "source": [
    "# np.array() wymaga podania konkretnych wartości"
   ]
  },
  {
   "cell_type": "code",
   "execution_count": null,
   "id": "68d49358-1f34-4ee9-8998-b053d85a299a",
   "metadata": {},
   "outputs": [],
   "source": [
    "import numpy as np\n",
    "\n",
    "# tworzymy tablice\n",
    "\n",
    "x = np.array([1, 2, 3, 4, 5])   #tablica jednowymairowa\n",
    "x"
   ]
  },
  {
   "cell_type": "code",
   "execution_count": null,
   "id": "be9865c7-42cb-4bc5-9ded-237d8cc519f8",
   "metadata": {},
   "outputs": [],
   "source": [
    "y = np.array([[1, 2, 3], [4, 5, 6], [7, 8, 9]])\n",
    "y"
   ]
  },
  {
   "cell_type": "code",
   "execution_count": null,
   "id": "d4a4ae45-bf0f-413c-b1d8-04ee6acf3e68",
   "metadata": {},
   "outputs": [],
   "source": [
    "y[1,1]"
   ]
  },
  {
   "cell_type": "code",
   "execution_count": null,
   "id": "ae4e81a3-226f-4a0e-9492-651427040f4f",
   "metadata": {},
   "outputs": [],
   "source": [
    "y[0,0]"
   ]
  },
  {
   "cell_type": "code",
   "execution_count": null,
   "id": "17c5bb8e-258f-4eef-860a-457cd213febf",
   "metadata": {},
   "outputs": [],
   "source": [
    "# np.arrange-zwraca liczby z konkretnego przedziału"
   ]
  },
  {
   "cell_type": "code",
   "execution_count": null,
   "id": "5c34f20d-bc66-47c5-8f4b-083d1752ccf3",
   "metadata": {},
   "outputs": [],
   "source": [
    "np.arange(5)\n"
   ]
  },
  {
   "cell_type": "code",
   "execution_count": null,
   "id": "99fe33b7-a054-45e3-9e60-2d7b393a780e",
   "metadata": {},
   "outputs": [],
   "source": [
    "#dostaliśmy macierz jednowymiarową od zero do 4"
   ]
  },
  {
   "cell_type": "code",
   "execution_count": null,
   "id": "84d1c408-ce98-4734-a08f-2431955ff494",
   "metadata": {},
   "outputs": [],
   "source": [
    "np.arange(2)"
   ]
  },
  {
   "cell_type": "code",
   "execution_count": null,
   "id": "0db4e972-1180-47cf-a1da-d47bd1bac5b8",
   "metadata": {},
   "outputs": [],
   "source": [
    "np.arange(1,10) #przedział od do w nawiasie bez ostatniej liczby"
   ]
  },
  {
   "cell_type": "code",
   "execution_count": null,
   "id": "b6e68b82-20ba-490c-8826-886937bc76cf",
   "metadata": {},
   "outputs": [],
   "source": []
  },
  {
   "cell_type": "code",
   "execution_count": null,
   "id": "583103da-46db-418a-89d7-12fa04ca3d50",
   "metadata": {},
   "outputs": [],
   "source": [
    "np.arange(1,20,2) #przedział od do w nawiasie bez ostatniej liczby i ze skokiem co 2"
   ]
  },
  {
   "cell_type": "code",
   "execution_count": null,
   "id": "fd035a95-e3e5-4462-9dcc-6bea5baecc85",
   "metadata": {},
   "outputs": [],
   "source": []
  },
  {
   "cell_type": "code",
   "execution_count": null,
   "id": "b007e71f-58cc-410c-aafe-58dc3df2f7e2",
   "metadata": {},
   "outputs": [],
   "source": [
    "# np.linspace() zwraca równo rozmieszczone elementy w podanym rpzedziale"
   ]
  },
  {
   "cell_type": "code",
   "execution_count": null,
   "id": "4c6d63e4-47f0-471b-a097-97c47db87af8",
   "metadata": {},
   "outputs": [],
   "source": [
    "x = np.linspace(0,100)   #elementy ze zbioru od 0 do 100 równo rozmieszczone od 0 do 100\n",
    "x"
   ]
  },
  {
   "cell_type": "code",
   "execution_count": null,
   "id": "189716ad-3c19-4322-9461-c2317f7d2c58",
   "metadata": {},
   "outputs": [],
   "source": [
    "len(x)    #ile elementów"
   ]
  },
  {
   "cell_type": "code",
   "execution_count": null,
   "id": "34ba904f-a670-452a-8229-45b20a74d9c2",
   "metadata": {},
   "outputs": [],
   "source": [
    "y = np.linspace(0,100,20 )   #elementy ze zbioru od 0 do 100 równo rozmieszczone od 0 do 100 ale tylko 20 ich jest\n",
    "y"
   ]
  },
  {
   "cell_type": "code",
   "execution_count": null,
   "id": "2ca6ff95-dd5d-4384-93c0-cc8c3c9c79de",
   "metadata": {},
   "outputs": [],
   "source": []
  },
  {
   "cell_type": "code",
   "execution_count": null,
   "id": "894f11a7-dbd0-4acd-b067-23ef068d7bc4",
   "metadata": {},
   "outputs": [],
   "source": []
  },
  {
   "cell_type": "markdown",
   "id": "76881837-3a10-4ade-8a75-586a30467b63",
   "metadata": {},
   "source": [
    "# Tworzenie tablic ndarray"
   ]
  },
  {
   "cell_type": "code",
   "execution_count": null,
   "id": "1ecd6350-119d-4d5f-b4f4-7a862e51a38c",
   "metadata": {},
   "outputs": [],
   "source": [
    "import numpy as np\n"
   ]
  },
  {
   "cell_type": "code",
   "execution_count": null,
   "id": "851f7a74-98fd-484e-9347-4de12830108d",
   "metadata": {},
   "outputs": [],
   "source": [
    "# np.zeros"
   ]
  },
  {
   "cell_type": "code",
   "execution_count": null,
   "id": "f36adec5-ab2f-4493-b93b-6c6d3b4acaf0",
   "metadata": {},
   "outputs": [],
   "source": [
    "np.zeros((5,5))   #w nawiasie wewnetrznym podajemy wymiery tablicy"
   ]
  },
  {
   "cell_type": "code",
   "execution_count": null,
   "id": "0be2ba88-89b6-4418-9f96-01746c98e0c5",
   "metadata": {},
   "outputs": [],
   "source": [
    "# np.zeros"
   ]
  },
  {
   "cell_type": "code",
   "execution_count": null,
   "id": "b6071f15-4292-4b92-8ccd-a97cec630713",
   "metadata": {},
   "outputs": [],
   "source": [
    "np.ones((9,9))          #w nawiasie wewnetrznym podajemy wymiery tablicy"
   ]
  },
  {
   "cell_type": "code",
   "execution_count": null,
   "id": "82b5ab49-e932-4227-ad63-d038d7b49635",
   "metadata": {},
   "outputs": [],
   "source": [
    "# np.random.random"
   ]
  },
  {
   "cell_type": "code",
   "execution_count": null,
   "id": "4fe26852-6d29-4bd0-943d-2c96d474310c",
   "metadata": {},
   "outputs": [],
   "source": [
    "np.random.random((3,7))          #w nawiasie wewnetrznym podajemy wymiery tablicy"
   ]
  },
  {
   "cell_type": "markdown",
   "id": "026d717f-23b5-4b87-864d-c5f8cf3eacb4",
   "metadata": {},
   "source": [
    "# Operacje na tablicach"
   ]
  },
  {
   "cell_type": "code",
   "execution_count": null,
   "id": "ba43a0d1-b8ab-40a9-a3a4-9a242294b5c4",
   "metadata": {},
   "outputs": [],
   "source": []
  },
  {
   "cell_type": "code",
   "execution_count": null,
   "id": "604af105-0a5f-4cc1-bedb-7a6a6c0517ff",
   "metadata": {},
   "outputs": [],
   "source": [
    "# Dodawanie tablic\n"
   ]
  },
  {
   "cell_type": "code",
   "execution_count": null,
   "id": "ac1117ec-5a47-4d6a-9a76-d0c0f5077149",
   "metadata": {},
   "outputs": [],
   "source": [
    "import numpy as np\n"
   ]
  },
  {
   "cell_type": "code",
   "execution_count": null,
   "id": "bb405357-e607-4f83-83f3-dc80e562b4f8",
   "metadata": {},
   "outputs": [],
   "source": [
    "a = np.array([[1, 2, 3], [4, 5, 6], [7, 8, 9]])\n",
    "b = np.array([[1, 1, 1], [2, 2, 2], [3, 3, 3]])\n",
    "c = a + b\n",
    "c"
   ]
  },
  {
   "cell_type": "code",
   "execution_count": null,
   "id": "315db7cf-99f3-4a50-a20b-b6fd39ad314b",
   "metadata": {},
   "outputs": [],
   "source": [
    "# odejmowanie tablic"
   ]
  },
  {
   "cell_type": "code",
   "execution_count": null,
   "id": "21a3716b-d48b-46f6-962d-d881955cfa95",
   "metadata": {},
   "outputs": [],
   "source": [
    "a = np.array([[1, 2, 3], [4, 5, 6], [7, 8, 9]])\n",
    "b = np.array([[1, 1, 1], [2, 2, 2], [3, 3, 3]])\n",
    "c = a - b\n",
    "c"
   ]
  },
  {
   "cell_type": "code",
   "execution_count": null,
   "id": "73fdb5b4-f63b-46c7-ad97-4d7daa005ca4",
   "metadata": {},
   "outputs": [],
   "source": []
  },
  {
   "cell_type": "code",
   "execution_count": null,
   "id": "a48aa5fb-fd47-4a8f-b5d7-ca28dc6ef5c2",
   "metadata": {},
   "outputs": [],
   "source": [
    "# mnożenie tablic każdego elementu przez siebie czyli pierwszy wiersz jest bz bo mnożymy przez 1,1,1 to nie typowe mnozenie matematyczne"
   ]
  },
  {
   "cell_type": "code",
   "execution_count": null,
   "id": "96504744-4dcb-41f4-aeae-f1526fb913fe",
   "metadata": {},
   "outputs": [],
   "source": [
    "a = np.array([[1, 2, 3], [4, 5, 6], [7, 8, 9]])\n",
    "b = np.array([[1, 1, 1], [2, 2, 2], [3, 3, 3]])\n",
    "c = a * b\n",
    "c"
   ]
  },
  {
   "cell_type": "code",
   "execution_count": null,
   "id": "c7c0bf59-a1d0-4926-80d3-37642823c30f",
   "metadata": {},
   "outputs": [],
   "source": [
    " # mnozenie matematyczne to np.matmul(a,b)"
   ]
  },
  {
   "cell_type": "code",
   "execution_count": null,
   "id": "fe61d394-e132-4255-9156-d956d79a76bb",
   "metadata": {},
   "outputs": [],
   "source": [
    "d = np.array([[1, 2, 3],[5,3,2],[8,9,0]])\n",
    "a = np.array([[1, 2, 3], [4, 5, 6], [7, 8, 9]])"
   ]
  },
  {
   "cell_type": "code",
   "execution_count": null,
   "id": "4d7edc99-be30-49dc-a158-8a44c32e9044",
   "metadata": {},
   "outputs": [],
   "source": [
    "f =np.matmul(a,d)\n",
    "f"
   ]
  },
  {
   "cell_type": "code",
   "execution_count": null,
   "id": "226daa10-c403-4612-8188-fc13800cf1c1",
   "metadata": {},
   "outputs": [],
   "source": [
    "# Transpozycja\n",
    "a = np.array([[1, 2, 3], [4, 5, 6], [7, 8, 9]])\n",
    "z = a.T\n",
    "z"
   ]
  },
  {
   "cell_type": "code",
   "execution_count": null,
   "id": "558c6a45-b3d7-4bc5-9fa8-5016779560cc",
   "metadata": {},
   "outputs": [],
   "source": [
    "#rozmiar tablicy"
   ]
  },
  {
   "cell_type": "code",
   "execution_count": null,
   "id": "e05d6a81-f71c-420e-9889-06809b03a0c5",
   "metadata": {},
   "outputs": [],
   "source": [
    "np.size(z)"
   ]
  },
  {
   "cell_type": "code",
   "execution_count": null,
   "id": "3f72bdc4-20bb-4093-b9df-f5725618ee07",
   "metadata": {},
   "outputs": [],
   "source": [
    "#sprawdzenie warunku liczb w tablicy"
   ]
  },
  {
   "cell_type": "code",
   "execution_count": null,
   "id": "4fb53edd-3c4b-4526-9cb7-7c2b3c9ba7af",
   "metadata": {},
   "outputs": [],
   "source": [
    "z<3"
   ]
  },
  {
   "cell_type": "code",
   "execution_count": null,
   "id": "4cd7407c-2a37-4fc6-aab3-b715795a99e5",
   "metadata": {},
   "outputs": [],
   "source": []
  },
  {
   "cell_type": "markdown",
   "id": "f08cb022-d79d-4252-9b29-26b41343b9db",
   "metadata": {},
   "source": [
    "# Poruszanie sie po tablicach"
   ]
  },
  {
   "cell_type": "code",
   "execution_count": null,
   "id": "d8a12ea5-7dd9-4975-b16c-183caa58a1ff",
   "metadata": {},
   "outputs": [],
   "source": [
    "# Tablica jednowymiarowa"
   ]
  },
  {
   "cell_type": "code",
   "execution_count": null,
   "id": "0e1d874f-bfab-4f42-8e6d-2c4d8bb0222b",
   "metadata": {},
   "outputs": [],
   "source": [
    "import numpy as np"
   ]
  },
  {
   "cell_type": "code",
   "execution_count": null,
   "id": "2ba66e2b-ba92-4c24-9fa9-99c260b704ef",
   "metadata": {},
   "outputs": [],
   "source": [
    "a = np.array([1, 2, 3, 4, 5, 6, 7])\n",
    "#wybieramy elementy od 0 do 1 wlącznie czyli \n",
    "a[0:2]\n"
   ]
  },
  {
   "cell_type": "code",
   "execution_count": null,
   "id": "893776ea-c1be-44f4-bb28-40ca9407974d",
   "metadata": {},
   "outputs": [],
   "source": [
    "a[1:2]"
   ]
  },
  {
   "cell_type": "code",
   "execution_count": null,
   "id": "fab8c67f-6175-4b8a-af87-72f09993c68d",
   "metadata": {},
   "outputs": [],
   "source": [
    "a[1:-1]"
   ]
  },
  {
   "cell_type": "code",
   "execution_count": null,
   "id": "d5ee17c4-2adb-4f03-93b9-1aad3ec47ca0",
   "metadata": {},
   "outputs": [],
   "source": [
    "#tablica wielowymiarowa"
   ]
  },
  {
   "cell_type": "code",
   "execution_count": null,
   "id": "0802e7ea-e518-4347-af2e-b892163e79ef",
   "metadata": {},
   "outputs": [],
   "source": [
    "c = np.array([[1, 2, 3, 4], [5, 6, 7,8], [9, 10, 11, 12]])  #podwójne nawiasy\n",
    "c"
   ]
  },
  {
   "cell_type": "code",
   "execution_count": null,
   "id": "c4ec3c0a-567c-49e8-bfe3-0386f97735a3",
   "metadata": {},
   "outputs": [],
   "source": [
    "# wyswietl 2 pierwsze wiersze i wszystkie kolumny"
   ]
  },
  {
   "cell_type": "code",
   "execution_count": null,
   "id": "c9d5c966-f10e-4f3b-acdb-20562287abe3",
   "metadata": {},
   "outputs": [],
   "source": [
    "c[[0,1][0:4]]"
   ]
  },
  {
   "cell_type": "code",
   "execution_count": null,
   "id": "bad06962-08b5-4ad8-93f3-cb2b6f87f741",
   "metadata": {},
   "outputs": [],
   "source": [
    "#opcja b wszystkie kolumny to je pomijamy wiesze 2 pierwsze czyli 0,1 i drugi nie wchodzi czyli od zera : do 2 bez 2."
   ]
  },
  {
   "cell_type": "code",
   "execution_count": null,
   "id": "ef629736-224e-4ef9-bcf9-159205c98959",
   "metadata": {},
   "outputs": [],
   "source": [
    "c[:2]"
   ]
  },
  {
   "cell_type": "code",
   "execution_count": null,
   "id": "394034bb-56a6-4e3c-b848-9cdc05a182e7",
   "metadata": {},
   "outputs": [],
   "source": [
    "# opcja inna c "
   ]
  },
  {
   "cell_type": "code",
   "execution_count": null,
   "id": "f4cfafd3-eed1-44de-bce7-73ddfe38a7f3",
   "metadata": {
    "scrolled": true
   },
   "outputs": [],
   "source": [
    "c[0:2, :4]"
   ]
  },
  {
   "cell_type": "code",
   "execution_count": null,
   "id": "e4f913e0-daea-41de-af2b-7b7487e32823",
   "metadata": {},
   "outputs": [],
   "source": []
  },
  {
   "cell_type": "code",
   "execution_count": null,
   "id": "35a5b72b-3d00-41c7-8813-e23180c809df",
   "metadata": {},
   "outputs": [],
   "source": [
    "c[1:3,:2]"
   ]
  },
  {
   "cell_type": "code",
   "execution_count": null,
   "id": "f8829334-c409-4d61-940f-2aabe07fe095",
   "metadata": {},
   "outputs": [],
   "source": [
    "# iterowanie pętlą po tablicach wielowymiarowych"
   ]
  },
  {
   "cell_type": "code",
   "execution_count": null,
   "id": "182fe4be-9d5d-4029-9e0b-5b71026d1e11",
   "metadata": {},
   "outputs": [],
   "source": [
    "c = np.array([[1, 2, 3, 4], [5, 6, 7,8], [9, 10, 11, 12]])  #podwójne nawiasy\n"
   ]
  },
  {
   "cell_type": "code",
   "execution_count": null,
   "id": "d28a1084-8845-4fff-8031-3749a133de3e",
   "metadata": {},
   "outputs": [],
   "source": [
    "# printowanie el."
   ]
  },
  {
   "cell_type": "code",
   "execution_count": null,
   "id": "f7b8164d-09dc-4264-9b17-439a5dc3121d",
   "metadata": {},
   "outputs": [],
   "source": [
    "for i in c:\n",
    "    for j in i:\n",
    "        print(j)"
   ]
  },
  {
   "cell_type": "code",
   "execution_count": null,
   "id": "12e8dc2b-e977-4e3c-8e87-f8371652cc8c",
   "metadata": {},
   "outputs": [],
   "source": [
    "# printowanie el z załozeniem"
   ]
  },
  {
   "cell_type": "code",
   "execution_count": null,
   "id": "64381a15-5bf3-4358-85a2-086303614790",
   "metadata": {},
   "outputs": [],
   "source": [
    "for i in c:\n",
    "    for j in i:\n",
    "        if j >5:\n",
    "            print(j)"
   ]
  },
  {
   "cell_type": "code",
   "execution_count": null,
   "id": "f518129f-92ec-4bd3-ba3b-11297f86554a",
   "metadata": {},
   "outputs": [],
   "source": [
    "# sumwoanei el"
   ]
  },
  {
   "cell_type": "code",
   "execution_count": null,
   "id": "bd78c73e-36ee-4d2a-987e-8d43f6ebc519",
   "metadata": {},
   "outputs": [],
   "source": [
    "suma=0\n",
    "for i in c:\n",
    "    for j in i:\n",
    "        suma += j\n",
    "        print(j)\n",
    "print(suma)\n"
   ]
  },
  {
   "cell_type": "code",
   "execution_count": null,
   "id": "60fd64ff-696b-4847-8364-3299ba494c24",
   "metadata": {},
   "outputs": [],
   "source": []
  },
  {
   "cell_type": "markdown",
   "id": "802a898b-77c8-4bba-922b-27de24a119ef",
   "metadata": {},
   "source": [
    "# Przegląd dostępnych funkcji działajacych na tablicach wielowymiarowych"
   ]
  },
  {
   "cell_type": "code",
   "execution_count": null,
   "id": "bbf0e383-8383-488a-8de1-da0a5b44cace",
   "metadata": {},
   "outputs": [],
   "source": [
    "#reshape"
   ]
  },
  {
   "cell_type": "code",
   "execution_count": null,
   "id": "22c96888-1ecc-49f4-a14f-f6d7b4b6ded9",
   "metadata": {},
   "outputs": [],
   "source": [
    "import numpy as np\n"
   ]
  },
  {
   "cell_type": "code",
   "execution_count": null,
   "id": "9fbd06de-2445-4254-8369-b04158cfbe51",
   "metadata": {},
   "outputs": [],
   "source": [
    "x = np.arange(1,19)\n",
    "x"
   ]
  },
  {
   "cell_type": "code",
   "execution_count": null,
   "id": "ea212066-bd7e-4351-9e22-06e13d975392",
   "metadata": {},
   "outputs": [],
   "source": [
    "y = np.array([[1, 2, 3, 4], [5, 6, 7, 8], [9, 10, 11, 12]])\n",
    "y"
   ]
  },
  {
   "cell_type": "code",
   "execution_count": null,
   "id": "8aba7b49-8e8e-44ef-9830-87b038e12ea7",
   "metadata": {},
   "outputs": [],
   "source": [
    "#Reshape tablicy x do 3x6 tez bedzie 18el. jak rozmiar nie apsuje elementom to zwraca error VauleError\n"
   ]
  },
  {
   "cell_type": "code",
   "execution_count": null,
   "id": "4c4b3620-c54a-46d0-8e00-eb0d89380071",
   "metadata": {},
   "outputs": [],
   "source": [
    "x.reshape(3,6)\n"
   ]
  },
  {
   "cell_type": "code",
   "execution_count": null,
   "id": "c555c448-5142-485f-8b59-063d2906b4e0",
   "metadata": {},
   "outputs": [],
   "source": [
    "y.reshape(2,6)"
   ]
  },
  {
   "cell_type": "code",
   "execution_count": null,
   "id": "52ef8785-0bd8-46de-ad2b-68729e1bca93",
   "metadata": {},
   "outputs": [],
   "source": []
  },
  {
   "cell_type": "code",
   "execution_count": null,
   "id": "5294807a-2c66-4716-90f4-1e90386797e7",
   "metadata": {},
   "outputs": [],
   "source": [
    "# Funkcje matematyczne"
   ]
  },
  {
   "cell_type": "code",
   "execution_count": null,
   "id": "1ee444fb-2f19-4c2c-999f-966262a5c5e5",
   "metadata": {},
   "outputs": [],
   "source": [
    "x.min(), x.max(), x.mean(), x.sum()"
   ]
  },
  {
   "cell_type": "code",
   "execution_count": null,
   "id": "5c0a172c-c914-466f-8a1e-72fc0dc93dcb",
   "metadata": {},
   "outputs": [],
   "source": [
    "# where zwraca nam el. pod wplywem warunku"
   ]
  },
  {
   "cell_type": "code",
   "execution_count": null,
   "id": "5ca29212-af1b-42ed-b3dd-57e2af3859d6",
   "metadata": {},
   "outputs": [],
   "source": [
    "np.where(y<=3,y, y*2)  #w tablicy y zwróci liczby y<=3 i wyswiet je y w innym razie pomnż y*2"
   ]
  },
  {
   "cell_type": "code",
   "execution_count": null,
   "id": "6f62effc-e254-4e29-82b2-618985e44b09",
   "metadata": {},
   "outputs": [],
   "source": [
    "#zagnieżdzanie funkcji where w drugiej funkcji"
   ]
  },
  {
   "cell_type": "code",
   "execution_count": null,
   "id": "d6b60aea-e25b-4a11-9b9c-55402d05e294",
   "metadata": {},
   "outputs": [],
   "source": [
    "y"
   ]
  },
  {
   "cell_type": "code",
   "execution_count": null,
   "id": "7e80905b-5456-48c1-a3a7-e5d3babcda18",
   "metadata": {},
   "outputs": [],
   "source": [
    "#wyświetl liczby z tablicy y mniejsze równe 3 i wyswietl liczby mniejsze równe 10 z tablicy y pomnożone przez dwa \n",
    "# a jak takich nie ma to to liczy y pomnozone przez 3"
   ]
  },
  {
   "cell_type": "code",
   "execution_count": null,
   "id": "86f24a38-8da8-4e52-9d89-7034c3de4e81",
   "metadata": {},
   "outputs": [],
   "source": [
    "\n",
    "np.where(y<=3, y, np.where(y<=10, y*2, y*3))"
   ]
  },
  {
   "cell_type": "code",
   "execution_count": null,
   "id": "417e8e2f-548d-4c81-8d43-50c35930c5c5",
   "metadata": {},
   "outputs": [],
   "source": []
  },
  {
   "cell_type": "markdown",
   "id": "b2be921d-9b81-4611-8ec1-bc3192da9c75",
   "metadata": {},
   "source": [
    "# Pandas powtórka podstaw"
   ]
  },
  {
   "cell_type": "markdown",
   "id": "6cf10e1d-1cd6-4932-88f0-64ea21a5fc44",
   "metadata": {},
   "source": [
    "*Series*"
   ]
  },
  {
   "cell_type": "code",
   "execution_count": null,
   "id": "e594a91c-2189-4848-8428-98a2277591e1",
   "metadata": {},
   "outputs": [],
   "source": [
    "import  pandas as pd"
   ]
  },
  {
   "cell_type": "code",
   "execution_count": null,
   "id": "40a92371-915c-4b34-a519-749b2b277748",
   "metadata": {},
   "outputs": [],
   "source": []
  },
  {
   "cell_type": "code",
   "execution_count": null,
   "id": "33208129-38d6-4ce5-9658-408ccdb22d18",
   "metadata": {},
   "outputs": [],
   "source": [
    "# Series sposób bezpośredni"
   ]
  },
  {
   "cell_type": "code",
   "execution_count": null,
   "id": "c9f60e01-b474-406b-8c19-6a7f7fed6929",
   "metadata": {},
   "outputs": [],
   "source": [
    "x = pd.Series([1, 2, 3, 4, 5])\n",
    "x"
   ]
  },
  {
   "cell_type": "code",
   "execution_count": null,
   "id": "aded3289-447f-4f42-a0d0-93fd25a34d92",
   "metadata": {},
   "outputs": [],
   "source": [
    "# etykiety pierwsze z lewej przypisały sie od 0 do 4 czyli działa poprawnie :)"
   ]
  },
  {
   "cell_type": "code",
   "execution_count": null,
   "id": "ee365d4b-e0c5-4d26-a15b-c20660b005b5",
   "metadata": {},
   "outputs": [],
   "source": [
    "x = pd.Series([1, 2, 3, 4, 5], index =['a', 'b', 'c', 'd', 'e'])\n",
    "x"
   ]
  },
  {
   "cell_type": "code",
   "execution_count": null,
   "id": "4f421ea2-3833-4d86-927e-0219bfaf691f",
   "metadata": {},
   "outputs": [],
   "source": [
    "# etykiety pierwsze z lewej przypisane ręcznie"
   ]
  },
  {
   "cell_type": "code",
   "execution_count": null,
   "id": "52b9a757-0748-447a-b504-e90945f741fc",
   "metadata": {},
   "outputs": [],
   "source": [
    "# wyświetlanie etykiet"
   ]
  },
  {
   "cell_type": "code",
   "execution_count": null,
   "id": "c28e833f-39b4-4c2a-8259-cde2e5debf17",
   "metadata": {},
   "outputs": [],
   "source": [
    "x.index "
   ]
  },
  {
   "cell_type": "code",
   "execution_count": null,
   "id": "3c6f14eb-8cfd-48c3-9294-b71af917d5f3",
   "metadata": {},
   "outputs": [],
   "source": [
    "# efekt: Index(['a', 'b', 'c', 'd', 'e'], dtype='object')"
   ]
  },
  {
   "cell_type": "code",
   "execution_count": null,
   "id": "4d737b4b-24c2-4e72-a87c-6361322f635c",
   "metadata": {},
   "outputs": [],
   "source": []
  },
  {
   "cell_type": "code",
   "execution_count": null,
   "id": "ada26e25-6a9b-476d-8fde-6f36f768c0ee",
   "metadata": {},
   "outputs": [],
   "source": [
    "x.values"
   ]
  },
  {
   "cell_type": "code",
   "execution_count": null,
   "id": "69303c64-f571-4b83-90a6-f47d7f469e65",
   "metadata": {},
   "outputs": [],
   "source": [
    "# efekt array([1, 2, 3, 4, 5], dtype=int64)"
   ]
  },
  {
   "cell_type": "code",
   "execution_count": null,
   "id": "49d40fe4-9257-4161-b166-536ab303293e",
   "metadata": {},
   "outputs": [],
   "source": []
  },
  {
   "cell_type": "code",
   "execution_count": null,
   "id": "ed022d66-cfd5-4eab-997d-fafb2278bfbf",
   "metadata": {},
   "outputs": [],
   "source": [
    "# Series użycie słownika"
   ]
  },
  {
   "cell_type": "code",
   "execution_count": null,
   "id": "6f597012-53db-4423-ba81-ee65e3e93fd2",
   "metadata": {},
   "outputs": [],
   "source": [
    "y = pd. Series({'a':1, 'b':2, 'c':3, 'd': 4, 'e': 5})\n",
    "y"
   ]
  },
  {
   "cell_type": "markdown",
   "id": "4c156874-c3c9-4053-bced-dcc8ad5e16e0",
   "metadata": {},
   "source": [
    "*modyfikacje Series*"
   ]
  },
  {
   "cell_type": "code",
   "execution_count": null,
   "id": "440c7b7f-fd52-4747-bd16-4ad6e9388d7f",
   "metadata": {},
   "outputs": [],
   "source": [
    "# dodanie elementu"
   ]
  },
  {
   "cell_type": "code",
   "execution_count": null,
   "id": "c9cf41fe-5bd4-4e30-8618-e6b78646e2d2",
   "metadata": {},
   "outputs": [],
   "source": [
    "y = pd. Series({'a':1, 'b':2, 'c':3, 'd': 4, 'e': 5})\n",
    "y['f'] = 6\n",
    "y"
   ]
  },
  {
   "cell_type": "code",
   "execution_count": null,
   "id": "33b4ae2b-ca47-446d-92ef-8c41fb5baaa8",
   "metadata": {},
   "outputs": [],
   "source": [
    "# zmiana etykiety z użyciem metody pop jak w słowniku"
   ]
  },
  {
   "cell_type": "code",
   "execution_count": null,
   "id": "792082b2-04bf-41f1-908f-d9a976e41dc2",
   "metadata": {},
   "outputs": [],
   "source": [
    "# y['aa'] = y.pop('a')"
   ]
  },
  {
   "cell_type": "code",
   "execution_count": null,
   "id": "31c90ffe-b2db-4c55-bb7b-48fd5e8fcaee",
   "metadata": {},
   "outputs": [],
   "source": [
    "# opcja druga"
   ]
  },
  {
   "cell_type": "code",
   "execution_count": null,
   "id": "65f7786b-fe5b-479e-9f63-c27290149ec3",
   "metadata": {},
   "outputs": [],
   "source": [
    "import pandas as pd\n",
    "\n",
    "# Przykładowa seria\n",
    "y = pd.Series([1, 2, 3], index=['a', 'b', 'c'])\n",
    "\n",
    "# Zamiana etykiety 'a' na 'aa'\n",
    "y = y.rename({'a': 'aa'})\n",
    "\n",
    "print(y)"
   ]
  },
  {
   "cell_type": "code",
   "execution_count": null,
   "id": "f26c25fa-646b-43f0-b785-1cc2826ab880",
   "metadata": {},
   "outputs": [],
   "source": [
    "# Metoda pop   y['aa'] = y.pop('a')"
   ]
  },
  {
   "cell_type": "code",
   "execution_count": null,
   "id": "2e9d85ae-cc39-46cd-bdb5-7249571ccc53",
   "metadata": {},
   "outputs": [],
   "source": [
    "y = pd. Series({'a':1, 'b':2, 'c':3, 'd': 4, 'e': 5})\n",
    "y['test'] = y.pop('e')\n",
    "y"
   ]
  },
  {
   "cell_type": "code",
   "execution_count": null,
   "id": "6e18ef21-dc5c-494b-8675-a2d28c5e2d48",
   "metadata": {},
   "outputs": [],
   "source": [
    "# usunięcie elementu"
   ]
  },
  {
   "cell_type": "code",
   "execution_count": null,
   "id": "3e9f8a5e-ce6c-40c3-bb51-449af90ad66e",
   "metadata": {},
   "outputs": [],
   "source": []
  },
  {
   "cell_type": "code",
   "execution_count": null,
   "id": "7e1803d0-0b38-42b7-b20c-4a9b4604911b",
   "metadata": {},
   "outputs": [],
   "source": [
    "y = pd. Series({'a':1, 'b':2, 'c':3, 'd': 4, 'e': 5})"
   ]
  },
  {
   "cell_type": "code",
   "execution_count": null,
   "id": "bae7578f-5987-4ffd-a04c-67349cd0484e",
   "metadata": {},
   "outputs": [],
   "source": [
    "y.drop(['a', 'b'])\n"
   ]
  },
  {
   "cell_type": "code",
   "execution_count": null,
   "id": "008a274f-2573-48f6-8700-a06828881593",
   "metadata": {},
   "outputs": [],
   "source": [
    "# Dostajemy usunięte etykiety pierwsze dwie ale nie nadpisujemy Y aby nadpisać trzeba zrobić inplace"
   ]
  },
  {
   "cell_type": "code",
   "execution_count": null,
   "id": "310e5390-3df5-407b-b142-67833caa5a31",
   "metadata": {},
   "outputs": [],
   "source": [
    "y = pd. Series({'a':1, 'b':2, 'c':3, 'd': 4, 'e': 5})\n",
    "y.drop(['a', 'b'], inplace=True)\n",
    "y"
   ]
  },
  {
   "cell_type": "code",
   "execution_count": null,
   "id": "abca6a4f-428a-40a9-bae1-76e19d01024d",
   "metadata": {},
   "outputs": [],
   "source": []
  },
  {
   "cell_type": "code",
   "execution_count": null,
   "id": "d68ecd4f-11ce-41ce-a339-c6820aa13440",
   "metadata": {},
   "outputs": [],
   "source": [
    "# indeksowanie"
   ]
  },
  {
   "cell_type": "code",
   "execution_count": null,
   "id": "bb7927b0-244d-45a7-b5fd-0a482d6017ea",
   "metadata": {},
   "outputs": [],
   "source": [
    "#  opcja nr 1 odwołanie do etykiet"
   ]
  },
  {
   "cell_type": "code",
   "execution_count": null,
   "id": "ef3bcd28-2b18-48f8-866a-b79709f92e6e",
   "metadata": {},
   "outputs": [],
   "source": [
    "y = pd. Series({'a':1, 'b':2, 'c':3, 'd': 4, 'e': 5})"
   ]
  },
  {
   "cell_type": "code",
   "execution_count": null,
   "id": "a7a74834-7d98-4e22-b814-49b2f6d51b75",
   "metadata": {},
   "outputs": [],
   "source": [
    "x['b']"
   ]
  },
  {
   "cell_type": "code",
   "execution_count": null,
   "id": "d8986eda-44bd-44c4-80ba-718a8620a5e5",
   "metadata": {},
   "outputs": [],
   "source": [
    "#  opcja nr 2 odwołanie do wartości liczbowych"
   ]
  },
  {
   "cell_type": "code",
   "execution_count": null,
   "id": "c7c7f785-ef97-4c9f-813d-2e8814be96d3",
   "metadata": {},
   "outputs": [],
   "source": [
    "y = pd. Series({'a':1, 'b':2, 'c':3, 'd': 4, 'e': 5})"
   ]
  },
  {
   "cell_type": "code",
   "execution_count": null,
   "id": "e589c8ba-ab52-4251-952b-c6fe47b4109e",
   "metadata": {},
   "outputs": [],
   "source": [
    "#  opcja nr 1 odwołanie do pozycji jak Pythonie zaczynając od 0"
   ]
  },
  {
   "cell_type": "code",
   "execution_count": null,
   "id": "dcd2da02-0faa-427d-b76a-37c7a67fd524",
   "metadata": {},
   "outputs": [],
   "source": [
    "y[4]"
   ]
  },
  {
   "cell_type": "code",
   "execution_count": null,
   "id": "dad0dac8-7789-4116-a715-f53a461679b5",
   "metadata": {},
   "outputs": [],
   "source": [
    "# Funkcje matematyczne"
   ]
  },
  {
   "cell_type": "code",
   "execution_count": null,
   "id": "14ba96ab-321b-4f8c-a907-4132b6b88cd7",
   "metadata": {},
   "outputs": [],
   "source": [
    "y = pd. Series({'a':1, 'b':2, 'c':3, 'd': 4, 'e': 5})\n",
    "x.max(), x.min(), x.mean()\n",
    "      "
   ]
  },
  {
   "cell_type": "code",
   "execution_count": null,
   "id": "44dd52a3-c8f6-493c-b48b-ebf0e286f01f",
   "metadata": {},
   "outputs": [],
   "source": [
    "#Numpy i funkcja where razem z Series\n"
   ]
  },
  {
   "cell_type": "code",
   "execution_count": null,
   "id": "a7ee8e6d-a621-4e31-854f-9317366fb521",
   "metadata": {},
   "outputs": [],
   "source": [
    "import numpy as np\n",
    "\n",
    "y = pd. Series({'a':1, 'b':2, 'c':3, 'd': 4, 'e': 5})\n",
    "np.where(x>1, True,False)\n",
    "# zwracaj True gdzie x czyli etykieta jest większa od 2 a tam gdzie nie to zwracaj False\n"
   ]
  },
  {
   "cell_type": "markdown",
   "id": "98ddb878-9695-44be-8756-45cf56f0bb87",
   "metadata": {},
   "source": [
    "# DataFrames "
   ]
  },
  {
   "cell_type": "code",
   "execution_count": null,
   "id": "aac51032-b05c-45ca-8f18-ad3594887013",
   "metadata": {},
   "outputs": [],
   "source": [
    "import pandas as pd"
   ]
  },
  {
   "cell_type": "code",
   "execution_count": null,
   "id": "f9474eb0-f2c4-4d27-9292-adc06f586529",
   "metadata": {},
   "outputs": [],
   "source": [
    "# Tworzenie DataFrames ze słownika list"
   ]
  },
  {
   "cell_type": "code",
   "execution_count": null,
   "id": "fd4facc2-2ded-41e7-822f-0dd89d8532b4",
   "metadata": {},
   "outputs": [],
   "source": [
    "import pandas as pd\n",
    "slownik = {\n",
    "    'wojewodztwo': ['Mazowieckie','Warminsko-Mazurskie', 'Podlaskie','Pomorskie', 'małopolskie'],\n",
    "    'stolica': ['Warszawa', 'Olsztyn', 'Białystok', 'Gdańsk', 'Kraków'],\n",
    "    'l_ludnosci': [5.42, 1.42, 1.18, 2.35, 3.41]\n",
    "    \n",
    "}\n",
    "df = pd.DataFrame(slownik)\n",
    "df\n",
    "\n",
    "\n",
    "\n"
   ]
  },
  {
   "cell_type": "code",
   "execution_count": null,
   "id": "089eb57d-b283-4f45-9c2c-3c58e6d20e20",
   "metadata": {},
   "outputs": [],
   "source": [
    "df.head()"
   ]
  },
  {
   "cell_type": "code",
   "execution_count": null,
   "id": "3bdb62ad-5d7e-4b79-b53d-4aeabad5526d",
   "metadata": {},
   "outputs": [],
   "source": [
    "df.tail()"
   ]
  },
  {
   "cell_type": "code",
   "execution_count": null,
   "id": "d75592ab-aefd-4f54-b6b2-6e7551c18644",
   "metadata": {},
   "outputs": [],
   "source": [
    "# zmiana indeksów"
   ]
  },
  {
   "cell_type": "code",
   "execution_count": null,
   "id": "05746807-b3f9-41c8-9c19-95d1569b165d",
   "metadata": {},
   "outputs": [],
   "source": [
    "df.index"
   ]
  },
  {
   "cell_type": "code",
   "execution_count": null,
   "id": "7cf17a7e-2979-49cf-9a73-74389422ed52",
   "metadata": {},
   "outputs": [],
   "source": [
    "df.index =['MAZ', 'WM', 'POD', 'POM', 'MAL']"
   ]
  },
  {
   "cell_type": "code",
   "execution_count": null,
   "id": "9828727f-e2a2-4608-88f1-0172b51760e8",
   "metadata": {},
   "outputs": [],
   "source": [
    "df"
   ]
  },
  {
   "cell_type": "code",
   "execution_count": null,
   "id": "83bf2a9f-0379-41be-a92d-9d6b43e3b35f",
   "metadata": {},
   "outputs": [],
   "source": [
    "# opcja nr 2 indeksy w ramach definicji słwonika\n"
   ]
  },
  {
   "cell_type": "code",
   "execution_count": null,
   "id": "e98dffdf-1b17-4337-8bc2-09208730cebd",
   "metadata": {},
   "outputs": [],
   "source": [
    "import pandas as pd\n",
    "slownik = {\n",
    "    'wojewodztwo': ['Mazowieckie','Warminsko-Mazurskie', 'Podlaskie','Pomorskie', 'małopolskie'],\n",
    "    'stolica': ['Warszawa', 'Olsztyn', 'Białystok', 'Gdańsk', 'Kraków'],\n",
    "    'l_ludnosci': [5.42, 1.42, 1.18, 2.35, 3.41]\n",
    "}\n",
    "#pd.Series rzed warosciami danego klucza.\n",
    "#df.index =['MAZ', 'WM', 'POD', 'POM', 'MAL'] i do pod wartości\n",
    "\n",
    "\n",
    "slownik_pd_series =  {\n",
    "    'wojewodztwo':pd.Series(['Mazowieckie','Warminsko-Mazurskie', 'Podlaskie','Pomorskie', 'małopolskie'],\n",
    "                            index =['MAZ', 'WM', 'POD', 'POM', 'MAL']),\n",
    "                            \n",
    "    'stolica': ['Warszawa', 'Olsztyn', 'Białystok', 'Gdańsk', 'Kraków'],\n",
    "    'l_ludnosci': [5.42, 1.42, 1.18, 2.35, 3.41]\n",
    "}\n",
    "df = pd.DataFrame(slownik_pd_series)\n",
    "\n",
    "df"
   ]
  },
  {
   "cell_type": "code",
   "execution_count": null,
   "id": "ab691785-7641-4ad0-a726-017f26238723",
   "metadata": {},
   "outputs": [],
   "source": [
    "#Zmiana kolejnosci kolumn Argument columnds\n"
   ]
  },
  {
   "cell_type": "code",
   "execution_count": null,
   "id": "0798daeb-1e02-4c01-ac70-64aa1c5fa0d9",
   "metadata": {},
   "outputs": [],
   "source": [
    "df = pd.DataFrame(slownik_pd_series, columns =['stolica', 'l_ludnosci', 'wojewodztwo'])\n",
    "df"
   ]
  },
  {
   "cell_type": "code",
   "execution_count": null,
   "id": "6e628693-e15c-4b38-bf46-e8dfb0690fb3",
   "metadata": {},
   "outputs": [],
   "source": [
    "#listy w ramach słownika musza być tej samej długości"
   ]
  },
  {
   "cell_type": "code",
   "execution_count": null,
   "id": "9d0569b2-2a49-4dc5-9009-86c1925bd44b",
   "metadata": {},
   "outputs": [],
   "source": [
    "#Metoda stworzenia df z listy słowników"
   ]
  },
  {
   "cell_type": "code",
   "execution_count": null,
   "id": "d8627a96-3d41-45b8-9b16-4668f7223474",
   "metadata": {},
   "outputs": [],
   "source": [
    "slownik = {\n",
    "    'wojewodztwo': ['Mazowieckie','Warminsko-Mazurskie', 'Podlaskie','Pomorskie', 'Małopolskie'],\n",
    "    'stolica': ['Warszawa', 'Olsztyn', 'Białystok', 'Gdańsk', 'Kraków'],\n",
    "    'l_ludnosci': [5.42, 1.42, 1.18, 2.35, 3.41]\n",
    "}\n",
    "slownik"
   ]
  },
  {
   "cell_type": "code",
   "execution_count": null,
   "id": "6999b4d6-4329-4df5-b0c9-0b1492942577",
   "metadata": {},
   "outputs": [],
   "source": [
    "lista_slownikow = [\n",
    "    {'wojewodztwo': 'Mazowieckie', 'stolica': 'Warszawa','l_ludnosci': 5.42 },\n",
    "    {'wojewodztwo': 'Warminsko-Mazurskie', 'stolica': 'Olsztyn','l_ludnosci': 1.42 },\n",
    "    {'wojewodztwo': 'Podlaskie', 'stolica': 'Białystok','l_ludnosci': 1.18 },\n",
    "    {'wojewodztwo': 'Pomorskie', 'stolica': 'Gdańsk','l_ludnosci': 2.35 },\n",
    "    {'wojewodztwo': 'Małopolskie', 'stolica': 'Kraków','l_ludnosci': 3.41 },    \n",
    "]\n",
    "#kazdy slownik odnosi sie do oddzielnego wiersza\n",
    "\n",
    "lista_slownikow\n",
    "df=pd.DataFrame(lista_slownikow)\n",
    "df\n",
    "\n",
    "\n",
    "\n",
    "\n",
    "\n",
    "\n"
   ]
  },
  {
   "cell_type": "code",
   "execution_count": null,
   "id": "626adf4a-b094-442a-9bc4-162641baad57",
   "metadata": {},
   "outputs": [],
   "source": []
  },
  {
   "cell_type": "code",
   "execution_count": null,
   "id": "f9ee6ab7-ae72-4173-b9e1-b794a05e8b97",
   "metadata": {},
   "outputs": [],
   "source": [
    "#Z dwuwymiarowych ndarray"
   ]
  },
  {
   "cell_type": "code",
   "execution_count": null,
   "id": "61b26a66-9eae-4a7c-8108-7b6a8f79fe7b",
   "metadata": {},
   "outputs": [],
   "source": [
    "import numpy as np\n",
    "\n",
    "\n",
    "x=np.array([['Mazowieckie', 'Warszawa', 5.42],\n",
    "            ['Warminsko-Mazurskie', 'Olsztyn', \t1.42],\n",
    "            ['Podlaskie', 'Białystok', \t1.18],\n",
    "            ['Pomorskie', 'Gdańsk', \t2.35],\n",
    "            ['Małopolskie', 'Kraków', \t3.41]]\n",
    "        )\n",
    "x"
   ]
  },
  {
   "cell_type": "code",
   "execution_count": null,
   "id": "cb4709b9-4efc-4c49-adc9-bb240f099648",
   "metadata": {},
   "outputs": [],
   "source": [
    "#podajemy wiersze tabeli kolejne"
   ]
  },
  {
   "cell_type": "code",
   "execution_count": null,
   "id": "526f4510-e2ab-4f84-b54a-d7419920e6b4",
   "metadata": {},
   "outputs": [],
   "source": [
    "df =pd.DataFrame(x)\n",
    "df"
   ]
  },
  {
   "cell_type": "code",
   "execution_count": null,
   "id": "7c4f629f-aaee-4523-bb58-08cd157989bc",
   "metadata": {},
   "outputs": [],
   "source": [
    "#różnica w tej metodzie polega na tym, ze nie ma przypisanych nazw kolumn tutaj trzeba je przypisać wg właściwej kolejnsoc\n",
    "\n"
   ]
  },
  {
   "cell_type": "code",
   "execution_count": null,
   "id": "bfcc1cd8-ed56-414d-aedb-5ba2dd1f45bd",
   "metadata": {},
   "outputs": [],
   "source": [
    "df2 = pd.DataFrame(x, columns =['wojewodztwo', 'stolica', 'l_ludnosci'])\n",
    "df2"
   ]
  },
  {
   "cell_type": "code",
   "execution_count": null,
   "id": "a99addf6-99c0-4f09-b62d-2900a74cd0cd",
   "metadata": {},
   "outputs": [],
   "source": [
    "# dodanie indeksu\n",
    "\n",
    "df3 = pd.DataFrame(x, columns =['wojewodztwo', 'stolica', 'l_ludnosci'],index =['MAZ', 'WM', 'POD', 'POM', 'MAL'])\n",
    "df3"
   ]
  },
  {
   "cell_type": "markdown",
   "id": "711371cd-0e0a-4e0c-a8c9-10c7898fdca4",
   "metadata": {},
   "source": [
    "# Import i eksport danych ze źródeł zewnętrznych"
   ]
  },
  {
   "cell_type": "code",
   "execution_count": null,
   "id": "96ecc989-dd40-4309-86ac-96201242d053",
   "metadata": {},
   "outputs": [],
   "source": [
    "import pandas as pd"
   ]
  },
  {
   "cell_type": "code",
   "execution_count": null,
   "id": "a6de8836-a630-4727-bea4-778cfe0423b3",
   "metadata": {},
   "outputs": [],
   "source": [
    "# z pliku excel"
   ]
  },
  {
   "cell_type": "code",
   "execution_count": null,
   "id": "c62cf683-075a-498e-bcaa-e7d15f2cfdf4",
   "metadata": {},
   "outputs": [],
   "source": [
    "pip install openpyxl --upgrade --pre"
   ]
  },
  {
   "cell_type": "code",
   "execution_count": null,
   "id": "f6cef399-be44-44e6-a301-df4da2cb9ccb",
   "metadata": {},
   "outputs": [],
   "source": [
    "df_1 = pd.read_excel(\"C:/Dane/2_programowanie_ML_zadanka_kurs_wprowadzenie/001_dane.xlsx\")"
   ]
  },
  {
   "cell_type": "code",
   "execution_count": null,
   "id": "1bd0381d-c822-4d85-a44e-6a7d24c8cd56",
   "metadata": {},
   "outputs": [],
   "source": [
    "df_1"
   ]
  },
  {
   "cell_type": "code",
   "execution_count": null,
   "id": "59d90c5a-3811-4895-a57e-0c56ff0024e7",
   "metadata": {},
   "outputs": [],
   "source": [
    "# Otwieranie kolejnego arkusza w tym samym pliku excel"
   ]
  },
  {
   "cell_type": "code",
   "execution_count": null,
   "id": "c65be816-7020-4f19-b4d9-54a6076f8845",
   "metadata": {},
   "outputs": [],
   "source": [
    "df_2 = pd.read_excel(\"C:/Dane/2_programowanie_ML_zadanka_kurs_wprowadzenie/001_dane.xlsx\", sheet_name='kolejny arkusz')\n",
    "df_2"
   ]
  },
  {
   "cell_type": "code",
   "execution_count": null,
   "id": "beae24c5-7394-4ac8-b4fc-97c3e98bacde",
   "metadata": {},
   "outputs": [],
   "source": [
    "# zdefiniowanie nazw kolumn gdy chcemy cos np zmienic w nazwach kolumn"
   ]
  },
  {
   "cell_type": "code",
   "execution_count": null,
   "id": "2801890c-c700-4f7b-b556-170105cb6981",
   "metadata": {},
   "outputs": [],
   "source": [
    "df_2 = pd.read_excel(\"C:/Dane/2_programowanie_ML_zadanka_kurs_wprowadzenie/001_dane.xlsx\", sheet_name='kolejny arkusz',\n",
    "                    names = ['NaN' , 'NaN', 'NaNlp', 'dzien', 'data', 'day', 'example', 'some_number', 'random_stuff'])\n",
    "df_2"
   ]
  },
  {
   "cell_type": "code",
   "execution_count": null,
   "id": "fac46f80-56b7-48a7-9081-67616f8ca627",
   "metadata": {},
   "outputs": [],
   "source": [
    "# zmieniamy kolumny how_many na some_number w names wypisujemy kolejno nazwy  kolumn: \n",
    "# names = ['NaN' , 'NaN', 'NaNlp', 'dzien', 'data', 'day', 'example', 'some_number', 'random_stuff']"
   ]
  },
  {
   "cell_type": "code",
   "execution_count": null,
   "id": "2e55059f-4283-4782-9737-8439263c1341",
   "metadata": {},
   "outputs": [],
   "source": []
  },
  {
   "cell_type": "code",
   "execution_count": null,
   "id": "8f0ffb9e-ec5e-4412-9e1f-ca58b29e30f6",
   "metadata": {},
   "outputs": [],
   "source": [
    "# Otwarcie pliku cvs iris"
   ]
  },
  {
   "cell_type": "code",
   "execution_count": null,
   "id": "64a5fa44-ea92-43b7-bb78-35e0d55610b9",
   "metadata": {},
   "outputs": [],
   "source": [
    "import pandas as pd\n",
    "df_4 = pd.read_csv(\"C:/Dane/2_programowanie_ML_zadanka_kurs_wprowadzenie/002_iris.csv\")\n",
    "df_4"
   ]
  },
  {
   "cell_type": "code",
   "execution_count": null,
   "id": "14ea0c45-d92f-40ba-903a-0beea53b36f1",
   "metadata": {},
   "outputs": [],
   "source": [
    "# Eksport danych\n"
   ]
  },
  {
   "cell_type": "code",
   "execution_count": null,
   "id": "1c4f7e8e-65cf-4549-8d45-d21372efe29d",
   "metadata": {},
   "outputs": [],
   "source": [
    "df_4.to_excel(\"C:/Dane/2_programowanie_ML_zadanka_kurs_wprowadzenie/002_iris.xlsx\", sheet_name ='kwiatki')"
   ]
  },
  {
   "cell_type": "code",
   "execution_count": null,
   "id": "d8d31b39-76f7-42e5-8d07-0ac729674f47",
   "metadata": {},
   "outputs": [],
   "source": []
  },
  {
   "cell_type": "markdown",
   "id": "79bd4370-f6b8-498e-a076-79fb599f4d79",
   "metadata": {},
   "source": [
    "# Podstawowe informacje o zbiorach danych"
   ]
  },
  {
   "cell_type": "code",
   "execution_count": null,
   "id": "fb7b6fd1-948c-4615-bddb-0fafdd16ded8",
   "metadata": {},
   "outputs": [],
   "source": [
    "df_4.head()"
   ]
  },
  {
   "cell_type": "code",
   "execution_count": null,
   "id": "24a20b3b-b472-4902-81c3-6cd79c35de47",
   "metadata": {},
   "outputs": [],
   "source": [
    "df_4.tail()"
   ]
  },
  {
   "cell_type": "code",
   "execution_count": null,
   "id": "0aa60c14-23b1-4609-a884-d4738cfa997c",
   "metadata": {},
   "outputs": [],
   "source": [
    "df_4.head(1)"
   ]
  },
  {
   "cell_type": "code",
   "execution_count": null,
   "id": "b53b6d9b-359b-4b7a-a319-a262bacf423e",
   "metadata": {},
   "outputs": [],
   "source": [
    "df_4.tail(1)"
   ]
  },
  {
   "cell_type": "code",
   "execution_count": null,
   "id": "a6977ee6-0af6-4241-93c7-3089e2930fcb",
   "metadata": {},
   "outputs": [],
   "source": [
    "import pandas as pd\n",
    "import seaborn as sns"
   ]
  },
  {
   "cell_type": "code",
   "execution_count": null,
   "id": "e54a655e-6603-4c9b-b53f-feea4974a0af",
   "metadata": {},
   "outputs": [],
   "source": [
    "# załadowanie danych z użyciem seaborn"
   ]
  },
  {
   "cell_type": "code",
   "execution_count": null,
   "id": "3641172f-236c-418e-b8d5-22c01ac48d53",
   "metadata": {},
   "outputs": [],
   "source": [
    "df = sns.load_dataset('titanic')"
   ]
  },
  {
   "cell_type": "code",
   "execution_count": null,
   "id": "420db1d5-c244-4732-a667-d3be0d2f9f0b",
   "metadata": {
    "scrolled": true
   },
   "outputs": [],
   "source": [
    "df"
   ]
  },
  {
   "cell_type": "code",
   "execution_count": null,
   "id": "3eb9d2dd-22d1-4d30-a1ba-cc8167015ee5",
   "metadata": {},
   "outputs": [],
   "source": [
    "#metoda shape ile wierszy ile kolumn"
   ]
  },
  {
   "cell_type": "code",
   "execution_count": null,
   "id": "9eb8cc5b-7bb8-4089-b6bc-4adac6d395e7",
   "metadata": {},
   "outputs": [],
   "source": [
    "df.shape"
   ]
  },
  {
   "cell_type": "code",
   "execution_count": null,
   "id": "908b20c1-0d12-4eed-8fca-4a7def9e2806",
   "metadata": {},
   "outputs": [],
   "source": [
    "# metoda info podstawowe dane o zbiorze danych wszystkie kolumny , rekordy not null\n",
    "# jak not-null 891 rekordów a w bazie jest 891 rekordów to nie ma pustych nullowych rekordów dobrze"
   ]
  },
  {
   "cell_type": "code",
   "execution_count": null,
   "id": "c4bb0e9b-718e-4b57-b274-1ed880950f37",
   "metadata": {},
   "outputs": [],
   "source": [
    "df.info()"
   ]
  },
  {
   "cell_type": "code",
   "execution_count": null,
   "id": "90f23c5e-cf1a-499c-b3da-6563bbeee0bb",
   "metadata": {},
   "outputs": [],
   "source": [
    "# warto sprawdzić czy te typy danych zgadzają się z naszą logiką…..czy float jest tam gdzie być powinien.... itd"
   ]
  },
  {
   "cell_type": "code",
   "execution_count": null,
   "id": "4dd19248-fb42-4ec4-a2d4-ae8e29de471c",
   "metadata": {},
   "outputs": [],
   "source": [
    "df.describe()"
   ]
  },
  {
   "cell_type": "code",
   "execution_count": null,
   "id": "d10d9515-1680-469f-aa2f-ff710edaafec",
   "metadata": {},
   "outputs": [],
   "source": [
    "#describe pokazuje...\n",
    "# count ile wartosci bez braku danych, mean średnia wartość, std-odhcylenie standrd, 1,2,3, kwartyl. mediana..."
   ]
  },
  {
   "cell_type": "code",
   "execution_count": null,
   "id": "44c7c8bc-2901-40d7-b6fb-4a5ad528be37",
   "metadata": {},
   "outputs": [],
   "source": [
    "df.columns\n"
   ]
  },
  {
   "cell_type": "code",
   "execution_count": null,
   "id": "775ad88b-70ec-4322-9cc7-fbc1587f0626",
   "metadata": {},
   "outputs": [],
   "source": [
    "# zwraca nazwy kolumn"
   ]
  },
  {
   "cell_type": "code",
   "execution_count": null,
   "id": "2d65c7e7-2078-4e71-9886-a01dadae7481",
   "metadata": {},
   "outputs": [],
   "source": [
    "df.isnull()"
   ]
  },
  {
   "cell_type": "code",
   "execution_count": null,
   "id": "16c6dc0b-9d7a-475b-ad17-552933c66e7e",
   "metadata": {},
   "outputs": [],
   "source": [
    "# Tam gdzie jest brak to True a zapisane False"
   ]
  },
  {
   "cell_type": "code",
   "execution_count": null,
   "id": "063b51a6-cf7c-43e1-be08-d9a43c393010",
   "metadata": {},
   "outputs": [],
   "source": [
    "df.isna()"
   ]
  },
  {
   "cell_type": "code",
   "execution_count": null,
   "id": "372cb82a-7130-4692-abf6-947fe3ea0a52",
   "metadata": {},
   "outputs": [],
   "source": [
    "# wyznaczenie brakujacych rekordów"
   ]
  },
  {
   "cell_type": "code",
   "execution_count": null,
   "id": "d4f6a4be-6b79-4b1b-a689-d64a8acd6e3b",
   "metadata": {},
   "outputs": [],
   "source": [
    "# tamgdzie jest brak True a gdzie są dane to False"
   ]
  },
  {
   "cell_type": "code",
   "execution_count": null,
   "id": "c7c25db6-1ad8-4d5c-86b8-2245041ffbea",
   "metadata": {},
   "outputs": [],
   "source": [
    "df.isna().sum()"
   ]
  },
  {
   "cell_type": "code",
   "execution_count": null,
   "id": "442ff83b-b36d-4468-9253-5239c0ff6db8",
   "metadata": {},
   "outputs": [],
   "source": [
    "# w kolumnie age mamy 177 braków oraz w kolumnie deck 688 braków"
   ]
  },
  {
   "cell_type": "code",
   "execution_count": null,
   "id": "b9afc313-24b0-49c7-a976-be8695c1b0ec",
   "metadata": {},
   "outputs": [],
   "source": [
    "df.isnull().sum()"
   ]
  },
  {
   "cell_type": "code",
   "execution_count": null,
   "id": "58a0f5ad-cd99-4c94-9c64-9a0946f3786b",
   "metadata": {},
   "outputs": [],
   "source": [
    "# w kolumnie age mamy 177 braków oraz w kolumnie deck 688 braków"
   ]
  },
  {
   "cell_type": "code",
   "execution_count": null,
   "id": "76866331-bd29-4d99-81f5-e5420e9a04bb",
   "metadata": {},
   "outputs": [],
   "source": []
  },
  {
   "cell_type": "code",
   "execution_count": null,
   "id": "5e0a3b24-1859-4336-a04b-17ff11c4fbc4",
   "metadata": {},
   "outputs": [],
   "source": [
    "# Dropna usuniecie brakow danych"
   ]
  },
  {
   "cell_type": "code",
   "execution_count": null,
   "id": "7cc7a3fb-2ff9-461c-be6a-2669d1c4aeb3",
   "metadata": {},
   "outputs": [],
   "source": [
    "# usunięcie kompletnie pustych rekordów brak jakichkolwiek informacji"
   ]
  },
  {
   "cell_type": "code",
   "execution_count": null,
   "id": "1dc6b5e8-56cd-466a-807a-0dc0ea545069",
   "metadata": {},
   "outputs": [],
   "source": [
    "df2 = df.dropna(how = 'all')\n",
    "df2"
   ]
  },
  {
   "cell_type": "code",
   "execution_count": null,
   "id": "4e4d70cd-43b3-4085-914c-8a5279586d60",
   "metadata": {},
   "outputs": [],
   "source": [
    "# podglądam braki w df2"
   ]
  },
  {
   "cell_type": "code",
   "execution_count": null,
   "id": "ff8343c7-a9ac-498b-9573-5e70a1603225",
   "metadata": {},
   "outputs": [],
   "source": [
    "df2.isna().sum()"
   ]
  },
  {
   "cell_type": "code",
   "execution_count": null,
   "id": "3e2980f3-2aaa-4e43-a72a-716a7abecef8",
   "metadata": {},
   "outputs": [],
   "source": [
    "# nie zmieniło się nic bo nie było pustych całkowicie rekordów"
   ]
  },
  {
   "cell_type": "code",
   "execution_count": null,
   "id": "61207f1d-0367-4f2c-b585-138e632613cc",
   "metadata": {},
   "outputs": [],
   "source": []
  },
  {
   "cell_type": "code",
   "execution_count": null,
   "id": "9f41622e-33a9-4212-9f3a-866ed6237b6a",
   "metadata": {},
   "outputs": [],
   "source": [
    "# dropna metoda 2"
   ]
  },
  {
   "cell_type": "code",
   "execution_count": null,
   "id": "dd886843-f8a7-4b4f-82d1-8c70e12c1fc9",
   "metadata": {},
   "outputs": [],
   "source": [
    "df3 = df.dropna(how='any')\n",
    "df3"
   ]
  },
  {
   "cell_type": "code",
   "execution_count": null,
   "id": "92426f29-a0d1-419b-a20c-2797f18e1bd9",
   "metadata": {},
   "outputs": [],
   "source": []
  },
  {
   "cell_type": "code",
   "execution_count": null,
   "id": "2de969ff-4053-41e7-8323-f9ebb98d1ca4",
   "metadata": {},
   "outputs": [],
   "source": [
    "df3.isna().sum()"
   ]
  },
  {
   "cell_type": "code",
   "execution_count": null,
   "id": "84cb8d1a-0216-40af-8fc4-beec7014540b",
   "metadata": {},
   "outputs": [],
   "source": [
    "# usunęły się wszystkie rekordy jakie miały jakikolwiek brak danych czyli wyczyściliśmy baze titanic."
   ]
  },
  {
   "cell_type": "code",
   "execution_count": null,
   "id": "73d4274a-dcb2-4fa1-8339-880ee7de1592",
   "metadata": {},
   "outputs": [],
   "source": [
    "# Korzystajac z argumentu any usuwamy znaczną cześc informacji trzeba uważać "
   ]
  },
  {
   "cell_type": "code",
   "execution_count": null,
   "id": "f2c3b338-208a-4a22-8935-31efdc390483",
   "metadata": {},
   "outputs": [],
   "source": [
    "# dropna nie jest najlepszą opcją!!!"
   ]
  },
  {
   "cell_type": "code",
   "execution_count": null,
   "id": "8c3d2c08-f52b-41b8-9548-2846f06c2db2",
   "metadata": {},
   "outputs": [],
   "source": [
    "df.shape"
   ]
  },
  {
   "cell_type": "code",
   "execution_count": null,
   "id": "87cd2042-98cc-4d00-ab3d-9f32ae09e1e3",
   "metadata": {},
   "outputs": [],
   "source": [
    "df3.shape"
   ]
  },
  {
   "cell_type": "code",
   "execution_count": null,
   "id": "9cff4048-301e-4eff-8074-104c1e8f8adf",
   "metadata": {},
   "outputs": [],
   "source": [
    "# usunęliśmy większość zbioru danych z 891 zostało 182 wiersze"
   ]
  },
  {
   "cell_type": "code",
   "execution_count": null,
   "id": "765a94dd-bdeb-4cd3-b58d-75e601dbc6da",
   "metadata": {},
   "outputs": [],
   "source": [
    "# Duplicated() -zduplikowane rekordy"
   ]
  },
  {
   "cell_type": "code",
   "execution_count": null,
   "id": "89abc712-788d-46cc-a959-f37161f97dcf",
   "metadata": {},
   "outputs": [],
   "source": [
    "df.duplicated()"
   ]
  },
  {
   "cell_type": "code",
   "execution_count": null,
   "id": "e55975b0-0d61-4a05-9a20-ec3bfbe6bfd7",
   "metadata": {},
   "outputs": [],
   "source": [
    "#  dostajemy true false dla każdego rekordu czy jest zduplikowany czy też nie."
   ]
  },
  {
   "cell_type": "code",
   "execution_count": null,
   "id": "28516169-7a1a-4d7f-a230-7a9680df0be1",
   "metadata": {},
   "outputs": [],
   "source": [
    "df.duplicated().sum()"
   ]
  },
  {
   "cell_type": "code",
   "execution_count": null,
   "id": "4bd16a41-f977-41fd-baf9-20c273c2db38",
   "metadata": {},
   "outputs": [],
   "source": [
    "# sumowanie zduplikowanych rekordów"
   ]
  },
  {
   "cell_type": "code",
   "execution_count": null,
   "id": "c2e7b86e-9c39-49a9-a8bb-70c686c00027",
   "metadata": {},
   "outputs": [],
   "source": []
  },
  {
   "cell_type": "code",
   "execution_count": null,
   "id": "c6bd1d34-be3c-4b8d-a78c-bae1be13a21f",
   "metadata": {},
   "outputs": [],
   "source": [
    "# Drop.duplicates()"
   ]
  },
  {
   "cell_type": "code",
   "execution_count": null,
   "id": "6dedb75c-bda9-4533-96d1-8ebb71e070c9",
   "metadata": {},
   "outputs": [],
   "source": []
  },
  {
   "cell_type": "code",
   "execution_count": null,
   "id": "d2c079a2-3e5a-45c1-b69d-343934669115",
   "metadata": {},
   "outputs": [],
   "source": [
    "df4 = df.drop_duplicates()\n",
    "df4"
   ]
  },
  {
   "cell_type": "code",
   "execution_count": null,
   "id": "12b98e11-4d8f-448d-9230-a5f1582203bf",
   "metadata": {},
   "outputs": [],
   "source": [
    "df4.duplicated().sum()"
   ]
  },
  {
   "cell_type": "code",
   "execution_count": null,
   "id": "5054409a-a20d-43ae-b4be-42d4420c3d85",
   "metadata": {},
   "outputs": [],
   "source": [
    "# Brak zdublowanych rekordów"
   ]
  },
  {
   "cell_type": "code",
   "execution_count": null,
   "id": "0914e4c1-3a44-4742-89b4-488dd2cfe1e5",
   "metadata": {},
   "outputs": [],
   "source": [
    "df4.shape"
   ]
  },
  {
   "cell_type": "code",
   "execution_count": null,
   "id": "11004bef-eaff-4b7a-a178-fece7c249ccb",
   "metadata": {},
   "outputs": [],
   "source": [
    "# baza danych nam się zmniejszyła :) ale bez powielonych rekordów"
   ]
  },
  {
   "cell_type": "code",
   "execution_count": null,
   "id": "e303bca5-d9a1-46fe-ae51-a390377ded82",
   "metadata": {},
   "outputs": [],
   "source": [
    "# Sortowanie Sort_values()"
   ]
  },
  {
   "cell_type": "code",
   "execution_count": null,
   "id": "4959ecb0-36c5-4095-ba75-71d2aa95fc9f",
   "metadata": {},
   "outputs": [],
   "source": []
  },
  {
   "cell_type": "code",
   "execution_count": null,
   "id": "324fd15e-03fb-406f-b0eb-d70e76253718",
   "metadata": {},
   "outputs": [],
   "source": [
    "df4.head()"
   ]
  },
  {
   "cell_type": "code",
   "execution_count": null,
   "id": "9895748a-2cf3-4e55-bebc-12e97cb92119",
   "metadata": {},
   "outputs": [],
   "source": [
    "df5 = df4.sort_values(by='fare')\n",
    "df5.head()"
   ]
  },
  {
   "cell_type": "code",
   "execution_count": null,
   "id": "75283578-d2ea-4547-bc0f-e0cdf3168cc3",
   "metadata": {},
   "outputs": [],
   "source": [
    "# sortowanie po zmiennej fare  czyli po danych z kolumny fare rosnąco. Wynik się nie zapisuje...jeśli  nie jest przypisany \n",
    "# do nowego argumenty tu sie zapisał bo mamy df5 ale ostawiając df4 by się nie zapisało."
   ]
  },
  {
   "cell_type": "code",
   "execution_count": null,
   "id": "794cd993-6485-4d1c-8ee2-22197d5e8a89",
   "metadata": {},
   "outputs": [],
   "source": [
    "# sortowanie malejące z użyciem ascending"
   ]
  },
  {
   "cell_type": "code",
   "execution_count": null,
   "id": "307e1c4e-bff8-4ccb-acce-44719c4f1841",
   "metadata": {},
   "outputs": [],
   "source": [
    "df5 = df4.sort_values(by='fare', ascending=False)\n",
    "df5.head()"
   ]
  },
  {
   "cell_type": "code",
   "execution_count": null,
   "id": "87ebe3d2-7ff1-427d-8ce7-8a3801430dfd",
   "metadata": {},
   "outputs": [],
   "source": [
    "# za utomatu ascending ustawione jest na True. jak zmienimy mamy sortowanie malejące"
   ]
  },
  {
   "cell_type": "code",
   "execution_count": null,
   "id": "5a09d021-c034-4182-a872-ed5fb265cce6",
   "metadata": {},
   "outputs": [],
   "source": [
    "# value_counts() - unikalne wartości zmiennej jakościowej"
   ]
  },
  {
   "cell_type": "code",
   "execution_count": null,
   "id": "1de37504-e25f-41de-8f20-25aae5c241a1",
   "metadata": {},
   "outputs": [],
   "source": [
    "df4['class'].value_counts()"
   ]
  },
  {
   "cell_type": "code",
   "execution_count": null,
   "id": "316c1ebb-c14d-4fd8-848f-e25527133447",
   "metadata": {},
   "outputs": [],
   "source": [
    "# ile rekordów pierwsza druga klasa"
   ]
  },
  {
   "cell_type": "code",
   "execution_count": null,
   "id": "7de79ec6-b5f5-4cd8-b189-d9cb207c8d1d",
   "metadata": {},
   "outputs": [],
   "source": [
    "df4['class'].value_counts(normalize=True)"
   ]
  },
  {
   "cell_type": "code",
   "execution_count": null,
   "id": "81266dc3-b02b-4fbd-b702-0de9114110f7",
   "metadata": {},
   "outputs": [],
   "source": [
    "# pokazany udział procentowy 0.5 to 50%"
   ]
  },
  {
   "cell_type": "code",
   "execution_count": null,
   "id": "7419333c-88e7-4b89-b31f-b342a5a60ae3",
   "metadata": {},
   "outputs": [],
   "source": []
  },
  {
   "cell_type": "code",
   "execution_count": null,
   "id": "aa026ef5-f326-4d7d-8d2a-45cd8c98bedf",
   "metadata": {},
   "outputs": [],
   "source": []
  },
  {
   "cell_type": "markdown",
   "id": "8c500a14-081e-4f81-97b1-de0f28eb4cbf",
   "metadata": {},
   "source": [
    "# Indeksowanie  w Python Pandas"
   ]
  },
  {
   "cell_type": "code",
   "execution_count": null,
   "id": "255c2aa4-c006-4f73-aedb-814060daa50c",
   "metadata": {},
   "outputs": [],
   "source": [
    "import pandas as pd"
   ]
  },
  {
   "cell_type": "code",
   "execution_count": null,
   "id": "4e091088-afdd-48de-910b-a4587b4a4c07",
   "metadata": {},
   "outputs": [],
   "source": [
    "df=pd.read_excel('C:/Dane/2_programowanie_ML_zadanka_kurs_wprowadzenie\\Moduł 2/Zbiory danych/pracownicy.xlsx')"
   ]
  },
  {
   "cell_type": "code",
   "execution_count": null,
   "id": "1b888641-eae1-4324-aaaf-97584b91d2e0",
   "metadata": {},
   "outputs": [],
   "source": [
    "df.head()"
   ]
  },
  {
   "cell_type": "code",
   "execution_count": null,
   "id": "58b67d7c-75c5-4cbf-860f-4124ca03b4e8",
   "metadata": {},
   "outputs": [],
   "source": [
    "# indeksowanie na imie pracownika czyli 1 kolumna "
   ]
  },
  {
   "cell_type": "code",
   "execution_count": null,
   "id": "7474d042-a91a-4eb4-9db9-2adf8b67ddbb",
   "metadata": {},
   "outputs": [],
   "source": [
    "df = df.set_index('Imię')"
   ]
  },
  {
   "cell_type": "code",
   "execution_count": null,
   "id": "0d94cf32-1b3a-4558-858c-eb49d68c2aae",
   "metadata": {},
   "outputs": [],
   "source": [
    "# idex ustawiony na imie"
   ]
  },
  {
   "cell_type": "code",
   "execution_count": null,
   "id": "e0dc0893-16c8-4b5e-a7d3-224f89dd18e2",
   "metadata": {},
   "outputs": [],
   "source": [
    "df.head()"
   ]
  },
  {
   "cell_type": "code",
   "execution_count": null,
   "id": "2b17a4b5-35d5-4108-bcca-b8403b65d0a5",
   "metadata": {},
   "outputs": [],
   "source": [
    "# pierwsze dwa imiona indeksowanie proste bez słów kluczowych"
   ]
  },
  {
   "cell_type": "code",
   "execution_count": null,
   "id": "fe021c84-c994-4184-ad4a-765eec57f6bc",
   "metadata": {},
   "outputs": [],
   "source": [
    "df[:2]"
   ]
  },
  {
   "cell_type": "code",
   "execution_count": null,
   "id": "1209b7fb-5317-42b1-ab20-2c1fa24a1fe0",
   "metadata": {},
   "outputs": [],
   "source": [
    "df[1:4]"
   ]
  },
  {
   "cell_type": "code",
   "execution_count": null,
   "id": "434264f0-1f5d-4a9d-a93e-2d94f973614b",
   "metadata": {},
   "outputs": [],
   "source": [
    "# df = df.set_index('Imię') -zapielismy dane na imie a teraz sprawdzamy wiek"
   ]
  },
  {
   "cell_type": "code",
   "execution_count": null,
   "id": "62a86db9-dddb-4073-94f9-56eb07a01778",
   "metadata": {},
   "outputs": [],
   "source": [
    "df['Wiek']"
   ]
  },
  {
   "cell_type": "code",
   "execution_count": null,
   "id": "bbd9f98f-f851-42eb-9c70-c9c77c69989b",
   "metadata": {},
   "outputs": [],
   "source": [
    "# to samo inaczej"
   ]
  },
  {
   "cell_type": "code",
   "execution_count": null,
   "id": "665a4bb1-5eb6-4648-97bc-47af7a3a3899",
   "metadata": {},
   "outputs": [],
   "source": [
    "df.Wiek"
   ]
  },
  {
   "cell_type": "code",
   "execution_count": null,
   "id": "c98a3806-e5dc-44f4-8008-84eeb0284ff0",
   "metadata": {},
   "outputs": [],
   "source": []
  },
  {
   "cell_type": "code",
   "execution_count": null,
   "id": "a37caf47-7102-4a43-9c84-d44a3e4b1b8c",
   "metadata": {},
   "outputs": [],
   "source": [
    "# df = df.set_index('Imię') -zapielismy dane na imie a teraz sprawdzamy wiek i zarobki"
   ]
  },
  {
   "cell_type": "code",
   "execution_count": null,
   "id": "9b5720b7-4814-4689-add0-e6cb5c8dd674",
   "metadata": {},
   "outputs": [],
   "source": [
    "df[['Wiek', 'Zarobki']]"
   ]
  },
  {
   "cell_type": "code",
   "execution_count": null,
   "id": "86bc5c69-eb35-46ee-a9b7-4a9c84e6d817",
   "metadata": {},
   "outputs": [],
   "source": []
  },
  {
   "cell_type": "code",
   "execution_count": null,
   "id": "2f6a10e0-4707-4cd3-8b0b-0568a9746173",
   "metadata": {},
   "outputs": [],
   "source": []
  },
  {
   "cell_type": "code",
   "execution_count": null,
   "id": "5ccd7afd-4441-4782-895a-2af9e971af80",
   "metadata": {},
   "outputs": [],
   "source": [
    "# Wyznacz wiersze 1 oraz 2 dla kolumn wiek i zarobki"
   ]
  },
  {
   "cell_type": "code",
   "execution_count": null,
   "id": "4834ec7c-86bf-434e-a2a4-b78929dbd4a7",
   "metadata": {},
   "outputs": [],
   "source": [
    "# df = df.set_index('Imię') -zapielismy dane na imie wieć wyswietli nam imiona z wierszy 1 i 2 dla kolumn wiek i zarobki\n"
   ]
  },
  {
   "cell_type": "code",
   "execution_count": null,
   "id": "5947b618-436b-40c6-bdbf-8e4205f37e2d",
   "metadata": {},
   "outputs": [],
   "source": [
    "df[1:3][['Wiek', 'Zarobki']]"
   ]
  },
  {
   "cell_type": "code",
   "execution_count": null,
   "id": "9de14edf-df80-4c33-a1ba-ca71f4a266d2",
   "metadata": {},
   "outputs": [],
   "source": [
    "# podwojny nawias dla kolumn pamietać"
   ]
  },
  {
   "cell_type": "code",
   "execution_count": null,
   "id": "331ae9bf-e317-44ee-8f23-9bbd53ff59ee",
   "metadata": {},
   "outputs": [],
   "source": [
    "# jak bierzemy jedną kolumnę wiek to nie musimy podawwć dwukropka\n",
    "df['Wiek']['Łucja']"
   ]
  },
  {
   "cell_type": "code",
   "execution_count": null,
   "id": "2a703a8c-b533-45f4-8e1a-f8c1a5ff7585",
   "metadata": {},
   "outputs": [],
   "source": []
  },
  {
   "cell_type": "code",
   "execution_count": null,
   "id": "4748ded5-982d-427a-b95c-5e43d428d4da",
   "metadata": {},
   "outputs": [],
   "source": [
    "# indeksowanie za pomoca loc oraz iloc"
   ]
  },
  {
   "cell_type": "code",
   "execution_count": null,
   "id": "f3dbbeab-ace6-439c-9255-010da165227c",
   "metadata": {},
   "outputs": [],
   "source": []
  },
  {
   "cell_type": "code",
   "execution_count": null,
   "id": "3e401884-38e9-4ae4-b2a8-cebe2db18ae5",
   "metadata": {},
   "outputs": [],
   "source": [
    "df.head()"
   ]
  },
  {
   "cell_type": "code",
   "execution_count": null,
   "id": "a72a46e1-b7b1-43e4-8213-7c56e317bd02",
   "metadata": {},
   "outputs": [],
   "source": [
    "# metoda loc dane dla Andrzeja"
   ]
  },
  {
   "cell_type": "code",
   "execution_count": null,
   "id": "3e85dae8-9663-4ee7-aeea-d73f4d005fa7",
   "metadata": {},
   "outputs": [],
   "source": [
    "df.loc['Andrzej']"
   ]
  },
  {
   "cell_type": "code",
   "execution_count": null,
   "id": "8a3423ba-58e0-4501-a797-05ddc72b2e38",
   "metadata": {},
   "outputs": [],
   "source": [
    "# otrzymaliśm wszystkie wartosci dla Andrzeja"
   ]
  },
  {
   "cell_type": "code",
   "execution_count": null,
   "id": "fb0e75a8-c8e8-43c7-9962-fd3a08e12cc8",
   "metadata": {},
   "outputs": [],
   "source": []
  },
  {
   "cell_type": "code",
   "execution_count": null,
   "id": "ae953012-f39f-4c4d-933d-a10c5eb32c90",
   "metadata": {},
   "outputs": [],
   "source": [
    "# metoda iloc dane dla Andrzeja"
   ]
  },
  {
   "cell_type": "code",
   "execution_count": null,
   "id": "b3ec17dc-d1bf-4c68-accd-f9bb77ccda5a",
   "metadata": {},
   "outputs": [],
   "source": [
    "df.iloc[2]"
   ]
  },
  {
   "cell_type": "code",
   "execution_count": null,
   "id": "a2e95dad-d4cb-4df8-8899-7e87ce9284a2",
   "metadata": {},
   "outputs": [],
   "source": [
    "df[2:3]"
   ]
  },
  {
   "cell_type": "code",
   "execution_count": null,
   "id": "8035c407-da02-4378-afa0-106212b736a7",
   "metadata": {},
   "outputs": [],
   "source": []
  },
  {
   "cell_type": "code",
   "execution_count": null,
   "id": "da226c39-2fbc-4d69-8777-93e51a8fb90e",
   "metadata": {},
   "outputs": [],
   "source": [
    "# metoda loc wiecej niz jeden wiersz szukamy :)"
   ]
  },
  {
   "cell_type": "code",
   "execution_count": null,
   "id": "d51e46f9-1033-4eb4-bd76-aca40c4f34e2",
   "metadata": {},
   "outputs": [],
   "source": [
    "df.loc['Andrzej':'Janusz']"
   ]
  },
  {
   "cell_type": "code",
   "execution_count": null,
   "id": "80b183f4-df0b-447e-9651-1fe261e1a5f3",
   "metadata": {},
   "outputs": [],
   "source": [
    "# metoda iloc to samo co wyzej"
   ]
  },
  {
   "cell_type": "code",
   "execution_count": null,
   "id": "7bd28fb2-f155-4c4d-9707-984b181643de",
   "metadata": {},
   "outputs": [],
   "source": [
    "df.iloc[2:5]"
   ]
  },
  {
   "cell_type": "code",
   "execution_count": null,
   "id": "05556312-042b-47db-ae2c-58cd38570683",
   "metadata": {},
   "outputs": [],
   "source": [
    "# indeksowanie proste"
   ]
  },
  {
   "cell_type": "code",
   "execution_count": null,
   "id": "e8bad2b0-c6a4-486e-b49b-46b4bbd21fc2",
   "metadata": {},
   "outputs": [],
   "source": [
    "df[2:5]"
   ]
  },
  {
   "cell_type": "code",
   "execution_count": null,
   "id": "5b77b081-10ae-4d44-b44c-728a8a98c515",
   "metadata": {},
   "outputs": [],
   "source": [
    "# to co wyże ale indeksowanie proste"
   ]
  },
  {
   "cell_type": "code",
   "execution_count": null,
   "id": "96d0e3f1-5d5a-4aa9-8127-f47c26cd362e",
   "metadata": {},
   "outputs": [],
   "source": [
    "df.head()"
   ]
  },
  {
   "cell_type": "code",
   "execution_count": null,
   "id": "55476aa8-275d-4ed6-8165-4a825ec0652c",
   "metadata": {},
   "outputs": [],
   "source": [
    "df.loc['Agnieszka','Miasto']"
   ]
  },
  {
   "cell_type": "code",
   "execution_count": null,
   "id": "bd03351f-93e7-42f7-a086-6d83431f356a",
   "metadata": {},
   "outputs": [],
   "source": [
    "# to samo tylko z iloc"
   ]
  },
  {
   "cell_type": "code",
   "execution_count": null,
   "id": "7a4438f3-ebec-44fa-9bf2-fb0badde1444",
   "metadata": {},
   "outputs": [],
   "source": [
    "df.iloc[1,6]"
   ]
  },
  {
   "cell_type": "code",
   "execution_count": null,
   "id": "a6063bbc-97b9-4743-ba83-8d9a4b194684",
   "metadata": {},
   "outputs": [],
   "source": []
  },
  {
   "cell_type": "code",
   "execution_count": null,
   "id": "a45d5638-473a-4d68-a8a6-d6da9661fea4",
   "metadata": {},
   "outputs": [],
   "source": [
    "# indeowanie proste odwołujemy się do kolumny miasto a póxniejd o agneiszki"
   ]
  },
  {
   "cell_type": "code",
   "execution_count": null,
   "id": "73fe1b19-865e-46a1-bb3e-d6ca00c42511",
   "metadata": {},
   "outputs": [],
   "source": []
  },
  {
   "cell_type": "code",
   "execution_count": null,
   "id": "d423aaa8-14e9-4544-a2d9-d5bae9ddec01",
   "metadata": {},
   "outputs": [],
   "source": [
    "df['Miasto']['Agnieszka']"
   ]
  },
  {
   "cell_type": "code",
   "execution_count": null,
   "id": "721b89e5-9d52-4ae5-a40d-cf6858522571",
   "metadata": {},
   "outputs": [],
   "source": [
    "# indeksowanie proste opcja nr 2"
   ]
  },
  {
   "cell_type": "code",
   "execution_count": null,
   "id": "aa9ec1fb-7b1e-4ac4-98d4-7f384b277de6",
   "metadata": {},
   "outputs": [],
   "source": [
    "df[1:2]['Miasto']"
   ]
  },
  {
   "cell_type": "code",
   "execution_count": null,
   "id": "761302c7-2393-4c10-8ad7-516d1de2a55e",
   "metadata": {},
   "outputs": [],
   "source": [
    "df.head()"
   ]
  },
  {
   "cell_type": "code",
   "execution_count": null,
   "id": "e68a5479-be8b-4c7c-860f-85dcf8c767b8",
   "metadata": {},
   "outputs": [],
   "source": [
    "# wyciągnieie kilku kolumn za pomoca loc"
   ]
  },
  {
   "cell_type": "code",
   "execution_count": null,
   "id": "9186a476-d405-4671-8784-0e72207e93e0",
   "metadata": {},
   "outputs": [],
   "source": [
    "# wyciagamy dla Agnieszka od wiek do premia"
   ]
  },
  {
   "cell_type": "code",
   "execution_count": null,
   "id": "fd7270fe-57e9-49f3-8292-3c1941f1ec27",
   "metadata": {},
   "outputs": [],
   "source": [
    "df.loc['Agnieszka','Wiek':'Premia']"
   ]
  },
  {
   "cell_type": "code",
   "execution_count": null,
   "id": "38513860-0f7d-461e-87e0-c9f002b892c6",
   "metadata": {},
   "outputs": [],
   "source": [
    "# wszystkei imiona od Agnieszki do końca z wiekiem do premii\n",
    "df.loc['Agnieszka':,'Wiek':'Premia']"
   ]
  },
  {
   "cell_type": "code",
   "execution_count": null,
   "id": "35b3571b-3022-493d-b294-033c91f410b1",
   "metadata": {},
   "outputs": [],
   "source": [
    "# iloc wartosci liczbowe"
   ]
  },
  {
   "cell_type": "code",
   "execution_count": null,
   "id": "f263e5d7-6cb5-4d4d-9639-699ca508c1da",
   "metadata": {},
   "outputs": [],
   "source": [
    "df.iloc[1:,1:4]"
   ]
  },
  {
   "cell_type": "code",
   "execution_count": null,
   "id": "5d04d534-1b4b-43e0-b77d-702718f5700c",
   "metadata": {},
   "outputs": [],
   "source": [
    "# indeksowaie proste"
   ]
  },
  {
   "cell_type": "code",
   "execution_count": null,
   "id": "9e97c0bb-7d04-489f-95cc-b1a3bb7ea007",
   "metadata": {},
   "outputs": [],
   "source": [
    "# 1 bierzemy imiona anjpierw od Agneiszka do końca"
   ]
  },
  {
   "cell_type": "code",
   "execution_count": null,
   "id": "7f1e3593-91e3-4ba9-ba76-7457141d49b6",
   "metadata": {},
   "outputs": [],
   "source": []
  },
  {
   "cell_type": "code",
   "execution_count": null,
   "id": "f581f402-b70b-44ad-8acf-4158cc8ef2f4",
   "metadata": {},
   "outputs": [],
   "source": [
    "# 2 bierzemy kolumny"
   ]
  },
  {
   "cell_type": "code",
   "execution_count": null,
   "id": "c590636d-8887-4063-85c2-3e16d984f050",
   "metadata": {},
   "outputs": [],
   "source": [
    "df['Agnieszka':][['Wiek', 'Staż', 'Premia']]"
   ]
  },
  {
   "cell_type": "code",
   "execution_count": null,
   "id": "fc4cfe1e-1020-458a-8024-ecb97b3f7a5c",
   "metadata": {},
   "outputs": [],
   "source": []
  },
  {
   "cell_type": "code",
   "execution_count": null,
   "id": "778cbdb3-5afe-4dea-8d46-6e3502e232ef",
   "metadata": {},
   "outputs": [],
   "source": [
    "# Zmiana wartości "
   ]
  },
  {
   "cell_type": "code",
   "execution_count": null,
   "id": "4c85c027-0310-4a28-873b-54348dc53d95",
   "metadata": {},
   "outputs": [],
   "source": [
    "df.head()"
   ]
  },
  {
   "cell_type": "code",
   "execution_count": null,
   "id": "faa1b8fc-e707-4ada-a0de-7de03fe6b38b",
   "metadata": {},
   "outputs": [],
   "source": [
    "# Zmieniamy wiek Arianny z 23 na 25"
   ]
  },
  {
   "cell_type": "code",
   "execution_count": null,
   "id": "0666111e-34f3-4f5a-b2c9-991c21e37008",
   "metadata": {},
   "outputs": [],
   "source": [
    "df['Wiek']['Adrianna'] = 25"
   ]
  },
  {
   "cell_type": "code",
   "execution_count": null,
   "id": "eef2934f-4b7c-4f52-9fc1-6964bc63bed5",
   "metadata": {},
   "outputs": [],
   "source": [
    "# To jest zła metoda pwoduje wykonanie operacji na kopii naszego zbioru dnaych a nie na wlasciwym zbiorze danych"
   ]
  },
  {
   "cell_type": "code",
   "execution_count": null,
   "id": "52b58be9-627e-450a-b468-c21b984f1324",
   "metadata": {},
   "outputs": [],
   "source": [
    "df.head()\n"
   ]
  },
  {
   "cell_type": "code",
   "execution_count": null,
   "id": "13da38d6-7653-4c55-b35a-0f0636b02699",
   "metadata": {},
   "outputs": [],
   "source": [
    "# udało się to zmienić i to nie jest błąd a ostrzeżenie"
   ]
  },
  {
   "cell_type": "code",
   "execution_count": null,
   "id": "aeb874bc-7d8e-4841-a7a2-1099dfe98d8f",
   "metadata": {},
   "outputs": [],
   "source": [
    "# Poprawna metoda poniżej dla drugiego wiersza czyli Agnieszka zmiana na 35:\n"
   ]
  },
  {
   "cell_type": "code",
   "execution_count": null,
   "id": "045a9793-686f-4cb4-9c88-54e046b4f256",
   "metadata": {},
   "outputs": [],
   "source": [
    "df.loc['Agnieszka','Wiek']"
   ]
  },
  {
   "cell_type": "code",
   "execution_count": null,
   "id": "49f7ab60-672c-47a2-8305-642883517db6",
   "metadata": {},
   "outputs": [],
   "source": [
    "# wyświetliliśmy wiek"
   ]
  },
  {
   "cell_type": "code",
   "execution_count": null,
   "id": "40ee5573-c964-404d-9a90-a0f26083cb4b",
   "metadata": {},
   "outputs": [],
   "source": [
    "df.loc['Agnieszka','Wiek'] = 35"
   ]
  },
  {
   "cell_type": "code",
   "execution_count": null,
   "id": "491a7d90-079c-4d33-b2d1-f76bebccf68a",
   "metadata": {},
   "outputs": [],
   "source": [
    "df.head()"
   ]
  },
  {
   "cell_type": "code",
   "execution_count": null,
   "id": "819a3727-6da9-4a0b-86e2-c62e0dcc2879",
   "metadata": {},
   "outputs": [],
   "source": [
    "# udało się zmienić"
   ]
  },
  {
   "cell_type": "code",
   "execution_count": null,
   "id": "11f38f0c-87cd-41ca-9672-16abadd9d78f",
   "metadata": {},
   "outputs": [],
   "source": [
    "# za pomoca metody iloc"
   ]
  },
  {
   "cell_type": "code",
   "execution_count": null,
   "id": "bd49493e-58be-48eb-acd4-41a26f2a7c7b",
   "metadata": {},
   "outputs": [],
   "source": []
  },
  {
   "cell_type": "code",
   "execution_count": null,
   "id": "c28da212-8d60-4c11-810e-e0d3c94f9c6b",
   "metadata": {},
   "outputs": [],
   "source": [
    "df.iloc[1,1]"
   ]
  },
  {
   "cell_type": "code",
   "execution_count": null,
   "id": "5dc744e0-4066-486d-940a-88e03d7d4e4f",
   "metadata": {},
   "outputs": [],
   "source": [
    "df.iloc[1,1] = 104"
   ]
  },
  {
   "cell_type": "code",
   "execution_count": null,
   "id": "39102597-e9f6-4b14-9564-271f531ea671",
   "metadata": {},
   "outputs": [],
   "source": [
    "df.head()"
   ]
  },
  {
   "cell_type": "code",
   "execution_count": null,
   "id": "00423be9-d6b3-4577-91f0-1442ad06251a",
   "metadata": {},
   "outputs": [],
   "source": []
  },
  {
   "cell_type": "markdown",
   "id": "02238369-62d0-4404-a0dd-ba8a22dc7113",
   "metadata": {},
   "source": [
    "#  Maski"
   ]
  },
  {
   "cell_type": "code",
   "execution_count": null,
   "id": "647b88b3-e926-4416-9ad5-8beeb7dc9a1d",
   "metadata": {},
   "outputs": [],
   "source": [
    "import pandas as pd"
   ]
  },
  {
   "cell_type": "code",
   "execution_count": null,
   "id": "c1a72618-a6e5-45f6-a1c7-92db270bd8eb",
   "metadata": {},
   "outputs": [],
   "source": [
    "df=pd.read_excel('C:/Dane/2_programowanie_ML_zadanka_kurs_wprowadzenie\\Moduł 2/Zbiory danych/pracownicy.xlsx')"
   ]
  },
  {
   "cell_type": "code",
   "execution_count": null,
   "id": "9affe928-e92a-4f17-b3ba-d97baa347dec",
   "metadata": {},
   "outputs": [],
   "source": [
    "# podać wszystkie rekordy gdzie miasto to Warszawa. Wykorzystać maski"
   ]
  },
  {
   "cell_type": "code",
   "execution_count": null,
   "id": "c4a5ca30-c6c1-4ad1-b467-55751009b2b6",
   "metadata": {},
   "outputs": [],
   "source": [
    "df['Miasto']"
   ]
  },
  {
   "cell_type": "code",
   "execution_count": null,
   "id": "f916377b-12f1-46ff-9aa9-affd17b3f645",
   "metadata": {},
   "outputs": [],
   "source": [
    "#  1 tam gdzie Warszawa bedzie True"
   ]
  },
  {
   "cell_type": "code",
   "execution_count": null,
   "id": "e5aa1ac7-ba8f-4c73-a8ba-755761007dfb",
   "metadata": {},
   "outputs": [],
   "source": [
    "df['Miasto'] == 'Warszawa'\n"
   ]
  },
  {
   "cell_type": "code",
   "execution_count": null,
   "id": "a20cd6c5-1eb4-4207-9c6e-97b7465d9a44",
   "metadata": {},
   "outputs": [],
   "source": [
    "# 2wybieramy zbiór danych"
   ]
  },
  {
   "cell_type": "code",
   "execution_count": null,
   "id": "6c785198-2ed2-4d19-ab6a-6578b974782d",
   "metadata": {},
   "outputs": [],
   "source": [
    "df[df['Miasto'] == 'Warszawa']"
   ]
  },
  {
   "cell_type": "code",
   "execution_count": null,
   "id": "2d50ee35-3cf4-49c2-924a-32ce96c26a82",
   "metadata": {},
   "outputs": [],
   "source": [
    "# wynik"
   ]
  },
  {
   "cell_type": "code",
   "execution_count": null,
   "id": "a2624027-361a-48ac-8176-4cd22644657e",
   "metadata": {},
   "outputs": [],
   "source": [
    "# inne operatory"
   ]
  },
  {
   "cell_type": "code",
   "execution_count": null,
   "id": "57c690d8-2a6f-4004-9b7d-22a6c59fbd68",
   "metadata": {},
   "outputs": [],
   "source": [
    "# nierówne"
   ]
  },
  {
   "cell_type": "code",
   "execution_count": null,
   "id": "7ea107db-7a68-4644-b781-3da625e68db6",
   "metadata": {},
   "outputs": [],
   "source": [
    "df[df['Miasto'] != 'Warszawa']"
   ]
  },
  {
   "cell_type": "code",
   "execution_count": null,
   "id": "6b71c69f-a802-4fb1-9ff9-b5799496f195",
   "metadata": {},
   "outputs": [],
   "source": [
    "# łączenie operator i & warszawa pleć to kobieta\n",
    "df[(df['Miasto'] == 'Warszawa') & (df['Płeć'] == 'K') ]"
   ]
  },
  {
   "cell_type": "code",
   "execution_count": null,
   "id": "5ae9b949-0511-411e-8d1e-7aaf57cc5651",
   "metadata": {},
   "outputs": [],
   "source": [
    "# łączenie operator lub | warszawa pleć to kobieta\n",
    "df[(df['Miasto'] == 'Kraków') | (df['Zawód'] == 'Sprzedawca') ]"
   ]
  },
  {
   "cell_type": "code",
   "execution_count": null,
   "id": "2ff48194-dec6-44cc-9c93-f95afffff543",
   "metadata": {},
   "outputs": [],
   "source": [
    "# operator isin"
   ]
  },
  {
   "cell_type": "code",
   "execution_count": null,
   "id": "4c3529c5-59d3-4217-a22a-86f22b8d7b09",
   "metadata": {},
   "outputs": [],
   "source": [
    "df[df['Miasto'].isin(['Warszawa', 'Kraków'])]"
   ]
  },
  {
   "cell_type": "code",
   "execution_count": null,
   "id": "d35579c7-cfce-4acd-ab85-a0e86684d4d7",
   "metadata": {},
   "outputs": [],
   "source": [
    "# jeden element mniejszy niż:\n",
    "df[df['Wiek']<25]"
   ]
  },
  {
   "cell_type": "code",
   "execution_count": null,
   "id": "f29d3a9b-c676-4976-9f9b-ad08429ebe12",
   "metadata": {},
   "outputs": [],
   "source": [
    "# osoby pochodzące z Warszawy starsze niż 30 lat lub stnowisko analityka"
   ]
  },
  {
   "cell_type": "code",
   "execution_count": null,
   "id": "71e5f7bf-dd45-4a36-b6d7-3fe4af13ee39",
   "metadata": {},
   "outputs": [],
   "source": [
    "df[df['Miasto'].isin(['Warszawa'])] "
   ]
  },
  {
   "cell_type": "code",
   "execution_count": null,
   "id": "3af0a373-01da-4ada-9011-fdfce16a695a",
   "metadata": {},
   "outputs": [],
   "source": []
  },
  {
   "cell_type": "code",
   "execution_count": null,
   "id": "e115de5a-5e6e-4e9e-a4bf-9144c8bdf6f1",
   "metadata": {},
   "outputs": [],
   "source": [
    "df[(df['Miasto'].isin(['Warszawa'])) & (df['Wiek'] > 30) | (df['Zawód'] == 'Analityk')] "
   ]
  },
  {
   "cell_type": "code",
   "execution_count": null,
   "id": "6cce5c8d-cc61-493a-a457-4ef90c426e32",
   "metadata": {},
   "outputs": [],
   "source": [
    "# opcja b z kursu:\n",
    "df[((df['Miasto'] == 'Warszawa') & (df['Wiek'] > 30) )| (df['Zawód'] == 'Analityk')] "
   ]
  },
  {
   "cell_type": "code",
   "execution_count": null,
   "id": "f826686a-95dc-47af-a6ec-f21c200172f5",
   "metadata": {},
   "outputs": [],
   "source": []
  },
  {
   "cell_type": "markdown",
   "id": "4195d1e2-adb2-4f90-9ba2-63810f20ebfb",
   "metadata": {},
   "source": [
    "#  Tworzenie nowych kolumn oraz zmiana ich wartości"
   ]
  },
  {
   "cell_type": "code",
   "execution_count": null,
   "id": "87e4eefc-651f-4503-a255-581cd6442608",
   "metadata": {},
   "outputs": [],
   "source": []
  },
  {
   "cell_type": "code",
   "execution_count": null,
   "id": "4ebab9cb-7cb9-4b30-a805-e7486aca72d9",
   "metadata": {},
   "outputs": [],
   "source": [
    "# Zmiany na kolumnach"
   ]
  },
  {
   "cell_type": "code",
   "execution_count": null,
   "id": "ae070627-51b1-4373-8c00-9bd554396a6a",
   "metadata": {},
   "outputs": [],
   "source": [
    "import pandas as pd"
   ]
  },
  {
   "cell_type": "code",
   "execution_count": null,
   "id": "ab24cea2-8a95-4ba6-a0b7-6e70717641ea",
   "metadata": {},
   "outputs": [],
   "source": []
  },
  {
   "cell_type": "code",
   "execution_count": null,
   "id": "c6a68721-34ac-4b33-ae96-c66fd546d22b",
   "metadata": {},
   "outputs": [],
   "source": [
    "df =pd.read_excel('C:/Dane/2_programowanie_ML_zadanka_kurs_wprowadzenie\\Moduł 2/Zbiory danych/pracownicy.xlsx')"
   ]
  },
  {
   "cell_type": "code",
   "execution_count": null,
   "id": "7a42a5b2-9a4f-413b-b4b7-8ae10db74e8c",
   "metadata": {},
   "outputs": [],
   "source": [
    "df.head()"
   ]
  },
  {
   "cell_type": "code",
   "execution_count": null,
   "id": "6afb0916-1411-497e-a086-7c7ad3d90863",
   "metadata": {},
   "outputs": [],
   "source": [
    "# Tworzymy nową zmienną ocena. Tworzy sie kolumna ocena z wartościami = 0"
   ]
  },
  {
   "cell_type": "code",
   "execution_count": null,
   "id": "0856d601-ccf9-4d50-83fa-b3b2f7cacd5f",
   "metadata": {},
   "outputs": [],
   "source": [
    "df['Ocena'] = 0"
   ]
  },
  {
   "cell_type": "code",
   "execution_count": null,
   "id": "11913506-fdf9-4146-ae03-6190997daa92",
   "metadata": {},
   "outputs": [],
   "source": [
    "df.head()"
   ]
  },
  {
   "cell_type": "code",
   "execution_count": null,
   "id": "19ad1bb0-0247-444b-b9be-2cb7d4933fd7",
   "metadata": {},
   "outputs": [],
   "source": [
    "# Zmieniamy ocenę Andrzejowi"
   ]
  },
  {
   "cell_type": "code",
   "execution_count": null,
   "id": "f31982ab-af38-41db-a4fe-2131111e60c1",
   "metadata": {},
   "outputs": [],
   "source": [
    "df.loc[2, 'Ocena'] = 5"
   ]
  },
  {
   "cell_type": "code",
   "execution_count": null,
   "id": "f8b46a70-7003-449d-86ef-21a0970abde1",
   "metadata": {},
   "outputs": [],
   "source": [
    "df.head()"
   ]
  },
  {
   "cell_type": "code",
   "execution_count": null,
   "id": "85feaed5-e3d9-4b38-bd36-be6bbe72a624",
   "metadata": {},
   "outputs": [],
   "source": [
    "# Ocena zmieniona"
   ]
  },
  {
   "cell_type": "code",
   "execution_count": null,
   "id": "78471840-79fd-4b03-bd26-ca9db3e67fec",
   "metadata": {},
   "outputs": [],
   "source": [
    "# Zmiana kolumny opcja nr 2 z użyciem maski gdy chcemy zmienić wiecej wartości niż jedna"
   ]
  },
  {
   "cell_type": "code",
   "execution_count": null,
   "id": "6a69b561-bcbe-4ead-94cc-779a9b167dce",
   "metadata": {},
   "outputs": [],
   "source": [
    "# ograniczamy sobie zawody do księgowych. Podjamey wartośc kolumny którą chcemy zmienic i przypisujemy ocenę"
   ]
  },
  {
   "cell_type": "code",
   "execution_count": null,
   "id": "d3632d49-a1d6-4e54-bf4c-277f6ab8d1e5",
   "metadata": {},
   "outputs": [],
   "source": [
    "df.loc[df['Zawód'] == 'Księgowy','Ocena'] = 3"
   ]
  },
  {
   "cell_type": "code",
   "execution_count": null,
   "id": "4503556f-68c6-44f1-ae7d-4c7815ac3d0c",
   "metadata": {},
   "outputs": [],
   "source": [
    "df.head()"
   ]
  },
  {
   "cell_type": "code",
   "execution_count": null,
   "id": "19c52d71-75dc-4da7-9555-e0189319180b",
   "metadata": {},
   "outputs": [],
   "source": [
    "df"
   ]
  },
  {
   "cell_type": "code",
   "execution_count": null,
   "id": "9f7df6de-39de-4d67-b6a8-bfd4609f87aa",
   "metadata": {},
   "outputs": [],
   "source": []
  },
  {
   "cell_type": "code",
   "execution_count": null,
   "id": "309e106d-a291-49e6-bf87-1eee49dc6edd",
   "metadata": {},
   "outputs": [],
   "source": [
    "# Tworzenie nowej zmiennej bazującej na starych zmiennych...."
   ]
  },
  {
   "cell_type": "code",
   "execution_count": null,
   "id": "99adada7-9b8c-4a84-84ac-c212d3becfca",
   "metadata": {},
   "outputs": [],
   "source": [
    "# Ile dana osoba zarabia w całości zarobki plus premia.\n"
   ]
  },
  {
   "cell_type": "code",
   "execution_count": null,
   "id": "14a0e19b-fc21-4945-804a-b7cb0b7cf105",
   "metadata": {},
   "outputs": [],
   "source": [
    "#  1tworymy zmienną która bedzie kolumną nową Zarobki_tot"
   ]
  },
  {
   "cell_type": "code",
   "execution_count": null,
   "id": "102ee7d4-ecb9-4c19-a1a9-d9e69d3ea84a",
   "metadata": {},
   "outputs": [],
   "source": [
    "df['Zarobki_tot'] = df['Zarobki'] * (1 + df['Premia'])"
   ]
  },
  {
   "cell_type": "code",
   "execution_count": null,
   "id": "4484ee9f-cadf-48e8-a405-4046ba884a70",
   "metadata": {},
   "outputs": [],
   "source": [
    "df"
   ]
  },
  {
   "cell_type": "code",
   "execution_count": null,
   "id": "3ba240c9-f308-4a22-9ee5-acf34f1c98bb",
   "metadata": {},
   "outputs": [],
   "source": [
    "# powstała nowa kolumna z nowymi zarobkami"
   ]
  },
  {
   "cell_type": "code",
   "execution_count": null,
   "id": "a56c3c23-edac-4a42-a8b8-d6ed5a2521e8",
   "metadata": {},
   "outputs": [],
   "source": []
  },
  {
   "cell_type": "code",
   "execution_count": null,
   "id": "738258fe-ab9b-48ca-b182-fb216de9721c",
   "metadata": {},
   "outputs": [],
   "source": [
    "# Przykład nr 2 łączenie zmiennych znakowych"
   ]
  },
  {
   "cell_type": "code",
   "execution_count": null,
   "id": "9c3a3054-624d-41f7-b467-da44f2a46bd5",
   "metadata": {},
   "outputs": [],
   "source": [
    "df"
   ]
  },
  {
   "cell_type": "code",
   "execution_count": null,
   "id": "a92cefe8-683c-4041-a61f-e5c337237df7",
   "metadata": {},
   "outputs": [],
   "source": [
    "# Tworzymy zmienną nazwa jako sumę imienia i nazwiska. Trzeba pamiętać o spacji"
   ]
  },
  {
   "cell_type": "code",
   "execution_count": null,
   "id": "78f63377-64cf-4ba3-b03b-b10e6db28447",
   "metadata": {},
   "outputs": [],
   "source": [
    "df ['Nazwa'] = df['Imię'] + ' ' + df['Nazwisko']"
   ]
  },
  {
   "cell_type": "code",
   "execution_count": null,
   "id": "0939e7ce-6a41-4dc4-a974-2e540fc3db72",
   "metadata": {},
   "outputs": [],
   "source": [
    "df"
   ]
  },
  {
   "cell_type": "code",
   "execution_count": null,
   "id": "eba736cf-0e3c-4b2f-a813-aaf8e4611d9e",
   "metadata": {},
   "outputs": [],
   "source": [
    "# Otrzymaliśmy nowa kolumne z imieniem i nazwiskiem"
   ]
  },
  {
   "cell_type": "code",
   "execution_count": null,
   "id": "798f4d40-d63c-4ef5-94ef-71769b13d8e4",
   "metadata": {},
   "outputs": [],
   "source": [
    "# Modyfikacja kolumn "
   ]
  },
  {
   "cell_type": "code",
   "execution_count": null,
   "id": "f28aeb1a-dab7-4299-a6cf-9581bc448ea2",
   "metadata": {},
   "outputs": [],
   "source": [
    "# Przykład Zmiany kolumny staż na staż pracy  i Zarobki na Pensja"
   ]
  },
  {
   "cell_type": "code",
   "execution_count": null,
   "id": "85ab2eb0-e53d-424f-89f8-68e8c9a337f0",
   "metadata": {},
   "outputs": [],
   "source": [
    "df.rename(columns = {'Staż': 'Staż pracy', 'Zarobki': 'Pensja'})"
   ]
  },
  {
   "cell_type": "code",
   "execution_count": null,
   "id": "6be60dfb-388c-4432-994e-d90a2c061d1f",
   "metadata": {},
   "outputs": [],
   "source": [
    "#Aby te kolumny zapisały się należy przypisać napisany kod do zmienniej np df1 bo df poda starą tabelę"
   ]
  },
  {
   "cell_type": "code",
   "execution_count": null,
   "id": "e2f8c39e-4609-4563-be7a-fc5a44507bcb",
   "metadata": {},
   "outputs": [],
   "source": [
    "df1 = df.rename(columns = {'Staż': 'Staż pracy', 'Zarobki': 'Pensja'})"
   ]
  },
  {
   "cell_type": "code",
   "execution_count": null,
   "id": "9a0d1247-5c28-4bd5-979c-f37c9e362e67",
   "metadata": {},
   "outputs": [],
   "source": [
    "df1"
   ]
  },
  {
   "cell_type": "code",
   "execution_count": null,
   "id": "7e367977-e5ed-4fdd-9955-baeeb7167184",
   "metadata": {},
   "outputs": [],
   "source": [
    "#  innym rozwiązaniem jest użycie argumentu inplace= true"
   ]
  },
  {
   "cell_type": "code",
   "execution_count": null,
   "id": "d53e84d5-b90e-4660-85fa-ececf39a8af1",
   "metadata": {},
   "outputs": [],
   "source": [
    "df.rename(columns = {'Staż': 'Staż pracy', 'Zarobki': 'Pensja'}, inplace=True)"
   ]
  },
  {
   "cell_type": "code",
   "execution_count": null,
   "id": "a5653163-8dbf-4929-b29e-e70b3814f0f7",
   "metadata": {},
   "outputs": [],
   "source": [
    "df"
   ]
  },
  {
   "cell_type": "code",
   "execution_count": null,
   "id": "f8d25c99-a3d3-4f70-b2eb-90720fc01a3e",
   "metadata": {},
   "outputs": [],
   "source": [
    "# Zmiany w df zosały zapisane"
   ]
  },
  {
   "cell_type": "code",
   "execution_count": null,
   "id": "d5785364-2a34-4137-a9c8-b7b5e873949c",
   "metadata": {},
   "outputs": [],
   "source": []
  },
  {
   "cell_type": "code",
   "execution_count": null,
   "id": "f1cb913c-b574-47d2-b28a-416f83eb9d1b",
   "metadata": {},
   "outputs": [],
   "source": [
    "# Usuniecie zmiennej axis=1 oznacza, że usuwamy kolumny a nie wiersze. inplace = True czyli andpisujemy"
   ]
  },
  {
   "cell_type": "code",
   "execution_count": null,
   "id": "b3e504bd-5eaa-4621-a8c1-5f83059b32c2",
   "metadata": {},
   "outputs": [],
   "source": [
    "df.drop('Staż pracy', axis =1, inplace= True )"
   ]
  },
  {
   "cell_type": "code",
   "execution_count": null,
   "id": "e78fe422-d28c-4968-af17-dc816c73ec67",
   "metadata": {},
   "outputs": [],
   "source": [
    "df"
   ]
  },
  {
   "cell_type": "code",
   "execution_count": null,
   "id": "786b81a3-4d57-4f43-83c6-c3d63d6593de",
   "metadata": {},
   "outputs": [],
   "source": [
    "# Rozdzielam zmienną nazwa na imie i nazwisko expand = True) przypisz rozdzielone wartosci do nowych zmiennych "
   ]
  },
  {
   "cell_type": "code",
   "execution_count": null,
   "id": "b2c47834-768f-4204-971a-27ef536c0b41",
   "metadata": {},
   "outputs": [],
   "source": [
    "df[['Rozdzielone imię', 'Rozdzielone nazwisko']] = df['Nazwa'].str.split(' ', expand = True)"
   ]
  },
  {
   "cell_type": "code",
   "execution_count": null,
   "id": "22858572-016c-4542-85d9-171f80c1693e",
   "metadata": {},
   "outputs": [],
   "source": [
    "df"
   ]
  },
  {
   "cell_type": "markdown",
   "id": "3dfbe534-cc7f-441e-a6e2-8edbec1408cc",
   "metadata": {},
   "source": [
    "# Analiza DataFrames przydatne metody w Pndas apply,groupby"
   ]
  },
  {
   "cell_type": "code",
   "execution_count": null,
   "id": "0f104c08-40cc-46f3-8cfb-5f7ef70109e7",
   "metadata": {},
   "outputs": [],
   "source": [
    "import pandas as pd"
   ]
  },
  {
   "cell_type": "code",
   "execution_count": null,
   "id": "df1f3f2f-58bf-44d1-8bde-04addb01c0cf",
   "metadata": {},
   "outputs": [],
   "source": [
    "df =pd.read_excel('C:/Dane/2_programowanie_ML_zadanka_kurs_wprowadzenie\\Moduł 2/Zbiory danych/pracownicy.xlsx')"
   ]
  },
  {
   "cell_type": "code",
   "execution_count": null,
   "id": "48da780f-daf3-4b1b-850a-563207fc9a7d",
   "metadata": {},
   "outputs": [],
   "source": [
    "df.head()"
   ]
  },
  {
   "cell_type": "code",
   "execution_count": null,
   "id": "3f5a1a70-7f0f-49bd-bdf2-c332a5b8f99d",
   "metadata": {},
   "outputs": [],
   "source": [
    "# apply ze względu na kolumne hcemy okreslić pracownik z dużym stażem w pracy staz większy niz 10 lat długi staż mniejszy niż 10 lat krótki\n"
   ]
  },
  {
   "cell_type": "code",
   "execution_count": null,
   "id": "ad1b89fb-7227-480f-a0b1-fb0299f67a4b",
   "metadata": {},
   "outputs": [],
   "source": [
    "# tworze funkcję i argument staż"
   ]
  },
  {
   "cell_type": "code",
   "execution_count": null,
   "id": "1f08bcb5-5b4a-4959-92bc-8caf7aca4ca7",
   "metadata": {},
   "outputs": [],
   "source": [
    "def staz(staz):\n",
    "    if staz >= 10:\n",
    "        return \"Długi staz\"\n",
    "    else:\n",
    "        return \"krótki staż\"\n",
    "    "
   ]
  },
  {
   "cell_type": "code",
   "execution_count": null,
   "id": "7b6ca0f0-39d9-40a1-93be-05d05f88609b",
   "metadata": {},
   "outputs": [],
   "source": [
    "# nakładamy funkcję na zmienną"
   ]
  },
  {
   "cell_type": "code",
   "execution_count": null,
   "id": "9ab1b066-23e2-4bd1-a6a6-762c5bd73979",
   "metadata": {},
   "outputs": [],
   "source": [
    "df.Staż"
   ]
  },
  {
   "cell_type": "code",
   "execution_count": null,
   "id": "8edab3e9-faa6-49d4-a171-4d5f726c3f50",
   "metadata": {},
   "outputs": [],
   "source": [
    "# 2 df. zmienna ze zbioru.apply(nazwa funkcji)"
   ]
  },
  {
   "cell_type": "code",
   "execution_count": null,
   "id": "1c6f3d96-27fa-4f5d-8bc1-8c724e958e9d",
   "metadata": {},
   "outputs": [],
   "source": [
    "df.Staż.apply(staz) "
   ]
  },
  {
   "cell_type": "code",
   "execution_count": null,
   "id": "ec941a88-b3b0-429c-81de-a9044a13afb4",
   "metadata": {},
   "outputs": [],
   "source": [
    "# 3 wygladzamy kod i dodajemy kolumnę do danych"
   ]
  },
  {
   "cell_type": "code",
   "execution_count": null,
   "id": "511ed811-0799-42a7-a463-70314f3d1c34",
   "metadata": {},
   "outputs": [],
   "source": [
    "df['Długość stażu'] = df.Staż.apply(staz)"
   ]
  },
  {
   "cell_type": "code",
   "execution_count": null,
   "id": "519445db-5a07-4e5d-bbcc-2ced23cf673c",
   "metadata": {},
   "outputs": [],
   "source": [
    "df"
   ]
  },
  {
   "cell_type": "code",
   "execution_count": null,
   "id": "14e1f594-cacf-4c59-ab95-364e44902848",
   "metadata": {},
   "outputs": [],
   "source": []
  },
  {
   "cell_type": "code",
   "execution_count": null,
   "id": "06aff3aa-1c17-4b8c-94d1-7f01a4b4edf2",
   "metadata": {},
   "outputs": [],
   "source": [
    "# Przykład nr 2 nałożenie na cały zbiór a nie na jedną kolumnę. Wyznaczymy funkcję która zwrócinam wartośc właściwych zarobków razem z \n",
    "# premią wykorzystujac funkcje apply"
   ]
  },
  {
   "cell_type": "code",
   "execution_count": null,
   "id": "16d9a29a-b577-475d-a0e2-8e304f061c5b",
   "metadata": {},
   "outputs": [],
   "source": [
    "# Tworze funkcje a argument funkcji który przyjmie całe dane"
   ]
  },
  {
   "cell_type": "code",
   "execution_count": null,
   "id": "22d1e0e8-8ac0-44d5-81e3-e6e53fa13536",
   "metadata": {},
   "outputs": [],
   "source": [
    "def pensja(dane):\n",
    "    # tworzę nową kolumne pensja\n",
    "    dane['Pensja'] = dane['Zarobki'] + (1*dane['Premia'])\n",
    "    return dane"
   ]
  },
  {
   "cell_type": "code",
   "execution_count": null,
   "id": "585242a7-e9bf-4bc8-871c-5202184d30dc",
   "metadata": {},
   "outputs": [],
   "source": [
    "# nakładamy funkcje na dane"
   ]
  },
  {
   "cell_type": "code",
   "execution_count": null,
   "id": "0c1c9366-4a74-4621-adb6-7949b226a63d",
   "metadata": {},
   "outputs": [],
   "source": [
    "df = df.apply(pensja, axis=1)\n",
    "# axis=1 zmian dokonujemy na całym zbiorze"
   ]
  },
  {
   "cell_type": "code",
   "execution_count": null,
   "id": "347870ab-f28f-4b99-9072-ad52cd8bb9aa",
   "metadata": {},
   "outputs": [],
   "source": [
    "df"
   ]
  },
  {
   "cell_type": "code",
   "execution_count": null,
   "id": "ad69e363-3882-4c2a-b961-6adacd48877f",
   "metadata": {},
   "outputs": [],
   "source": [
    "# kasowanie kolumny"
   ]
  },
  {
   "cell_type": "code",
   "execution_count": null,
   "id": "79f7c824-d6cd-49bb-8c3d-c39ea16be003",
   "metadata": {},
   "outputs": [],
   "source": [
    "df.drop('Długość stażu', axis=1, inplace=True)"
   ]
  },
  {
   "cell_type": "code",
   "execution_count": null,
   "id": "ad5e952b-30b8-4eb3-b1f0-1ada28c05365",
   "metadata": {},
   "outputs": [],
   "source": [
    "# Funkcja lambda i długośc stażu "
   ]
  },
  {
   "cell_type": "code",
   "execution_count": null,
   "id": "ecc3e0bf-3d88-4271-b315-f36e75b48c54",
   "metadata": {},
   "outputs": [],
   "source": [
    "df['Długość stażu'] = df.Staż.apply(lambda x: 'Długi staż' if x>=10 else \"krótki staż\")"
   ]
  },
  {
   "cell_type": "code",
   "execution_count": null,
   "id": "90c22849-3eff-4d0d-a052-320a7f34c309",
   "metadata": {},
   "outputs": [],
   "source": [
    "# najpierw wybieramy zmienną Staż.apply(lambda x: 'Długi staż' if x>=10 else \"krótki staż)"
   ]
  },
  {
   "cell_type": "code",
   "execution_count": null,
   "id": "397489fd-88a0-4004-8dde-eba642c57ca0",
   "metadata": {},
   "outputs": [],
   "source": [
    "df"
   ]
  },
  {
   "cell_type": "code",
   "execution_count": null,
   "id": "88ffc266-fbff-4cc1-b307-950feaa1c0c5",
   "metadata": {},
   "outputs": [],
   "source": [
    "# Do funkcji lambda nie da się w kodzie odwołac\n"
   ]
  },
  {
   "cell_type": "code",
   "execution_count": null,
   "id": "ffc92e21-eae4-4a58-b385-d4c2d82d46f0",
   "metadata": {},
   "outputs": [],
   "source": []
  },
  {
   "cell_type": "code",
   "execution_count": null,
   "id": "1a885635-520b-4e88-b0f4-ebfc81ef1565",
   "metadata": {},
   "outputs": [],
   "source": [
    "# Groupby"
   ]
  },
  {
   "cell_type": "code",
   "execution_count": null,
   "id": "bf175459-6878-4dbb-876c-7fb3f56eee9f",
   "metadata": {},
   "outputs": [],
   "source": [
    "# grupujemy z\\biór danych ze wzgledu na kolumnę Miasto"
   ]
  },
  {
   "cell_type": "code",
   "execution_count": null,
   "id": "781e1cb0-c802-4fed-9e08-f8394228328e",
   "metadata": {},
   "outputs": [],
   "source": [
    "df.groupby('Miasto').count()"
   ]
  },
  {
   "cell_type": "code",
   "execution_count": null,
   "id": "3099dfab-bc09-4b7c-9be2-3313194dff17",
   "metadata": {},
   "outputs": [],
   "source": [
    "# grupujemy miasto po Zarobkach zliczajac"
   ]
  },
  {
   "cell_type": "code",
   "execution_count": null,
   "id": "a5c6a072-f75e-40a1-94a6-602126f09c06",
   "metadata": {},
   "outputs": [],
   "source": [
    "df.groupby('Miasto')['Zarobki'].count()"
   ]
  },
  {
   "cell_type": "code",
   "execution_count": null,
   "id": "d6ee62e5-d7e5-41f1-aa7e-2aeec2466b0b",
   "metadata": {},
   "outputs": [],
   "source": []
  },
  {
   "cell_type": "code",
   "execution_count": null,
   "id": "e3d47675-470c-4dca-8beb-f4729bee6a58",
   "metadata": {},
   "outputs": [],
   "source": [
    "# grupujemy miasto po Zarobkach zliczajac średnia."
   ]
  },
  {
   "cell_type": "code",
   "execution_count": null,
   "id": "e1d1400b-19eb-4c65-8675-aca81da38a93",
   "metadata": {},
   "outputs": [],
   "source": [
    "df.groupby('Miasto')['Zarobki'].mean()"
   ]
  },
  {
   "cell_type": "code",
   "execution_count": null,
   "id": "583ddaa6-0638-4166-9703-02aaf1805222",
   "metadata": {},
   "outputs": [],
   "source": [
    "# Otrzymaliśmy średią wartośc zarobków na poszczeólne miasta"
   ]
  },
  {
   "cell_type": "code",
   "execution_count": null,
   "id": "c2b110a0-f572-4f6b-b02b-0fbb16cc704f",
   "metadata": {},
   "outputs": [],
   "source": [
    "# grupujemy zbior danych po zmiennej Miasto i Zawód wyznaczajac średnie Zarobki i Premia \n",
    "# te wartości w liscie nr 1 wyswietli nam dwie zmienne w liscie poxniej dwie szukane w liscie na końcu miara czyli mean()"
   ]
  },
  {
   "cell_type": "code",
   "execution_count": 49,
   "id": "750587f9-411f-4521-97f0-16f0e6fba8b3",
   "metadata": {},
   "outputs": [
    {
     "data": {
      "text/html": [
       "<div>\n",
       "<style scoped>\n",
       "    .dataframe tbody tr th:only-of-type {\n",
       "        vertical-align: middle;\n",
       "    }\n",
       "\n",
       "    .dataframe tbody tr th {\n",
       "        vertical-align: top;\n",
       "    }\n",
       "\n",
       "    .dataframe thead th {\n",
       "        text-align: right;\n",
       "    }\n",
       "</style>\n",
       "<table border=\"1\" class=\"dataframe\">\n",
       "  <thead>\n",
       "    <tr style=\"text-align: right;\">\n",
       "      <th></th>\n",
       "      <th></th>\n",
       "      <th>Zarobki</th>\n",
       "      <th>Premia</th>\n",
       "    </tr>\n",
       "    <tr>\n",
       "      <th>Miasto</th>\n",
       "      <th>Zawód</th>\n",
       "      <th></th>\n",
       "      <th></th>\n",
       "    </tr>\n",
       "  </thead>\n",
       "  <tbody>\n",
       "    <tr>\n",
       "      <th rowspan=\"2\" valign=\"top\">Gdańsk</th>\n",
       "      <th>Księgowy</th>\n",
       "      <td>6000.0</td>\n",
       "      <td>0.0000</td>\n",
       "    </tr>\n",
       "    <tr>\n",
       "      <th>Sprzedawca</th>\n",
       "      <td>5500.0</td>\n",
       "      <td>0.0700</td>\n",
       "    </tr>\n",
       "    <tr>\n",
       "      <th rowspan=\"3\" valign=\"top\">Kraków</th>\n",
       "      <th>Analityk</th>\n",
       "      <td>9000.0</td>\n",
       "      <td>0.0000</td>\n",
       "    </tr>\n",
       "    <tr>\n",
       "      <th>Kierownik</th>\n",
       "      <td>12500.0</td>\n",
       "      <td>0.0200</td>\n",
       "    </tr>\n",
       "    <tr>\n",
       "      <th>Księgowy</th>\n",
       "      <td>4000.0</td>\n",
       "      <td>0.0000</td>\n",
       "    </tr>\n",
       "    <tr>\n",
       "      <th rowspan=\"4\" valign=\"top\">Warszawa</th>\n",
       "      <th>Analityk</th>\n",
       "      <td>7500.0</td>\n",
       "      <td>0.0000</td>\n",
       "    </tr>\n",
       "    <tr>\n",
       "      <th>Kierownik</th>\n",
       "      <td>17000.0</td>\n",
       "      <td>0.0200</td>\n",
       "    </tr>\n",
       "    <tr>\n",
       "      <th>Księgowy</th>\n",
       "      <td>8000.0</td>\n",
       "      <td>0.0000</td>\n",
       "    </tr>\n",
       "    <tr>\n",
       "      <th>Sprzedawca</th>\n",
       "      <td>6000.0</td>\n",
       "      <td>0.0825</td>\n",
       "    </tr>\n",
       "    <tr>\n",
       "      <th rowspan=\"3\" valign=\"top\">Łódź</th>\n",
       "      <th>Analityk</th>\n",
       "      <td>5000.0</td>\n",
       "      <td>0.0000</td>\n",
       "    </tr>\n",
       "    <tr>\n",
       "      <th>Kierownik</th>\n",
       "      <td>15000.0</td>\n",
       "      <td>0.0300</td>\n",
       "    </tr>\n",
       "    <tr>\n",
       "      <th>Księgowy</th>\n",
       "      <td>4250.0</td>\n",
       "      <td>0.0000</td>\n",
       "    </tr>\n",
       "  </tbody>\n",
       "</table>\n",
       "</div>"
      ],
      "text/plain": [
       "                     Zarobki  Premia\n",
       "Miasto   Zawód                      \n",
       "Gdańsk   Księgowy     6000.0  0.0000\n",
       "         Sprzedawca   5500.0  0.0700\n",
       "Kraków   Analityk     9000.0  0.0000\n",
       "         Kierownik   12500.0  0.0200\n",
       "         Księgowy     4000.0  0.0000\n",
       "Warszawa Analityk     7500.0  0.0000\n",
       "         Kierownik   17000.0  0.0200\n",
       "         Księgowy     8000.0  0.0000\n",
       "         Sprzedawca   6000.0  0.0825\n",
       "Łódź     Analityk     5000.0  0.0000\n",
       "         Kierownik   15000.0  0.0300\n",
       "         Księgowy     4250.0  0.0000"
      ]
     },
     "execution_count": 49,
     "metadata": {},
     "output_type": "execute_result"
    }
   ],
   "source": [
    "df.groupby(['Miasto', 'Zawód'])[['Zarobki', 'Premia']].mean()"
   ]
  },
  {
   "cell_type": "code",
   "execution_count": null,
   "id": "ea22315c-fc9d-4b42-acb6-ad1a43ed5871",
   "metadata": {},
   "outputs": [],
   "source": [
    "# powyzszy sposob nie umozliwia wyliczenia wiecej niz jednej mairy"
   ]
  },
  {
   "cell_type": "code",
   "execution_count": null,
   "id": "3215e5b1-9c9e-40dc-bb21-57923cf34ed0",
   "metadata": {},
   "outputs": [],
   "source": [
    "# metoda agg pozwala wyznaczyc wiecej niż jedna mairę"
   ]
  },
  {
   "cell_type": "code",
   "execution_count": null,
   "id": "fbd5c589-49c4-4490-873a-2125592c6e00",
   "metadata": {},
   "outputs": [],
   "source": [
    "# df.groupby('po czym chcemy grupować').agg({słwonik klucz nazwa kolumn wartośc to max min mean})"
   ]
  },
  {
   "cell_type": "code",
   "execution_count": 50,
   "id": "46fbc06d-15f4-4a67-8d9a-036ad1dff725",
   "metadata": {},
   "outputs": [
    {
     "data": {
      "text/html": [
       "<div>\n",
       "<style scoped>\n",
       "    .dataframe tbody tr th:only-of-type {\n",
       "        vertical-align: middle;\n",
       "    }\n",
       "\n",
       "    .dataframe tbody tr th {\n",
       "        vertical-align: top;\n",
       "    }\n",
       "\n",
       "    .dataframe thead tr th {\n",
       "        text-align: left;\n",
       "    }\n",
       "\n",
       "    .dataframe thead tr:last-of-type th {\n",
       "        text-align: right;\n",
       "    }\n",
       "</style>\n",
       "<table border=\"1\" class=\"dataframe\">\n",
       "  <thead>\n",
       "    <tr>\n",
       "      <th></th>\n",
       "      <th colspan=\"2\" halign=\"left\">Zarobki</th>\n",
       "      <th colspan=\"2\" halign=\"left\">Premia</th>\n",
       "    </tr>\n",
       "    <tr>\n",
       "      <th></th>\n",
       "      <th>mean</th>\n",
       "      <th>max</th>\n",
       "      <th>min</th>\n",
       "      <th>max</th>\n",
       "    </tr>\n",
       "    <tr>\n",
       "      <th>Miasto</th>\n",
       "      <th></th>\n",
       "      <th></th>\n",
       "      <th></th>\n",
       "      <th></th>\n",
       "    </tr>\n",
       "  </thead>\n",
       "  <tbody>\n",
       "    <tr>\n",
       "      <th>Gdańsk</th>\n",
       "      <td>5750.0</td>\n",
       "      <td>6000</td>\n",
       "      <td>0.0</td>\n",
       "      <td>0.07</td>\n",
       "    </tr>\n",
       "    <tr>\n",
       "      <th>Kraków</th>\n",
       "      <td>9500.0</td>\n",
       "      <td>13000</td>\n",
       "      <td>0.0</td>\n",
       "      <td>0.02</td>\n",
       "    </tr>\n",
       "    <tr>\n",
       "      <th>Warszawa</th>\n",
       "      <td>8000.0</td>\n",
       "      <td>17000</td>\n",
       "      <td>0.0</td>\n",
       "      <td>0.10</td>\n",
       "    </tr>\n",
       "    <tr>\n",
       "      <th>Łódź</th>\n",
       "      <td>7125.0</td>\n",
       "      <td>15000</td>\n",
       "      <td>0.0</td>\n",
       "      <td>0.03</td>\n",
       "    </tr>\n",
       "  </tbody>\n",
       "</table>\n",
       "</div>"
      ],
      "text/plain": [
       "         Zarobki        Premia      \n",
       "            mean    max    min   max\n",
       "Miasto                              \n",
       "Gdańsk    5750.0   6000    0.0  0.07\n",
       "Kraków    9500.0  13000    0.0  0.02\n",
       "Warszawa  8000.0  17000    0.0  0.10\n",
       "Łódź      7125.0  15000    0.0  0.03"
      ]
     },
     "execution_count": 50,
     "metadata": {},
     "output_type": "execute_result"
    }
   ],
   "source": [
    "df.groupby('Miasto').agg({'Zarobki':['mean', 'max' ],\n",
    "                         'Premia':['min', 'max']})"
   ]
  },
  {
   "cell_type": "code",
   "execution_count": null,
   "id": "7d02abf0-c084-48af-a361-05b9ab1b8348",
   "metadata": {},
   "outputs": [],
   "source": [
    "# definiując miary w słowniku można nadać im konkretne nazwy i wtedy kasujemy slownik"
   ]
  },
  {
   "cell_type": "code",
   "execution_count": null,
   "id": "cfb517de-c44c-4b4f-8e6d-ad1a747be4cf",
   "metadata": {},
   "outputs": [],
   "source": []
  },
  {
   "cell_type": "code",
   "execution_count": 51,
   "id": "e28b1634-0744-4212-a498-322c36312b1c",
   "metadata": {},
   "outputs": [
    {
     "data": {
      "text/html": [
       "<div>\n",
       "<style scoped>\n",
       "    .dataframe tbody tr th:only-of-type {\n",
       "        vertical-align: middle;\n",
       "    }\n",
       "\n",
       "    .dataframe tbody tr th {\n",
       "        vertical-align: top;\n",
       "    }\n",
       "\n",
       "    .dataframe thead th {\n",
       "        text-align: right;\n",
       "    }\n",
       "</style>\n",
       "<table border=\"1\" class=\"dataframe\">\n",
       "  <thead>\n",
       "    <tr style=\"text-align: right;\">\n",
       "      <th></th>\n",
       "      <th>srednie_zarobki</th>\n",
       "      <th>maksymalne_zarobki</th>\n",
       "    </tr>\n",
       "    <tr>\n",
       "      <th>Miasto</th>\n",
       "      <th></th>\n",
       "      <th></th>\n",
       "    </tr>\n",
       "  </thead>\n",
       "  <tbody>\n",
       "    <tr>\n",
       "      <th>Gdańsk</th>\n",
       "      <td>5750.0</td>\n",
       "      <td>6000</td>\n",
       "    </tr>\n",
       "    <tr>\n",
       "      <th>Kraków</th>\n",
       "      <td>9500.0</td>\n",
       "      <td>13000</td>\n",
       "    </tr>\n",
       "    <tr>\n",
       "      <th>Warszawa</th>\n",
       "      <td>8000.0</td>\n",
       "      <td>17000</td>\n",
       "    </tr>\n",
       "    <tr>\n",
       "      <th>Łódź</th>\n",
       "      <td>7125.0</td>\n",
       "      <td>15000</td>\n",
       "    </tr>\n",
       "  </tbody>\n",
       "</table>\n",
       "</div>"
      ],
      "text/plain": [
       "          srednie_zarobki  maksymalne_zarobki\n",
       "Miasto                                       \n",
       "Gdańsk             5750.0                6000\n",
       "Kraków             9500.0               13000\n",
       "Warszawa           8000.0               17000\n",
       "Łódź               7125.0               15000"
      ]
     },
     "execution_count": 51,
     "metadata": {},
     "output_type": "execute_result"
    }
   ],
   "source": [
    "df.groupby('Miasto').agg(srednie_zarobki=('Zarobki','mean'),\n",
    "                         maksymalne_zarobki=('Zarobki', 'max'))\n"
   ]
  },
  {
   "cell_type": "code",
   "execution_count": null,
   "id": "c05bac15-ec85-4261-b51d-8484f278d5e6",
   "metadata": {},
   "outputs": [],
   "source": [
    "# Przyklad 3 zliczmyw artośc max min i średnią zarobków i premi ze względnu na zawód dla osób , 40 lat"
   ]
  },
  {
   "cell_type": "code",
   "execution_count": null,
   "id": "feeae891-0864-4bf4-915c-3ed5b12dd7b9",
   "metadata": {},
   "outputs": [],
   "source": [
    "# 1 wybieramy osoby co mająmniej niz 40 lat"
   ]
  },
  {
   "cell_type": "code",
   "execution_count": 52,
   "id": "648f0a77-9ff3-4e1c-ae48-4a7903658427",
   "metadata": {},
   "outputs": [
    {
     "data": {
      "text/html": [
       "<div>\n",
       "<style scoped>\n",
       "    .dataframe tbody tr th:only-of-type {\n",
       "        vertical-align: middle;\n",
       "    }\n",
       "\n",
       "    .dataframe tbody tr th {\n",
       "        vertical-align: top;\n",
       "    }\n",
       "\n",
       "    .dataframe thead th {\n",
       "        text-align: right;\n",
       "    }\n",
       "</style>\n",
       "<table border=\"1\" class=\"dataframe\">\n",
       "  <thead>\n",
       "    <tr style=\"text-align: right;\">\n",
       "      <th></th>\n",
       "      <th>Imię</th>\n",
       "      <th>Nazwisko</th>\n",
       "      <th>Wiek</th>\n",
       "      <th>Staż</th>\n",
       "      <th>Premia</th>\n",
       "      <th>Zarobki</th>\n",
       "      <th>Płeć</th>\n",
       "      <th>Miasto</th>\n",
       "      <th>Zawód</th>\n",
       "      <th>Pensja</th>\n",
       "      <th>Długość stażu</th>\n",
       "    </tr>\n",
       "  </thead>\n",
       "  <tbody>\n",
       "    <tr>\n",
       "      <th>0</th>\n",
       "      <td>Adrianna</td>\n",
       "      <td>Bono</td>\n",
       "      <td>23</td>\n",
       "      <td>2</td>\n",
       "      <td>0.00</td>\n",
       "      <td>5000</td>\n",
       "      <td>K</td>\n",
       "      <td>Warszawa</td>\n",
       "      <td>Analityk</td>\n",
       "      <td>5000.00</td>\n",
       "      <td>krótki staż</td>\n",
       "    </tr>\n",
       "    <tr>\n",
       "      <th>1</th>\n",
       "      <td>Agnieszka</td>\n",
       "      <td>Anielska</td>\n",
       "      <td>31</td>\n",
       "      <td>2</td>\n",
       "      <td>0.05</td>\n",
       "      <td>7000</td>\n",
       "      <td>K</td>\n",
       "      <td>Warszawa</td>\n",
       "      <td>Sprzedawca</td>\n",
       "      <td>7000.05</td>\n",
       "      <td>krótki staż</td>\n",
       "    </tr>\n",
       "    <tr>\n",
       "      <th>2</th>\n",
       "      <td>Andrzej</td>\n",
       "      <td>Lis</td>\n",
       "      <td>32</td>\n",
       "      <td>11</td>\n",
       "      <td>0.02</td>\n",
       "      <td>13000</td>\n",
       "      <td>M</td>\n",
       "      <td>Kraków</td>\n",
       "      <td>Kierownik</td>\n",
       "      <td>13000.02</td>\n",
       "      <td>Długi staż</td>\n",
       "    </tr>\n",
       "    <tr>\n",
       "      <th>3</th>\n",
       "      <td>Gracjan</td>\n",
       "      <td>Pałka</td>\n",
       "      <td>33</td>\n",
       "      <td>8</td>\n",
       "      <td>0.00</td>\n",
       "      <td>6000</td>\n",
       "      <td>M</td>\n",
       "      <td>Gdańsk</td>\n",
       "      <td>Księgowy</td>\n",
       "      <td>6000.00</td>\n",
       "      <td>krótki staż</td>\n",
       "    </tr>\n",
       "    <tr>\n",
       "      <th>5</th>\n",
       "      <td>Jolanta</td>\n",
       "      <td>Barańczyk</td>\n",
       "      <td>38</td>\n",
       "      <td>10</td>\n",
       "      <td>0.02</td>\n",
       "      <td>17000</td>\n",
       "      <td>K</td>\n",
       "      <td>Warszawa</td>\n",
       "      <td>Kierownik</td>\n",
       "      <td>17000.02</td>\n",
       "      <td>Długi staż</td>\n",
       "    </tr>\n",
       "    <tr>\n",
       "      <th>6</th>\n",
       "      <td>Karolina</td>\n",
       "      <td>Zgrzyt</td>\n",
       "      <td>24</td>\n",
       "      <td>2</td>\n",
       "      <td>0.00</td>\n",
       "      <td>4000</td>\n",
       "      <td>K</td>\n",
       "      <td>Kraków</td>\n",
       "      <td>Księgowy</td>\n",
       "      <td>4000.00</td>\n",
       "      <td>krótki staż</td>\n",
       "    </tr>\n",
       "    <tr>\n",
       "      <th>7</th>\n",
       "      <td>Łucja</td>\n",
       "      <td>Zaremba</td>\n",
       "      <td>29</td>\n",
       "      <td>1</td>\n",
       "      <td>0.00</td>\n",
       "      <td>5000</td>\n",
       "      <td>K</td>\n",
       "      <td>Łódź</td>\n",
       "      <td>Analityk</td>\n",
       "      <td>5000.00</td>\n",
       "      <td>krótki staż</td>\n",
       "    </tr>\n",
       "    <tr>\n",
       "      <th>8</th>\n",
       "      <td>Michał</td>\n",
       "      <td>Barańczyk</td>\n",
       "      <td>30</td>\n",
       "      <td>3</td>\n",
       "      <td>0.00</td>\n",
       "      <td>9000</td>\n",
       "      <td>M</td>\n",
       "      <td>Kraków</td>\n",
       "      <td>Analityk</td>\n",
       "      <td>9000.00</td>\n",
       "      <td>krótki staż</td>\n",
       "    </tr>\n",
       "    <tr>\n",
       "      <th>10</th>\n",
       "      <td>Monika</td>\n",
       "      <td>Adamczyk</td>\n",
       "      <td>30</td>\n",
       "      <td>3</td>\n",
       "      <td>0.07</td>\n",
       "      <td>5500</td>\n",
       "      <td>K</td>\n",
       "      <td>Gdańsk</td>\n",
       "      <td>Sprzedawca</td>\n",
       "      <td>5500.07</td>\n",
       "      <td>krótki staż</td>\n",
       "    </tr>\n",
       "    <tr>\n",
       "      <th>11</th>\n",
       "      <td>Oskar</td>\n",
       "      <td>Nowak</td>\n",
       "      <td>39</td>\n",
       "      <td>6</td>\n",
       "      <td>0.00</td>\n",
       "      <td>4500</td>\n",
       "      <td>M</td>\n",
       "      <td>Łódź</td>\n",
       "      <td>Księgowy</td>\n",
       "      <td>4500.00</td>\n",
       "      <td>krótki staż</td>\n",
       "    </tr>\n",
       "    <tr>\n",
       "      <th>12</th>\n",
       "      <td>Paweł</td>\n",
       "      <td>Niebieski</td>\n",
       "      <td>33</td>\n",
       "      <td>2</td>\n",
       "      <td>0.10</td>\n",
       "      <td>6000</td>\n",
       "      <td>M</td>\n",
       "      <td>Warszawa</td>\n",
       "      <td>Sprzedawca</td>\n",
       "      <td>6000.10</td>\n",
       "      <td>krótki staż</td>\n",
       "    </tr>\n",
       "    <tr>\n",
       "      <th>14</th>\n",
       "      <td>Szymon</td>\n",
       "      <td>Kowalski</td>\n",
       "      <td>33</td>\n",
       "      <td>5</td>\n",
       "      <td>0.10</td>\n",
       "      <td>5000</td>\n",
       "      <td>M</td>\n",
       "      <td>Warszawa</td>\n",
       "      <td>Sprzedawca</td>\n",
       "      <td>5000.10</td>\n",
       "      <td>krótki staż</td>\n",
       "    </tr>\n",
       "    <tr>\n",
       "      <th>16</th>\n",
       "      <td>Weronika</td>\n",
       "      <td>Lipska</td>\n",
       "      <td>31</td>\n",
       "      <td>5</td>\n",
       "      <td>0.00</td>\n",
       "      <td>10000</td>\n",
       "      <td>K</td>\n",
       "      <td>Warszawa</td>\n",
       "      <td>Analityk</td>\n",
       "      <td>10000.00</td>\n",
       "      <td>krótki staż</td>\n",
       "    </tr>\n",
       "    <tr>\n",
       "      <th>17</th>\n",
       "      <td>Zuzanna</td>\n",
       "      <td>Pałka</td>\n",
       "      <td>35</td>\n",
       "      <td>1</td>\n",
       "      <td>0.00</td>\n",
       "      <td>4000</td>\n",
       "      <td>K</td>\n",
       "      <td>Łódź</td>\n",
       "      <td>Księgowy</td>\n",
       "      <td>4000.00</td>\n",
       "      <td>krótki staż</td>\n",
       "    </tr>\n",
       "  </tbody>\n",
       "</table>\n",
       "</div>"
      ],
      "text/plain": [
       "         Imię   Nazwisko  Wiek  Staż  Premia  Zarobki Płeć    Miasto  \\\n",
       "0    Adrianna       Bono    23     2    0.00     5000    K  Warszawa   \n",
       "1   Agnieszka   Anielska    31     2    0.05     7000    K  Warszawa   \n",
       "2     Andrzej        Lis    32    11    0.02    13000    M    Kraków   \n",
       "3     Gracjan      Pałka    33     8    0.00     6000    M    Gdańsk   \n",
       "5     Jolanta  Barańczyk    38    10    0.02    17000    K  Warszawa   \n",
       "6    Karolina     Zgrzyt    24     2    0.00     4000    K    Kraków   \n",
       "7       Łucja    Zaremba    29     1    0.00     5000    K      Łódź   \n",
       "8      Michał  Barańczyk    30     3    0.00     9000    M    Kraków   \n",
       "10     Monika   Adamczyk    30     3    0.07     5500    K    Gdańsk   \n",
       "11      Oskar      Nowak    39     6    0.00     4500    M      Łódź   \n",
       "12      Paweł  Niebieski    33     2    0.10     6000    M  Warszawa   \n",
       "14     Szymon   Kowalski    33     5    0.10     5000    M  Warszawa   \n",
       "16   Weronika     Lipska    31     5    0.00    10000    K  Warszawa   \n",
       "17    Zuzanna      Pałka    35     1    0.00     4000    K      Łódź   \n",
       "\n",
       "         Zawód    Pensja Długość stażu  \n",
       "0     Analityk   5000.00   krótki staż  \n",
       "1   Sprzedawca   7000.05   krótki staż  \n",
       "2    Kierownik  13000.02    Długi staż  \n",
       "3     Księgowy   6000.00   krótki staż  \n",
       "5    Kierownik  17000.02    Długi staż  \n",
       "6     Księgowy   4000.00   krótki staż  \n",
       "7     Analityk   5000.00   krótki staż  \n",
       "8     Analityk   9000.00   krótki staż  \n",
       "10  Sprzedawca   5500.07   krótki staż  \n",
       "11    Księgowy   4500.00   krótki staż  \n",
       "12  Sprzedawca   6000.10   krótki staż  \n",
       "14  Sprzedawca   5000.10   krótki staż  \n",
       "16    Analityk  10000.00   krótki staż  \n",
       "17    Księgowy   4000.00   krótki staż  "
      ]
     },
     "execution_count": 52,
     "metadata": {},
     "output_type": "execute_result"
    }
   ],
   "source": [
    "df[df['Wiek']<40]"
   ]
  },
  {
   "cell_type": "code",
   "execution_count": null,
   "id": "81943bcb-cfb4-4c57-aeaa-6aee2408c23b",
   "metadata": {},
   "outputs": [],
   "source": [
    "# grupujemy wartości ze względu na zawod"
   ]
  },
  {
   "cell_type": "code",
   "execution_count": null,
   "id": "f97c297a-a0cd-4596-b03c-e8c097026dbc",
   "metadata": {},
   "outputs": [],
   "source": [
    "df[df['Wiek']<40].groupby('Zawód')"
   ]
  },
  {
   "cell_type": "code",
   "execution_count": null,
   "id": "fb88060e-9beb-45b8-9548-3065d2f28a4d",
   "metadata": {},
   "outputs": [],
   "source": [
    "# chcemy wartości max min i mean"
   ]
  },
  {
   "cell_type": "code",
   "execution_count": 54,
   "id": "ca5d7fa8-81fe-4e0b-b740-7de45316b4bd",
   "metadata": {},
   "outputs": [
    {
     "data": {
      "text/html": [
       "<div>\n",
       "<style scoped>\n",
       "    .dataframe tbody tr th:only-of-type {\n",
       "        vertical-align: middle;\n",
       "    }\n",
       "\n",
       "    .dataframe tbody tr th {\n",
       "        vertical-align: top;\n",
       "    }\n",
       "\n",
       "    .dataframe thead tr th {\n",
       "        text-align: left;\n",
       "    }\n",
       "\n",
       "    .dataframe thead tr:last-of-type th {\n",
       "        text-align: right;\n",
       "    }\n",
       "</style>\n",
       "<table border=\"1\" class=\"dataframe\">\n",
       "  <thead>\n",
       "    <tr>\n",
       "      <th></th>\n",
       "      <th colspan=\"3\" halign=\"left\">Zarobki</th>\n",
       "      <th colspan=\"3\" halign=\"left\">Premia</th>\n",
       "    </tr>\n",
       "    <tr>\n",
       "      <th></th>\n",
       "      <th>mean</th>\n",
       "      <th>min</th>\n",
       "      <th>max</th>\n",
       "      <th>mean</th>\n",
       "      <th>min</th>\n",
       "      <th>max</th>\n",
       "    </tr>\n",
       "    <tr>\n",
       "      <th>Zawód</th>\n",
       "      <th></th>\n",
       "      <th></th>\n",
       "      <th></th>\n",
       "      <th></th>\n",
       "      <th></th>\n",
       "      <th></th>\n",
       "    </tr>\n",
       "  </thead>\n",
       "  <tbody>\n",
       "    <tr>\n",
       "      <th>Analityk</th>\n",
       "      <td>7250.0</td>\n",
       "      <td>5000</td>\n",
       "      <td>10000</td>\n",
       "      <td>0.00</td>\n",
       "      <td>0.00</td>\n",
       "      <td>0.00</td>\n",
       "    </tr>\n",
       "    <tr>\n",
       "      <th>Kierownik</th>\n",
       "      <td>15000.0</td>\n",
       "      <td>13000</td>\n",
       "      <td>17000</td>\n",
       "      <td>0.02</td>\n",
       "      <td>0.02</td>\n",
       "      <td>0.02</td>\n",
       "    </tr>\n",
       "    <tr>\n",
       "      <th>Księgowy</th>\n",
       "      <td>4625.0</td>\n",
       "      <td>4000</td>\n",
       "      <td>6000</td>\n",
       "      <td>0.00</td>\n",
       "      <td>0.00</td>\n",
       "      <td>0.00</td>\n",
       "    </tr>\n",
       "    <tr>\n",
       "      <th>Sprzedawca</th>\n",
       "      <td>5875.0</td>\n",
       "      <td>5000</td>\n",
       "      <td>7000</td>\n",
       "      <td>0.08</td>\n",
       "      <td>0.05</td>\n",
       "      <td>0.10</td>\n",
       "    </tr>\n",
       "  </tbody>\n",
       "</table>\n",
       "</div>"
      ],
      "text/plain": [
       "            Zarobki               Premia            \n",
       "               mean    min    max   mean   min   max\n",
       "Zawód                                               \n",
       "Analityk     7250.0   5000  10000   0.00  0.00  0.00\n",
       "Kierownik   15000.0  13000  17000   0.02  0.02  0.02\n",
       "Księgowy     4625.0   4000   6000   0.00  0.00  0.00\n",
       "Sprzedawca   5875.0   5000   7000   0.08  0.05  0.10"
      ]
     },
     "execution_count": 54,
     "metadata": {},
     "output_type": "execute_result"
    }
   ],
   "source": [
    "df[df['Wiek']<40].groupby('Zawód')[['Zarobki', 'Premia']].agg(['mean', 'min', 'max'])"
   ]
  },
  {
   "cell_type": "code",
   "execution_count": null,
   "id": "7a15990a-ea94-4a91-9c50-84e5743561b5",
   "metadata": {},
   "outputs": [],
   "source": [
    "# metoda agg bo wyliczamy więcejniż jedną miarę"
   ]
  },
  {
   "cell_type": "code",
   "execution_count": null,
   "id": "31067b20-12dd-4df8-ad3e-dc261d3513d4",
   "metadata": {},
   "outputs": [],
   "source": []
  },
  {
   "cell_type": "markdown",
   "id": "fc5a6716-1149-4d00-a3c2-a054c03d75e8",
   "metadata": {},
   "source": [
    "# Data Frames Tabele przestawne"
   ]
  },
  {
   "cell_type": "code",
   "execution_count": 1,
   "id": "ce43e7ac-edc7-46eb-a817-10d357592d43",
   "metadata": {},
   "outputs": [],
   "source": [
    "import pandas as pd"
   ]
  },
  {
   "cell_type": "code",
   "execution_count": null,
   "id": "a95c432b-a322-45e9-b219-9d3c5d7cefbd",
   "metadata": {},
   "outputs": [],
   "source": []
  },
  {
   "cell_type": "code",
   "execution_count": 2,
   "id": "57c029f0-7141-44a1-8106-282df6cd9c9c",
   "metadata": {},
   "outputs": [],
   "source": [
    "df =pd.read_excel('C:/Dane/2_programowanie_ML_zadanka_kurs_wprowadzenie\\Moduł 2/Zbiory danych/pracownicy.xlsx')"
   ]
  },
  {
   "cell_type": "code",
   "execution_count": 3,
   "id": "55db9599-be63-45c0-bace-7ea44d439838",
   "metadata": {},
   "outputs": [
    {
     "data": {
      "text/html": [
       "<div>\n",
       "<style scoped>\n",
       "    .dataframe tbody tr th:only-of-type {\n",
       "        vertical-align: middle;\n",
       "    }\n",
       "\n",
       "    .dataframe tbody tr th {\n",
       "        vertical-align: top;\n",
       "    }\n",
       "\n",
       "    .dataframe thead th {\n",
       "        text-align: right;\n",
       "    }\n",
       "</style>\n",
       "<table border=\"1\" class=\"dataframe\">\n",
       "  <thead>\n",
       "    <tr style=\"text-align: right;\">\n",
       "      <th></th>\n",
       "      <th>Imię</th>\n",
       "      <th>Nazwisko</th>\n",
       "      <th>Wiek</th>\n",
       "      <th>Staż</th>\n",
       "      <th>Premia</th>\n",
       "      <th>Zarobki</th>\n",
       "      <th>Płeć</th>\n",
       "      <th>Miasto</th>\n",
       "      <th>Zawód</th>\n",
       "    </tr>\n",
       "  </thead>\n",
       "  <tbody>\n",
       "    <tr>\n",
       "      <th>0</th>\n",
       "      <td>Adrianna</td>\n",
       "      <td>Bono</td>\n",
       "      <td>23</td>\n",
       "      <td>2</td>\n",
       "      <td>0.00</td>\n",
       "      <td>5000</td>\n",
       "      <td>K</td>\n",
       "      <td>Warszawa</td>\n",
       "      <td>Analityk</td>\n",
       "    </tr>\n",
       "    <tr>\n",
       "      <th>1</th>\n",
       "      <td>Agnieszka</td>\n",
       "      <td>Anielska</td>\n",
       "      <td>31</td>\n",
       "      <td>2</td>\n",
       "      <td>0.05</td>\n",
       "      <td>7000</td>\n",
       "      <td>K</td>\n",
       "      <td>Warszawa</td>\n",
       "      <td>Sprzedawca</td>\n",
       "    </tr>\n",
       "    <tr>\n",
       "      <th>2</th>\n",
       "      <td>Andrzej</td>\n",
       "      <td>Lis</td>\n",
       "      <td>32</td>\n",
       "      <td>11</td>\n",
       "      <td>0.02</td>\n",
       "      <td>13000</td>\n",
       "      <td>M</td>\n",
       "      <td>Kraków</td>\n",
       "      <td>Kierownik</td>\n",
       "    </tr>\n",
       "    <tr>\n",
       "      <th>3</th>\n",
       "      <td>Gracjan</td>\n",
       "      <td>Pałka</td>\n",
       "      <td>33</td>\n",
       "      <td>8</td>\n",
       "      <td>0.00</td>\n",
       "      <td>6000</td>\n",
       "      <td>M</td>\n",
       "      <td>Gdańsk</td>\n",
       "      <td>Księgowy</td>\n",
       "    </tr>\n",
       "    <tr>\n",
       "      <th>4</th>\n",
       "      <td>Janusz</td>\n",
       "      <td>Kocioł</td>\n",
       "      <td>44</td>\n",
       "      <td>7</td>\n",
       "      <td>0.08</td>\n",
       "      <td>6000</td>\n",
       "      <td>M</td>\n",
       "      <td>Warszawa</td>\n",
       "      <td>Sprzedawca</td>\n",
       "    </tr>\n",
       "  </tbody>\n",
       "</table>\n",
       "</div>"
      ],
      "text/plain": [
       "        Imię  Nazwisko  Wiek  Staż  Premia  Zarobki Płeć    Miasto       Zawód\n",
       "0   Adrianna      Bono    23     2    0.00     5000    K  Warszawa    Analityk\n",
       "1  Agnieszka  Anielska    31     2    0.05     7000    K  Warszawa  Sprzedawca\n",
       "2    Andrzej       Lis    32    11    0.02    13000    M    Kraków   Kierownik\n",
       "3    Gracjan     Pałka    33     8    0.00     6000    M    Gdańsk    Księgowy\n",
       "4     Janusz    Kocioł    44     7    0.08     6000    M  Warszawa  Sprzedawca"
      ]
     },
     "execution_count": 3,
     "metadata": {},
     "output_type": "execute_result"
    }
   ],
   "source": [
    "df.head()"
   ]
  },
  {
   "cell_type": "code",
   "execution_count": null,
   "id": "6d302d36-5675-4d8a-9cb3-9ed57ff4a8fa",
   "metadata": {},
   "outputs": [],
   "source": [
    "# grupujemy dane po zmiennych dane oraz płeć i policzmy średnią zarobków w tych kategoriach"
   ]
  },
  {
   "cell_type": "code",
   "execution_count": 4,
   "id": "f71053dd-e0f8-48c7-a406-a6b89cd0e74e",
   "metadata": {},
   "outputs": [
    {
     "data": {
      "text/html": [
       "<div>\n",
       "<style scoped>\n",
       "    .dataframe tbody tr th:only-of-type {\n",
       "        vertical-align: middle;\n",
       "    }\n",
       "\n",
       "    .dataframe tbody tr th {\n",
       "        vertical-align: top;\n",
       "    }\n",
       "\n",
       "    .dataframe thead th {\n",
       "        text-align: right;\n",
       "    }\n",
       "</style>\n",
       "<table border=\"1\" class=\"dataframe\">\n",
       "  <thead>\n",
       "    <tr style=\"text-align: right;\">\n",
       "      <th></th>\n",
       "      <th></th>\n",
       "      <th>Zarobki</th>\n",
       "    </tr>\n",
       "    <tr>\n",
       "      <th>Miasto</th>\n",
       "      <th>Płeć</th>\n",
       "      <th></th>\n",
       "    </tr>\n",
       "  </thead>\n",
       "  <tbody>\n",
       "    <tr>\n",
       "      <th rowspan=\"2\" valign=\"top\">Gdańsk</th>\n",
       "      <th>K</th>\n",
       "      <td>5500.000000</td>\n",
       "    </tr>\n",
       "    <tr>\n",
       "      <th>M</th>\n",
       "      <td>6000.000000</td>\n",
       "    </tr>\n",
       "    <tr>\n",
       "      <th rowspan=\"2\" valign=\"top\">Kraków</th>\n",
       "      <th>K</th>\n",
       "      <td>4000.000000</td>\n",
       "    </tr>\n",
       "    <tr>\n",
       "      <th>M</th>\n",
       "      <td>11333.333333</td>\n",
       "    </tr>\n",
       "    <tr>\n",
       "      <th rowspan=\"2\" valign=\"top\">Warszawa</th>\n",
       "      <th>K</th>\n",
       "      <td>9750.000000</td>\n",
       "    </tr>\n",
       "    <tr>\n",
       "      <th>M</th>\n",
       "      <td>6250.000000</td>\n",
       "    </tr>\n",
       "    <tr>\n",
       "      <th rowspan=\"2\" valign=\"top\">Łódź</th>\n",
       "      <th>K</th>\n",
       "      <td>4500.000000</td>\n",
       "    </tr>\n",
       "    <tr>\n",
       "      <th>M</th>\n",
       "      <td>9750.000000</td>\n",
       "    </tr>\n",
       "  </tbody>\n",
       "</table>\n",
       "</div>"
      ],
      "text/plain": [
       "                    Zarobki\n",
       "Miasto   Płeć              \n",
       "Gdańsk   K      5500.000000\n",
       "         M      6000.000000\n",
       "Kraków   K      4000.000000\n",
       "         M     11333.333333\n",
       "Warszawa K      9750.000000\n",
       "         M      6250.000000\n",
       "Łódź     K      4500.000000\n",
       "         M      9750.000000"
      ]
     },
     "execution_count": 4,
     "metadata": {},
     "output_type": "execute_result"
    }
   ],
   "source": [
    "df.groupby(['Miasto', 'Płeć']).agg({'Zarobki':'mean'})"
   ]
  },
  {
   "cell_type": "code",
   "execution_count": null,
   "id": "36a8c792-405a-4bd1-8718-1f116b0680dc",
   "metadata": {},
   "outputs": [],
   "source": [
    "# metoda group by czyli grupowanie po zmiennych Miasto i Płeć  a metoda agg typujemy zmienna dla ktorej chcemy wyznaczyc miarę"
   ]
  },
  {
   "cell_type": "code",
   "execution_count": null,
   "id": "2ac053b9-2b0b-4916-8ecc-1fd5368b98d7",
   "metadata": {},
   "outputs": [],
   "source": [
    "# przypisanie tabeli doz miennej"
   ]
  },
  {
   "cell_type": "code",
   "execution_count": 5,
   "id": "f7e4bebd-cbb4-4990-a392-6fb2414dca41",
   "metadata": {},
   "outputs": [],
   "source": [
    "z = df.groupby(['Miasto', 'Płeć']).agg({'Zarobki':'mean'})"
   ]
  },
  {
   "cell_type": "code",
   "execution_count": null,
   "id": "8b713f2b-a0e1-4ba9-94f5-a4bf792e2d9b",
   "metadata": {},
   "outputs": [],
   "source": [
    "# Tworzymy tabele przestawną. przenosimy płeć do kolumn wystarczy z.unstack()"
   ]
  },
  {
   "cell_type": "code",
   "execution_count": 6,
   "id": "f5d4dd1d-1e7c-4f4a-981f-59c13992541b",
   "metadata": {},
   "outputs": [
    {
     "data": {
      "text/html": [
       "<div>\n",
       "<style scoped>\n",
       "    .dataframe tbody tr th:only-of-type {\n",
       "        vertical-align: middle;\n",
       "    }\n",
       "\n",
       "    .dataframe tbody tr th {\n",
       "        vertical-align: top;\n",
       "    }\n",
       "\n",
       "    .dataframe thead th {\n",
       "        text-align: right;\n",
       "    }\n",
       "</style>\n",
       "<table border=\"1\" class=\"dataframe\">\n",
       "  <thead>\n",
       "    <tr style=\"text-align: right;\">\n",
       "      <th></th>\n",
       "      <th></th>\n",
       "      <th>Zarobki</th>\n",
       "    </tr>\n",
       "    <tr>\n",
       "      <th>Miasto</th>\n",
       "      <th>Płeć</th>\n",
       "      <th></th>\n",
       "    </tr>\n",
       "  </thead>\n",
       "  <tbody>\n",
       "    <tr>\n",
       "      <th rowspan=\"2\" valign=\"top\">Gdańsk</th>\n",
       "      <th>K</th>\n",
       "      <td>5500.000000</td>\n",
       "    </tr>\n",
       "    <tr>\n",
       "      <th>M</th>\n",
       "      <td>6000.000000</td>\n",
       "    </tr>\n",
       "    <tr>\n",
       "      <th rowspan=\"2\" valign=\"top\">Kraków</th>\n",
       "      <th>K</th>\n",
       "      <td>4000.000000</td>\n",
       "    </tr>\n",
       "    <tr>\n",
       "      <th>M</th>\n",
       "      <td>11333.333333</td>\n",
       "    </tr>\n",
       "    <tr>\n",
       "      <th rowspan=\"2\" valign=\"top\">Warszawa</th>\n",
       "      <th>K</th>\n",
       "      <td>9750.000000</td>\n",
       "    </tr>\n",
       "    <tr>\n",
       "      <th>M</th>\n",
       "      <td>6250.000000</td>\n",
       "    </tr>\n",
       "    <tr>\n",
       "      <th rowspan=\"2\" valign=\"top\">Łódź</th>\n",
       "      <th>K</th>\n",
       "      <td>4500.000000</td>\n",
       "    </tr>\n",
       "    <tr>\n",
       "      <th>M</th>\n",
       "      <td>9750.000000</td>\n",
       "    </tr>\n",
       "  </tbody>\n",
       "</table>\n",
       "</div>"
      ],
      "text/plain": [
       "                    Zarobki\n",
       "Miasto   Płeć              \n",
       "Gdańsk   K      5500.000000\n",
       "         M      6000.000000\n",
       "Kraków   K      4000.000000\n",
       "         M     11333.333333\n",
       "Warszawa K      9750.000000\n",
       "         M      6250.000000\n",
       "Łódź     K      4500.000000\n",
       "         M      9750.000000"
      ]
     },
     "execution_count": 6,
     "metadata": {},
     "output_type": "execute_result"
    }
   ],
   "source": [
    "z"
   ]
  },
  {
   "cell_type": "code",
   "execution_count": 8,
   "id": "2f0bdaec-ff41-4717-ba4f-98167f5c34a0",
   "metadata": {},
   "outputs": [
    {
     "data": {
      "text/html": [
       "<div>\n",
       "<style scoped>\n",
       "    .dataframe tbody tr th:only-of-type {\n",
       "        vertical-align: middle;\n",
       "    }\n",
       "\n",
       "    .dataframe tbody tr th {\n",
       "        vertical-align: top;\n",
       "    }\n",
       "\n",
       "    .dataframe thead tr th {\n",
       "        text-align: left;\n",
       "    }\n",
       "\n",
       "    .dataframe thead tr:last-of-type th {\n",
       "        text-align: right;\n",
       "    }\n",
       "</style>\n",
       "<table border=\"1\" class=\"dataframe\">\n",
       "  <thead>\n",
       "    <tr>\n",
       "      <th></th>\n",
       "      <th colspan=\"2\" halign=\"left\">Zarobki</th>\n",
       "    </tr>\n",
       "    <tr>\n",
       "      <th>Płeć</th>\n",
       "      <th>K</th>\n",
       "      <th>M</th>\n",
       "    </tr>\n",
       "    <tr>\n",
       "      <th>Miasto</th>\n",
       "      <th></th>\n",
       "      <th></th>\n",
       "    </tr>\n",
       "  </thead>\n",
       "  <tbody>\n",
       "    <tr>\n",
       "      <th>Gdańsk</th>\n",
       "      <td>5500.0</td>\n",
       "      <td>6000.000000</td>\n",
       "    </tr>\n",
       "    <tr>\n",
       "      <th>Kraków</th>\n",
       "      <td>4000.0</td>\n",
       "      <td>11333.333333</td>\n",
       "    </tr>\n",
       "    <tr>\n",
       "      <th>Warszawa</th>\n",
       "      <td>9750.0</td>\n",
       "      <td>6250.000000</td>\n",
       "    </tr>\n",
       "    <tr>\n",
       "      <th>Łódź</th>\n",
       "      <td>4500.0</td>\n",
       "      <td>9750.000000</td>\n",
       "    </tr>\n",
       "  </tbody>\n",
       "</table>\n",
       "</div>"
      ],
      "text/plain": [
       "         Zarobki              \n",
       "Płeć           K             M\n",
       "Miasto                        \n",
       "Gdańsk    5500.0   6000.000000\n",
       "Kraków    4000.0  11333.333333\n",
       "Warszawa  9750.0   6250.000000\n",
       "Łódź      4500.0   9750.000000"
      ]
     },
     "execution_count": 8,
     "metadata": {},
     "output_type": "execute_result"
    }
   ],
   "source": [
    "z.unstack()"
   ]
  },
  {
   "cell_type": "code",
   "execution_count": null,
   "id": "1dae024c-91a8-47b6-9765-e8cb50babe84",
   "metadata": {},
   "outputs": [],
   "source": [
    "# Tabela przekształciła sie do tabeli przestawnej kategorie zmiennej płci K M weszły nam do kolumn"
   ]
  },
  {
   "cell_type": "code",
   "execution_count": null,
   "id": "0db419ac-f697-4cc2-aa1c-979cae72c3c1",
   "metadata": {},
   "outputs": [],
   "source": []
  },
  {
   "cell_type": "code",
   "execution_count": null,
   "id": "bf1dfc09-6250-4c64-bf39-ab3a5e6975be",
   "metadata": {},
   "outputs": [],
   "source": [
    "# Sposob nr 2 pivot_table()"
   ]
  },
  {
   "cell_type": "code",
   "execution_count": null,
   "id": "736860f4-0294-4c5e-8ed0-56c7b50dba1d",
   "metadata": {},
   "outputs": [],
   "source": []
  },
  {
   "cell_type": "code",
   "execution_count": 10,
   "id": "8670cecd-0af0-4a74-9bd4-24635064187d",
   "metadata": {},
   "outputs": [
    {
     "data": {
      "text/html": [
       "<div>\n",
       "<style scoped>\n",
       "    .dataframe tbody tr th:only-of-type {\n",
       "        vertical-align: middle;\n",
       "    }\n",
       "\n",
       "    .dataframe tbody tr th {\n",
       "        vertical-align: top;\n",
       "    }\n",
       "\n",
       "    .dataframe thead th {\n",
       "        text-align: right;\n",
       "    }\n",
       "</style>\n",
       "<table border=\"1\" class=\"dataframe\">\n",
       "  <thead>\n",
       "    <tr style=\"text-align: right;\">\n",
       "      <th>Płeć</th>\n",
       "      <th>K</th>\n",
       "      <th>M</th>\n",
       "    </tr>\n",
       "    <tr>\n",
       "      <th>Miasto</th>\n",
       "      <th></th>\n",
       "      <th></th>\n",
       "    </tr>\n",
       "  </thead>\n",
       "  <tbody>\n",
       "    <tr>\n",
       "      <th>Gdańsk</th>\n",
       "      <td>5500.0</td>\n",
       "      <td>6000.000000</td>\n",
       "    </tr>\n",
       "    <tr>\n",
       "      <th>Kraków</th>\n",
       "      <td>4000.0</td>\n",
       "      <td>11333.333333</td>\n",
       "    </tr>\n",
       "    <tr>\n",
       "      <th>Warszawa</th>\n",
       "      <td>9750.0</td>\n",
       "      <td>6250.000000</td>\n",
       "    </tr>\n",
       "    <tr>\n",
       "      <th>Łódź</th>\n",
       "      <td>4500.0</td>\n",
       "      <td>9750.000000</td>\n",
       "    </tr>\n",
       "  </tbody>\n",
       "</table>\n",
       "</div>"
      ],
      "text/plain": [
       "Płeć           K             M\n",
       "Miasto                        \n",
       "Gdańsk    5500.0   6000.000000\n",
       "Kraków    4000.0  11333.333333\n",
       "Warszawa  9750.0   6250.000000\n",
       "Łódź      4500.0   9750.000000"
      ]
     },
     "execution_count": 10,
     "metadata": {},
     "output_type": "execute_result"
    }
   ],
   "source": [
    "pd.pivot_table(df, index='Miasto', columns='Płeć',values='Zarobki', aggfunc='mean')"
   ]
  },
  {
   "cell_type": "code",
   "execution_count": null,
   "id": "0b3e725d-0b24-4974-8030-fa84371f2f81",
   "metadata": {},
   "outputs": [],
   "source": [
    "# pd.pivot_table(zbior danych an ktorym pracujemy,index = to co chcemy miec w wierszach, values=to co chcemy wyliczać miara )"
   ]
  },
  {
   "cell_type": "code",
   "execution_count": null,
   "id": "386e1b2d-6ad8-47dc-ad29-a252d1499d76",
   "metadata": {},
   "outputs": [],
   "source": []
  },
  {
   "cell_type": "code",
   "execution_count": null,
   "id": "14f7b93e-49b9-45f2-b144-f2e53dd4a9d1",
   "metadata": {},
   "outputs": [],
   "source": [
    "# Tabele można tworzyć bez względu czy to zmienna numeryczna czy znakowa.\n"
   ]
  },
  {
   "cell_type": "code",
   "execution_count": null,
   "id": "a8d3f27d-35f2-4477-bf06-4dcf52bf2701",
   "metadata": {},
   "outputs": [],
   "source": [
    "# Przykład 2"
   ]
  },
  {
   "cell_type": "code",
   "execution_count": null,
   "id": "7fc81de4-ad20-45ad-8d66-d9c9a2f372f7",
   "metadata": {},
   "outputs": [],
   "source": [
    "# Tworzyy zmienną znakową następnie przekształcamy zgrupowaną tabelę do tabeli przestawnej"
   ]
  },
  {
   "cell_type": "code",
   "execution_count": null,
   "id": "03f9beac-e74c-4af7-8fb4-a090146ec065",
   "metadata": {},
   "outputs": [],
   "source": [
    "# 1.wyliczamy średniąw artość premi w podziale na miasto i płeć"
   ]
  },
  {
   "cell_type": "code",
   "execution_count": 11,
   "id": "6887b0db-6369-4f27-b208-8a0f181bebd8",
   "metadata": {},
   "outputs": [],
   "source": [
    "y = df.groupby(['Miasto', 'Płeć']).agg({'Premia':'mean'})"
   ]
  },
  {
   "cell_type": "code",
   "execution_count": 12,
   "id": "ccc7effe-6866-4de1-b36f-4b325e546a7e",
   "metadata": {},
   "outputs": [
    {
     "data": {
      "text/html": [
       "<div>\n",
       "<style scoped>\n",
       "    .dataframe tbody tr th:only-of-type {\n",
       "        vertical-align: middle;\n",
       "    }\n",
       "\n",
       "    .dataframe tbody tr th {\n",
       "        vertical-align: top;\n",
       "    }\n",
       "\n",
       "    .dataframe thead th {\n",
       "        text-align: right;\n",
       "    }\n",
       "</style>\n",
       "<table border=\"1\" class=\"dataframe\">\n",
       "  <thead>\n",
       "    <tr style=\"text-align: right;\">\n",
       "      <th></th>\n",
       "      <th></th>\n",
       "      <th>Premia</th>\n",
       "    </tr>\n",
       "    <tr>\n",
       "      <th>Miasto</th>\n",
       "      <th>Płeć</th>\n",
       "      <th></th>\n",
       "    </tr>\n",
       "  </thead>\n",
       "  <tbody>\n",
       "    <tr>\n",
       "      <th rowspan=\"2\" valign=\"top\">Gdańsk</th>\n",
       "      <th>K</th>\n",
       "      <td>0.070000</td>\n",
       "    </tr>\n",
       "    <tr>\n",
       "      <th>M</th>\n",
       "      <td>0.000000</td>\n",
       "    </tr>\n",
       "    <tr>\n",
       "      <th rowspan=\"2\" valign=\"top\">Kraków</th>\n",
       "      <th>K</th>\n",
       "      <td>0.000000</td>\n",
       "    </tr>\n",
       "    <tr>\n",
       "      <th>M</th>\n",
       "      <td>0.013333</td>\n",
       "    </tr>\n",
       "    <tr>\n",
       "      <th rowspan=\"2\" valign=\"top\">Warszawa</th>\n",
       "      <th>K</th>\n",
       "      <td>0.017500</td>\n",
       "    </tr>\n",
       "    <tr>\n",
       "      <th>M</th>\n",
       "      <td>0.070000</td>\n",
       "    </tr>\n",
       "    <tr>\n",
       "      <th rowspan=\"2\" valign=\"top\">Łódź</th>\n",
       "      <th>K</th>\n",
       "      <td>0.000000</td>\n",
       "    </tr>\n",
       "    <tr>\n",
       "      <th>M</th>\n",
       "      <td>0.015000</td>\n",
       "    </tr>\n",
       "  </tbody>\n",
       "</table>\n",
       "</div>"
      ],
      "text/plain": [
       "                 Premia\n",
       "Miasto   Płeć          \n",
       "Gdańsk   K     0.070000\n",
       "         M     0.000000\n",
       "Kraków   K     0.000000\n",
       "         M     0.013333\n",
       "Warszawa K     0.017500\n",
       "         M     0.070000\n",
       "Łódź     K     0.000000\n",
       "         M     0.015000"
      ]
     },
     "execution_count": 12,
     "metadata": {},
     "output_type": "execute_result"
    }
   ],
   "source": [
    "y"
   ]
  },
  {
   "cell_type": "code",
   "execution_count": null,
   "id": "489c3b95-64ce-43fc-87b7-6ba3dfe78fdb",
   "metadata": {},
   "outputs": [],
   "source": [
    "# 2 Sprawdzamy czy premia którą dostał pracownik jest większa od zera czy nie i natej podstawie przypisac kategorię premia lub brak premii"
   ]
  },
  {
   "cell_type": "code",
   "execution_count": null,
   "id": "34f6b485-f189-4ed1-b5a3-3eed92586ccb",
   "metadata": {},
   "outputs": [],
   "source": [
    "# tworzymy funkcję"
   ]
  },
  {
   "cell_type": "code",
   "execution_count": 13,
   "id": "0d9e5a07-502f-47ec-8bad-f11e8684f0f5",
   "metadata": {},
   "outputs": [],
   "source": [
    "def ocena(premia):\n",
    "    if premia > 0:\n",
    "        return \"Premia\"\n",
    "    else:\n",
    "        return \"brak premii\"\n",
    "    \n",
    "    "
   ]
  },
  {
   "cell_type": "code",
   "execution_count": null,
   "id": "c664c382-cfdd-4cf3-8eb4-1c5b7804c275",
   "metadata": {},
   "outputs": [],
   "source": [
    "# na zbiór Y na zmiennną Premia chce nalożyć funkcje ocena"
   ]
  },
  {
   "cell_type": "code",
   "execution_count": 14,
   "id": "2d0e946d-f4a3-44b8-9613-f6c61253f166",
   "metadata": {},
   "outputs": [
    {
     "data": {
      "text/plain": [
       "Miasto    Płeć\n",
       "Gdańsk    K            Premia\n",
       "          M       brak premii\n",
       "Kraków    K       brak premii\n",
       "          M            Premia\n",
       "Warszawa  K            Premia\n",
       "          M            Premia\n",
       "Łódź      K       brak premii\n",
       "          M            Premia\n",
       "Name: Premia, dtype: object"
      ]
     },
     "execution_count": 14,
     "metadata": {},
     "output_type": "execute_result"
    }
   ],
   "source": [
    "y.Premia.apply(ocena)"
   ]
  },
  {
   "cell_type": "code",
   "execution_count": null,
   "id": "8b123b21-daaf-453c-9a65-a97db5a8650d",
   "metadata": {},
   "outputs": [],
   "source": [
    "# Stworzyła się nowa zmienna informująca o premii lub jej braku"
   ]
  },
  {
   "cell_type": "code",
   "execution_count": null,
   "id": "667b2239-3a42-4b4e-a19f-222d8a2564e2",
   "metadata": {},
   "outputs": [],
   "source": [
    "# 3 tworzymy tabele przestawna ustack"
   ]
  },
  {
   "cell_type": "code",
   "execution_count": null,
   "id": "bdecec40-2cd4-4515-af78-71666d1b2b95",
   "metadata": {},
   "outputs": [],
   "source": []
  },
  {
   "cell_type": "code",
   "execution_count": 15,
   "id": "05ee007f-721e-490e-b976-bd285472584b",
   "metadata": {},
   "outputs": [
    {
     "data": {
      "text/html": [
       "<div>\n",
       "<style scoped>\n",
       "    .dataframe tbody tr th:only-of-type {\n",
       "        vertical-align: middle;\n",
       "    }\n",
       "\n",
       "    .dataframe tbody tr th {\n",
       "        vertical-align: top;\n",
       "    }\n",
       "\n",
       "    .dataframe thead th {\n",
       "        text-align: right;\n",
       "    }\n",
       "</style>\n",
       "<table border=\"1\" class=\"dataframe\">\n",
       "  <thead>\n",
       "    <tr style=\"text-align: right;\">\n",
       "      <th>Płeć</th>\n",
       "      <th>K</th>\n",
       "      <th>M</th>\n",
       "    </tr>\n",
       "    <tr>\n",
       "      <th>Miasto</th>\n",
       "      <th></th>\n",
       "      <th></th>\n",
       "    </tr>\n",
       "  </thead>\n",
       "  <tbody>\n",
       "    <tr>\n",
       "      <th>Gdańsk</th>\n",
       "      <td>Premia</td>\n",
       "      <td>brak premii</td>\n",
       "    </tr>\n",
       "    <tr>\n",
       "      <th>Kraków</th>\n",
       "      <td>brak premii</td>\n",
       "      <td>Premia</td>\n",
       "    </tr>\n",
       "    <tr>\n",
       "      <th>Warszawa</th>\n",
       "      <td>Premia</td>\n",
       "      <td>Premia</td>\n",
       "    </tr>\n",
       "    <tr>\n",
       "      <th>Łódź</th>\n",
       "      <td>brak premii</td>\n",
       "      <td>Premia</td>\n",
       "    </tr>\n",
       "  </tbody>\n",
       "</table>\n",
       "</div>"
      ],
      "text/plain": [
       "Płeć                K            M\n",
       "Miasto                            \n",
       "Gdańsk         Premia  brak premii\n",
       "Kraków    brak premii       Premia\n",
       "Warszawa       Premia       Premia\n",
       "Łódź      brak premii       Premia"
      ]
     },
     "execution_count": 15,
     "metadata": {},
     "output_type": "execute_result"
    }
   ],
   "source": [
    "y.Premia.apply(ocena).unstack()"
   ]
  },
  {
   "cell_type": "code",
   "execution_count": null,
   "id": "d341f024-dc3c-4a2f-8463-69170854fdfd",
   "metadata": {},
   "outputs": [],
   "source": [
    "# Płeć przechodzi do kolumn miasto zostaje w wierszach"
   ]
  },
  {
   "cell_type": "code",
   "execution_count": null,
   "id": "1dee0dac-1c48-4db3-a13c-3f03840073c3",
   "metadata": {},
   "outputs": [],
   "source": []
  },
  {
   "cell_type": "code",
   "execution_count": null,
   "id": "95dc7d94-e3a4-48c3-9582-b389eda36a81",
   "metadata": {},
   "outputs": [],
   "source": []
  },
  {
   "cell_type": "code",
   "execution_count": null,
   "id": "a139fe3b-ae22-4856-bbfc-84b555390ffc",
   "metadata": {},
   "outputs": [],
   "source": []
  },
  {
   "cell_type": "code",
   "execution_count": null,
   "id": "a0337a21-3ad7-4cdc-93e4-0cb08494867f",
   "metadata": {},
   "outputs": [],
   "source": []
  },
  {
   "cell_type": "code",
   "execution_count": null,
   "id": "bbf0024d-6db6-4ab7-a01f-79f38835407a",
   "metadata": {},
   "outputs": [],
   "source": []
  },
  {
   "cell_type": "code",
   "execution_count": null,
   "id": "6c2e5955-8ca4-4763-926c-9758f6995a78",
   "metadata": {},
   "outputs": [],
   "source": []
  }
 ],
 "metadata": {
  "kernelspec": {
   "display_name": "Python 3 (ipykernel)",
   "language": "python",
   "name": "python3"
  },
  "language_info": {
   "codemirror_mode": {
    "name": "ipython",
    "version": 3
   },
   "file_extension": ".py",
   "mimetype": "text/x-python",
   "name": "python",
   "nbconvert_exporter": "python",
   "pygments_lexer": "ipython3",
   "version": "3.11.7"
  }
 },
 "nbformat": 4,
 "nbformat_minor": 5
}
