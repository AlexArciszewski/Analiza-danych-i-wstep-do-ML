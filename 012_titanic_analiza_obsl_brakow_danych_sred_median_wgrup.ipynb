{
 "cells": [
  {
   "cell_type": "code",
   "execution_count": 2,
   "id": "7ca3a7c5-6b53-4bf7-b3fa-c77abda98847",
   "metadata": {},
   "outputs": [],
   "source": [
    "#Titanic nprzykład analizy"
   ]
  },
  {
   "cell_type": "code",
   "execution_count": 3,
   "id": "e65b49b8-dc25-432a-a11b-3c23fb2f6e7e",
   "metadata": {},
   "outputs": [],
   "source": [
    "#1. Import danych i bibliotek"
   ]
  },
  {
   "cell_type": "code",
   "execution_count": 4,
   "id": "a1bc6da1-1946-4983-ba8c-9a5d9aae1f5e",
   "metadata": {},
   "outputs": [],
   "source": [
    "import numpy as np\n",
    "import pandas as pd\n",
    "import seaborn as sns\n",
    "import matplotlib.pyplot as plt"
   ]
  },
  {
   "cell_type": "code",
   "execution_count": 5,
   "id": "ff695a80-bf36-43d4-93b7-702e26f8d45a",
   "metadata": {},
   "outputs": [],
   "source": [
    "df = pd.read_csv(r\"C:\\Dane\\2_ML_Projekty\\003_programowanie_ML_zadanka_kurs_wprowadzenie\\Moduł 4\\Zbiory danych\\titanic.csv\")"
   ]
  },
  {
   "cell_type": "code",
   "execution_count": 6,
   "id": "803975c3-6536-4f43-a904-db5b9ec090ac",
   "metadata": {},
   "outputs": [],
   "source": [
    "#Ogólny opis danych"
   ]
  },
  {
   "cell_type": "code",
   "execution_count": 7,
   "id": "5caa90de-c785-4beb-b90b-944de14d5c4e",
   "metadata": {},
   "outputs": [
    {
     "data": {
      "text/html": [
       "<div>\n",
       "<style scoped>\n",
       "    .dataframe tbody tr th:only-of-type {\n",
       "        vertical-align: middle;\n",
       "    }\n",
       "\n",
       "    .dataframe tbody tr th {\n",
       "        vertical-align: top;\n",
       "    }\n",
       "\n",
       "    .dataframe thead th {\n",
       "        text-align: right;\n",
       "    }\n",
       "</style>\n",
       "<table border=\"1\" class=\"dataframe\">\n",
       "  <thead>\n",
       "    <tr style=\"text-align: right;\">\n",
       "      <th></th>\n",
       "      <th>PassengerId</th>\n",
       "      <th>Survived</th>\n",
       "      <th>Pclass</th>\n",
       "      <th>Name</th>\n",
       "      <th>Sex</th>\n",
       "      <th>Age</th>\n",
       "      <th>SibSp</th>\n",
       "      <th>Parch</th>\n",
       "      <th>Ticket</th>\n",
       "      <th>Fare</th>\n",
       "      <th>Cabin</th>\n",
       "      <th>Embarked</th>\n",
       "    </tr>\n",
       "  </thead>\n",
       "  <tbody>\n",
       "    <tr>\n",
       "      <th>0</th>\n",
       "      <td>1</td>\n",
       "      <td>0</td>\n",
       "      <td>3</td>\n",
       "      <td>Braund, Mr. Owen Harris</td>\n",
       "      <td>male</td>\n",
       "      <td>22.0</td>\n",
       "      <td>1</td>\n",
       "      <td>0</td>\n",
       "      <td>A/5 21171</td>\n",
       "      <td>7.2500</td>\n",
       "      <td>NaN</td>\n",
       "      <td>S</td>\n",
       "    </tr>\n",
       "    <tr>\n",
       "      <th>1</th>\n",
       "      <td>2</td>\n",
       "      <td>1</td>\n",
       "      <td>1</td>\n",
       "      <td>Cumings, Mrs. John Bradley (Florence Briggs Th...</td>\n",
       "      <td>female</td>\n",
       "      <td>38.0</td>\n",
       "      <td>1</td>\n",
       "      <td>0</td>\n",
       "      <td>PC 17599</td>\n",
       "      <td>71.2833</td>\n",
       "      <td>C85</td>\n",
       "      <td>C</td>\n",
       "    </tr>\n",
       "    <tr>\n",
       "      <th>2</th>\n",
       "      <td>3</td>\n",
       "      <td>1</td>\n",
       "      <td>3</td>\n",
       "      <td>Heikkinen, Miss. Laina</td>\n",
       "      <td>female</td>\n",
       "      <td>26.0</td>\n",
       "      <td>0</td>\n",
       "      <td>0</td>\n",
       "      <td>STON/O2. 3101282</td>\n",
       "      <td>7.9250</td>\n",
       "      <td>NaN</td>\n",
       "      <td>S</td>\n",
       "    </tr>\n",
       "    <tr>\n",
       "      <th>3</th>\n",
       "      <td>4</td>\n",
       "      <td>1</td>\n",
       "      <td>1</td>\n",
       "      <td>Futrelle, Mrs. Jacques Heath (Lily May Peel)</td>\n",
       "      <td>female</td>\n",
       "      <td>35.0</td>\n",
       "      <td>1</td>\n",
       "      <td>0</td>\n",
       "      <td>113803</td>\n",
       "      <td>53.1000</td>\n",
       "      <td>C123</td>\n",
       "      <td>S</td>\n",
       "    </tr>\n",
       "    <tr>\n",
       "      <th>4</th>\n",
       "      <td>5</td>\n",
       "      <td>0</td>\n",
       "      <td>3</td>\n",
       "      <td>Allen, Mr. William Henry</td>\n",
       "      <td>male</td>\n",
       "      <td>35.0</td>\n",
       "      <td>0</td>\n",
       "      <td>0</td>\n",
       "      <td>373450</td>\n",
       "      <td>8.0500</td>\n",
       "      <td>NaN</td>\n",
       "      <td>S</td>\n",
       "    </tr>\n",
       "  </tbody>\n",
       "</table>\n",
       "</div>"
      ],
      "text/plain": [
       "   PassengerId  Survived  Pclass  \\\n",
       "0            1         0       3   \n",
       "1            2         1       1   \n",
       "2            3         1       3   \n",
       "3            4         1       1   \n",
       "4            5         0       3   \n",
       "\n",
       "                                                Name     Sex   Age  SibSp  \\\n",
       "0                            Braund, Mr. Owen Harris    male  22.0      1   \n",
       "1  Cumings, Mrs. John Bradley (Florence Briggs Th...  female  38.0      1   \n",
       "2                             Heikkinen, Miss. Laina  female  26.0      0   \n",
       "3       Futrelle, Mrs. Jacques Heath (Lily May Peel)  female  35.0      1   \n",
       "4                           Allen, Mr. William Henry    male  35.0      0   \n",
       "\n",
       "   Parch            Ticket     Fare Cabin Embarked  \n",
       "0      0         A/5 21171   7.2500   NaN        S  \n",
       "1      0          PC 17599  71.2833   C85        C  \n",
       "2      0  STON/O2. 3101282   7.9250   NaN        S  \n",
       "3      0            113803  53.1000  C123        S  \n",
       "4      0            373450   8.0500   NaN        S  "
      ]
     },
     "execution_count": 7,
     "metadata": {},
     "output_type": "execute_result"
    }
   ],
   "source": [
    "df.head()"
   ]
  },
  {
   "cell_type": "code",
   "execution_count": 8,
   "id": "f1e92d89-7f04-4ec4-83b5-0f19c84485ec",
   "metadata": {},
   "outputs": [],
   "source": [
    "# id pasażera, Survived czy przeżył czy nie pclass klasa gdzie byłitd Sibl-krewnirodzenstwo  \n",
    "#Parch-ile rodziców lub dzieci bylo na pokladzie\n",
    "#Embarked który port"
   ]
  },
  {
   "cell_type": "code",
   "execution_count": 9,
   "id": "240205a9-60a6-480c-bdf3-e890c5ff9ee5",
   "metadata": {},
   "outputs": [],
   "source": [
    "#wyswietlimy wszystkie zmienne,podaje typ,ile obserwacji 891 ile jest nie null obserwacji dla age 714 różnica to wartości brakujące"
   ]
  },
  {
   "cell_type": "code",
   "execution_count": 10,
   "id": "da47e955-f47b-4170-982f-01524677a79b",
   "metadata": {},
   "outputs": [
    {
     "name": "stdout",
     "output_type": "stream",
     "text": [
      "<class 'pandas.core.frame.DataFrame'>\n",
      "RangeIndex: 891 entries, 0 to 890\n",
      "Data columns (total 12 columns):\n",
      " #   Column       Non-Null Count  Dtype  \n",
      "---  ------       --------------  -----  \n",
      " 0   PassengerId  891 non-null    int64  \n",
      " 1   Survived     891 non-null    int64  \n",
      " 2   Pclass       891 non-null    int64  \n",
      " 3   Name         891 non-null    object \n",
      " 4   Sex          891 non-null    object \n",
      " 5   Age          714 non-null    float64\n",
      " 6   SibSp        891 non-null    int64  \n",
      " 7   Parch        891 non-null    int64  \n",
      " 8   Ticket       891 non-null    object \n",
      " 9   Fare         891 non-null    float64\n",
      " 10  Cabin        204 non-null    object \n",
      " 11  Embarked     889 non-null    object \n",
      "dtypes: float64(2), int64(5), object(5)\n",
      "memory usage: 83.7+ KB\n"
     ]
    }
   ],
   "source": [
    "df.info()"
   ]
  },
  {
   "cell_type": "code",
   "execution_count": 11,
   "id": "564c123f-1630-4d02-acca-0099d1e98004",
   "metadata": {},
   "outputs": [
    {
     "data": {
      "text/plain": [
       "(891, 12)"
      ]
     },
     "execution_count": 11,
     "metadata": {},
     "output_type": "execute_result"
    }
   ],
   "source": [
    "df.shape   #ile wierszy ile kolumn"
   ]
  },
  {
   "cell_type": "code",
   "execution_count": 12,
   "id": "98f4d394-4ffc-4b22-882b-0357c98d0a60",
   "metadata": {},
   "outputs": [
    {
     "data": {
      "text/html": [
       "<div>\n",
       "<style scoped>\n",
       "    .dataframe tbody tr th:only-of-type {\n",
       "        vertical-align: middle;\n",
       "    }\n",
       "\n",
       "    .dataframe tbody tr th {\n",
       "        vertical-align: top;\n",
       "    }\n",
       "\n",
       "    .dataframe thead th {\n",
       "        text-align: right;\n",
       "    }\n",
       "</style>\n",
       "<table border=\"1\" class=\"dataframe\">\n",
       "  <thead>\n",
       "    <tr style=\"text-align: right;\">\n",
       "      <th></th>\n",
       "      <th>PassengerId</th>\n",
       "      <th>Survived</th>\n",
       "      <th>Pclass</th>\n",
       "      <th>Age</th>\n",
       "      <th>SibSp</th>\n",
       "      <th>Parch</th>\n",
       "      <th>Fare</th>\n",
       "    </tr>\n",
       "  </thead>\n",
       "  <tbody>\n",
       "    <tr>\n",
       "      <th>count</th>\n",
       "      <td>891.000000</td>\n",
       "      <td>891.000000</td>\n",
       "      <td>891.000000</td>\n",
       "      <td>714.000000</td>\n",
       "      <td>891.000000</td>\n",
       "      <td>891.000000</td>\n",
       "      <td>891.000000</td>\n",
       "    </tr>\n",
       "    <tr>\n",
       "      <th>mean</th>\n",
       "      <td>446.000000</td>\n",
       "      <td>0.383838</td>\n",
       "      <td>2.308642</td>\n",
       "      <td>29.699118</td>\n",
       "      <td>0.523008</td>\n",
       "      <td>0.381594</td>\n",
       "      <td>32.204208</td>\n",
       "    </tr>\n",
       "    <tr>\n",
       "      <th>std</th>\n",
       "      <td>257.353842</td>\n",
       "      <td>0.486592</td>\n",
       "      <td>0.836071</td>\n",
       "      <td>14.526497</td>\n",
       "      <td>1.102743</td>\n",
       "      <td>0.806057</td>\n",
       "      <td>49.693429</td>\n",
       "    </tr>\n",
       "    <tr>\n",
       "      <th>min</th>\n",
       "      <td>1.000000</td>\n",
       "      <td>0.000000</td>\n",
       "      <td>1.000000</td>\n",
       "      <td>0.420000</td>\n",
       "      <td>0.000000</td>\n",
       "      <td>0.000000</td>\n",
       "      <td>0.000000</td>\n",
       "    </tr>\n",
       "    <tr>\n",
       "      <th>25%</th>\n",
       "      <td>223.500000</td>\n",
       "      <td>0.000000</td>\n",
       "      <td>2.000000</td>\n",
       "      <td>20.125000</td>\n",
       "      <td>0.000000</td>\n",
       "      <td>0.000000</td>\n",
       "      <td>7.910400</td>\n",
       "    </tr>\n",
       "    <tr>\n",
       "      <th>50%</th>\n",
       "      <td>446.000000</td>\n",
       "      <td>0.000000</td>\n",
       "      <td>3.000000</td>\n",
       "      <td>28.000000</td>\n",
       "      <td>0.000000</td>\n",
       "      <td>0.000000</td>\n",
       "      <td>14.454200</td>\n",
       "    </tr>\n",
       "    <tr>\n",
       "      <th>75%</th>\n",
       "      <td>668.500000</td>\n",
       "      <td>1.000000</td>\n",
       "      <td>3.000000</td>\n",
       "      <td>38.000000</td>\n",
       "      <td>1.000000</td>\n",
       "      <td>0.000000</td>\n",
       "      <td>31.000000</td>\n",
       "    </tr>\n",
       "    <tr>\n",
       "      <th>max</th>\n",
       "      <td>891.000000</td>\n",
       "      <td>1.000000</td>\n",
       "      <td>3.000000</td>\n",
       "      <td>80.000000</td>\n",
       "      <td>8.000000</td>\n",
       "      <td>6.000000</td>\n",
       "      <td>512.329200</td>\n",
       "    </tr>\n",
       "  </tbody>\n",
       "</table>\n",
       "</div>"
      ],
      "text/plain": [
       "       PassengerId    Survived      Pclass         Age       SibSp  \\\n",
       "count   891.000000  891.000000  891.000000  714.000000  891.000000   \n",
       "mean    446.000000    0.383838    2.308642   29.699118    0.523008   \n",
       "std     257.353842    0.486592    0.836071   14.526497    1.102743   \n",
       "min       1.000000    0.000000    1.000000    0.420000    0.000000   \n",
       "25%     223.500000    0.000000    2.000000   20.125000    0.000000   \n",
       "50%     446.000000    0.000000    3.000000   28.000000    0.000000   \n",
       "75%     668.500000    1.000000    3.000000   38.000000    1.000000   \n",
       "max     891.000000    1.000000    3.000000   80.000000    8.000000   \n",
       "\n",
       "            Parch        Fare  \n",
       "count  891.000000  891.000000  \n",
       "mean     0.381594   32.204208  \n",
       "std      0.806057   49.693429  \n",
       "min      0.000000    0.000000  \n",
       "25%      0.000000    7.910400  \n",
       "50%      0.000000   14.454200  \n",
       "75%      0.000000   31.000000  \n",
       "max      6.000000  512.329200  "
      ]
     },
     "execution_count": 12,
     "metadata": {},
     "output_type": "execute_result"
    }
   ],
   "source": [
    "df.describe()  #opis zmiennych numerycznych jak w age by było 200 to by trzeba usunac ten rekord"
   ]
  },
  {
   "cell_type": "code",
   "execution_count": 13,
   "id": "b93722ab-c3d9-44b9-8bc1-85b0a0c7895b",
   "metadata": {},
   "outputs": [
    {
     "data": {
      "text/html": [
       "<div>\n",
       "<style scoped>\n",
       "    .dataframe tbody tr th:only-of-type {\n",
       "        vertical-align: middle;\n",
       "    }\n",
       "\n",
       "    .dataframe tbody tr th {\n",
       "        vertical-align: top;\n",
       "    }\n",
       "\n",
       "    .dataframe thead th {\n",
       "        text-align: right;\n",
       "    }\n",
       "</style>\n",
       "<table border=\"1\" class=\"dataframe\">\n",
       "  <thead>\n",
       "    <tr style=\"text-align: right;\">\n",
       "      <th></th>\n",
       "      <th>Name</th>\n",
       "      <th>Sex</th>\n",
       "      <th>Ticket</th>\n",
       "      <th>Cabin</th>\n",
       "      <th>Embarked</th>\n",
       "    </tr>\n",
       "  </thead>\n",
       "  <tbody>\n",
       "    <tr>\n",
       "      <th>count</th>\n",
       "      <td>891</td>\n",
       "      <td>891</td>\n",
       "      <td>891</td>\n",
       "      <td>204</td>\n",
       "      <td>889</td>\n",
       "    </tr>\n",
       "    <tr>\n",
       "      <th>unique</th>\n",
       "      <td>891</td>\n",
       "      <td>2</td>\n",
       "      <td>681</td>\n",
       "      <td>147</td>\n",
       "      <td>3</td>\n",
       "    </tr>\n",
       "    <tr>\n",
       "      <th>top</th>\n",
       "      <td>Braund, Mr. Owen Harris</td>\n",
       "      <td>male</td>\n",
       "      <td>347082</td>\n",
       "      <td>B96 B98</td>\n",
       "      <td>S</td>\n",
       "    </tr>\n",
       "    <tr>\n",
       "      <th>freq</th>\n",
       "      <td>1</td>\n",
       "      <td>577</td>\n",
       "      <td>7</td>\n",
       "      <td>4</td>\n",
       "      <td>644</td>\n",
       "    </tr>\n",
       "  </tbody>\n",
       "</table>\n",
       "</div>"
      ],
      "text/plain": [
       "                           Name   Sex  Ticket    Cabin Embarked\n",
       "count                       891   891     891      204      889\n",
       "unique                      891     2     681      147        3\n",
       "top     Braund, Mr. Owen Harris  male  347082  B96 B98        S\n",
       "freq                          1   577       7        4      644"
      ]
     },
     "execution_count": 13,
     "metadata": {},
     "output_type": "execute_result"
    }
   ],
   "source": [
    "df.describe(include=['O'])    #wyświetlenie zmiennnych kategorycznych"
   ]
  },
  {
   "cell_type": "code",
   "execution_count": 14,
   "id": "37f00ad7-8743-400f-a81c-4ee9aecb312b",
   "metadata": {},
   "outputs": [],
   "source": [
    "# zliczamy braki danych wartości unikalne dwie płcie."
   ]
  },
  {
   "cell_type": "code",
   "execution_count": 15,
   "id": "fc41c668-771e-4174-8ec7-939855688f80",
   "metadata": {},
   "outputs": [],
   "source": [
    "#3. Analiza zmiennej celu Survived"
   ]
  },
  {
   "cell_type": "code",
   "execution_count": 16,
   "id": "8b5e2dd2-f9e5-44cb-8480-0b186157e726",
   "metadata": {},
   "outputs": [
    {
     "data": {
      "text/plain": [
       "Survived\n",
       "0    549\n",
       "1    342\n",
       "Name: count, dtype: int64"
      ]
     },
     "execution_count": 16,
     "metadata": {},
     "output_type": "execute_result"
    }
   ],
   "source": [
    "df['Survived'].value_counts()   #ilu pasażerów przeżyło a ilu nie"
   ]
  },
  {
   "cell_type": "code",
   "execution_count": 17,
   "id": "1948d159-d606-4f98-95ea-77fcd9615cf8",
   "metadata": {},
   "outputs": [],
   "source": [
    "#to samo w ujęciu procentowym"
   ]
  },
  {
   "cell_type": "code",
   "execution_count": 18,
   "id": "f238af62-d772-414b-bedc-f9d2018cf34d",
   "metadata": {},
   "outputs": [
    {
     "data": {
      "text/plain": [
       "Survived\n",
       "0    0.616162\n",
       "1    0.383838\n",
       "Name: proportion, dtype: float64"
      ]
     },
     "execution_count": 18,
     "metadata": {},
     "output_type": "execute_result"
    }
   ],
   "source": [
    "df['Survived'].value_counts(normalize=True) "
   ]
  },
  {
   "cell_type": "code",
   "execution_count": 19,
   "id": "94d0af2b-4aca-45a7-b4e2-2d76a9b58c77",
   "metadata": {},
   "outputs": [],
   "source": [
    "#4.Zmienna celu a zmienne jakościowe "
   ]
  },
  {
   "cell_type": "code",
   "execution_count": 20,
   "id": "1310017b-1013-434f-bc2b-1b94d860c28c",
   "metadata": {},
   "outputs": [],
   "source": [
    "#Grupowanei zbioru danych po zmiennej jakościowej i wyliczamy średnia wartość zmiennej celu. \n",
    "#Sprawdzimy czy udział osób które przeżyły jest większy w konkretnej kategorii."
   ]
  },
  {
   "cell_type": "code",
   "execution_count": 21,
   "id": "4c5528f8-3d9a-4706-9a07-971f94f631cb",
   "metadata": {},
   "outputs": [],
   "source": [
    "#wybieramy szukaną zmienna i zmienna jakościową inną"
   ]
  },
  {
   "cell_type": "code",
   "execution_count": 22,
   "id": "e39983bb-5191-4c08-858e-8433d71353a6",
   "metadata": {},
   "outputs": [],
   "source": [
    "#szukana zmienna i zmienna jakosciowa bierzemy je i grupujemy po zmiennej jakosciowej wyznaczajac srednia"
   ]
  },
  {
   "cell_type": "code",
   "execution_count": 23,
   "id": "73feb3a1-ddbd-464b-998b-c74ff9c6a75f",
   "metadata": {},
   "outputs": [
    {
     "data": {
      "text/html": [
       "<div>\n",
       "<style scoped>\n",
       "    .dataframe tbody tr th:only-of-type {\n",
       "        vertical-align: middle;\n",
       "    }\n",
       "\n",
       "    .dataframe tbody tr th {\n",
       "        vertical-align: top;\n",
       "    }\n",
       "\n",
       "    .dataframe thead th {\n",
       "        text-align: right;\n",
       "    }\n",
       "</style>\n",
       "<table border=\"1\" class=\"dataframe\">\n",
       "  <thead>\n",
       "    <tr style=\"text-align: right;\">\n",
       "      <th></th>\n",
       "      <th>Survived</th>\n",
       "    </tr>\n",
       "    <tr>\n",
       "      <th>Sex</th>\n",
       "      <th></th>\n",
       "    </tr>\n",
       "  </thead>\n",
       "  <tbody>\n",
       "    <tr>\n",
       "      <th>female</th>\n",
       "      <td>0.742038</td>\n",
       "    </tr>\n",
       "    <tr>\n",
       "      <th>male</th>\n",
       "      <td>0.188908</td>\n",
       "    </tr>\n",
       "  </tbody>\n",
       "</table>\n",
       "</div>"
      ],
      "text/plain": [
       "        Survived\n",
       "Sex             \n",
       "female  0.742038\n",
       "male    0.188908"
      ]
     },
     "execution_count": 23,
     "metadata": {},
     "output_type": "execute_result"
    }
   ],
   "source": [
    "df[['Survived','Sex']].groupby(['Sex']).mean()"
   ]
  },
  {
   "cell_type": "code",
   "execution_count": 24,
   "id": "081e1f68-66d5-4fe1-92d4-c6834425fe26",
   "metadata": {},
   "outputs": [],
   "source": [
    "# Sprawdzilismy, że znaczenie na przeżycie miała płeć.Kobiety i dzieci szły jako pierwsze do szalup"
   ]
  },
  {
   "cell_type": "code",
   "execution_count": 25,
   "id": "c8a49bdb-fbc1-49b9-bf15-8940144ab69e",
   "metadata": {},
   "outputs": [],
   "source": [
    "#teraz próbujemy sprawdzić zaleznosć miedzy tymi co przeżyli a klasa "
   ]
  },
  {
   "cell_type": "code",
   "execution_count": 26,
   "id": "3caeabb1-5326-4ec8-a97b-ce7e33b33658",
   "metadata": {},
   "outputs": [
    {
     "data": {
      "text/html": [
       "<div>\n",
       "<style scoped>\n",
       "    .dataframe tbody tr th:only-of-type {\n",
       "        vertical-align: middle;\n",
       "    }\n",
       "\n",
       "    .dataframe tbody tr th {\n",
       "        vertical-align: top;\n",
       "    }\n",
       "\n",
       "    .dataframe thead th {\n",
       "        text-align: right;\n",
       "    }\n",
       "</style>\n",
       "<table border=\"1\" class=\"dataframe\">\n",
       "  <thead>\n",
       "    <tr style=\"text-align: right;\">\n",
       "      <th></th>\n",
       "      <th>Survived</th>\n",
       "    </tr>\n",
       "    <tr>\n",
       "      <th>Pclass</th>\n",
       "      <th></th>\n",
       "    </tr>\n",
       "  </thead>\n",
       "  <tbody>\n",
       "    <tr>\n",
       "      <th>1</th>\n",
       "      <td>0.629630</td>\n",
       "    </tr>\n",
       "    <tr>\n",
       "      <th>2</th>\n",
       "      <td>0.472826</td>\n",
       "    </tr>\n",
       "    <tr>\n",
       "      <th>3</th>\n",
       "      <td>0.242363</td>\n",
       "    </tr>\n",
       "  </tbody>\n",
       "</table>\n",
       "</div>"
      ],
      "text/plain": [
       "        Survived\n",
       "Pclass          \n",
       "1       0.629630\n",
       "2       0.472826\n",
       "3       0.242363"
      ]
     },
     "execution_count": 26,
     "metadata": {},
     "output_type": "execute_result"
    }
   ],
   "source": [
    "df[['Survived','Pclass']].groupby(['Pclass']).mean()"
   ]
  },
  {
   "cell_type": "code",
   "execution_count": 27,
   "id": "914b182b-5f47-4fbc-914a-e8a0e60a0504",
   "metadata": {},
   "outputs": [],
   "source": [
    "#procentowy rozkład tych co przeżyli w  zaleznosci od liczby rodzeństwa"
   ]
  },
  {
   "cell_type": "code",
   "execution_count": 28,
   "id": "54ce276e-ecc7-4e28-b14b-e7e063b0c41d",
   "metadata": {},
   "outputs": [
    {
     "data": {
      "text/html": [
       "<div>\n",
       "<style scoped>\n",
       "    .dataframe tbody tr th:only-of-type {\n",
       "        vertical-align: middle;\n",
       "    }\n",
       "\n",
       "    .dataframe tbody tr th {\n",
       "        vertical-align: top;\n",
       "    }\n",
       "\n",
       "    .dataframe thead th {\n",
       "        text-align: right;\n",
       "    }\n",
       "</style>\n",
       "<table border=\"1\" class=\"dataframe\">\n",
       "  <thead>\n",
       "    <tr style=\"text-align: right;\">\n",
       "      <th></th>\n",
       "      <th>Survived</th>\n",
       "    </tr>\n",
       "    <tr>\n",
       "      <th>SibSp</th>\n",
       "      <th></th>\n",
       "    </tr>\n",
       "  </thead>\n",
       "  <tbody>\n",
       "    <tr>\n",
       "      <th>0</th>\n",
       "      <td>0.345395</td>\n",
       "    </tr>\n",
       "    <tr>\n",
       "      <th>1</th>\n",
       "      <td>0.535885</td>\n",
       "    </tr>\n",
       "    <tr>\n",
       "      <th>2</th>\n",
       "      <td>0.464286</td>\n",
       "    </tr>\n",
       "    <tr>\n",
       "      <th>3</th>\n",
       "      <td>0.250000</td>\n",
       "    </tr>\n",
       "    <tr>\n",
       "      <th>4</th>\n",
       "      <td>0.166667</td>\n",
       "    </tr>\n",
       "    <tr>\n",
       "      <th>5</th>\n",
       "      <td>0.000000</td>\n",
       "    </tr>\n",
       "    <tr>\n",
       "      <th>8</th>\n",
       "      <td>0.000000</td>\n",
       "    </tr>\n",
       "  </tbody>\n",
       "</table>\n",
       "</div>"
      ],
      "text/plain": [
       "       Survived\n",
       "SibSp          \n",
       "0      0.345395\n",
       "1      0.535885\n",
       "2      0.464286\n",
       "3      0.250000\n",
       "4      0.166667\n",
       "5      0.000000\n",
       "8      0.000000"
      ]
     },
     "execution_count": 28,
     "metadata": {},
     "output_type": "execute_result"
    }
   ],
   "source": [
    "df[['Survived','SibSp']].groupby(['SibSp']).mean()"
   ]
  },
  {
   "cell_type": "code",
   "execution_count": 29,
   "id": "6aeeffa8-06ed-4b7f-818e-3a396076100c",
   "metadata": {},
   "outputs": [],
   "source": [
    "#procentowo Ci co przeżyli w zaleznosci od liczby rodzenstwa warto sprawdzić \n",
    "#lcizebnosc tych grup bo 8 rodzenstwa miało niewiele osob."
   ]
  },
  {
   "cell_type": "code",
   "execution_count": 30,
   "id": "5b9b4622-9cc0-44e4-8b49-79b7c39b55a6",
   "metadata": {},
   "outputs": [],
   "source": [
    "#Zaleznosc między tymi co przeżyli a portem rozpoczecia podróży"
   ]
  },
  {
   "cell_type": "code",
   "execution_count": 31,
   "id": "8f11796a-1663-425a-a23e-c04b8feefa6c",
   "metadata": {},
   "outputs": [
    {
     "data": {
      "text/html": [
       "<div>\n",
       "<style scoped>\n",
       "    .dataframe tbody tr th:only-of-type {\n",
       "        vertical-align: middle;\n",
       "    }\n",
       "\n",
       "    .dataframe tbody tr th {\n",
       "        vertical-align: top;\n",
       "    }\n",
       "\n",
       "    .dataframe thead th {\n",
       "        text-align: right;\n",
       "    }\n",
       "</style>\n",
       "<table border=\"1\" class=\"dataframe\">\n",
       "  <thead>\n",
       "    <tr style=\"text-align: right;\">\n",
       "      <th></th>\n",
       "      <th>Survived</th>\n",
       "    </tr>\n",
       "    <tr>\n",
       "      <th>Embarked</th>\n",
       "      <th></th>\n",
       "    </tr>\n",
       "  </thead>\n",
       "  <tbody>\n",
       "    <tr>\n",
       "      <th>C</th>\n",
       "      <td>0.553571</td>\n",
       "    </tr>\n",
       "    <tr>\n",
       "      <th>Q</th>\n",
       "      <td>0.389610</td>\n",
       "    </tr>\n",
       "    <tr>\n",
       "      <th>S</th>\n",
       "      <td>0.336957</td>\n",
       "    </tr>\n",
       "  </tbody>\n",
       "</table>\n",
       "</div>"
      ],
      "text/plain": [
       "          Survived\n",
       "Embarked          \n",
       "C         0.553571\n",
       "Q         0.389610\n",
       "S         0.336957"
      ]
     },
     "execution_count": 31,
     "metadata": {},
     "output_type": "execute_result"
    }
   ],
   "source": [
    "df[['Survived','Embarked']].groupby(['Embarked']).mean()"
   ]
  },
  {
   "cell_type": "code",
   "execution_count": 32,
   "id": "eef2b235-b594-427c-82cd-b1ee80e046aa",
   "metadata": {},
   "outputs": [],
   "source": [
    "#Pozostałem zmienne jak name ticket i cabin mają duzo unikalnych wartości "
   ]
  },
  {
   "cell_type": "code",
   "execution_count": 33,
   "id": "073c0795-ec28-461d-b59f-581a71b1f78c",
   "metadata": {},
   "outputs": [
    {
     "data": {
      "text/html": [
       "<div>\n",
       "<style scoped>\n",
       "    .dataframe tbody tr th:only-of-type {\n",
       "        vertical-align: middle;\n",
       "    }\n",
       "\n",
       "    .dataframe tbody tr th {\n",
       "        vertical-align: top;\n",
       "    }\n",
       "\n",
       "    .dataframe thead th {\n",
       "        text-align: right;\n",
       "    }\n",
       "</style>\n",
       "<table border=\"1\" class=\"dataframe\">\n",
       "  <thead>\n",
       "    <tr style=\"text-align: right;\">\n",
       "      <th></th>\n",
       "      <th>Name</th>\n",
       "      <th>Sex</th>\n",
       "      <th>Ticket</th>\n",
       "      <th>Cabin</th>\n",
       "      <th>Embarked</th>\n",
       "    </tr>\n",
       "  </thead>\n",
       "  <tbody>\n",
       "    <tr>\n",
       "      <th>count</th>\n",
       "      <td>891</td>\n",
       "      <td>891</td>\n",
       "      <td>891</td>\n",
       "      <td>204</td>\n",
       "      <td>889</td>\n",
       "    </tr>\n",
       "    <tr>\n",
       "      <th>unique</th>\n",
       "      <td>891</td>\n",
       "      <td>2</td>\n",
       "      <td>681</td>\n",
       "      <td>147</td>\n",
       "      <td>3</td>\n",
       "    </tr>\n",
       "    <tr>\n",
       "      <th>top</th>\n",
       "      <td>Braund, Mr. Owen Harris</td>\n",
       "      <td>male</td>\n",
       "      <td>347082</td>\n",
       "      <td>B96 B98</td>\n",
       "      <td>S</td>\n",
       "    </tr>\n",
       "    <tr>\n",
       "      <th>freq</th>\n",
       "      <td>1</td>\n",
       "      <td>577</td>\n",
       "      <td>7</td>\n",
       "      <td>4</td>\n",
       "      <td>644</td>\n",
       "    </tr>\n",
       "  </tbody>\n",
       "</table>\n",
       "</div>"
      ],
      "text/plain": [
       "                           Name   Sex  Ticket    Cabin Embarked\n",
       "count                       891   891     891      204      889\n",
       "unique                      891     2     681      147        3\n",
       "top     Braund, Mr. Owen Harris  male  347082  B96 B98        S\n",
       "freq                          1   577       7        4      644"
      ]
     },
     "execution_count": 33,
     "metadata": {},
     "output_type": "execute_result"
    }
   ],
   "source": [
    "df.describe(include=['O']) "
   ]
  },
  {
   "cell_type": "code",
   "execution_count": 34,
   "id": "e070a4b3-18a8-46df-8871-1643a1aaa6ce",
   "metadata": {},
   "outputs": [],
   "source": [
    "#5.Zmienna celu pod katem zmiennych ilosciowych"
   ]
  },
  {
   "cell_type": "code",
   "execution_count": 35,
   "id": "992ad7e5-9b23-4ccc-af6c-f2006e5e006f",
   "metadata": {},
   "outputs": [],
   "source": [
    "#to grupowanie co powyżej nie będzie miało sensu w ich przypadku.Grupowanie ale po zmiennej celu i zobaczymy i jaka \n",
    "#jest wartość średniej zmiennej ilościowej dla odpowadajacej kategorii zmiennej celu."
   ]
  },
  {
   "cell_type": "code",
   "execution_count": 36,
   "id": "5ff60071-9464-4339-94b6-dcb3089438c2",
   "metadata": {},
   "outputs": [
    {
     "data": {
      "text/html": [
       "<div>\n",
       "<style scoped>\n",
       "    .dataframe tbody tr th:only-of-type {\n",
       "        vertical-align: middle;\n",
       "    }\n",
       "\n",
       "    .dataframe tbody tr th {\n",
       "        vertical-align: top;\n",
       "    }\n",
       "\n",
       "    .dataframe thead th {\n",
       "        text-align: right;\n",
       "    }\n",
       "</style>\n",
       "<table border=\"1\" class=\"dataframe\">\n",
       "  <thead>\n",
       "    <tr style=\"text-align: right;\">\n",
       "      <th></th>\n",
       "      <th>Age</th>\n",
       "    </tr>\n",
       "    <tr>\n",
       "      <th>Survived</th>\n",
       "      <th></th>\n",
       "    </tr>\n",
       "  </thead>\n",
       "  <tbody>\n",
       "    <tr>\n",
       "      <th>0</th>\n",
       "      <td>30.626179</td>\n",
       "    </tr>\n",
       "    <tr>\n",
       "      <th>1</th>\n",
       "      <td>28.343690</td>\n",
       "    </tr>\n",
       "  </tbody>\n",
       "</table>\n",
       "</div>"
      ],
      "text/plain": [
       "                Age\n",
       "Survived           \n",
       "0         30.626179\n",
       "1         28.343690"
      ]
     },
     "execution_count": 36,
     "metadata": {},
     "output_type": "execute_result"
    }
   ],
   "source": [
    "df[['Survived','Age']].groupby(['Survived']).mean()"
   ]
  },
  {
   "cell_type": "code",
   "execution_count": 37,
   "id": "87d55159-fcd3-450d-b08a-95f8031924f0",
   "metadata": {},
   "outputs": [],
   "source": [
    "#otrzymuje informacje jaka była średnia wieku tych co nie przeżyli i ci co przeżyli katastrofę"
   ]
  },
  {
   "cell_type": "code",
   "execution_count": 38,
   "id": "602eecd1-3fab-4102-8810-82631aa62271",
   "metadata": {},
   "outputs": [],
   "source": [
    "#tak równiez moge ocenic czy dana zmienna ma wpływ na zmienną celu czy jest zróznicowanie"
   ]
  },
  {
   "cell_type": "code",
   "execution_count": 39,
   "id": "e078fd46-f230-4a65-8a58-4f180447db31",
   "metadata": {},
   "outputs": [],
   "source": [
    "#analiza zmiennej Fare kosztu biletu"
   ]
  },
  {
   "cell_type": "code",
   "execution_count": 40,
   "id": "99a2322a-1063-4bb8-be27-8d98e1e62855",
   "metadata": {},
   "outputs": [
    {
     "data": {
      "text/html": [
       "<div>\n",
       "<style scoped>\n",
       "    .dataframe tbody tr th:only-of-type {\n",
       "        vertical-align: middle;\n",
       "    }\n",
       "\n",
       "    .dataframe tbody tr th {\n",
       "        vertical-align: top;\n",
       "    }\n",
       "\n",
       "    .dataframe thead th {\n",
       "        text-align: right;\n",
       "    }\n",
       "</style>\n",
       "<table border=\"1\" class=\"dataframe\">\n",
       "  <thead>\n",
       "    <tr style=\"text-align: right;\">\n",
       "      <th></th>\n",
       "      <th>Fare</th>\n",
       "    </tr>\n",
       "    <tr>\n",
       "      <th>Survived</th>\n",
       "      <th></th>\n",
       "    </tr>\n",
       "  </thead>\n",
       "  <tbody>\n",
       "    <tr>\n",
       "      <th>0</th>\n",
       "      <td>22.117887</td>\n",
       "    </tr>\n",
       "    <tr>\n",
       "      <th>1</th>\n",
       "      <td>48.395408</td>\n",
       "    </tr>\n",
       "  </tbody>\n",
       "</table>\n",
       "</div>"
      ],
      "text/plain": [
       "               Fare\n",
       "Survived           \n",
       "0         22.117887\n",
       "1         48.395408"
      ]
     },
     "execution_count": 40,
     "metadata": {},
     "output_type": "execute_result"
    }
   ],
   "source": [
    "df[['Survived','Fare']].groupby(['Survived']).mean()"
   ]
  },
  {
   "cell_type": "code",
   "execution_count": 41,
   "id": "84ca1239-4a4d-4172-845c-37541301c967",
   "metadata": {},
   "outputs": [],
   "source": [
    "#osoby które rpzeżyły płaciły za bilet  więcej od tych co nie przeżyli"
   ]
  },
  {
   "cell_type": "code",
   "execution_count": 42,
   "id": "f394ffcc-f0fe-4f75-a52e-ecaf58569531",
   "metadata": {},
   "outputs": [],
   "source": [
    "#6. Wizualizacje"
   ]
  },
  {
   "cell_type": "code",
   "execution_count": 43,
   "id": "48425afc-cfcf-4dec-8445-3082453994c2",
   "metadata": {},
   "outputs": [],
   "source": [
    "#Jak na wykresie słupkowym  kształtuje sieudział osób które przeżyły katastrofęz podziałem na płeć"
   ]
  },
  {
   "cell_type": "code",
   "execution_count": 44,
   "id": "dc51956d-427a-4c37-b9f2-8a49ae258a99",
   "metadata": {},
   "outputs": [
    {
     "data": {
      "image/png": "[encoded data removed]",
      "text/plain": [
       "<Figure size 640x480 with 1 Axes>"
      ]
     },
     "metadata": {},
     "output_type": "display_data"
    }
   ],
   "source": [
    "sns.barplot(x='Sex', y='Survived', data=df, palette = 'inferno')\n",
    "plt.show()"
   ]
  },
  {
   "cell_type": "code",
   "execution_count": 45,
   "id": "d805853d-e301-4d58-8259-34bbccabc364",
   "metadata": {},
   "outputs": [
    {
     "data": {
      "text/html": [
       "<div>\n",
       "<style scoped>\n",
       "    .dataframe tbody tr th:only-of-type {\n",
       "        vertical-align: middle;\n",
       "    }\n",
       "\n",
       "    .dataframe tbody tr th {\n",
       "        vertical-align: top;\n",
       "    }\n",
       "\n",
       "    .dataframe thead th {\n",
       "        text-align: right;\n",
       "    }\n",
       "</style>\n",
       "<table border=\"1\" class=\"dataframe\">\n",
       "  <thead>\n",
       "    <tr style=\"text-align: right;\">\n",
       "      <th></th>\n",
       "      <th>Survived</th>\n",
       "    </tr>\n",
       "    <tr>\n",
       "      <th>Sex</th>\n",
       "      <th></th>\n",
       "    </tr>\n",
       "  </thead>\n",
       "  <tbody>\n",
       "    <tr>\n",
       "      <th>female</th>\n",
       "      <td>0.742038</td>\n",
       "    </tr>\n",
       "    <tr>\n",
       "      <th>male</th>\n",
       "      <td>0.188908</td>\n",
       "    </tr>\n",
       "  </tbody>\n",
       "</table>\n",
       "</div>"
      ],
      "text/plain": [
       "        Survived\n",
       "Sex             \n",
       "female  0.742038\n",
       "male    0.188908"
      ]
     },
     "execution_count": 45,
     "metadata": {},
     "output_type": "execute_result"
    }
   ],
   "source": [
    "# wcześniejszej analizy odnośnie ilu mezczyzn a ile kobiet przeżył:\n",
    "df[['Survived','Sex']].groupby(['Sex']).mean()"
   ]
  },
  {
   "cell_type": "code",
   "execution_count": 46,
   "id": "2634cc7e-fea7-4e58-bacb-6692953fc428",
   "metadata": {},
   "outputs": [],
   "source": [
    "#Dane te sie potwierdziły"
   ]
  },
  {
   "cell_type": "code",
   "execution_count": 47,
   "id": "1e87142f-0c23-486f-a94b-17f8a3065690",
   "metadata": {},
   "outputs": [],
   "source": [
    "#podobny wykres dla zmiennej Embarked gdzie osoba wisadała na pokład statku"
   ]
  },
  {
   "cell_type": "code",
   "execution_count": 48,
   "id": "93d548c1-62a7-4de2-a06b-508cac05bf0f",
   "metadata": {},
   "outputs": [
    {
     "data": {
      "image/png": "[encoded data removed]",
      "text/plain": [
       "<Figure size 640x480 with 1 Axes>"
      ]
     },
     "metadata": {},
     "output_type": "display_data"
    }
   ],
   "source": [
    "sns.barplot(x='Embarked', y='Survived', data=df, palette = 'inferno')\n",
    "plt.show()"
   ]
  },
  {
   "cell_type": "code",
   "execution_count": 49,
   "id": "dafe1fb4-8d1a-4c6b-bee9-8964e877be92",
   "metadata": {},
   "outputs": [
    {
     "data": {
      "text/html": [
       "<div>\n",
       "<style scoped>\n",
       "    .dataframe tbody tr th:only-of-type {\n",
       "        vertical-align: middle;\n",
       "    }\n",
       "\n",
       "    .dataframe tbody tr th {\n",
       "        vertical-align: top;\n",
       "    }\n",
       "\n",
       "    .dataframe thead th {\n",
       "        text-align: right;\n",
       "    }\n",
       "</style>\n",
       "<table border=\"1\" class=\"dataframe\">\n",
       "  <thead>\n",
       "    <tr style=\"text-align: right;\">\n",
       "      <th></th>\n",
       "      <th>Survived</th>\n",
       "    </tr>\n",
       "    <tr>\n",
       "      <th>Embarked</th>\n",
       "      <th></th>\n",
       "    </tr>\n",
       "  </thead>\n",
       "  <tbody>\n",
       "    <tr>\n",
       "      <th>C</th>\n",
       "      <td>0.553571</td>\n",
       "    </tr>\n",
       "    <tr>\n",
       "      <th>Q</th>\n",
       "      <td>0.389610</td>\n",
       "    </tr>\n",
       "    <tr>\n",
       "      <th>S</th>\n",
       "      <td>0.336957</td>\n",
       "    </tr>\n",
       "  </tbody>\n",
       "</table>\n",
       "</div>"
      ],
      "text/plain": [
       "          Survived\n",
       "Embarked          \n",
       "C         0.553571\n",
       "Q         0.389610\n",
       "S         0.336957"
      ]
     },
     "execution_count": 49,
     "metadata": {},
     "output_type": "execute_result"
    }
   ],
   "source": [
    "#analogicznie do tych danych odnosnie kto rpzeżyl wg portów gdzie wsiadali z punktu 3\n",
    "df[['Survived','Embarked']].groupby(['Embarked']).mean()"
   ]
  },
  {
   "cell_type": "code",
   "execution_count": 50,
   "id": "07bc6c46-a6e3-43db-8610-107e688fdde6",
   "metadata": {},
   "outputs": [
    {
     "data": {
      "image/png": "[encoded data removed]",
      "text/plain": [
       "<Figure size 640x480 with 1 Axes>"
      ]
     },
     "metadata": {},
     "output_type": "display_data"
    }
   ],
   "source": [
    "#łączymy teraz 3 zmienne\n",
    "#analogicznie do tych danych odnosnie kto rpzeżyl wg portów gdzie wsiadali z punktu 3\n",
    "sns.barplot(x='Embarked', y='Survived', hue='Sex', data=df, palette = 'inferno')\n",
    "plt.show()"
   ]
  },
  {
   "cell_type": "code",
   "execution_count": 51,
   "id": "a43bfa71-d2f1-43f6-905b-2c9f4a02b629",
   "metadata": {},
   "outputs": [],
   "source": [
    "# wkróym porcie według płci był największy odsetek ludzi co przeżyli katastrofę.Dla portu C najwiecej kobiet \n",
    "#przeżyło adla Q najmniej mężczyzn przeżyło"
   ]
  },
  {
   "cell_type": "code",
   "execution_count": 52,
   "id": "686e5f35-d27f-4d31-897e-fabebeed515a",
   "metadata": {},
   "outputs": [],
   "source": [
    "#Wykorzystamy wkyres FacetGrid z seaborn pokaże on rozkłady wybranej zmiennej numerycznej w podziale na kategorie zmiennej celu.\n",
    "#Zobaczymy czy te rozkłady się róznią."
   ]
  },
  {
   "cell_type": "code",
   "execution_count": 53,
   "id": "7260139e-6387-4ad8-8f3f-831a5c91d80e",
   "metadata": {},
   "outputs": [
    {
     "data": {
      "image/png": "[encoded data removed]",
      "text/plain": [
       "<Figure size 600x300 with 2 Axes>"
      ]
     },
     "metadata": {},
     "output_type": "display_data"
    }
   ],
   "source": [
    "mapa=sns.FacetGrid(df,col=\"Survived\")\n",
    "mapa.map(plt.hist, 'Fare')\n",
    "plt.show()"
   ]
  },
  {
   "cell_type": "code",
   "execution_count": 54,
   "id": "d727230f-ac91-4068-9ac7-978752017e81",
   "metadata": {},
   "outputs": [],
   "source": [
    "#Sporo tych co nie przeżył katastrofy kupiło tanie bilety. Ci co przeżyli zapłacili wiecej za bilety"
   ]
  },
  {
   "cell_type": "code",
   "execution_count": 55,
   "id": "97bd26ab-b3e5-42ba-b807-20639b6bafe5",
   "metadata": {},
   "outputs": [],
   "source": [
    "#Podobny wykres dla zmiennej wiek Age\n"
   ]
  },
  {
   "cell_type": "code",
   "execution_count": 56,
   "id": "84208cb5-eda8-4866-9e69-91121722e967",
   "metadata": {},
   "outputs": [
    {
     "data": {
      "image/png": "[encoded data removed]",
      "text/plain": [
       "<Figure size 600x300 with 2 Axes>"
      ]
     },
     "metadata": {},
     "output_type": "display_data"
    }
   ],
   "source": [
    "mapa=sns.FacetGrid(df,col=\"Survived\")\n",
    "mapa.map(plt.hist, 'Age')\n",
    "plt.show()"
   ]
  },
  {
   "cell_type": "code",
   "execution_count": 57,
   "id": "b5f59d76-9efe-4221-bdde-6b5f8a927541",
   "metadata": {},
   "outputs": [],
   "source": [
    "#najwięcej przeżyło luzi miedzy 20-30 rok życia a najwięcej zmarło między19 a 30."
   ]
  },
  {
   "cell_type": "code",
   "execution_count": 58,
   "id": "44923701-4c2f-4a8e-90fb-aa3dc738df73",
   "metadata": {},
   "outputs": [],
   "source": [
    "#7 ogólna analiza zmiennych objasniających zmiennych jakosciowych i ilościowych"
   ]
  },
  {
   "cell_type": "code",
   "execution_count": 59,
   "id": "b2195227-dec6-43bf-8c53-62b90b00a430",
   "metadata": {},
   "outputs": [],
   "source": [
    "#Sprawdzenie rozkłądu zmiennych jakosciowych- sprawdzenie rozkładu liczebnosci poszcególnych zmiennych za pomocą metody value_counts()"
   ]
  },
  {
   "cell_type": "code",
   "execution_count": 60,
   "id": "4214112b-5982-4e90-af72-8e7c3475af18",
   "metadata": {},
   "outputs": [
    {
     "data": {
      "text/html": [
       "<div>\n",
       "<style scoped>\n",
       "    .dataframe tbody tr th:only-of-type {\n",
       "        vertical-align: middle;\n",
       "    }\n",
       "\n",
       "    .dataframe tbody tr th {\n",
       "        vertical-align: top;\n",
       "    }\n",
       "\n",
       "    .dataframe thead th {\n",
       "        text-align: right;\n",
       "    }\n",
       "</style>\n",
       "<table border=\"1\" class=\"dataframe\">\n",
       "  <thead>\n",
       "    <tr style=\"text-align: right;\">\n",
       "      <th></th>\n",
       "      <th>PassengerId</th>\n",
       "      <th>Survived</th>\n",
       "      <th>Pclass</th>\n",
       "      <th>Name</th>\n",
       "      <th>Sex</th>\n",
       "      <th>Age</th>\n",
       "      <th>SibSp</th>\n",
       "      <th>Parch</th>\n",
       "      <th>Ticket</th>\n",
       "      <th>Fare</th>\n",
       "      <th>Cabin</th>\n",
       "      <th>Embarked</th>\n",
       "    </tr>\n",
       "  </thead>\n",
       "  <tbody>\n",
       "    <tr>\n",
       "      <th>0</th>\n",
       "      <td>1</td>\n",
       "      <td>0</td>\n",
       "      <td>3</td>\n",
       "      <td>Braund, Mr. Owen Harris</td>\n",
       "      <td>male</td>\n",
       "      <td>22.0</td>\n",
       "      <td>1</td>\n",
       "      <td>0</td>\n",
       "      <td>A/5 21171</td>\n",
       "      <td>7.2500</td>\n",
       "      <td>NaN</td>\n",
       "      <td>S</td>\n",
       "    </tr>\n",
       "    <tr>\n",
       "      <th>1</th>\n",
       "      <td>2</td>\n",
       "      <td>1</td>\n",
       "      <td>1</td>\n",
       "      <td>Cumings, Mrs. John Bradley (Florence Briggs Th...</td>\n",
       "      <td>female</td>\n",
       "      <td>38.0</td>\n",
       "      <td>1</td>\n",
       "      <td>0</td>\n",
       "      <td>PC 17599</td>\n",
       "      <td>71.2833</td>\n",
       "      <td>C85</td>\n",
       "      <td>C</td>\n",
       "    </tr>\n",
       "    <tr>\n",
       "      <th>2</th>\n",
       "      <td>3</td>\n",
       "      <td>1</td>\n",
       "      <td>3</td>\n",
       "      <td>Heikkinen, Miss. Laina</td>\n",
       "      <td>female</td>\n",
       "      <td>26.0</td>\n",
       "      <td>0</td>\n",
       "      <td>0</td>\n",
       "      <td>STON/O2. 3101282</td>\n",
       "      <td>7.9250</td>\n",
       "      <td>NaN</td>\n",
       "      <td>S</td>\n",
       "    </tr>\n",
       "    <tr>\n",
       "      <th>3</th>\n",
       "      <td>4</td>\n",
       "      <td>1</td>\n",
       "      <td>1</td>\n",
       "      <td>Futrelle, Mrs. Jacques Heath (Lily May Peel)</td>\n",
       "      <td>female</td>\n",
       "      <td>35.0</td>\n",
       "      <td>1</td>\n",
       "      <td>0</td>\n",
       "      <td>113803</td>\n",
       "      <td>53.1000</td>\n",
       "      <td>C123</td>\n",
       "      <td>S</td>\n",
       "    </tr>\n",
       "    <tr>\n",
       "      <th>4</th>\n",
       "      <td>5</td>\n",
       "      <td>0</td>\n",
       "      <td>3</td>\n",
       "      <td>Allen, Mr. William Henry</td>\n",
       "      <td>male</td>\n",
       "      <td>35.0</td>\n",
       "      <td>0</td>\n",
       "      <td>0</td>\n",
       "      <td>373450</td>\n",
       "      <td>8.0500</td>\n",
       "      <td>NaN</td>\n",
       "      <td>S</td>\n",
       "    </tr>\n",
       "  </tbody>\n",
       "</table>\n",
       "</div>"
      ],
      "text/plain": [
       "   PassengerId  Survived  Pclass  \\\n",
       "0            1         0       3   \n",
       "1            2         1       1   \n",
       "2            3         1       3   \n",
       "3            4         1       1   \n",
       "4            5         0       3   \n",
       "\n",
       "                                                Name     Sex   Age  SibSp  \\\n",
       "0                            Braund, Mr. Owen Harris    male  22.0      1   \n",
       "1  Cumings, Mrs. John Bradley (Florence Briggs Th...  female  38.0      1   \n",
       "2                             Heikkinen, Miss. Laina  female  26.0      0   \n",
       "3       Futrelle, Mrs. Jacques Heath (Lily May Peel)  female  35.0      1   \n",
       "4                           Allen, Mr. William Henry    male  35.0      0   \n",
       "\n",
       "   Parch            Ticket     Fare Cabin Embarked  \n",
       "0      0         A/5 21171   7.2500   NaN        S  \n",
       "1      0          PC 17599  71.2833   C85        C  \n",
       "2      0  STON/O2. 3101282   7.9250   NaN        S  \n",
       "3      0            113803  53.1000  C123        S  \n",
       "4      0            373450   8.0500   NaN        S  "
      ]
     },
     "execution_count": 60,
     "metadata": {},
     "output_type": "execute_result"
    }
   ],
   "source": [
    "df.head()"
   ]
  },
  {
   "cell_type": "code",
   "execution_count": 61,
   "id": "badfd9da-5840-40b8-9318-f9b8714e5d41",
   "metadata": {},
   "outputs": [],
   "source": [
    "#przypominam zmienne"
   ]
  },
  {
   "cell_type": "code",
   "execution_count": 62,
   "id": "a9bea0c3-bf98-4a07-af0d-54b0a908cef0",
   "metadata": {},
   "outputs": [
    {
     "name": "stdout",
     "output_type": "stream",
     "text": [
      "Pclass\n",
      "3    491\n",
      "1    216\n",
      "2    184\n",
      "Name: count, dtype: int64\n",
      " \n",
      "Sex\n",
      "male      577\n",
      "female    314\n",
      "Name: count, dtype: int64\n",
      " \n",
      "SibSp\n",
      "0    608\n",
      "1    209\n",
      "2     28\n",
      "4     18\n",
      "3     16\n",
      "8      7\n",
      "5      5\n",
      "Name: count, dtype: int64\n",
      " \n",
      "Parch\n",
      "0    678\n",
      "1    118\n",
      "2     80\n",
      "5      5\n",
      "3      5\n",
      "4      4\n",
      "6      1\n",
      "Name: count, dtype: int64\n",
      " \n",
      "Embarked\n",
      "S    644\n",
      "C    168\n",
      "Q     77\n",
      "Name: count, dtype: int64\n",
      " \n"
     ]
    }
   ],
   "source": [
    "#tworzę lsite zmiennych kategorycznych\n",
    "chars =['Pclass', 'Sex','SibSp', 'Parch', 'Embarked']\n",
    "for i in chars:\n",
    "    print(df[i].value_counts())\n",
    "    print(' ')"
   ]
  },
  {
   "cell_type": "code",
   "execution_count": 63,
   "id": "b73cbc1d-4889-45d8-a202-fa07248b6607",
   "metadata": {},
   "outputs": [],
   "source": [
    "#jeśli sa małoliczne kategorie to się zastanowić sie trzeba czy poxniej nie chcemy ich połaczyć"
   ]
  },
  {
   "cell_type": "code",
   "execution_count": 64,
   "id": "58ebdd65-84c0-41b8-91c1-4669fa360248",
   "metadata": {},
   "outputs": [],
   "source": [
    "#SibSp\n",
    "#Dla osób z dużą liczbą rodzeństwa 5-8 jest malo tych osób i to można ew połaczyć a nawet jeszcze z 3+\n",
    "#0    608\n",
    "#1    209\n",
    "#2     28\n",
    "#4     18\n",
    "#3     16\n",
    "#8      7\n",
    "#5      5\n",
    "#Name: count, dtype: int64"
   ]
  },
  {
   "cell_type": "code",
   "execution_count": 65,
   "id": "55f48ae9-34f4-42f9-8c10-ea36ddda4c86",
   "metadata": {},
   "outputs": [],
   "source": [
    "#Parch\n",
    "#0    678\n",
    "#1    118\n",
    "#2     80\n",
    "#5      5\n",
    "#3      5\n",
    "#4      4\n",
    "#6      1\n",
    "#Name: count, dtype: int64 podobnie dla Parch i 6,5,4,3 sa małe liczebnosci i mozna dołaczyć do 2"
   ]
  },
  {
   "cell_type": "code",
   "execution_count": 66,
   "id": "610d838d-c1ba-48e4-af29-8ae543ae9d2b",
   "metadata": {},
   "outputs": [],
   "source": [
    "# w embarked nic nie robimy"
   ]
  },
  {
   "cell_type": "code",
   "execution_count": 67,
   "id": "c1c500b1-4ba1-4761-bbcf-d2773f76340d",
   "metadata": {},
   "outputs": [],
   "source": [
    "#Zmienne ilościowe\n"
   ]
  },
  {
   "cell_type": "code",
   "execution_count": 68,
   "id": "6ee69afd-e109-473c-b5a5-33537bbaf8d6",
   "metadata": {},
   "outputs": [],
   "source": [
    "nums =['Age','Fare']"
   ]
  },
  {
   "cell_type": "code",
   "execution_count": 69,
   "id": "61878581-4445-431c-98d6-5ada312aa2fd",
   "metadata": {},
   "outputs": [
    {
     "name": "stderr",
     "output_type": "stream",
     "text": [
      "C:\\Anaconda\\Lib\\site-packages\\seaborn\\_oldcore.py:1119: FutureWarning: use_inf_as_na option is deprecated and will be removed in a future version. Convert inf values to NaN before operating instead.\n",
      "  with pd.option_context('mode.use_inf_as_na', True):\n"
     ]
    },
    {
     "data": {
      "image/png": "[encoded data removed]",
      "text/plain": [
       "<Figure size 640x480 with 1 Axes>"
      ]
     },
     "metadata": {},
     "output_type": "display_data"
    },
    {
     "name": "stderr",
     "output_type": "stream",
     "text": [
      "C:\\Anaconda\\Lib\\site-packages\\seaborn\\_oldcore.py:1119: FutureWarning: use_inf_as_na option is deprecated and will be removed in a future version. Convert inf values to NaN before operating instead.\n",
      "  with pd.option_context('mode.use_inf_as_na', True):\n"
     ]
    },
    {
     "data": {
      "image/png": "[encoded data removed]",
      "text/plain": [
       "<Figure size 640x480 with 1 Axes>"
      ]
     },
     "metadata": {},
     "output_type": "display_data"
    }
   ],
   "source": [
    "for i in nums:\n",
    "    sns.histplot(df[i])\n",
    "    plt.show()"
   ]
  },
  {
   "cell_type": "code",
   "execution_count": 70,
   "id": "40eb3e24-e7fe-4517-bfb5-2bfcc7d5c23d",
   "metadata": {},
   "outputs": [],
   "source": [
    "#bardzo dużo osób płaciło mało za bilet mało ale wiecej też jest rozkład"
   ]
  },
  {
   "cell_type": "code",
   "execution_count": 71,
   "id": "35720660-48ef-46d6-9c40-74736fd8762e",
   "metadata": {},
   "outputs": [],
   "source": [
    "#8. transformacja zmiennych Feature engineering transformacja zmiennych do uzyskania lepszej inforacji odnosnie zmiennych."
   ]
  },
  {
   "cell_type": "code",
   "execution_count": 72,
   "id": "e2affa5e-6a4b-456c-a73b-b87a2a148555",
   "metadata": {},
   "outputs": [],
   "source": [
    "#Usuwany nie potrzebne zmienne:"
   ]
  },
  {
   "cell_type": "code",
   "execution_count": 73,
   "id": "6e3232a7-a3a6-4983-a109-cc9c01978dd8",
   "metadata": {},
   "outputs": [
    {
     "data": {
      "text/html": [
       "<div>\n",
       "<style scoped>\n",
       "    .dataframe tbody tr th:only-of-type {\n",
       "        vertical-align: middle;\n",
       "    }\n",
       "\n",
       "    .dataframe tbody tr th {\n",
       "        vertical-align: top;\n",
       "    }\n",
       "\n",
       "    .dataframe thead th {\n",
       "        text-align: right;\n",
       "    }\n",
       "</style>\n",
       "<table border=\"1\" class=\"dataframe\">\n",
       "  <thead>\n",
       "    <tr style=\"text-align: right;\">\n",
       "      <th></th>\n",
       "      <th>PassengerId</th>\n",
       "      <th>Survived</th>\n",
       "      <th>Pclass</th>\n",
       "      <th>Name</th>\n",
       "      <th>Sex</th>\n",
       "      <th>Age</th>\n",
       "      <th>SibSp</th>\n",
       "      <th>Parch</th>\n",
       "      <th>Ticket</th>\n",
       "      <th>Fare</th>\n",
       "      <th>Cabin</th>\n",
       "      <th>Embarked</th>\n",
       "    </tr>\n",
       "  </thead>\n",
       "  <tbody>\n",
       "    <tr>\n",
       "      <th>0</th>\n",
       "      <td>1</td>\n",
       "      <td>0</td>\n",
       "      <td>3</td>\n",
       "      <td>Braund, Mr. Owen Harris</td>\n",
       "      <td>male</td>\n",
       "      <td>22.0</td>\n",
       "      <td>1</td>\n",
       "      <td>0</td>\n",
       "      <td>A/5 21171</td>\n",
       "      <td>7.2500</td>\n",
       "      <td>NaN</td>\n",
       "      <td>S</td>\n",
       "    </tr>\n",
       "    <tr>\n",
       "      <th>1</th>\n",
       "      <td>2</td>\n",
       "      <td>1</td>\n",
       "      <td>1</td>\n",
       "      <td>Cumings, Mrs. John Bradley (Florence Briggs Th...</td>\n",
       "      <td>female</td>\n",
       "      <td>38.0</td>\n",
       "      <td>1</td>\n",
       "      <td>0</td>\n",
       "      <td>PC 17599</td>\n",
       "      <td>71.2833</td>\n",
       "      <td>C85</td>\n",
       "      <td>C</td>\n",
       "    </tr>\n",
       "    <tr>\n",
       "      <th>2</th>\n",
       "      <td>3</td>\n",
       "      <td>1</td>\n",
       "      <td>3</td>\n",
       "      <td>Heikkinen, Miss. Laina</td>\n",
       "      <td>female</td>\n",
       "      <td>26.0</td>\n",
       "      <td>0</td>\n",
       "      <td>0</td>\n",
       "      <td>STON/O2. 3101282</td>\n",
       "      <td>7.9250</td>\n",
       "      <td>NaN</td>\n",
       "      <td>S</td>\n",
       "    </tr>\n",
       "    <tr>\n",
       "      <th>3</th>\n",
       "      <td>4</td>\n",
       "      <td>1</td>\n",
       "      <td>1</td>\n",
       "      <td>Futrelle, Mrs. Jacques Heath (Lily May Peel)</td>\n",
       "      <td>female</td>\n",
       "      <td>35.0</td>\n",
       "      <td>1</td>\n",
       "      <td>0</td>\n",
       "      <td>113803</td>\n",
       "      <td>53.1000</td>\n",
       "      <td>C123</td>\n",
       "      <td>S</td>\n",
       "    </tr>\n",
       "    <tr>\n",
       "      <th>4</th>\n",
       "      <td>5</td>\n",
       "      <td>0</td>\n",
       "      <td>3</td>\n",
       "      <td>Allen, Mr. William Henry</td>\n",
       "      <td>male</td>\n",
       "      <td>35.0</td>\n",
       "      <td>0</td>\n",
       "      <td>0</td>\n",
       "      <td>373450</td>\n",
       "      <td>8.0500</td>\n",
       "      <td>NaN</td>\n",
       "      <td>S</td>\n",
       "    </tr>\n",
       "  </tbody>\n",
       "</table>\n",
       "</div>"
      ],
      "text/plain": [
       "   PassengerId  Survived  Pclass  \\\n",
       "0            1         0       3   \n",
       "1            2         1       1   \n",
       "2            3         1       3   \n",
       "3            4         1       1   \n",
       "4            5         0       3   \n",
       "\n",
       "                                                Name     Sex   Age  SibSp  \\\n",
       "0                            Braund, Mr. Owen Harris    male  22.0      1   \n",
       "1  Cumings, Mrs. John Bradley (Florence Briggs Th...  female  38.0      1   \n",
       "2                             Heikkinen, Miss. Laina  female  26.0      0   \n",
       "3       Futrelle, Mrs. Jacques Heath (Lily May Peel)  female  35.0      1   \n",
       "4                           Allen, Mr. William Henry    male  35.0      0   \n",
       "\n",
       "   Parch            Ticket     Fare Cabin Embarked  \n",
       "0      0         A/5 21171   7.2500   NaN        S  \n",
       "1      0          PC 17599  71.2833   C85        C  \n",
       "2      0  STON/O2. 3101282   7.9250   NaN        S  \n",
       "3      0            113803  53.1000  C123        S  \n",
       "4      0            373450   8.0500   NaN        S  "
      ]
     },
     "execution_count": 73,
     "metadata": {},
     "output_type": "execute_result"
    }
   ],
   "source": [
    "df.head()"
   ]
  },
  {
   "cell_type": "code",
   "execution_count": 74,
   "id": "39b6ffc6-6b06-46fa-a962-8f65c8862279",
   "metadata": {},
   "outputs": [],
   "source": [
    "# nie potrzebujemy passenger Id, ticket oraz Cabin "
   ]
  },
  {
   "cell_type": "code",
   "execution_count": 75,
   "id": "1da615e5-e83c-44df-9b9c-66ace9ffe5df",
   "metadata": {},
   "outputs": [],
   "source": [
    "#Z tych wartości nic sensownego nie wyciągniemy."
   ]
  },
  {
   "cell_type": "code",
   "execution_count": 76,
   "id": "79688c51-7206-4583-993e-1864613bb593",
   "metadata": {},
   "outputs": [],
   "source": [
    "#Zmienna name zostawiamy bo da sie wyciagnąc cos ciekaego"
   ]
  },
  {
   "cell_type": "code",
   "execution_count": 77,
   "id": "57c1c43e-e423-46cd-8c43-2e75214f9ac5",
   "metadata": {},
   "outputs": [],
   "source": [
    "df.drop(['PassengerId', 'Ticket', 'Cabin'], axis=1, inplace=True) #usuwamy klumny a nie wiersze axis=1 inplace=true usuniecie przypisane do danych df"
   ]
  },
  {
   "cell_type": "code",
   "execution_count": 78,
   "id": "0109b6b3-ae9d-4007-a863-2a3985bbe0bf",
   "metadata": {},
   "outputs": [
    {
     "data": {
      "text/plain": [
       "Index(['Survived', 'Pclass', 'Name', 'Sex', 'Age', 'SibSp', 'Parch', 'Fare',\n",
       "       'Embarked'],\n",
       "      dtype='object')"
      ]
     },
     "execution_count": 78,
     "metadata": {},
     "output_type": "execute_result"
    }
   ],
   "source": [
    "df.columns"
   ]
  },
  {
   "cell_type": "code",
   "execution_count": 79,
   "id": "db669a0b-a7a4-4359-a11a-beb19f35ef8d",
   "metadata": {},
   "outputs": [],
   "source": [
    "#transformacja zmiennych "
   ]
  },
  {
   "cell_type": "code",
   "execution_count": 80,
   "id": "bbbcc02e-cafa-44e3-9a15-7389d4218017",
   "metadata": {},
   "outputs": [],
   "source": [
    "#Parch SibSp moga być zmiennymi kategorycznymi i niektóre kategorie są małoliczne."
   ]
  },
  {
   "cell_type": "code",
   "execution_count": 81,
   "id": "fa1332c4-47ee-4bd2-8ed6-bc875fbe3c70",
   "metadata": {},
   "outputs": [],
   "source": [
    "#sprawdzamy Parch"
   ]
  },
  {
   "cell_type": "code",
   "execution_count": 82,
   "id": "4bc06b76-da5d-4bf9-9f78-79361e76384a",
   "metadata": {},
   "outputs": [
    {
     "data": {
      "text/plain": [
       "Parch\n",
       "0    678\n",
       "1    118\n",
       "2     80\n",
       "5      5\n",
       "3      5\n",
       "4      4\n",
       "6      1\n",
       "Name: count, dtype: int64"
      ]
     },
     "execution_count": 82,
     "metadata": {},
     "output_type": "execute_result"
    }
   ],
   "source": [
    "df['Parch'].value_counts() #sprawzamy jak wyglada zmienna "
   ]
  },
  {
   "cell_type": "code",
   "execution_count": 83,
   "id": "8959fb85-85e8-45f0-9c2a-4e48534440b9",
   "metadata": {},
   "outputs": [],
   "source": [
    "#dla 3,4,5,6 obserwacji jest bardzo mało model się nie nauczy na kilku lub jednej obserwacji.\n",
    "#Łaczymy wtedy kategorie w bardziej sensowny sposób"
   ]
  },
  {
   "cell_type": "code",
   "execution_count": 84,
   "id": "21824ee3-fe6b-464a-9769-607ff1b7ee09",
   "metadata": {},
   "outputs": [],
   "source": [
    "#0 i 1 zostawimy a od 2 do 6 połaczymy wjedną kategorię.\n",
    "#nadpisujemy zmienną parch używając funkcje np where\n",
    "#jak parch >1 przypiszemyw artośc 2+ a jak nie to wartość zmiennej parch"
   ]
  },
  {
   "cell_type": "code",
   "execution_count": 85,
   "id": "dd2708c3-1fb3-4f16-9e33-08bf6d8873d4",
   "metadata": {},
   "outputs": [],
   "source": [
    "df['Parch'] = np.where(df['Parch']>1,'2+', df['Parch'])"
   ]
  },
  {
   "cell_type": "code",
   "execution_count": 86,
   "id": "3e318a61-0a42-4c25-a68f-d5b72af9c956",
   "metadata": {},
   "outputs": [
    {
     "data": {
      "text/plain": [
       "Parch\n",
       "0     678\n",
       "1     118\n",
       "2+     95\n",
       "Name: count, dtype: int64"
      ]
     },
     "execution_count": 86,
     "metadata": {},
     "output_type": "execute_result"
    }
   ],
   "source": [
    "#Sprawdzamy\n",
    "df['Parch'].value_counts()"
   ]
  },
  {
   "cell_type": "code",
   "execution_count": 87,
   "id": "b245a655-bca9-49c9-9a54-540944c3429c",
   "metadata": {},
   "outputs": [],
   "source": [
    "#Sprawdzamy jak kształtuje sie zmienna SibSp"
   ]
  },
  {
   "cell_type": "code",
   "execution_count": 88,
   "id": "944f93e0-d1f6-4c5f-8c57-bb9a3a6a1f78",
   "metadata": {},
   "outputs": [
    {
     "data": {
      "text/plain": [
       "SibSp\n",
       "0    608\n",
       "1    209\n",
       "2     28\n",
       "4     18\n",
       "3     16\n",
       "8      7\n",
       "5      5\n",
       "Name: count, dtype: int64"
      ]
     },
     "execution_count": 88,
     "metadata": {},
     "output_type": "execute_result"
    }
   ],
   "source": [
    "df['SibSp'].value_counts()"
   ]
  },
  {
   "cell_type": "code",
   "execution_count": 89,
   "id": "66016768-7741-4175-912b-382873095448",
   "metadata": {},
   "outputs": [],
   "source": [
    "df['SibSp'] = np.where(df['SibSp'] >1,'2+',df['SibSp'])"
   ]
  },
  {
   "cell_type": "code",
   "execution_count": 90,
   "id": "ebc5e758-e47f-445f-b2f3-24ffdce1b6c5",
   "metadata": {},
   "outputs": [
    {
     "data": {
      "text/plain": [
       "SibSp\n",
       "0     608\n",
       "1     209\n",
       "2+     74\n",
       "Name: count, dtype: int64"
      ]
     },
     "execution_count": 90,
     "metadata": {},
     "output_type": "execute_result"
    }
   ],
   "source": [
    "df['SibSp'].value_counts()"
   ]
  },
  {
   "cell_type": "code",
   "execution_count": 91,
   "id": "a5897d82-52ce-4726-b6eb-92dfa8ef19d8",
   "metadata": {},
   "outputs": [
    {
     "data": {
      "text/plain": [
       "0                                Braund, Mr. Owen Harris\n",
       "1      Cumings, Mrs. John Bradley (Florence Briggs Th...\n",
       "2                                 Heikkinen, Miss. Laina\n",
       "3           Futrelle, Mrs. Jacques Heath (Lily May Peel)\n",
       "4                               Allen, Mr. William Henry\n",
       "                             ...                        \n",
       "886                                Montvila, Rev. Juozas\n",
       "887                         Graham, Miss. Margaret Edith\n",
       "888             Johnston, Miss. Catherine Helen \"Carrie\"\n",
       "889                                Behr, Mr. Karl Howell\n",
       "890                                  Dooley, Mr. Patrick\n",
       "Name: Name, Length: 891, dtype: object"
      ]
     },
     "execution_count": 91,
     "metadata": {},
     "output_type": "execute_result"
    }
   ],
   "source": [
    "#transformacja zmiennej Name\n",
    "df['Name']"
   ]
  },
  {
   "cell_type": "code",
   "execution_count": 92,
   "id": "df54195d-1e4c-40ff-9068-a0b7713def56",
   "metadata": {},
   "outputs": [],
   "source": [
    "#mamy tu imięnazwisko, plec, czy osoba jest zamęzna czy nie. To można wyciagnąc z tych danych.Wiekszośc kobiet z wyższej klasy przeżyło katastrofe a przynajmniej wiecej kobiet niż mężczyzn."
   ]
  },
  {
   "cell_type": "code",
   "execution_count": 93,
   "id": "ad1346bb-25ba-4186-9b62-edf7b7699067",
   "metadata": {},
   "outputs": [],
   "source": [
    "#Aby znależć płeć szukamy tytułu Mr/MRs Miss itd"
   ]
  },
  {
   "cell_type": "code",
   "execution_count": 94,
   "id": "523dd58a-03d1-4dd7-91ef-7408b79e69fd",
   "metadata": {},
   "outputs": [
    {
     "data": {
      "text/plain": [
       "'Braund, Mr. Owen Harris'"
      ]
     },
     "execution_count": 94,
     "metadata": {},
     "output_type": "execute_result"
    }
   ],
   "source": [
    "df['Name'].loc[0]"
   ]
  },
  {
   "cell_type": "code",
   "execution_count": 95,
   "id": "550b3271-5039-4969-9c23-db78484441cb",
   "metadata": {},
   "outputs": [
    {
     "data": {
      "text/plain": [
       "['Braund', ' Mr. Owen Harris']"
      ]
     },
     "execution_count": 95,
     "metadata": {},
     "output_type": "execute_result"
    }
   ],
   "source": [
    "df['Name'].loc[0].split(',')"
   ]
  },
  {
   "cell_type": "code",
   "execution_count": 96,
   "id": "7c3b1769-3853-45e8-a3d7-47b766cd8889",
   "metadata": {},
   "outputs": [
    {
     "data": {
      "text/plain": [
       "' Mr. Owen Harris'"
      ]
     },
     "execution_count": 96,
     "metadata": {},
     "output_type": "execute_result"
    }
   ],
   "source": [
    "df['Name'].loc[0].split(',')[1]"
   ]
  },
  {
   "cell_type": "code",
   "execution_count": 97,
   "id": "c5de090f-2431-4512-91fc-ed00b3b5cbb1",
   "metadata": {},
   "outputs": [
    {
     "data": {
      "text/plain": [
       "[' Mr', ' Owen Harris']"
      ]
     },
     "execution_count": 97,
     "metadata": {},
     "output_type": "execute_result"
    }
   ],
   "source": [
    "df['Name'].loc[0].split(',')[1].split('.')"
   ]
  },
  {
   "cell_type": "code",
   "execution_count": 98,
   "id": "f45226a6-5523-4dda-a83b-31a09417d5e4",
   "metadata": {},
   "outputs": [
    {
     "data": {
      "text/plain": [
       "' Mr'"
      ]
     },
     "execution_count": 98,
     "metadata": {},
     "output_type": "execute_result"
    }
   ],
   "source": [
    "df['Name'].loc[0].split(',')[1].split('.')[0]"
   ]
  },
  {
   "cell_type": "code",
   "execution_count": 99,
   "id": "ac7ec205-c316-4b4e-8de7-85511aa9e15d",
   "metadata": {},
   "outputs": [
    {
     "data": {
      "text/plain": [
       "'Mr'"
      ]
     },
     "execution_count": 99,
     "metadata": {},
     "output_type": "execute_result"
    }
   ],
   "source": [
    "df['Name'].loc[0].split(',')[1].split('.')[0].strip()"
   ]
  },
  {
   "cell_type": "code",
   "execution_count": 100,
   "id": "eaf8c858-1730-472c-b18a-74b3ccadd7a4",
   "metadata": {},
   "outputs": [],
   "source": [
    "#wykorzystujemy lambda dos tworzenai nowej lini z danymi"
   ]
  },
  {
   "cell_type": "code",
   "execution_count": 101,
   "id": "7c9b8c71-fcec-411d-89ba-fbe05470529b",
   "metadata": {},
   "outputs": [],
   "source": [
    "df['Title'] = df['Name'].apply(lambda x:x.split(',')[1].split('.')[0].strip() )"
   ]
  },
  {
   "cell_type": "code",
   "execution_count": 102,
   "id": "e3181cd0-b0e9-4537-a7d0-b22df3f39e35",
   "metadata": {},
   "outputs": [
    {
     "data": {
      "text/html": [
       "<div>\n",
       "<style scoped>\n",
       "    .dataframe tbody tr th:only-of-type {\n",
       "        vertical-align: middle;\n",
       "    }\n",
       "\n",
       "    .dataframe tbody tr th {\n",
       "        vertical-align: top;\n",
       "    }\n",
       "\n",
       "    .dataframe thead th {\n",
       "        text-align: right;\n",
       "    }\n",
       "</style>\n",
       "<table border=\"1\" class=\"dataframe\">\n",
       "  <thead>\n",
       "    <tr style=\"text-align: right;\">\n",
       "      <th></th>\n",
       "      <th>Survived</th>\n",
       "      <th>Pclass</th>\n",
       "      <th>Name</th>\n",
       "      <th>Sex</th>\n",
       "      <th>Age</th>\n",
       "      <th>SibSp</th>\n",
       "      <th>Parch</th>\n",
       "      <th>Fare</th>\n",
       "      <th>Embarked</th>\n",
       "      <th>Title</th>\n",
       "    </tr>\n",
       "  </thead>\n",
       "  <tbody>\n",
       "    <tr>\n",
       "      <th>0</th>\n",
       "      <td>0</td>\n",
       "      <td>3</td>\n",
       "      <td>Braund, Mr. Owen Harris</td>\n",
       "      <td>male</td>\n",
       "      <td>22.0</td>\n",
       "      <td>1</td>\n",
       "      <td>0</td>\n",
       "      <td>7.2500</td>\n",
       "      <td>S</td>\n",
       "      <td>Mr</td>\n",
       "    </tr>\n",
       "    <tr>\n",
       "      <th>1</th>\n",
       "      <td>1</td>\n",
       "      <td>1</td>\n",
       "      <td>Cumings, Mrs. John Bradley (Florence Briggs Th...</td>\n",
       "      <td>female</td>\n",
       "      <td>38.0</td>\n",
       "      <td>1</td>\n",
       "      <td>0</td>\n",
       "      <td>71.2833</td>\n",
       "      <td>C</td>\n",
       "      <td>Mrs</td>\n",
       "    </tr>\n",
       "    <tr>\n",
       "      <th>2</th>\n",
       "      <td>1</td>\n",
       "      <td>3</td>\n",
       "      <td>Heikkinen, Miss. Laina</td>\n",
       "      <td>female</td>\n",
       "      <td>26.0</td>\n",
       "      <td>0</td>\n",
       "      <td>0</td>\n",
       "      <td>7.9250</td>\n",
       "      <td>S</td>\n",
       "      <td>Miss</td>\n",
       "    </tr>\n",
       "    <tr>\n",
       "      <th>3</th>\n",
       "      <td>1</td>\n",
       "      <td>1</td>\n",
       "      <td>Futrelle, Mrs. Jacques Heath (Lily May Peel)</td>\n",
       "      <td>female</td>\n",
       "      <td>35.0</td>\n",
       "      <td>1</td>\n",
       "      <td>0</td>\n",
       "      <td>53.1000</td>\n",
       "      <td>S</td>\n",
       "      <td>Mrs</td>\n",
       "    </tr>\n",
       "    <tr>\n",
       "      <th>4</th>\n",
       "      <td>0</td>\n",
       "      <td>3</td>\n",
       "      <td>Allen, Mr. William Henry</td>\n",
       "      <td>male</td>\n",
       "      <td>35.0</td>\n",
       "      <td>0</td>\n",
       "      <td>0</td>\n",
       "      <td>8.0500</td>\n",
       "      <td>S</td>\n",
       "      <td>Mr</td>\n",
       "    </tr>\n",
       "  </tbody>\n",
       "</table>\n",
       "</div>"
      ],
      "text/plain": [
       "   Survived  Pclass                                               Name  \\\n",
       "0         0       3                            Braund, Mr. Owen Harris   \n",
       "1         1       1  Cumings, Mrs. John Bradley (Florence Briggs Th...   \n",
       "2         1       3                             Heikkinen, Miss. Laina   \n",
       "3         1       1       Futrelle, Mrs. Jacques Heath (Lily May Peel)   \n",
       "4         0       3                           Allen, Mr. William Henry   \n",
       "\n",
       "      Sex   Age SibSp Parch     Fare Embarked Title  \n",
       "0    male  22.0     1     0   7.2500        S    Mr  \n",
       "1  female  38.0     1     0  71.2833        C   Mrs  \n",
       "2  female  26.0     0     0   7.9250        S  Miss  \n",
       "3  female  35.0     1     0  53.1000        S   Mrs  \n",
       "4    male  35.0     0     0   8.0500        S    Mr  "
      ]
     },
     "execution_count": 102,
     "metadata": {},
     "output_type": "execute_result"
    }
   ],
   "source": [
    "df.head()"
   ]
  },
  {
   "cell_type": "code",
   "execution_count": 103,
   "id": "4db5041b-db22-4245-8049-6beea1577f7b",
   "metadata": {},
   "outputs": [],
   "source": [
    "#zliczamy nowe wiersze"
   ]
  },
  {
   "cell_type": "code",
   "execution_count": 104,
   "id": "96cfc624-4d5d-49e5-a8e2-3bcaf0db6677",
   "metadata": {},
   "outputs": [
    {
     "data": {
      "text/plain": [
       "Title\n",
       "Mr              517\n",
       "Miss            182\n",
       "Mrs             125\n",
       "Master           40\n",
       "Dr                7\n",
       "Rev               6\n",
       "Mlle              2\n",
       "Major             2\n",
       "Col               2\n",
       "the Countess      1\n",
       "Capt              1\n",
       "Ms                1\n",
       "Sir               1\n",
       "Lady              1\n",
       "Mme               1\n",
       "Don               1\n",
       "Jonkheer          1\n",
       "Name: count, dtype: int64"
      ]
     },
     "execution_count": 104,
     "metadata": {},
     "output_type": "execute_result"
    }
   ],
   "source": [
    "df['Title'].value_counts()"
   ]
  },
  {
   "cell_type": "code",
   "execution_count": 105,
   "id": "d4636a60-e749-4421-8fcf-8b84af6edeb2",
   "metadata": {},
   "outputs": [],
   "source": [
    "#wszystko poniżej master robimy do other czyli porzadkujemy dane"
   ]
  },
  {
   "cell_type": "code",
   "execution_count": 106,
   "id": "f10a2907-6260-42e0-970a-2b00b594c33e",
   "metadata": {},
   "outputs": [],
   "source": [
    "df['Title'] = np.where(df['Title'].isin(['Mr', 'Miss', 'Mrs','Master']), df['Title'], 'Other')"
   ]
  },
  {
   "cell_type": "code",
   "execution_count": 107,
   "id": "38b0bfe2-24d6-4d37-a0ca-67f5ec5d48c2",
   "metadata": {},
   "outputs": [],
   "source": [
    "#######################jeśli df od Title zawiera się w liscie['Mr', 'Miss', 'Mrs','Master' to df['Title']inaczej to Other"
   ]
  },
  {
   "cell_type": "code",
   "execution_count": 108,
   "id": "d9bcacb4-f219-4d35-bfb1-76f4e072c1f5",
   "metadata": {},
   "outputs": [
    {
     "data": {
      "text/html": [
       "<div>\n",
       "<style scoped>\n",
       "    .dataframe tbody tr th:only-of-type {\n",
       "        vertical-align: middle;\n",
       "    }\n",
       "\n",
       "    .dataframe tbody tr th {\n",
       "        vertical-align: top;\n",
       "    }\n",
       "\n",
       "    .dataframe thead th {\n",
       "        text-align: right;\n",
       "    }\n",
       "</style>\n",
       "<table border=\"1\" class=\"dataframe\">\n",
       "  <thead>\n",
       "    <tr style=\"text-align: right;\">\n",
       "      <th></th>\n",
       "      <th>Survived</th>\n",
       "      <th>Pclass</th>\n",
       "      <th>Name</th>\n",
       "      <th>Sex</th>\n",
       "      <th>Age</th>\n",
       "      <th>SibSp</th>\n",
       "      <th>Parch</th>\n",
       "      <th>Fare</th>\n",
       "      <th>Embarked</th>\n",
       "      <th>Title</th>\n",
       "    </tr>\n",
       "  </thead>\n",
       "  <tbody>\n",
       "    <tr>\n",
       "      <th>0</th>\n",
       "      <td>0</td>\n",
       "      <td>3</td>\n",
       "      <td>Braund, Mr. Owen Harris</td>\n",
       "      <td>male</td>\n",
       "      <td>22.0</td>\n",
       "      <td>1</td>\n",
       "      <td>0</td>\n",
       "      <td>7.2500</td>\n",
       "      <td>S</td>\n",
       "      <td>Mr</td>\n",
       "    </tr>\n",
       "    <tr>\n",
       "      <th>1</th>\n",
       "      <td>1</td>\n",
       "      <td>1</td>\n",
       "      <td>Cumings, Mrs. John Bradley (Florence Briggs Th...</td>\n",
       "      <td>female</td>\n",
       "      <td>38.0</td>\n",
       "      <td>1</td>\n",
       "      <td>0</td>\n",
       "      <td>71.2833</td>\n",
       "      <td>C</td>\n",
       "      <td>Mrs</td>\n",
       "    </tr>\n",
       "    <tr>\n",
       "      <th>2</th>\n",
       "      <td>1</td>\n",
       "      <td>3</td>\n",
       "      <td>Heikkinen, Miss. Laina</td>\n",
       "      <td>female</td>\n",
       "      <td>26.0</td>\n",
       "      <td>0</td>\n",
       "      <td>0</td>\n",
       "      <td>7.9250</td>\n",
       "      <td>S</td>\n",
       "      <td>Miss</td>\n",
       "    </tr>\n",
       "    <tr>\n",
       "      <th>3</th>\n",
       "      <td>1</td>\n",
       "      <td>1</td>\n",
       "      <td>Futrelle, Mrs. Jacques Heath (Lily May Peel)</td>\n",
       "      <td>female</td>\n",
       "      <td>35.0</td>\n",
       "      <td>1</td>\n",
       "      <td>0</td>\n",
       "      <td>53.1000</td>\n",
       "      <td>S</td>\n",
       "      <td>Mrs</td>\n",
       "    </tr>\n",
       "    <tr>\n",
       "      <th>4</th>\n",
       "      <td>0</td>\n",
       "      <td>3</td>\n",
       "      <td>Allen, Mr. William Henry</td>\n",
       "      <td>male</td>\n",
       "      <td>35.0</td>\n",
       "      <td>0</td>\n",
       "      <td>0</td>\n",
       "      <td>8.0500</td>\n",
       "      <td>S</td>\n",
       "      <td>Mr</td>\n",
       "    </tr>\n",
       "  </tbody>\n",
       "</table>\n",
       "</div>"
      ],
      "text/plain": [
       "   Survived  Pclass                                               Name  \\\n",
       "0         0       3                            Braund, Mr. Owen Harris   \n",
       "1         1       1  Cumings, Mrs. John Bradley (Florence Briggs Th...   \n",
       "2         1       3                             Heikkinen, Miss. Laina   \n",
       "3         1       1       Futrelle, Mrs. Jacques Heath (Lily May Peel)   \n",
       "4         0       3                           Allen, Mr. William Henry   \n",
       "\n",
       "      Sex   Age SibSp Parch     Fare Embarked Title  \n",
       "0    male  22.0     1     0   7.2500        S    Mr  \n",
       "1  female  38.0     1     0  71.2833        C   Mrs  \n",
       "2  female  26.0     0     0   7.9250        S  Miss  \n",
       "3  female  35.0     1     0  53.1000        S   Mrs  \n",
       "4    male  35.0     0     0   8.0500        S    Mr  "
      ]
     },
     "execution_count": 108,
     "metadata": {},
     "output_type": "execute_result"
    }
   ],
   "source": [
    "df.head()"
   ]
  },
  {
   "cell_type": "code",
   "execution_count": 109,
   "id": "b1b004f7-a1f8-4a52-8d2b-ac6a4c2c70e7",
   "metadata": {},
   "outputs": [
    {
     "data": {
      "text/plain": [
       "Title\n",
       "Mr        517\n",
       "Miss      182\n",
       "Mrs       125\n",
       "Master     40\n",
       "Other      27\n",
       "Name: count, dtype: int64"
      ]
     },
     "execution_count": 109,
     "metadata": {},
     "output_type": "execute_result"
    }
   ],
   "source": [
    "df['Title'].value_counts()"
   ]
  },
  {
   "cell_type": "code",
   "execution_count": 110,
   "id": "96fd0f0d-7158-44af-83da-632781783636",
   "metadata": {},
   "outputs": [],
   "source": [
    "#Zrzucamy Name bo nie ma juz wartosci dodanej"
   ]
  },
  {
   "cell_type": "code",
   "execution_count": 111,
   "id": "d6f87b7b-a2ad-442b-b91a-ab318c7db4ef",
   "metadata": {},
   "outputs": [],
   "source": [
    "df.drop('Name', axis=1, inplace=True)"
   ]
  },
  {
   "cell_type": "code",
   "execution_count": 112,
   "id": "edd372ad-9093-4933-8c45-ae55a1e36bc9",
   "metadata": {},
   "outputs": [
    {
     "data": {
      "text/html": [
       "<div>\n",
       "<style scoped>\n",
       "    .dataframe tbody tr th:only-of-type {\n",
       "        vertical-align: middle;\n",
       "    }\n",
       "\n",
       "    .dataframe tbody tr th {\n",
       "        vertical-align: top;\n",
       "    }\n",
       "\n",
       "    .dataframe thead th {\n",
       "        text-align: right;\n",
       "    }\n",
       "</style>\n",
       "<table border=\"1\" class=\"dataframe\">\n",
       "  <thead>\n",
       "    <tr style=\"text-align: right;\">\n",
       "      <th></th>\n",
       "      <th>Survived</th>\n",
       "      <th>Pclass</th>\n",
       "      <th>Sex</th>\n",
       "      <th>Age</th>\n",
       "      <th>SibSp</th>\n",
       "      <th>Parch</th>\n",
       "      <th>Fare</th>\n",
       "      <th>Embarked</th>\n",
       "      <th>Title</th>\n",
       "    </tr>\n",
       "  </thead>\n",
       "  <tbody>\n",
       "    <tr>\n",
       "      <th>0</th>\n",
       "      <td>0</td>\n",
       "      <td>3</td>\n",
       "      <td>male</td>\n",
       "      <td>22.0</td>\n",
       "      <td>1</td>\n",
       "      <td>0</td>\n",
       "      <td>7.2500</td>\n",
       "      <td>S</td>\n",
       "      <td>Mr</td>\n",
       "    </tr>\n",
       "    <tr>\n",
       "      <th>1</th>\n",
       "      <td>1</td>\n",
       "      <td>1</td>\n",
       "      <td>female</td>\n",
       "      <td>38.0</td>\n",
       "      <td>1</td>\n",
       "      <td>0</td>\n",
       "      <td>71.2833</td>\n",
       "      <td>C</td>\n",
       "      <td>Mrs</td>\n",
       "    </tr>\n",
       "    <tr>\n",
       "      <th>2</th>\n",
       "      <td>1</td>\n",
       "      <td>3</td>\n",
       "      <td>female</td>\n",
       "      <td>26.0</td>\n",
       "      <td>0</td>\n",
       "      <td>0</td>\n",
       "      <td>7.9250</td>\n",
       "      <td>S</td>\n",
       "      <td>Miss</td>\n",
       "    </tr>\n",
       "    <tr>\n",
       "      <th>3</th>\n",
       "      <td>1</td>\n",
       "      <td>1</td>\n",
       "      <td>female</td>\n",
       "      <td>35.0</td>\n",
       "      <td>1</td>\n",
       "      <td>0</td>\n",
       "      <td>53.1000</td>\n",
       "      <td>S</td>\n",
       "      <td>Mrs</td>\n",
       "    </tr>\n",
       "    <tr>\n",
       "      <th>4</th>\n",
       "      <td>0</td>\n",
       "      <td>3</td>\n",
       "      <td>male</td>\n",
       "      <td>35.0</td>\n",
       "      <td>0</td>\n",
       "      <td>0</td>\n",
       "      <td>8.0500</td>\n",
       "      <td>S</td>\n",
       "      <td>Mr</td>\n",
       "    </tr>\n",
       "    <tr>\n",
       "      <th>...</th>\n",
       "      <td>...</td>\n",
       "      <td>...</td>\n",
       "      <td>...</td>\n",
       "      <td>...</td>\n",
       "      <td>...</td>\n",
       "      <td>...</td>\n",
       "      <td>...</td>\n",
       "      <td>...</td>\n",
       "      <td>...</td>\n",
       "    </tr>\n",
       "    <tr>\n",
       "      <th>886</th>\n",
       "      <td>0</td>\n",
       "      <td>2</td>\n",
       "      <td>male</td>\n",
       "      <td>27.0</td>\n",
       "      <td>0</td>\n",
       "      <td>0</td>\n",
       "      <td>13.0000</td>\n",
       "      <td>S</td>\n",
       "      <td>Other</td>\n",
       "    </tr>\n",
       "    <tr>\n",
       "      <th>887</th>\n",
       "      <td>1</td>\n",
       "      <td>1</td>\n",
       "      <td>female</td>\n",
       "      <td>19.0</td>\n",
       "      <td>0</td>\n",
       "      <td>0</td>\n",
       "      <td>30.0000</td>\n",
       "      <td>S</td>\n",
       "      <td>Miss</td>\n",
       "    </tr>\n",
       "    <tr>\n",
       "      <th>888</th>\n",
       "      <td>0</td>\n",
       "      <td>3</td>\n",
       "      <td>female</td>\n",
       "      <td>NaN</td>\n",
       "      <td>1</td>\n",
       "      <td>2+</td>\n",
       "      <td>23.4500</td>\n",
       "      <td>S</td>\n",
       "      <td>Miss</td>\n",
       "    </tr>\n",
       "    <tr>\n",
       "      <th>889</th>\n",
       "      <td>1</td>\n",
       "      <td>1</td>\n",
       "      <td>male</td>\n",
       "      <td>26.0</td>\n",
       "      <td>0</td>\n",
       "      <td>0</td>\n",
       "      <td>30.0000</td>\n",
       "      <td>C</td>\n",
       "      <td>Mr</td>\n",
       "    </tr>\n",
       "    <tr>\n",
       "      <th>890</th>\n",
       "      <td>0</td>\n",
       "      <td>3</td>\n",
       "      <td>male</td>\n",
       "      <td>32.0</td>\n",
       "      <td>0</td>\n",
       "      <td>0</td>\n",
       "      <td>7.7500</td>\n",
       "      <td>Q</td>\n",
       "      <td>Mr</td>\n",
       "    </tr>\n",
       "  </tbody>\n",
       "</table>\n",
       "<p>891 rows × 9 columns</p>\n",
       "</div>"
      ],
      "text/plain": [
       "     Survived  Pclass     Sex   Age SibSp Parch     Fare Embarked  Title\n",
       "0           0       3    male  22.0     1     0   7.2500        S     Mr\n",
       "1           1       1  female  38.0     1     0  71.2833        C    Mrs\n",
       "2           1       3  female  26.0     0     0   7.9250        S   Miss\n",
       "3           1       1  female  35.0     1     0  53.1000        S    Mrs\n",
       "4           0       3    male  35.0     0     0   8.0500        S     Mr\n",
       "..        ...     ...     ...   ...   ...   ...      ...      ...    ...\n",
       "886         0       2    male  27.0     0     0  13.0000        S  Other\n",
       "887         1       1  female  19.0     0     0  30.0000        S   Miss\n",
       "888         0       3  female   NaN     1    2+  23.4500        S   Miss\n",
       "889         1       1    male  26.0     0     0  30.0000        C     Mr\n",
       "890         0       3    male  32.0     0     0   7.7500        Q     Mr\n",
       "\n",
       "[891 rows x 9 columns]"
      ]
     },
     "execution_count": 112,
     "metadata": {},
     "output_type": "execute_result"
    }
   ],
   "source": [
    "df"
   ]
  },
  {
   "cell_type": "code",
   "execution_count": 113,
   "id": "1f04a486-411f-49ac-a101-7f278111f9bd",
   "metadata": {},
   "outputs": [
    {
     "data": {
      "text/html": [
       "<div>\n",
       "<style scoped>\n",
       "    .dataframe tbody tr th:only-of-type {\n",
       "        vertical-align: middle;\n",
       "    }\n",
       "\n",
       "    .dataframe tbody tr th {\n",
       "        vertical-align: top;\n",
       "    }\n",
       "\n",
       "    .dataframe thead th {\n",
       "        text-align: right;\n",
       "    }\n",
       "</style>\n",
       "<table border=\"1\" class=\"dataframe\">\n",
       "  <thead>\n",
       "    <tr style=\"text-align: right;\">\n",
       "      <th></th>\n",
       "      <th>Survived</th>\n",
       "      <th>Pclass</th>\n",
       "      <th>Sex</th>\n",
       "      <th>Age</th>\n",
       "      <th>SibSp</th>\n",
       "      <th>Parch</th>\n",
       "      <th>Fare</th>\n",
       "      <th>Embarked</th>\n",
       "      <th>Title</th>\n",
       "    </tr>\n",
       "  </thead>\n",
       "  <tbody>\n",
       "    <tr>\n",
       "      <th>0</th>\n",
       "      <td>0</td>\n",
       "      <td>3</td>\n",
       "      <td>male</td>\n",
       "      <td>22.0</td>\n",
       "      <td>1</td>\n",
       "      <td>0</td>\n",
       "      <td>7.2500</td>\n",
       "      <td>S</td>\n",
       "      <td>Mr</td>\n",
       "    </tr>\n",
       "    <tr>\n",
       "      <th>1</th>\n",
       "      <td>1</td>\n",
       "      <td>1</td>\n",
       "      <td>female</td>\n",
       "      <td>38.0</td>\n",
       "      <td>1</td>\n",
       "      <td>0</td>\n",
       "      <td>71.2833</td>\n",
       "      <td>C</td>\n",
       "      <td>Mrs</td>\n",
       "    </tr>\n",
       "    <tr>\n",
       "      <th>2</th>\n",
       "      <td>1</td>\n",
       "      <td>3</td>\n",
       "      <td>female</td>\n",
       "      <td>26.0</td>\n",
       "      <td>0</td>\n",
       "      <td>0</td>\n",
       "      <td>7.9250</td>\n",
       "      <td>S</td>\n",
       "      <td>Miss</td>\n",
       "    </tr>\n",
       "    <tr>\n",
       "      <th>3</th>\n",
       "      <td>1</td>\n",
       "      <td>1</td>\n",
       "      <td>female</td>\n",
       "      <td>35.0</td>\n",
       "      <td>1</td>\n",
       "      <td>0</td>\n",
       "      <td>53.1000</td>\n",
       "      <td>S</td>\n",
       "      <td>Mrs</td>\n",
       "    </tr>\n",
       "    <tr>\n",
       "      <th>4</th>\n",
       "      <td>0</td>\n",
       "      <td>3</td>\n",
       "      <td>male</td>\n",
       "      <td>35.0</td>\n",
       "      <td>0</td>\n",
       "      <td>0</td>\n",
       "      <td>8.0500</td>\n",
       "      <td>S</td>\n",
       "      <td>Mr</td>\n",
       "    </tr>\n",
       "  </tbody>\n",
       "</table>\n",
       "</div>"
      ],
      "text/plain": [
       "   Survived  Pclass     Sex   Age SibSp Parch     Fare Embarked Title\n",
       "0         0       3    male  22.0     1     0   7.2500        S    Mr\n",
       "1         1       1  female  38.0     1     0  71.2833        C   Mrs\n",
       "2         1       3  female  26.0     0     0   7.9250        S  Miss\n",
       "3         1       1  female  35.0     1     0  53.1000        S   Mrs\n",
       "4         0       3    male  35.0     0     0   8.0500        S    Mr"
      ]
     },
     "execution_count": 113,
     "metadata": {},
     "output_type": "execute_result"
    }
   ],
   "source": [
    "df.head()"
   ]
  },
  {
   "cell_type": "code",
   "execution_count": 114,
   "id": "66141fc0-711e-47f5-9062-b820c90f10a4",
   "metadata": {},
   "outputs": [],
   "source": [
    "#Podzial zbioru danych na część reningowa i testową "
   ]
  },
  {
   "cell_type": "code",
   "execution_count": 115,
   "id": "be4b6ff1-18e0-48bf-a840-ea9fe16b9c94",
   "metadata": {},
   "outputs": [],
   "source": [
    "from sklearn.model_selection import train_test_split"
   ]
  },
  {
   "cell_type": "code",
   "execution_count": 116,
   "id": "f720f62a-7be7-47e8-a45d-a91c12a0c810",
   "metadata": {},
   "outputs": [],
   "source": [
    "#tworzy zbiory testowy i treningowy argument to dane czyli df oraz rozmiar zbioru testowego 0,3 to 30%całosci danych \n",
    "#df random_state liczba linijek dzielących zbiór"
   ]
  },
  {
   "cell_type": "code",
   "execution_count": 117,
   "id": "5515fa48-1dba-45b2-b712-c34fe244bba3",
   "metadata": {},
   "outputs": [],
   "source": [
    "df_train, df_test = train_test_split(df, test_size=0.3, random_state=4)"
   ]
  },
  {
   "cell_type": "code",
   "execution_count": 118,
   "id": "f7534863-d26c-49e6-9c49-c9866b85a445",
   "metadata": {},
   "outputs": [],
   "source": [
    "#Sprawdzamy czy doszło do podziału zbioru"
   ]
  },
  {
   "cell_type": "code",
   "execution_count": 119,
   "id": "f22789f0-2131-4dff-8236-afdb2ae5d9c8",
   "metadata": {},
   "outputs": [
    {
     "data": {
      "text/plain": [
       "(891, 9)"
      ]
     },
     "execution_count": 119,
     "metadata": {},
     "output_type": "execute_result"
    }
   ],
   "source": [
    "df.shape"
   ]
  },
  {
   "cell_type": "code",
   "execution_count": 120,
   "id": "71cb0fd7-ec12-4dd7-8772-f5e3ce8d225c",
   "metadata": {},
   "outputs": [],
   "source": [
    "#ile ma zbór trenignowy"
   ]
  },
  {
   "cell_type": "code",
   "execution_count": 121,
   "id": "34a07120-7730-4d38-b80e-5c24f9675b5d",
   "metadata": {},
   "outputs": [
    {
     "data": {
      "text/plain": [
       "(623, 9)"
      ]
     },
     "execution_count": 121,
     "metadata": {},
     "output_type": "execute_result"
    }
   ],
   "source": [
    "df_train.shape"
   ]
  },
  {
   "cell_type": "code",
   "execution_count": 122,
   "id": "a7f20c59-2ee3-4859-9919-f45f7915a883",
   "metadata": {},
   "outputs": [
    {
     "data": {
      "text/plain": [
       "0.6992143658810326"
      ]
     },
     "execution_count": 122,
     "metadata": {},
     "output_type": "execute_result"
    }
   ],
   "source": [
    "623/891"
   ]
  },
  {
   "cell_type": "code",
   "execution_count": 123,
   "id": "cbdd8155-d964-438e-89ee-6a4c61ea74ea",
   "metadata": {},
   "outputs": [
    {
     "data": {
      "text/plain": [
       "(268, 9)"
      ]
     },
     "execution_count": 123,
     "metadata": {},
     "output_type": "execute_result"
    }
   ],
   "source": [
    "df_test.shape"
   ]
  },
  {
   "cell_type": "code",
   "execution_count": null,
   "id": "2c65e426-e73d-402d-8ef3-901889d6ecd0",
   "metadata": {},
   "outputs": [],
   "source": []
  },
  {
   "cell_type": "code",
   "execution_count": 124,
   "id": "02980f42-2cc3-4f15-928a-114fefb1889b",
   "metadata": {},
   "outputs": [],
   "source": [
    "#Braki danych obsługa"
   ]
  },
  {
   "cell_type": "code",
   "execution_count": 125,
   "id": "09015ab0-ce0c-4756-9a8f-12443239af7c",
   "metadata": {},
   "outputs": [
    {
     "data": {
      "text/html": [
       "<div>\n",
       "<style scoped>\n",
       "    .dataframe tbody tr th:only-of-type {\n",
       "        vertical-align: middle;\n",
       "    }\n",
       "\n",
       "    .dataframe tbody tr th {\n",
       "        vertical-align: top;\n",
       "    }\n",
       "\n",
       "    .dataframe thead th {\n",
       "        text-align: right;\n",
       "    }\n",
       "</style>\n",
       "<table border=\"1\" class=\"dataframe\">\n",
       "  <thead>\n",
       "    <tr style=\"text-align: right;\">\n",
       "      <th></th>\n",
       "      <th>Survived</th>\n",
       "      <th>Pclass</th>\n",
       "      <th>Sex</th>\n",
       "      <th>Age</th>\n",
       "      <th>SibSp</th>\n",
       "      <th>Parch</th>\n",
       "      <th>Fare</th>\n",
       "      <th>Embarked</th>\n",
       "      <th>Title</th>\n",
       "    </tr>\n",
       "  </thead>\n",
       "  <tbody>\n",
       "    <tr>\n",
       "      <th>0</th>\n",
       "      <td>0</td>\n",
       "      <td>3</td>\n",
       "      <td>male</td>\n",
       "      <td>22.0</td>\n",
       "      <td>1</td>\n",
       "      <td>0</td>\n",
       "      <td>7.2500</td>\n",
       "      <td>S</td>\n",
       "      <td>Mr</td>\n",
       "    </tr>\n",
       "    <tr>\n",
       "      <th>1</th>\n",
       "      <td>1</td>\n",
       "      <td>1</td>\n",
       "      <td>female</td>\n",
       "      <td>38.0</td>\n",
       "      <td>1</td>\n",
       "      <td>0</td>\n",
       "      <td>71.2833</td>\n",
       "      <td>C</td>\n",
       "      <td>Mrs</td>\n",
       "    </tr>\n",
       "    <tr>\n",
       "      <th>2</th>\n",
       "      <td>1</td>\n",
       "      <td>3</td>\n",
       "      <td>female</td>\n",
       "      <td>26.0</td>\n",
       "      <td>0</td>\n",
       "      <td>0</td>\n",
       "      <td>7.9250</td>\n",
       "      <td>S</td>\n",
       "      <td>Miss</td>\n",
       "    </tr>\n",
       "    <tr>\n",
       "      <th>3</th>\n",
       "      <td>1</td>\n",
       "      <td>1</td>\n",
       "      <td>female</td>\n",
       "      <td>35.0</td>\n",
       "      <td>1</td>\n",
       "      <td>0</td>\n",
       "      <td>53.1000</td>\n",
       "      <td>S</td>\n",
       "      <td>Mrs</td>\n",
       "    </tr>\n",
       "    <tr>\n",
       "      <th>4</th>\n",
       "      <td>0</td>\n",
       "      <td>3</td>\n",
       "      <td>male</td>\n",
       "      <td>35.0</td>\n",
       "      <td>0</td>\n",
       "      <td>0</td>\n",
       "      <td>8.0500</td>\n",
       "      <td>S</td>\n",
       "      <td>Mr</td>\n",
       "    </tr>\n",
       "  </tbody>\n",
       "</table>\n",
       "</div>"
      ],
      "text/plain": [
       "   Survived  Pclass     Sex   Age SibSp Parch     Fare Embarked Title\n",
       "0         0       3    male  22.0     1     0   7.2500        S    Mr\n",
       "1         1       1  female  38.0     1     0  71.2833        C   Mrs\n",
       "2         1       3  female  26.0     0     0   7.9250        S  Miss\n",
       "3         1       1  female  35.0     1     0  53.1000        S   Mrs\n",
       "4         0       3    male  35.0     0     0   8.0500        S    Mr"
      ]
     },
     "execution_count": 125,
     "metadata": {},
     "output_type": "execute_result"
    }
   ],
   "source": [
    "df.head()"
   ]
  },
  {
   "cell_type": "code",
   "execution_count": 126,
   "id": "3abbb75c-60ed-4aa3-b59c-2a0373371129",
   "metadata": {},
   "outputs": [],
   "source": [
    "#Średnia i mediana powinny być wyliczone na zbiorze treningowym te wartości moga\n",
    "#być inne na zbiorze treningowym i testowym. Danymi wyliczonymi na zbiorze treningowym uzupełniamy braki danych"
   ]
  },
  {
   "cell_type": "code",
   "execution_count": 127,
   "id": "2d0e7f5e-06a7-443b-9684-1e33cd8e237f",
   "metadata": {},
   "outputs": [
    {
     "data": {
      "text/plain": [
       "Survived      0\n",
       "Pclass        0\n",
       "Sex           0\n",
       "Age         125\n",
       "SibSp         0\n",
       "Parch         0\n",
       "Fare          0\n",
       "Embarked      2\n",
       "Title         0\n",
       "dtype: int64"
      ]
     },
     "execution_count": 127,
     "metadata": {},
     "output_type": "execute_result"
    }
   ],
   "source": [
    "#sprawdzamy braki danych i dostajemy sumę z podziałem na kategorie\n",
    "df_train.isna().sum()"
   ]
  },
  {
   "cell_type": "code",
   "execution_count": 128,
   "id": "a6bf383a-de96-45d3-ae8f-1cdeb4f4e22a",
   "metadata": {},
   "outputs": [],
   "source": [
    "#braki występują w zmiennej age oraz embarked"
   ]
  },
  {
   "cell_type": "code",
   "execution_count": 129,
   "id": "1d482850-d1f8-4cbc-b941-c58cc2e9accd",
   "metadata": {},
   "outputs": [],
   "source": [
    "#sprawdzamy zbiór testowy "
   ]
  },
  {
   "cell_type": "code",
   "execution_count": 130,
   "id": "b6681b5e-95e2-45b0-8316-91b2dbd68603",
   "metadata": {},
   "outputs": [
    {
     "data": {
      "text/plain": [
       "Survived     0\n",
       "Pclass       0\n",
       "Sex          0\n",
       "Age         52\n",
       "SibSp        0\n",
       "Parch        0\n",
       "Fare         0\n",
       "Embarked     0\n",
       "Title        0\n",
       "dtype: int64"
      ]
     },
     "execution_count": 130,
     "metadata": {},
     "output_type": "execute_result"
    }
   ],
   "source": [
    "df_test.isna().sum()"
   ]
  },
  {
   "cell_type": "code",
   "execution_count": 131,
   "id": "bc6c1bde-2300-4917-b1e5-4bf5a74785b8",
   "metadata": {},
   "outputs": [],
   "source": [
    "#52braki dla age"
   ]
  },
  {
   "cell_type": "code",
   "execution_count": 132,
   "id": "8be3f034-1b35-4b3f-9d83-4d4ed6490ecb",
   "metadata": {},
   "outputs": [],
   "source": [
    "#próbuje my się zorientowac aki to jest brak czy losowy czy nielosowy. W przypadku tych danych cięzko jest to okreslic \n",
    "#może jest to zwiazane z jakas inna zmienną..."
   ]
  },
  {
   "cell_type": "code",
   "execution_count": 133,
   "id": "2f6cfae7-7126-45b1-bbd3-afe8c80beb78",
   "metadata": {},
   "outputs": [],
   "source": [
    "#Przypisujemy osobną klase do brakujacyh obserwacji opcja nr1"
   ]
  },
  {
   "cell_type": "code",
   "execution_count": 134,
   "id": "125fca57-1a23-4bb6-ab8f-d53e4375138f",
   "metadata": {},
   "outputs": [
    {
     "data": {
      "text/plain": [
       "(623, 9)"
      ]
     },
     "execution_count": 134,
     "metadata": {},
     "output_type": "execute_result"
    }
   ],
   "source": [
    "df_train.shape"
   ]
  },
  {
   "cell_type": "code",
   "execution_count": 135,
   "id": "648d402b-5c95-4133-93ed-89941f08d144",
   "metadata": {},
   "outputs": [
    {
     "data": {
      "text/plain": [
       "0.20064205457463885"
      ]
     },
     "execution_count": 135,
     "metadata": {},
     "output_type": "execute_result"
    }
   ],
   "source": [
    "125/623 \n"
   ]
  },
  {
   "cell_type": "code",
   "execution_count": 136,
   "id": "ba0801bd-7860-427b-8811-aeecdff1661d",
   "metadata": {},
   "outputs": [],
   "source": [
    "#brakuje nam 20proc obserwacji"
   ]
  },
  {
   "cell_type": "code",
   "execution_count": 137,
   "id": "c47cb85c-5e78-48e0-ae65-e957c028b0db",
   "metadata": {},
   "outputs": [],
   "source": [
    "#Tworzymy zmienną która przypisze nam wartośc brak do brakujacych obserwacji."
   ]
  },
  {
   "cell_type": "code",
   "execution_count": 138,
   "id": "41d12698-d713-4026-98cb-7ba51262d745",
   "metadata": {},
   "outputs": [],
   "source": [
    "#może nam pomóc wyliczenie min mediany i kwartyli zmiennej która ma braki(age)"
   ]
  },
  {
   "cell_type": "code",
   "execution_count": 139,
   "id": "9d6fc834-21db-42f1-8161-33e0ee04b47c",
   "metadata": {},
   "outputs": [
    {
     "data": {
      "text/plain": [
       "count    498.000000\n",
       "mean      29.978594\n",
       "std       14.556153\n",
       "min        0.420000\n",
       "25%       21.000000\n",
       "50%       28.250000\n",
       "75%       38.750000\n",
       "max       80.000000\n",
       "Name: Age, dtype: float64"
      ]
     },
     "execution_count": 139,
     "metadata": {},
     "output_type": "execute_result"
    }
   ],
   "source": [
    "df_train['Age'].describe()"
   ]
  },
  {
   "cell_type": "code",
   "execution_count": 140,
   "id": "f7b4078c-021b-46ce-aa45-afb90d71a5d7",
   "metadata": {},
   "outputs": [],
   "source": [
    "#Jeśli nasza zmienna Age isna to brak jak zmienna age jest mniejsza równa 21 czyli pierwszy kwartyl 25% z wykresu wyzej to przypisujemy wartośc 0-21\n",
    "#jak age jest mniejsza równa 28 czyli drugi kwartyl 50% z wykresu wyzej to przypisujemy wartośc 21-28\n",
    "#jak age jest mniejsza równa 39 czyli trzeci kwartyl 75% z wykresu wyzej to przypisujemy wartośc 28-39\n",
    "#a ostatni warunek > 39 "
   ]
  },
  {
   "cell_type": "code",
   "execution_count": 141,
   "id": "4c934259-48f6-4f98-abeb-bca89505ea69",
   "metadata": {},
   "outputs": [],
   "source": [
    "df_train['Age_cat'] = np.where(df_train['Age'].isna(),'brak', np.where(df_train['Age']<=21, '0-21', np.where(df_train['Age']<= 28, '21-28',  np.where(df_train['Age']<= 39, '28-39', '>39'))))"
   ]
  },
  {
   "cell_type": "code",
   "execution_count": 142,
   "id": "505754e8-f493-440a-8a9c-919273422909",
   "metadata": {},
   "outputs": [],
   "source": [
    "#sprawdzamy jak kształtuje się utworzona zmienna"
   ]
  },
  {
   "cell_type": "code",
   "execution_count": 143,
   "id": "a952b6f1-bb12-4491-a260-59bb2fa45006",
   "metadata": {},
   "outputs": [
    {
     "data": {
      "text/plain": [
       "Age_cat\n",
       "0-21     134\n",
       "28-39    131\n",
       "brak     125\n",
       ">39      118\n",
       "21-28    115\n",
       "Name: count, dtype: int64"
      ]
     },
     "execution_count": 143,
     "metadata": {},
     "output_type": "execute_result"
    }
   ],
   "source": [
    "df_train['Age_cat'].value_counts()"
   ]
  },
  {
   "cell_type": "code",
   "execution_count": 144,
   "id": "a852466f-5a39-4e60-bb00-86349982d837",
   "metadata": {},
   "outputs": [],
   "source": [
    "#stworzyliśmy osobne kategorie zmiennej age"
   ]
  },
  {
   "cell_type": "code",
   "execution_count": 145,
   "id": "3e06d2ad-ae93-4f58-9b1d-28fc18255aeb",
   "metadata": {},
   "outputs": [],
   "source": [
    "#Wiemy że ten brak nie jest losowy"
   ]
  },
  {
   "cell_type": "code",
   "execution_count": 146,
   "id": "f3ad7152-51dd-4ca7-ab18-514504b2b0cf",
   "metadata": {},
   "outputs": [],
   "source": [
    "#Sprawdzamy czy kategorie wieku nowe rżnicują wiek osób które przeżyły katastrofę\n",
    "#liczymy średnią wieku na danych wiek survived"
   ]
  },
  {
   "cell_type": "code",
   "execution_count": 147,
   "id": "1eebe81e-af89-493e-af4d-4d336209d82e",
   "metadata": {},
   "outputs": [
    {
     "data": {
      "text/html": [
       "<div>\n",
       "<style scoped>\n",
       "    .dataframe tbody tr th:only-of-type {\n",
       "        vertical-align: middle;\n",
       "    }\n",
       "\n",
       "    .dataframe tbody tr th {\n",
       "        vertical-align: top;\n",
       "    }\n",
       "\n",
       "    .dataframe thead th {\n",
       "        text-align: right;\n",
       "    }\n",
       "</style>\n",
       "<table border=\"1\" class=\"dataframe\">\n",
       "  <thead>\n",
       "    <tr style=\"text-align: right;\">\n",
       "      <th></th>\n",
       "      <th>Survived</th>\n",
       "    </tr>\n",
       "    <tr>\n",
       "      <th>Age_cat</th>\n",
       "      <th></th>\n",
       "    </tr>\n",
       "  </thead>\n",
       "  <tbody>\n",
       "    <tr>\n",
       "      <th>0-21</th>\n",
       "      <td>0.470149</td>\n",
       "    </tr>\n",
       "    <tr>\n",
       "      <th>21-28</th>\n",
       "      <td>0.391304</td>\n",
       "    </tr>\n",
       "    <tr>\n",
       "      <th>28-39</th>\n",
       "      <td>0.450382</td>\n",
       "    </tr>\n",
       "    <tr>\n",
       "      <th>&gt;39</th>\n",
       "      <td>0.406780</td>\n",
       "    </tr>\n",
       "    <tr>\n",
       "      <th>brak</th>\n",
       "      <td>0.296000</td>\n",
       "    </tr>\n",
       "  </tbody>\n",
       "</table>\n",
       "</div>"
      ],
      "text/plain": [
       "         Survived\n",
       "Age_cat          \n",
       "0-21     0.470149\n",
       "21-28    0.391304\n",
       "28-39    0.450382\n",
       ">39      0.406780\n",
       "brak     0.296000"
      ]
     },
     "execution_count": 147,
     "metadata": {},
     "output_type": "execute_result"
    }
   ],
   "source": [
    "df_train[['Age_cat', 'Survived']].groupby(['Age_cat']).mean()"
   ]
  },
  {
   "cell_type": "code",
   "execution_count": 148,
   "id": "f06350ff-c58d-4565-9eed-0df60c41ac0b",
   "metadata": {},
   "outputs": [],
   "source": [
    "#dla kategorii wieku brak udział wieku osób,które przeżyly katastrofę jest najmniejszy"
   ]
  },
  {
   "cell_type": "code",
   "execution_count": 149,
   "id": "cbd44418-9483-49ff-83d1-a47ffd16ff0f",
   "metadata": {},
   "outputs": [],
   "source": [
    "#wynosi ok 30%"
   ]
  },
  {
   "cell_type": "code",
   "execution_count": 150,
   "id": "b8883713-4b46-44cd-924e-a177db9fdedb",
   "metadata": {},
   "outputs": [],
   "source": [
    "#To nie był brak losowy i moze nam wpłynac na analizę zmiennej celu."
   ]
  },
  {
   "cell_type": "code",
   "execution_count": 151,
   "id": "b652945a-aacd-4604-b741-3cb2e1371b3a",
   "metadata": {},
   "outputs": [],
   "source": [
    "#Tworzymy zmienną analigocznie na zbiorze testowym..df_test zamiast df_train"
   ]
  },
  {
   "cell_type": "code",
   "execution_count": 152,
   "id": "a62e2703-3d25-443b-9fda-9a0f22d82720",
   "metadata": {},
   "outputs": [],
   "source": [
    "df_test['Age_cat'] = np.where(df_test['Age'].isna(),'brak', np.where(df_test['Age']<=21, '0-21', np.where(df_test['Age']<= 28, '21-28',  np.where(df_test['Age']<= 39, '28-39', '>39'))))"
   ]
  },
  {
   "cell_type": "code",
   "execution_count": 153,
   "id": "64cad5e7-54d1-45e3-97c1-97bc61385d5e",
   "metadata": {},
   "outputs": [],
   "source": [
    "#Ukształtowanie dla zbioru testowego"
   ]
  },
  {
   "cell_type": "code",
   "execution_count": 154,
   "id": "3f23838d-4575-436f-984e-a36fbb330109",
   "metadata": {},
   "outputs": [
    {
     "data": {
      "text/plain": [
       "Age_cat\n",
       "0-21     70\n",
       "28-39    58\n",
       "brak     52\n",
       ">39      45\n",
       "21-28    43\n",
       "Name: count, dtype: int64"
      ]
     },
     "execution_count": 154,
     "metadata": {},
     "output_type": "execute_result"
    }
   ],
   "source": [
    "df_test['Age_cat'].value_counts()"
   ]
  },
  {
   "cell_type": "code",
   "execution_count": null,
   "id": "58822336-f46a-46c1-bfc9-7735d3a460cc",
   "metadata": {},
   "outputs": [],
   "source": []
  },
  {
   "cell_type": "code",
   "execution_count": null,
   "id": "cff3a6a8-81c6-4a57-9324-9c28df4d6e25",
   "metadata": {},
   "outputs": [],
   "source": []
  },
  {
   "cell_type": "code",
   "execution_count": null,
   "id": "f3a61fdb-3a2b-4466-81a4-e8d940b85f85",
   "metadata": {},
   "outputs": [],
   "source": []
  },
  {
   "cell_type": "code",
   "execution_count": 155,
   "id": "eb8b84c4-bb76-40b7-aeeb-f2aacf7811e8",
   "metadata": {},
   "outputs": [],
   "source": [
    "#Metoda alternatywna nr 2 imputacji brakujących wartości matematycznych wyliczenie sredniej bądź mediany"
   ]
  },
  {
   "cell_type": "code",
   "execution_count": 156,
   "id": "f6b51a05-503b-4344-bb4e-5b37c6614832",
   "metadata": {},
   "outputs": [],
   "source": [
    "#Metoda radzenia sobie z brakami danych mediana i średnia.\n",
    "#Sprawdza się rozkład zmiennej oraz jej skośność"
   ]
  },
  {
   "cell_type": "code",
   "execution_count": null,
   "id": "7531f145-1234-41c4-b318-8c82679f2073",
   "metadata": {},
   "outputs": [],
   "source": []
  },
  {
   "cell_type": "code",
   "execution_count": 157,
   "id": "4efafdae-d2f7-47cb-a589-ae49f013ecef",
   "metadata": {},
   "outputs": [],
   "source": [
    "#robimy histogram na danych treningowych"
   ]
  },
  {
   "cell_type": "code",
   "execution_count": 158,
   "id": "4ebbc1f8-f853-488f-a20e-7ba2029a3cc9",
   "metadata": {},
   "outputs": [],
   "source": [
    "#rozkłąd jest lekko w prawą stronę ale niezbyt"
   ]
  },
  {
   "cell_type": "code",
   "execution_count": 159,
   "id": "428135cc-fd92-4e51-a77c-3a544b3cc96b",
   "metadata": {},
   "outputs": [
    {
     "data": {
      "text/plain": [
       "<Axes: >"
      ]
     },
     "execution_count": 159,
     "metadata": {},
     "output_type": "execute_result"
    },
    {
     "data": {
      "image/png": "[encoded data removed]",
      "text/plain": [
       "<Figure size 640x480 with 1 Axes>"
      ]
     },
     "metadata": {},
     "output_type": "display_data"
    }
   ],
   "source": [
    "df_train['Age'].hist()"
   ]
  },
  {
   "cell_type": "code",
   "execution_count": 160,
   "id": "4affd3d7-b32c-4fb2-b1b1-f09b190e6ff1",
   "metadata": {},
   "outputs": [],
   "source": [
    "#sprawdzamy mairę skośności za pomcoą metody skew"
   ]
  },
  {
   "cell_type": "code",
   "execution_count": 161,
   "id": "254ef6a4-45c8-4aa9-9097-6f4c5bf5f3ff",
   "metadata": {},
   "outputs": [
    {
     "data": {
      "text/plain": [
       "0.37926641895840485"
      ]
     },
     "execution_count": 161,
     "metadata": {},
     "output_type": "execute_result"
    }
   ],
   "source": [
    "df_train['Age'].skew()"
   ]
  },
  {
   "cell_type": "code",
   "execution_count": 162,
   "id": "928b3e39-89d3-4bdf-b61a-690bcb005f5b",
   "metadata": {},
   "outputs": [],
   "source": [
    "#skośnosć do +-0.5 nie jest silna i rozkład jest w maire symetryczny. jak skosnośc większa od 0.5 to stosujemy mediane"
   ]
  },
  {
   "cell_type": "code",
   "execution_count": 163,
   "id": "7607e688-faa6-4c79-9730-6e0218b2674f",
   "metadata": {},
   "outputs": [
    {
     "data": {
      "text/plain": [
       "29.978594377510042"
      ]
     },
     "execution_count": 163,
     "metadata": {},
     "output_type": "execute_result"
    }
   ],
   "source": [
    "mean_age = df_train['Age'].mean()\n",
    "mean_age "
   ]
  },
  {
   "cell_type": "code",
   "execution_count": null,
   "id": "15b4eb0f-889e-4c05-acc3-11480716154e",
   "metadata": {},
   "outputs": [],
   "source": [
    "#Metodafillna wypelnienia brakidanych wartościa sreadnia inplace nadpisuje"
   ]
  },
  {
   "cell_type": "code",
   "execution_count": 75,
   "id": "8e3be035-a8dd-47df-b9a4-285b7fa60eb0",
   "metadata": {},
   "outputs": [],
   "source": [
    "df_train['Age'].fillna(mean_age,inplace=True)"
   ]
  },
  {
   "cell_type": "code",
   "execution_count": null,
   "id": "5443f12c-4781-43af-8c19-c7b19b0d197f",
   "metadata": {},
   "outputs": [],
   "source": []
  },
  {
   "cell_type": "code",
   "execution_count": null,
   "id": "fedf11a5-93d1-44db-b0b8-f065c366dccb",
   "metadata": {},
   "outputs": [],
   "source": [
    "#sprawdzamy czy zostały jakies braki danych"
   ]
  },
  {
   "cell_type": "code",
   "execution_count": 242,
   "id": "b55adc1d-0263-4838-aee5-a7627246d861",
   "metadata": {},
   "outputs": [
    {
     "data": {
      "text/plain": [
       "125"
      ]
     },
     "execution_count": 242,
     "metadata": {},
     "output_type": "execute_result"
    }
   ],
   "source": [
    "df_train['Age'].isna().sum()"
   ]
  },
  {
   "cell_type": "code",
   "execution_count": null,
   "id": "7f26f379-4820-4f26-b70c-65643798c215",
   "metadata": {},
   "outputs": [],
   "source": [
    "#jest zero nie ma"
   ]
  },
  {
   "cell_type": "code",
   "execution_count": null,
   "id": "01714efc-9a57-4fe5-adc3-50ef65fefc35",
   "metadata": {},
   "outputs": [],
   "source": [
    "#to samo robimy na zbiorze testowym"
   ]
  },
  {
   "cell_type": "code",
   "execution_count": 79,
   "id": "8efff7b0-b896-4730-848a-d48b5b2e2ba3",
   "metadata": {},
   "outputs": [
    {
     "name": "stderr",
     "output_type": "stream",
     "text": [
      "C:\\Users\\arcis\\AppData\\Local\\Temp\\ipykernel_23556\\943613364.py:1: FutureWarning: A value is trying to be set on a copy of a DataFrame or Series through chained assignment using an inplace method.\n",
      "The behavior will change in pandas 3.0. This inplace method will never work because the intermediate object on which we are setting values always behaves as a copy.\n",
      "\n",
      "For example, when doing 'df[col].method(value, inplace=True)', try using 'df.method({col: value}, inplace=True)' or df[col] = df[col].method(value) instead, to perform the operation inplace on the original object.\n",
      "\n",
      "\n",
      "  df_test['Age'].fillna(mean_age, inplace=True)\n"
     ]
    }
   ],
   "source": [
    "df_test['Age'].fillna(mean_age, inplace=True)"
   ]
  },
  {
   "cell_type": "code",
   "execution_count": 165,
   "id": "783849d6-9e21-4408-b31a-38eb693913f6",
   "metadata": {},
   "outputs": [
    {
     "data": {
      "text/plain": [
       "52"
      ]
     },
     "execution_count": 165,
     "metadata": {},
     "output_type": "execute_result"
    }
   ],
   "source": [
    "df_test['Age'].isna().sum()"
   ]
  },
  {
   "cell_type": "code",
   "execution_count": null,
   "id": "797f6c9a-fd4d-474b-a8ce-021be4de1896",
   "metadata": {},
   "outputs": [],
   "source": [
    "#tu tez już w zbiorze testowym nei ma braków danych"
   ]
  },
  {
   "cell_type": "code",
   "execution_count": null,
   "id": "3b3b8774-0b3f-4f1f-b880-d40bc063a9a9",
   "metadata": {},
   "outputs": [],
   "source": [
    "# metoda inna Uzupelnienia braków danych średnia mediana w grupach bardziej dokąłdne niż średnia czy mediana"
   ]
  },
  {
   "cell_type": "code",
   "execution_count": null,
   "id": "51e4ff2d-d09d-4eef-aa79-f4118b242bc2",
   "metadata": {},
   "outputs": [],
   "source": [
    "#jeszcze raz puszczamy kod ale bez tej linii cyli\n",
    "#run i selevcted and above bez fillna() df_train['Age'].fillna(mean_age,inplace=True)"
   ]
  },
  {
   "cell_type": "code",
   "execution_count": null,
   "id": "2286a8e4-c41e-4973-b687-6dfb09a20a9c",
   "metadata": {},
   "outputs": [],
   "source": [
    "#sprawdzamy jak wygladają dane"
   ]
  },
  {
   "cell_type": "code",
   "execution_count": 167,
   "id": "14c454d6-df85-4671-9793-e605767364a9",
   "metadata": {},
   "outputs": [
    {
     "data": {
      "text/html": [
       "<div>\n",
       "<style scoped>\n",
       "    .dataframe tbody tr th:only-of-type {\n",
       "        vertical-align: middle;\n",
       "    }\n",
       "\n",
       "    .dataframe tbody tr th {\n",
       "        vertical-align: top;\n",
       "    }\n",
       "\n",
       "    .dataframe thead th {\n",
       "        text-align: right;\n",
       "    }\n",
       "</style>\n",
       "<table border=\"1\" class=\"dataframe\">\n",
       "  <thead>\n",
       "    <tr style=\"text-align: right;\">\n",
       "      <th></th>\n",
       "      <th>Survived</th>\n",
       "      <th>Pclass</th>\n",
       "      <th>Sex</th>\n",
       "      <th>Age</th>\n",
       "      <th>SibSp</th>\n",
       "      <th>Parch</th>\n",
       "      <th>Fare</th>\n",
       "      <th>Embarked</th>\n",
       "      <th>Title</th>\n",
       "      <th>Age_cat</th>\n",
       "    </tr>\n",
       "  </thead>\n",
       "  <tbody>\n",
       "    <tr>\n",
       "      <th>537</th>\n",
       "      <td>1</td>\n",
       "      <td>1</td>\n",
       "      <td>female</td>\n",
       "      <td>30.0</td>\n",
       "      <td>0</td>\n",
       "      <td>0</td>\n",
       "      <td>106.425</td>\n",
       "      <td>C</td>\n",
       "      <td>Miss</td>\n",
       "      <td>28-39</td>\n",
       "    </tr>\n",
       "    <tr>\n",
       "      <th>401</th>\n",
       "      <td>0</td>\n",
       "      <td>3</td>\n",
       "      <td>male</td>\n",
       "      <td>26.0</td>\n",
       "      <td>0</td>\n",
       "      <td>0</td>\n",
       "      <td>8.050</td>\n",
       "      <td>S</td>\n",
       "      <td>Mr</td>\n",
       "      <td>21-28</td>\n",
       "    </tr>\n",
       "    <tr>\n",
       "      <th>554</th>\n",
       "      <td>1</td>\n",
       "      <td>3</td>\n",
       "      <td>female</td>\n",
       "      <td>22.0</td>\n",
       "      <td>0</td>\n",
       "      <td>0</td>\n",
       "      <td>7.775</td>\n",
       "      <td>S</td>\n",
       "      <td>Miss</td>\n",
       "      <td>21-28</td>\n",
       "    </tr>\n",
       "    <tr>\n",
       "      <th>213</th>\n",
       "      <td>0</td>\n",
       "      <td>2</td>\n",
       "      <td>male</td>\n",
       "      <td>30.0</td>\n",
       "      <td>0</td>\n",
       "      <td>0</td>\n",
       "      <td>13.000</td>\n",
       "      <td>S</td>\n",
       "      <td>Mr</td>\n",
       "      <td>28-39</td>\n",
       "    </tr>\n",
       "    <tr>\n",
       "      <th>434</th>\n",
       "      <td>0</td>\n",
       "      <td>1</td>\n",
       "      <td>male</td>\n",
       "      <td>50.0</td>\n",
       "      <td>1</td>\n",
       "      <td>0</td>\n",
       "      <td>55.900</td>\n",
       "      <td>S</td>\n",
       "      <td>Mr</td>\n",
       "      <td>&gt;39</td>\n",
       "    </tr>\n",
       "  </tbody>\n",
       "</table>\n",
       "</div>"
      ],
      "text/plain": [
       "     Survived  Pclass     Sex   Age SibSp Parch     Fare Embarked Title  \\\n",
       "537         1       1  female  30.0     0     0  106.425        C  Miss   \n",
       "401         0       3    male  26.0     0     0    8.050        S    Mr   \n",
       "554         1       3  female  22.0     0     0    7.775        S  Miss   \n",
       "213         0       2    male  30.0     0     0   13.000        S    Mr   \n",
       "434         0       1    male  50.0     1     0   55.900        S    Mr   \n",
       "\n",
       "    Age_cat  \n",
       "537   28-39  \n",
       "401   21-28  \n",
       "554   21-28  \n",
       "213   28-39  \n",
       "434     >39  "
      ]
     },
     "execution_count": 167,
     "metadata": {},
     "output_type": "execute_result"
    }
   ],
   "source": [
    "df_train.head()"
   ]
  },
  {
   "cell_type": "code",
   "execution_count": null,
   "id": "34d681b0-ea98-466b-b39b-fe0de35698e6",
   "metadata": {},
   "outputs": [],
   "source": [
    "#ile jest brakow"
   ]
  },
  {
   "cell_type": "code",
   "execution_count": 171,
   "id": "d82a3124-d991-40fb-8da3-d0dedb6848dc",
   "metadata": {},
   "outputs": [
    {
     "data": {
      "text/plain": [
       "125"
      ]
     },
     "execution_count": 171,
     "metadata": {},
     "output_type": "execute_result"
    }
   ],
   "source": [
    "df_train['Age'].isna().sum()"
   ]
  },
  {
   "cell_type": "code",
   "execution_count": null,
   "id": "0597ee43-015a-4b40-b91c-e2b97b8e37ab",
   "metadata": {},
   "outputs": [],
   "source": [
    "#wexmiemy zmienna Pclass"
   ]
  },
  {
   "cell_type": "code",
   "execution_count": null,
   "id": "2c998e73-8018-4f2c-81b9-f277472e274a",
   "metadata": {},
   "outputs": [],
   "source": []
  },
  {
   "cell_type": "code",
   "execution_count": 174,
   "id": "03defba6-95c0-4f3f-ab6d-492120e4d1e6",
   "metadata": {},
   "outputs": [
    {
     "data": {
      "text/html": [
       "<div>\n",
       "<style scoped>\n",
       "    .dataframe tbody tr th:only-of-type {\n",
       "        vertical-align: middle;\n",
       "    }\n",
       "\n",
       "    .dataframe tbody tr th {\n",
       "        vertical-align: top;\n",
       "    }\n",
       "\n",
       "    .dataframe thead th {\n",
       "        text-align: right;\n",
       "    }\n",
       "</style>\n",
       "<table border=\"1\" class=\"dataframe\">\n",
       "  <thead>\n",
       "    <tr style=\"text-align: right;\">\n",
       "      <th></th>\n",
       "      <th>Age</th>\n",
       "    </tr>\n",
       "    <tr>\n",
       "      <th>Pclass</th>\n",
       "      <th></th>\n",
       "    </tr>\n",
       "  </thead>\n",
       "  <tbody>\n",
       "    <tr>\n",
       "      <th>1</th>\n",
       "      <td>37.995704</td>\n",
       "    </tr>\n",
       "    <tr>\n",
       "      <th>2</th>\n",
       "      <td>30.758621</td>\n",
       "    </tr>\n",
       "    <tr>\n",
       "      <th>3</th>\n",
       "      <td>25.230445</td>\n",
       "    </tr>\n",
       "  </tbody>\n",
       "</table>\n",
       "</div>"
      ],
      "text/plain": [
       "              Age\n",
       "Pclass           \n",
       "1       37.995704\n",
       "2       30.758621\n",
       "3       25.230445"
      ]
     },
     "execution_count": 174,
     "metadata": {},
     "output_type": "execute_result"
    }
   ],
   "source": [
    "df_train[['Pclass','Age']].groupby(['Pclass']).mean()"
   ]
  },
  {
   "cell_type": "code",
   "execution_count": null,
   "id": "cca717da-d7d5-477b-8d84-25af507a1f8c",
   "metadata": {},
   "outputs": [],
   "source": [
    "#im wyższa klasa tym średniw iek wyższy"
   ]
  },
  {
   "cell_type": "code",
   "execution_count": null,
   "id": "dc6b2322-7878-4b66-93d9-d754afef3e32",
   "metadata": {},
   "outputs": [],
   "source": [
    "#importuje wartosć więku w zaleznosci od klasy kabiny miał pasazer"
   ]
  },
  {
   "cell_type": "code",
   "execution_count": null,
   "id": "6242e7ef-9e53-421e-a07e-ffccb8db0e05",
   "metadata": {},
   "outputs": [],
   "source": [
    "#wykorzystuje funkcje where jesli df trainnie jest brakiem danych tak się to oznacza ~df_train['Age']) to przypisze wartosc Age\n",
    "#w przeciwnym razie przypiszemy wartośc"
   ]
  },
  {
   "cell_type": "code",
   "execution_count": 183,
   "id": "d83e1add-a6e1-40df-9bfb-b272ba8d6d17",
   "metadata": {},
   "outputs": [
    {
     "ename": "TypeError",
     "evalue": "ufunc 'invert' not supported for the input types, and the inputs could not be safely coerced to any supported types according to the casting rule ''safe''",
     "output_type": "error",
     "traceback": [
      "\u001b[1;31m---------------------------------------------------------------------------\u001b[0m",
      "\u001b[1;31mTypeError\u001b[0m                                 Traceback (most recent call last)",
      "Cell \u001b[1;32mIn[183], line 1\u001b[0m\n\u001b[1;32m----> 1\u001b[0m df_train[\u001b[38;5;124m'\u001b[39m\u001b[38;5;124mAge\u001b[39m\u001b[38;5;124m'\u001b[39m] \u001b[38;5;241m=\u001b[39m np\u001b[38;5;241m.\u001b[39mwhere(\u001b[38;5;241;43m~\u001b[39;49m\u001b[43mdf_train\u001b[49m\u001b[43m[\u001b[49m\u001b[38;5;124;43m'\u001b[39;49m\u001b[38;5;124;43mAge\u001b[39;49m\u001b[38;5;124;43m'\u001b[39;49m\u001b[43m]\u001b[49m)\u001b[38;5;241m.\u001b[39misna(), df_train[\u001b[38;5;124m'\u001b[39m\u001b[38;5;124mAge\u001b[39m\u001b[38;5;124m'\u001b[39m], np\u001b[38;5;241m.\u001b[39mwhere(df_train[\u001b[38;5;124m'\u001b[39m\u001b[38;5;124mPclass\u001b[39m\u001b[38;5;124m'\u001b[39m]\u001b[38;5;241m==\u001b[39m\u001b[38;5;241m1\u001b[39m, \u001b[38;5;241m37.995704\u001b[39m, np\u001b[38;5;241m.\u001b[39mwhere(df_train[\u001b[38;5;124m'\u001b[39m\u001b[38;5;124mPclass\u001b[39m\u001b[38;5;124m'\u001b[39m]\u001b[38;5;241m==\u001b[39m\u001b[38;5;241m2\u001b[39m, \u001b[38;5;241m30.758621\u001b[39m, np\u001b[38;5;241m.\u001b[39mwhere(df_train[\u001b[38;5;124m'\u001b[39m\u001b[38;5;124mPclass\u001b[39m\u001b[38;5;124m'\u001b[39m]\u001b[38;5;241m==\u001b[39m\u001b[38;5;241m3\u001b[39m, \u001b[38;5;241m25.230445\u001b[39m )))\n",
      "File \u001b[1;32m~\\AppData\\Roaming\\Python\\Python311\\site-packages\\pandas\\core\\generic.py:1571\u001b[0m, in \u001b[0;36mNDFrame.__invert__\u001b[1;34m(self)\u001b[0m\n\u001b[0;32m   1567\u001b[0m \u001b[38;5;28;01mif\u001b[39;00m \u001b[38;5;129;01mnot\u001b[39;00m \u001b[38;5;28mself\u001b[39m\u001b[38;5;241m.\u001b[39msize:\n\u001b[0;32m   1568\u001b[0m     \u001b[38;5;66;03m# inv fails with 0 len\u001b[39;00m\n\u001b[0;32m   1569\u001b[0m     \u001b[38;5;28;01mreturn\u001b[39;00m \u001b[38;5;28mself\u001b[39m\u001b[38;5;241m.\u001b[39mcopy(deep\u001b[38;5;241m=\u001b[39m\u001b[38;5;28;01mFalse\u001b[39;00m)\n\u001b[1;32m-> 1571\u001b[0m new_data \u001b[38;5;241m=\u001b[39m \u001b[38;5;28;43mself\u001b[39;49m\u001b[38;5;241;43m.\u001b[39;49m\u001b[43m_mgr\u001b[49m\u001b[38;5;241;43m.\u001b[39;49m\u001b[43mapply\u001b[49m\u001b[43m(\u001b[49m\u001b[43moperator\u001b[49m\u001b[38;5;241;43m.\u001b[39;49m\u001b[43minvert\u001b[49m\u001b[43m)\u001b[49m\n\u001b[0;32m   1572\u001b[0m res \u001b[38;5;241m=\u001b[39m \u001b[38;5;28mself\u001b[39m\u001b[38;5;241m.\u001b[39m_constructor_from_mgr(new_data, axes\u001b[38;5;241m=\u001b[39mnew_data\u001b[38;5;241m.\u001b[39maxes)\n\u001b[0;32m   1573\u001b[0m \u001b[38;5;28;01mreturn\u001b[39;00m res\u001b[38;5;241m.\u001b[39m__finalize__(\u001b[38;5;28mself\u001b[39m, method\u001b[38;5;241m=\u001b[39m\u001b[38;5;124m\"\u001b[39m\u001b[38;5;124m__invert__\u001b[39m\u001b[38;5;124m\"\u001b[39m)\n",
      "File \u001b[1;32m~\\AppData\\Roaming\\Python\\Python311\\site-packages\\pandas\\core\\internals\\managers.py:361\u001b[0m, in \u001b[0;36mBaseBlockManager.apply\u001b[1;34m(self, f, align_keys, **kwargs)\u001b[0m\n\u001b[0;32m    358\u001b[0m             kwargs[k] \u001b[38;5;241m=\u001b[39m obj[b\u001b[38;5;241m.\u001b[39mmgr_locs\u001b[38;5;241m.\u001b[39mindexer]\n\u001b[0;32m    360\u001b[0m \u001b[38;5;28;01mif\u001b[39;00m \u001b[38;5;28mcallable\u001b[39m(f):\n\u001b[1;32m--> 361\u001b[0m     applied \u001b[38;5;241m=\u001b[39m \u001b[43mb\u001b[49m\u001b[38;5;241;43m.\u001b[39;49m\u001b[43mapply\u001b[49m\u001b[43m(\u001b[49m\u001b[43mf\u001b[49m\u001b[43m,\u001b[49m\u001b[43m \u001b[49m\u001b[38;5;241;43m*\u001b[39;49m\u001b[38;5;241;43m*\u001b[39;49m\u001b[43mkwargs\u001b[49m\u001b[43m)\u001b[49m\n\u001b[0;32m    362\u001b[0m \u001b[38;5;28;01melse\u001b[39;00m:\n\u001b[0;32m    363\u001b[0m     applied \u001b[38;5;241m=\u001b[39m \u001b[38;5;28mgetattr\u001b[39m(b, f)(\u001b[38;5;241m*\u001b[39m\u001b[38;5;241m*\u001b[39mkwargs)\n",
      "File \u001b[1;32m~\\AppData\\Roaming\\Python\\Python311\\site-packages\\pandas\\core\\internals\\blocks.py:393\u001b[0m, in \u001b[0;36mBlock.apply\u001b[1;34m(self, func, **kwargs)\u001b[0m\n\u001b[0;32m    387\u001b[0m \u001b[38;5;129m@final\u001b[39m\n\u001b[0;32m    388\u001b[0m \u001b[38;5;28;01mdef\u001b[39;00m \u001b[38;5;21mapply\u001b[39m(\u001b[38;5;28mself\u001b[39m, func, \u001b[38;5;241m*\u001b[39m\u001b[38;5;241m*\u001b[39mkwargs) \u001b[38;5;241m-\u001b[39m\u001b[38;5;241m>\u001b[39m \u001b[38;5;28mlist\u001b[39m[Block]:\n\u001b[0;32m    389\u001b[0m \u001b[38;5;250m    \u001b[39m\u001b[38;5;124;03m\"\"\"\u001b[39;00m\n\u001b[0;32m    390\u001b[0m \u001b[38;5;124;03m    apply the function to my values; return a block if we are not\u001b[39;00m\n\u001b[0;32m    391\u001b[0m \u001b[38;5;124;03m    one\u001b[39;00m\n\u001b[0;32m    392\u001b[0m \u001b[38;5;124;03m    \"\"\"\u001b[39;00m\n\u001b[1;32m--> 393\u001b[0m     result \u001b[38;5;241m=\u001b[39m \u001b[43mfunc\u001b[49m\u001b[43m(\u001b[49m\u001b[38;5;28;43mself\u001b[39;49m\u001b[38;5;241;43m.\u001b[39;49m\u001b[43mvalues\u001b[49m\u001b[43m,\u001b[49m\u001b[43m \u001b[49m\u001b[38;5;241;43m*\u001b[39;49m\u001b[38;5;241;43m*\u001b[39;49m\u001b[43mkwargs\u001b[49m\u001b[43m)\u001b[49m\n\u001b[0;32m    395\u001b[0m     result \u001b[38;5;241m=\u001b[39m maybe_coerce_values(result)\n\u001b[0;32m    396\u001b[0m     \u001b[38;5;28;01mreturn\u001b[39;00m \u001b[38;5;28mself\u001b[39m\u001b[38;5;241m.\u001b[39m_split_op_result(result)\n",
      "\u001b[1;31mTypeError\u001b[0m: ufunc 'invert' not supported for the input types, and the inputs could not be safely coerced to any supported types according to the casting rule ''safe''"
     ]
    }
   ],
   "source": [
    "df_train['Age'] = np.where(~df_train['Age']).isna(), df_train['Age'], np.where(df_train['Pclass']==1, 37.995704, np.where(df_train['Pclass']==2, 30.758621, np.where(df_train['Pclass']==3, 25.230445 )))"
   ]
  },
  {
   "cell_type": "code",
   "execution_count": 184,
   "id": "767d7782-5a29-403c-9239-68533cc9b0f2",
   "metadata": {},
   "outputs": [
    {
     "ename": "TypeError",
     "evalue": "ufunc 'invert' not supported for the input types, and the inputs could not be safely coerced to any supported types according to the casting rule ''safe''",
     "output_type": "error",
     "traceback": [
      "\u001b[1;31m---------------------------------------------------------------------------\u001b[0m",
      "\u001b[1;31mTypeError\u001b[0m                                 Traceback (most recent call last)",
      "Cell \u001b[1;32mIn[184], line 1\u001b[0m\n\u001b[1;32m----> 1\u001b[0m df_test[\u001b[38;5;124m'\u001b[39m\u001b[38;5;124mAge\u001b[39m\u001b[38;5;124m'\u001b[39m] \u001b[38;5;241m=\u001b[39m np\u001b[38;5;241m.\u001b[39mwhere(\u001b[38;5;241;43m~\u001b[39;49m\u001b[43mdf_test\u001b[49m\u001b[43m[\u001b[49m\u001b[38;5;124;43m'\u001b[39;49m\u001b[38;5;124;43mAge\u001b[39;49m\u001b[38;5;124;43m'\u001b[39;49m\u001b[43m]\u001b[49m)\u001b[38;5;241m.\u001b[39misna(), df_test[\u001b[38;5;124m'\u001b[39m\u001b[38;5;124mAge\u001b[39m\u001b[38;5;124m'\u001b[39m], np\u001b[38;5;241m.\u001b[39mwhere(df_test[\u001b[38;5;124m'\u001b[39m\u001b[38;5;124mPclass\u001b[39m\u001b[38;5;124m'\u001b[39m]\u001b[38;5;241m==\u001b[39m\u001b[38;5;241m1\u001b[39m, \u001b[38;5;241m37.995704\u001b[39m, np\u001b[38;5;241m.\u001b[39mwhere(df_test[\u001b[38;5;124m'\u001b[39m\u001b[38;5;124mPclass\u001b[39m\u001b[38;5;124m'\u001b[39m]\u001b[38;5;241m==\u001b[39m\u001b[38;5;241m2\u001b[39m, \u001b[38;5;241m30.758621\u001b[39m, np\u001b[38;5;241m.\u001b[39mwhere(df_test[\u001b[38;5;124m'\u001b[39m\u001b[38;5;124mPclass\u001b[39m\u001b[38;5;124m'\u001b[39m]\u001b[38;5;241m==\u001b[39m\u001b[38;5;241m3\u001b[39m, \u001b[38;5;241m25.230445\u001b[39m )))\n",
      "File \u001b[1;32m~\\AppData\\Roaming\\Python\\Python311\\site-packages\\pandas\\core\\generic.py:1571\u001b[0m, in \u001b[0;36mNDFrame.__invert__\u001b[1;34m(self)\u001b[0m\n\u001b[0;32m   1567\u001b[0m \u001b[38;5;28;01mif\u001b[39;00m \u001b[38;5;129;01mnot\u001b[39;00m \u001b[38;5;28mself\u001b[39m\u001b[38;5;241m.\u001b[39msize:\n\u001b[0;32m   1568\u001b[0m     \u001b[38;5;66;03m# inv fails with 0 len\u001b[39;00m\n\u001b[0;32m   1569\u001b[0m     \u001b[38;5;28;01mreturn\u001b[39;00m \u001b[38;5;28mself\u001b[39m\u001b[38;5;241m.\u001b[39mcopy(deep\u001b[38;5;241m=\u001b[39m\u001b[38;5;28;01mFalse\u001b[39;00m)\n\u001b[1;32m-> 1571\u001b[0m new_data \u001b[38;5;241m=\u001b[39m \u001b[38;5;28;43mself\u001b[39;49m\u001b[38;5;241;43m.\u001b[39;49m\u001b[43m_mgr\u001b[49m\u001b[38;5;241;43m.\u001b[39;49m\u001b[43mapply\u001b[49m\u001b[43m(\u001b[49m\u001b[43moperator\u001b[49m\u001b[38;5;241;43m.\u001b[39;49m\u001b[43minvert\u001b[49m\u001b[43m)\u001b[49m\n\u001b[0;32m   1572\u001b[0m res \u001b[38;5;241m=\u001b[39m \u001b[38;5;28mself\u001b[39m\u001b[38;5;241m.\u001b[39m_constructor_from_mgr(new_data, axes\u001b[38;5;241m=\u001b[39mnew_data\u001b[38;5;241m.\u001b[39maxes)\n\u001b[0;32m   1573\u001b[0m \u001b[38;5;28;01mreturn\u001b[39;00m res\u001b[38;5;241m.\u001b[39m__finalize__(\u001b[38;5;28mself\u001b[39m, method\u001b[38;5;241m=\u001b[39m\u001b[38;5;124m\"\u001b[39m\u001b[38;5;124m__invert__\u001b[39m\u001b[38;5;124m\"\u001b[39m)\n",
      "File \u001b[1;32m~\\AppData\\Roaming\\Python\\Python311\\site-packages\\pandas\\core\\internals\\managers.py:361\u001b[0m, in \u001b[0;36mBaseBlockManager.apply\u001b[1;34m(self, f, align_keys, **kwargs)\u001b[0m\n\u001b[0;32m    358\u001b[0m             kwargs[k] \u001b[38;5;241m=\u001b[39m obj[b\u001b[38;5;241m.\u001b[39mmgr_locs\u001b[38;5;241m.\u001b[39mindexer]\n\u001b[0;32m    360\u001b[0m \u001b[38;5;28;01mif\u001b[39;00m \u001b[38;5;28mcallable\u001b[39m(f):\n\u001b[1;32m--> 361\u001b[0m     applied \u001b[38;5;241m=\u001b[39m \u001b[43mb\u001b[49m\u001b[38;5;241;43m.\u001b[39;49m\u001b[43mapply\u001b[49m\u001b[43m(\u001b[49m\u001b[43mf\u001b[49m\u001b[43m,\u001b[49m\u001b[43m \u001b[49m\u001b[38;5;241;43m*\u001b[39;49m\u001b[38;5;241;43m*\u001b[39;49m\u001b[43mkwargs\u001b[49m\u001b[43m)\u001b[49m\n\u001b[0;32m    362\u001b[0m \u001b[38;5;28;01melse\u001b[39;00m:\n\u001b[0;32m    363\u001b[0m     applied \u001b[38;5;241m=\u001b[39m \u001b[38;5;28mgetattr\u001b[39m(b, f)(\u001b[38;5;241m*\u001b[39m\u001b[38;5;241m*\u001b[39mkwargs)\n",
      "File \u001b[1;32m~\\AppData\\Roaming\\Python\\Python311\\site-packages\\pandas\\core\\internals\\blocks.py:393\u001b[0m, in \u001b[0;36mBlock.apply\u001b[1;34m(self, func, **kwargs)\u001b[0m\n\u001b[0;32m    387\u001b[0m \u001b[38;5;129m@final\u001b[39m\n\u001b[0;32m    388\u001b[0m \u001b[38;5;28;01mdef\u001b[39;00m \u001b[38;5;21mapply\u001b[39m(\u001b[38;5;28mself\u001b[39m, func, \u001b[38;5;241m*\u001b[39m\u001b[38;5;241m*\u001b[39mkwargs) \u001b[38;5;241m-\u001b[39m\u001b[38;5;241m>\u001b[39m \u001b[38;5;28mlist\u001b[39m[Block]:\n\u001b[0;32m    389\u001b[0m \u001b[38;5;250m    \u001b[39m\u001b[38;5;124;03m\"\"\"\u001b[39;00m\n\u001b[0;32m    390\u001b[0m \u001b[38;5;124;03m    apply the function to my values; return a block if we are not\u001b[39;00m\n\u001b[0;32m    391\u001b[0m \u001b[38;5;124;03m    one\u001b[39;00m\n\u001b[0;32m    392\u001b[0m \u001b[38;5;124;03m    \"\"\"\u001b[39;00m\n\u001b[1;32m--> 393\u001b[0m     result \u001b[38;5;241m=\u001b[39m \u001b[43mfunc\u001b[49m\u001b[43m(\u001b[49m\u001b[38;5;28;43mself\u001b[39;49m\u001b[38;5;241;43m.\u001b[39;49m\u001b[43mvalues\u001b[49m\u001b[43m,\u001b[49m\u001b[43m \u001b[49m\u001b[38;5;241;43m*\u001b[39;49m\u001b[38;5;241;43m*\u001b[39;49m\u001b[43mkwargs\u001b[49m\u001b[43m)\u001b[49m\n\u001b[0;32m    395\u001b[0m     result \u001b[38;5;241m=\u001b[39m maybe_coerce_values(result)\n\u001b[0;32m    396\u001b[0m     \u001b[38;5;28;01mreturn\u001b[39;00m \u001b[38;5;28mself\u001b[39m\u001b[38;5;241m.\u001b[39m_split_op_result(result)\n",
      "\u001b[1;31mTypeError\u001b[0m: ufunc 'invert' not supported for the input types, and the inputs could not be safely coerced to any supported types according to the casting rule ''safe''"
     ]
    }
   ],
   "source": [
    "df_test['Age'] = np.where(~df_test['Age']).isna(), df_test['Age'], np.where(df_test['Pclass']==1, 37.995704, np.where(df_test['Pclass']==2, 30.758621, np.where(df_test['Pclass']==3, 25.230445 )))"
   ]
  },
  {
   "cell_type": "code",
   "execution_count": null,
   "id": "69f28fc6-fa70-499d-a92e-89f3107f587f",
   "metadata": {},
   "outputs": [],
   "source": [
    "#Dokaldneijsa metoda niż imputowanie za pomca całego zbioru..."
   ]
  },
  {
   "cell_type": "code",
   "execution_count": null,
   "id": "53302c72-f9d9-43e7-abd7-d33462f92609",
   "metadata": {},
   "outputs": [],
   "source": [
    "#1 nie pasuje tutaj coś"
   ]
  },
  {
   "cell_type": "code",
   "execution_count": 185,
   "id": "c2dfa8c1-364d-4931-9016-84547db26eec",
   "metadata": {},
   "outputs": [],
   "source": [
    "df_test['Age'] = np.where(\n",
    "    df_test['Age'].isna(),  # Sprawdzenie brakujących wartości w 'Age'\n",
    "    np.where(\n",
    "        df_test['Pclass'] == 1, 37.995704,\n",
    "        np.where(\n",
    "            df_test['Pclass'] == 2, 30.758621,\n",
    "            np.where(df_test['Pclass'] == 3, 25.230445, np.nan)\n",
    "        )\n",
    "    ),\n",
    "    df_test['Age']  # Zachowaj oryginalną wartość, jeśli nie jest NaN\n",
    ")"
   ]
  },
  {
   "cell_type": "code",
   "execution_count": 186,
   "id": "73f3f620-4ef3-4122-97bb-62ec01e3c4eb",
   "metadata": {},
   "outputs": [
    {
     "data": {
      "text/plain": [
       "0"
      ]
     },
     "execution_count": 186,
     "metadata": {},
     "output_type": "execute_result"
    }
   ],
   "source": [
    "df_test['Age'].isna().sum()"
   ]
  },
  {
   "cell_type": "code",
   "execution_count": 187,
   "id": "6a771188-fd7f-41e4-8d32-47fc40f9274f",
   "metadata": {},
   "outputs": [],
   "source": [
    "df_train['Age'] = np.where(\n",
    "    df_train['Age'].isna(),  # Sprawdzanie, czy wartość w kolumnie 'Age' jest NaN\n",
    "    np.where(\n",
    "        df_train['Pclass'] == 1, 37.995704,\n",
    "        np.where(\n",
    "            df_train['Pclass'] == 2, 30.758621,\n",
    "            np.where(df_train['Pclass'] == 3, 25.230445, np.nan)  # Wartość domyślna, jeśli Pclass nie jest 1, 2 ani 3\n",
    "        )\n",
    "    ),\n",
    "    df_train['Age']  # Jeśli wartość w 'Age' nie jest NaN, pozostaje bez zmian\n",
    ")\n",
    "\n",
    "\n"
   ]
  },
  {
   "cell_type": "code",
   "execution_count": 188,
   "id": "83b816a4-ff7c-44a1-97b7-5075e146391d",
   "metadata": {},
   "outputs": [
    {
     "data": {
      "text/plain": [
       "0"
      ]
     },
     "execution_count": 188,
     "metadata": {},
     "output_type": "execute_result"
    }
   ],
   "source": [
    "df_train['Age'].isna().sum()"
   ]
  },
  {
   "cell_type": "code",
   "execution_count": null,
   "id": "f2f9c20e-ee7c-4095-85ca-dd98bc6107ca",
   "metadata": {},
   "outputs": [],
   "source": [
    "#usuwamy zmienną age ze zbiorut renignowego it estowego\n"
   ]
  },
  {
   "cell_type": "code",
   "execution_count": 189,
   "id": "1b554f97-4431-4250-9f80-bf9aa84c6bb6",
   "metadata": {},
   "outputs": [],
   "source": [
    "df_train.drop('Age', axis=1,inplace=True)"
   ]
  },
  {
   "cell_type": "code",
   "execution_count": 190,
   "id": "ff651c33-900c-4e78-9e0e-dc8edab0fe5f",
   "metadata": {},
   "outputs": [],
   "source": [
    "df_test.drop('Age', axis=1,inplace=True)"
   ]
  },
  {
   "cell_type": "code",
   "execution_count": 191,
   "id": "0db71982-1e0b-4a69-aed6-f9968a53df77",
   "metadata": {},
   "outputs": [
    {
     "data": {
      "text/html": [
       "<div>\n",
       "<style scoped>\n",
       "    .dataframe tbody tr th:only-of-type {\n",
       "        vertical-align: middle;\n",
       "    }\n",
       "\n",
       "    .dataframe tbody tr th {\n",
       "        vertical-align: top;\n",
       "    }\n",
       "\n",
       "    .dataframe thead th {\n",
       "        text-align: right;\n",
       "    }\n",
       "</style>\n",
       "<table border=\"1\" class=\"dataframe\">\n",
       "  <thead>\n",
       "    <tr style=\"text-align: right;\">\n",
       "      <th></th>\n",
       "      <th>Survived</th>\n",
       "      <th>Pclass</th>\n",
       "      <th>Sex</th>\n",
       "      <th>SibSp</th>\n",
       "      <th>Parch</th>\n",
       "      <th>Fare</th>\n",
       "      <th>Embarked</th>\n",
       "      <th>Title</th>\n",
       "      <th>Age_cat</th>\n",
       "    </tr>\n",
       "  </thead>\n",
       "  <tbody>\n",
       "    <tr>\n",
       "      <th>537</th>\n",
       "      <td>1</td>\n",
       "      <td>1</td>\n",
       "      <td>female</td>\n",
       "      <td>0</td>\n",
       "      <td>0</td>\n",
       "      <td>106.425</td>\n",
       "      <td>C</td>\n",
       "      <td>Miss</td>\n",
       "      <td>28-39</td>\n",
       "    </tr>\n",
       "    <tr>\n",
       "      <th>401</th>\n",
       "      <td>0</td>\n",
       "      <td>3</td>\n",
       "      <td>male</td>\n",
       "      <td>0</td>\n",
       "      <td>0</td>\n",
       "      <td>8.050</td>\n",
       "      <td>S</td>\n",
       "      <td>Mr</td>\n",
       "      <td>21-28</td>\n",
       "    </tr>\n",
       "    <tr>\n",
       "      <th>554</th>\n",
       "      <td>1</td>\n",
       "      <td>3</td>\n",
       "      <td>female</td>\n",
       "      <td>0</td>\n",
       "      <td>0</td>\n",
       "      <td>7.775</td>\n",
       "      <td>S</td>\n",
       "      <td>Miss</td>\n",
       "      <td>21-28</td>\n",
       "    </tr>\n",
       "    <tr>\n",
       "      <th>213</th>\n",
       "      <td>0</td>\n",
       "      <td>2</td>\n",
       "      <td>male</td>\n",
       "      <td>0</td>\n",
       "      <td>0</td>\n",
       "      <td>13.000</td>\n",
       "      <td>S</td>\n",
       "      <td>Mr</td>\n",
       "      <td>28-39</td>\n",
       "    </tr>\n",
       "    <tr>\n",
       "      <th>434</th>\n",
       "      <td>0</td>\n",
       "      <td>1</td>\n",
       "      <td>male</td>\n",
       "      <td>1</td>\n",
       "      <td>0</td>\n",
       "      <td>55.900</td>\n",
       "      <td>S</td>\n",
       "      <td>Mr</td>\n",
       "      <td>&gt;39</td>\n",
       "    </tr>\n",
       "  </tbody>\n",
       "</table>\n",
       "</div>"
      ],
      "text/plain": [
       "     Survived  Pclass     Sex SibSp Parch     Fare Embarked Title Age_cat\n",
       "537         1       1  female     0     0  106.425        C  Miss   28-39\n",
       "401         0       3    male     0     0    8.050        S    Mr   21-28\n",
       "554         1       3  female     0     0    7.775        S  Miss   21-28\n",
       "213         0       2    male     0     0   13.000        S    Mr   28-39\n",
       "434         0       1    male     1     0   55.900        S    Mr     >39"
      ]
     },
     "execution_count": 191,
     "metadata": {},
     "output_type": "execute_result"
    }
   ],
   "source": [
    "df_train.head()"
   ]
  },
  {
   "cell_type": "code",
   "execution_count": 192,
   "id": "e86ba9bb-b5de-49c8-bec3-1e56f301cf71",
   "metadata": {},
   "outputs": [
    {
     "data": {
      "text/html": [
       "<div>\n",
       "<style scoped>\n",
       "    .dataframe tbody tr th:only-of-type {\n",
       "        vertical-align: middle;\n",
       "    }\n",
       "\n",
       "    .dataframe tbody tr th {\n",
       "        vertical-align: top;\n",
       "    }\n",
       "\n",
       "    .dataframe thead th {\n",
       "        text-align: right;\n",
       "    }\n",
       "</style>\n",
       "<table border=\"1\" class=\"dataframe\">\n",
       "  <thead>\n",
       "    <tr style=\"text-align: right;\">\n",
       "      <th></th>\n",
       "      <th>Survived</th>\n",
       "      <th>Pclass</th>\n",
       "      <th>Sex</th>\n",
       "      <th>SibSp</th>\n",
       "      <th>Parch</th>\n",
       "      <th>Fare</th>\n",
       "      <th>Embarked</th>\n",
       "      <th>Title</th>\n",
       "      <th>Age_cat</th>\n",
       "    </tr>\n",
       "  </thead>\n",
       "  <tbody>\n",
       "    <tr>\n",
       "      <th>646</th>\n",
       "      <td>0</td>\n",
       "      <td>3</td>\n",
       "      <td>male</td>\n",
       "      <td>0</td>\n",
       "      <td>0</td>\n",
       "      <td>7.8958</td>\n",
       "      <td>S</td>\n",
       "      <td>Mr</td>\n",
       "      <td>0-21</td>\n",
       "    </tr>\n",
       "    <tr>\n",
       "      <th>876</th>\n",
       "      <td>0</td>\n",
       "      <td>3</td>\n",
       "      <td>male</td>\n",
       "      <td>0</td>\n",
       "      <td>0</td>\n",
       "      <td>9.8458</td>\n",
       "      <td>S</td>\n",
       "      <td>Mr</td>\n",
       "      <td>0-21</td>\n",
       "    </tr>\n",
       "    <tr>\n",
       "      <th>359</th>\n",
       "      <td>1</td>\n",
       "      <td>3</td>\n",
       "      <td>female</td>\n",
       "      <td>0</td>\n",
       "      <td>0</td>\n",
       "      <td>7.8792</td>\n",
       "      <td>Q</td>\n",
       "      <td>Miss</td>\n",
       "      <td>brak</td>\n",
       "    </tr>\n",
       "    <tr>\n",
       "      <th>194</th>\n",
       "      <td>1</td>\n",
       "      <td>1</td>\n",
       "      <td>female</td>\n",
       "      <td>0</td>\n",
       "      <td>0</td>\n",
       "      <td>27.7208</td>\n",
       "      <td>C</td>\n",
       "      <td>Mrs</td>\n",
       "      <td>&gt;39</td>\n",
       "    </tr>\n",
       "    <tr>\n",
       "      <th>819</th>\n",
       "      <td>0</td>\n",
       "      <td>3</td>\n",
       "      <td>male</td>\n",
       "      <td>2+</td>\n",
       "      <td>2+</td>\n",
       "      <td>27.9000</td>\n",
       "      <td>S</td>\n",
       "      <td>Master</td>\n",
       "      <td>0-21</td>\n",
       "    </tr>\n",
       "  </tbody>\n",
       "</table>\n",
       "</div>"
      ],
      "text/plain": [
       "     Survived  Pclass     Sex SibSp Parch     Fare Embarked   Title Age_cat\n",
       "646         0       3    male     0     0   7.8958        S      Mr    0-21\n",
       "876         0       3    male     0     0   9.8458        S      Mr    0-21\n",
       "359         1       3  female     0     0   7.8792        Q    Miss    brak\n",
       "194         1       1  female     0     0  27.7208        C     Mrs     >39\n",
       "819         0       3    male    2+    2+  27.9000        S  Master    0-21"
      ]
     },
     "execution_count": 192,
     "metadata": {},
     "output_type": "execute_result"
    }
   ],
   "source": [
    "df_test.head()"
   ]
  },
  {
   "cell_type": "code",
   "execution_count": null,
   "id": "7343d7ac-401d-4edd-b7a8-e6c05ea4b1e1",
   "metadata": {},
   "outputs": [],
   "source": [
    "#Braki danych w zmiennej kategorycznej Embarked"
   ]
  },
  {
   "cell_type": "code",
   "execution_count": 195,
   "id": "d1f0dac3-ac0b-451e-b45a-9270e1a459b0",
   "metadata": {},
   "outputs": [
    {
     "data": {
      "text/plain": [
       "Embarked\n",
       "S    440\n",
       "C    121\n",
       "Q     60\n",
       "Name: count, dtype: int64"
      ]
     },
     "execution_count": 195,
     "metadata": {},
     "output_type": "execute_result"
    }
   ],
   "source": [
    "df_train['Embarked'].value_counts()"
   ]
  },
  {
   "cell_type": "code",
   "execution_count": null,
   "id": "306ce01e-9b2b-43fb-af45-65f99432a353",
   "metadata": {},
   "outputs": [],
   "source": [
    "#wszystkim brakujacym obserwacjom przypiszę wartosć S.."
   ]
  },
  {
   "cell_type": "code",
   "execution_count": null,
   "id": "10097737-f644-4637-a606-52d104fa42fe",
   "metadata": {},
   "outputs": [],
   "source": [
    "#tylko dwie brakujące obserwacje"
   ]
  },
  {
   "cell_type": "code",
   "execution_count": 196,
   "id": "4bf1e8c5-bac6-4e5c-ac4c-f91f5969557e",
   "metadata": {},
   "outputs": [
    {
     "data": {
      "text/plain": [
       "2"
      ]
     },
     "execution_count": 196,
     "metadata": {},
     "output_type": "execute_result"
    }
   ],
   "source": [
    "df_train['Embarked'].isna().sum()"
   ]
  },
  {
   "cell_type": "code",
   "execution_count": null,
   "id": "828470c8-3e7c-421f-9739-8c6b58511d7b",
   "metadata": {},
   "outputs": [],
   "source": [
    "#2 wartośći  wstosunku do 400 nie rzutują na dokladnosć modelu to mniej niż 1%"
   ]
  },
  {
   "cell_type": "code",
   "execution_count": 197,
   "id": "dfb74aec-5ded-4f33-890a-5b11e05a180c",
   "metadata": {},
   "outputs": [],
   "source": [
    "df_train['Embarked'].fillna(\"S\", inplace=True)"
   ]
  },
  {
   "cell_type": "code",
   "execution_count": 198,
   "id": "6820043a-bd2d-4fd9-b9f4-851be2dc9853",
   "metadata": {},
   "outputs": [
    {
     "data": {
      "text/plain": [
       "0"
      ]
     },
     "execution_count": 198,
     "metadata": {},
     "output_type": "execute_result"
    }
   ],
   "source": [
    "df_train['Embarked'].isna().sum()"
   ]
  },
  {
   "cell_type": "code",
   "execution_count": 200,
   "id": "25c3857e-8f5a-4e67-8a4d-64efc78ee0ec",
   "metadata": {},
   "outputs": [
    {
     "data": {
      "text/plain": [
       "Embarked\n",
       "S    442\n",
       "C    121\n",
       "Q     60\n",
       "Name: count, dtype: int64"
      ]
     },
     "execution_count": 200,
     "metadata": {},
     "output_type": "execute_result"
    }
   ],
   "source": [
    "df_train['Embarked'].value_counts()"
   ]
  },
  {
   "cell_type": "code",
   "execution_count": null,
   "id": "c3871054-dd9a-4530-ab2f-000a0589194b",
   "metadata": {},
   "outputs": [],
   "source": [
    "#dopisalismy do S dodatkowe watosci"
   ]
  },
  {
   "cell_type": "code",
   "execution_count": null,
   "id": "5339a39e-0210-44cc-bd8d-ae39012ead33",
   "metadata": {},
   "outputs": [],
   "source": []
  },
  {
   "cell_type": "code",
   "execution_count": null,
   "id": "dc579f0a-9eee-4c68-9df1-594c6295e687",
   "metadata": {},
   "outputs": [],
   "source": []
  }
 ],
 "metadata": {
  "kernelspec": {
   "display_name": "Python 3 (ipykernel)",
   "language": "python",
   "name": "python3"
  },
  "language_info": {
   "codemirror_mode": {
    "name": "ipython",
    "version": 3
   },
   "file_extension": ".py",
   "mimetype": "text/x-python",
   "name": "python",
   "nbconvert_exporter": "python",
   "pygments_lexer": "ipython3",
   "version": "3.11.7"
  }
 },
 "nbformat": 4,
 "nbformat_minor": 5
}
