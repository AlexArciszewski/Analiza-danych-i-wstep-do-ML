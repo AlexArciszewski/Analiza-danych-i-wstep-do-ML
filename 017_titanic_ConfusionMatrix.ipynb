{
 "cells": [
  {
   "cell_type": "code",
   "execution_count": 1,
   "id": "7ca3a7c5-6b53-4bf7-b3fa-c77abda98847",
   "metadata": {},
   "outputs": [],
   "source": [
    "#Titanic nprzykład analizy"
   ]
  },
  {
   "cell_type": "code",
   "execution_count": 2,
   "id": "e65b49b8-dc25-432a-a11b-3c23fb2f6e7e",
   "metadata": {},
   "outputs": [],
   "source": [
    "#1. Import danych i bibliotek"
   ]
  },
  {
   "cell_type": "code",
   "execution_count": 3,
   "id": "a1bc6da1-1946-4983-ba8c-9a5d9aae1f5e",
   "metadata": {},
   "outputs": [],
   "source": [
    "import numpy as np\n",
    "import pandas as pd\n",
    "import seaborn as sns\n",
    "import matplotlib.pyplot as plt"
   ]
  },
  {
   "cell_type": "code",
   "execution_count": 4,
   "id": "ff695a80-bf36-43d4-93b7-702e26f8d45a",
   "metadata": {},
   "outputs": [],
   "source": [
    "df = pd.read_csv(r\"C:\\Dane\\2_ML_Projekty\\003_programowanie_ML_zadanka_kurs_wprowadzenie\\Moduł 4\\Zbiory danych\\titanic.csv\")"
   ]
  },
  {
   "cell_type": "code",
   "execution_count": 5,
   "id": "803975c3-6536-4f43-a904-db5b9ec090ac",
   "metadata": {},
   "outputs": [],
   "source": [
    "#Ogólny opis danych"
   ]
  },
  {
   "cell_type": "code",
   "execution_count": 6,
   "id": "5caa90de-c785-4beb-b90b-944de14d5c4e",
   "metadata": {},
   "outputs": [
    {
     "data": {
      "text/html": [
       "<div>\n",
       "<style scoped>\n",
       "    .dataframe tbody tr th:only-of-type {\n",
       "        vertical-align: middle;\n",
       "    }\n",
       "\n",
       "    .dataframe tbody tr th {\n",
       "        vertical-align: top;\n",
       "    }\n",
       "\n",
       "    .dataframe thead th {\n",
       "        text-align: right;\n",
       "    }\n",
       "</style>\n",
       "<table border=\"1\" class=\"dataframe\">\n",
       "  <thead>\n",
       "    <tr style=\"text-align: right;\">\n",
       "      <th></th>\n",
       "      <th>PassengerId</th>\n",
       "      <th>Survived</th>\n",
       "      <th>Pclass</th>\n",
       "      <th>Name</th>\n",
       "      <th>Sex</th>\n",
       "      <th>Age</th>\n",
       "      <th>SibSp</th>\n",
       "      <th>Parch</th>\n",
       "      <th>Ticket</th>\n",
       "      <th>Fare</th>\n",
       "      <th>Cabin</th>\n",
       "      <th>Embarked</th>\n",
       "    </tr>\n",
       "  </thead>\n",
       "  <tbody>\n",
       "    <tr>\n",
       "      <th>0</th>\n",
       "      <td>1</td>\n",
       "      <td>0</td>\n",
       "      <td>3</td>\n",
       "      <td>Braund, Mr. Owen Harris</td>\n",
       "      <td>male</td>\n",
       "      <td>22.0</td>\n",
       "      <td>1</td>\n",
       "      <td>0</td>\n",
       "      <td>A/5 21171</td>\n",
       "      <td>7.2500</td>\n",
       "      <td>NaN</td>\n",
       "      <td>S</td>\n",
       "    </tr>\n",
       "    <tr>\n",
       "      <th>1</th>\n",
       "      <td>2</td>\n",
       "      <td>1</td>\n",
       "      <td>1</td>\n",
       "      <td>Cumings, Mrs. John Bradley (Florence Briggs Th...</td>\n",
       "      <td>female</td>\n",
       "      <td>38.0</td>\n",
       "      <td>1</td>\n",
       "      <td>0</td>\n",
       "      <td>PC 17599</td>\n",
       "      <td>71.2833</td>\n",
       "      <td>C85</td>\n",
       "      <td>C</td>\n",
       "    </tr>\n",
       "    <tr>\n",
       "      <th>2</th>\n",
       "      <td>3</td>\n",
       "      <td>1</td>\n",
       "      <td>3</td>\n",
       "      <td>Heikkinen, Miss. Laina</td>\n",
       "      <td>female</td>\n",
       "      <td>26.0</td>\n",
       "      <td>0</td>\n",
       "      <td>0</td>\n",
       "      <td>STON/O2. 3101282</td>\n",
       "      <td>7.9250</td>\n",
       "      <td>NaN</td>\n",
       "      <td>S</td>\n",
       "    </tr>\n",
       "    <tr>\n",
       "      <th>3</th>\n",
       "      <td>4</td>\n",
       "      <td>1</td>\n",
       "      <td>1</td>\n",
       "      <td>Futrelle, Mrs. Jacques Heath (Lily May Peel)</td>\n",
       "      <td>female</td>\n",
       "      <td>35.0</td>\n",
       "      <td>1</td>\n",
       "      <td>0</td>\n",
       "      <td>113803</td>\n",
       "      <td>53.1000</td>\n",
       "      <td>C123</td>\n",
       "      <td>S</td>\n",
       "    </tr>\n",
       "    <tr>\n",
       "      <th>4</th>\n",
       "      <td>5</td>\n",
       "      <td>0</td>\n",
       "      <td>3</td>\n",
       "      <td>Allen, Mr. William Henry</td>\n",
       "      <td>male</td>\n",
       "      <td>35.0</td>\n",
       "      <td>0</td>\n",
       "      <td>0</td>\n",
       "      <td>373450</td>\n",
       "      <td>8.0500</td>\n",
       "      <td>NaN</td>\n",
       "      <td>S</td>\n",
       "    </tr>\n",
       "  </tbody>\n",
       "</table>\n",
       "</div>"
      ],
      "text/plain": [
       "   PassengerId  Survived  Pclass  \\\n",
       "0            1         0       3   \n",
       "1            2         1       1   \n",
       "2            3         1       3   \n",
       "3            4         1       1   \n",
       "4            5         0       3   \n",
       "\n",
       "                                                Name     Sex   Age  SibSp  \\\n",
       "0                            Braund, Mr. Owen Harris    male  22.0      1   \n",
       "1  Cumings, Mrs. John Bradley (Florence Briggs Th...  female  38.0      1   \n",
       "2                             Heikkinen, Miss. Laina  female  26.0      0   \n",
       "3       Futrelle, Mrs. Jacques Heath (Lily May Peel)  female  35.0      1   \n",
       "4                           Allen, Mr. William Henry    male  35.0      0   \n",
       "\n",
       "   Parch            Ticket     Fare Cabin Embarked  \n",
       "0      0         A/5 21171   7.2500   NaN        S  \n",
       "1      0          PC 17599  71.2833   C85        C  \n",
       "2      0  STON/O2. 3101282   7.9250   NaN        S  \n",
       "3      0            113803  53.1000  C123        S  \n",
       "4      0            373450   8.0500   NaN        S  "
      ]
     },
     "execution_count": 6,
     "metadata": {},
     "output_type": "execute_result"
    }
   ],
   "source": [
    "df.head()"
   ]
  },
  {
   "cell_type": "code",
   "execution_count": 7,
   "id": "f1e92d89-7f04-4ec4-83b5-0f19c84485ec",
   "metadata": {},
   "outputs": [],
   "source": [
    "# id pasażera, Survived czy przeżył czy nie pclass klasa gdzie byłitd Sibl-krewnirodzenstwo  \n",
    "#Parch-ile rodziców lub dzieci bylo na pokladzie\n",
    "#Embarked który port"
   ]
  },
  {
   "cell_type": "code",
   "execution_count": 8,
   "id": "240205a9-60a6-480c-bdf3-e890c5ff9ee5",
   "metadata": {},
   "outputs": [],
   "source": [
    "#wyswietlimy wszystkie zmienne,podaje typ,ile obserwacji 891 ile jest nie null obserwacji dla age 714 różnica to wartości brakujące"
   ]
  },
  {
   "cell_type": "code",
   "execution_count": 9,
   "id": "da47e955-f47b-4170-982f-01524677a79b",
   "metadata": {},
   "outputs": [
    {
     "name": "stdout",
     "output_type": "stream",
     "text": [
      "<class 'pandas.core.frame.DataFrame'>\n",
      "RangeIndex: 891 entries, 0 to 890\n",
      "Data columns (total 12 columns):\n",
      " #   Column       Non-Null Count  Dtype  \n",
      "---  ------       --------------  -----  \n",
      " 0   PassengerId  891 non-null    int64  \n",
      " 1   Survived     891 non-null    int64  \n",
      " 2   Pclass       891 non-null    int64  \n",
      " 3   Name         891 non-null    object \n",
      " 4   Sex          891 non-null    object \n",
      " 5   Age          714 non-null    float64\n",
      " 6   SibSp        891 non-null    int64  \n",
      " 7   Parch        891 non-null    int64  \n",
      " 8   Ticket       891 non-null    object \n",
      " 9   Fare         891 non-null    float64\n",
      " 10  Cabin        204 non-null    object \n",
      " 11  Embarked     889 non-null    object \n",
      "dtypes: float64(2), int64(5), object(5)\n",
      "memory usage: 83.7+ KB\n"
     ]
    }
   ],
   "source": [
    "df.info()"
   ]
  },
  {
   "cell_type": "code",
   "execution_count": 10,
   "id": "564c123f-1630-4d02-acca-0099d1e98004",
   "metadata": {},
   "outputs": [
    {
     "data": {
      "text/plain": [
       "(891, 12)"
      ]
     },
     "execution_count": 10,
     "metadata": {},
     "output_type": "execute_result"
    }
   ],
   "source": [
    "df.shape   #ile wierszy ile kolumn"
   ]
  },
  {
   "cell_type": "code",
   "execution_count": 11,
   "id": "98f4d394-4ffc-4b22-882b-0357c98d0a60",
   "metadata": {},
   "outputs": [
    {
     "data": {
      "text/html": [
       "<div>\n",
       "<style scoped>\n",
       "    .dataframe tbody tr th:only-of-type {\n",
       "        vertical-align: middle;\n",
       "    }\n",
       "\n",
       "    .dataframe tbody tr th {\n",
       "        vertical-align: top;\n",
       "    }\n",
       "\n",
       "    .dataframe thead th {\n",
       "        text-align: right;\n",
       "    }\n",
       "</style>\n",
       "<table border=\"1\" class=\"dataframe\">\n",
       "  <thead>\n",
       "    <tr style=\"text-align: right;\">\n",
       "      <th></th>\n",
       "      <th>PassengerId</th>\n",
       "      <th>Survived</th>\n",
       "      <th>Pclass</th>\n",
       "      <th>Age</th>\n",
       "      <th>SibSp</th>\n",
       "      <th>Parch</th>\n",
       "      <th>Fare</th>\n",
       "    </tr>\n",
       "  </thead>\n",
       "  <tbody>\n",
       "    <tr>\n",
       "      <th>count</th>\n",
       "      <td>891.000000</td>\n",
       "      <td>891.000000</td>\n",
       "      <td>891.000000</td>\n",
       "      <td>714.000000</td>\n",
       "      <td>891.000000</td>\n",
       "      <td>891.000000</td>\n",
       "      <td>891.000000</td>\n",
       "    </tr>\n",
       "    <tr>\n",
       "      <th>mean</th>\n",
       "      <td>446.000000</td>\n",
       "      <td>0.383838</td>\n",
       "      <td>2.308642</td>\n",
       "      <td>29.699118</td>\n",
       "      <td>0.523008</td>\n",
       "      <td>0.381594</td>\n",
       "      <td>32.204208</td>\n",
       "    </tr>\n",
       "    <tr>\n",
       "      <th>std</th>\n",
       "      <td>257.353842</td>\n",
       "      <td>0.486592</td>\n",
       "      <td>0.836071</td>\n",
       "      <td>14.526497</td>\n",
       "      <td>1.102743</td>\n",
       "      <td>0.806057</td>\n",
       "      <td>49.693429</td>\n",
       "    </tr>\n",
       "    <tr>\n",
       "      <th>min</th>\n",
       "      <td>1.000000</td>\n",
       "      <td>0.000000</td>\n",
       "      <td>1.000000</td>\n",
       "      <td>0.420000</td>\n",
       "      <td>0.000000</td>\n",
       "      <td>0.000000</td>\n",
       "      <td>0.000000</td>\n",
       "    </tr>\n",
       "    <tr>\n",
       "      <th>25%</th>\n",
       "      <td>223.500000</td>\n",
       "      <td>0.000000</td>\n",
       "      <td>2.000000</td>\n",
       "      <td>20.125000</td>\n",
       "      <td>0.000000</td>\n",
       "      <td>0.000000</td>\n",
       "      <td>7.910400</td>\n",
       "    </tr>\n",
       "    <tr>\n",
       "      <th>50%</th>\n",
       "      <td>446.000000</td>\n",
       "      <td>0.000000</td>\n",
       "      <td>3.000000</td>\n",
       "      <td>28.000000</td>\n",
       "      <td>0.000000</td>\n",
       "      <td>0.000000</td>\n",
       "      <td>14.454200</td>\n",
       "    </tr>\n",
       "    <tr>\n",
       "      <th>75%</th>\n",
       "      <td>668.500000</td>\n",
       "      <td>1.000000</td>\n",
       "      <td>3.000000</td>\n",
       "      <td>38.000000</td>\n",
       "      <td>1.000000</td>\n",
       "      <td>0.000000</td>\n",
       "      <td>31.000000</td>\n",
       "    </tr>\n",
       "    <tr>\n",
       "      <th>max</th>\n",
       "      <td>891.000000</td>\n",
       "      <td>1.000000</td>\n",
       "      <td>3.000000</td>\n",
       "      <td>80.000000</td>\n",
       "      <td>8.000000</td>\n",
       "      <td>6.000000</td>\n",
       "      <td>512.329200</td>\n",
       "    </tr>\n",
       "  </tbody>\n",
       "</table>\n",
       "</div>"
      ],
      "text/plain": [
       "       PassengerId    Survived      Pclass         Age       SibSp  \\\n",
       "count   891.000000  891.000000  891.000000  714.000000  891.000000   \n",
       "mean    446.000000    0.383838    2.308642   29.699118    0.523008   \n",
       "std     257.353842    0.486592    0.836071   14.526497    1.102743   \n",
       "min       1.000000    0.000000    1.000000    0.420000    0.000000   \n",
       "25%     223.500000    0.000000    2.000000   20.125000    0.000000   \n",
       "50%     446.000000    0.000000    3.000000   28.000000    0.000000   \n",
       "75%     668.500000    1.000000    3.000000   38.000000    1.000000   \n",
       "max     891.000000    1.000000    3.000000   80.000000    8.000000   \n",
       "\n",
       "            Parch        Fare  \n",
       "count  891.000000  891.000000  \n",
       "mean     0.381594   32.204208  \n",
       "std      0.806057   49.693429  \n",
       "min      0.000000    0.000000  \n",
       "25%      0.000000    7.910400  \n",
       "50%      0.000000   14.454200  \n",
       "75%      0.000000   31.000000  \n",
       "max      6.000000  512.329200  "
      ]
     },
     "execution_count": 11,
     "metadata": {},
     "output_type": "execute_result"
    }
   ],
   "source": [
    "df.describe()  #opis zmiennych numerycznych jak w age by było 200 to by trzeba usunac ten rekord"
   ]
  },
  {
   "cell_type": "code",
   "execution_count": 12,
   "id": "b93722ab-c3d9-44b9-8bc1-85b0a0c7895b",
   "metadata": {},
   "outputs": [
    {
     "data": {
      "text/html": [
       "<div>\n",
       "<style scoped>\n",
       "    .dataframe tbody tr th:only-of-type {\n",
       "        vertical-align: middle;\n",
       "    }\n",
       "\n",
       "    .dataframe tbody tr th {\n",
       "        vertical-align: top;\n",
       "    }\n",
       "\n",
       "    .dataframe thead th {\n",
       "        text-align: right;\n",
       "    }\n",
       "</style>\n",
       "<table border=\"1\" class=\"dataframe\">\n",
       "  <thead>\n",
       "    <tr style=\"text-align: right;\">\n",
       "      <th></th>\n",
       "      <th>Name</th>\n",
       "      <th>Sex</th>\n",
       "      <th>Ticket</th>\n",
       "      <th>Cabin</th>\n",
       "      <th>Embarked</th>\n",
       "    </tr>\n",
       "  </thead>\n",
       "  <tbody>\n",
       "    <tr>\n",
       "      <th>count</th>\n",
       "      <td>891</td>\n",
       "      <td>891</td>\n",
       "      <td>891</td>\n",
       "      <td>204</td>\n",
       "      <td>889</td>\n",
       "    </tr>\n",
       "    <tr>\n",
       "      <th>unique</th>\n",
       "      <td>891</td>\n",
       "      <td>2</td>\n",
       "      <td>681</td>\n",
       "      <td>147</td>\n",
       "      <td>3</td>\n",
       "    </tr>\n",
       "    <tr>\n",
       "      <th>top</th>\n",
       "      <td>Braund, Mr. Owen Harris</td>\n",
       "      <td>male</td>\n",
       "      <td>347082</td>\n",
       "      <td>B96 B98</td>\n",
       "      <td>S</td>\n",
       "    </tr>\n",
       "    <tr>\n",
       "      <th>freq</th>\n",
       "      <td>1</td>\n",
       "      <td>577</td>\n",
       "      <td>7</td>\n",
       "      <td>4</td>\n",
       "      <td>644</td>\n",
       "    </tr>\n",
       "  </tbody>\n",
       "</table>\n",
       "</div>"
      ],
      "text/plain": [
       "                           Name   Sex  Ticket    Cabin Embarked\n",
       "count                       891   891     891      204      889\n",
       "unique                      891     2     681      147        3\n",
       "top     Braund, Mr. Owen Harris  male  347082  B96 B98        S\n",
       "freq                          1   577       7        4      644"
      ]
     },
     "execution_count": 12,
     "metadata": {},
     "output_type": "execute_result"
    }
   ],
   "source": [
    "df.describe(include=['O'])    #wyświetlenie zmiennnych kategorycznych"
   ]
  },
  {
   "cell_type": "code",
   "execution_count": 13,
   "id": "37f00ad7-8743-400f-a81c-4ee9aecb312b",
   "metadata": {},
   "outputs": [],
   "source": [
    "# zliczamy braki danych wartości unikalne dwie płcie."
   ]
  },
  {
   "cell_type": "code",
   "execution_count": 14,
   "id": "fc41c668-771e-4174-8ec7-939855688f80",
   "metadata": {},
   "outputs": [],
   "source": [
    "#3. Analiza zmiennej celu Survived"
   ]
  },
  {
   "cell_type": "code",
   "execution_count": 15,
   "id": "8b5e2dd2-f9e5-44cb-8480-0b186157e726",
   "metadata": {},
   "outputs": [
    {
     "data": {
      "text/plain": [
       "Survived\n",
       "0    549\n",
       "1    342\n",
       "Name: count, dtype: int64"
      ]
     },
     "execution_count": 15,
     "metadata": {},
     "output_type": "execute_result"
    }
   ],
   "source": [
    "df['Survived'].value_counts()   #ilu pasażerów przeżyło a ilu nie"
   ]
  },
  {
   "cell_type": "code",
   "execution_count": 16,
   "id": "1948d159-d606-4f98-95ea-77fcd9615cf8",
   "metadata": {},
   "outputs": [],
   "source": [
    "#to samo w ujęciu procentowym"
   ]
  },
  {
   "cell_type": "code",
   "execution_count": 17,
   "id": "f238af62-d772-414b-bedc-f9d2018cf34d",
   "metadata": {},
   "outputs": [
    {
     "data": {
      "text/plain": [
       "Survived\n",
       "0    0.616162\n",
       "1    0.383838\n",
       "Name: proportion, dtype: float64"
      ]
     },
     "execution_count": 17,
     "metadata": {},
     "output_type": "execute_result"
    }
   ],
   "source": [
    "df['Survived'].value_counts(normalize=True) "
   ]
  },
  {
   "cell_type": "code",
   "execution_count": 18,
   "id": "94d0af2b-4aca-45a7-b4e2-2d76a9b58c77",
   "metadata": {},
   "outputs": [],
   "source": [
    "#4.Zmienna celu a zmienne jakościowe "
   ]
  },
  {
   "cell_type": "code",
   "execution_count": 19,
   "id": "1310017b-1013-434f-bc2b-1b94d860c28c",
   "metadata": {},
   "outputs": [],
   "source": [
    "#Grupowanei zbioru danych po zmiennej jakościowej i wyliczamy średnia wartość zmiennej celu. \n",
    "#Sprawdzimy czy udział osób które przeżyły jest większy w konkretnej kategorii."
   ]
  },
  {
   "cell_type": "code",
   "execution_count": 20,
   "id": "4c5528f8-3d9a-4706-9a07-971f94f631cb",
   "metadata": {},
   "outputs": [],
   "source": [
    "#wybieramy szukaną zmienna i zmienna jakościową inną"
   ]
  },
  {
   "cell_type": "code",
   "execution_count": 21,
   "id": "e39983bb-5191-4c08-858e-8433d71353a6",
   "metadata": {},
   "outputs": [],
   "source": [
    "#szukana zmienna i zmienna jakosciowa bierzemy je i grupujemy po zmiennej jakosciowej wyznaczajac srednia"
   ]
  },
  {
   "cell_type": "code",
   "execution_count": 22,
   "id": "73feb3a1-ddbd-464b-998b-c74ff9c6a75f",
   "metadata": {},
   "outputs": [
    {
     "data": {
      "text/html": [
       "<div>\n",
       "<style scoped>\n",
       "    .dataframe tbody tr th:only-of-type {\n",
       "        vertical-align: middle;\n",
       "    }\n",
       "\n",
       "    .dataframe tbody tr th {\n",
       "        vertical-align: top;\n",
       "    }\n",
       "\n",
       "    .dataframe thead th {\n",
       "        text-align: right;\n",
       "    }\n",
       "</style>\n",
       "<table border=\"1\" class=\"dataframe\">\n",
       "  <thead>\n",
       "    <tr style=\"text-align: right;\">\n",
       "      <th></th>\n",
       "      <th>Survived</th>\n",
       "    </tr>\n",
       "    <tr>\n",
       "      <th>Sex</th>\n",
       "      <th></th>\n",
       "    </tr>\n",
       "  </thead>\n",
       "  <tbody>\n",
       "    <tr>\n",
       "      <th>female</th>\n",
       "      <td>0.742038</td>\n",
       "    </tr>\n",
       "    <tr>\n",
       "      <th>male</th>\n",
       "      <td>0.188908</td>\n",
       "    </tr>\n",
       "  </tbody>\n",
       "</table>\n",
       "</div>"
      ],
      "text/plain": [
       "        Survived\n",
       "Sex             \n",
       "female  0.742038\n",
       "male    0.188908"
      ]
     },
     "execution_count": 22,
     "metadata": {},
     "output_type": "execute_result"
    }
   ],
   "source": [
    "df[['Survived','Sex']].groupby(['Sex']).mean()"
   ]
  },
  {
   "cell_type": "code",
   "execution_count": 23,
   "id": "081e1f68-66d5-4fe1-92d4-c6834425fe26",
   "metadata": {},
   "outputs": [],
   "source": [
    "# Sprawdzilismy, że znaczenie na przeżycie miała płeć.Kobiety i dzieci szły jako pierwsze do szalup"
   ]
  },
  {
   "cell_type": "code",
   "execution_count": 24,
   "id": "c8a49bdb-fbc1-49b9-bf15-8940144ab69e",
   "metadata": {},
   "outputs": [],
   "source": [
    "#teraz próbujemy sprawdzić zaleznosć miedzy tymi co przeżyli a klasa "
   ]
  },
  {
   "cell_type": "code",
   "execution_count": 25,
   "id": "3caeabb1-5326-4ec8-a97b-ce7e33b33658",
   "metadata": {},
   "outputs": [
    {
     "data": {
      "text/html": [
       "<div>\n",
       "<style scoped>\n",
       "    .dataframe tbody tr th:only-of-type {\n",
       "        vertical-align: middle;\n",
       "    }\n",
       "\n",
       "    .dataframe tbody tr th {\n",
       "        vertical-align: top;\n",
       "    }\n",
       "\n",
       "    .dataframe thead th {\n",
       "        text-align: right;\n",
       "    }\n",
       "</style>\n",
       "<table border=\"1\" class=\"dataframe\">\n",
       "  <thead>\n",
       "    <tr style=\"text-align: right;\">\n",
       "      <th></th>\n",
       "      <th>Survived</th>\n",
       "    </tr>\n",
       "    <tr>\n",
       "      <th>Pclass</th>\n",
       "      <th></th>\n",
       "    </tr>\n",
       "  </thead>\n",
       "  <tbody>\n",
       "    <tr>\n",
       "      <th>1</th>\n",
       "      <td>0.629630</td>\n",
       "    </tr>\n",
       "    <tr>\n",
       "      <th>2</th>\n",
       "      <td>0.472826</td>\n",
       "    </tr>\n",
       "    <tr>\n",
       "      <th>3</th>\n",
       "      <td>0.242363</td>\n",
       "    </tr>\n",
       "  </tbody>\n",
       "</table>\n",
       "</div>"
      ],
      "text/plain": [
       "        Survived\n",
       "Pclass          \n",
       "1       0.629630\n",
       "2       0.472826\n",
       "3       0.242363"
      ]
     },
     "execution_count": 25,
     "metadata": {},
     "output_type": "execute_result"
    }
   ],
   "source": [
    "df[['Survived','Pclass']].groupby(['Pclass']).mean()"
   ]
  },
  {
   "cell_type": "code",
   "execution_count": 26,
   "id": "914b182b-5f47-4fbc-914a-e8a0e60a0504",
   "metadata": {},
   "outputs": [],
   "source": [
    "#procentowy rozkład tych co przeżyli w  zaleznosci od liczby rodzeństwa"
   ]
  },
  {
   "cell_type": "code",
   "execution_count": 27,
   "id": "54ce276e-ecc7-4e28-b14b-e7e063b0c41d",
   "metadata": {},
   "outputs": [
    {
     "data": {
      "text/html": [
       "<div>\n",
       "<style scoped>\n",
       "    .dataframe tbody tr th:only-of-type {\n",
       "        vertical-align: middle;\n",
       "    }\n",
       "\n",
       "    .dataframe tbody tr th {\n",
       "        vertical-align: top;\n",
       "    }\n",
       "\n",
       "    .dataframe thead th {\n",
       "        text-align: right;\n",
       "    }\n",
       "</style>\n",
       "<table border=\"1\" class=\"dataframe\">\n",
       "  <thead>\n",
       "    <tr style=\"text-align: right;\">\n",
       "      <th></th>\n",
       "      <th>Survived</th>\n",
       "    </tr>\n",
       "    <tr>\n",
       "      <th>SibSp</th>\n",
       "      <th></th>\n",
       "    </tr>\n",
       "  </thead>\n",
       "  <tbody>\n",
       "    <tr>\n",
       "      <th>0</th>\n",
       "      <td>0.345395</td>\n",
       "    </tr>\n",
       "    <tr>\n",
       "      <th>1</th>\n",
       "      <td>0.535885</td>\n",
       "    </tr>\n",
       "    <tr>\n",
       "      <th>2</th>\n",
       "      <td>0.464286</td>\n",
       "    </tr>\n",
       "    <tr>\n",
       "      <th>3</th>\n",
       "      <td>0.250000</td>\n",
       "    </tr>\n",
       "    <tr>\n",
       "      <th>4</th>\n",
       "      <td>0.166667</td>\n",
       "    </tr>\n",
       "    <tr>\n",
       "      <th>5</th>\n",
       "      <td>0.000000</td>\n",
       "    </tr>\n",
       "    <tr>\n",
       "      <th>8</th>\n",
       "      <td>0.000000</td>\n",
       "    </tr>\n",
       "  </tbody>\n",
       "</table>\n",
       "</div>"
      ],
      "text/plain": [
       "       Survived\n",
       "SibSp          \n",
       "0      0.345395\n",
       "1      0.535885\n",
       "2      0.464286\n",
       "3      0.250000\n",
       "4      0.166667\n",
       "5      0.000000\n",
       "8      0.000000"
      ]
     },
     "execution_count": 27,
     "metadata": {},
     "output_type": "execute_result"
    }
   ],
   "source": [
    "df[['Survived','SibSp']].groupby(['SibSp']).mean()"
   ]
  },
  {
   "cell_type": "code",
   "execution_count": 28,
   "id": "6aeeffa8-06ed-4b7f-818e-3a396076100c",
   "metadata": {},
   "outputs": [],
   "source": [
    "#procentowo Ci co przeżyli w zaleznosci od liczby rodzenstwa warto sprawdzić \n",
    "#lcizebnosc tych grup bo 8 rodzenstwa miało niewiele osob."
   ]
  },
  {
   "cell_type": "code",
   "execution_count": 29,
   "id": "5b9b4622-9cc0-44e4-8b49-79b7c39b55a6",
   "metadata": {},
   "outputs": [],
   "source": [
    "#Zaleznosc między tymi co przeżyli a portem rozpoczecia podróży"
   ]
  },
  {
   "cell_type": "code",
   "execution_count": 30,
   "id": "8f11796a-1663-425a-a23e-c04b8feefa6c",
   "metadata": {},
   "outputs": [
    {
     "data": {
      "text/html": [
       "<div>\n",
       "<style scoped>\n",
       "    .dataframe tbody tr th:only-of-type {\n",
       "        vertical-align: middle;\n",
       "    }\n",
       "\n",
       "    .dataframe tbody tr th {\n",
       "        vertical-align: top;\n",
       "    }\n",
       "\n",
       "    .dataframe thead th {\n",
       "        text-align: right;\n",
       "    }\n",
       "</style>\n",
       "<table border=\"1\" class=\"dataframe\">\n",
       "  <thead>\n",
       "    <tr style=\"text-align: right;\">\n",
       "      <th></th>\n",
       "      <th>Survived</th>\n",
       "    </tr>\n",
       "    <tr>\n",
       "      <th>Embarked</th>\n",
       "      <th></th>\n",
       "    </tr>\n",
       "  </thead>\n",
       "  <tbody>\n",
       "    <tr>\n",
       "      <th>C</th>\n",
       "      <td>0.553571</td>\n",
       "    </tr>\n",
       "    <tr>\n",
       "      <th>Q</th>\n",
       "      <td>0.389610</td>\n",
       "    </tr>\n",
       "    <tr>\n",
       "      <th>S</th>\n",
       "      <td>0.336957</td>\n",
       "    </tr>\n",
       "  </tbody>\n",
       "</table>\n",
       "</div>"
      ],
      "text/plain": [
       "          Survived\n",
       "Embarked          \n",
       "C         0.553571\n",
       "Q         0.389610\n",
       "S         0.336957"
      ]
     },
     "execution_count": 30,
     "metadata": {},
     "output_type": "execute_result"
    }
   ],
   "source": [
    "df[['Survived','Embarked']].groupby(['Embarked']).mean()"
   ]
  },
  {
   "cell_type": "code",
   "execution_count": 31,
   "id": "eef2b235-b594-427c-82cd-b1ee80e046aa",
   "metadata": {},
   "outputs": [],
   "source": [
    "#Pozostałem zmienne jak name ticket i cabin mają duzo unikalnych wartości "
   ]
  },
  {
   "cell_type": "code",
   "execution_count": 32,
   "id": "073c0795-ec28-461d-b59f-581a71b1f78c",
   "metadata": {},
   "outputs": [
    {
     "data": {
      "text/html": [
       "<div>\n",
       "<style scoped>\n",
       "    .dataframe tbody tr th:only-of-type {\n",
       "        vertical-align: middle;\n",
       "    }\n",
       "\n",
       "    .dataframe tbody tr th {\n",
       "        vertical-align: top;\n",
       "    }\n",
       "\n",
       "    .dataframe thead th {\n",
       "        text-align: right;\n",
       "    }\n",
       "</style>\n",
       "<table border=\"1\" class=\"dataframe\">\n",
       "  <thead>\n",
       "    <tr style=\"text-align: right;\">\n",
       "      <th></th>\n",
       "      <th>Name</th>\n",
       "      <th>Sex</th>\n",
       "      <th>Ticket</th>\n",
       "      <th>Cabin</th>\n",
       "      <th>Embarked</th>\n",
       "    </tr>\n",
       "  </thead>\n",
       "  <tbody>\n",
       "    <tr>\n",
       "      <th>count</th>\n",
       "      <td>891</td>\n",
       "      <td>891</td>\n",
       "      <td>891</td>\n",
       "      <td>204</td>\n",
       "      <td>889</td>\n",
       "    </tr>\n",
       "    <tr>\n",
       "      <th>unique</th>\n",
       "      <td>891</td>\n",
       "      <td>2</td>\n",
       "      <td>681</td>\n",
       "      <td>147</td>\n",
       "      <td>3</td>\n",
       "    </tr>\n",
       "    <tr>\n",
       "      <th>top</th>\n",
       "      <td>Braund, Mr. Owen Harris</td>\n",
       "      <td>male</td>\n",
       "      <td>347082</td>\n",
       "      <td>B96 B98</td>\n",
       "      <td>S</td>\n",
       "    </tr>\n",
       "    <tr>\n",
       "      <th>freq</th>\n",
       "      <td>1</td>\n",
       "      <td>577</td>\n",
       "      <td>7</td>\n",
       "      <td>4</td>\n",
       "      <td>644</td>\n",
       "    </tr>\n",
       "  </tbody>\n",
       "</table>\n",
       "</div>"
      ],
      "text/plain": [
       "                           Name   Sex  Ticket    Cabin Embarked\n",
       "count                       891   891     891      204      889\n",
       "unique                      891     2     681      147        3\n",
       "top     Braund, Mr. Owen Harris  male  347082  B96 B98        S\n",
       "freq                          1   577       7        4      644"
      ]
     },
     "execution_count": 32,
     "metadata": {},
     "output_type": "execute_result"
    }
   ],
   "source": [
    "df.describe(include=['O']) "
   ]
  },
  {
   "cell_type": "code",
   "execution_count": 33,
   "id": "e070a4b3-18a8-46df-8871-1643a1aaa6ce",
   "metadata": {},
   "outputs": [],
   "source": [
    "#5.Zmienna celu pod katem zmiennych ilosciowych"
   ]
  },
  {
   "cell_type": "code",
   "execution_count": 34,
   "id": "992ad7e5-9b23-4ccc-af6c-f2006e5e006f",
   "metadata": {},
   "outputs": [],
   "source": [
    "#to grupowanie co powyżej nie będzie miało sensu w ich przypadku.Grupowanie ale po zmiennej celu i zobaczymy i jaka \n",
    "#jest wartość średniej zmiennej ilościowej dla odpowadajacej kategorii zmiennej celu."
   ]
  },
  {
   "cell_type": "code",
   "execution_count": 35,
   "id": "5ff60071-9464-4339-94b6-dcb3089438c2",
   "metadata": {},
   "outputs": [
    {
     "data": {
      "text/html": [
       "<div>\n",
       "<style scoped>\n",
       "    .dataframe tbody tr th:only-of-type {\n",
       "        vertical-align: middle;\n",
       "    }\n",
       "\n",
       "    .dataframe tbody tr th {\n",
       "        vertical-align: top;\n",
       "    }\n",
       "\n",
       "    .dataframe thead th {\n",
       "        text-align: right;\n",
       "    }\n",
       "</style>\n",
       "<table border=\"1\" class=\"dataframe\">\n",
       "  <thead>\n",
       "    <tr style=\"text-align: right;\">\n",
       "      <th></th>\n",
       "      <th>Age</th>\n",
       "    </tr>\n",
       "    <tr>\n",
       "      <th>Survived</th>\n",
       "      <th></th>\n",
       "    </tr>\n",
       "  </thead>\n",
       "  <tbody>\n",
       "    <tr>\n",
       "      <th>0</th>\n",
       "      <td>30.626179</td>\n",
       "    </tr>\n",
       "    <tr>\n",
       "      <th>1</th>\n",
       "      <td>28.343690</td>\n",
       "    </tr>\n",
       "  </tbody>\n",
       "</table>\n",
       "</div>"
      ],
      "text/plain": [
       "                Age\n",
       "Survived           \n",
       "0         30.626179\n",
       "1         28.343690"
      ]
     },
     "execution_count": 35,
     "metadata": {},
     "output_type": "execute_result"
    }
   ],
   "source": [
    "df[['Survived','Age']].groupby(['Survived']).mean()"
   ]
  },
  {
   "cell_type": "code",
   "execution_count": 36,
   "id": "87d55159-fcd3-450d-b08a-95f8031924f0",
   "metadata": {},
   "outputs": [],
   "source": [
    "#otrzymuje informacje jaka była średnia wieku tych co nie przeżyli i ci co przeżyli katastrofę"
   ]
  },
  {
   "cell_type": "code",
   "execution_count": 37,
   "id": "602eecd1-3fab-4102-8810-82631aa62271",
   "metadata": {},
   "outputs": [],
   "source": [
    "#tak równiez moge ocenic czy dana zmienna ma wpływ na zmienną celu czy jest zróznicowanie"
   ]
  },
  {
   "cell_type": "code",
   "execution_count": 38,
   "id": "e078fd46-f230-4a65-8a58-4f180447db31",
   "metadata": {},
   "outputs": [],
   "source": [
    "#analiza zmiennej Fare kosztu biletu"
   ]
  },
  {
   "cell_type": "code",
   "execution_count": 39,
   "id": "99a2322a-1063-4bb8-be27-8d98e1e62855",
   "metadata": {},
   "outputs": [
    {
     "data": {
      "text/html": [
       "<div>\n",
       "<style scoped>\n",
       "    .dataframe tbody tr th:only-of-type {\n",
       "        vertical-align: middle;\n",
       "    }\n",
       "\n",
       "    .dataframe tbody tr th {\n",
       "        vertical-align: top;\n",
       "    }\n",
       "\n",
       "    .dataframe thead th {\n",
       "        text-align: right;\n",
       "    }\n",
       "</style>\n",
       "<table border=\"1\" class=\"dataframe\">\n",
       "  <thead>\n",
       "    <tr style=\"text-align: right;\">\n",
       "      <th></th>\n",
       "      <th>Fare</th>\n",
       "    </tr>\n",
       "    <tr>\n",
       "      <th>Survived</th>\n",
       "      <th></th>\n",
       "    </tr>\n",
       "  </thead>\n",
       "  <tbody>\n",
       "    <tr>\n",
       "      <th>0</th>\n",
       "      <td>22.117887</td>\n",
       "    </tr>\n",
       "    <tr>\n",
       "      <th>1</th>\n",
       "      <td>48.395408</td>\n",
       "    </tr>\n",
       "  </tbody>\n",
       "</table>\n",
       "</div>"
      ],
      "text/plain": [
       "               Fare\n",
       "Survived           \n",
       "0         22.117887\n",
       "1         48.395408"
      ]
     },
     "execution_count": 39,
     "metadata": {},
     "output_type": "execute_result"
    }
   ],
   "source": [
    "df[['Survived','Fare']].groupby(['Survived']).mean()"
   ]
  },
  {
   "cell_type": "code",
   "execution_count": 40,
   "id": "84ca1239-4a4d-4172-845c-37541301c967",
   "metadata": {},
   "outputs": [],
   "source": [
    "#osoby które rpzeżyły płaciły za bilet  więcej od tych co nie przeżyli"
   ]
  },
  {
   "cell_type": "code",
   "execution_count": 41,
   "id": "f394ffcc-f0fe-4f75-a52e-ecaf58569531",
   "metadata": {},
   "outputs": [],
   "source": [
    "#6. Wizualizacje"
   ]
  },
  {
   "cell_type": "code",
   "execution_count": 42,
   "id": "48425afc-cfcf-4dec-8445-3082453994c2",
   "metadata": {},
   "outputs": [],
   "source": [
    "#Jak na wykresie słupkowym  kształtuje sieudział osób które przeżyły katastrofęz podziałem na płeć"
   ]
  },
  {
   "cell_type": "code",
   "execution_count": 43,
   "id": "dc51956d-427a-4c37-b9f2-8a49ae258a99",
   "metadata": {},
   "outputs": [
    {
     "data": {
      "image/png": "[encoded data removed]",
      "text/plain": [
       "<Figure size 640x480 with 1 Axes>"
      ]
     },
     "metadata": {},
     "output_type": "display_data"
    }
   ],
   "source": [
    "sns.barplot(x='Sex', y='Survived', data=df, palette = 'inferno')\n",
    "plt.show()"
   ]
  },
  {
   "cell_type": "code",
   "execution_count": 44,
   "id": "d805853d-e301-4d58-8259-34bbccabc364",
   "metadata": {},
   "outputs": [
    {
     "data": {
      "text/html": [
       "<div>\n",
       "<style scoped>\n",
       "    .dataframe tbody tr th:only-of-type {\n",
       "        vertical-align: middle;\n",
       "    }\n",
       "\n",
       "    .dataframe tbody tr th {\n",
       "        vertical-align: top;\n",
       "    }\n",
       "\n",
       "    .dataframe thead th {\n",
       "        text-align: right;\n",
       "    }\n",
       "</style>\n",
       "<table border=\"1\" class=\"dataframe\">\n",
       "  <thead>\n",
       "    <tr style=\"text-align: right;\">\n",
       "      <th></th>\n",
       "      <th>Survived</th>\n",
       "    </tr>\n",
       "    <tr>\n",
       "      <th>Sex</th>\n",
       "      <th></th>\n",
       "    </tr>\n",
       "  </thead>\n",
       "  <tbody>\n",
       "    <tr>\n",
       "      <th>female</th>\n",
       "      <td>0.742038</td>\n",
       "    </tr>\n",
       "    <tr>\n",
       "      <th>male</th>\n",
       "      <td>0.188908</td>\n",
       "    </tr>\n",
       "  </tbody>\n",
       "</table>\n",
       "</div>"
      ],
      "text/plain": [
       "        Survived\n",
       "Sex             \n",
       "female  0.742038\n",
       "male    0.188908"
      ]
     },
     "execution_count": 44,
     "metadata": {},
     "output_type": "execute_result"
    }
   ],
   "source": [
    "# wcześniejszej analizy odnośnie ilu mezczyzn a ile kobiet przeżył:\n",
    "df[['Survived','Sex']].groupby(['Sex']).mean()"
   ]
  },
  {
   "cell_type": "code",
   "execution_count": 45,
   "id": "2634cc7e-fea7-4e58-bacb-6692953fc428",
   "metadata": {},
   "outputs": [],
   "source": [
    "#Dane te sie potwierdziły"
   ]
  },
  {
   "cell_type": "code",
   "execution_count": 46,
   "id": "1e87142f-0c23-486f-a94b-17f8a3065690",
   "metadata": {},
   "outputs": [],
   "source": [
    "#podobny wykres dla zmiennej Embarked gdzie osoba wisadała na pokład statku"
   ]
  },
  {
   "cell_type": "code",
   "execution_count": 47,
   "id": "93d548c1-62a7-4de2-a06b-508cac05bf0f",
   "metadata": {},
   "outputs": [
    {
     "data": {
      "image/png": "[encoded data removed]",
      "text/plain": [
       "<Figure size 640x480 with 1 Axes>"
      ]
     },
     "metadata": {},
     "output_type": "display_data"
    }
   ],
   "source": [
    "sns.barplot(x='Embarked', y='Survived', data=df, palette = 'inferno')\n",
    "plt.show()"
   ]
  },
  {
   "cell_type": "code",
   "execution_count": 48,
   "id": "dafe1fb4-8d1a-4c6b-bee9-8964e877be92",
   "metadata": {},
   "outputs": [
    {
     "data": {
      "text/html": [
       "<div>\n",
       "<style scoped>\n",
       "    .dataframe tbody tr th:only-of-type {\n",
       "        vertical-align: middle;\n",
       "    }\n",
       "\n",
       "    .dataframe tbody tr th {\n",
       "        vertical-align: top;\n",
       "    }\n",
       "\n",
       "    .dataframe thead th {\n",
       "        text-align: right;\n",
       "    }\n",
       "</style>\n",
       "<table border=\"1\" class=\"dataframe\">\n",
       "  <thead>\n",
       "    <tr style=\"text-align: right;\">\n",
       "      <th></th>\n",
       "      <th>Survived</th>\n",
       "    </tr>\n",
       "    <tr>\n",
       "      <th>Embarked</th>\n",
       "      <th></th>\n",
       "    </tr>\n",
       "  </thead>\n",
       "  <tbody>\n",
       "    <tr>\n",
       "      <th>C</th>\n",
       "      <td>0.553571</td>\n",
       "    </tr>\n",
       "    <tr>\n",
       "      <th>Q</th>\n",
       "      <td>0.389610</td>\n",
       "    </tr>\n",
       "    <tr>\n",
       "      <th>S</th>\n",
       "      <td>0.336957</td>\n",
       "    </tr>\n",
       "  </tbody>\n",
       "</table>\n",
       "</div>"
      ],
      "text/plain": [
       "          Survived\n",
       "Embarked          \n",
       "C         0.553571\n",
       "Q         0.389610\n",
       "S         0.336957"
      ]
     },
     "execution_count": 48,
     "metadata": {},
     "output_type": "execute_result"
    }
   ],
   "source": [
    "#analogicznie do tych danych odnosnie kto rpzeżyl wg portów gdzie wsiadali z punktu 3\n",
    "df[['Survived','Embarked']].groupby(['Embarked']).mean()"
   ]
  },
  {
   "cell_type": "code",
   "execution_count": 49,
   "id": "07bc6c46-a6e3-43db-8610-107e688fdde6",
   "metadata": {},
   "outputs": [
    {
     "data": {
      "image/png": "[encoded data removed]",
      "text/plain": [
       "<Figure size 640x480 with 1 Axes>"
      ]
     },
     "metadata": {},
     "output_type": "display_data"
    }
   ],
   "source": [
    "#łączymy teraz 3 zmienne\n",
    "#analogicznie do tych danych odnosnie kto rpzeżyl wg portów gdzie wsiadali z punktu 3\n",
    "sns.barplot(x='Embarked', y='Survived', hue='Sex', data=df, palette = 'inferno')\n",
    "plt.show()"
   ]
  },
  {
   "cell_type": "code",
   "execution_count": 50,
   "id": "a43bfa71-d2f1-43f6-905b-2c9f4a02b629",
   "metadata": {},
   "outputs": [],
   "source": [
    "# wkróym porcie według płci był największy odsetek ludzi co przeżyli katastrofę.Dla portu C najwiecej kobiet \n",
    "#przeżyło adla Q najmniej mężczyzn przeżyło"
   ]
  },
  {
   "cell_type": "code",
   "execution_count": 51,
   "id": "686e5f35-d27f-4d31-897e-fabebeed515a",
   "metadata": {},
   "outputs": [],
   "source": [
    "#Wykorzystamy wkyres FacetGrid z seaborn pokaże on rozkłady wybranej zmiennej numerycznej w podziale na kategorie zmiennej celu.\n",
    "#Zobaczymy czy te rozkłady się róznią."
   ]
  },
  {
   "cell_type": "code",
   "execution_count": 52,
   "id": "7260139e-6387-4ad8-8f3f-831a5c91d80e",
   "metadata": {},
   "outputs": [
    {
     "data": {
      "image/png": "[encoded data removed]",
      "text/plain": [
       "<Figure size 600x300 with 2 Axes>"
      ]
     },
     "metadata": {},
     "output_type": "display_data"
    }
   ],
   "source": [
    "mapa=sns.FacetGrid(df,col=\"Survived\")\n",
    "mapa.map(plt.hist, 'Fare')\n",
    "plt.show()"
   ]
  },
  {
   "cell_type": "code",
   "execution_count": 53,
   "id": "d727230f-ac91-4068-9ac7-978752017e81",
   "metadata": {},
   "outputs": [],
   "source": [
    "#Sporo tych co nie przeżył katastrofy kupiło tanie bilety. Ci co przeżyli zapłacili wiecej za bilety"
   ]
  },
  {
   "cell_type": "code",
   "execution_count": 54,
   "id": "97bd26ab-b3e5-42ba-b807-20639b6bafe5",
   "metadata": {},
   "outputs": [],
   "source": [
    "#Podobny wykres dla zmiennej wiek Age\n"
   ]
  },
  {
   "cell_type": "code",
   "execution_count": 55,
   "id": "84208cb5-eda8-4866-9e69-91121722e967",
   "metadata": {},
   "outputs": [
    {
     "data": {
      "image/png": "[encoded data removed]",
      "text/plain": [
       "<Figure size 600x300 with 2 Axes>"
      ]
     },
     "metadata": {},
     "output_type": "display_data"
    }
   ],
   "source": [
    "mapa=sns.FacetGrid(df,col=\"Survived\")\n",
    "mapa.map(plt.hist, 'Age')\n",
    "plt.show()"
   ]
  },
  {
   "cell_type": "code",
   "execution_count": 56,
   "id": "b5f59d76-9efe-4221-bdde-6b5f8a927541",
   "metadata": {},
   "outputs": [],
   "source": [
    "#najwięcej przeżyło luzi miedzy 20-30 rok życia a najwięcej zmarło między19 a 30."
   ]
  },
  {
   "cell_type": "code",
   "execution_count": 57,
   "id": "44923701-4c2f-4a8e-90fb-aa3dc738df73",
   "metadata": {},
   "outputs": [],
   "source": [
    "#7 ogólna analiza zmiennych objasniających zmiennych jakosciowych i ilościowych"
   ]
  },
  {
   "cell_type": "code",
   "execution_count": 58,
   "id": "b2195227-dec6-43bf-8c53-62b90b00a430",
   "metadata": {},
   "outputs": [],
   "source": [
    "#Sprawdzenie rozkłądu zmiennych jakosciowych- sprawdzenie rozkładu liczebnosci poszcególnych zmiennych za pomocą metody value_counts()"
   ]
  },
  {
   "cell_type": "code",
   "execution_count": 59,
   "id": "4214112b-5982-4e90-af72-8e7c3475af18",
   "metadata": {},
   "outputs": [
    {
     "data": {
      "text/html": [
       "<div>\n",
       "<style scoped>\n",
       "    .dataframe tbody tr th:only-of-type {\n",
       "        vertical-align: middle;\n",
       "    }\n",
       "\n",
       "    .dataframe tbody tr th {\n",
       "        vertical-align: top;\n",
       "    }\n",
       "\n",
       "    .dataframe thead th {\n",
       "        text-align: right;\n",
       "    }\n",
       "</style>\n",
       "<table border=\"1\" class=\"dataframe\">\n",
       "  <thead>\n",
       "    <tr style=\"text-align: right;\">\n",
       "      <th></th>\n",
       "      <th>PassengerId</th>\n",
       "      <th>Survived</th>\n",
       "      <th>Pclass</th>\n",
       "      <th>Name</th>\n",
       "      <th>Sex</th>\n",
       "      <th>Age</th>\n",
       "      <th>SibSp</th>\n",
       "      <th>Parch</th>\n",
       "      <th>Ticket</th>\n",
       "      <th>Fare</th>\n",
       "      <th>Cabin</th>\n",
       "      <th>Embarked</th>\n",
       "    </tr>\n",
       "  </thead>\n",
       "  <tbody>\n",
       "    <tr>\n",
       "      <th>0</th>\n",
       "      <td>1</td>\n",
       "      <td>0</td>\n",
       "      <td>3</td>\n",
       "      <td>Braund, Mr. Owen Harris</td>\n",
       "      <td>male</td>\n",
       "      <td>22.0</td>\n",
       "      <td>1</td>\n",
       "      <td>0</td>\n",
       "      <td>A/5 21171</td>\n",
       "      <td>7.2500</td>\n",
       "      <td>NaN</td>\n",
       "      <td>S</td>\n",
       "    </tr>\n",
       "    <tr>\n",
       "      <th>1</th>\n",
       "      <td>2</td>\n",
       "      <td>1</td>\n",
       "      <td>1</td>\n",
       "      <td>Cumings, Mrs. John Bradley (Florence Briggs Th...</td>\n",
       "      <td>female</td>\n",
       "      <td>38.0</td>\n",
       "      <td>1</td>\n",
       "      <td>0</td>\n",
       "      <td>PC 17599</td>\n",
       "      <td>71.2833</td>\n",
       "      <td>C85</td>\n",
       "      <td>C</td>\n",
       "    </tr>\n",
       "    <tr>\n",
       "      <th>2</th>\n",
       "      <td>3</td>\n",
       "      <td>1</td>\n",
       "      <td>3</td>\n",
       "      <td>Heikkinen, Miss. Laina</td>\n",
       "      <td>female</td>\n",
       "      <td>26.0</td>\n",
       "      <td>0</td>\n",
       "      <td>0</td>\n",
       "      <td>STON/O2. 3101282</td>\n",
       "      <td>7.9250</td>\n",
       "      <td>NaN</td>\n",
       "      <td>S</td>\n",
       "    </tr>\n",
       "    <tr>\n",
       "      <th>3</th>\n",
       "      <td>4</td>\n",
       "      <td>1</td>\n",
       "      <td>1</td>\n",
       "      <td>Futrelle, Mrs. Jacques Heath (Lily May Peel)</td>\n",
       "      <td>female</td>\n",
       "      <td>35.0</td>\n",
       "      <td>1</td>\n",
       "      <td>0</td>\n",
       "      <td>113803</td>\n",
       "      <td>53.1000</td>\n",
       "      <td>C123</td>\n",
       "      <td>S</td>\n",
       "    </tr>\n",
       "    <tr>\n",
       "      <th>4</th>\n",
       "      <td>5</td>\n",
       "      <td>0</td>\n",
       "      <td>3</td>\n",
       "      <td>Allen, Mr. William Henry</td>\n",
       "      <td>male</td>\n",
       "      <td>35.0</td>\n",
       "      <td>0</td>\n",
       "      <td>0</td>\n",
       "      <td>373450</td>\n",
       "      <td>8.0500</td>\n",
       "      <td>NaN</td>\n",
       "      <td>S</td>\n",
       "    </tr>\n",
       "  </tbody>\n",
       "</table>\n",
       "</div>"
      ],
      "text/plain": [
       "   PassengerId  Survived  Pclass  \\\n",
       "0            1         0       3   \n",
       "1            2         1       1   \n",
       "2            3         1       3   \n",
       "3            4         1       1   \n",
       "4            5         0       3   \n",
       "\n",
       "                                                Name     Sex   Age  SibSp  \\\n",
       "0                            Braund, Mr. Owen Harris    male  22.0      1   \n",
       "1  Cumings, Mrs. John Bradley (Florence Briggs Th...  female  38.0      1   \n",
       "2                             Heikkinen, Miss. Laina  female  26.0      0   \n",
       "3       Futrelle, Mrs. Jacques Heath (Lily May Peel)  female  35.0      1   \n",
       "4                           Allen, Mr. William Henry    male  35.0      0   \n",
       "\n",
       "   Parch            Ticket     Fare Cabin Embarked  \n",
       "0      0         A/5 21171   7.2500   NaN        S  \n",
       "1      0          PC 17599  71.2833   C85        C  \n",
       "2      0  STON/O2. 3101282   7.9250   NaN        S  \n",
       "3      0            113803  53.1000  C123        S  \n",
       "4      0            373450   8.0500   NaN        S  "
      ]
     },
     "execution_count": 59,
     "metadata": {},
     "output_type": "execute_result"
    }
   ],
   "source": [
    "df.head()"
   ]
  },
  {
   "cell_type": "code",
   "execution_count": 60,
   "id": "badfd9da-5840-40b8-9318-f9b8714e5d41",
   "metadata": {},
   "outputs": [],
   "source": [
    "#przypominam zmienne"
   ]
  },
  {
   "cell_type": "code",
   "execution_count": 61,
   "id": "a9bea0c3-bf98-4a07-af0d-54b0a908cef0",
   "metadata": {},
   "outputs": [
    {
     "name": "stdout",
     "output_type": "stream",
     "text": [
      "Pclass\n",
      "3    491\n",
      "1    216\n",
      "2    184\n",
      "Name: count, dtype: int64\n",
      " \n",
      "Sex\n",
      "male      577\n",
      "female    314\n",
      "Name: count, dtype: int64\n",
      " \n",
      "SibSp\n",
      "0    608\n",
      "1    209\n",
      "2     28\n",
      "4     18\n",
      "3     16\n",
      "8      7\n",
      "5      5\n",
      "Name: count, dtype: int64\n",
      " \n",
      "Parch\n",
      "0    678\n",
      "1    118\n",
      "2     80\n",
      "5      5\n",
      "3      5\n",
      "4      4\n",
      "6      1\n",
      "Name: count, dtype: int64\n",
      " \n",
      "Embarked\n",
      "S    644\n",
      "C    168\n",
      "Q     77\n",
      "Name: count, dtype: int64\n",
      " \n"
     ]
    }
   ],
   "source": [
    "#tworzę lsite zmiennych kategorycznych\n",
    "chars =['Pclass', 'Sex','SibSp', 'Parch', 'Embarked']\n",
    "for i in chars:\n",
    "    print(df[i].value_counts())\n",
    "    print(' ')"
   ]
  },
  {
   "cell_type": "code",
   "execution_count": 62,
   "id": "b73cbc1d-4889-45d8-a202-fa07248b6607",
   "metadata": {},
   "outputs": [],
   "source": [
    "#jeśli sa małoliczne kategorie to się zastanowić sie trzeba czy poxniej nie chcemy ich połaczyć"
   ]
  },
  {
   "cell_type": "code",
   "execution_count": 63,
   "id": "58ebdd65-84c0-41b8-91c1-4669fa360248",
   "metadata": {},
   "outputs": [],
   "source": [
    "#SibSp\n",
    "#Dla osób z dużą liczbą rodzeństwa 5-8 jest malo tych osób i to można ew połaczyć a nawet jeszcze z 3+\n",
    "#0    608\n",
    "#1    209\n",
    "#2     28\n",
    "#4     18\n",
    "#3     16\n",
    "#8      7\n",
    "#5      5\n",
    "#Name: count, dtype: int64"
   ]
  },
  {
   "cell_type": "code",
   "execution_count": 64,
   "id": "55f48ae9-34f4-42f9-8c10-ea36ddda4c86",
   "metadata": {},
   "outputs": [],
   "source": [
    "#Parch\n",
    "#0    678\n",
    "#1    118\n",
    "#2     80\n",
    "#5      5\n",
    "#3      5\n",
    "#4      4\n",
    "#6      1\n",
    "#Name: count, dtype: int64 podobnie dla Parch i 6,5,4,3 sa małe liczebnosci i mozna dołaczyć do 2"
   ]
  },
  {
   "cell_type": "code",
   "execution_count": 65,
   "id": "610d838d-c1ba-48e4-af29-8ae543ae9d2b",
   "metadata": {},
   "outputs": [],
   "source": [
    "# w embarked nic nie robimy"
   ]
  },
  {
   "cell_type": "code",
   "execution_count": 66,
   "id": "c1c500b1-4ba1-4761-bbcf-d2773f76340d",
   "metadata": {},
   "outputs": [],
   "source": [
    "#Zmienne ilościowe\n"
   ]
  },
  {
   "cell_type": "code",
   "execution_count": 67,
   "id": "6ee69afd-e109-473c-b5a5-33537bbaf8d6",
   "metadata": {},
   "outputs": [],
   "source": [
    "nums =['Age','Fare']"
   ]
  },
  {
   "cell_type": "code",
   "execution_count": 68,
   "id": "61878581-4445-431c-98d6-5ada312aa2fd",
   "metadata": {},
   "outputs": [
    {
     "name": "stderr",
     "output_type": "stream",
     "text": [
      "C:\\Anaconda\\Lib\\site-packages\\seaborn\\_oldcore.py:1119: FutureWarning: use_inf_as_na option is deprecated and will be removed in a future version. Convert inf values to NaN before operating instead.\n",
      "  with pd.option_context('mode.use_inf_as_na', True):\n"
     ]
    },
    {
     "data": {
      "image/png": "[encoded data removed]",
      "text/plain": [
       "<Figure size 640x480 with 1 Axes>"
      ]
     },
     "metadata": {},
     "output_type": "display_data"
    },
    {
     "name": "stderr",
     "output_type": "stream",
     "text": [
      "C:\\Anaconda\\Lib\\site-packages\\seaborn\\_oldcore.py:1119: FutureWarning: use_inf_as_na option is deprecated and will be removed in a future version. Convert inf values to NaN before operating instead.\n",
      "  with pd.option_context('mode.use_inf_as_na', True):\n"
     ]
    },
    {
     "data": {
      "image/png": "[encoded data removed]",
      "text/plain": [
       "<Figure size 640x480 with 1 Axes>"
      ]
     },
     "metadata": {},
     "output_type": "display_data"
    }
   ],
   "source": [
    "for i in nums:\n",
    "    sns.histplot(df[i])\n",
    "    plt.show()"
   ]
  },
  {
   "cell_type": "code",
   "execution_count": 69,
   "id": "40eb3e24-e7fe-4517-bfb5-2bfcc7d5c23d",
   "metadata": {},
   "outputs": [],
   "source": [
    "#bardzo dużo osób płaciło mało za bilet mało ale wiecej też jest rozkład"
   ]
  },
  {
   "cell_type": "code",
   "execution_count": 70,
   "id": "35720660-48ef-46d6-9c40-74736fd8762e",
   "metadata": {},
   "outputs": [],
   "source": [
    "#8. transformacja zmiennych Feature engineering transformacja zmiennych do uzyskania lepszej inforacji odnosnie zmiennych."
   ]
  },
  {
   "cell_type": "code",
   "execution_count": 71,
   "id": "e2affa5e-6a4b-456c-a73b-b87a2a148555",
   "metadata": {},
   "outputs": [],
   "source": [
    "#Usuwany nie potrzebne zmienne:"
   ]
  },
  {
   "cell_type": "code",
   "execution_count": 72,
   "id": "6e3232a7-a3a6-4983-a109-cc9c01978dd8",
   "metadata": {},
   "outputs": [
    {
     "data": {
      "text/html": [
       "<div>\n",
       "<style scoped>\n",
       "    .dataframe tbody tr th:only-of-type {\n",
       "        vertical-align: middle;\n",
       "    }\n",
       "\n",
       "    .dataframe tbody tr th {\n",
       "        vertical-align: top;\n",
       "    }\n",
       "\n",
       "    .dataframe thead th {\n",
       "        text-align: right;\n",
       "    }\n",
       "</style>\n",
       "<table border=\"1\" class=\"dataframe\">\n",
       "  <thead>\n",
       "    <tr style=\"text-align: right;\">\n",
       "      <th></th>\n",
       "      <th>PassengerId</th>\n",
       "      <th>Survived</th>\n",
       "      <th>Pclass</th>\n",
       "      <th>Name</th>\n",
       "      <th>Sex</th>\n",
       "      <th>Age</th>\n",
       "      <th>SibSp</th>\n",
       "      <th>Parch</th>\n",
       "      <th>Ticket</th>\n",
       "      <th>Fare</th>\n",
       "      <th>Cabin</th>\n",
       "      <th>Embarked</th>\n",
       "    </tr>\n",
       "  </thead>\n",
       "  <tbody>\n",
       "    <tr>\n",
       "      <th>0</th>\n",
       "      <td>1</td>\n",
       "      <td>0</td>\n",
       "      <td>3</td>\n",
       "      <td>Braund, Mr. Owen Harris</td>\n",
       "      <td>male</td>\n",
       "      <td>22.0</td>\n",
       "      <td>1</td>\n",
       "      <td>0</td>\n",
       "      <td>A/5 21171</td>\n",
       "      <td>7.2500</td>\n",
       "      <td>NaN</td>\n",
       "      <td>S</td>\n",
       "    </tr>\n",
       "    <tr>\n",
       "      <th>1</th>\n",
       "      <td>2</td>\n",
       "      <td>1</td>\n",
       "      <td>1</td>\n",
       "      <td>Cumings, Mrs. John Bradley (Florence Briggs Th...</td>\n",
       "      <td>female</td>\n",
       "      <td>38.0</td>\n",
       "      <td>1</td>\n",
       "      <td>0</td>\n",
       "      <td>PC 17599</td>\n",
       "      <td>71.2833</td>\n",
       "      <td>C85</td>\n",
       "      <td>C</td>\n",
       "    </tr>\n",
       "    <tr>\n",
       "      <th>2</th>\n",
       "      <td>3</td>\n",
       "      <td>1</td>\n",
       "      <td>3</td>\n",
       "      <td>Heikkinen, Miss. Laina</td>\n",
       "      <td>female</td>\n",
       "      <td>26.0</td>\n",
       "      <td>0</td>\n",
       "      <td>0</td>\n",
       "      <td>STON/O2. 3101282</td>\n",
       "      <td>7.9250</td>\n",
       "      <td>NaN</td>\n",
       "      <td>S</td>\n",
       "    </tr>\n",
       "    <tr>\n",
       "      <th>3</th>\n",
       "      <td>4</td>\n",
       "      <td>1</td>\n",
       "      <td>1</td>\n",
       "      <td>Futrelle, Mrs. Jacques Heath (Lily May Peel)</td>\n",
       "      <td>female</td>\n",
       "      <td>35.0</td>\n",
       "      <td>1</td>\n",
       "      <td>0</td>\n",
       "      <td>113803</td>\n",
       "      <td>53.1000</td>\n",
       "      <td>C123</td>\n",
       "      <td>S</td>\n",
       "    </tr>\n",
       "    <tr>\n",
       "      <th>4</th>\n",
       "      <td>5</td>\n",
       "      <td>0</td>\n",
       "      <td>3</td>\n",
       "      <td>Allen, Mr. William Henry</td>\n",
       "      <td>male</td>\n",
       "      <td>35.0</td>\n",
       "      <td>0</td>\n",
       "      <td>0</td>\n",
       "      <td>373450</td>\n",
       "      <td>8.0500</td>\n",
       "      <td>NaN</td>\n",
       "      <td>S</td>\n",
       "    </tr>\n",
       "  </tbody>\n",
       "</table>\n",
       "</div>"
      ],
      "text/plain": [
       "   PassengerId  Survived  Pclass  \\\n",
       "0            1         0       3   \n",
       "1            2         1       1   \n",
       "2            3         1       3   \n",
       "3            4         1       1   \n",
       "4            5         0       3   \n",
       "\n",
       "                                                Name     Sex   Age  SibSp  \\\n",
       "0                            Braund, Mr. Owen Harris    male  22.0      1   \n",
       "1  Cumings, Mrs. John Bradley (Florence Briggs Th...  female  38.0      1   \n",
       "2                             Heikkinen, Miss. Laina  female  26.0      0   \n",
       "3       Futrelle, Mrs. Jacques Heath (Lily May Peel)  female  35.0      1   \n",
       "4                           Allen, Mr. William Henry    male  35.0      0   \n",
       "\n",
       "   Parch            Ticket     Fare Cabin Embarked  \n",
       "0      0         A/5 21171   7.2500   NaN        S  \n",
       "1      0          PC 17599  71.2833   C85        C  \n",
       "2      0  STON/O2. 3101282   7.9250   NaN        S  \n",
       "3      0            113803  53.1000  C123        S  \n",
       "4      0            373450   8.0500   NaN        S  "
      ]
     },
     "execution_count": 72,
     "metadata": {},
     "output_type": "execute_result"
    }
   ],
   "source": [
    "df.head()"
   ]
  },
  {
   "cell_type": "code",
   "execution_count": 73,
   "id": "39b6ffc6-6b06-46fa-a962-8f65c8862279",
   "metadata": {},
   "outputs": [],
   "source": [
    "# nie potrzebujemy passenger Id, ticket oraz Cabin "
   ]
  },
  {
   "cell_type": "code",
   "execution_count": 74,
   "id": "1da615e5-e83c-44df-9b9c-66ace9ffe5df",
   "metadata": {},
   "outputs": [],
   "source": [
    "#Z tych wartości nic sensownego nie wyciągniemy."
   ]
  },
  {
   "cell_type": "code",
   "execution_count": 75,
   "id": "79688c51-7206-4583-993e-1864613bb593",
   "metadata": {},
   "outputs": [],
   "source": [
    "#Zmienna name zostawiamy bo da sie wyciagnąc cos ciekaego"
   ]
  },
  {
   "cell_type": "code",
   "execution_count": 76,
   "id": "57c1c43e-e423-46cd-8c43-2e75214f9ac5",
   "metadata": {},
   "outputs": [],
   "source": [
    "df.drop(['PassengerId', 'Ticket', 'Cabin'], axis=1, inplace=True) #usuwamy klumny a nie wiersze axis=1 inplace=true usuniecie przypisane do danych df"
   ]
  },
  {
   "cell_type": "code",
   "execution_count": 77,
   "id": "0109b6b3-ae9d-4007-a863-2a3985bbe0bf",
   "metadata": {},
   "outputs": [
    {
     "data": {
      "text/plain": [
       "Index(['Survived', 'Pclass', 'Name', 'Sex', 'Age', 'SibSp', 'Parch', 'Fare',\n",
       "       'Embarked'],\n",
       "      dtype='object')"
      ]
     },
     "execution_count": 77,
     "metadata": {},
     "output_type": "execute_result"
    }
   ],
   "source": [
    "df.columns"
   ]
  },
  {
   "cell_type": "code",
   "execution_count": 78,
   "id": "db669a0b-a7a4-4359-a11a-beb19f35ef8d",
   "metadata": {},
   "outputs": [],
   "source": [
    "#transformacja zmiennych "
   ]
  },
  {
   "cell_type": "code",
   "execution_count": 79,
   "id": "bbbcc02e-cafa-44e3-9a15-7389d4218017",
   "metadata": {},
   "outputs": [],
   "source": [
    "#Parch SibSp moga być zmiennymi kategorycznymi i niektóre kategorie są małoliczne."
   ]
  },
  {
   "cell_type": "code",
   "execution_count": 80,
   "id": "fa1332c4-47ee-4bd2-8ed6-bc875fbe3c70",
   "metadata": {},
   "outputs": [],
   "source": [
    "#sprawdzamy Parch"
   ]
  },
  {
   "cell_type": "code",
   "execution_count": 81,
   "id": "4bc06b76-da5d-4bf9-9f78-79361e76384a",
   "metadata": {},
   "outputs": [
    {
     "data": {
      "text/plain": [
       "Parch\n",
       "0    678\n",
       "1    118\n",
       "2     80\n",
       "5      5\n",
       "3      5\n",
       "4      4\n",
       "6      1\n",
       "Name: count, dtype: int64"
      ]
     },
     "execution_count": 81,
     "metadata": {},
     "output_type": "execute_result"
    }
   ],
   "source": [
    "df['Parch'].value_counts() #sprawzamy jak wyglada zmienna "
   ]
  },
  {
   "cell_type": "code",
   "execution_count": 82,
   "id": "8959fb85-85e8-45f0-9c2a-4e48534440b9",
   "metadata": {},
   "outputs": [],
   "source": [
    "#dla 3,4,5,6 obserwacji jest bardzo mało model się nie nauczy na kilku lub jednej obserwacji.\n",
    "#Łaczymy wtedy kategorie w bardziej sensowny sposób"
   ]
  },
  {
   "cell_type": "code",
   "execution_count": 83,
   "id": "21824ee3-fe6b-464a-9769-607ff1b7ee09",
   "metadata": {},
   "outputs": [],
   "source": [
    "#0 i 1 zostawimy a od 2 do 6 połaczymy wjedną kategorię.\n",
    "#nadpisujemy zmienną parch używając funkcje np where\n",
    "#jak parch >1 przypiszemyw artośc 2+ a jak nie to wartość zmiennej parch"
   ]
  },
  {
   "cell_type": "code",
   "execution_count": 84,
   "id": "dd2708c3-1fb3-4f16-9e33-08bf6d8873d4",
   "metadata": {},
   "outputs": [],
   "source": [
    "df['Parch'] = np.where(df['Parch']>1,'2+', df['Parch'])"
   ]
  },
  {
   "cell_type": "code",
   "execution_count": 85,
   "id": "3e318a61-0a42-4c25-a68f-d5b72af9c956",
   "metadata": {},
   "outputs": [
    {
     "data": {
      "text/plain": [
       "Parch\n",
       "0     678\n",
       "1     118\n",
       "2+     95\n",
       "Name: count, dtype: int64"
      ]
     },
     "execution_count": 85,
     "metadata": {},
     "output_type": "execute_result"
    }
   ],
   "source": [
    "#Sprawdzamy\n",
    "df['Parch'].value_counts()"
   ]
  },
  {
   "cell_type": "code",
   "execution_count": 86,
   "id": "b245a655-bca9-49c9-9a54-540944c3429c",
   "metadata": {},
   "outputs": [],
   "source": [
    "#Sprawdzamy jak kształtuje sie zmienna SibSp"
   ]
  },
  {
   "cell_type": "code",
   "execution_count": 87,
   "id": "944f93e0-d1f6-4c5f-8c57-bb9a3a6a1f78",
   "metadata": {},
   "outputs": [
    {
     "data": {
      "text/plain": [
       "SibSp\n",
       "0    608\n",
       "1    209\n",
       "2     28\n",
       "4     18\n",
       "3     16\n",
       "8      7\n",
       "5      5\n",
       "Name: count, dtype: int64"
      ]
     },
     "execution_count": 87,
     "metadata": {},
     "output_type": "execute_result"
    }
   ],
   "source": [
    "df['SibSp'].value_counts()"
   ]
  },
  {
   "cell_type": "code",
   "execution_count": 88,
   "id": "66016768-7741-4175-912b-382873095448",
   "metadata": {},
   "outputs": [],
   "source": [
    "df['SibSp'] = np.where(df['SibSp'] >1,'2+',df['SibSp'])"
   ]
  },
  {
   "cell_type": "code",
   "execution_count": 89,
   "id": "ebc5e758-e47f-445f-b2f3-24ffdce1b6c5",
   "metadata": {},
   "outputs": [
    {
     "data": {
      "text/plain": [
       "SibSp\n",
       "0     608\n",
       "1     209\n",
       "2+     74\n",
       "Name: count, dtype: int64"
      ]
     },
     "execution_count": 89,
     "metadata": {},
     "output_type": "execute_result"
    }
   ],
   "source": [
    "df['SibSp'].value_counts()"
   ]
  },
  {
   "cell_type": "code",
   "execution_count": 90,
   "id": "a5897d82-52ce-4726-b6eb-92dfa8ef19d8",
   "metadata": {},
   "outputs": [
    {
     "data": {
      "text/plain": [
       "0                                Braund, Mr. Owen Harris\n",
       "1      Cumings, Mrs. John Bradley (Florence Briggs Th...\n",
       "2                                 Heikkinen, Miss. Laina\n",
       "3           Futrelle, Mrs. Jacques Heath (Lily May Peel)\n",
       "4                               Allen, Mr. William Henry\n",
       "                             ...                        \n",
       "886                                Montvila, Rev. Juozas\n",
       "887                         Graham, Miss. Margaret Edith\n",
       "888             Johnston, Miss. Catherine Helen \"Carrie\"\n",
       "889                                Behr, Mr. Karl Howell\n",
       "890                                  Dooley, Mr. Patrick\n",
       "Name: Name, Length: 891, dtype: object"
      ]
     },
     "execution_count": 90,
     "metadata": {},
     "output_type": "execute_result"
    }
   ],
   "source": [
    "#transformacja zmiennej Name\n",
    "df['Name']"
   ]
  },
  {
   "cell_type": "code",
   "execution_count": 91,
   "id": "df54195d-1e4c-40ff-9068-a0b7713def56",
   "metadata": {},
   "outputs": [],
   "source": [
    "#mamy tu imięnazwisko, plec, czy osoba jest zamęzna czy nie. To można wyciagnąc z tych danych.Wiekszośc kobiet z wyższej klasy przeżyło katastrofe a przynajmniej wiecej kobiet niż mężczyzn."
   ]
  },
  {
   "cell_type": "code",
   "execution_count": 92,
   "id": "ad1346bb-25ba-4186-9b62-edf7b7699067",
   "metadata": {},
   "outputs": [],
   "source": [
    "#Aby znależć płeć szukamy tytułu Mr/MRs Miss itd"
   ]
  },
  {
   "cell_type": "code",
   "execution_count": 93,
   "id": "523dd58a-03d1-4dd7-91ef-7408b79e69fd",
   "metadata": {},
   "outputs": [
    {
     "data": {
      "text/plain": [
       "'Braund, Mr. Owen Harris'"
      ]
     },
     "execution_count": 93,
     "metadata": {},
     "output_type": "execute_result"
    }
   ],
   "source": [
    "df['Name'].loc[0]"
   ]
  },
  {
   "cell_type": "code",
   "execution_count": 94,
   "id": "550b3271-5039-4969-9c23-db78484441cb",
   "metadata": {},
   "outputs": [
    {
     "data": {
      "text/plain": [
       "['Braund', ' Mr. Owen Harris']"
      ]
     },
     "execution_count": 94,
     "metadata": {},
     "output_type": "execute_result"
    }
   ],
   "source": [
    "df['Name'].loc[0].split(',')"
   ]
  },
  {
   "cell_type": "code",
   "execution_count": 95,
   "id": "7c3b1769-3853-45e8-a3d7-47b766cd8889",
   "metadata": {},
   "outputs": [
    {
     "data": {
      "text/plain": [
       "' Mr. Owen Harris'"
      ]
     },
     "execution_count": 95,
     "metadata": {},
     "output_type": "execute_result"
    }
   ],
   "source": [
    "df['Name'].loc[0].split(',')[1]"
   ]
  },
  {
   "cell_type": "code",
   "execution_count": 96,
   "id": "c5de090f-2431-4512-91fc-ed00b3b5cbb1",
   "metadata": {},
   "outputs": [
    {
     "data": {
      "text/plain": [
       "[' Mr', ' Owen Harris']"
      ]
     },
     "execution_count": 96,
     "metadata": {},
     "output_type": "execute_result"
    }
   ],
   "source": [
    "df['Name'].loc[0].split(',')[1].split('.')"
   ]
  },
  {
   "cell_type": "code",
   "execution_count": 97,
   "id": "f45226a6-5523-4dda-a83b-31a09417d5e4",
   "metadata": {},
   "outputs": [
    {
     "data": {
      "text/plain": [
       "' Mr'"
      ]
     },
     "execution_count": 97,
     "metadata": {},
     "output_type": "execute_result"
    }
   ],
   "source": [
    "df['Name'].loc[0].split(',')[1].split('.')[0]"
   ]
  },
  {
   "cell_type": "code",
   "execution_count": 98,
   "id": "ac7ec205-c316-4b4e-8de7-85511aa9e15d",
   "metadata": {},
   "outputs": [
    {
     "data": {
      "text/plain": [
       "'Mr'"
      ]
     },
     "execution_count": 98,
     "metadata": {},
     "output_type": "execute_result"
    }
   ],
   "source": [
    "df['Name'].loc[0].split(',')[1].split('.')[0].strip()"
   ]
  },
  {
   "cell_type": "code",
   "execution_count": 99,
   "id": "eaf8c858-1730-472c-b18a-74b3ccadd7a4",
   "metadata": {},
   "outputs": [],
   "source": [
    "#wykorzystujemy lambda dos tworzenai nowej lini z danymi"
   ]
  },
  {
   "cell_type": "code",
   "execution_count": 100,
   "id": "7c9b8c71-fcec-411d-89ba-fbe05470529b",
   "metadata": {},
   "outputs": [],
   "source": [
    "df['Title'] = df['Name'].apply(lambda x:x.split(',')[1].split('.')[0].strip() )"
   ]
  },
  {
   "cell_type": "code",
   "execution_count": 101,
   "id": "e3181cd0-b0e9-4537-a7d0-b22df3f39e35",
   "metadata": {},
   "outputs": [
    {
     "data": {
      "text/html": [
       "<div>\n",
       "<style scoped>\n",
       "    .dataframe tbody tr th:only-of-type {\n",
       "        vertical-align: middle;\n",
       "    }\n",
       "\n",
       "    .dataframe tbody tr th {\n",
       "        vertical-align: top;\n",
       "    }\n",
       "\n",
       "    .dataframe thead th {\n",
       "        text-align: right;\n",
       "    }\n",
       "</style>\n",
       "<table border=\"1\" class=\"dataframe\">\n",
       "  <thead>\n",
       "    <tr style=\"text-align: right;\">\n",
       "      <th></th>\n",
       "      <th>Survived</th>\n",
       "      <th>Pclass</th>\n",
       "      <th>Name</th>\n",
       "      <th>Sex</th>\n",
       "      <th>Age</th>\n",
       "      <th>SibSp</th>\n",
       "      <th>Parch</th>\n",
       "      <th>Fare</th>\n",
       "      <th>Embarked</th>\n",
       "      <th>Title</th>\n",
       "    </tr>\n",
       "  </thead>\n",
       "  <tbody>\n",
       "    <tr>\n",
       "      <th>0</th>\n",
       "      <td>0</td>\n",
       "      <td>3</td>\n",
       "      <td>Braund, Mr. Owen Harris</td>\n",
       "      <td>male</td>\n",
       "      <td>22.0</td>\n",
       "      <td>1</td>\n",
       "      <td>0</td>\n",
       "      <td>7.2500</td>\n",
       "      <td>S</td>\n",
       "      <td>Mr</td>\n",
       "    </tr>\n",
       "    <tr>\n",
       "      <th>1</th>\n",
       "      <td>1</td>\n",
       "      <td>1</td>\n",
       "      <td>Cumings, Mrs. John Bradley (Florence Briggs Th...</td>\n",
       "      <td>female</td>\n",
       "      <td>38.0</td>\n",
       "      <td>1</td>\n",
       "      <td>0</td>\n",
       "      <td>71.2833</td>\n",
       "      <td>C</td>\n",
       "      <td>Mrs</td>\n",
       "    </tr>\n",
       "    <tr>\n",
       "      <th>2</th>\n",
       "      <td>1</td>\n",
       "      <td>3</td>\n",
       "      <td>Heikkinen, Miss. Laina</td>\n",
       "      <td>female</td>\n",
       "      <td>26.0</td>\n",
       "      <td>0</td>\n",
       "      <td>0</td>\n",
       "      <td>7.9250</td>\n",
       "      <td>S</td>\n",
       "      <td>Miss</td>\n",
       "    </tr>\n",
       "    <tr>\n",
       "      <th>3</th>\n",
       "      <td>1</td>\n",
       "      <td>1</td>\n",
       "      <td>Futrelle, Mrs. Jacques Heath (Lily May Peel)</td>\n",
       "      <td>female</td>\n",
       "      <td>35.0</td>\n",
       "      <td>1</td>\n",
       "      <td>0</td>\n",
       "      <td>53.1000</td>\n",
       "      <td>S</td>\n",
       "      <td>Mrs</td>\n",
       "    </tr>\n",
       "    <tr>\n",
       "      <th>4</th>\n",
       "      <td>0</td>\n",
       "      <td>3</td>\n",
       "      <td>Allen, Mr. William Henry</td>\n",
       "      <td>male</td>\n",
       "      <td>35.0</td>\n",
       "      <td>0</td>\n",
       "      <td>0</td>\n",
       "      <td>8.0500</td>\n",
       "      <td>S</td>\n",
       "      <td>Mr</td>\n",
       "    </tr>\n",
       "  </tbody>\n",
       "</table>\n",
       "</div>"
      ],
      "text/plain": [
       "   Survived  Pclass                                               Name  \\\n",
       "0         0       3                            Braund, Mr. Owen Harris   \n",
       "1         1       1  Cumings, Mrs. John Bradley (Florence Briggs Th...   \n",
       "2         1       3                             Heikkinen, Miss. Laina   \n",
       "3         1       1       Futrelle, Mrs. Jacques Heath (Lily May Peel)   \n",
       "4         0       3                           Allen, Mr. William Henry   \n",
       "\n",
       "      Sex   Age SibSp Parch     Fare Embarked Title  \n",
       "0    male  22.0     1     0   7.2500        S    Mr  \n",
       "1  female  38.0     1     0  71.2833        C   Mrs  \n",
       "2  female  26.0     0     0   7.9250        S  Miss  \n",
       "3  female  35.0     1     0  53.1000        S   Mrs  \n",
       "4    male  35.0     0     0   8.0500        S    Mr  "
      ]
     },
     "execution_count": 101,
     "metadata": {},
     "output_type": "execute_result"
    }
   ],
   "source": [
    "df.head()"
   ]
  },
  {
   "cell_type": "code",
   "execution_count": 102,
   "id": "4db5041b-db22-4245-8049-6beea1577f7b",
   "metadata": {},
   "outputs": [],
   "source": [
    "#zliczamy nowe wiersze"
   ]
  },
  {
   "cell_type": "code",
   "execution_count": 103,
   "id": "96cfc624-4d5d-49e5-a8e2-3bcaf0db6677",
   "metadata": {},
   "outputs": [
    {
     "data": {
      "text/plain": [
       "Title\n",
       "Mr              517\n",
       "Miss            182\n",
       "Mrs             125\n",
       "Master           40\n",
       "Dr                7\n",
       "Rev               6\n",
       "Mlle              2\n",
       "Major             2\n",
       "Col               2\n",
       "the Countess      1\n",
       "Capt              1\n",
       "Ms                1\n",
       "Sir               1\n",
       "Lady              1\n",
       "Mme               1\n",
       "Don               1\n",
       "Jonkheer          1\n",
       "Name: count, dtype: int64"
      ]
     },
     "execution_count": 103,
     "metadata": {},
     "output_type": "execute_result"
    }
   ],
   "source": [
    "df['Title'].value_counts()"
   ]
  },
  {
   "cell_type": "code",
   "execution_count": 104,
   "id": "d4636a60-e749-4421-8fcf-8b84af6edeb2",
   "metadata": {},
   "outputs": [],
   "source": [
    "#wszystko poniżej master robimy do other czyli porzadkujemy dane"
   ]
  },
  {
   "cell_type": "code",
   "execution_count": 105,
   "id": "f10a2907-6260-42e0-970a-2b00b594c33e",
   "metadata": {},
   "outputs": [],
   "source": [
    "df['Title'] = np.where(df['Title'].isin(['Mr', 'Miss', 'Mrs','Master']), df['Title'], 'Other')"
   ]
  },
  {
   "cell_type": "code",
   "execution_count": 106,
   "id": "38b0bfe2-24d6-4d37-a0ca-67f5ec5d48c2",
   "metadata": {},
   "outputs": [],
   "source": [
    "#######################jeśli df od Title zawiera się w liscie['Mr', 'Miss', 'Mrs','Master' to df['Title']inaczej to Other"
   ]
  },
  {
   "cell_type": "code",
   "execution_count": 107,
   "id": "d9bcacb4-f219-4d35-bfb1-76f4e072c1f5",
   "metadata": {},
   "outputs": [
    {
     "data": {
      "text/html": [
       "<div>\n",
       "<style scoped>\n",
       "    .dataframe tbody tr th:only-of-type {\n",
       "        vertical-align: middle;\n",
       "    }\n",
       "\n",
       "    .dataframe tbody tr th {\n",
       "        vertical-align: top;\n",
       "    }\n",
       "\n",
       "    .dataframe thead th {\n",
       "        text-align: right;\n",
       "    }\n",
       "</style>\n",
       "<table border=\"1\" class=\"dataframe\">\n",
       "  <thead>\n",
       "    <tr style=\"text-align: right;\">\n",
       "      <th></th>\n",
       "      <th>Survived</th>\n",
       "      <th>Pclass</th>\n",
       "      <th>Name</th>\n",
       "      <th>Sex</th>\n",
       "      <th>Age</th>\n",
       "      <th>SibSp</th>\n",
       "      <th>Parch</th>\n",
       "      <th>Fare</th>\n",
       "      <th>Embarked</th>\n",
       "      <th>Title</th>\n",
       "    </tr>\n",
       "  </thead>\n",
       "  <tbody>\n",
       "    <tr>\n",
       "      <th>0</th>\n",
       "      <td>0</td>\n",
       "      <td>3</td>\n",
       "      <td>Braund, Mr. Owen Harris</td>\n",
       "      <td>male</td>\n",
       "      <td>22.0</td>\n",
       "      <td>1</td>\n",
       "      <td>0</td>\n",
       "      <td>7.2500</td>\n",
       "      <td>S</td>\n",
       "      <td>Mr</td>\n",
       "    </tr>\n",
       "    <tr>\n",
       "      <th>1</th>\n",
       "      <td>1</td>\n",
       "      <td>1</td>\n",
       "      <td>Cumings, Mrs. John Bradley (Florence Briggs Th...</td>\n",
       "      <td>female</td>\n",
       "      <td>38.0</td>\n",
       "      <td>1</td>\n",
       "      <td>0</td>\n",
       "      <td>71.2833</td>\n",
       "      <td>C</td>\n",
       "      <td>Mrs</td>\n",
       "    </tr>\n",
       "    <tr>\n",
       "      <th>2</th>\n",
       "      <td>1</td>\n",
       "      <td>3</td>\n",
       "      <td>Heikkinen, Miss. Laina</td>\n",
       "      <td>female</td>\n",
       "      <td>26.0</td>\n",
       "      <td>0</td>\n",
       "      <td>0</td>\n",
       "      <td>7.9250</td>\n",
       "      <td>S</td>\n",
       "      <td>Miss</td>\n",
       "    </tr>\n",
       "    <tr>\n",
       "      <th>3</th>\n",
       "      <td>1</td>\n",
       "      <td>1</td>\n",
       "      <td>Futrelle, Mrs. Jacques Heath (Lily May Peel)</td>\n",
       "      <td>female</td>\n",
       "      <td>35.0</td>\n",
       "      <td>1</td>\n",
       "      <td>0</td>\n",
       "      <td>53.1000</td>\n",
       "      <td>S</td>\n",
       "      <td>Mrs</td>\n",
       "    </tr>\n",
       "    <tr>\n",
       "      <th>4</th>\n",
       "      <td>0</td>\n",
       "      <td>3</td>\n",
       "      <td>Allen, Mr. William Henry</td>\n",
       "      <td>male</td>\n",
       "      <td>35.0</td>\n",
       "      <td>0</td>\n",
       "      <td>0</td>\n",
       "      <td>8.0500</td>\n",
       "      <td>S</td>\n",
       "      <td>Mr</td>\n",
       "    </tr>\n",
       "  </tbody>\n",
       "</table>\n",
       "</div>"
      ],
      "text/plain": [
       "   Survived  Pclass                                               Name  \\\n",
       "0         0       3                            Braund, Mr. Owen Harris   \n",
       "1         1       1  Cumings, Mrs. John Bradley (Florence Briggs Th...   \n",
       "2         1       3                             Heikkinen, Miss. Laina   \n",
       "3         1       1       Futrelle, Mrs. Jacques Heath (Lily May Peel)   \n",
       "4         0       3                           Allen, Mr. William Henry   \n",
       "\n",
       "      Sex   Age SibSp Parch     Fare Embarked Title  \n",
       "0    male  22.0     1     0   7.2500        S    Mr  \n",
       "1  female  38.0     1     0  71.2833        C   Mrs  \n",
       "2  female  26.0     0     0   7.9250        S  Miss  \n",
       "3  female  35.0     1     0  53.1000        S   Mrs  \n",
       "4    male  35.0     0     0   8.0500        S    Mr  "
      ]
     },
     "execution_count": 107,
     "metadata": {},
     "output_type": "execute_result"
    }
   ],
   "source": [
    "df.head()"
   ]
  },
  {
   "cell_type": "code",
   "execution_count": 108,
   "id": "b1b004f7-a1f8-4a52-8d2b-ac6a4c2c70e7",
   "metadata": {},
   "outputs": [
    {
     "data": {
      "text/plain": [
       "Title\n",
       "Mr        517\n",
       "Miss      182\n",
       "Mrs       125\n",
       "Master     40\n",
       "Other      27\n",
       "Name: count, dtype: int64"
      ]
     },
     "execution_count": 108,
     "metadata": {},
     "output_type": "execute_result"
    }
   ],
   "source": [
    "df['Title'].value_counts()"
   ]
  },
  {
   "cell_type": "code",
   "execution_count": 109,
   "id": "96fd0f0d-7158-44af-83da-632781783636",
   "metadata": {},
   "outputs": [],
   "source": [
    "#Zrzucamy Name bo nie ma juz wartosci dodanej"
   ]
  },
  {
   "cell_type": "code",
   "execution_count": 110,
   "id": "d6f87b7b-a2ad-442b-b91a-ab318c7db4ef",
   "metadata": {},
   "outputs": [],
   "source": [
    "df.drop('Name', axis=1, inplace=True)"
   ]
  },
  {
   "cell_type": "code",
   "execution_count": 111,
   "id": "edd372ad-9093-4933-8c45-ae55a1e36bc9",
   "metadata": {},
   "outputs": [
    {
     "data": {
      "text/html": [
       "<div>\n",
       "<style scoped>\n",
       "    .dataframe tbody tr th:only-of-type {\n",
       "        vertical-align: middle;\n",
       "    }\n",
       "\n",
       "    .dataframe tbody tr th {\n",
       "        vertical-align: top;\n",
       "    }\n",
       "\n",
       "    .dataframe thead th {\n",
       "        text-align: right;\n",
       "    }\n",
       "</style>\n",
       "<table border=\"1\" class=\"dataframe\">\n",
       "  <thead>\n",
       "    <tr style=\"text-align: right;\">\n",
       "      <th></th>\n",
       "      <th>Survived</th>\n",
       "      <th>Pclass</th>\n",
       "      <th>Sex</th>\n",
       "      <th>Age</th>\n",
       "      <th>SibSp</th>\n",
       "      <th>Parch</th>\n",
       "      <th>Fare</th>\n",
       "      <th>Embarked</th>\n",
       "      <th>Title</th>\n",
       "    </tr>\n",
       "  </thead>\n",
       "  <tbody>\n",
       "    <tr>\n",
       "      <th>0</th>\n",
       "      <td>0</td>\n",
       "      <td>3</td>\n",
       "      <td>male</td>\n",
       "      <td>22.0</td>\n",
       "      <td>1</td>\n",
       "      <td>0</td>\n",
       "      <td>7.2500</td>\n",
       "      <td>S</td>\n",
       "      <td>Mr</td>\n",
       "    </tr>\n",
       "    <tr>\n",
       "      <th>1</th>\n",
       "      <td>1</td>\n",
       "      <td>1</td>\n",
       "      <td>female</td>\n",
       "      <td>38.0</td>\n",
       "      <td>1</td>\n",
       "      <td>0</td>\n",
       "      <td>71.2833</td>\n",
       "      <td>C</td>\n",
       "      <td>Mrs</td>\n",
       "    </tr>\n",
       "    <tr>\n",
       "      <th>2</th>\n",
       "      <td>1</td>\n",
       "      <td>3</td>\n",
       "      <td>female</td>\n",
       "      <td>26.0</td>\n",
       "      <td>0</td>\n",
       "      <td>0</td>\n",
       "      <td>7.9250</td>\n",
       "      <td>S</td>\n",
       "      <td>Miss</td>\n",
       "    </tr>\n",
       "    <tr>\n",
       "      <th>3</th>\n",
       "      <td>1</td>\n",
       "      <td>1</td>\n",
       "      <td>female</td>\n",
       "      <td>35.0</td>\n",
       "      <td>1</td>\n",
       "      <td>0</td>\n",
       "      <td>53.1000</td>\n",
       "      <td>S</td>\n",
       "      <td>Mrs</td>\n",
       "    </tr>\n",
       "    <tr>\n",
       "      <th>4</th>\n",
       "      <td>0</td>\n",
       "      <td>3</td>\n",
       "      <td>male</td>\n",
       "      <td>35.0</td>\n",
       "      <td>0</td>\n",
       "      <td>0</td>\n",
       "      <td>8.0500</td>\n",
       "      <td>S</td>\n",
       "      <td>Mr</td>\n",
       "    </tr>\n",
       "    <tr>\n",
       "      <th>...</th>\n",
       "      <td>...</td>\n",
       "      <td>...</td>\n",
       "      <td>...</td>\n",
       "      <td>...</td>\n",
       "      <td>...</td>\n",
       "      <td>...</td>\n",
       "      <td>...</td>\n",
       "      <td>...</td>\n",
       "      <td>...</td>\n",
       "    </tr>\n",
       "    <tr>\n",
       "      <th>886</th>\n",
       "      <td>0</td>\n",
       "      <td>2</td>\n",
       "      <td>male</td>\n",
       "      <td>27.0</td>\n",
       "      <td>0</td>\n",
       "      <td>0</td>\n",
       "      <td>13.0000</td>\n",
       "      <td>S</td>\n",
       "      <td>Other</td>\n",
       "    </tr>\n",
       "    <tr>\n",
       "      <th>887</th>\n",
       "      <td>1</td>\n",
       "      <td>1</td>\n",
       "      <td>female</td>\n",
       "      <td>19.0</td>\n",
       "      <td>0</td>\n",
       "      <td>0</td>\n",
       "      <td>30.0000</td>\n",
       "      <td>S</td>\n",
       "      <td>Miss</td>\n",
       "    </tr>\n",
       "    <tr>\n",
       "      <th>888</th>\n",
       "      <td>0</td>\n",
       "      <td>3</td>\n",
       "      <td>female</td>\n",
       "      <td>NaN</td>\n",
       "      <td>1</td>\n",
       "      <td>2+</td>\n",
       "      <td>23.4500</td>\n",
       "      <td>S</td>\n",
       "      <td>Miss</td>\n",
       "    </tr>\n",
       "    <tr>\n",
       "      <th>889</th>\n",
       "      <td>1</td>\n",
       "      <td>1</td>\n",
       "      <td>male</td>\n",
       "      <td>26.0</td>\n",
       "      <td>0</td>\n",
       "      <td>0</td>\n",
       "      <td>30.0000</td>\n",
       "      <td>C</td>\n",
       "      <td>Mr</td>\n",
       "    </tr>\n",
       "    <tr>\n",
       "      <th>890</th>\n",
       "      <td>0</td>\n",
       "      <td>3</td>\n",
       "      <td>male</td>\n",
       "      <td>32.0</td>\n",
       "      <td>0</td>\n",
       "      <td>0</td>\n",
       "      <td>7.7500</td>\n",
       "      <td>Q</td>\n",
       "      <td>Mr</td>\n",
       "    </tr>\n",
       "  </tbody>\n",
       "</table>\n",
       "<p>891 rows × 9 columns</p>\n",
       "</div>"
      ],
      "text/plain": [
       "     Survived  Pclass     Sex   Age SibSp Parch     Fare Embarked  Title\n",
       "0           0       3    male  22.0     1     0   7.2500        S     Mr\n",
       "1           1       1  female  38.0     1     0  71.2833        C    Mrs\n",
       "2           1       3  female  26.0     0     0   7.9250        S   Miss\n",
       "3           1       1  female  35.0     1     0  53.1000        S    Mrs\n",
       "4           0       3    male  35.0     0     0   8.0500        S     Mr\n",
       "..        ...     ...     ...   ...   ...   ...      ...      ...    ...\n",
       "886         0       2    male  27.0     0     0  13.0000        S  Other\n",
       "887         1       1  female  19.0     0     0  30.0000        S   Miss\n",
       "888         0       3  female   NaN     1    2+  23.4500        S   Miss\n",
       "889         1       1    male  26.0     0     0  30.0000        C     Mr\n",
       "890         0       3    male  32.0     0     0   7.7500        Q     Mr\n",
       "\n",
       "[891 rows x 9 columns]"
      ]
     },
     "execution_count": 111,
     "metadata": {},
     "output_type": "execute_result"
    }
   ],
   "source": [
    "df"
   ]
  },
  {
   "cell_type": "code",
   "execution_count": 112,
   "id": "1f04a486-411f-49ac-a101-7f278111f9bd",
   "metadata": {},
   "outputs": [
    {
     "data": {
      "text/html": [
       "<div>\n",
       "<style scoped>\n",
       "    .dataframe tbody tr th:only-of-type {\n",
       "        vertical-align: middle;\n",
       "    }\n",
       "\n",
       "    .dataframe tbody tr th {\n",
       "        vertical-align: top;\n",
       "    }\n",
       "\n",
       "    .dataframe thead th {\n",
       "        text-align: right;\n",
       "    }\n",
       "</style>\n",
       "<table border=\"1\" class=\"dataframe\">\n",
       "  <thead>\n",
       "    <tr style=\"text-align: right;\">\n",
       "      <th></th>\n",
       "      <th>Survived</th>\n",
       "      <th>Pclass</th>\n",
       "      <th>Sex</th>\n",
       "      <th>Age</th>\n",
       "      <th>SibSp</th>\n",
       "      <th>Parch</th>\n",
       "      <th>Fare</th>\n",
       "      <th>Embarked</th>\n",
       "      <th>Title</th>\n",
       "    </tr>\n",
       "  </thead>\n",
       "  <tbody>\n",
       "    <tr>\n",
       "      <th>0</th>\n",
       "      <td>0</td>\n",
       "      <td>3</td>\n",
       "      <td>male</td>\n",
       "      <td>22.0</td>\n",
       "      <td>1</td>\n",
       "      <td>0</td>\n",
       "      <td>7.2500</td>\n",
       "      <td>S</td>\n",
       "      <td>Mr</td>\n",
       "    </tr>\n",
       "    <tr>\n",
       "      <th>1</th>\n",
       "      <td>1</td>\n",
       "      <td>1</td>\n",
       "      <td>female</td>\n",
       "      <td>38.0</td>\n",
       "      <td>1</td>\n",
       "      <td>0</td>\n",
       "      <td>71.2833</td>\n",
       "      <td>C</td>\n",
       "      <td>Mrs</td>\n",
       "    </tr>\n",
       "    <tr>\n",
       "      <th>2</th>\n",
       "      <td>1</td>\n",
       "      <td>3</td>\n",
       "      <td>female</td>\n",
       "      <td>26.0</td>\n",
       "      <td>0</td>\n",
       "      <td>0</td>\n",
       "      <td>7.9250</td>\n",
       "      <td>S</td>\n",
       "      <td>Miss</td>\n",
       "    </tr>\n",
       "    <tr>\n",
       "      <th>3</th>\n",
       "      <td>1</td>\n",
       "      <td>1</td>\n",
       "      <td>female</td>\n",
       "      <td>35.0</td>\n",
       "      <td>1</td>\n",
       "      <td>0</td>\n",
       "      <td>53.1000</td>\n",
       "      <td>S</td>\n",
       "      <td>Mrs</td>\n",
       "    </tr>\n",
       "    <tr>\n",
       "      <th>4</th>\n",
       "      <td>0</td>\n",
       "      <td>3</td>\n",
       "      <td>male</td>\n",
       "      <td>35.0</td>\n",
       "      <td>0</td>\n",
       "      <td>0</td>\n",
       "      <td>8.0500</td>\n",
       "      <td>S</td>\n",
       "      <td>Mr</td>\n",
       "    </tr>\n",
       "  </tbody>\n",
       "</table>\n",
       "</div>"
      ],
      "text/plain": [
       "   Survived  Pclass     Sex   Age SibSp Parch     Fare Embarked Title\n",
       "0         0       3    male  22.0     1     0   7.2500        S    Mr\n",
       "1         1       1  female  38.0     1     0  71.2833        C   Mrs\n",
       "2         1       3  female  26.0     0     0   7.9250        S  Miss\n",
       "3         1       1  female  35.0     1     0  53.1000        S   Mrs\n",
       "4         0       3    male  35.0     0     0   8.0500        S    Mr"
      ]
     },
     "execution_count": 112,
     "metadata": {},
     "output_type": "execute_result"
    }
   ],
   "source": [
    "df.head()"
   ]
  },
  {
   "cell_type": "code",
   "execution_count": 113,
   "id": "66141fc0-711e-47f5-9062-b820c90f10a4",
   "metadata": {},
   "outputs": [],
   "source": [
    "#Podzial zbioru danych na część reningowa i testową "
   ]
  },
  {
   "cell_type": "code",
   "execution_count": 114,
   "id": "be4b6ff1-18e0-48bf-a840-ea9fe16b9c94",
   "metadata": {},
   "outputs": [],
   "source": [
    "from sklearn.model_selection import train_test_split"
   ]
  },
  {
   "cell_type": "code",
   "execution_count": 115,
   "id": "f720f62a-7be7-47e8-a45d-a91c12a0c810",
   "metadata": {},
   "outputs": [],
   "source": [
    "#tworzy zbiory testowy i treningowy argument to dane czyli df oraz rozmiar zbioru testowego 0,3 to 30%całosci danych \n",
    "#df random_state liczba linijek dzielących zbiór"
   ]
  },
  {
   "cell_type": "code",
   "execution_count": 116,
   "id": "5515fa48-1dba-45b2-b712-c34fe244bba3",
   "metadata": {},
   "outputs": [],
   "source": [
    "df_train, df_test = train_test_split(df, test_size=0.3, random_state=4)"
   ]
  },
  {
   "cell_type": "code",
   "execution_count": 117,
   "id": "f7534863-d26c-49e6-9c49-c9866b85a445",
   "metadata": {},
   "outputs": [],
   "source": [
    "#Sprawdzamy czy doszło do podziału zbioru"
   ]
  },
  {
   "cell_type": "code",
   "execution_count": 118,
   "id": "f22789f0-2131-4dff-8236-afdb2ae5d9c8",
   "metadata": {},
   "outputs": [
    {
     "data": {
      "text/plain": [
       "(891, 9)"
      ]
     },
     "execution_count": 118,
     "metadata": {},
     "output_type": "execute_result"
    }
   ],
   "source": [
    "df.shape"
   ]
  },
  {
   "cell_type": "code",
   "execution_count": 119,
   "id": "71cb0fd7-ec12-4dd7-8772-f5e3ce8d225c",
   "metadata": {},
   "outputs": [],
   "source": [
    "#ile ma zbór trenignowy"
   ]
  },
  {
   "cell_type": "code",
   "execution_count": 120,
   "id": "34a07120-7730-4d38-b80e-5c24f9675b5d",
   "metadata": {},
   "outputs": [
    {
     "data": {
      "text/plain": [
       "(623, 9)"
      ]
     },
     "execution_count": 120,
     "metadata": {},
     "output_type": "execute_result"
    }
   ],
   "source": [
    "df_train.shape"
   ]
  },
  {
   "cell_type": "code",
   "execution_count": 121,
   "id": "a7f20c59-2ee3-4859-9919-f45f7915a883",
   "metadata": {},
   "outputs": [
    {
     "data": {
      "text/plain": [
       "0.6992143658810326"
      ]
     },
     "execution_count": 121,
     "metadata": {},
     "output_type": "execute_result"
    }
   ],
   "source": [
    "623/891"
   ]
  },
  {
   "cell_type": "code",
   "execution_count": 122,
   "id": "cbdd8155-d964-438e-89ee-6a4c61ea74ea",
   "metadata": {},
   "outputs": [
    {
     "data": {
      "text/plain": [
       "(268, 9)"
      ]
     },
     "execution_count": 122,
     "metadata": {},
     "output_type": "execute_result"
    }
   ],
   "source": [
    "df_test.shape"
   ]
  },
  {
   "cell_type": "code",
   "execution_count": null,
   "id": "2c65e426-e73d-402d-8ef3-901889d6ecd0",
   "metadata": {},
   "outputs": [],
   "source": []
  },
  {
   "cell_type": "code",
   "execution_count": 123,
   "id": "02980f42-2cc3-4f15-928a-114fefb1889b",
   "metadata": {},
   "outputs": [],
   "source": [
    "#Braki danych obsługa"
   ]
  },
  {
   "cell_type": "code",
   "execution_count": 124,
   "id": "09015ab0-ce0c-4756-9a8f-12443239af7c",
   "metadata": {},
   "outputs": [
    {
     "data": {
      "text/html": [
       "<div>\n",
       "<style scoped>\n",
       "    .dataframe tbody tr th:only-of-type {\n",
       "        vertical-align: middle;\n",
       "    }\n",
       "\n",
       "    .dataframe tbody tr th {\n",
       "        vertical-align: top;\n",
       "    }\n",
       "\n",
       "    .dataframe thead th {\n",
       "        text-align: right;\n",
       "    }\n",
       "</style>\n",
       "<table border=\"1\" class=\"dataframe\">\n",
       "  <thead>\n",
       "    <tr style=\"text-align: right;\">\n",
       "      <th></th>\n",
       "      <th>Survived</th>\n",
       "      <th>Pclass</th>\n",
       "      <th>Sex</th>\n",
       "      <th>Age</th>\n",
       "      <th>SibSp</th>\n",
       "      <th>Parch</th>\n",
       "      <th>Fare</th>\n",
       "      <th>Embarked</th>\n",
       "      <th>Title</th>\n",
       "    </tr>\n",
       "  </thead>\n",
       "  <tbody>\n",
       "    <tr>\n",
       "      <th>0</th>\n",
       "      <td>0</td>\n",
       "      <td>3</td>\n",
       "      <td>male</td>\n",
       "      <td>22.0</td>\n",
       "      <td>1</td>\n",
       "      <td>0</td>\n",
       "      <td>7.2500</td>\n",
       "      <td>S</td>\n",
       "      <td>Mr</td>\n",
       "    </tr>\n",
       "    <tr>\n",
       "      <th>1</th>\n",
       "      <td>1</td>\n",
       "      <td>1</td>\n",
       "      <td>female</td>\n",
       "      <td>38.0</td>\n",
       "      <td>1</td>\n",
       "      <td>0</td>\n",
       "      <td>71.2833</td>\n",
       "      <td>C</td>\n",
       "      <td>Mrs</td>\n",
       "    </tr>\n",
       "    <tr>\n",
       "      <th>2</th>\n",
       "      <td>1</td>\n",
       "      <td>3</td>\n",
       "      <td>female</td>\n",
       "      <td>26.0</td>\n",
       "      <td>0</td>\n",
       "      <td>0</td>\n",
       "      <td>7.9250</td>\n",
       "      <td>S</td>\n",
       "      <td>Miss</td>\n",
       "    </tr>\n",
       "    <tr>\n",
       "      <th>3</th>\n",
       "      <td>1</td>\n",
       "      <td>1</td>\n",
       "      <td>female</td>\n",
       "      <td>35.0</td>\n",
       "      <td>1</td>\n",
       "      <td>0</td>\n",
       "      <td>53.1000</td>\n",
       "      <td>S</td>\n",
       "      <td>Mrs</td>\n",
       "    </tr>\n",
       "    <tr>\n",
       "      <th>4</th>\n",
       "      <td>0</td>\n",
       "      <td>3</td>\n",
       "      <td>male</td>\n",
       "      <td>35.0</td>\n",
       "      <td>0</td>\n",
       "      <td>0</td>\n",
       "      <td>8.0500</td>\n",
       "      <td>S</td>\n",
       "      <td>Mr</td>\n",
       "    </tr>\n",
       "  </tbody>\n",
       "</table>\n",
       "</div>"
      ],
      "text/plain": [
       "   Survived  Pclass     Sex   Age SibSp Parch     Fare Embarked Title\n",
       "0         0       3    male  22.0     1     0   7.2500        S    Mr\n",
       "1         1       1  female  38.0     1     0  71.2833        C   Mrs\n",
       "2         1       3  female  26.0     0     0   7.9250        S  Miss\n",
       "3         1       1  female  35.0     1     0  53.1000        S   Mrs\n",
       "4         0       3    male  35.0     0     0   8.0500        S    Mr"
      ]
     },
     "execution_count": 124,
     "metadata": {},
     "output_type": "execute_result"
    }
   ],
   "source": [
    "df.head()"
   ]
  },
  {
   "cell_type": "code",
   "execution_count": 125,
   "id": "3abbb75c-60ed-4aa3-b59c-2a0373371129",
   "metadata": {},
   "outputs": [],
   "source": [
    "#Średnia i mediana powinny być wyliczone na zbiorze treningowym te wartości moga\n",
    "#być inne na zbiorze treningowym i testowym. Danymi wyliczonymi na zbiorze treningowym uzupełniamy braki danych"
   ]
  },
  {
   "cell_type": "code",
   "execution_count": 126,
   "id": "2d0e7f5e-06a7-443b-9684-1e33cd8e237f",
   "metadata": {},
   "outputs": [
    {
     "data": {
      "text/plain": [
       "Survived      0\n",
       "Pclass        0\n",
       "Sex           0\n",
       "Age         125\n",
       "SibSp         0\n",
       "Parch         0\n",
       "Fare          0\n",
       "Embarked      2\n",
       "Title         0\n",
       "dtype: int64"
      ]
     },
     "execution_count": 126,
     "metadata": {},
     "output_type": "execute_result"
    }
   ],
   "source": [
    "#sprawdzamy braki danych i dostajemy sumę z podziałem na kategorie\n",
    "df_train.isna().sum()"
   ]
  },
  {
   "cell_type": "code",
   "execution_count": 127,
   "id": "a6bf383a-de96-45d3-ae8f-1cdeb4f4e22a",
   "metadata": {},
   "outputs": [],
   "source": [
    "#braki występują w zmiennej age oraz embarked"
   ]
  },
  {
   "cell_type": "code",
   "execution_count": 128,
   "id": "1d482850-d1f8-4cbc-b941-c58cc2e9accd",
   "metadata": {},
   "outputs": [],
   "source": [
    "#sprawdzamy zbiór testowy "
   ]
  },
  {
   "cell_type": "code",
   "execution_count": 129,
   "id": "b6681b5e-95e2-45b0-8316-91b2dbd68603",
   "metadata": {},
   "outputs": [
    {
     "data": {
      "text/plain": [
       "Survived     0\n",
       "Pclass       0\n",
       "Sex          0\n",
       "Age         52\n",
       "SibSp        0\n",
       "Parch        0\n",
       "Fare         0\n",
       "Embarked     0\n",
       "Title        0\n",
       "dtype: int64"
      ]
     },
     "execution_count": 129,
     "metadata": {},
     "output_type": "execute_result"
    }
   ],
   "source": [
    "df_test.isna().sum()"
   ]
  },
  {
   "cell_type": "code",
   "execution_count": 130,
   "id": "bc6c1bde-2300-4917-b1e5-4bf5a74785b8",
   "metadata": {},
   "outputs": [],
   "source": [
    "#52braki dla age"
   ]
  },
  {
   "cell_type": "code",
   "execution_count": 131,
   "id": "8be3f034-1b35-4b3f-9d83-4d4ed6490ecb",
   "metadata": {},
   "outputs": [],
   "source": [
    "#próbuje my się zorientowac aki to jest brak czy losowy czy nielosowy. W przypadku tych danych cięzko jest to okreslic \n",
    "#może jest to zwiazane z jakas inna zmienną..."
   ]
  },
  {
   "cell_type": "code",
   "execution_count": 132,
   "id": "2f6cfae7-7126-45b1-bbd3-afe8c80beb78",
   "metadata": {},
   "outputs": [],
   "source": [
    "#Przypisujemy osobną klase do brakujacyh obserwacji opcja nr1"
   ]
  },
  {
   "cell_type": "code",
   "execution_count": 133,
   "id": "125fca57-1a23-4bb6-ab8f-d53e4375138f",
   "metadata": {},
   "outputs": [
    {
     "data": {
      "text/plain": [
       "(623, 9)"
      ]
     },
     "execution_count": 133,
     "metadata": {},
     "output_type": "execute_result"
    }
   ],
   "source": [
    "df_train.shape"
   ]
  },
  {
   "cell_type": "code",
   "execution_count": 134,
   "id": "648d402b-5c95-4133-93ed-89941f08d144",
   "metadata": {},
   "outputs": [
    {
     "data": {
      "text/plain": [
       "0.20064205457463885"
      ]
     },
     "execution_count": 134,
     "metadata": {},
     "output_type": "execute_result"
    }
   ],
   "source": [
    "125/623 \n"
   ]
  },
  {
   "cell_type": "code",
   "execution_count": 135,
   "id": "ba0801bd-7860-427b-8811-aeecdff1661d",
   "metadata": {},
   "outputs": [],
   "source": [
    "#brakuje nam 20proc obserwacji"
   ]
  },
  {
   "cell_type": "code",
   "execution_count": 136,
   "id": "c47cb85c-5e78-48e0-ae65-e957c028b0db",
   "metadata": {},
   "outputs": [],
   "source": [
    "#Tworzymy zmienną która przypisze nam wartośc brak do brakujacych obserwacji."
   ]
  },
  {
   "cell_type": "code",
   "execution_count": 137,
   "id": "41d12698-d713-4026-98cb-7ba51262d745",
   "metadata": {},
   "outputs": [],
   "source": [
    "#może nam pomóc wyliczenie min mediany i kwartyli zmiennej która ma braki(age)"
   ]
  },
  {
   "cell_type": "code",
   "execution_count": 138,
   "id": "9d6fc834-21db-42f1-8161-33e0ee04b47c",
   "metadata": {},
   "outputs": [
    {
     "data": {
      "text/plain": [
       "count    498.000000\n",
       "mean      29.978594\n",
       "std       14.556153\n",
       "min        0.420000\n",
       "25%       21.000000\n",
       "50%       28.250000\n",
       "75%       38.750000\n",
       "max       80.000000\n",
       "Name: Age, dtype: float64"
      ]
     },
     "execution_count": 138,
     "metadata": {},
     "output_type": "execute_result"
    }
   ],
   "source": [
    "df_train['Age'].describe()"
   ]
  },
  {
   "cell_type": "code",
   "execution_count": 139,
   "id": "f7b4078c-021b-46ce-aa45-afb90d71a5d7",
   "metadata": {},
   "outputs": [],
   "source": [
    "#Jeśli nasza zmienna Age isna to brak jak zmienna age jest mniejsza równa 21 czyli pierwszy kwartyl 25% z wykresu wyzej to przypisujemy wartośc 0-21\n",
    "#jak age jest mniejsza równa 28 czyli drugi kwartyl 50% z wykresu wyzej to przypisujemy wartośc 21-28\n",
    "#jak age jest mniejsza równa 39 czyli trzeci kwartyl 75% z wykresu wyzej to przypisujemy wartośc 28-39\n",
    "#a ostatni warunek > 39 "
   ]
  },
  {
   "cell_type": "code",
   "execution_count": 140,
   "id": "4c934259-48f6-4f98-abeb-bca89505ea69",
   "metadata": {},
   "outputs": [],
   "source": [
    "df_train['Age_cat'] = np.where(df_train['Age'].isna(),'brak', np.where(df_train['Age']<=21, '0-21', np.where(df_train['Age']<= 28, '21-28',  np.where(df_train['Age']<= 39, '28-39', '>39'))))"
   ]
  },
  {
   "cell_type": "code",
   "execution_count": 141,
   "id": "505754e8-f493-440a-8a9c-919273422909",
   "metadata": {},
   "outputs": [],
   "source": [
    "#sprawdzamy jak kształtuje się utworzona zmienna"
   ]
  },
  {
   "cell_type": "code",
   "execution_count": 142,
   "id": "a952b6f1-bb12-4491-a260-59bb2fa45006",
   "metadata": {},
   "outputs": [
    {
     "data": {
      "text/plain": [
       "Age_cat\n",
       "0-21     134\n",
       "28-39    131\n",
       "brak     125\n",
       ">39      118\n",
       "21-28    115\n",
       "Name: count, dtype: int64"
      ]
     },
     "execution_count": 142,
     "metadata": {},
     "output_type": "execute_result"
    }
   ],
   "source": [
    "df_train['Age_cat'].value_counts()"
   ]
  },
  {
   "cell_type": "code",
   "execution_count": 143,
   "id": "a852466f-5a39-4e60-bb00-86349982d837",
   "metadata": {},
   "outputs": [],
   "source": [
    "#stworzyliśmy osobne kategorie zmiennej age"
   ]
  },
  {
   "cell_type": "code",
   "execution_count": 144,
   "id": "3e06d2ad-ae93-4f58-9b1d-28fc18255aeb",
   "metadata": {},
   "outputs": [],
   "source": [
    "#Wiemy że ten brak nie jest losowy"
   ]
  },
  {
   "cell_type": "code",
   "execution_count": 145,
   "id": "f3ad7152-51dd-4ca7-ab18-514504b2b0cf",
   "metadata": {},
   "outputs": [],
   "source": [
    "#Sprawdzamy czy kategorie wieku nowe rżnicują wiek osób które przeżyły katastrofę\n",
    "#liczymy średnią wieku na danych wiek survived"
   ]
  },
  {
   "cell_type": "code",
   "execution_count": 146,
   "id": "1eebe81e-af89-493e-af4d-4d336209d82e",
   "metadata": {},
   "outputs": [
    {
     "data": {
      "text/html": [
       "<div>\n",
       "<style scoped>\n",
       "    .dataframe tbody tr th:only-of-type {\n",
       "        vertical-align: middle;\n",
       "    }\n",
       "\n",
       "    .dataframe tbody tr th {\n",
       "        vertical-align: top;\n",
       "    }\n",
       "\n",
       "    .dataframe thead th {\n",
       "        text-align: right;\n",
       "    }\n",
       "</style>\n",
       "<table border=\"1\" class=\"dataframe\">\n",
       "  <thead>\n",
       "    <tr style=\"text-align: right;\">\n",
       "      <th></th>\n",
       "      <th>Survived</th>\n",
       "    </tr>\n",
       "    <tr>\n",
       "      <th>Age_cat</th>\n",
       "      <th></th>\n",
       "    </tr>\n",
       "  </thead>\n",
       "  <tbody>\n",
       "    <tr>\n",
       "      <th>0-21</th>\n",
       "      <td>0.470149</td>\n",
       "    </tr>\n",
       "    <tr>\n",
       "      <th>21-28</th>\n",
       "      <td>0.391304</td>\n",
       "    </tr>\n",
       "    <tr>\n",
       "      <th>28-39</th>\n",
       "      <td>0.450382</td>\n",
       "    </tr>\n",
       "    <tr>\n",
       "      <th>&gt;39</th>\n",
       "      <td>0.406780</td>\n",
       "    </tr>\n",
       "    <tr>\n",
       "      <th>brak</th>\n",
       "      <td>0.296000</td>\n",
       "    </tr>\n",
       "  </tbody>\n",
       "</table>\n",
       "</div>"
      ],
      "text/plain": [
       "         Survived\n",
       "Age_cat          \n",
       "0-21     0.470149\n",
       "21-28    0.391304\n",
       "28-39    0.450382\n",
       ">39      0.406780\n",
       "brak     0.296000"
      ]
     },
     "execution_count": 146,
     "metadata": {},
     "output_type": "execute_result"
    }
   ],
   "source": [
    "df_train[['Age_cat', 'Survived']].groupby(['Age_cat']).mean()"
   ]
  },
  {
   "cell_type": "code",
   "execution_count": 147,
   "id": "f06350ff-c58d-4565-9eed-0df60c41ac0b",
   "metadata": {},
   "outputs": [],
   "source": [
    "#dla kategorii wieku brak udział wieku osób,które przeżyly katastrofę jest najmniejszy"
   ]
  },
  {
   "cell_type": "code",
   "execution_count": 148,
   "id": "cbd44418-9483-49ff-83d1-a47ffd16ff0f",
   "metadata": {},
   "outputs": [],
   "source": [
    "#wynosi ok 30%"
   ]
  },
  {
   "cell_type": "code",
   "execution_count": 149,
   "id": "b8883713-4b46-44cd-924e-a177db9fdedb",
   "metadata": {},
   "outputs": [],
   "source": [
    "#To nie był brak losowy i moze nam wpłynac na analizę zmiennej celu."
   ]
  },
  {
   "cell_type": "code",
   "execution_count": 150,
   "id": "b652945a-aacd-4604-b741-3cb2e1371b3a",
   "metadata": {},
   "outputs": [],
   "source": [
    "#Tworzymy zmienną analigocznie na zbiorze testowym..df_test zamiast df_train"
   ]
  },
  {
   "cell_type": "code",
   "execution_count": 151,
   "id": "a62e2703-3d25-443b-9fda-9a0f22d82720",
   "metadata": {},
   "outputs": [],
   "source": [
    "df_test['Age_cat'] = np.where(df_test['Age'].isna(),'brak', np.where(df_test['Age']<=21, '0-21', np.where(df_test['Age']<= 28, '21-28',  np.where(df_test['Age']<= 39, '28-39', '>39'))))"
   ]
  },
  {
   "cell_type": "code",
   "execution_count": 152,
   "id": "64cad5e7-54d1-45e3-97c1-97bc61385d5e",
   "metadata": {},
   "outputs": [],
   "source": [
    "#Ukształtowanie dla zbioru testowego"
   ]
  },
  {
   "cell_type": "code",
   "execution_count": 153,
   "id": "3f23838d-4575-436f-984e-a36fbb330109",
   "metadata": {},
   "outputs": [
    {
     "data": {
      "text/plain": [
       "Age_cat\n",
       "0-21     70\n",
       "28-39    58\n",
       "brak     52\n",
       ">39      45\n",
       "21-28    43\n",
       "Name: count, dtype: int64"
      ]
     },
     "execution_count": 153,
     "metadata": {},
     "output_type": "execute_result"
    }
   ],
   "source": [
    "df_test['Age_cat'].value_counts()"
   ]
  },
  {
   "cell_type": "code",
   "execution_count": null,
   "id": "58822336-f46a-46c1-bfc9-7735d3a460cc",
   "metadata": {},
   "outputs": [],
   "source": []
  },
  {
   "cell_type": "code",
   "execution_count": null,
   "id": "cff3a6a8-81c6-4a57-9324-9c28df4d6e25",
   "metadata": {},
   "outputs": [],
   "source": []
  },
  {
   "cell_type": "code",
   "execution_count": null,
   "id": "f3a61fdb-3a2b-4466-81a4-e8d940b85f85",
   "metadata": {},
   "outputs": [],
   "source": []
  },
  {
   "cell_type": "code",
   "execution_count": 154,
   "id": "eb8b84c4-bb76-40b7-aeeb-f2aacf7811e8",
   "metadata": {},
   "outputs": [],
   "source": [
    "#Metoda alternatywna nr 2 imputacji brakujących wartości matematycznych wyliczenie sredniej bądź mediany"
   ]
  },
  {
   "cell_type": "code",
   "execution_count": 155,
   "id": "f6b51a05-503b-4344-bb4e-5b37c6614832",
   "metadata": {},
   "outputs": [],
   "source": [
    "#Metoda radzenia sobie z brakami danych mediana i średnia.\n",
    "#Sprawdza się rozkład zmiennej oraz jej skośność"
   ]
  },
  {
   "cell_type": "code",
   "execution_count": null,
   "id": "7531f145-1234-41c4-b318-8c82679f2073",
   "metadata": {},
   "outputs": [],
   "source": []
  },
  {
   "cell_type": "code",
   "execution_count": 156,
   "id": "4efafdae-d2f7-47cb-a589-ae49f013ecef",
   "metadata": {},
   "outputs": [],
   "source": [
    "#robimy histogram na danych treningowych"
   ]
  },
  {
   "cell_type": "code",
   "execution_count": 157,
   "id": "4ebbc1f8-f853-488f-a20e-7ba2029a3cc9",
   "metadata": {},
   "outputs": [],
   "source": [
    "#rozkłąd jest lekko w prawą stronę ale niezbyt"
   ]
  },
  {
   "cell_type": "code",
   "execution_count": 158,
   "id": "428135cc-fd92-4e51-a77c-3a544b3cc96b",
   "metadata": {},
   "outputs": [
    {
     "data": {
      "text/plain": [
       "<Axes: >"
      ]
     },
     "execution_count": 158,
     "metadata": {},
     "output_type": "execute_result"
    },
    {
     "data": {
      "image/png": "[encoded data removed]",
      "text/plain": [
       "<Figure size 640x480 with 1 Axes>"
      ]
     },
     "metadata": {},
     "output_type": "display_data"
    }
   ],
   "source": [
    "df_train['Age'].hist()"
   ]
  },
  {
   "cell_type": "code",
   "execution_count": 159,
   "id": "4affd3d7-b32c-4fb2-b1b1-f09b190e6ff1",
   "metadata": {},
   "outputs": [],
   "source": [
    "#sprawdzamy mairę skośności za pomcoą metody skew"
   ]
  },
  {
   "cell_type": "code",
   "execution_count": 160,
   "id": "254ef6a4-45c8-4aa9-9097-6f4c5bf5f3ff",
   "metadata": {},
   "outputs": [
    {
     "data": {
      "text/plain": [
       "0.37926641895840485"
      ]
     },
     "execution_count": 160,
     "metadata": {},
     "output_type": "execute_result"
    }
   ],
   "source": [
    "df_train['Age'].skew()"
   ]
  },
  {
   "cell_type": "code",
   "execution_count": 161,
   "id": "928b3e39-89d3-4bdf-b61a-690bcb005f5b",
   "metadata": {},
   "outputs": [],
   "source": [
    "#skośnosć do +-0.5 nie jest silna i rozkład jest w maire symetryczny. jak skosnośc większa od 0.5 to stosujemy mediane"
   ]
  },
  {
   "cell_type": "code",
   "execution_count": 162,
   "id": "7607e688-faa6-4c79-9730-6e0218b2674f",
   "metadata": {},
   "outputs": [
    {
     "data": {
      "text/plain": [
       "29.978594377510042"
      ]
     },
     "execution_count": 162,
     "metadata": {},
     "output_type": "execute_result"
    }
   ],
   "source": [
    "mean_age = df_train['Age'].mean()\n",
    "mean_age "
   ]
  },
  {
   "cell_type": "code",
   "execution_count": 163,
   "id": "15b4eb0f-889e-4c05-acc3-11480716154e",
   "metadata": {},
   "outputs": [],
   "source": [
    "#Metodafillna wypelnienia brakidanych wartościa sreadnia inplace nadpisuje"
   ]
  },
  {
   "cell_type": "code",
   "execution_count": 164,
   "id": "8e3be035-a8dd-47df-b9a4-285b7fa60eb0",
   "metadata": {},
   "outputs": [
    {
     "name": "stderr",
     "output_type": "stream",
     "text": [
      "C:\\Users\\arcis\\AppData\\Local\\Temp\\ipykernel_9180\\1533672187.py:1: FutureWarning: A value is trying to be set on a copy of a DataFrame or Series through chained assignment using an inplace method.\n",
      "The behavior will change in pandas 3.0. This inplace method will never work because the intermediate object on which we are setting values always behaves as a copy.\n",
      "\n",
      "For example, when doing 'df[col].method(value, inplace=True)', try using 'df.method({col: value}, inplace=True)' or df[col] = df[col].method(value) instead, to perform the operation inplace on the original object.\n",
      "\n",
      "\n",
      "  df_train['Age'].fillna(mean_age,inplace=True)\n"
     ]
    }
   ],
   "source": [
    "df_train['Age'].fillna(mean_age,inplace=True)"
   ]
  },
  {
   "cell_type": "code",
   "execution_count": null,
   "id": "5443f12c-4781-43af-8c19-c7b19b0d197f",
   "metadata": {},
   "outputs": [],
   "source": []
  },
  {
   "cell_type": "code",
   "execution_count": 165,
   "id": "fedf11a5-93d1-44db-b0b8-f065c366dccb",
   "metadata": {},
   "outputs": [],
   "source": [
    "#sprawdzamy czy zostały jakies braki danych"
   ]
  },
  {
   "cell_type": "code",
   "execution_count": 166,
   "id": "b55adc1d-0263-4838-aee5-a7627246d861",
   "metadata": {},
   "outputs": [
    {
     "data": {
      "text/plain": [
       "0"
      ]
     },
     "execution_count": 166,
     "metadata": {},
     "output_type": "execute_result"
    }
   ],
   "source": [
    "df_train['Age'].isna().sum()"
   ]
  },
  {
   "cell_type": "code",
   "execution_count": 167,
   "id": "7f26f379-4820-4f26-b70c-65643798c215",
   "metadata": {},
   "outputs": [],
   "source": [
    "#jest zero nie ma"
   ]
  },
  {
   "cell_type": "code",
   "execution_count": 168,
   "id": "01714efc-9a57-4fe5-adc3-50ef65fefc35",
   "metadata": {},
   "outputs": [],
   "source": [
    "#to samo robimy na zbiorze testowym"
   ]
  },
  {
   "cell_type": "code",
   "execution_count": 169,
   "id": "8efff7b0-b896-4730-848a-d48b5b2e2ba3",
   "metadata": {},
   "outputs": [
    {
     "name": "stderr",
     "output_type": "stream",
     "text": [
      "C:\\Users\\arcis\\AppData\\Local\\Temp\\ipykernel_9180\\943613364.py:1: FutureWarning: A value is trying to be set on a copy of a DataFrame or Series through chained assignment using an inplace method.\n",
      "The behavior will change in pandas 3.0. This inplace method will never work because the intermediate object on which we are setting values always behaves as a copy.\n",
      "\n",
      "For example, when doing 'df[col].method(value, inplace=True)', try using 'df.method({col: value}, inplace=True)' or df[col] = df[col].method(value) instead, to perform the operation inplace on the original object.\n",
      "\n",
      "\n",
      "  df_test['Age'].fillna(mean_age, inplace=True)\n"
     ]
    }
   ],
   "source": [
    "df_test['Age'].fillna(mean_age, inplace=True)"
   ]
  },
  {
   "cell_type": "code",
   "execution_count": 170,
   "id": "783849d6-9e21-4408-b31a-38eb693913f6",
   "metadata": {},
   "outputs": [
    {
     "data": {
      "text/plain": [
       "0"
      ]
     },
     "execution_count": 170,
     "metadata": {},
     "output_type": "execute_result"
    }
   ],
   "source": [
    "df_test['Age'].isna().sum()"
   ]
  },
  {
   "cell_type": "code",
   "execution_count": 171,
   "id": "797f6c9a-fd4d-474b-a8ce-021be4de1896",
   "metadata": {},
   "outputs": [],
   "source": [
    "#tu tez już w zbiorze testowym nei ma braków danych"
   ]
  },
  {
   "cell_type": "code",
   "execution_count": 172,
   "id": "3b3b8774-0b3f-4f1f-b880-d40bc063a9a9",
   "metadata": {},
   "outputs": [],
   "source": [
    "# metoda inna Uzupelnienia braków danych średnia mediana w grupach bardziej dokąłdne niż średnia czy mediana"
   ]
  },
  {
   "cell_type": "code",
   "execution_count": 173,
   "id": "51e4ff2d-d09d-4eef-aa79-f4118b242bc2",
   "metadata": {},
   "outputs": [],
   "source": [
    "#jeszcze raz puszczamy kod ale bez tej linii cyli\n",
    "#run i selevcted and above bez fillna() df_train['Age'].fillna(mean_age,inplace=True)"
   ]
  },
  {
   "cell_type": "code",
   "execution_count": 174,
   "id": "2286a8e4-c41e-4973-b687-6dfb09a20a9c",
   "metadata": {},
   "outputs": [],
   "source": [
    "#sprawdzamy jak wygladają dane"
   ]
  },
  {
   "cell_type": "code",
   "execution_count": 175,
   "id": "14c454d6-df85-4671-9793-e605767364a9",
   "metadata": {},
   "outputs": [
    {
     "data": {
      "text/html": [
       "<div>\n",
       "<style scoped>\n",
       "    .dataframe tbody tr th:only-of-type {\n",
       "        vertical-align: middle;\n",
       "    }\n",
       "\n",
       "    .dataframe tbody tr th {\n",
       "        vertical-align: top;\n",
       "    }\n",
       "\n",
       "    .dataframe thead th {\n",
       "        text-align: right;\n",
       "    }\n",
       "</style>\n",
       "<table border=\"1\" class=\"dataframe\">\n",
       "  <thead>\n",
       "    <tr style=\"text-align: right;\">\n",
       "      <th></th>\n",
       "      <th>Survived</th>\n",
       "      <th>Pclass</th>\n",
       "      <th>Sex</th>\n",
       "      <th>Age</th>\n",
       "      <th>SibSp</th>\n",
       "      <th>Parch</th>\n",
       "      <th>Fare</th>\n",
       "      <th>Embarked</th>\n",
       "      <th>Title</th>\n",
       "      <th>Age_cat</th>\n",
       "    </tr>\n",
       "  </thead>\n",
       "  <tbody>\n",
       "    <tr>\n",
       "      <th>537</th>\n",
       "      <td>1</td>\n",
       "      <td>1</td>\n",
       "      <td>female</td>\n",
       "      <td>30.0</td>\n",
       "      <td>0</td>\n",
       "      <td>0</td>\n",
       "      <td>106.425</td>\n",
       "      <td>C</td>\n",
       "      <td>Miss</td>\n",
       "      <td>28-39</td>\n",
       "    </tr>\n",
       "    <tr>\n",
       "      <th>401</th>\n",
       "      <td>0</td>\n",
       "      <td>3</td>\n",
       "      <td>male</td>\n",
       "      <td>26.0</td>\n",
       "      <td>0</td>\n",
       "      <td>0</td>\n",
       "      <td>8.050</td>\n",
       "      <td>S</td>\n",
       "      <td>Mr</td>\n",
       "      <td>21-28</td>\n",
       "    </tr>\n",
       "    <tr>\n",
       "      <th>554</th>\n",
       "      <td>1</td>\n",
       "      <td>3</td>\n",
       "      <td>female</td>\n",
       "      <td>22.0</td>\n",
       "      <td>0</td>\n",
       "      <td>0</td>\n",
       "      <td>7.775</td>\n",
       "      <td>S</td>\n",
       "      <td>Miss</td>\n",
       "      <td>21-28</td>\n",
       "    </tr>\n",
       "    <tr>\n",
       "      <th>213</th>\n",
       "      <td>0</td>\n",
       "      <td>2</td>\n",
       "      <td>male</td>\n",
       "      <td>30.0</td>\n",
       "      <td>0</td>\n",
       "      <td>0</td>\n",
       "      <td>13.000</td>\n",
       "      <td>S</td>\n",
       "      <td>Mr</td>\n",
       "      <td>28-39</td>\n",
       "    </tr>\n",
       "    <tr>\n",
       "      <th>434</th>\n",
       "      <td>0</td>\n",
       "      <td>1</td>\n",
       "      <td>male</td>\n",
       "      <td>50.0</td>\n",
       "      <td>1</td>\n",
       "      <td>0</td>\n",
       "      <td>55.900</td>\n",
       "      <td>S</td>\n",
       "      <td>Mr</td>\n",
       "      <td>&gt;39</td>\n",
       "    </tr>\n",
       "  </tbody>\n",
       "</table>\n",
       "</div>"
      ],
      "text/plain": [
       "     Survived  Pclass     Sex   Age SibSp Parch     Fare Embarked Title  \\\n",
       "537         1       1  female  30.0     0     0  106.425        C  Miss   \n",
       "401         0       3    male  26.0     0     0    8.050        S    Mr   \n",
       "554         1       3  female  22.0     0     0    7.775        S  Miss   \n",
       "213         0       2    male  30.0     0     0   13.000        S    Mr   \n",
       "434         0       1    male  50.0     1     0   55.900        S    Mr   \n",
       "\n",
       "    Age_cat  \n",
       "537   28-39  \n",
       "401   21-28  \n",
       "554   21-28  \n",
       "213   28-39  \n",
       "434     >39  "
      ]
     },
     "execution_count": 175,
     "metadata": {},
     "output_type": "execute_result"
    }
   ],
   "source": [
    "df_train.head()"
   ]
  },
  {
   "cell_type": "code",
   "execution_count": 176,
   "id": "34d681b0-ea98-466b-b39b-fe0de35698e6",
   "metadata": {},
   "outputs": [],
   "source": [
    "#ile jest brakow"
   ]
  },
  {
   "cell_type": "code",
   "execution_count": 177,
   "id": "d82a3124-d991-40fb-8da3-d0dedb6848dc",
   "metadata": {},
   "outputs": [
    {
     "data": {
      "text/plain": [
       "0"
      ]
     },
     "execution_count": 177,
     "metadata": {},
     "output_type": "execute_result"
    }
   ],
   "source": [
    "df_train['Age'].isna().sum()"
   ]
  },
  {
   "cell_type": "code",
   "execution_count": 178,
   "id": "0597ee43-015a-4b40-b91c-e2b97b8e37ab",
   "metadata": {},
   "outputs": [],
   "source": [
    "#wexmiemy zmienna Pclass"
   ]
  },
  {
   "cell_type": "code",
   "execution_count": null,
   "id": "2c998e73-8018-4f2c-81b9-f277472e274a",
   "metadata": {},
   "outputs": [],
   "source": []
  },
  {
   "cell_type": "code",
   "execution_count": 179,
   "id": "03defba6-95c0-4f3f-ab6d-492120e4d1e6",
   "metadata": {},
   "outputs": [
    {
     "data": {
      "text/html": [
       "<div>\n",
       "<style scoped>\n",
       "    .dataframe tbody tr th:only-of-type {\n",
       "        vertical-align: middle;\n",
       "    }\n",
       "\n",
       "    .dataframe tbody tr th {\n",
       "        vertical-align: top;\n",
       "    }\n",
       "\n",
       "    .dataframe thead th {\n",
       "        text-align: right;\n",
       "    }\n",
       "</style>\n",
       "<table border=\"1\" class=\"dataframe\">\n",
       "  <thead>\n",
       "    <tr style=\"text-align: right;\">\n",
       "      <th></th>\n",
       "      <th>Age</th>\n",
       "    </tr>\n",
       "    <tr>\n",
       "      <th>Pclass</th>\n",
       "      <th></th>\n",
       "    </tr>\n",
       "  </thead>\n",
       "  <tbody>\n",
       "    <tr>\n",
       "      <th>1</th>\n",
       "      <td>36.828656</td>\n",
       "    </tr>\n",
       "    <tr>\n",
       "      <th>2</th>\n",
       "      <td>30.714229</td>\n",
       "    </tr>\n",
       "    <tr>\n",
       "      <th>3</th>\n",
       "      <td>26.549376</td>\n",
       "    </tr>\n",
       "  </tbody>\n",
       "</table>\n",
       "</div>"
      ],
      "text/plain": [
       "              Age\n",
       "Pclass           \n",
       "1       36.828656\n",
       "2       30.714229\n",
       "3       26.549376"
      ]
     },
     "execution_count": 179,
     "metadata": {},
     "output_type": "execute_result"
    }
   ],
   "source": [
    "df_train[['Pclass','Age']].groupby(['Pclass']).mean()"
   ]
  },
  {
   "cell_type": "code",
   "execution_count": 180,
   "id": "cca717da-d7d5-477b-8d84-25af507a1f8c",
   "metadata": {},
   "outputs": [],
   "source": [
    "#im wyższa klasa tym średniw iek wyższy"
   ]
  },
  {
   "cell_type": "code",
   "execution_count": 181,
   "id": "dc6b2322-7878-4b66-93d9-d754afef3e32",
   "metadata": {},
   "outputs": [],
   "source": [
    "#importuje wartosć więku w zaleznosci od klasy kabiny miał pasazer"
   ]
  },
  {
   "cell_type": "code",
   "execution_count": 182,
   "id": "6242e7ef-9e53-421e-a07e-ffccb8db0e05",
   "metadata": {},
   "outputs": [],
   "source": [
    "#wykorzystuje funkcje where jesli df trainnie jest brakiem danych tak się to oznacza ~df_train['Age']) to przypisze wartosc Age\n",
    "#w przeciwnym razie przypiszemy wartośc"
   ]
  },
  {
   "cell_type": "code",
   "execution_count": 183,
   "id": "d517fd44-1934-461b-9966-ffe7dcbcd45d",
   "metadata": {},
   "outputs": [],
   "source": [
    "df_train['Age'] = np.where(~df_train['Age'].isna(), df_train['Age'],\n",
    "                          np.where(df_train['Pclass']==1, 37.995704,\n",
    "                                  np.where(df_train['Pclass']==2, 30.758621, 25.230445)))"
   ]
  },
  {
   "cell_type": "code",
   "execution_count": 184,
   "id": "8f3578ab-b181-4c57-a103-29e1144471fe",
   "metadata": {},
   "outputs": [
    {
     "data": {
      "text/plain": [
       "0"
      ]
     },
     "execution_count": 184,
     "metadata": {},
     "output_type": "execute_result"
    }
   ],
   "source": [
    "df_train['Age'].isna().sum()"
   ]
  },
  {
   "cell_type": "code",
   "execution_count": 185,
   "id": "f7433f53-3c96-4199-a53d-912e6ace37e2",
   "metadata": {},
   "outputs": [],
   "source": [
    "df_test['Age'] = np.where(~df_test['Age'].isna(), df_test['Age'],\n",
    "                          np.where(df_test['Pclass']==1, 37.995704,\n",
    "                                  np.where(df_test['Pclass']==2, 30.758621, 25.230445)))"
   ]
  },
  {
   "cell_type": "code",
   "execution_count": 186,
   "id": "ce54f224-bb4e-4824-a63d-5dd922ab6526",
   "metadata": {},
   "outputs": [
    {
     "data": {
      "text/plain": [
       "0"
      ]
     },
     "execution_count": 186,
     "metadata": {},
     "output_type": "execute_result"
    }
   ],
   "source": [
    "df_test['Age'].isna().sum()"
   ]
  },
  {
   "cell_type": "code",
   "execution_count": 187,
   "id": "69f28fc6-fa70-499d-a92e-89f3107f587f",
   "metadata": {},
   "outputs": [],
   "source": [
    "#Dokaldneijsa metoda niż imputowanie za pomca całego zbioru..."
   ]
  },
  {
   "cell_type": "code",
   "execution_count": 188,
   "id": "f2f9c20e-ee7c-4095-85ca-dd98bc6107ca",
   "metadata": {},
   "outputs": [],
   "source": [
    "#usuwamy zmienną age ze zbiorut renignowego it estowego\n"
   ]
  },
  {
   "cell_type": "code",
   "execution_count": 189,
   "id": "013633de-6466-49f5-9eca-ca4a2d190dc7",
   "metadata": {},
   "outputs": [],
   "source": [
    "df_train.drop('Age', axis=1, inplace=True)\n",
    "df_test.drop('Age', axis=1, inplace=True)"
   ]
  },
  {
   "cell_type": "code",
   "execution_count": 190,
   "id": "0db71982-1e0b-4a69-aed6-f9968a53df77",
   "metadata": {
    "scrolled": true
   },
   "outputs": [
    {
     "data": {
      "text/html": [
       "<div>\n",
       "<style scoped>\n",
       "    .dataframe tbody tr th:only-of-type {\n",
       "        vertical-align: middle;\n",
       "    }\n",
       "\n",
       "    .dataframe tbody tr th {\n",
       "        vertical-align: top;\n",
       "    }\n",
       "\n",
       "    .dataframe thead th {\n",
       "        text-align: right;\n",
       "    }\n",
       "</style>\n",
       "<table border=\"1\" class=\"dataframe\">\n",
       "  <thead>\n",
       "    <tr style=\"text-align: right;\">\n",
       "      <th></th>\n",
       "      <th>Survived</th>\n",
       "      <th>Pclass</th>\n",
       "      <th>Sex</th>\n",
       "      <th>SibSp</th>\n",
       "      <th>Parch</th>\n",
       "      <th>Fare</th>\n",
       "      <th>Embarked</th>\n",
       "      <th>Title</th>\n",
       "      <th>Age_cat</th>\n",
       "    </tr>\n",
       "  </thead>\n",
       "  <tbody>\n",
       "    <tr>\n",
       "      <th>537</th>\n",
       "      <td>1</td>\n",
       "      <td>1</td>\n",
       "      <td>female</td>\n",
       "      <td>0</td>\n",
       "      <td>0</td>\n",
       "      <td>106.425</td>\n",
       "      <td>C</td>\n",
       "      <td>Miss</td>\n",
       "      <td>28-39</td>\n",
       "    </tr>\n",
       "    <tr>\n",
       "      <th>401</th>\n",
       "      <td>0</td>\n",
       "      <td>3</td>\n",
       "      <td>male</td>\n",
       "      <td>0</td>\n",
       "      <td>0</td>\n",
       "      <td>8.050</td>\n",
       "      <td>S</td>\n",
       "      <td>Mr</td>\n",
       "      <td>21-28</td>\n",
       "    </tr>\n",
       "    <tr>\n",
       "      <th>554</th>\n",
       "      <td>1</td>\n",
       "      <td>3</td>\n",
       "      <td>female</td>\n",
       "      <td>0</td>\n",
       "      <td>0</td>\n",
       "      <td>7.775</td>\n",
       "      <td>S</td>\n",
       "      <td>Miss</td>\n",
       "      <td>21-28</td>\n",
       "    </tr>\n",
       "    <tr>\n",
       "      <th>213</th>\n",
       "      <td>0</td>\n",
       "      <td>2</td>\n",
       "      <td>male</td>\n",
       "      <td>0</td>\n",
       "      <td>0</td>\n",
       "      <td>13.000</td>\n",
       "      <td>S</td>\n",
       "      <td>Mr</td>\n",
       "      <td>28-39</td>\n",
       "    </tr>\n",
       "    <tr>\n",
       "      <th>434</th>\n",
       "      <td>0</td>\n",
       "      <td>1</td>\n",
       "      <td>male</td>\n",
       "      <td>1</td>\n",
       "      <td>0</td>\n",
       "      <td>55.900</td>\n",
       "      <td>S</td>\n",
       "      <td>Mr</td>\n",
       "      <td>&gt;39</td>\n",
       "    </tr>\n",
       "  </tbody>\n",
       "</table>\n",
       "</div>"
      ],
      "text/plain": [
       "     Survived  Pclass     Sex SibSp Parch     Fare Embarked Title Age_cat\n",
       "537         1       1  female     0     0  106.425        C  Miss   28-39\n",
       "401         0       3    male     0     0    8.050        S    Mr   21-28\n",
       "554         1       3  female     0     0    7.775        S  Miss   21-28\n",
       "213         0       2    male     0     0   13.000        S    Mr   28-39\n",
       "434         0       1    male     1     0   55.900        S    Mr     >39"
      ]
     },
     "execution_count": 190,
     "metadata": {},
     "output_type": "execute_result"
    }
   ],
   "source": [
    "df_train.head()"
   ]
  },
  {
   "cell_type": "code",
   "execution_count": 191,
   "id": "e86ba9bb-b5de-49c8-bec3-1e56f301cf71",
   "metadata": {},
   "outputs": [
    {
     "data": {
      "text/html": [
       "<div>\n",
       "<style scoped>\n",
       "    .dataframe tbody tr th:only-of-type {\n",
       "        vertical-align: middle;\n",
       "    }\n",
       "\n",
       "    .dataframe tbody tr th {\n",
       "        vertical-align: top;\n",
       "    }\n",
       "\n",
       "    .dataframe thead th {\n",
       "        text-align: right;\n",
       "    }\n",
       "</style>\n",
       "<table border=\"1\" class=\"dataframe\">\n",
       "  <thead>\n",
       "    <tr style=\"text-align: right;\">\n",
       "      <th></th>\n",
       "      <th>Survived</th>\n",
       "      <th>Pclass</th>\n",
       "      <th>Sex</th>\n",
       "      <th>SibSp</th>\n",
       "      <th>Parch</th>\n",
       "      <th>Fare</th>\n",
       "      <th>Embarked</th>\n",
       "      <th>Title</th>\n",
       "      <th>Age_cat</th>\n",
       "    </tr>\n",
       "  </thead>\n",
       "  <tbody>\n",
       "    <tr>\n",
       "      <th>646</th>\n",
       "      <td>0</td>\n",
       "      <td>3</td>\n",
       "      <td>male</td>\n",
       "      <td>0</td>\n",
       "      <td>0</td>\n",
       "      <td>7.8958</td>\n",
       "      <td>S</td>\n",
       "      <td>Mr</td>\n",
       "      <td>0-21</td>\n",
       "    </tr>\n",
       "    <tr>\n",
       "      <th>876</th>\n",
       "      <td>0</td>\n",
       "      <td>3</td>\n",
       "      <td>male</td>\n",
       "      <td>0</td>\n",
       "      <td>0</td>\n",
       "      <td>9.8458</td>\n",
       "      <td>S</td>\n",
       "      <td>Mr</td>\n",
       "      <td>0-21</td>\n",
       "    </tr>\n",
       "    <tr>\n",
       "      <th>359</th>\n",
       "      <td>1</td>\n",
       "      <td>3</td>\n",
       "      <td>female</td>\n",
       "      <td>0</td>\n",
       "      <td>0</td>\n",
       "      <td>7.8792</td>\n",
       "      <td>Q</td>\n",
       "      <td>Miss</td>\n",
       "      <td>brak</td>\n",
       "    </tr>\n",
       "    <tr>\n",
       "      <th>194</th>\n",
       "      <td>1</td>\n",
       "      <td>1</td>\n",
       "      <td>female</td>\n",
       "      <td>0</td>\n",
       "      <td>0</td>\n",
       "      <td>27.7208</td>\n",
       "      <td>C</td>\n",
       "      <td>Mrs</td>\n",
       "      <td>&gt;39</td>\n",
       "    </tr>\n",
       "    <tr>\n",
       "      <th>819</th>\n",
       "      <td>0</td>\n",
       "      <td>3</td>\n",
       "      <td>male</td>\n",
       "      <td>2+</td>\n",
       "      <td>2+</td>\n",
       "      <td>27.9000</td>\n",
       "      <td>S</td>\n",
       "      <td>Master</td>\n",
       "      <td>0-21</td>\n",
       "    </tr>\n",
       "  </tbody>\n",
       "</table>\n",
       "</div>"
      ],
      "text/plain": [
       "     Survived  Pclass     Sex SibSp Parch     Fare Embarked   Title Age_cat\n",
       "646         0       3    male     0     0   7.8958        S      Mr    0-21\n",
       "876         0       3    male     0     0   9.8458        S      Mr    0-21\n",
       "359         1       3  female     0     0   7.8792        Q    Miss    brak\n",
       "194         1       1  female     0     0  27.7208        C     Mrs     >39\n",
       "819         0       3    male    2+    2+  27.9000        S  Master    0-21"
      ]
     },
     "execution_count": 191,
     "metadata": {},
     "output_type": "execute_result"
    }
   ],
   "source": [
    "df_test.head()"
   ]
  },
  {
   "cell_type": "code",
   "execution_count": 192,
   "id": "7343d7ac-401d-4edd-b7a8-e6c05ea4b1e1",
   "metadata": {},
   "outputs": [],
   "source": [
    "#Braki danych w zmiennej kategorycznej Embarked"
   ]
  },
  {
   "cell_type": "code",
   "execution_count": 193,
   "id": "d1f0dac3-ac0b-451e-b45a-9270e1a459b0",
   "metadata": {},
   "outputs": [
    {
     "data": {
      "text/plain": [
       "Embarked\n",
       "S    440\n",
       "C    121\n",
       "Q     60\n",
       "Name: count, dtype: int64"
      ]
     },
     "execution_count": 193,
     "metadata": {},
     "output_type": "execute_result"
    }
   ],
   "source": [
    "df_train['Embarked'].value_counts()"
   ]
  },
  {
   "cell_type": "code",
   "execution_count": 194,
   "id": "306ce01e-9b2b-43fb-af45-65f99432a353",
   "metadata": {},
   "outputs": [],
   "source": [
    "#wszystkim brakujacym obserwacjom przypiszę wartosć S.."
   ]
  },
  {
   "cell_type": "code",
   "execution_count": 195,
   "id": "10097737-f644-4637-a606-52d104fa42fe",
   "metadata": {},
   "outputs": [],
   "source": [
    "#tylko dwie brakujące obserwacje i nie wpłyna znaczaco na wynik"
   ]
  },
  {
   "cell_type": "code",
   "execution_count": 196,
   "id": "4bf1e8c5-bac6-4e5c-ac4c-f91f5969557e",
   "metadata": {},
   "outputs": [
    {
     "data": {
      "text/plain": [
       "2"
      ]
     },
     "execution_count": 196,
     "metadata": {},
     "output_type": "execute_result"
    }
   ],
   "source": [
    "df_train['Embarked'].isna().sum()"
   ]
  },
  {
   "cell_type": "code",
   "execution_count": 197,
   "id": "828470c8-3e7c-421f-9739-8c6b58511d7b",
   "metadata": {},
   "outputs": [],
   "source": [
    "#2 wartośći  wstosunku do 400 nie rzutują na dokladnosć modelu to mniej niż 1%"
   ]
  },
  {
   "cell_type": "code",
   "execution_count": 198,
   "id": "dfb74aec-5ded-4f33-890a-5b11e05a180c",
   "metadata": {},
   "outputs": [
    {
     "name": "stderr",
     "output_type": "stream",
     "text": [
      "C:\\Users\\arcis\\AppData\\Local\\Temp\\ipykernel_9180\\2911261531.py:1: FutureWarning: A value is trying to be set on a copy of a DataFrame or Series through chained assignment using an inplace method.\n",
      "The behavior will change in pandas 3.0. This inplace method will never work because the intermediate object on which we are setting values always behaves as a copy.\n",
      "\n",
      "For example, when doing 'df[col].method(value, inplace=True)', try using 'df.method({col: value}, inplace=True)' or df[col] = df[col].method(value) instead, to perform the operation inplace on the original object.\n",
      "\n",
      "\n",
      "  df_train['Embarked'].fillna(\"S\", inplace=True)\n"
     ]
    }
   ],
   "source": [
    "df_train['Embarked'].fillna(\"S\", inplace=True)"
   ]
  },
  {
   "cell_type": "code",
   "execution_count": 199,
   "id": "6820043a-bd2d-4fd9-b9f4-851be2dc9853",
   "metadata": {
    "scrolled": true
   },
   "outputs": [
    {
     "data": {
      "text/plain": [
       "0"
      ]
     },
     "execution_count": 199,
     "metadata": {},
     "output_type": "execute_result"
    }
   ],
   "source": [
    "df_train['Embarked'].isna().sum()"
   ]
  },
  {
   "cell_type": "code",
   "execution_count": 200,
   "id": "dc19b690-d949-4c1c-b32e-915d4f768252",
   "metadata": {},
   "outputs": [
    {
     "data": {
      "text/plain": [
       "0"
      ]
     },
     "execution_count": 200,
     "metadata": {},
     "output_type": "execute_result"
    }
   ],
   "source": [
    "df_test['Embarked'].isna().sum()"
   ]
  },
  {
   "cell_type": "code",
   "execution_count": 201,
   "id": "ddf4237c-c7e0-4dfa-927f-d69ab5bc6f02",
   "metadata": {},
   "outputs": [],
   "source": [
    "#OneHotEncoding "
   ]
  },
  {
   "cell_type": "code",
   "execution_count": 202,
   "id": "8a8f915b-faae-45e0-b8bc-f3dbb1843598",
   "metadata": {},
   "outputs": [],
   "source": [
    "#Embarked"
   ]
  },
  {
   "cell_type": "code",
   "execution_count": 203,
   "id": "25c3857e-8f5a-4e67-8a4d-64efc78ee0ec",
   "metadata": {},
   "outputs": [
    {
     "data": {
      "text/plain": [
       "Embarked\n",
       "S    442\n",
       "C    121\n",
       "Q     60\n",
       "Name: count, dtype: int64"
      ]
     },
     "execution_count": 203,
     "metadata": {},
     "output_type": "execute_result"
    }
   ],
   "source": [
    "df_train['Embarked'].value_counts()"
   ]
  },
  {
   "cell_type": "code",
   "execution_count": 204,
   "id": "c3871054-dd9a-4530-ab2f-000a0589194b",
   "metadata": {},
   "outputs": [],
   "source": [
    "#dopisalismy do S dodatkowe watosci"
   ]
  },
  {
   "cell_type": "code",
   "execution_count": 205,
   "id": "5339a39e-0210-44cc-bd8d-ae39012ead33",
   "metadata": {},
   "outputs": [],
   "source": [
    "#One Hot Encoding\n",
    "#Zamiana danych na zero/ jedynkowe.  Przyklad:mamy kobieta i mężczyzna to zmieniamy to na 0 i 1\n",
    "#tyle kategorii ile jest zmiennych czyli tutaj 2 plec_K i plec_M\n",
    "#Teraz usuwamy zmienna której kategoria wystepuje częściej. jesli było wiecejkobiet plec_K to usuwamy to"
   ]
  },
  {
   "cell_type": "code",
   "execution_count": null,
   "id": "dc579f0a-9eee-4c68-9df1-594c6295e687",
   "metadata": {},
   "outputs": [],
   "source": []
  },
  {
   "cell_type": "code",
   "execution_count": 206,
   "id": "235da56c-1c28-424a-8f06-cb3992ba3088",
   "metadata": {},
   "outputs": [
    {
     "data": {
      "text/html": [
       "<div>\n",
       "<style scoped>\n",
       "    .dataframe tbody tr th:only-of-type {\n",
       "        vertical-align: middle;\n",
       "    }\n",
       "\n",
       "    .dataframe tbody tr th {\n",
       "        vertical-align: top;\n",
       "    }\n",
       "\n",
       "    .dataframe thead th {\n",
       "        text-align: right;\n",
       "    }\n",
       "</style>\n",
       "<table border=\"1\" class=\"dataframe\">\n",
       "  <thead>\n",
       "    <tr style=\"text-align: right;\">\n",
       "      <th></th>\n",
       "      <th>Survived</th>\n",
       "      <th>Pclass</th>\n",
       "      <th>Sex</th>\n",
       "      <th>SibSp</th>\n",
       "      <th>Parch</th>\n",
       "      <th>Fare</th>\n",
       "      <th>Embarked</th>\n",
       "      <th>Title</th>\n",
       "      <th>Age_cat</th>\n",
       "    </tr>\n",
       "  </thead>\n",
       "  <tbody>\n",
       "    <tr>\n",
       "      <th>537</th>\n",
       "      <td>1</td>\n",
       "      <td>1</td>\n",
       "      <td>female</td>\n",
       "      <td>0</td>\n",
       "      <td>0</td>\n",
       "      <td>106.425</td>\n",
       "      <td>C</td>\n",
       "      <td>Miss</td>\n",
       "      <td>28-39</td>\n",
       "    </tr>\n",
       "    <tr>\n",
       "      <th>401</th>\n",
       "      <td>0</td>\n",
       "      <td>3</td>\n",
       "      <td>male</td>\n",
       "      <td>0</td>\n",
       "      <td>0</td>\n",
       "      <td>8.050</td>\n",
       "      <td>S</td>\n",
       "      <td>Mr</td>\n",
       "      <td>21-28</td>\n",
       "    </tr>\n",
       "    <tr>\n",
       "      <th>554</th>\n",
       "      <td>1</td>\n",
       "      <td>3</td>\n",
       "      <td>female</td>\n",
       "      <td>0</td>\n",
       "      <td>0</td>\n",
       "      <td>7.775</td>\n",
       "      <td>S</td>\n",
       "      <td>Miss</td>\n",
       "      <td>21-28</td>\n",
       "    </tr>\n",
       "    <tr>\n",
       "      <th>213</th>\n",
       "      <td>0</td>\n",
       "      <td>2</td>\n",
       "      <td>male</td>\n",
       "      <td>0</td>\n",
       "      <td>0</td>\n",
       "      <td>13.000</td>\n",
       "      <td>S</td>\n",
       "      <td>Mr</td>\n",
       "      <td>28-39</td>\n",
       "    </tr>\n",
       "    <tr>\n",
       "      <th>434</th>\n",
       "      <td>0</td>\n",
       "      <td>1</td>\n",
       "      <td>male</td>\n",
       "      <td>1</td>\n",
       "      <td>0</td>\n",
       "      <td>55.900</td>\n",
       "      <td>S</td>\n",
       "      <td>Mr</td>\n",
       "      <td>&gt;39</td>\n",
       "    </tr>\n",
       "  </tbody>\n",
       "</table>\n",
       "</div>"
      ],
      "text/plain": [
       "     Survived  Pclass     Sex SibSp Parch     Fare Embarked Title Age_cat\n",
       "537         1       1  female     0     0  106.425        C  Miss   28-39\n",
       "401         0       3    male     0     0    8.050        S    Mr   21-28\n",
       "554         1       3  female     0     0    7.775        S  Miss   21-28\n",
       "213         0       2    male     0     0   13.000        S    Mr   28-39\n",
       "434         0       1    male     1     0   55.900        S    Mr     >39"
      ]
     },
     "execution_count": 206,
     "metadata": {},
     "output_type": "execute_result"
    }
   ],
   "source": [
    "df_train.head()"
   ]
  },
  {
   "cell_type": "code",
   "execution_count": 207,
   "id": "99223ebf-a9ac-44a4-b818-6fe012ea0233",
   "metadata": {},
   "outputs": [
    {
     "data": {
      "text/plain": [
       "Embarked\n",
       "S    442\n",
       "C    121\n",
       "Q     60\n",
       "Name: count, dtype: int64"
      ]
     },
     "execution_count": 207,
     "metadata": {},
     "output_type": "execute_result"
    }
   ],
   "source": [
    "df_train['Embarked'].value_counts()"
   ]
  },
  {
   "cell_type": "code",
   "execution_count": 208,
   "id": "46befb2f-8e83-4c6c-b21e-487807185cf4",
   "metadata": {},
   "outputs": [],
   "source": [
    "#Tworzymy tabelę ze zmiennymi zero-jeden dla Embarked i lokalizacji rejsów w oparciu o \n",
    "#get dummies podajemy jaka zmienna z jakiej tabeli jako argument"
   ]
  },
  {
   "cell_type": "code",
   "execution_count": 209,
   "id": "9c6e7fc1-bb3c-42fc-a332-f556b70fcded",
   "metadata": {},
   "outputs": [
    {
     "data": {
      "text/html": [
       "<div>\n",
       "<style scoped>\n",
       "    .dataframe tbody tr th:only-of-type {\n",
       "        vertical-align: middle;\n",
       "    }\n",
       "\n",
       "    .dataframe tbody tr th {\n",
       "        vertical-align: top;\n",
       "    }\n",
       "\n",
       "    .dataframe thead th {\n",
       "        text-align: right;\n",
       "    }\n",
       "</style>\n",
       "<table border=\"1\" class=\"dataframe\">\n",
       "  <thead>\n",
       "    <tr style=\"text-align: right;\">\n",
       "      <th></th>\n",
       "      <th>C</th>\n",
       "      <th>Q</th>\n",
       "      <th>S</th>\n",
       "    </tr>\n",
       "  </thead>\n",
       "  <tbody>\n",
       "    <tr>\n",
       "      <th>537</th>\n",
       "      <td>True</td>\n",
       "      <td>False</td>\n",
       "      <td>False</td>\n",
       "    </tr>\n",
       "    <tr>\n",
       "      <th>401</th>\n",
       "      <td>False</td>\n",
       "      <td>False</td>\n",
       "      <td>True</td>\n",
       "    </tr>\n",
       "    <tr>\n",
       "      <th>554</th>\n",
       "      <td>False</td>\n",
       "      <td>False</td>\n",
       "      <td>True</td>\n",
       "    </tr>\n",
       "    <tr>\n",
       "      <th>213</th>\n",
       "      <td>False</td>\n",
       "      <td>False</td>\n",
       "      <td>True</td>\n",
       "    </tr>\n",
       "    <tr>\n",
       "      <th>434</th>\n",
       "      <td>False</td>\n",
       "      <td>False</td>\n",
       "      <td>True</td>\n",
       "    </tr>\n",
       "    <tr>\n",
       "      <th>...</th>\n",
       "      <td>...</td>\n",
       "      <td>...</td>\n",
       "      <td>...</td>\n",
       "    </tr>\n",
       "    <tr>\n",
       "      <th>360</th>\n",
       "      <td>False</td>\n",
       "      <td>False</td>\n",
       "      <td>True</td>\n",
       "    </tr>\n",
       "    <tr>\n",
       "      <th>709</th>\n",
       "      <td>True</td>\n",
       "      <td>False</td>\n",
       "      <td>False</td>\n",
       "    </tr>\n",
       "    <tr>\n",
       "      <th>439</th>\n",
       "      <td>False</td>\n",
       "      <td>False</td>\n",
       "      <td>True</td>\n",
       "    </tr>\n",
       "    <tr>\n",
       "      <th>174</th>\n",
       "      <td>True</td>\n",
       "      <td>False</td>\n",
       "      <td>False</td>\n",
       "    </tr>\n",
       "    <tr>\n",
       "      <th>122</th>\n",
       "      <td>True</td>\n",
       "      <td>False</td>\n",
       "      <td>False</td>\n",
       "    </tr>\n",
       "  </tbody>\n",
       "</table>\n",
       "<p>623 rows × 3 columns</p>\n",
       "</div>"
      ],
      "text/plain": [
       "         C      Q      S\n",
       "537   True  False  False\n",
       "401  False  False   True\n",
       "554  False  False   True\n",
       "213  False  False   True\n",
       "434  False  False   True\n",
       "..     ...    ...    ...\n",
       "360  False  False   True\n",
       "709   True  False  False\n",
       "439  False  False   True\n",
       "174   True  False  False\n",
       "122   True  False  False\n",
       "\n",
       "[623 rows x 3 columns]"
      ]
     },
     "execution_count": 209,
     "metadata": {},
     "output_type": "execute_result"
    }
   ],
   "source": [
    "pd.get_dummies(df_train['Embarked'])"
   ]
  },
  {
   "cell_type": "code",
   "execution_count": 210,
   "id": "1d534bd1-f2be-45e9-8eaf-cd1c0838357b",
   "metadata": {},
   "outputs": [],
   "source": [
    "#Aby wiedzieć do której kategorii dana zmienna się odnosi stosujemy prefix"
   ]
  },
  {
   "cell_type": "code",
   "execution_count": 211,
   "id": "05c77d1c-1a7b-4f5d-bd71-464bac91f74c",
   "metadata": {},
   "outputs": [],
   "source": [
    "#przypisanie do zmiennej"
   ]
  },
  {
   "cell_type": "code",
   "execution_count": 212,
   "id": "35f42b13-c2ea-4892-89aa-c333e529d378",
   "metadata": {},
   "outputs": [],
   "source": [
    "dummy = pd.get_dummies(df_train['Embarked'], prefix='Embarked')"
   ]
  },
  {
   "cell_type": "code",
   "execution_count": 213,
   "id": "8ef61118-90f3-44f4-aae4-f83923a8d381",
   "metadata": {},
   "outputs": [],
   "source": [
    "dummy_test = pd.get_dummies(df_test['Embarked'], prefix='Embarked')"
   ]
  },
  {
   "cell_type": "code",
   "execution_count": 214,
   "id": "dac588aa-9543-4b17-86ba-39abd25c8e68",
   "metadata": {},
   "outputs": [],
   "source": [
    "#Wiemy z jakiej początkowej zmiennej pochodzi nowa zmienna"
   ]
  },
  {
   "cell_type": "code",
   "execution_count": 215,
   "id": "4d42e4b7-b6b7-4aaf-8e62-c472b6ced824",
   "metadata": {},
   "outputs": [],
   "source": [
    "#usuniecie zmiennej pojawiającej sie najczesciej"
   ]
  },
  {
   "cell_type": "code",
   "execution_count": 216,
   "id": "4c0ac2e3-b5d5-4017-b3bc-49f726e67e1f",
   "metadata": {},
   "outputs": [
    {
     "data": {
      "text/plain": [
       "Embarked\n",
       "S    442\n",
       "C    121\n",
       "Q     60\n",
       "Name: count, dtype: int64"
      ]
     },
     "execution_count": 216,
     "metadata": {},
     "output_type": "execute_result"
    }
   ],
   "source": [
    "df_train['Embarked'].value_counts()"
   ]
  },
  {
   "cell_type": "code",
   "execution_count": 217,
   "id": "a429d1a4-1403-4eae-9f22-8f5b1ffe6e1c",
   "metadata": {},
   "outputs": [],
   "source": [
    "#kategoria s jest najczesciej wystepuje wiec ja usuwam z nowych zmiennych"
   ]
  },
  {
   "cell_type": "code",
   "execution_count": 218,
   "id": "92403bf4-7b93-4474-a496-36b92bf2e554",
   "metadata": {},
   "outputs": [
    {
     "data": {
      "text/plain": [
       "Embarked\n",
       "S    204\n",
       "C     47\n",
       "Q     17\n",
       "Name: count, dtype: int64"
      ]
     },
     "execution_count": 218,
     "metadata": {},
     "output_type": "execute_result"
    }
   ],
   "source": [
    "df_test['Embarked'].value_counts()"
   ]
  },
  {
   "cell_type": "code",
   "execution_count": 219,
   "id": "a0ce1c1b-4356-4571-acd4-69cd8379fae7",
   "metadata": {},
   "outputs": [],
   "source": [
    "dummy.drop('Embarked_S', axis=1, inplace=True)\n",
    "dummy_test.drop('Embarked_S', axis=1, inplace=True)"
   ]
  },
  {
   "cell_type": "code",
   "execution_count": 220,
   "id": "bbad44e7-9c64-4a7b-bce7-be20bfae347c",
   "metadata": {},
   "outputs": [
    {
     "data": {
      "text/html": [
       "<div>\n",
       "<style scoped>\n",
       "    .dataframe tbody tr th:only-of-type {\n",
       "        vertical-align: middle;\n",
       "    }\n",
       "\n",
       "    .dataframe tbody tr th {\n",
       "        vertical-align: top;\n",
       "    }\n",
       "\n",
       "    .dataframe thead th {\n",
       "        text-align: right;\n",
       "    }\n",
       "</style>\n",
       "<table border=\"1\" class=\"dataframe\">\n",
       "  <thead>\n",
       "    <tr style=\"text-align: right;\">\n",
       "      <th></th>\n",
       "      <th>Embarked_C</th>\n",
       "      <th>Embarked_Q</th>\n",
       "    </tr>\n",
       "  </thead>\n",
       "  <tbody>\n",
       "    <tr>\n",
       "      <th>537</th>\n",
       "      <td>True</td>\n",
       "      <td>False</td>\n",
       "    </tr>\n",
       "    <tr>\n",
       "      <th>401</th>\n",
       "      <td>False</td>\n",
       "      <td>False</td>\n",
       "    </tr>\n",
       "    <tr>\n",
       "      <th>554</th>\n",
       "      <td>False</td>\n",
       "      <td>False</td>\n",
       "    </tr>\n",
       "    <tr>\n",
       "      <th>213</th>\n",
       "      <td>False</td>\n",
       "      <td>False</td>\n",
       "    </tr>\n",
       "    <tr>\n",
       "      <th>434</th>\n",
       "      <td>False</td>\n",
       "      <td>False</td>\n",
       "    </tr>\n",
       "    <tr>\n",
       "      <th>...</th>\n",
       "      <td>...</td>\n",
       "      <td>...</td>\n",
       "    </tr>\n",
       "    <tr>\n",
       "      <th>360</th>\n",
       "      <td>False</td>\n",
       "      <td>False</td>\n",
       "    </tr>\n",
       "    <tr>\n",
       "      <th>709</th>\n",
       "      <td>True</td>\n",
       "      <td>False</td>\n",
       "    </tr>\n",
       "    <tr>\n",
       "      <th>439</th>\n",
       "      <td>False</td>\n",
       "      <td>False</td>\n",
       "    </tr>\n",
       "    <tr>\n",
       "      <th>174</th>\n",
       "      <td>True</td>\n",
       "      <td>False</td>\n",
       "    </tr>\n",
       "    <tr>\n",
       "      <th>122</th>\n",
       "      <td>True</td>\n",
       "      <td>False</td>\n",
       "    </tr>\n",
       "  </tbody>\n",
       "</table>\n",
       "<p>623 rows × 2 columns</p>\n",
       "</div>"
      ],
      "text/plain": [
       "     Embarked_C  Embarked_Q\n",
       "537        True       False\n",
       "401       False       False\n",
       "554       False       False\n",
       "213       False       False\n",
       "434       False       False\n",
       "..          ...         ...\n",
       "360       False       False\n",
       "709        True       False\n",
       "439       False       False\n",
       "174        True       False\n",
       "122        True       False\n",
       "\n",
       "[623 rows x 2 columns]"
      ]
     },
     "execution_count": 220,
     "metadata": {},
     "output_type": "execute_result"
    }
   ],
   "source": [
    "dummy"
   ]
  },
  {
   "cell_type": "code",
   "execution_count": 221,
   "id": "957c6fdb-8132-4d1b-a36b-5bace1fe29fe",
   "metadata": {},
   "outputs": [
    {
     "data": {
      "text/plain": [
       "Embarked\n",
       "S    204\n",
       "C     47\n",
       "Q     17\n",
       "Name: count, dtype: int64"
      ]
     },
     "execution_count": 221,
     "metadata": {},
     "output_type": "execute_result"
    }
   ],
   "source": [
    "df_test['Embarked'].value_counts()"
   ]
  },
  {
   "cell_type": "code",
   "execution_count": null,
   "id": "7297ab95-2d72-4313-b856-485dfab267a5",
   "metadata": {},
   "outputs": [],
   "source": [
    "\n"
   ]
  },
  {
   "cell_type": "code",
   "execution_count": 222,
   "id": "1cea7a3b-8b84-43c1-8ff0-a7ecd0a79ae7",
   "metadata": {},
   "outputs": [
    {
     "data": {
      "text/html": [
       "<div>\n",
       "<style scoped>\n",
       "    .dataframe tbody tr th:only-of-type {\n",
       "        vertical-align: middle;\n",
       "    }\n",
       "\n",
       "    .dataframe tbody tr th {\n",
       "        vertical-align: top;\n",
       "    }\n",
       "\n",
       "    .dataframe thead th {\n",
       "        text-align: right;\n",
       "    }\n",
       "</style>\n",
       "<table border=\"1\" class=\"dataframe\">\n",
       "  <thead>\n",
       "    <tr style=\"text-align: right;\">\n",
       "      <th></th>\n",
       "      <th>Embarked_C</th>\n",
       "      <th>Embarked_Q</th>\n",
       "    </tr>\n",
       "  </thead>\n",
       "  <tbody>\n",
       "    <tr>\n",
       "      <th>646</th>\n",
       "      <td>False</td>\n",
       "      <td>False</td>\n",
       "    </tr>\n",
       "    <tr>\n",
       "      <th>876</th>\n",
       "      <td>False</td>\n",
       "      <td>False</td>\n",
       "    </tr>\n",
       "    <tr>\n",
       "      <th>359</th>\n",
       "      <td>False</td>\n",
       "      <td>True</td>\n",
       "    </tr>\n",
       "    <tr>\n",
       "      <th>194</th>\n",
       "      <td>True</td>\n",
       "      <td>False</td>\n",
       "    </tr>\n",
       "    <tr>\n",
       "      <th>819</th>\n",
       "      <td>False</td>\n",
       "      <td>False</td>\n",
       "    </tr>\n",
       "    <tr>\n",
       "      <th>...</th>\n",
       "      <td>...</td>\n",
       "      <td>...</td>\n",
       "    </tr>\n",
       "    <tr>\n",
       "      <th>455</th>\n",
       "      <td>True</td>\n",
       "      <td>False</td>\n",
       "    </tr>\n",
       "    <tr>\n",
       "      <th>432</th>\n",
       "      <td>False</td>\n",
       "      <td>False</td>\n",
       "    </tr>\n",
       "    <tr>\n",
       "      <th>473</th>\n",
       "      <td>True</td>\n",
       "      <td>False</td>\n",
       "    </tr>\n",
       "    <tr>\n",
       "      <th>658</th>\n",
       "      <td>False</td>\n",
       "      <td>False</td>\n",
       "    </tr>\n",
       "    <tr>\n",
       "      <th>757</th>\n",
       "      <td>False</td>\n",
       "      <td>False</td>\n",
       "    </tr>\n",
       "  </tbody>\n",
       "</table>\n",
       "<p>268 rows × 2 columns</p>\n",
       "</div>"
      ],
      "text/plain": [
       "     Embarked_C  Embarked_Q\n",
       "646       False       False\n",
       "876       False       False\n",
       "359       False        True\n",
       "194        True       False\n",
       "819       False       False\n",
       "..          ...         ...\n",
       "455        True       False\n",
       "432       False       False\n",
       "473        True       False\n",
       "658       False       False\n",
       "757       False       False\n",
       "\n",
       "[268 rows x 2 columns]"
      ]
     },
     "execution_count": 222,
     "metadata": {},
     "output_type": "execute_result"
    }
   ],
   "source": [
    "dummy_test"
   ]
  },
  {
   "cell_type": "code",
   "execution_count": null,
   "id": "b021d4be-98f1-4318-8756-1b3d13cf21ae",
   "metadata": {},
   "outputs": [],
   "source": [
    "#dołączamy dumy i dummmy_test do pcozatkowych zbiorów danych wykrozystujac concat"
   ]
  },
  {
   "cell_type": "code",
   "execution_count": 223,
   "id": "a6396f0b-cb1c-4b26-8a78-a4657bde5002",
   "metadata": {},
   "outputs": [],
   "source": [
    "df_train = pd.concat([df_train, dummy], axis=1)\n",
    "df_test = pd.concat([df_test, dummy_test], axis=1)"
   ]
  },
  {
   "cell_type": "code",
   "execution_count": 224,
   "id": "d9bd3431-7eec-4051-aed8-20e3fd0215b6",
   "metadata": {},
   "outputs": [
    {
     "data": {
      "text/html": [
       "<div>\n",
       "<style scoped>\n",
       "    .dataframe tbody tr th:only-of-type {\n",
       "        vertical-align: middle;\n",
       "    }\n",
       "\n",
       "    .dataframe tbody tr th {\n",
       "        vertical-align: top;\n",
       "    }\n",
       "\n",
       "    .dataframe thead th {\n",
       "        text-align: right;\n",
       "    }\n",
       "</style>\n",
       "<table border=\"1\" class=\"dataframe\">\n",
       "  <thead>\n",
       "    <tr style=\"text-align: right;\">\n",
       "      <th></th>\n",
       "      <th>Survived</th>\n",
       "      <th>Pclass</th>\n",
       "      <th>Sex</th>\n",
       "      <th>SibSp</th>\n",
       "      <th>Parch</th>\n",
       "      <th>Fare</th>\n",
       "      <th>Embarked</th>\n",
       "      <th>Title</th>\n",
       "      <th>Age_cat</th>\n",
       "      <th>Embarked_C</th>\n",
       "      <th>Embarked_Q</th>\n",
       "    </tr>\n",
       "  </thead>\n",
       "  <tbody>\n",
       "    <tr>\n",
       "      <th>537</th>\n",
       "      <td>1</td>\n",
       "      <td>1</td>\n",
       "      <td>female</td>\n",
       "      <td>0</td>\n",
       "      <td>0</td>\n",
       "      <td>106.4250</td>\n",
       "      <td>C</td>\n",
       "      <td>Miss</td>\n",
       "      <td>28-39</td>\n",
       "      <td>True</td>\n",
       "      <td>False</td>\n",
       "    </tr>\n",
       "    <tr>\n",
       "      <th>401</th>\n",
       "      <td>0</td>\n",
       "      <td>3</td>\n",
       "      <td>male</td>\n",
       "      <td>0</td>\n",
       "      <td>0</td>\n",
       "      <td>8.0500</td>\n",
       "      <td>S</td>\n",
       "      <td>Mr</td>\n",
       "      <td>21-28</td>\n",
       "      <td>False</td>\n",
       "      <td>False</td>\n",
       "    </tr>\n",
       "    <tr>\n",
       "      <th>554</th>\n",
       "      <td>1</td>\n",
       "      <td>3</td>\n",
       "      <td>female</td>\n",
       "      <td>0</td>\n",
       "      <td>0</td>\n",
       "      <td>7.7750</td>\n",
       "      <td>S</td>\n",
       "      <td>Miss</td>\n",
       "      <td>21-28</td>\n",
       "      <td>False</td>\n",
       "      <td>False</td>\n",
       "    </tr>\n",
       "    <tr>\n",
       "      <th>213</th>\n",
       "      <td>0</td>\n",
       "      <td>2</td>\n",
       "      <td>male</td>\n",
       "      <td>0</td>\n",
       "      <td>0</td>\n",
       "      <td>13.0000</td>\n",
       "      <td>S</td>\n",
       "      <td>Mr</td>\n",
       "      <td>28-39</td>\n",
       "      <td>False</td>\n",
       "      <td>False</td>\n",
       "    </tr>\n",
       "    <tr>\n",
       "      <th>434</th>\n",
       "      <td>0</td>\n",
       "      <td>1</td>\n",
       "      <td>male</td>\n",
       "      <td>1</td>\n",
       "      <td>0</td>\n",
       "      <td>55.9000</td>\n",
       "      <td>S</td>\n",
       "      <td>Mr</td>\n",
       "      <td>&gt;39</td>\n",
       "      <td>False</td>\n",
       "      <td>False</td>\n",
       "    </tr>\n",
       "    <tr>\n",
       "      <th>...</th>\n",
       "      <td>...</td>\n",
       "      <td>...</td>\n",
       "      <td>...</td>\n",
       "      <td>...</td>\n",
       "      <td>...</td>\n",
       "      <td>...</td>\n",
       "      <td>...</td>\n",
       "      <td>...</td>\n",
       "      <td>...</td>\n",
       "      <td>...</td>\n",
       "      <td>...</td>\n",
       "    </tr>\n",
       "    <tr>\n",
       "      <th>360</th>\n",
       "      <td>0</td>\n",
       "      <td>3</td>\n",
       "      <td>male</td>\n",
       "      <td>1</td>\n",
       "      <td>2+</td>\n",
       "      <td>27.9000</td>\n",
       "      <td>S</td>\n",
       "      <td>Mr</td>\n",
       "      <td>&gt;39</td>\n",
       "      <td>False</td>\n",
       "      <td>False</td>\n",
       "    </tr>\n",
       "    <tr>\n",
       "      <th>709</th>\n",
       "      <td>1</td>\n",
       "      <td>3</td>\n",
       "      <td>male</td>\n",
       "      <td>1</td>\n",
       "      <td>1</td>\n",
       "      <td>15.2458</td>\n",
       "      <td>C</td>\n",
       "      <td>Master</td>\n",
       "      <td>brak</td>\n",
       "      <td>True</td>\n",
       "      <td>False</td>\n",
       "    </tr>\n",
       "    <tr>\n",
       "      <th>439</th>\n",
       "      <td>0</td>\n",
       "      <td>2</td>\n",
       "      <td>male</td>\n",
       "      <td>0</td>\n",
       "      <td>0</td>\n",
       "      <td>10.5000</td>\n",
       "      <td>S</td>\n",
       "      <td>Mr</td>\n",
       "      <td>28-39</td>\n",
       "      <td>False</td>\n",
       "      <td>False</td>\n",
       "    </tr>\n",
       "    <tr>\n",
       "      <th>174</th>\n",
       "      <td>0</td>\n",
       "      <td>1</td>\n",
       "      <td>male</td>\n",
       "      <td>0</td>\n",
       "      <td>0</td>\n",
       "      <td>30.6958</td>\n",
       "      <td>C</td>\n",
       "      <td>Mr</td>\n",
       "      <td>&gt;39</td>\n",
       "      <td>True</td>\n",
       "      <td>False</td>\n",
       "    </tr>\n",
       "    <tr>\n",
       "      <th>122</th>\n",
       "      <td>0</td>\n",
       "      <td>2</td>\n",
       "      <td>male</td>\n",
       "      <td>1</td>\n",
       "      <td>0</td>\n",
       "      <td>30.0708</td>\n",
       "      <td>C</td>\n",
       "      <td>Mr</td>\n",
       "      <td>28-39</td>\n",
       "      <td>True</td>\n",
       "      <td>False</td>\n",
       "    </tr>\n",
       "  </tbody>\n",
       "</table>\n",
       "<p>623 rows × 11 columns</p>\n",
       "</div>"
      ],
      "text/plain": [
       "     Survived  Pclass     Sex SibSp Parch      Fare Embarked   Title Age_cat  \\\n",
       "537         1       1  female     0     0  106.4250        C    Miss   28-39   \n",
       "401         0       3    male     0     0    8.0500        S      Mr   21-28   \n",
       "554         1       3  female     0     0    7.7750        S    Miss   21-28   \n",
       "213         0       2    male     0     0   13.0000        S      Mr   28-39   \n",
       "434         0       1    male     1     0   55.9000        S      Mr     >39   \n",
       "..        ...     ...     ...   ...   ...       ...      ...     ...     ...   \n",
       "360         0       3    male     1    2+   27.9000        S      Mr     >39   \n",
       "709         1       3    male     1     1   15.2458        C  Master    brak   \n",
       "439         0       2    male     0     0   10.5000        S      Mr   28-39   \n",
       "174         0       1    male     0     0   30.6958        C      Mr     >39   \n",
       "122         0       2    male     1     0   30.0708        C      Mr   28-39   \n",
       "\n",
       "     Embarked_C  Embarked_Q  \n",
       "537        True       False  \n",
       "401       False       False  \n",
       "554       False       False  \n",
       "213       False       False  \n",
       "434       False       False  \n",
       "..          ...         ...  \n",
       "360       False       False  \n",
       "709        True       False  \n",
       "439       False       False  \n",
       "174        True       False  \n",
       "122        True       False  \n",
       "\n",
       "[623 rows x 11 columns]"
      ]
     },
     "execution_count": 224,
     "metadata": {},
     "output_type": "execute_result"
    }
   ],
   "source": [
    "df_train"
   ]
  },
  {
   "cell_type": "code",
   "execution_count": 225,
   "id": "8a446c6d-9041-49ad-86be-d93146e2625f",
   "metadata": {},
   "outputs": [
    {
     "data": {
      "text/html": [
       "<div>\n",
       "<style scoped>\n",
       "    .dataframe tbody tr th:only-of-type {\n",
       "        vertical-align: middle;\n",
       "    }\n",
       "\n",
       "    .dataframe tbody tr th {\n",
       "        vertical-align: top;\n",
       "    }\n",
       "\n",
       "    .dataframe thead th {\n",
       "        text-align: right;\n",
       "    }\n",
       "</style>\n",
       "<table border=\"1\" class=\"dataframe\">\n",
       "  <thead>\n",
       "    <tr style=\"text-align: right;\">\n",
       "      <th></th>\n",
       "      <th>Survived</th>\n",
       "      <th>Pclass</th>\n",
       "      <th>Sex</th>\n",
       "      <th>SibSp</th>\n",
       "      <th>Parch</th>\n",
       "      <th>Fare</th>\n",
       "      <th>Embarked</th>\n",
       "      <th>Title</th>\n",
       "      <th>Age_cat</th>\n",
       "      <th>Embarked_C</th>\n",
       "      <th>Embarked_Q</th>\n",
       "    </tr>\n",
       "  </thead>\n",
       "  <tbody>\n",
       "    <tr>\n",
       "      <th>646</th>\n",
       "      <td>0</td>\n",
       "      <td>3</td>\n",
       "      <td>male</td>\n",
       "      <td>0</td>\n",
       "      <td>0</td>\n",
       "      <td>7.8958</td>\n",
       "      <td>S</td>\n",
       "      <td>Mr</td>\n",
       "      <td>0-21</td>\n",
       "      <td>False</td>\n",
       "      <td>False</td>\n",
       "    </tr>\n",
       "    <tr>\n",
       "      <th>876</th>\n",
       "      <td>0</td>\n",
       "      <td>3</td>\n",
       "      <td>male</td>\n",
       "      <td>0</td>\n",
       "      <td>0</td>\n",
       "      <td>9.8458</td>\n",
       "      <td>S</td>\n",
       "      <td>Mr</td>\n",
       "      <td>0-21</td>\n",
       "      <td>False</td>\n",
       "      <td>False</td>\n",
       "    </tr>\n",
       "    <tr>\n",
       "      <th>359</th>\n",
       "      <td>1</td>\n",
       "      <td>3</td>\n",
       "      <td>female</td>\n",
       "      <td>0</td>\n",
       "      <td>0</td>\n",
       "      <td>7.8792</td>\n",
       "      <td>Q</td>\n",
       "      <td>Miss</td>\n",
       "      <td>brak</td>\n",
       "      <td>False</td>\n",
       "      <td>True</td>\n",
       "    </tr>\n",
       "    <tr>\n",
       "      <th>194</th>\n",
       "      <td>1</td>\n",
       "      <td>1</td>\n",
       "      <td>female</td>\n",
       "      <td>0</td>\n",
       "      <td>0</td>\n",
       "      <td>27.7208</td>\n",
       "      <td>C</td>\n",
       "      <td>Mrs</td>\n",
       "      <td>&gt;39</td>\n",
       "      <td>True</td>\n",
       "      <td>False</td>\n",
       "    </tr>\n",
       "    <tr>\n",
       "      <th>819</th>\n",
       "      <td>0</td>\n",
       "      <td>3</td>\n",
       "      <td>male</td>\n",
       "      <td>2+</td>\n",
       "      <td>2+</td>\n",
       "      <td>27.9000</td>\n",
       "      <td>S</td>\n",
       "      <td>Master</td>\n",
       "      <td>0-21</td>\n",
       "      <td>False</td>\n",
       "      <td>False</td>\n",
       "    </tr>\n",
       "    <tr>\n",
       "      <th>...</th>\n",
       "      <td>...</td>\n",
       "      <td>...</td>\n",
       "      <td>...</td>\n",
       "      <td>...</td>\n",
       "      <td>...</td>\n",
       "      <td>...</td>\n",
       "      <td>...</td>\n",
       "      <td>...</td>\n",
       "      <td>...</td>\n",
       "      <td>...</td>\n",
       "      <td>...</td>\n",
       "    </tr>\n",
       "    <tr>\n",
       "      <th>455</th>\n",
       "      <td>1</td>\n",
       "      <td>3</td>\n",
       "      <td>male</td>\n",
       "      <td>0</td>\n",
       "      <td>0</td>\n",
       "      <td>7.8958</td>\n",
       "      <td>C</td>\n",
       "      <td>Mr</td>\n",
       "      <td>28-39</td>\n",
       "      <td>True</td>\n",
       "      <td>False</td>\n",
       "    </tr>\n",
       "    <tr>\n",
       "      <th>432</th>\n",
       "      <td>1</td>\n",
       "      <td>2</td>\n",
       "      <td>female</td>\n",
       "      <td>1</td>\n",
       "      <td>0</td>\n",
       "      <td>26.0000</td>\n",
       "      <td>S</td>\n",
       "      <td>Mrs</td>\n",
       "      <td>&gt;39</td>\n",
       "      <td>False</td>\n",
       "      <td>False</td>\n",
       "    </tr>\n",
       "    <tr>\n",
       "      <th>473</th>\n",
       "      <td>1</td>\n",
       "      <td>2</td>\n",
       "      <td>female</td>\n",
       "      <td>0</td>\n",
       "      <td>0</td>\n",
       "      <td>13.7917</td>\n",
       "      <td>C</td>\n",
       "      <td>Mrs</td>\n",
       "      <td>21-28</td>\n",
       "      <td>True</td>\n",
       "      <td>False</td>\n",
       "    </tr>\n",
       "    <tr>\n",
       "      <th>658</th>\n",
       "      <td>0</td>\n",
       "      <td>2</td>\n",
       "      <td>male</td>\n",
       "      <td>0</td>\n",
       "      <td>0</td>\n",
       "      <td>13.0000</td>\n",
       "      <td>S</td>\n",
       "      <td>Mr</td>\n",
       "      <td>21-28</td>\n",
       "      <td>False</td>\n",
       "      <td>False</td>\n",
       "    </tr>\n",
       "    <tr>\n",
       "      <th>757</th>\n",
       "      <td>0</td>\n",
       "      <td>2</td>\n",
       "      <td>male</td>\n",
       "      <td>0</td>\n",
       "      <td>0</td>\n",
       "      <td>11.5000</td>\n",
       "      <td>S</td>\n",
       "      <td>Mr</td>\n",
       "      <td>0-21</td>\n",
       "      <td>False</td>\n",
       "      <td>False</td>\n",
       "    </tr>\n",
       "  </tbody>\n",
       "</table>\n",
       "<p>268 rows × 11 columns</p>\n",
       "</div>"
      ],
      "text/plain": [
       "     Survived  Pclass     Sex SibSp Parch     Fare Embarked   Title Age_cat  \\\n",
       "646         0       3    male     0     0   7.8958        S      Mr    0-21   \n",
       "876         0       3    male     0     0   9.8458        S      Mr    0-21   \n",
       "359         1       3  female     0     0   7.8792        Q    Miss    brak   \n",
       "194         1       1  female     0     0  27.7208        C     Mrs     >39   \n",
       "819         0       3    male    2+    2+  27.9000        S  Master    0-21   \n",
       "..        ...     ...     ...   ...   ...      ...      ...     ...     ...   \n",
       "455         1       3    male     0     0   7.8958        C      Mr   28-39   \n",
       "432         1       2  female     1     0  26.0000        S     Mrs     >39   \n",
       "473         1       2  female     0     0  13.7917        C     Mrs   21-28   \n",
       "658         0       2    male     0     0  13.0000        S      Mr   21-28   \n",
       "757         0       2    male     0     0  11.5000        S      Mr    0-21   \n",
       "\n",
       "     Embarked_C  Embarked_Q  \n",
       "646       False       False  \n",
       "876       False       False  \n",
       "359       False        True  \n",
       "194        True       False  \n",
       "819       False       False  \n",
       "..          ...         ...  \n",
       "455        True       False  \n",
       "432       False       False  \n",
       "473        True       False  \n",
       "658       False       False  \n",
       "757       False       False  \n",
       "\n",
       "[268 rows x 11 columns]"
      ]
     },
     "execution_count": 225,
     "metadata": {},
     "output_type": "execute_result"
    }
   ],
   "source": [
    "df_test"
   ]
  },
  {
   "cell_type": "code",
   "execution_count": null,
   "id": "f304af20-ddb6-4417-a149-c18953322e0c",
   "metadata": {},
   "outputs": [],
   "source": [
    "#kasujemy Embarked bo juz mamy podział embarked w danych"
   ]
  },
  {
   "cell_type": "code",
   "execution_count": 226,
   "id": "0fc21629-f23e-471e-a589-b0c90f84d889",
   "metadata": {},
   "outputs": [],
   "source": [
    "df_train.drop('Embarked', axis=1, inplace=True)\n",
    "df_test.drop('Embarked', axis=1, inplace=True)"
   ]
  },
  {
   "cell_type": "code",
   "execution_count": null,
   "id": "9db33370-4535-45f0-be17-4e74a7de986f",
   "metadata": {},
   "outputs": [],
   "source": [
    "#Robimy to dla pozostałcyh zmiennych i robimy to zapisując zmienne do listy chars aby zrobić "
   ]
  },
  {
   "cell_type": "code",
   "execution_count": null,
   "id": "33879865-b7a8-43d3-9f7b-ef9f45bf17ba",
   "metadata": {},
   "outputs": [],
   "source": [
    "chars = ['Pclass', 'Sex', 'SibSp', 'Parch', 'Title', 'Age_cat']"
   ]
  },
  {
   "cell_type": "code",
   "execution_count": null,
   "id": "23bbc115-8569-47f2-a46d-624caa934f0d",
   "metadata": {},
   "outputs": [],
   "source": [
    "#dla elementów z listy tworzymy rozdzielenie elemntów z miennych i dropujemy elementyktore sie najbardziej pwotarzają jednoczesnie łącząc\n",
    "#te rozdzielone elementy z danymi a anstepnie dropujemy elementy z listy, które zostały rozdzielone na grupy."
   ]
  },
  {
   "cell_type": "code",
   "execution_count": null,
   "id": "155fde64-e440-468e-a636-96261fa5f529",
   "metadata": {},
   "outputs": [],
   "source": [
    "#wykorzystamy pętle aby iterować pot ych ziennych i wykonywac one hot encoding najpierw tworzymy dummy wektor \n",
    "#dummy_test = pd.get_dummies(df_test['Embarked'], prefix='Embarked')\n",
    "#dummy_test = pd.get_dummies(df_test['Embarked'], prefix='Embarked')\n",
    "#po stworzeniu zbiorów bedziemy usuwac przerabiajac\n",
    "#turobimy przerabiajac stringa bo zmienna bedzie z poalczenia zmiennych\n",
    "#dummy.drop(i + '_'+ str(df_train[i].value_counts().index(0)), axis =1, inplace=True) #value counts sortujenam zmienne ze wzgledu na lcizbe\n",
    "#dummy_test.drop(i + '_'+ str(df_train[i].value_counts().index(0)), axis=1, inplace=True)\n",
    "#dodajemy do zbioru testowego it renignowego danych\n",
    "#df_train = pd.concat([i, dummy], axis=1)\n",
    "#df_test = pd.concat([i, dummy], axis=1)"
   ]
  },
  {
   "cell_type": "code",
   "execution_count": 230,
   "id": "c8b76415-e4ac-4b93-91b4-dd574609235d",
   "metadata": {},
   "outputs": [
    {
     "ename": "KeyError",
     "evalue": "'Pclass'",
     "output_type": "error",
     "traceback": [
      "\u001b[1;31m---------------------------------------------------------------------------\u001b[0m",
      "\u001b[1;31mKeyError\u001b[0m                                  Traceback (most recent call last)",
      "File \u001b[1;32m~\\AppData\\Roaming\\Python\\Python311\\site-packages\\pandas\\core\\indexes\\base.py:3805\u001b[0m, in \u001b[0;36mIndex.get_loc\u001b[1;34m(self, key)\u001b[0m\n\u001b[0;32m   3804\u001b[0m \u001b[38;5;28;01mtry\u001b[39;00m:\n\u001b[1;32m-> 3805\u001b[0m     \u001b[38;5;28;01mreturn\u001b[39;00m \u001b[38;5;28;43mself\u001b[39;49m\u001b[38;5;241;43m.\u001b[39;49m\u001b[43m_engine\u001b[49m\u001b[38;5;241;43m.\u001b[39;49m\u001b[43mget_loc\u001b[49m\u001b[43m(\u001b[49m\u001b[43mcasted_key\u001b[49m\u001b[43m)\u001b[49m\n\u001b[0;32m   3806\u001b[0m \u001b[38;5;28;01mexcept\u001b[39;00m \u001b[38;5;167;01mKeyError\u001b[39;00m \u001b[38;5;28;01mas\u001b[39;00m err:\n",
      "File \u001b[1;32mindex.pyx:167\u001b[0m, in \u001b[0;36mpandas._libs.index.IndexEngine.get_loc\u001b[1;34m()\u001b[0m\n",
      "File \u001b[1;32mindex.pyx:196\u001b[0m, in \u001b[0;36mpandas._libs.index.IndexEngine.get_loc\u001b[1;34m()\u001b[0m\n",
      "File \u001b[1;32mpandas\\\\_libs\\\\hashtable_class_helper.pxi:7081\u001b[0m, in \u001b[0;36mpandas._libs.hashtable.PyObjectHashTable.get_item\u001b[1;34m()\u001b[0m\n",
      "File \u001b[1;32mpandas\\\\_libs\\\\hashtable_class_helper.pxi:7089\u001b[0m, in \u001b[0;36mpandas._libs.hashtable.PyObjectHashTable.get_item\u001b[1;34m()\u001b[0m\n",
      "\u001b[1;31mKeyError\u001b[0m: 'Pclass'",
      "\nThe above exception was the direct cause of the following exception:\n",
      "\u001b[1;31mKeyError\u001b[0m                                  Traceback (most recent call last)",
      "Cell \u001b[1;32mIn[230], line 2\u001b[0m\n\u001b[0;32m      1\u001b[0m \u001b[38;5;28;01mfor\u001b[39;00m i \u001b[38;5;129;01min\u001b[39;00m chars:\n\u001b[1;32m----> 2\u001b[0m     dummy \u001b[38;5;241m=\u001b[39m pd\u001b[38;5;241m.\u001b[39mget_dummies(\u001b[43mdf_train\u001b[49m\u001b[43m[\u001b[49m\u001b[43mi\u001b[49m\u001b[43m]\u001b[49m, prefix\u001b[38;5;241m=\u001b[39mi)\n\u001b[0;32m      3\u001b[0m     dummy_test \u001b[38;5;241m=\u001b[39m pd\u001b[38;5;241m.\u001b[39mget_dummies(df_test[i], prefix\u001b[38;5;241m=\u001b[39mi)\n\u001b[0;32m      5\u001b[0m     dummy\u001b[38;5;241m.\u001b[39mdrop(i \u001b[38;5;241m+\u001b[39m \u001b[38;5;124m'\u001b[39m\u001b[38;5;124m_\u001b[39m\u001b[38;5;124m'\u001b[39m \u001b[38;5;241m+\u001b[39m \u001b[38;5;28mstr\u001b[39m(df_train[i]\u001b[38;5;241m.\u001b[39mvalue_counts()\u001b[38;5;241m.\u001b[39mindex[\u001b[38;5;241m0\u001b[39m]), axis\u001b[38;5;241m=\u001b[39m\u001b[38;5;241m1\u001b[39m, inplace\u001b[38;5;241m=\u001b[39m\u001b[38;5;28;01mTrue\u001b[39;00m)\n",
      "File \u001b[1;32m~\\AppData\\Roaming\\Python\\Python311\\site-packages\\pandas\\core\\frame.py:4102\u001b[0m, in \u001b[0;36mDataFrame.__getitem__\u001b[1;34m(self, key)\u001b[0m\n\u001b[0;32m   4100\u001b[0m \u001b[38;5;28;01mif\u001b[39;00m \u001b[38;5;28mself\u001b[39m\u001b[38;5;241m.\u001b[39mcolumns\u001b[38;5;241m.\u001b[39mnlevels \u001b[38;5;241m>\u001b[39m \u001b[38;5;241m1\u001b[39m:\n\u001b[0;32m   4101\u001b[0m     \u001b[38;5;28;01mreturn\u001b[39;00m \u001b[38;5;28mself\u001b[39m\u001b[38;5;241m.\u001b[39m_getitem_multilevel(key)\n\u001b[1;32m-> 4102\u001b[0m indexer \u001b[38;5;241m=\u001b[39m \u001b[38;5;28;43mself\u001b[39;49m\u001b[38;5;241;43m.\u001b[39;49m\u001b[43mcolumns\u001b[49m\u001b[38;5;241;43m.\u001b[39;49m\u001b[43mget_loc\u001b[49m\u001b[43m(\u001b[49m\u001b[43mkey\u001b[49m\u001b[43m)\u001b[49m\n\u001b[0;32m   4103\u001b[0m \u001b[38;5;28;01mif\u001b[39;00m is_integer(indexer):\n\u001b[0;32m   4104\u001b[0m     indexer \u001b[38;5;241m=\u001b[39m [indexer]\n",
      "File \u001b[1;32m~\\AppData\\Roaming\\Python\\Python311\\site-packages\\pandas\\core\\indexes\\base.py:3812\u001b[0m, in \u001b[0;36mIndex.get_loc\u001b[1;34m(self, key)\u001b[0m\n\u001b[0;32m   3807\u001b[0m     \u001b[38;5;28;01mif\u001b[39;00m \u001b[38;5;28misinstance\u001b[39m(casted_key, \u001b[38;5;28mslice\u001b[39m) \u001b[38;5;129;01mor\u001b[39;00m (\n\u001b[0;32m   3808\u001b[0m         \u001b[38;5;28misinstance\u001b[39m(casted_key, abc\u001b[38;5;241m.\u001b[39mIterable)\n\u001b[0;32m   3809\u001b[0m         \u001b[38;5;129;01mand\u001b[39;00m \u001b[38;5;28many\u001b[39m(\u001b[38;5;28misinstance\u001b[39m(x, \u001b[38;5;28mslice\u001b[39m) \u001b[38;5;28;01mfor\u001b[39;00m x \u001b[38;5;129;01min\u001b[39;00m casted_key)\n\u001b[0;32m   3810\u001b[0m     ):\n\u001b[0;32m   3811\u001b[0m         \u001b[38;5;28;01mraise\u001b[39;00m InvalidIndexError(key)\n\u001b[1;32m-> 3812\u001b[0m     \u001b[38;5;28;01mraise\u001b[39;00m \u001b[38;5;167;01mKeyError\u001b[39;00m(key) \u001b[38;5;28;01mfrom\u001b[39;00m \u001b[38;5;21;01merr\u001b[39;00m\n\u001b[0;32m   3813\u001b[0m \u001b[38;5;28;01mexcept\u001b[39;00m \u001b[38;5;167;01mTypeError\u001b[39;00m:\n\u001b[0;32m   3814\u001b[0m     \u001b[38;5;66;03m# If we have a listlike key, _check_indexing_error will raise\u001b[39;00m\n\u001b[0;32m   3815\u001b[0m     \u001b[38;5;66;03m#  InvalidIndexError. Otherwise we fall through and re-raise\u001b[39;00m\n\u001b[0;32m   3816\u001b[0m     \u001b[38;5;66;03m#  the TypeError.\u001b[39;00m\n\u001b[0;32m   3817\u001b[0m     \u001b[38;5;28mself\u001b[39m\u001b[38;5;241m.\u001b[39m_check_indexing_error(key)\n",
      "\u001b[1;31mKeyError\u001b[0m: 'Pclass'"
     ]
    }
   ],
   "source": [
    "for i in chars:\n",
    "    dummy = pd.get_dummies(df_train[i], prefix=i)\n",
    "    dummy_test = pd.get_dummies(df_test[i], prefix=i)\n",
    "    \n",
    "    dummy.drop(i + '_' + str(df_train[i].value_counts().index[0]), axis=1, inplace=True)\n",
    "    dummy_test.drop(i + '_' + str(df_train[i].value_counts().index[0]), axis=1, inplace=True)\n",
    "    \n",
    "    df_train = pd.concat([df_train, dummy], axis=1)\n",
    "    df_test = pd.concat([df_test, dummy_test], axis=1)\n",
    "    \n",
    "    df_train.drop(i, axis=1, inplace=True)\n",
    "    df_test.drop(i, axis=1, inplace=True)"
   ]
  },
  {
   "cell_type": "code",
   "execution_count": 232,
   "id": "9df5fa13-7b88-4112-888b-7856e062c0e2",
   "metadata": {},
   "outputs": [
    {
     "data": {
      "text/html": [
       "<div>\n",
       "<style scoped>\n",
       "    .dataframe tbody tr th:only-of-type {\n",
       "        vertical-align: middle;\n",
       "    }\n",
       "\n",
       "    .dataframe tbody tr th {\n",
       "        vertical-align: top;\n",
       "    }\n",
       "\n",
       "    .dataframe thead th {\n",
       "        text-align: right;\n",
       "    }\n",
       "</style>\n",
       "<table border=\"1\" class=\"dataframe\">\n",
       "  <thead>\n",
       "    <tr style=\"text-align: right;\">\n",
       "      <th></th>\n",
       "      <th>Survived</th>\n",
       "      <th>Fare</th>\n",
       "      <th>Title</th>\n",
       "      <th>Age_cat</th>\n",
       "      <th>Embarked_C</th>\n",
       "      <th>Embarked_Q</th>\n",
       "      <th>Pclass_1</th>\n",
       "      <th>Pclass_2</th>\n",
       "      <th>Sex_female</th>\n",
       "      <th>SibSp_1</th>\n",
       "      <th>SibSp_2+</th>\n",
       "      <th>Parch_1</th>\n",
       "      <th>Parch_2+</th>\n",
       "    </tr>\n",
       "  </thead>\n",
       "  <tbody>\n",
       "    <tr>\n",
       "      <th>537</th>\n",
       "      <td>1</td>\n",
       "      <td>106.425</td>\n",
       "      <td>Miss</td>\n",
       "      <td>28-39</td>\n",
       "      <td>True</td>\n",
       "      <td>False</td>\n",
       "      <td>True</td>\n",
       "      <td>False</td>\n",
       "      <td>True</td>\n",
       "      <td>False</td>\n",
       "      <td>False</td>\n",
       "      <td>False</td>\n",
       "      <td>False</td>\n",
       "    </tr>\n",
       "    <tr>\n",
       "      <th>401</th>\n",
       "      <td>0</td>\n",
       "      <td>8.050</td>\n",
       "      <td>Mr</td>\n",
       "      <td>21-28</td>\n",
       "      <td>False</td>\n",
       "      <td>False</td>\n",
       "      <td>False</td>\n",
       "      <td>False</td>\n",
       "      <td>False</td>\n",
       "      <td>False</td>\n",
       "      <td>False</td>\n",
       "      <td>False</td>\n",
       "      <td>False</td>\n",
       "    </tr>\n",
       "    <tr>\n",
       "      <th>554</th>\n",
       "      <td>1</td>\n",
       "      <td>7.775</td>\n",
       "      <td>Miss</td>\n",
       "      <td>21-28</td>\n",
       "      <td>False</td>\n",
       "      <td>False</td>\n",
       "      <td>False</td>\n",
       "      <td>False</td>\n",
       "      <td>True</td>\n",
       "      <td>False</td>\n",
       "      <td>False</td>\n",
       "      <td>False</td>\n",
       "      <td>False</td>\n",
       "    </tr>\n",
       "    <tr>\n",
       "      <th>213</th>\n",
       "      <td>0</td>\n",
       "      <td>13.000</td>\n",
       "      <td>Mr</td>\n",
       "      <td>28-39</td>\n",
       "      <td>False</td>\n",
       "      <td>False</td>\n",
       "      <td>False</td>\n",
       "      <td>True</td>\n",
       "      <td>False</td>\n",
       "      <td>False</td>\n",
       "      <td>False</td>\n",
       "      <td>False</td>\n",
       "      <td>False</td>\n",
       "    </tr>\n",
       "    <tr>\n",
       "      <th>434</th>\n",
       "      <td>0</td>\n",
       "      <td>55.900</td>\n",
       "      <td>Mr</td>\n",
       "      <td>&gt;39</td>\n",
       "      <td>False</td>\n",
       "      <td>False</td>\n",
       "      <td>True</td>\n",
       "      <td>False</td>\n",
       "      <td>False</td>\n",
       "      <td>True</td>\n",
       "      <td>False</td>\n",
       "      <td>False</td>\n",
       "      <td>False</td>\n",
       "    </tr>\n",
       "  </tbody>\n",
       "</table>\n",
       "</div>"
      ],
      "text/plain": [
       "     Survived     Fare Title Age_cat  Embarked_C  Embarked_Q  Pclass_1  \\\n",
       "537         1  106.425  Miss   28-39        True       False      True   \n",
       "401         0    8.050    Mr   21-28       False       False     False   \n",
       "554         1    7.775  Miss   21-28       False       False     False   \n",
       "213         0   13.000    Mr   28-39       False       False     False   \n",
       "434         0   55.900    Mr     >39       False       False      True   \n",
       "\n",
       "     Pclass_2  Sex_female  SibSp_1  SibSp_2+  Parch_1  Parch_2+  \n",
       "537     False        True    False     False    False     False  \n",
       "401     False       False    False     False    False     False  \n",
       "554     False        True    False     False    False     False  \n",
       "213      True       False    False     False    False     False  \n",
       "434     False       False     True     False    False     False  "
      ]
     },
     "execution_count": 232,
     "metadata": {},
     "output_type": "execute_result"
    }
   ],
   "source": [
    "df_train.head()"
   ]
  },
  {
   "cell_type": "code",
   "execution_count": 233,
   "id": "98f663b1-9b81-44a0-b657-4a07b1932921",
   "metadata": {},
   "outputs": [
    {
     "data": {
      "text/html": [
       "<div>\n",
       "<style scoped>\n",
       "    .dataframe tbody tr th:only-of-type {\n",
       "        vertical-align: middle;\n",
       "    }\n",
       "\n",
       "    .dataframe tbody tr th {\n",
       "        vertical-align: top;\n",
       "    }\n",
       "\n",
       "    .dataframe thead th {\n",
       "        text-align: right;\n",
       "    }\n",
       "</style>\n",
       "<table border=\"1\" class=\"dataframe\">\n",
       "  <thead>\n",
       "    <tr style=\"text-align: right;\">\n",
       "      <th></th>\n",
       "      <th>Survived</th>\n",
       "      <th>Fare</th>\n",
       "      <th>Title</th>\n",
       "      <th>Age_cat</th>\n",
       "      <th>Embarked_C</th>\n",
       "      <th>Embarked_Q</th>\n",
       "      <th>Pclass_1</th>\n",
       "      <th>Pclass_2</th>\n",
       "      <th>Sex_female</th>\n",
       "      <th>SibSp_1</th>\n",
       "      <th>SibSp_2+</th>\n",
       "      <th>Parch_1</th>\n",
       "      <th>Parch_2+</th>\n",
       "    </tr>\n",
       "  </thead>\n",
       "  <tbody>\n",
       "    <tr>\n",
       "      <th>646</th>\n",
       "      <td>0</td>\n",
       "      <td>7.8958</td>\n",
       "      <td>Mr</td>\n",
       "      <td>0-21</td>\n",
       "      <td>False</td>\n",
       "      <td>False</td>\n",
       "      <td>False</td>\n",
       "      <td>False</td>\n",
       "      <td>False</td>\n",
       "      <td>False</td>\n",
       "      <td>False</td>\n",
       "      <td>False</td>\n",
       "      <td>False</td>\n",
       "    </tr>\n",
       "    <tr>\n",
       "      <th>876</th>\n",
       "      <td>0</td>\n",
       "      <td>9.8458</td>\n",
       "      <td>Mr</td>\n",
       "      <td>0-21</td>\n",
       "      <td>False</td>\n",
       "      <td>False</td>\n",
       "      <td>False</td>\n",
       "      <td>False</td>\n",
       "      <td>False</td>\n",
       "      <td>False</td>\n",
       "      <td>False</td>\n",
       "      <td>False</td>\n",
       "      <td>False</td>\n",
       "    </tr>\n",
       "    <tr>\n",
       "      <th>359</th>\n",
       "      <td>1</td>\n",
       "      <td>7.8792</td>\n",
       "      <td>Miss</td>\n",
       "      <td>brak</td>\n",
       "      <td>False</td>\n",
       "      <td>True</td>\n",
       "      <td>False</td>\n",
       "      <td>False</td>\n",
       "      <td>True</td>\n",
       "      <td>False</td>\n",
       "      <td>False</td>\n",
       "      <td>False</td>\n",
       "      <td>False</td>\n",
       "    </tr>\n",
       "    <tr>\n",
       "      <th>194</th>\n",
       "      <td>1</td>\n",
       "      <td>27.7208</td>\n",
       "      <td>Mrs</td>\n",
       "      <td>&gt;39</td>\n",
       "      <td>True</td>\n",
       "      <td>False</td>\n",
       "      <td>True</td>\n",
       "      <td>False</td>\n",
       "      <td>True</td>\n",
       "      <td>False</td>\n",
       "      <td>False</td>\n",
       "      <td>False</td>\n",
       "      <td>False</td>\n",
       "    </tr>\n",
       "    <tr>\n",
       "      <th>819</th>\n",
       "      <td>0</td>\n",
       "      <td>27.9000</td>\n",
       "      <td>Master</td>\n",
       "      <td>0-21</td>\n",
       "      <td>False</td>\n",
       "      <td>False</td>\n",
       "      <td>False</td>\n",
       "      <td>False</td>\n",
       "      <td>False</td>\n",
       "      <td>False</td>\n",
       "      <td>True</td>\n",
       "      <td>False</td>\n",
       "      <td>True</td>\n",
       "    </tr>\n",
       "  </tbody>\n",
       "</table>\n",
       "</div>"
      ],
      "text/plain": [
       "     Survived     Fare   Title Age_cat  Embarked_C  Embarked_Q  Pclass_1  \\\n",
       "646         0   7.8958      Mr    0-21       False       False     False   \n",
       "876         0   9.8458      Mr    0-21       False       False     False   \n",
       "359         1   7.8792    Miss    brak       False        True     False   \n",
       "194         1  27.7208     Mrs     >39        True       False      True   \n",
       "819         0  27.9000  Master    0-21       False       False     False   \n",
       "\n",
       "     Pclass_2  Sex_female  SibSp_1  SibSp_2+  Parch_1  Parch_2+  \n",
       "646     False       False    False     False    False     False  \n",
       "876     False       False    False     False    False     False  \n",
       "359     False        True    False     False    False     False  \n",
       "194     False        True    False     False    False     False  \n",
       "819     False       False    False      True    False      True  "
      ]
     },
     "execution_count": 233,
     "metadata": {},
     "output_type": "execute_result"
    }
   ],
   "source": [
    "df_test.head()"
   ]
  },
  {
   "cell_type": "code",
   "execution_count": 249,
   "id": "dff618c7-c708-4162-aefa-a83fe856f485",
   "metadata": {},
   "outputs": [],
   "source": [
    "dummy_title=pd.get_dummies(df_train['Title'])\n",
    "dummy_title_test=pd.get_dummies(df_test['Title'])"
   ]
  },
  {
   "cell_type": "code",
   "execution_count": 250,
   "id": "cbc52f08-7a79-4a2e-8e23-42855ca09d2d",
   "metadata": {},
   "outputs": [
    {
     "data": {
      "text/plain": [
       "Master  Miss   Mr     Mrs    Other\n",
       "False   False  True   False  False    346\n",
       "        True   False  False  False    131\n",
       "        False  False  True   False     94\n",
       "True    False  False  False  False     29\n",
       "False   False  False  False  True      23\n",
       "Name: count, dtype: int64"
      ]
     },
     "execution_count": 250,
     "metadata": {},
     "output_type": "execute_result"
    }
   ],
   "source": [
    "dummy_title.value_counts()"
   ]
  },
  {
   "cell_type": "code",
   "execution_count": 251,
   "id": "1e3c6313-e908-42d2-9e91-927641f0c39d",
   "metadata": {},
   "outputs": [
    {
     "data": {
      "text/plain": [
       "Master  Miss   Mr     Mrs    Other\n",
       "False   False  True   False  False    171\n",
       "        True   False  False  False     51\n",
       "        False  False  True   False     31\n",
       "True    False  False  False  False     11\n",
       "False   False  False  False  True       4\n",
       "Name: count, dtype: int64"
      ]
     },
     "execution_count": 251,
     "metadata": {},
     "output_type": "execute_result"
    }
   ],
   "source": [
    "dummy_title_test.value_counts()"
   ]
  },
  {
   "cell_type": "code",
   "execution_count": 252,
   "id": "876c9fc9-8403-4cd3-aaa5-27dd6d2555f6",
   "metadata": {},
   "outputs": [],
   "source": [
    "df_train = pd.concat([df_train, dummy_title], axis=1)\n",
    "df_test = pd.concat([df_test, dummy_title_test], axis=1)"
   ]
  },
  {
   "cell_type": "code",
   "execution_count": 253,
   "id": "c862d95d-e445-4bb9-ad44-701a01860b68",
   "metadata": {},
   "outputs": [],
   "source": [
    "df_train.drop('Title', axis=1, inplace=True)\n",
    "df_test.drop('Title', axis=1, inplace=True)"
   ]
  },
  {
   "cell_type": "code",
   "execution_count": 254,
   "id": "8c6e6799-523d-41cb-a92c-80d0351742aa",
   "metadata": {},
   "outputs": [
    {
     "data": {
      "text/html": [
       "<div>\n",
       "<style scoped>\n",
       "    .dataframe tbody tr th:only-of-type {\n",
       "        vertical-align: middle;\n",
       "    }\n",
       "\n",
       "    .dataframe tbody tr th {\n",
       "        vertical-align: top;\n",
       "    }\n",
       "\n",
       "    .dataframe thead th {\n",
       "        text-align: right;\n",
       "    }\n",
       "</style>\n",
       "<table border=\"1\" class=\"dataframe\">\n",
       "  <thead>\n",
       "    <tr style=\"text-align: right;\">\n",
       "      <th></th>\n",
       "      <th>Survived</th>\n",
       "      <th>Fare</th>\n",
       "      <th>Age_cat</th>\n",
       "      <th>Embarked_C</th>\n",
       "      <th>Embarked_Q</th>\n",
       "      <th>Pclass_1</th>\n",
       "      <th>Pclass_2</th>\n",
       "      <th>Sex_female</th>\n",
       "      <th>SibSp_1</th>\n",
       "      <th>SibSp_2+</th>\n",
       "      <th>Parch_1</th>\n",
       "      <th>Parch_2+</th>\n",
       "      <th>Master</th>\n",
       "      <th>Miss</th>\n",
       "      <th>Mr</th>\n",
       "      <th>Mrs</th>\n",
       "      <th>Other</th>\n",
       "    </tr>\n",
       "  </thead>\n",
       "  <tbody>\n",
       "    <tr>\n",
       "      <th>537</th>\n",
       "      <td>1</td>\n",
       "      <td>106.4250</td>\n",
       "      <td>28-39</td>\n",
       "      <td>True</td>\n",
       "      <td>False</td>\n",
       "      <td>True</td>\n",
       "      <td>False</td>\n",
       "      <td>True</td>\n",
       "      <td>False</td>\n",
       "      <td>False</td>\n",
       "      <td>False</td>\n",
       "      <td>False</td>\n",
       "      <td>False</td>\n",
       "      <td>True</td>\n",
       "      <td>False</td>\n",
       "      <td>False</td>\n",
       "      <td>False</td>\n",
       "    </tr>\n",
       "    <tr>\n",
       "      <th>401</th>\n",
       "      <td>0</td>\n",
       "      <td>8.0500</td>\n",
       "      <td>21-28</td>\n",
       "      <td>False</td>\n",
       "      <td>False</td>\n",
       "      <td>False</td>\n",
       "      <td>False</td>\n",
       "      <td>False</td>\n",
       "      <td>False</td>\n",
       "      <td>False</td>\n",
       "      <td>False</td>\n",
       "      <td>False</td>\n",
       "      <td>False</td>\n",
       "      <td>False</td>\n",
       "      <td>True</td>\n",
       "      <td>False</td>\n",
       "      <td>False</td>\n",
       "    </tr>\n",
       "    <tr>\n",
       "      <th>554</th>\n",
       "      <td>1</td>\n",
       "      <td>7.7750</td>\n",
       "      <td>21-28</td>\n",
       "      <td>False</td>\n",
       "      <td>False</td>\n",
       "      <td>False</td>\n",
       "      <td>False</td>\n",
       "      <td>True</td>\n",
       "      <td>False</td>\n",
       "      <td>False</td>\n",
       "      <td>False</td>\n",
       "      <td>False</td>\n",
       "      <td>False</td>\n",
       "      <td>True</td>\n",
       "      <td>False</td>\n",
       "      <td>False</td>\n",
       "      <td>False</td>\n",
       "    </tr>\n",
       "    <tr>\n",
       "      <th>213</th>\n",
       "      <td>0</td>\n",
       "      <td>13.0000</td>\n",
       "      <td>28-39</td>\n",
       "      <td>False</td>\n",
       "      <td>False</td>\n",
       "      <td>False</td>\n",
       "      <td>True</td>\n",
       "      <td>False</td>\n",
       "      <td>False</td>\n",
       "      <td>False</td>\n",
       "      <td>False</td>\n",
       "      <td>False</td>\n",
       "      <td>False</td>\n",
       "      <td>False</td>\n",
       "      <td>True</td>\n",
       "      <td>False</td>\n",
       "      <td>False</td>\n",
       "    </tr>\n",
       "    <tr>\n",
       "      <th>434</th>\n",
       "      <td>0</td>\n",
       "      <td>55.9000</td>\n",
       "      <td>&gt;39</td>\n",
       "      <td>False</td>\n",
       "      <td>False</td>\n",
       "      <td>True</td>\n",
       "      <td>False</td>\n",
       "      <td>False</td>\n",
       "      <td>True</td>\n",
       "      <td>False</td>\n",
       "      <td>False</td>\n",
       "      <td>False</td>\n",
       "      <td>False</td>\n",
       "      <td>False</td>\n",
       "      <td>True</td>\n",
       "      <td>False</td>\n",
       "      <td>False</td>\n",
       "    </tr>\n",
       "    <tr>\n",
       "      <th>...</th>\n",
       "      <td>...</td>\n",
       "      <td>...</td>\n",
       "      <td>...</td>\n",
       "      <td>...</td>\n",
       "      <td>...</td>\n",
       "      <td>...</td>\n",
       "      <td>...</td>\n",
       "      <td>...</td>\n",
       "      <td>...</td>\n",
       "      <td>...</td>\n",
       "      <td>...</td>\n",
       "      <td>...</td>\n",
       "      <td>...</td>\n",
       "      <td>...</td>\n",
       "      <td>...</td>\n",
       "      <td>...</td>\n",
       "      <td>...</td>\n",
       "    </tr>\n",
       "    <tr>\n",
       "      <th>360</th>\n",
       "      <td>0</td>\n",
       "      <td>27.9000</td>\n",
       "      <td>&gt;39</td>\n",
       "      <td>False</td>\n",
       "      <td>False</td>\n",
       "      <td>False</td>\n",
       "      <td>False</td>\n",
       "      <td>False</td>\n",
       "      <td>True</td>\n",
       "      <td>False</td>\n",
       "      <td>False</td>\n",
       "      <td>True</td>\n",
       "      <td>False</td>\n",
       "      <td>False</td>\n",
       "      <td>True</td>\n",
       "      <td>False</td>\n",
       "      <td>False</td>\n",
       "    </tr>\n",
       "    <tr>\n",
       "      <th>709</th>\n",
       "      <td>1</td>\n",
       "      <td>15.2458</td>\n",
       "      <td>brak</td>\n",
       "      <td>True</td>\n",
       "      <td>False</td>\n",
       "      <td>False</td>\n",
       "      <td>False</td>\n",
       "      <td>False</td>\n",
       "      <td>True</td>\n",
       "      <td>False</td>\n",
       "      <td>True</td>\n",
       "      <td>False</td>\n",
       "      <td>True</td>\n",
       "      <td>False</td>\n",
       "      <td>False</td>\n",
       "      <td>False</td>\n",
       "      <td>False</td>\n",
       "    </tr>\n",
       "    <tr>\n",
       "      <th>439</th>\n",
       "      <td>0</td>\n",
       "      <td>10.5000</td>\n",
       "      <td>28-39</td>\n",
       "      <td>False</td>\n",
       "      <td>False</td>\n",
       "      <td>False</td>\n",
       "      <td>True</td>\n",
       "      <td>False</td>\n",
       "      <td>False</td>\n",
       "      <td>False</td>\n",
       "      <td>False</td>\n",
       "      <td>False</td>\n",
       "      <td>False</td>\n",
       "      <td>False</td>\n",
       "      <td>True</td>\n",
       "      <td>False</td>\n",
       "      <td>False</td>\n",
       "    </tr>\n",
       "    <tr>\n",
       "      <th>174</th>\n",
       "      <td>0</td>\n",
       "      <td>30.6958</td>\n",
       "      <td>&gt;39</td>\n",
       "      <td>True</td>\n",
       "      <td>False</td>\n",
       "      <td>True</td>\n",
       "      <td>False</td>\n",
       "      <td>False</td>\n",
       "      <td>False</td>\n",
       "      <td>False</td>\n",
       "      <td>False</td>\n",
       "      <td>False</td>\n",
       "      <td>False</td>\n",
       "      <td>False</td>\n",
       "      <td>True</td>\n",
       "      <td>False</td>\n",
       "      <td>False</td>\n",
       "    </tr>\n",
       "    <tr>\n",
       "      <th>122</th>\n",
       "      <td>0</td>\n",
       "      <td>30.0708</td>\n",
       "      <td>28-39</td>\n",
       "      <td>True</td>\n",
       "      <td>False</td>\n",
       "      <td>False</td>\n",
       "      <td>True</td>\n",
       "      <td>False</td>\n",
       "      <td>True</td>\n",
       "      <td>False</td>\n",
       "      <td>False</td>\n",
       "      <td>False</td>\n",
       "      <td>False</td>\n",
       "      <td>False</td>\n",
       "      <td>True</td>\n",
       "      <td>False</td>\n",
       "      <td>False</td>\n",
       "    </tr>\n",
       "  </tbody>\n",
       "</table>\n",
       "<p>623 rows × 17 columns</p>\n",
       "</div>"
      ],
      "text/plain": [
       "     Survived      Fare Age_cat  Embarked_C  Embarked_Q  Pclass_1  Pclass_2  \\\n",
       "537         1  106.4250   28-39        True       False      True     False   \n",
       "401         0    8.0500   21-28       False       False     False     False   \n",
       "554         1    7.7750   21-28       False       False     False     False   \n",
       "213         0   13.0000   28-39       False       False     False      True   \n",
       "434         0   55.9000     >39       False       False      True     False   \n",
       "..        ...       ...     ...         ...         ...       ...       ...   \n",
       "360         0   27.9000     >39       False       False     False     False   \n",
       "709         1   15.2458    brak        True       False     False     False   \n",
       "439         0   10.5000   28-39       False       False     False      True   \n",
       "174         0   30.6958     >39        True       False      True     False   \n",
       "122         0   30.0708   28-39        True       False     False      True   \n",
       "\n",
       "     Sex_female  SibSp_1  SibSp_2+  Parch_1  Parch_2+  Master   Miss     Mr  \\\n",
       "537        True    False     False    False     False   False   True  False   \n",
       "401       False    False     False    False     False   False  False   True   \n",
       "554        True    False     False    False     False   False   True  False   \n",
       "213       False    False     False    False     False   False  False   True   \n",
       "434       False     True     False    False     False   False  False   True   \n",
       "..          ...      ...       ...      ...       ...     ...    ...    ...   \n",
       "360       False     True     False    False      True   False  False   True   \n",
       "709       False     True     False     True     False    True  False  False   \n",
       "439       False    False     False    False     False   False  False   True   \n",
       "174       False    False     False    False     False   False  False   True   \n",
       "122       False     True     False    False     False   False  False   True   \n",
       "\n",
       "       Mrs  Other  \n",
       "537  False  False  \n",
       "401  False  False  \n",
       "554  False  False  \n",
       "213  False  False  \n",
       "434  False  False  \n",
       "..     ...    ...  \n",
       "360  False  False  \n",
       "709  False  False  \n",
       "439  False  False  \n",
       "174  False  False  \n",
       "122  False  False  \n",
       "\n",
       "[623 rows x 17 columns]"
      ]
     },
     "execution_count": 254,
     "metadata": {},
     "output_type": "execute_result"
    }
   ],
   "source": [
    "df_train"
   ]
  },
  {
   "cell_type": "code",
   "execution_count": 255,
   "id": "fd7b212c-429b-48d1-bd90-91b4559f46ea",
   "metadata": {},
   "outputs": [
    {
     "data": {
      "text/html": [
       "<div>\n",
       "<style scoped>\n",
       "    .dataframe tbody tr th:only-of-type {\n",
       "        vertical-align: middle;\n",
       "    }\n",
       "\n",
       "    .dataframe tbody tr th {\n",
       "        vertical-align: top;\n",
       "    }\n",
       "\n",
       "    .dataframe thead th {\n",
       "        text-align: right;\n",
       "    }\n",
       "</style>\n",
       "<table border=\"1\" class=\"dataframe\">\n",
       "  <thead>\n",
       "    <tr style=\"text-align: right;\">\n",
       "      <th></th>\n",
       "      <th>Survived</th>\n",
       "      <th>Fare</th>\n",
       "      <th>Age_cat</th>\n",
       "      <th>Embarked_C</th>\n",
       "      <th>Embarked_Q</th>\n",
       "      <th>Pclass_1</th>\n",
       "      <th>Pclass_2</th>\n",
       "      <th>Sex_female</th>\n",
       "      <th>SibSp_1</th>\n",
       "      <th>SibSp_2+</th>\n",
       "      <th>Parch_1</th>\n",
       "      <th>Parch_2+</th>\n",
       "      <th>Master</th>\n",
       "      <th>Miss</th>\n",
       "      <th>Mr</th>\n",
       "      <th>Mrs</th>\n",
       "      <th>Other</th>\n",
       "    </tr>\n",
       "  </thead>\n",
       "  <tbody>\n",
       "    <tr>\n",
       "      <th>646</th>\n",
       "      <td>0</td>\n",
       "      <td>7.8958</td>\n",
       "      <td>0-21</td>\n",
       "      <td>False</td>\n",
       "      <td>False</td>\n",
       "      <td>False</td>\n",
       "      <td>False</td>\n",
       "      <td>False</td>\n",
       "      <td>False</td>\n",
       "      <td>False</td>\n",
       "      <td>False</td>\n",
       "      <td>False</td>\n",
       "      <td>False</td>\n",
       "      <td>False</td>\n",
       "      <td>True</td>\n",
       "      <td>False</td>\n",
       "      <td>False</td>\n",
       "    </tr>\n",
       "    <tr>\n",
       "      <th>876</th>\n",
       "      <td>0</td>\n",
       "      <td>9.8458</td>\n",
       "      <td>0-21</td>\n",
       "      <td>False</td>\n",
       "      <td>False</td>\n",
       "      <td>False</td>\n",
       "      <td>False</td>\n",
       "      <td>False</td>\n",
       "      <td>False</td>\n",
       "      <td>False</td>\n",
       "      <td>False</td>\n",
       "      <td>False</td>\n",
       "      <td>False</td>\n",
       "      <td>False</td>\n",
       "      <td>True</td>\n",
       "      <td>False</td>\n",
       "      <td>False</td>\n",
       "    </tr>\n",
       "    <tr>\n",
       "      <th>359</th>\n",
       "      <td>1</td>\n",
       "      <td>7.8792</td>\n",
       "      <td>brak</td>\n",
       "      <td>False</td>\n",
       "      <td>True</td>\n",
       "      <td>False</td>\n",
       "      <td>False</td>\n",
       "      <td>True</td>\n",
       "      <td>False</td>\n",
       "      <td>False</td>\n",
       "      <td>False</td>\n",
       "      <td>False</td>\n",
       "      <td>False</td>\n",
       "      <td>True</td>\n",
       "      <td>False</td>\n",
       "      <td>False</td>\n",
       "      <td>False</td>\n",
       "    </tr>\n",
       "    <tr>\n",
       "      <th>194</th>\n",
       "      <td>1</td>\n",
       "      <td>27.7208</td>\n",
       "      <td>&gt;39</td>\n",
       "      <td>True</td>\n",
       "      <td>False</td>\n",
       "      <td>True</td>\n",
       "      <td>False</td>\n",
       "      <td>True</td>\n",
       "      <td>False</td>\n",
       "      <td>False</td>\n",
       "      <td>False</td>\n",
       "      <td>False</td>\n",
       "      <td>False</td>\n",
       "      <td>False</td>\n",
       "      <td>False</td>\n",
       "      <td>True</td>\n",
       "      <td>False</td>\n",
       "    </tr>\n",
       "    <tr>\n",
       "      <th>819</th>\n",
       "      <td>0</td>\n",
       "      <td>27.9000</td>\n",
       "      <td>0-21</td>\n",
       "      <td>False</td>\n",
       "      <td>False</td>\n",
       "      <td>False</td>\n",
       "      <td>False</td>\n",
       "      <td>False</td>\n",
       "      <td>False</td>\n",
       "      <td>True</td>\n",
       "      <td>False</td>\n",
       "      <td>True</td>\n",
       "      <td>True</td>\n",
       "      <td>False</td>\n",
       "      <td>False</td>\n",
       "      <td>False</td>\n",
       "      <td>False</td>\n",
       "    </tr>\n",
       "    <tr>\n",
       "      <th>...</th>\n",
       "      <td>...</td>\n",
       "      <td>...</td>\n",
       "      <td>...</td>\n",
       "      <td>...</td>\n",
       "      <td>...</td>\n",
       "      <td>...</td>\n",
       "      <td>...</td>\n",
       "      <td>...</td>\n",
       "      <td>...</td>\n",
       "      <td>...</td>\n",
       "      <td>...</td>\n",
       "      <td>...</td>\n",
       "      <td>...</td>\n",
       "      <td>...</td>\n",
       "      <td>...</td>\n",
       "      <td>...</td>\n",
       "      <td>...</td>\n",
       "    </tr>\n",
       "    <tr>\n",
       "      <th>455</th>\n",
       "      <td>1</td>\n",
       "      <td>7.8958</td>\n",
       "      <td>28-39</td>\n",
       "      <td>True</td>\n",
       "      <td>False</td>\n",
       "      <td>False</td>\n",
       "      <td>False</td>\n",
       "      <td>False</td>\n",
       "      <td>False</td>\n",
       "      <td>False</td>\n",
       "      <td>False</td>\n",
       "      <td>False</td>\n",
       "      <td>False</td>\n",
       "      <td>False</td>\n",
       "      <td>True</td>\n",
       "      <td>False</td>\n",
       "      <td>False</td>\n",
       "    </tr>\n",
       "    <tr>\n",
       "      <th>432</th>\n",
       "      <td>1</td>\n",
       "      <td>26.0000</td>\n",
       "      <td>&gt;39</td>\n",
       "      <td>False</td>\n",
       "      <td>False</td>\n",
       "      <td>False</td>\n",
       "      <td>True</td>\n",
       "      <td>True</td>\n",
       "      <td>True</td>\n",
       "      <td>False</td>\n",
       "      <td>False</td>\n",
       "      <td>False</td>\n",
       "      <td>False</td>\n",
       "      <td>False</td>\n",
       "      <td>False</td>\n",
       "      <td>True</td>\n",
       "      <td>False</td>\n",
       "    </tr>\n",
       "    <tr>\n",
       "      <th>473</th>\n",
       "      <td>1</td>\n",
       "      <td>13.7917</td>\n",
       "      <td>21-28</td>\n",
       "      <td>True</td>\n",
       "      <td>False</td>\n",
       "      <td>False</td>\n",
       "      <td>True</td>\n",
       "      <td>True</td>\n",
       "      <td>False</td>\n",
       "      <td>False</td>\n",
       "      <td>False</td>\n",
       "      <td>False</td>\n",
       "      <td>False</td>\n",
       "      <td>False</td>\n",
       "      <td>False</td>\n",
       "      <td>True</td>\n",
       "      <td>False</td>\n",
       "    </tr>\n",
       "    <tr>\n",
       "      <th>658</th>\n",
       "      <td>0</td>\n",
       "      <td>13.0000</td>\n",
       "      <td>21-28</td>\n",
       "      <td>False</td>\n",
       "      <td>False</td>\n",
       "      <td>False</td>\n",
       "      <td>True</td>\n",
       "      <td>False</td>\n",
       "      <td>False</td>\n",
       "      <td>False</td>\n",
       "      <td>False</td>\n",
       "      <td>False</td>\n",
       "      <td>False</td>\n",
       "      <td>False</td>\n",
       "      <td>True</td>\n",
       "      <td>False</td>\n",
       "      <td>False</td>\n",
       "    </tr>\n",
       "    <tr>\n",
       "      <th>757</th>\n",
       "      <td>0</td>\n",
       "      <td>11.5000</td>\n",
       "      <td>0-21</td>\n",
       "      <td>False</td>\n",
       "      <td>False</td>\n",
       "      <td>False</td>\n",
       "      <td>True</td>\n",
       "      <td>False</td>\n",
       "      <td>False</td>\n",
       "      <td>False</td>\n",
       "      <td>False</td>\n",
       "      <td>False</td>\n",
       "      <td>False</td>\n",
       "      <td>False</td>\n",
       "      <td>True</td>\n",
       "      <td>False</td>\n",
       "      <td>False</td>\n",
       "    </tr>\n",
       "  </tbody>\n",
       "</table>\n",
       "<p>268 rows × 17 columns</p>\n",
       "</div>"
      ],
      "text/plain": [
       "     Survived     Fare Age_cat  Embarked_C  Embarked_Q  Pclass_1  Pclass_2  \\\n",
       "646         0   7.8958    0-21       False       False     False     False   \n",
       "876         0   9.8458    0-21       False       False     False     False   \n",
       "359         1   7.8792    brak       False        True     False     False   \n",
       "194         1  27.7208     >39        True       False      True     False   \n",
       "819         0  27.9000    0-21       False       False     False     False   \n",
       "..        ...      ...     ...         ...         ...       ...       ...   \n",
       "455         1   7.8958   28-39        True       False     False     False   \n",
       "432         1  26.0000     >39       False       False     False      True   \n",
       "473         1  13.7917   21-28        True       False     False      True   \n",
       "658         0  13.0000   21-28       False       False     False      True   \n",
       "757         0  11.5000    0-21       False       False     False      True   \n",
       "\n",
       "     Sex_female  SibSp_1  SibSp_2+  Parch_1  Parch_2+  Master   Miss     Mr  \\\n",
       "646       False    False     False    False     False   False  False   True   \n",
       "876       False    False     False    False     False   False  False   True   \n",
       "359        True    False     False    False     False   False   True  False   \n",
       "194        True    False     False    False     False   False  False  False   \n",
       "819       False    False      True    False      True    True  False  False   \n",
       "..          ...      ...       ...      ...       ...     ...    ...    ...   \n",
       "455       False    False     False    False     False   False  False   True   \n",
       "432        True     True     False    False     False   False  False  False   \n",
       "473        True    False     False    False     False   False  False  False   \n",
       "658       False    False     False    False     False   False  False   True   \n",
       "757       False    False     False    False     False   False  False   True   \n",
       "\n",
       "       Mrs  Other  \n",
       "646  False  False  \n",
       "876  False  False  \n",
       "359  False  False  \n",
       "194   True  False  \n",
       "819  False  False  \n",
       "..     ...    ...  \n",
       "455  False  False  \n",
       "432   True  False  \n",
       "473   True  False  \n",
       "658  False  False  \n",
       "757  False  False  \n",
       "\n",
       "[268 rows x 17 columns]"
      ]
     },
     "execution_count": 255,
     "metadata": {},
     "output_type": "execute_result"
    }
   ],
   "source": [
    "df_test"
   ]
  },
  {
   "cell_type": "code",
   "execution_count": null,
   "id": "ce7e0391-e035-4ad9-9fa3-1f5b8a3d3583",
   "metadata": {},
   "outputs": [],
   "source": [
    "#rozbijam Age_cat"
   ]
  },
  {
   "cell_type": "code",
   "execution_count": 265,
   "id": "67a90f58-44f6-4051-b8a2-da775e1175e4",
   "metadata": {},
   "outputs": [],
   "source": [
    "dummy_agecat_train = pd.get_dummies(df_train['Age_cat'])\n",
    "dummy_agecat_test = pd.get_dummies(df_test['Age_cat'])"
   ]
  },
  {
   "cell_type": "code",
   "execution_count": 266,
   "id": "e7e955d8-ca7b-4d75-b52c-0fe4e8bca074",
   "metadata": {},
   "outputs": [
    {
     "data": {
      "text/plain": [
       "0-21   21-28  28-39  >39    brak \n",
       "True   False  False  False  False    134\n",
       "False  False  True   False  False    131\n",
       "              False  False  True     125\n",
       "                     True   False    118\n",
       "       True   False  False  False    115\n",
       "Name: count, dtype: int64"
      ]
     },
     "execution_count": 266,
     "metadata": {},
     "output_type": "execute_result"
    }
   ],
   "source": [
    "dummy_agecat_train.value_counts()"
   ]
  },
  {
   "cell_type": "code",
   "execution_count": 267,
   "id": "06c98ed4-6ca7-4413-b01c-e3cb03d8d59b",
   "metadata": {},
   "outputs": [
    {
     "data": {
      "text/plain": [
       "0-21   21-28  28-39  >39    brak \n",
       "True   False  False  False  False    70\n",
       "False  False  True   False  False    58\n",
       "              False  False  True     52\n",
       "                     True   False    45\n",
       "       True   False  False  False    43\n",
       "Name: count, dtype: int64"
      ]
     },
     "execution_count": 267,
     "metadata": {},
     "output_type": "execute_result"
    }
   ],
   "source": [
    "dummy_agecat_test.value_counts()"
   ]
  },
  {
   "cell_type": "code",
   "execution_count": 268,
   "id": "5a16d2c8-2a20-4308-aa43-28f0fccd957c",
   "metadata": {},
   "outputs": [],
   "source": [
    "df_train = pd.concat([df_train, dummy_agecat_train], axis=1)\n",
    "df_test = pd.concat([df_test, dummy_agecat_test], axis=1)"
   ]
  },
  {
   "cell_type": "code",
   "execution_count": 269,
   "id": "2342abba-e7b1-4882-b6ae-b201fa8c257a",
   "metadata": {},
   "outputs": [],
   "source": [
    "df_train.drop('Age_cat', axis=1, inplace=True)\n",
    "df_test.drop('Age_cat', axis=1, inplace=True)"
   ]
  },
  {
   "cell_type": "code",
   "execution_count": 270,
   "id": "0c062cf8-f854-4e96-8791-a14f2e6c0028",
   "metadata": {},
   "outputs": [
    {
     "data": {
      "text/html": [
       "<div>\n",
       "<style scoped>\n",
       "    .dataframe tbody tr th:only-of-type {\n",
       "        vertical-align: middle;\n",
       "    }\n",
       "\n",
       "    .dataframe tbody tr th {\n",
       "        vertical-align: top;\n",
       "    }\n",
       "\n",
       "    .dataframe thead th {\n",
       "        text-align: right;\n",
       "    }\n",
       "</style>\n",
       "<table border=\"1\" class=\"dataframe\">\n",
       "  <thead>\n",
       "    <tr style=\"text-align: right;\">\n",
       "      <th></th>\n",
       "      <th>Survived</th>\n",
       "      <th>Fare</th>\n",
       "      <th>Embarked_C</th>\n",
       "      <th>Embarked_Q</th>\n",
       "      <th>Pclass_1</th>\n",
       "      <th>Pclass_2</th>\n",
       "      <th>Sex_female</th>\n",
       "      <th>SibSp_1</th>\n",
       "      <th>SibSp_2+</th>\n",
       "      <th>Parch_1</th>\n",
       "      <th>...</th>\n",
       "      <th>Master</th>\n",
       "      <th>Miss</th>\n",
       "      <th>Mr</th>\n",
       "      <th>Mrs</th>\n",
       "      <th>Other</th>\n",
       "      <th>0-21</th>\n",
       "      <th>21-28</th>\n",
       "      <th>28-39</th>\n",
       "      <th>&gt;39</th>\n",
       "      <th>brak</th>\n",
       "    </tr>\n",
       "  </thead>\n",
       "  <tbody>\n",
       "    <tr>\n",
       "      <th>537</th>\n",
       "      <td>1</td>\n",
       "      <td>106.4250</td>\n",
       "      <td>True</td>\n",
       "      <td>False</td>\n",
       "      <td>True</td>\n",
       "      <td>False</td>\n",
       "      <td>True</td>\n",
       "      <td>False</td>\n",
       "      <td>False</td>\n",
       "      <td>False</td>\n",
       "      <td>...</td>\n",
       "      <td>False</td>\n",
       "      <td>True</td>\n",
       "      <td>False</td>\n",
       "      <td>False</td>\n",
       "      <td>False</td>\n",
       "      <td>False</td>\n",
       "      <td>False</td>\n",
       "      <td>True</td>\n",
       "      <td>False</td>\n",
       "      <td>False</td>\n",
       "    </tr>\n",
       "    <tr>\n",
       "      <th>401</th>\n",
       "      <td>0</td>\n",
       "      <td>8.0500</td>\n",
       "      <td>False</td>\n",
       "      <td>False</td>\n",
       "      <td>False</td>\n",
       "      <td>False</td>\n",
       "      <td>False</td>\n",
       "      <td>False</td>\n",
       "      <td>False</td>\n",
       "      <td>False</td>\n",
       "      <td>...</td>\n",
       "      <td>False</td>\n",
       "      <td>False</td>\n",
       "      <td>True</td>\n",
       "      <td>False</td>\n",
       "      <td>False</td>\n",
       "      <td>False</td>\n",
       "      <td>True</td>\n",
       "      <td>False</td>\n",
       "      <td>False</td>\n",
       "      <td>False</td>\n",
       "    </tr>\n",
       "    <tr>\n",
       "      <th>554</th>\n",
       "      <td>1</td>\n",
       "      <td>7.7750</td>\n",
       "      <td>False</td>\n",
       "      <td>False</td>\n",
       "      <td>False</td>\n",
       "      <td>False</td>\n",
       "      <td>True</td>\n",
       "      <td>False</td>\n",
       "      <td>False</td>\n",
       "      <td>False</td>\n",
       "      <td>...</td>\n",
       "      <td>False</td>\n",
       "      <td>True</td>\n",
       "      <td>False</td>\n",
       "      <td>False</td>\n",
       "      <td>False</td>\n",
       "      <td>False</td>\n",
       "      <td>True</td>\n",
       "      <td>False</td>\n",
       "      <td>False</td>\n",
       "      <td>False</td>\n",
       "    </tr>\n",
       "    <tr>\n",
       "      <th>213</th>\n",
       "      <td>0</td>\n",
       "      <td>13.0000</td>\n",
       "      <td>False</td>\n",
       "      <td>False</td>\n",
       "      <td>False</td>\n",
       "      <td>True</td>\n",
       "      <td>False</td>\n",
       "      <td>False</td>\n",
       "      <td>False</td>\n",
       "      <td>False</td>\n",
       "      <td>...</td>\n",
       "      <td>False</td>\n",
       "      <td>False</td>\n",
       "      <td>True</td>\n",
       "      <td>False</td>\n",
       "      <td>False</td>\n",
       "      <td>False</td>\n",
       "      <td>False</td>\n",
       "      <td>True</td>\n",
       "      <td>False</td>\n",
       "      <td>False</td>\n",
       "    </tr>\n",
       "    <tr>\n",
       "      <th>434</th>\n",
       "      <td>0</td>\n",
       "      <td>55.9000</td>\n",
       "      <td>False</td>\n",
       "      <td>False</td>\n",
       "      <td>True</td>\n",
       "      <td>False</td>\n",
       "      <td>False</td>\n",
       "      <td>True</td>\n",
       "      <td>False</td>\n",
       "      <td>False</td>\n",
       "      <td>...</td>\n",
       "      <td>False</td>\n",
       "      <td>False</td>\n",
       "      <td>True</td>\n",
       "      <td>False</td>\n",
       "      <td>False</td>\n",
       "      <td>False</td>\n",
       "      <td>False</td>\n",
       "      <td>False</td>\n",
       "      <td>True</td>\n",
       "      <td>False</td>\n",
       "    </tr>\n",
       "    <tr>\n",
       "      <th>...</th>\n",
       "      <td>...</td>\n",
       "      <td>...</td>\n",
       "      <td>...</td>\n",
       "      <td>...</td>\n",
       "      <td>...</td>\n",
       "      <td>...</td>\n",
       "      <td>...</td>\n",
       "      <td>...</td>\n",
       "      <td>...</td>\n",
       "      <td>...</td>\n",
       "      <td>...</td>\n",
       "      <td>...</td>\n",
       "      <td>...</td>\n",
       "      <td>...</td>\n",
       "      <td>...</td>\n",
       "      <td>...</td>\n",
       "      <td>...</td>\n",
       "      <td>...</td>\n",
       "      <td>...</td>\n",
       "      <td>...</td>\n",
       "      <td>...</td>\n",
       "    </tr>\n",
       "    <tr>\n",
       "      <th>360</th>\n",
       "      <td>0</td>\n",
       "      <td>27.9000</td>\n",
       "      <td>False</td>\n",
       "      <td>False</td>\n",
       "      <td>False</td>\n",
       "      <td>False</td>\n",
       "      <td>False</td>\n",
       "      <td>True</td>\n",
       "      <td>False</td>\n",
       "      <td>False</td>\n",
       "      <td>...</td>\n",
       "      <td>False</td>\n",
       "      <td>False</td>\n",
       "      <td>True</td>\n",
       "      <td>False</td>\n",
       "      <td>False</td>\n",
       "      <td>False</td>\n",
       "      <td>False</td>\n",
       "      <td>False</td>\n",
       "      <td>True</td>\n",
       "      <td>False</td>\n",
       "    </tr>\n",
       "    <tr>\n",
       "      <th>709</th>\n",
       "      <td>1</td>\n",
       "      <td>15.2458</td>\n",
       "      <td>True</td>\n",
       "      <td>False</td>\n",
       "      <td>False</td>\n",
       "      <td>False</td>\n",
       "      <td>False</td>\n",
       "      <td>True</td>\n",
       "      <td>False</td>\n",
       "      <td>True</td>\n",
       "      <td>...</td>\n",
       "      <td>True</td>\n",
       "      <td>False</td>\n",
       "      <td>False</td>\n",
       "      <td>False</td>\n",
       "      <td>False</td>\n",
       "      <td>False</td>\n",
       "      <td>False</td>\n",
       "      <td>False</td>\n",
       "      <td>False</td>\n",
       "      <td>True</td>\n",
       "    </tr>\n",
       "    <tr>\n",
       "      <th>439</th>\n",
       "      <td>0</td>\n",
       "      <td>10.5000</td>\n",
       "      <td>False</td>\n",
       "      <td>False</td>\n",
       "      <td>False</td>\n",
       "      <td>True</td>\n",
       "      <td>False</td>\n",
       "      <td>False</td>\n",
       "      <td>False</td>\n",
       "      <td>False</td>\n",
       "      <td>...</td>\n",
       "      <td>False</td>\n",
       "      <td>False</td>\n",
       "      <td>True</td>\n",
       "      <td>False</td>\n",
       "      <td>False</td>\n",
       "      <td>False</td>\n",
       "      <td>False</td>\n",
       "      <td>True</td>\n",
       "      <td>False</td>\n",
       "      <td>False</td>\n",
       "    </tr>\n",
       "    <tr>\n",
       "      <th>174</th>\n",
       "      <td>0</td>\n",
       "      <td>30.6958</td>\n",
       "      <td>True</td>\n",
       "      <td>False</td>\n",
       "      <td>True</td>\n",
       "      <td>False</td>\n",
       "      <td>False</td>\n",
       "      <td>False</td>\n",
       "      <td>False</td>\n",
       "      <td>False</td>\n",
       "      <td>...</td>\n",
       "      <td>False</td>\n",
       "      <td>False</td>\n",
       "      <td>True</td>\n",
       "      <td>False</td>\n",
       "      <td>False</td>\n",
       "      <td>False</td>\n",
       "      <td>False</td>\n",
       "      <td>False</td>\n",
       "      <td>True</td>\n",
       "      <td>False</td>\n",
       "    </tr>\n",
       "    <tr>\n",
       "      <th>122</th>\n",
       "      <td>0</td>\n",
       "      <td>30.0708</td>\n",
       "      <td>True</td>\n",
       "      <td>False</td>\n",
       "      <td>False</td>\n",
       "      <td>True</td>\n",
       "      <td>False</td>\n",
       "      <td>True</td>\n",
       "      <td>False</td>\n",
       "      <td>False</td>\n",
       "      <td>...</td>\n",
       "      <td>False</td>\n",
       "      <td>False</td>\n",
       "      <td>True</td>\n",
       "      <td>False</td>\n",
       "      <td>False</td>\n",
       "      <td>False</td>\n",
       "      <td>False</td>\n",
       "      <td>True</td>\n",
       "      <td>False</td>\n",
       "      <td>False</td>\n",
       "    </tr>\n",
       "  </tbody>\n",
       "</table>\n",
       "<p>623 rows × 21 columns</p>\n",
       "</div>"
      ],
      "text/plain": [
       "     Survived      Fare  Embarked_C  Embarked_Q  Pclass_1  Pclass_2  \\\n",
       "537         1  106.4250        True       False      True     False   \n",
       "401         0    8.0500       False       False     False     False   \n",
       "554         1    7.7750       False       False     False     False   \n",
       "213         0   13.0000       False       False     False      True   \n",
       "434         0   55.9000       False       False      True     False   \n",
       "..        ...       ...         ...         ...       ...       ...   \n",
       "360         0   27.9000       False       False     False     False   \n",
       "709         1   15.2458        True       False     False     False   \n",
       "439         0   10.5000       False       False     False      True   \n",
       "174         0   30.6958        True       False      True     False   \n",
       "122         0   30.0708        True       False     False      True   \n",
       "\n",
       "     Sex_female  SibSp_1  SibSp_2+  Parch_1  ...  Master   Miss     Mr    Mrs  \\\n",
       "537        True    False     False    False  ...   False   True  False  False   \n",
       "401       False    False     False    False  ...   False  False   True  False   \n",
       "554        True    False     False    False  ...   False   True  False  False   \n",
       "213       False    False     False    False  ...   False  False   True  False   \n",
       "434       False     True     False    False  ...   False  False   True  False   \n",
       "..          ...      ...       ...      ...  ...     ...    ...    ...    ...   \n",
       "360       False     True     False    False  ...   False  False   True  False   \n",
       "709       False     True     False     True  ...    True  False  False  False   \n",
       "439       False    False     False    False  ...   False  False   True  False   \n",
       "174       False    False     False    False  ...   False  False   True  False   \n",
       "122       False     True     False    False  ...   False  False   True  False   \n",
       "\n",
       "     Other   0-21  21-28  28-39    >39   brak  \n",
       "537  False  False  False   True  False  False  \n",
       "401  False  False   True  False  False  False  \n",
       "554  False  False   True  False  False  False  \n",
       "213  False  False  False   True  False  False  \n",
       "434  False  False  False  False   True  False  \n",
       "..     ...    ...    ...    ...    ...    ...  \n",
       "360  False  False  False  False   True  False  \n",
       "709  False  False  False  False  False   True  \n",
       "439  False  False  False   True  False  False  \n",
       "174  False  False  False  False   True  False  \n",
       "122  False  False  False   True  False  False  \n",
       "\n",
       "[623 rows x 21 columns]"
      ]
     },
     "execution_count": 270,
     "metadata": {},
     "output_type": "execute_result"
    }
   ],
   "source": [
    "df_train"
   ]
  },
  {
   "cell_type": "code",
   "execution_count": 271,
   "id": "1a476069-087d-4bd9-b1eb-b8de949c596c",
   "metadata": {},
   "outputs": [
    {
     "data": {
      "text/html": [
       "<div>\n",
       "<style scoped>\n",
       "    .dataframe tbody tr th:only-of-type {\n",
       "        vertical-align: middle;\n",
       "    }\n",
       "\n",
       "    .dataframe tbody tr th {\n",
       "        vertical-align: top;\n",
       "    }\n",
       "\n",
       "    .dataframe thead th {\n",
       "        text-align: right;\n",
       "    }\n",
       "</style>\n",
       "<table border=\"1\" class=\"dataframe\">\n",
       "  <thead>\n",
       "    <tr style=\"text-align: right;\">\n",
       "      <th></th>\n",
       "      <th>Survived</th>\n",
       "      <th>Fare</th>\n",
       "      <th>Embarked_C</th>\n",
       "      <th>Embarked_Q</th>\n",
       "      <th>Pclass_1</th>\n",
       "      <th>Pclass_2</th>\n",
       "      <th>Sex_female</th>\n",
       "      <th>SibSp_1</th>\n",
       "      <th>SibSp_2+</th>\n",
       "      <th>Parch_1</th>\n",
       "      <th>...</th>\n",
       "      <th>Master</th>\n",
       "      <th>Miss</th>\n",
       "      <th>Mr</th>\n",
       "      <th>Mrs</th>\n",
       "      <th>Other</th>\n",
       "      <th>0-21</th>\n",
       "      <th>21-28</th>\n",
       "      <th>28-39</th>\n",
       "      <th>&gt;39</th>\n",
       "      <th>brak</th>\n",
       "    </tr>\n",
       "  </thead>\n",
       "  <tbody>\n",
       "    <tr>\n",
       "      <th>646</th>\n",
       "      <td>0</td>\n",
       "      <td>7.8958</td>\n",
       "      <td>False</td>\n",
       "      <td>False</td>\n",
       "      <td>False</td>\n",
       "      <td>False</td>\n",
       "      <td>False</td>\n",
       "      <td>False</td>\n",
       "      <td>False</td>\n",
       "      <td>False</td>\n",
       "      <td>...</td>\n",
       "      <td>False</td>\n",
       "      <td>False</td>\n",
       "      <td>True</td>\n",
       "      <td>False</td>\n",
       "      <td>False</td>\n",
       "      <td>True</td>\n",
       "      <td>False</td>\n",
       "      <td>False</td>\n",
       "      <td>False</td>\n",
       "      <td>False</td>\n",
       "    </tr>\n",
       "    <tr>\n",
       "      <th>876</th>\n",
       "      <td>0</td>\n",
       "      <td>9.8458</td>\n",
       "      <td>False</td>\n",
       "      <td>False</td>\n",
       "      <td>False</td>\n",
       "      <td>False</td>\n",
       "      <td>False</td>\n",
       "      <td>False</td>\n",
       "      <td>False</td>\n",
       "      <td>False</td>\n",
       "      <td>...</td>\n",
       "      <td>False</td>\n",
       "      <td>False</td>\n",
       "      <td>True</td>\n",
       "      <td>False</td>\n",
       "      <td>False</td>\n",
       "      <td>True</td>\n",
       "      <td>False</td>\n",
       "      <td>False</td>\n",
       "      <td>False</td>\n",
       "      <td>False</td>\n",
       "    </tr>\n",
       "    <tr>\n",
       "      <th>359</th>\n",
       "      <td>1</td>\n",
       "      <td>7.8792</td>\n",
       "      <td>False</td>\n",
       "      <td>True</td>\n",
       "      <td>False</td>\n",
       "      <td>False</td>\n",
       "      <td>True</td>\n",
       "      <td>False</td>\n",
       "      <td>False</td>\n",
       "      <td>False</td>\n",
       "      <td>...</td>\n",
       "      <td>False</td>\n",
       "      <td>True</td>\n",
       "      <td>False</td>\n",
       "      <td>False</td>\n",
       "      <td>False</td>\n",
       "      <td>False</td>\n",
       "      <td>False</td>\n",
       "      <td>False</td>\n",
       "      <td>False</td>\n",
       "      <td>True</td>\n",
       "    </tr>\n",
       "    <tr>\n",
       "      <th>194</th>\n",
       "      <td>1</td>\n",
       "      <td>27.7208</td>\n",
       "      <td>True</td>\n",
       "      <td>False</td>\n",
       "      <td>True</td>\n",
       "      <td>False</td>\n",
       "      <td>True</td>\n",
       "      <td>False</td>\n",
       "      <td>False</td>\n",
       "      <td>False</td>\n",
       "      <td>...</td>\n",
       "      <td>False</td>\n",
       "      <td>False</td>\n",
       "      <td>False</td>\n",
       "      <td>True</td>\n",
       "      <td>False</td>\n",
       "      <td>False</td>\n",
       "      <td>False</td>\n",
       "      <td>False</td>\n",
       "      <td>True</td>\n",
       "      <td>False</td>\n",
       "    </tr>\n",
       "    <tr>\n",
       "      <th>819</th>\n",
       "      <td>0</td>\n",
       "      <td>27.9000</td>\n",
       "      <td>False</td>\n",
       "      <td>False</td>\n",
       "      <td>False</td>\n",
       "      <td>False</td>\n",
       "      <td>False</td>\n",
       "      <td>False</td>\n",
       "      <td>True</td>\n",
       "      <td>False</td>\n",
       "      <td>...</td>\n",
       "      <td>True</td>\n",
       "      <td>False</td>\n",
       "      <td>False</td>\n",
       "      <td>False</td>\n",
       "      <td>False</td>\n",
       "      <td>True</td>\n",
       "      <td>False</td>\n",
       "      <td>False</td>\n",
       "      <td>False</td>\n",
       "      <td>False</td>\n",
       "    </tr>\n",
       "    <tr>\n",
       "      <th>...</th>\n",
       "      <td>...</td>\n",
       "      <td>...</td>\n",
       "      <td>...</td>\n",
       "      <td>...</td>\n",
       "      <td>...</td>\n",
       "      <td>...</td>\n",
       "      <td>...</td>\n",
       "      <td>...</td>\n",
       "      <td>...</td>\n",
       "      <td>...</td>\n",
       "      <td>...</td>\n",
       "      <td>...</td>\n",
       "      <td>...</td>\n",
       "      <td>...</td>\n",
       "      <td>...</td>\n",
       "      <td>...</td>\n",
       "      <td>...</td>\n",
       "      <td>...</td>\n",
       "      <td>...</td>\n",
       "      <td>...</td>\n",
       "      <td>...</td>\n",
       "    </tr>\n",
       "    <tr>\n",
       "      <th>455</th>\n",
       "      <td>1</td>\n",
       "      <td>7.8958</td>\n",
       "      <td>True</td>\n",
       "      <td>False</td>\n",
       "      <td>False</td>\n",
       "      <td>False</td>\n",
       "      <td>False</td>\n",
       "      <td>False</td>\n",
       "      <td>False</td>\n",
       "      <td>False</td>\n",
       "      <td>...</td>\n",
       "      <td>False</td>\n",
       "      <td>False</td>\n",
       "      <td>True</td>\n",
       "      <td>False</td>\n",
       "      <td>False</td>\n",
       "      <td>False</td>\n",
       "      <td>False</td>\n",
       "      <td>True</td>\n",
       "      <td>False</td>\n",
       "      <td>False</td>\n",
       "    </tr>\n",
       "    <tr>\n",
       "      <th>432</th>\n",
       "      <td>1</td>\n",
       "      <td>26.0000</td>\n",
       "      <td>False</td>\n",
       "      <td>False</td>\n",
       "      <td>False</td>\n",
       "      <td>True</td>\n",
       "      <td>True</td>\n",
       "      <td>True</td>\n",
       "      <td>False</td>\n",
       "      <td>False</td>\n",
       "      <td>...</td>\n",
       "      <td>False</td>\n",
       "      <td>False</td>\n",
       "      <td>False</td>\n",
       "      <td>True</td>\n",
       "      <td>False</td>\n",
       "      <td>False</td>\n",
       "      <td>False</td>\n",
       "      <td>False</td>\n",
       "      <td>True</td>\n",
       "      <td>False</td>\n",
       "    </tr>\n",
       "    <tr>\n",
       "      <th>473</th>\n",
       "      <td>1</td>\n",
       "      <td>13.7917</td>\n",
       "      <td>True</td>\n",
       "      <td>False</td>\n",
       "      <td>False</td>\n",
       "      <td>True</td>\n",
       "      <td>True</td>\n",
       "      <td>False</td>\n",
       "      <td>False</td>\n",
       "      <td>False</td>\n",
       "      <td>...</td>\n",
       "      <td>False</td>\n",
       "      <td>False</td>\n",
       "      <td>False</td>\n",
       "      <td>True</td>\n",
       "      <td>False</td>\n",
       "      <td>False</td>\n",
       "      <td>True</td>\n",
       "      <td>False</td>\n",
       "      <td>False</td>\n",
       "      <td>False</td>\n",
       "    </tr>\n",
       "    <tr>\n",
       "      <th>658</th>\n",
       "      <td>0</td>\n",
       "      <td>13.0000</td>\n",
       "      <td>False</td>\n",
       "      <td>False</td>\n",
       "      <td>False</td>\n",
       "      <td>True</td>\n",
       "      <td>False</td>\n",
       "      <td>False</td>\n",
       "      <td>False</td>\n",
       "      <td>False</td>\n",
       "      <td>...</td>\n",
       "      <td>False</td>\n",
       "      <td>False</td>\n",
       "      <td>True</td>\n",
       "      <td>False</td>\n",
       "      <td>False</td>\n",
       "      <td>False</td>\n",
       "      <td>True</td>\n",
       "      <td>False</td>\n",
       "      <td>False</td>\n",
       "      <td>False</td>\n",
       "    </tr>\n",
       "    <tr>\n",
       "      <th>757</th>\n",
       "      <td>0</td>\n",
       "      <td>11.5000</td>\n",
       "      <td>False</td>\n",
       "      <td>False</td>\n",
       "      <td>False</td>\n",
       "      <td>True</td>\n",
       "      <td>False</td>\n",
       "      <td>False</td>\n",
       "      <td>False</td>\n",
       "      <td>False</td>\n",
       "      <td>...</td>\n",
       "      <td>False</td>\n",
       "      <td>False</td>\n",
       "      <td>True</td>\n",
       "      <td>False</td>\n",
       "      <td>False</td>\n",
       "      <td>True</td>\n",
       "      <td>False</td>\n",
       "      <td>False</td>\n",
       "      <td>False</td>\n",
       "      <td>False</td>\n",
       "    </tr>\n",
       "  </tbody>\n",
       "</table>\n",
       "<p>268 rows × 21 columns</p>\n",
       "</div>"
      ],
      "text/plain": [
       "     Survived     Fare  Embarked_C  Embarked_Q  Pclass_1  Pclass_2  \\\n",
       "646         0   7.8958       False       False     False     False   \n",
       "876         0   9.8458       False       False     False     False   \n",
       "359         1   7.8792       False        True     False     False   \n",
       "194         1  27.7208        True       False      True     False   \n",
       "819         0  27.9000       False       False     False     False   \n",
       "..        ...      ...         ...         ...       ...       ...   \n",
       "455         1   7.8958        True       False     False     False   \n",
       "432         1  26.0000       False       False     False      True   \n",
       "473         1  13.7917        True       False     False      True   \n",
       "658         0  13.0000       False       False     False      True   \n",
       "757         0  11.5000       False       False     False      True   \n",
       "\n",
       "     Sex_female  SibSp_1  SibSp_2+  Parch_1  ...  Master   Miss     Mr    Mrs  \\\n",
       "646       False    False     False    False  ...   False  False   True  False   \n",
       "876       False    False     False    False  ...   False  False   True  False   \n",
       "359        True    False     False    False  ...   False   True  False  False   \n",
       "194        True    False     False    False  ...   False  False  False   True   \n",
       "819       False    False      True    False  ...    True  False  False  False   \n",
       "..          ...      ...       ...      ...  ...     ...    ...    ...    ...   \n",
       "455       False    False     False    False  ...   False  False   True  False   \n",
       "432        True     True     False    False  ...   False  False  False   True   \n",
       "473        True    False     False    False  ...   False  False  False   True   \n",
       "658       False    False     False    False  ...   False  False   True  False   \n",
       "757       False    False     False    False  ...   False  False   True  False   \n",
       "\n",
       "     Other   0-21  21-28  28-39    >39   brak  \n",
       "646  False   True  False  False  False  False  \n",
       "876  False   True  False  False  False  False  \n",
       "359  False  False  False  False  False   True  \n",
       "194  False  False  False  False   True  False  \n",
       "819  False   True  False  False  False  False  \n",
       "..     ...    ...    ...    ...    ...    ...  \n",
       "455  False  False  False   True  False  False  \n",
       "432  False  False  False  False   True  False  \n",
       "473  False  False   True  False  False  False  \n",
       "658  False  False   True  False  False  False  \n",
       "757  False   True  False  False  False  False  \n",
       "\n",
       "[268 rows x 21 columns]"
      ]
     },
     "execution_count": 271,
     "metadata": {},
     "output_type": "execute_result"
    }
   ],
   "source": [
    "df_test"
   ]
  },
  {
   "cell_type": "code",
   "execution_count": null,
   "id": "7799af49-649e-49c2-b15a-74c3eab9f491",
   "metadata": {},
   "outputs": [],
   "source": [
    "#Regresja logistyczna przekształcenie logitowe."
   ]
  },
  {
   "cell_type": "code",
   "execution_count": null,
   "id": "c9731583-0140-4f6b-921a-ff9bc9012b6b",
   "metadata": {},
   "outputs": [],
   "source": []
  },
  {
   "cell_type": "code",
   "execution_count": 272,
   "id": "baaf13b7-2112-4a90-b00a-a4c7b86561e3",
   "metadata": {},
   "outputs": [],
   "source": [
    "from sklearn.linear_model import LogisticRegression"
   ]
  },
  {
   "cell_type": "code",
   "execution_count": null,
   "id": "a8e9f276-b01f-45a5-a82c-db89a3c58437",
   "metadata": {},
   "outputs": [],
   "source": [
    "# przypisujemy do logreg dając argument odnoszący sie do max liczby iteracji max_iter"
   ]
  },
  {
   "cell_type": "code",
   "execution_count": 273,
   "id": "14e0b285-c909-4971-a019-79828a384a79",
   "metadata": {},
   "outputs": [],
   "source": [
    "logreg = LogisticRegression(max_iter = 1000)"
   ]
  },
  {
   "cell_type": "code",
   "execution_count": null,
   "id": "57443d50-2280-47e4-93ba-65c94d55a0c7",
   "metadata": {},
   "outputs": [],
   "source": [
    "#dzielimy zbiór treningowy i testowy na dwa osobne zbiory jeden będzie miał zmienna objasniana a drugi zmienne objasniajace"
   ]
  },
  {
   "cell_type": "code",
   "execution_count": null,
   "id": "9e6d767f-8a54-49f3-87c6-95c0de6c41a4",
   "metadata": {},
   "outputs": [],
   "source": [
    "#jest to potrzebne aby dopasowac model do danych"
   ]
  },
  {
   "cell_type": "code",
   "execution_count": null,
   "id": "6cab830e-d35a-4a4d-8b05-1a7749203475",
   "metadata": {},
   "outputs": [],
   "source": [
    "#dla zbioru treningowego it estowego bedzie tak samo X_train to wszystko poza zmienną celu y_train to zmienna celu"
   ]
  },
  {
   "cell_type": "code",
   "execution_count": 274,
   "id": "c75ae110-14bd-4b12-b01a-a6e6ffae547c",
   "metadata": {},
   "outputs": [],
   "source": [
    "X_train = df_train.drop('Survived', axis=1)\n",
    "y_train = df_train['Survived']"
   ]
  },
  {
   "cell_type": "code",
   "execution_count": null,
   "id": "82d7d783-d937-4efc-b1fb-3b60174241e2",
   "metadata": {},
   "outputs": [],
   "source": [
    "#dla zbioru testowego"
   ]
  },
  {
   "cell_type": "code",
   "execution_count": 275,
   "id": "4154fa66-bf62-42e7-a7f7-3a44c9128230",
   "metadata": {},
   "outputs": [],
   "source": [
    "X_test = df_test.drop('Survived', axis=1)\n",
    "y_test = df_test['Survived']"
   ]
  },
  {
   "cell_type": "code",
   "execution_count": null,
   "id": "8f748c75-f398-47db-8e4e-b7be72415ffb",
   "metadata": {},
   "outputs": [],
   "source": [
    "# 4 zbiory odpowiadajace po 2za zmienną objasniana i zmienne objasniajace"
   ]
  },
  {
   "cell_type": "code",
   "execution_count": null,
   "id": "70fb559d-23b4-46a3-96ed-d786a30ab0c5",
   "metadata": {},
   "outputs": [],
   "source": [
    "#sprawdzamy czy znikneła zmienna Survived"
   ]
  },
  {
   "cell_type": "code",
   "execution_count": 276,
   "id": "64bf3368-ce57-4fca-a182-e2fa74809d40",
   "metadata": {},
   "outputs": [
    {
     "data": {
      "text/html": [
       "<div>\n",
       "<style scoped>\n",
       "    .dataframe tbody tr th:only-of-type {\n",
       "        vertical-align: middle;\n",
       "    }\n",
       "\n",
       "    .dataframe tbody tr th {\n",
       "        vertical-align: top;\n",
       "    }\n",
       "\n",
       "    .dataframe thead th {\n",
       "        text-align: right;\n",
       "    }\n",
       "</style>\n",
       "<table border=\"1\" class=\"dataframe\">\n",
       "  <thead>\n",
       "    <tr style=\"text-align: right;\">\n",
       "      <th></th>\n",
       "      <th>Fare</th>\n",
       "      <th>Embarked_C</th>\n",
       "      <th>Embarked_Q</th>\n",
       "      <th>Pclass_1</th>\n",
       "      <th>Pclass_2</th>\n",
       "      <th>Sex_female</th>\n",
       "      <th>SibSp_1</th>\n",
       "      <th>SibSp_2+</th>\n",
       "      <th>Parch_1</th>\n",
       "      <th>Parch_2+</th>\n",
       "      <th>Master</th>\n",
       "      <th>Miss</th>\n",
       "      <th>Mr</th>\n",
       "      <th>Mrs</th>\n",
       "      <th>Other</th>\n",
       "      <th>0-21</th>\n",
       "      <th>21-28</th>\n",
       "      <th>28-39</th>\n",
       "      <th>&gt;39</th>\n",
       "      <th>brak</th>\n",
       "    </tr>\n",
       "  </thead>\n",
       "  <tbody>\n",
       "    <tr>\n",
       "      <th>537</th>\n",
       "      <td>106.425</td>\n",
       "      <td>True</td>\n",
       "      <td>False</td>\n",
       "      <td>True</td>\n",
       "      <td>False</td>\n",
       "      <td>True</td>\n",
       "      <td>False</td>\n",
       "      <td>False</td>\n",
       "      <td>False</td>\n",
       "      <td>False</td>\n",
       "      <td>False</td>\n",
       "      <td>True</td>\n",
       "      <td>False</td>\n",
       "      <td>False</td>\n",
       "      <td>False</td>\n",
       "      <td>False</td>\n",
       "      <td>False</td>\n",
       "      <td>True</td>\n",
       "      <td>False</td>\n",
       "      <td>False</td>\n",
       "    </tr>\n",
       "    <tr>\n",
       "      <th>401</th>\n",
       "      <td>8.050</td>\n",
       "      <td>False</td>\n",
       "      <td>False</td>\n",
       "      <td>False</td>\n",
       "      <td>False</td>\n",
       "      <td>False</td>\n",
       "      <td>False</td>\n",
       "      <td>False</td>\n",
       "      <td>False</td>\n",
       "      <td>False</td>\n",
       "      <td>False</td>\n",
       "      <td>False</td>\n",
       "      <td>True</td>\n",
       "      <td>False</td>\n",
       "      <td>False</td>\n",
       "      <td>False</td>\n",
       "      <td>True</td>\n",
       "      <td>False</td>\n",
       "      <td>False</td>\n",
       "      <td>False</td>\n",
       "    </tr>\n",
       "    <tr>\n",
       "      <th>554</th>\n",
       "      <td>7.775</td>\n",
       "      <td>False</td>\n",
       "      <td>False</td>\n",
       "      <td>False</td>\n",
       "      <td>False</td>\n",
       "      <td>True</td>\n",
       "      <td>False</td>\n",
       "      <td>False</td>\n",
       "      <td>False</td>\n",
       "      <td>False</td>\n",
       "      <td>False</td>\n",
       "      <td>True</td>\n",
       "      <td>False</td>\n",
       "      <td>False</td>\n",
       "      <td>False</td>\n",
       "      <td>False</td>\n",
       "      <td>True</td>\n",
       "      <td>False</td>\n",
       "      <td>False</td>\n",
       "      <td>False</td>\n",
       "    </tr>\n",
       "    <tr>\n",
       "      <th>213</th>\n",
       "      <td>13.000</td>\n",
       "      <td>False</td>\n",
       "      <td>False</td>\n",
       "      <td>False</td>\n",
       "      <td>True</td>\n",
       "      <td>False</td>\n",
       "      <td>False</td>\n",
       "      <td>False</td>\n",
       "      <td>False</td>\n",
       "      <td>False</td>\n",
       "      <td>False</td>\n",
       "      <td>False</td>\n",
       "      <td>True</td>\n",
       "      <td>False</td>\n",
       "      <td>False</td>\n",
       "      <td>False</td>\n",
       "      <td>False</td>\n",
       "      <td>True</td>\n",
       "      <td>False</td>\n",
       "      <td>False</td>\n",
       "    </tr>\n",
       "    <tr>\n",
       "      <th>434</th>\n",
       "      <td>55.900</td>\n",
       "      <td>False</td>\n",
       "      <td>False</td>\n",
       "      <td>True</td>\n",
       "      <td>False</td>\n",
       "      <td>False</td>\n",
       "      <td>True</td>\n",
       "      <td>False</td>\n",
       "      <td>False</td>\n",
       "      <td>False</td>\n",
       "      <td>False</td>\n",
       "      <td>False</td>\n",
       "      <td>True</td>\n",
       "      <td>False</td>\n",
       "      <td>False</td>\n",
       "      <td>False</td>\n",
       "      <td>False</td>\n",
       "      <td>False</td>\n",
       "      <td>True</td>\n",
       "      <td>False</td>\n",
       "    </tr>\n",
       "  </tbody>\n",
       "</table>\n",
       "</div>"
      ],
      "text/plain": [
       "        Fare  Embarked_C  Embarked_Q  Pclass_1  Pclass_2  Sex_female  SibSp_1  \\\n",
       "537  106.425        True       False      True     False        True    False   \n",
       "401    8.050       False       False     False     False       False    False   \n",
       "554    7.775       False       False     False     False        True    False   \n",
       "213   13.000       False       False     False      True       False    False   \n",
       "434   55.900       False       False      True     False       False     True   \n",
       "\n",
       "     SibSp_2+  Parch_1  Parch_2+  Master   Miss     Mr    Mrs  Other   0-21  \\\n",
       "537     False    False     False   False   True  False  False  False  False   \n",
       "401     False    False     False   False  False   True  False  False  False   \n",
       "554     False    False     False   False   True  False  False  False  False   \n",
       "213     False    False     False   False  False   True  False  False  False   \n",
       "434     False    False     False   False  False   True  False  False  False   \n",
       "\n",
       "     21-28  28-39    >39   brak  \n",
       "537  False   True  False  False  \n",
       "401   True  False  False  False  \n",
       "554   True  False  False  False  \n",
       "213  False   True  False  False  \n",
       "434  False  False   True  False  "
      ]
     },
     "execution_count": 276,
     "metadata": {},
     "output_type": "execute_result"
    }
   ],
   "source": [
    "X_train.head()"
   ]
  },
  {
   "cell_type": "code",
   "execution_count": 277,
   "id": "092e233c-e9c8-476a-89b6-8696d343c9d7",
   "metadata": {},
   "outputs": [
    {
     "data": {
      "text/html": [
       "<div>\n",
       "<style scoped>\n",
       "    .dataframe tbody tr th:only-of-type {\n",
       "        vertical-align: middle;\n",
       "    }\n",
       "\n",
       "    .dataframe tbody tr th {\n",
       "        vertical-align: top;\n",
       "    }\n",
       "\n",
       "    .dataframe thead th {\n",
       "        text-align: right;\n",
       "    }\n",
       "</style>\n",
       "<table border=\"1\" class=\"dataframe\">\n",
       "  <thead>\n",
       "    <tr style=\"text-align: right;\">\n",
       "      <th></th>\n",
       "      <th>Fare</th>\n",
       "      <th>Embarked_C</th>\n",
       "      <th>Embarked_Q</th>\n",
       "      <th>Pclass_1</th>\n",
       "      <th>Pclass_2</th>\n",
       "      <th>Sex_female</th>\n",
       "      <th>SibSp_1</th>\n",
       "      <th>SibSp_2+</th>\n",
       "      <th>Parch_1</th>\n",
       "      <th>Parch_2+</th>\n",
       "      <th>Master</th>\n",
       "      <th>Miss</th>\n",
       "      <th>Mr</th>\n",
       "      <th>Mrs</th>\n",
       "      <th>Other</th>\n",
       "      <th>0-21</th>\n",
       "      <th>21-28</th>\n",
       "      <th>28-39</th>\n",
       "      <th>&gt;39</th>\n",
       "      <th>brak</th>\n",
       "    </tr>\n",
       "  </thead>\n",
       "  <tbody>\n",
       "    <tr>\n",
       "      <th>646</th>\n",
       "      <td>7.8958</td>\n",
       "      <td>False</td>\n",
       "      <td>False</td>\n",
       "      <td>False</td>\n",
       "      <td>False</td>\n",
       "      <td>False</td>\n",
       "      <td>False</td>\n",
       "      <td>False</td>\n",
       "      <td>False</td>\n",
       "      <td>False</td>\n",
       "      <td>False</td>\n",
       "      <td>False</td>\n",
       "      <td>True</td>\n",
       "      <td>False</td>\n",
       "      <td>False</td>\n",
       "      <td>True</td>\n",
       "      <td>False</td>\n",
       "      <td>False</td>\n",
       "      <td>False</td>\n",
       "      <td>False</td>\n",
       "    </tr>\n",
       "    <tr>\n",
       "      <th>876</th>\n",
       "      <td>9.8458</td>\n",
       "      <td>False</td>\n",
       "      <td>False</td>\n",
       "      <td>False</td>\n",
       "      <td>False</td>\n",
       "      <td>False</td>\n",
       "      <td>False</td>\n",
       "      <td>False</td>\n",
       "      <td>False</td>\n",
       "      <td>False</td>\n",
       "      <td>False</td>\n",
       "      <td>False</td>\n",
       "      <td>True</td>\n",
       "      <td>False</td>\n",
       "      <td>False</td>\n",
       "      <td>True</td>\n",
       "      <td>False</td>\n",
       "      <td>False</td>\n",
       "      <td>False</td>\n",
       "      <td>False</td>\n",
       "    </tr>\n",
       "    <tr>\n",
       "      <th>359</th>\n",
       "      <td>7.8792</td>\n",
       "      <td>False</td>\n",
       "      <td>True</td>\n",
       "      <td>False</td>\n",
       "      <td>False</td>\n",
       "      <td>True</td>\n",
       "      <td>False</td>\n",
       "      <td>False</td>\n",
       "      <td>False</td>\n",
       "      <td>False</td>\n",
       "      <td>False</td>\n",
       "      <td>True</td>\n",
       "      <td>False</td>\n",
       "      <td>False</td>\n",
       "      <td>False</td>\n",
       "      <td>False</td>\n",
       "      <td>False</td>\n",
       "      <td>False</td>\n",
       "      <td>False</td>\n",
       "      <td>True</td>\n",
       "    </tr>\n",
       "    <tr>\n",
       "      <th>194</th>\n",
       "      <td>27.7208</td>\n",
       "      <td>True</td>\n",
       "      <td>False</td>\n",
       "      <td>True</td>\n",
       "      <td>False</td>\n",
       "      <td>True</td>\n",
       "      <td>False</td>\n",
       "      <td>False</td>\n",
       "      <td>False</td>\n",
       "      <td>False</td>\n",
       "      <td>False</td>\n",
       "      <td>False</td>\n",
       "      <td>False</td>\n",
       "      <td>True</td>\n",
       "      <td>False</td>\n",
       "      <td>False</td>\n",
       "      <td>False</td>\n",
       "      <td>False</td>\n",
       "      <td>True</td>\n",
       "      <td>False</td>\n",
       "    </tr>\n",
       "    <tr>\n",
       "      <th>819</th>\n",
       "      <td>27.9000</td>\n",
       "      <td>False</td>\n",
       "      <td>False</td>\n",
       "      <td>False</td>\n",
       "      <td>False</td>\n",
       "      <td>False</td>\n",
       "      <td>False</td>\n",
       "      <td>True</td>\n",
       "      <td>False</td>\n",
       "      <td>True</td>\n",
       "      <td>True</td>\n",
       "      <td>False</td>\n",
       "      <td>False</td>\n",
       "      <td>False</td>\n",
       "      <td>False</td>\n",
       "      <td>True</td>\n",
       "      <td>False</td>\n",
       "      <td>False</td>\n",
       "      <td>False</td>\n",
       "      <td>False</td>\n",
       "    </tr>\n",
       "  </tbody>\n",
       "</table>\n",
       "</div>"
      ],
      "text/plain": [
       "        Fare  Embarked_C  Embarked_Q  Pclass_1  Pclass_2  Sex_female  SibSp_1  \\\n",
       "646   7.8958       False       False     False     False       False    False   \n",
       "876   9.8458       False       False     False     False       False    False   \n",
       "359   7.8792       False        True     False     False        True    False   \n",
       "194  27.7208        True       False      True     False        True    False   \n",
       "819  27.9000       False       False     False     False       False    False   \n",
       "\n",
       "     SibSp_2+  Parch_1  Parch_2+  Master   Miss     Mr    Mrs  Other   0-21  \\\n",
       "646     False    False     False   False  False   True  False  False   True   \n",
       "876     False    False     False   False  False   True  False  False   True   \n",
       "359     False    False     False   False   True  False  False  False  False   \n",
       "194     False    False     False   False  False  False   True  False  False   \n",
       "819      True    False      True    True  False  False  False  False   True   \n",
       "\n",
       "     21-28  28-39    >39   brak  \n",
       "646  False  False  False  False  \n",
       "876  False  False  False  False  \n",
       "359  False  False  False   True  \n",
       "194  False  False   True  False  \n",
       "819  False  False  False  False  "
      ]
     },
     "execution_count": 277,
     "metadata": {},
     "output_type": "execute_result"
    }
   ],
   "source": [
    "X_test.head()"
   ]
  },
  {
   "cell_type": "code",
   "execution_count": null,
   "id": "fbc58edb-17b5-47c9-bfd2-f8cd5dcd2b17",
   "metadata": {},
   "outputs": [],
   "source": [
    "#zniknelo"
   ]
  },
  {
   "cell_type": "code",
   "execution_count": null,
   "id": "6f8065bc-169e-4257-97d1-a6299d9b151f",
   "metadata": {},
   "outputs": [],
   "source": [
    "#Dopasowujemy model do zbioru treningowego"
   ]
  },
  {
   "cell_type": "code",
   "execution_count": null,
   "id": "e34f44a3-e850-4685-a670-e800fbf209b7",
   "metadata": {},
   "outputs": [],
   "source": [
    "#Dopasowujemy model do zbioru treningowego odnosimy sie do zbioru treningowego i wykorzystujemy metode fit nakładamy na neigo metode fit\n",
    "#nakladamy na niego zbiór zmiennych objaśniających X_trai  a nastepnie y_train wektor zmiennej objasnianej"
   ]
  },
  {
   "cell_type": "code",
   "execution_count": 278,
   "id": "01b47b2b-ed2a-48a0-82ed-c87dcda64532",
   "metadata": {},
   "outputs": [
    {
     "data": {
      "text/html": [
       "<style>#sk-container-id-1 {color: black;background-color: white;}#sk-container-id-1 pre{padding: 0;}#sk-container-id-1 div.sk-toggleable {background-color: white;}#sk-container-id-1 label.sk-toggleable__label {cursor: pointer;display: block;width: 100%;margin-bottom: 0;padding: 0.3em;box-sizing: border-box;text-align: center;}#sk-container-id-1 label.sk-toggleable__label-arrow:before {content: \"▸\";float: left;margin-right: 0.25em;color: #696969;}#sk-container-id-1 label.sk-toggleable__label-arrow:hover:before {color: black;}#sk-container-id-1 div.sk-estimator:hover label.sk-toggleable__label-arrow:before {color: black;}#sk-container-id-1 div.sk-toggleable__content {max-height: 0;max-width: 0;overflow: hidden;text-align: left;background-color: #f0f8ff;}#sk-container-id-1 div.sk-toggleable__content pre {margin: 0.2em;color: black;border-radius: 0.25em;background-color: #f0f8ff;}#sk-container-id-1 input.sk-toggleable__control:checked~div.sk-toggleable__content {max-height: 200px;max-width: 100%;overflow: auto;}#sk-container-id-1 input.sk-toggleable__control:checked~label.sk-toggleable__label-arrow:before {content: \"▾\";}#sk-container-id-1 div.sk-estimator input.sk-toggleable__control:checked~label.sk-toggleable__label {background-color: #d4ebff;}#sk-container-id-1 div.sk-label input.sk-toggleable__control:checked~label.sk-toggleable__label {background-color: #d4ebff;}#sk-container-id-1 input.sk-hidden--visually {border: 0;clip: rect(1px 1px 1px 1px);clip: rect(1px, 1px, 1px, 1px);height: 1px;margin: -1px;overflow: hidden;padding: 0;position: absolute;width: 1px;}#sk-container-id-1 div.sk-estimator {font-family: monospace;background-color: #f0f8ff;border: 1px dotted black;border-radius: 0.25em;box-sizing: border-box;margin-bottom: 0.5em;}#sk-container-id-1 div.sk-estimator:hover {background-color: #d4ebff;}#sk-container-id-1 div.sk-parallel-item::after {content: \"\";width: 100%;border-bottom: 1px solid gray;flex-grow: 1;}#sk-container-id-1 div.sk-label:hover label.sk-toggleable__label {background-color: #d4ebff;}#sk-container-id-1 div.sk-serial::before {content: \"\";position: absolute;border-left: 1px solid gray;box-sizing: border-box;top: 0;bottom: 0;left: 50%;z-index: 0;}#sk-container-id-1 div.sk-serial {display: flex;flex-direction: column;align-items: center;background-color: white;padding-right: 0.2em;padding-left: 0.2em;position: relative;}#sk-container-id-1 div.sk-item {position: relative;z-index: 1;}#sk-container-id-1 div.sk-parallel {display: flex;align-items: stretch;justify-content: center;background-color: white;position: relative;}#sk-container-id-1 div.sk-item::before, #sk-container-id-1 div.sk-parallel-item::before {content: \"\";position: absolute;border-left: 1px solid gray;box-sizing: border-box;top: 0;bottom: 0;left: 50%;z-index: -1;}#sk-container-id-1 div.sk-parallel-item {display: flex;flex-direction: column;z-index: 1;position: relative;background-color: white;}#sk-container-id-1 div.sk-parallel-item:first-child::after {align-self: flex-end;width: 50%;}#sk-container-id-1 div.sk-parallel-item:last-child::after {align-self: flex-start;width: 50%;}#sk-container-id-1 div.sk-parallel-item:only-child::after {width: 0;}#sk-container-id-1 div.sk-dashed-wrapped {border: 1px dashed gray;margin: 0 0.4em 0.5em 0.4em;box-sizing: border-box;padding-bottom: 0.4em;background-color: white;}#sk-container-id-1 div.sk-label label {font-family: monospace;font-weight: bold;display: inline-block;line-height: 1.2em;}#sk-container-id-1 div.sk-label-container {text-align: center;}#sk-container-id-1 div.sk-container {/* jupyter's `normalize.less` sets `[hidden] { display: none; }` but bootstrap.min.css set `[hidden] { display: none !important; }` so we also need the `!important` here to be able to override the default hidden behavior on the sphinx rendered scikit-learn.org. See: https://github.com/scikit-learn/scikit-learn/issues/21755 */display: inline-block !important;position: relative;}#sk-container-id-1 div.sk-text-repr-fallback {display: none;}</style><div id=\"sk-container-id-1\" class=\"sk-top-container\"><div class=\"sk-text-repr-fallback\"><pre>LogisticRegression(max_iter=1000)</pre><b>In a Jupyter environment, please rerun this cell to show the HTML representation or trust the notebook. <br />On GitHub, the HTML representation is unable to render, please try loading this page with nbviewer.org.</b></div><div class=\"sk-container\" hidden><div class=\"sk-item\"><div class=\"sk-estimator sk-toggleable\"><input class=\"sk-toggleable__control sk-hidden--visually\" id=\"sk-estimator-id-1\" type=\"checkbox\" checked><label for=\"sk-estimator-id-1\" class=\"sk-toggleable__label sk-toggleable__label-arrow\">LogisticRegression</label><div class=\"sk-toggleable__content\"><pre>LogisticRegression(max_iter=1000)</pre></div></div></div></div></div>"
      ],
      "text/plain": [
       "LogisticRegression(max_iter=1000)"
      ]
     },
     "execution_count": 278,
     "metadata": {},
     "output_type": "execute_result"
    }
   ],
   "source": [
    "logreg.fit(X_train, y_train)"
   ]
  },
  {
   "cell_type": "code",
   "execution_count": 279,
   "id": "220593d2-402e-44a1-80d6-76cd2604c397",
   "metadata": {},
   "outputs": [
    {
     "name": "stdout",
     "output_type": "stream",
     "text": [
      "        Fare  Embarked_C  Embarked_Q  Pclass_1  Pclass_2  Sex_female  SibSp_1  \\\n",
      "537  106.425        True       False      True     False        True    False   \n",
      "401    8.050       False       False     False     False       False    False   \n",
      "554    7.775       False       False     False     False        True    False   \n",
      "213   13.000       False       False     False      True       False    False   \n",
      "434   55.900       False       False      True     False       False     True   \n",
      "\n",
      "     SibSp_2+  Parch_1  Parch_2+  Master   Miss     Mr    Mrs  Other   0-21  \\\n",
      "537     False    False     False   False   True  False  False  False  False   \n",
      "401     False    False     False   False  False   True  False  False  False   \n",
      "554     False    False     False   False   True  False  False  False  False   \n",
      "213     False    False     False   False  False   True  False  False  False   \n",
      "434     False    False     False   False  False   True  False  False  False   \n",
      "\n",
      "     21-28  28-39    >39   brak  \n",
      "537  False   True  False  False  \n",
      "401   True  False  False  False  \n",
      "554   True  False  False  False  \n",
      "213  False   True  False  False  \n",
      "434  False  False   True  False  \n"
     ]
    }
   ],
   "source": [
    "print(X_train.head())\n"
   ]
  },
  {
   "cell_type": "code",
   "execution_count": 247,
   "id": "864090f4-c048-448c-9c3d-7c5604ec12ce",
   "metadata": {},
   "outputs": [
    {
     "data": {
      "text/plain": [
       "Title\n",
       "Mr        346\n",
       "Miss      131\n",
       "Mrs        94\n",
       "Master     29\n",
       "Other      23\n",
       "Name: count, dtype: int64"
      ]
     },
     "execution_count": 247,
     "metadata": {},
     "output_type": "execute_result"
    }
   ],
   "source": [
    "df_train['Title'].value_counts()"
   ]
  },
  {
   "cell_type": "code",
   "execution_count": 248,
   "id": "30014368-db61-4dcd-a6e3-a34caab68302",
   "metadata": {},
   "outputs": [
    {
     "data": {
      "text/plain": [
       "Title\n",
       "Mr        171\n",
       "Miss       51\n",
       "Mrs        31\n",
       "Master     11\n",
       "Other       4\n",
       "Name: count, dtype: int64"
      ]
     },
     "execution_count": 248,
     "metadata": {},
     "output_type": "execute_result"
    }
   ],
   "source": [
    "df_test['Title'].value_counts()"
   ]
  },
  {
   "cell_type": "code",
   "execution_count": null,
   "id": "b2a3a89a-8192-4854-9ceb-8f515c68ae18",
   "metadata": {},
   "outputs": [],
   "source": [
    "#nakładamy model na zbiór zmiennych objasniajacych testowych wykorzystujemy metode predict"
   ]
  },
  {
   "cell_type": "code",
   "execution_count": 280,
   "id": "fedba174-f1c7-4c72-ba43-3bfed80f29b7",
   "metadata": {},
   "outputs": [],
   "source": [
    "y_pred = logreg.predict(X_test)"
   ]
  },
  {
   "cell_type": "code",
   "execution_count": null,
   "id": "58916f5c-d3e8-4c8b-b9a1-7c17b9aa2128",
   "metadata": {},
   "outputs": [],
   "source": [
    "#wektor wyprognozowanych wartości na zbiorze testowym"
   ]
  },
  {
   "cell_type": "code",
   "execution_count": 281,
   "id": "850b95f5-a129-4b5b-b43e-5ff9d4752da8",
   "metadata": {},
   "outputs": [
    {
     "data": {
      "text/plain": [
       "array([0, 0, 1, 1, 0, 0, 1, 1, 0, 0, 0, 0, 1, 0, 1, 0, 0, 0, 0, 1, 0, 0,\n",
       "       0, 0, 1, 1, 1, 1, 0, 0, 0, 0, 0, 0, 0, 0, 0, 0, 0, 0, 1, 0, 1, 0,\n",
       "       0, 0, 0, 1, 0, 0, 0, 0, 1, 0, 0, 1, 0, 0, 0, 1, 0, 0, 0, 0, 0, 1,\n",
       "       1, 1, 0, 0, 0, 0, 0, 0, 1, 0, 0, 0, 0, 0, 0, 1, 0, 0, 1, 0, 0, 0,\n",
       "       1, 1, 1, 0, 0, 0, 1, 0, 0, 0, 0, 1, 0, 0, 0, 0, 0, 1, 1, 0, 1, 0,\n",
       "       1, 1, 1, 1, 0, 1, 0, 0, 0, 0, 1, 1, 0, 1, 0, 0, 0, 0, 0, 0, 0, 0,\n",
       "       0, 0, 0, 0, 0, 0, 0, 0, 1, 0, 1, 1, 1, 0, 0, 0, 0, 0, 0, 1, 0, 0,\n",
       "       1, 0, 1, 1, 0, 1, 0, 0, 0, 1, 1, 0, 1, 0, 0, 1, 0, 1, 0, 1, 0, 0,\n",
       "       0, 1, 0, 0, 0, 0, 0, 0, 1, 0, 0, 1, 0, 0, 1, 1, 0, 1, 1, 0, 0, 0,\n",
       "       0, 1, 0, 0, 1, 0, 0, 0, 0, 1, 0, 0, 1, 1, 0, 0, 1, 0, 0, 0, 0, 0,\n",
       "       1, 1, 0, 0, 0, 1, 0, 0, 0, 0, 0, 0, 1, 0, 0, 1, 0, 0, 0, 0, 0, 1,\n",
       "       0, 0, 1, 0, 0, 1, 1, 1, 1, 1, 0, 0, 1, 0, 1, 1, 0, 1, 0, 0, 0, 0,\n",
       "       1, 1, 0, 0], dtype=int64)"
      ]
     },
     "execution_count": 281,
     "metadata": {},
     "output_type": "execute_result"
    }
   ],
   "source": [
    "y_pred"
   ]
  },
  {
   "cell_type": "code",
   "execution_count": null,
   "id": "d0447ac5-b573-4d49-975a-9f3dd1a3d050",
   "metadata": {},
   "outputs": [],
   "source": [
    "#0-wyprognozowana wartośc zmiennej celu mówiąca, że dany pasażer nie rpzeżył katastrofy a 1 że przeżył katastrofę. \n",
    "#To sa wartości,które wyprognozował nasz mdoel"
   ]
  },
  {
   "cell_type": "code",
   "execution_count": 282,
   "id": "d014e18e-7384-4e09-bcde-0a45e688a64f",
   "metadata": {},
   "outputs": [
    {
     "data": {
      "text/plain": [
       "646    0\n",
       "876    0\n",
       "359    1\n",
       "194    1\n",
       "819    0\n",
       "      ..\n",
       "455    1\n",
       "432    1\n",
       "473    1\n",
       "658    0\n",
       "757    0\n",
       "Name: Survived, Length: 268, dtype: int64"
      ]
     },
     "execution_count": 282,
     "metadata": {},
     "output_type": "execute_result"
    }
   ],
   "source": [
    "y_test"
   ]
  },
  {
   "cell_type": "code",
   "execution_count": null,
   "id": "60472b7c-a21d-465d-86d8-c74f435ca3ea",
   "metadata": {},
   "outputs": [],
   "source": [
    "#tu sa rzeczywiste wartosci ze zbioru danych"
   ]
  },
  {
   "cell_type": "code",
   "execution_count": null,
   "id": "2ddb179e-8fde-4e1a-b109-e1c41b2c6c2e",
   "metadata": {},
   "outputs": [],
   "source": [
    "#Ocena modelu klasyfikacyjnego będzie polegała na porównywaniu tych dwóch wektorów i sprawdzeniu skutecznosci tego czy przewidział on nasze wartości"
   ]
  },
  {
   "cell_type": "code",
   "execution_count": null,
   "id": "5ff8526d-0c2f-4c55-bac7-04c48689a5ab",
   "metadata": {},
   "outputs": [],
   "source": []
  },
  {
   "cell_type": "code",
   "execution_count": null,
   "id": "677bbbae-4a7c-40e5-b91b-607135633a8f",
   "metadata": {},
   "outputs": [],
   "source": [
    "#Zmienna jakościowa ocena modelu regresji logistycznej ocena jakosci modelu klasyfikacyjnego czy dobrze przewiduje to co chcemy.\n"
   ]
  },
  {
   "cell_type": "code",
   "execution_count": null,
   "id": "b9ff85fd-8978-4eaa-bf37-4c26efefff3a",
   "metadata": {},
   "outputs": [],
   "source": [
    "#macierz pomyłek..."
   ]
  },
  {
   "cell_type": "code",
   "execution_count": null,
   "id": "a5c77855-2b90-4a63-99fd-25585c3b7af9",
   "metadata": {},
   "outputs": [],
   "source": [
    "#Wyliczam dokładnośc accuracy"
   ]
  },
  {
   "cell_type": "code",
   "execution_count": 283,
   "id": "194889d5-2c81-4a17-ae43-e7a2e8c67c8c",
   "metadata": {},
   "outputs": [
    {
     "data": {
      "text/plain": [
       "0.8619402985074627"
      ]
     },
     "execution_count": 283,
     "metadata": {},
     "output_type": "execute_result"
    }
   ],
   "source": [
    "logreg.score(X_test, y_test)"
   ]
  },
  {
   "cell_type": "code",
   "execution_count": null,
   "id": "6d012fd4-fda3-4196-8795-268c2804b5b8",
   "metadata": {},
   "outputs": [],
   "source": [
    "#budowa macierzy pomyłem confusion matrix"
   ]
  },
  {
   "cell_type": "code",
   "execution_count": 285,
   "id": "823f7ae0-498e-443a-8e81-47ae50c623ff",
   "metadata": {},
   "outputs": [],
   "source": [
    "from sklearn.metrics import confusion_matrix"
   ]
  },
  {
   "cell_type": "code",
   "execution_count": null,
   "id": "2109ce28-4f85-449f-a45b-30c1aee1c5ea",
   "metadata": {},
   "outputs": [],
   "source": [
    "#jako argument y-test rzeczywisty wektor wartości zmiennej objasnianej na zbiorze testowym a drugi argument to wektor wyprognozowany \n",
    "#przez model y_pred uzyskany dzieki metodzie predict na zbiorze testowym"
   ]
  },
  {
   "cell_type": "code",
   "execution_count": 288,
   "id": "a1a196e6-bfb0-42f1-b12f-4a661139f136",
   "metadata": {},
   "outputs": [],
   "source": [
    "cm = confusion_matrix(y_test, y_pred)"
   ]
  },
  {
   "cell_type": "code",
   "execution_count": 289,
   "id": "45720be3-4a14-4286-9d2b-451ce73f5c50",
   "metadata": {},
   "outputs": [
    {
     "data": {
      "text/plain": [
       "array([[162,  16],\n",
       "       [ 21,  69]], dtype=int64)"
      ]
     },
     "execution_count": 289,
     "metadata": {},
     "output_type": "execute_result"
    }
   ],
   "source": [
    "cm"
   ]
  },
  {
   "cell_type": "code",
   "execution_count": null,
   "id": "36cdbcd0-0b95-481b-968d-575115905b97",
   "metadata": {},
   "outputs": [],
   "source": [
    "#DataFrame do poprawienia widoku macierzy pomyłek"
   ]
  },
  {
   "cell_type": "code",
   "execution_count": 292,
   "id": "e80da7b2-0390-464f-b2cd-19fd1012b5dd",
   "metadata": {},
   "outputs": [],
   "source": [
    "cm = pd.DataFrame(cm)"
   ]
  },
  {
   "cell_type": "code",
   "execution_count": 293,
   "id": "4d488944-3b66-456b-99c3-36d907f0a1e8",
   "metadata": {},
   "outputs": [],
   "source": [
    "cm.columns=[['Predited 0', 'Predicted 1']]\n",
    "cm.index = [['True 0', 'True 1']]"
   ]
  },
  {
   "cell_type": "code",
   "execution_count": 294,
   "id": "cc1d75bc-9de3-482f-95e9-5155889e0ba9",
   "metadata": {},
   "outputs": [
    {
     "data": {
      "text/html": [
       "<div>\n",
       "<style scoped>\n",
       "    .dataframe tbody tr th:only-of-type {\n",
       "        vertical-align: middle;\n",
       "    }\n",
       "\n",
       "    .dataframe tbody tr th {\n",
       "        vertical-align: top;\n",
       "    }\n",
       "\n",
       "    .dataframe thead tr th {\n",
       "        text-align: left;\n",
       "    }\n",
       "</style>\n",
       "<table border=\"1\" class=\"dataframe\">\n",
       "  <thead>\n",
       "    <tr>\n",
       "      <th></th>\n",
       "      <th>Predited 0</th>\n",
       "      <th>Predicted 1</th>\n",
       "    </tr>\n",
       "  </thead>\n",
       "  <tbody>\n",
       "    <tr>\n",
       "      <th>True 0</th>\n",
       "      <td>162</td>\n",
       "      <td>16</td>\n",
       "    </tr>\n",
       "    <tr>\n",
       "      <th>True 1</th>\n",
       "      <td>21</td>\n",
       "      <td>69</td>\n",
       "    </tr>\n",
       "  </tbody>\n",
       "</table>\n",
       "</div>"
      ],
      "text/plain": [
       "       Predited 0 Predicted 1\n",
       "True 0        162          16\n",
       "True 1         21          69"
      ]
     },
     "execution_count": 294,
     "metadata": {},
     "output_type": "execute_result"
    }
   ],
   "source": [
    "cm"
   ]
  },
  {
   "cell_type": "code",
   "execution_count": 295,
   "id": "efa80fbe-402e-466a-bffe-3c3389b14a64",
   "metadata": {},
   "outputs": [
    {
     "name": "stdout",
     "output_type": "stream",
     "text": [
      "       Predited 0 Predicted 1\n",
      "True 0        162          16\n",
      "True 1         21          69\n"
     ]
    }
   ],
   "source": [
    "print(cm)"
   ]
  },
  {
   "cell_type": "code",
   "execution_count": null,
   "id": "312a4172-e5a9-48c2-a031-38307b0f153d",
   "metadata": {},
   "outputs": [],
   "source": [
    "# na głownej przekatnej mamy największe wartości 162 to zera czyli prawidołowo prewidziane ofiary katastrofy a 69 w prawym dolnym rogu \n",
    "#to poprawnie rpzewidziane jedynki czyli Ci co przezyli katastrofę."
   ]
  },
  {
   "cell_type": "code",
   "execution_count": 296,
   "id": "821ec9aa-0f75-4385-b88d-f5fdf5a601f2",
   "metadata": {},
   "outputs": [],
   "source": [
    "from sklearn.metrics import classification_report"
   ]
  },
  {
   "cell_type": "code",
   "execution_count": null,
   "id": "57c326f5-eedd-4b5e-9d1a-0c83001e3703",
   "metadata": {},
   "outputs": [],
   "source": [
    "#funkcja do raportu macierzy pomyłek ale miary wyznaczyć."
   ]
  },
  {
   "cell_type": "code",
   "execution_count": 297,
   "id": "c779b5d9-94a0-4fbe-a426-802d7d1edce9",
   "metadata": {},
   "outputs": [
    {
     "name": "stdout",
     "output_type": "stream",
     "text": [
      "              precision    recall  f1-score   support\n",
      "\n",
      "           0       0.89      0.91      0.90       178\n",
      "           1       0.81      0.77      0.79        90\n",
      "\n",
      "    accuracy                           0.86       268\n",
      "   macro avg       0.85      0.84      0.84       268\n",
      "weighted avg       0.86      0.86      0.86       268\n",
      "\n"
     ]
    }
   ],
   "source": [
    "print(classification_report(y_test, y_pred))"
   ]
  },
  {
   "cell_type": "code",
   "execution_count": null,
   "id": "0d34330e-0b2a-43d4-8cdd-6bf9e19c25de",
   "metadata": {},
   "outputs": [],
   "source": [
    "#wszystkie miary sa na poziomie 80% a precyzja dla jedynek 81% do wartości 69+16 zcm tego co jest po prawej w pionie"
   ]
  },
  {
   "cell_type": "code",
   "execution_count": 298,
   "id": "156470bd-e5fe-4f30-83cf-14e1e07cd1ce",
   "metadata": {},
   "outputs": [
    {
     "name": "stdout",
     "output_type": "stream",
     "text": [
      "       Predited 0 Predicted 1\n",
      "True 0        162          16\n",
      "True 1         21          69\n"
     ]
    }
   ],
   "source": [
    "print(cm)"
   ]
  },
  {
   "cell_type": "code",
   "execution_count": null,
   "id": "c996049d-a165-4eb4-9c4a-0ad3abd09486",
   "metadata": {},
   "outputs": [],
   "source": [
    "#recal dla jedynek 77% czyli ilośc zakwalifikowanych jedynek 69  so sumy wszystkich jedynek 69 +20"
   ]
  },
  {
   "cell_type": "code",
   "execution_count": null,
   "id": "201a5796-e0e9-4c23-9b87-4c026af540d4",
   "metadata": {},
   "outputs": [],
   "source": [
    "#f1-score srednia harmoniczna miedzy precyzja a recall"
   ]
  },
  {
   "cell_type": "code",
   "execution_count": null,
   "id": "369fd1da-8115-4246-9f22-061b9497c139",
   "metadata": {},
   "outputs": [],
   "source": [
    "#accuracy 86%"
   ]
  },
  {
   "cell_type": "code",
   "execution_count": null,
   "id": "124756dd-20e6-4395-8c11-bba1b6a9e462",
   "metadata": {},
   "outputs": [],
   "source": [
    "#większość wartosci powyżej 80% model klasyfikuje wartości na dobrym poziomie accuracy prawie 90%"
   ]
  },
  {
   "cell_type": "code",
   "execution_count": null,
   "id": "9940ff7c-a0ef-4f64-abd3-efe51596c3f0",
   "metadata": {},
   "outputs": [],
   "source": [
    "#ten model mozna modyfikowac i go ulepszać"
   ]
  },
  {
   "cell_type": "code",
   "execution_count": null,
   "id": "8fc279c0-4354-4010-9f86-806dc041b634",
   "metadata": {},
   "outputs": [],
   "source": []
  },
  {
   "cell_type": "code",
   "execution_count": null,
   "id": "3abfda59-4489-49e3-94c0-5403ca8a4c24",
   "metadata": {},
   "outputs": [],
   "source": []
  },
  {
   "cell_type": "code",
   "execution_count": null,
   "id": "acdba9db-c0db-46e0-acc5-c8b2fad37b73",
   "metadata": {},
   "outputs": [],
   "source": []
  },
  {
   "cell_type": "code",
   "execution_count": null,
   "id": "fe5ec890-e047-4319-acf8-66a7ec0b7b84",
   "metadata": {},
   "outputs": [],
   "source": []
  }
 ],
 "metadata": {
  "kernelspec": {
   "display_name": "Python 3 (ipykernel)",
   "language": "python",
   "name": "python3"
  },
  "language_info": {
   "codemirror_mode": {
    "name": "ipython",
    "version": 3
   },
   "file_extension": ".py",
   "mimetype": "text/x-python",
   "name": "python",
   "nbconvert_exporter": "python",
   "pygments_lexer": "ipython3",
   "version": "3.11.7"
  }
 },
 "nbformat": 4,
 "nbformat_minor": 5
}
