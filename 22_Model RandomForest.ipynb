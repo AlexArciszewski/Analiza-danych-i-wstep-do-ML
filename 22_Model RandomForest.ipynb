{
 "cells": [
  {
   "cell_type": "code",
   "execution_count": 1,
   "id": "42cb8b6e-c408-4c31-8529-228bac023635",
   "metadata": {},
   "outputs": [
    {
     "name": "stdout",
     "output_type": "stream",
     "text": [
      "Raport klasyfikacji:\n",
      "              precision    recall  f1-score   support\n",
      "\n",
      "      niskie       0.92      0.95      0.94        61\n",
      "     wysokie       0.94      0.87      0.90        38\n",
      "     średnie       0.92      0.93      0.93       101\n",
      "\n",
      "    accuracy                           0.93       200\n",
      "   macro avg       0.93      0.92      0.92       200\n",
      "weighted avg       0.93      0.93      0.92       200\n",
      "\n"
     ]
    },
    {
     "data": {
      "text/plain": [
       "['model_korozji.joblib']"
      ]
     },
     "execution_count": 1,
     "metadata": {},
     "output_type": "execute_result"
    }
   ],
   "source": [
    "import pandas as pd\n",
    "import numpy as np\n",
    "from sklearn.model_selection import train_test_split\n",
    "from sklearn.preprocessing import StandardScaler, OneHotEncoder\n",
    "from sklearn.compose import ColumnTransformer\n",
    "from sklearn.pipeline import Pipeline\n",
    "from sklearn.ensemble import RandomForestClassifier\n",
    "from sklearn.metrics import classification_report, confusion_matrix\n",
    "import joblib\n",
    "\n",
    "\n",
    "# Wczytanie danych z pliku\n",
    "df = pd.read_csv(r\"C:\\Users\\arcis\\OneDrive\\Pulpit\\4_korozja_ywbrany\\dane_infrastruktury_wodorowej.csv\")\n",
    "\n",
    "# Przygotowanie danych y zmienna objaśniana X objasniajace\n",
    "X = df[['temperatura', 'wilgotnosc', 'cisnienie', 'material', 'grubość_sciany', 'poziom_wodoru', 'zasolenie']]\n",
    "y = df['kategoria_ryzyka']\n",
    "\n",
    "# Podział danych\n",
    "X_train, X_test, y_train, y_test = train_test_split(X, y, test_size=0.2, random_state=42)\n",
    "\n",
    "# Preprocessing One Hot encoding dla materiałów, Przekształca dane ciągłe, takie jak temperatura, wilgotność, zasolenie.\n",
    "#Skaluje dane tak, aby miały średnią równą 0 i odchylenie standardowe równe 1.StandardScaler normalizuje dane liczbowe do konkretnej skali.\n",
    "#Dane numeryczne są standaryzowane przy pomocy StandardScaler(), co oznacza, że wartości takich zmiennych jak temperatura, wilgotność, etc.\n",
    "#zostaną skalowane, tak aby miały średnią równą 0, a odchylenie standardowe równe 1.\n",
    "preprocessor = ColumnTransformer(\n",
    "    transformers=[\n",
    "        ('num', StandardScaler(), ['temperatura', 'wilgotnosc', 'cisnienie', 'grubość_sciany', 'poziom_wodoru', 'zasolenie']),\n",
    "        ('cat', OneHotEncoder(handle_unknown='ignore'), ['material'])\n",
    "    ])\n",
    "\n",
    "# Pipeline modelu klasa sklearn łaczenie krokwo w jednym boiekcie.preorocessor przechowuje przekształcenie danych.\n",
    "#klasyfikacja oparta na lasach losowych.oznacza, że model będzie używał 100 drzew decyzyjnych w swojej lesie,random_state=42 powtarzalnosć wynikow dla jednego zestawu \n",
    "#danych\n",
    "model = Pipeline([\n",
    "    ('preprocessor', preprocessor),\n",
    "    ('classifier', RandomForestClassifier(n_estimators=100, random_state=42))\n",
    "])\n",
    "\n",
    "# Trening modelu\n",
    "model.fit(X_train, y_train)\n",
    "\n",
    "# Predykcja i ocena na danycht estowych\n",
    "y_pred = model.predict(X_test)\n",
    "print(\"Raport klasyfikacji:\")\n",
    "print(classification_report(y_test, y_pred))\n",
    "\n",
    "# Zapis modelu\n",
    "joblib.dump(model, 'model_korozji.joblib')"
   ]
  },
  {
   "cell_type": "code",
   "execution_count": null,
   "id": "bdb4c357-0728-4422-a9f5-1db7bfc444ea",
   "metadata": {},
   "outputs": [],
   "source": []
  }
 ],
 "metadata": {
  "kernelspec": {
   "display_name": "Python 3 (ipykernel)",
   "language": "python",
   "name": "python3"
  },
  "language_info": {
   "codemirror_mode": {
    "name": "ipython",
    "version": 3
   },
   "file_extension": ".py",
   "mimetype": "text/x-python",
   "name": "python",
   "nbconvert_exporter": "python",
   "pygments_lexer": "ipython3",
   "version": "3.11.7"
  }
 },
 "nbformat": 4,
 "nbformat_minor": 5
}
