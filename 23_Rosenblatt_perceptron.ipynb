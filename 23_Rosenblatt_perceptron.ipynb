{
 "cells": [
  {
   "cell_type": "code",
   "execution_count": 1,
   "id": "d485727f-6c24-4343-ae50-4e697c576f54",
   "metadata": {},
   "outputs": [],
   "source": [
    "import numpy as np\n",
    "import pandas as pd"
   ]
  },
  {
   "cell_type": "code",
   "execution_count": null,
   "id": "3e0cab77-26f1-4b08-9dc1-1fc047c14eb4",
   "metadata": {},
   "outputs": [],
   "source": []
  },
  {
   "cell_type": "code",
   "execution_count": null,
   "id": "bec3be79-9cf8-4576-9c53-7628f2d28afc",
   "metadata": {},
   "outputs": [],
   "source": [
    "#1.  Napisz kod, który utworzy tablicę X zawierającą 10 wierszy i 5 kolumn o wartościach od -25 do 24. (skorzystaj z metody np.arange)"
   ]
  },
  {
   "cell_type": "code",
   "execution_count": 5,
   "id": "8ac79f54-797f-4afe-9531-bea5187d0051",
   "metadata": {},
   "outputs": [
    {
     "data": {
      "text/plain": [
       "array([[-25, -24, -23, -22, -21],\n",
       "       [-20, -19, -18, -17, -16],\n",
       "       [-15, -14, -13, -12, -11],\n",
       "       [-10,  -9,  -8,  -7,  -6],\n",
       "       [ -5,  -4,  -3,  -2,  -1],\n",
       "       [  0,   1,   2,   3,   4],\n",
       "       [  5,   6,   7,   8,   9],\n",
       "       [ 10,  11,  12,  13,  14],\n",
       "       [ 15,  16,  17,  18,  19],\n",
       "       [ 20,  21,  22,  23,  24]])"
      ]
     },
     "execution_count": 5,
     "metadata": {},
     "output_type": "execute_result"
    }
   ],
   "source": [
    "X = np.arange(-25,25)\n",
    "X = X.reshape(10,5)\n",
    "X"
   ]
  },
  {
   "cell_type": "code",
   "execution_count": 8,
   "id": "b188a3c3-fd29-4b69-a215-2654d8254e53",
   "metadata": {},
   "outputs": [
    {
     "data": {
      "text/plain": [
       "5"
      ]
     },
     "execution_count": 8,
     "metadata": {},
     "output_type": "execute_result"
    }
   ],
   "source": [
    "X_columns = X.shape[1]\n",
    "X_columns"
   ]
  },
  {
   "cell_type": "code",
   "execution_count": 7,
   "id": "fc91bbbe-96d7-4b88-928f-946d3d852500",
   "metadata": {},
   "outputs": [
    {
     "data": {
      "text/plain": [
       "10"
      ]
     },
     "execution_count": 7,
     "metadata": {},
     "output_type": "execute_result"
    }
   ],
   "source": [
    "X_rows = X.shape[0]\n",
    "X_rows"
   ]
  },
  {
   "cell_type": "code",
   "execution_count": null,
   "id": "37d6fb9b-b4a3-478c-8df4-88e20dd10ef3",
   "metadata": {},
   "outputs": [],
   "source": [
    "#2. Utwórz kod, który utworzy tablicę ones, zawierającą tyle wierszy co X i jedną kolumnę wypełnioną jedynkami \n",
    "#(skorzystaj z metody np.ones oraz właściwości shape dla X)"
   ]
  },
  {
   "cell_type": "code",
   "execution_count": 13,
   "id": "90889cec-c249-4c90-8c8b-0f966607afcc",
   "metadata": {},
   "outputs": [
    {
     "data": {
      "text/plain": [
       "array([[1.],\n",
       "       [1.],\n",
       "       [1.],\n",
       "       [1.],\n",
       "       [1.],\n",
       "       [1.],\n",
       "       [1.],\n",
       "       [1.],\n",
       "       [1.],\n",
       "       [1.]])"
      ]
     },
     "execution_count": 13,
     "metadata": {},
     "output_type": "execute_result"
    }
   ],
   "source": [
    "Y = np.ones((X.shape[0],1))\n",
    "Y"
   ]
  },
  {
   "cell_type": "code",
   "execution_count": null,
   "id": "53faf33f-de23-420c-b95d-8dd882610d8e",
   "metadata": {},
   "outputs": [],
   "source": []
  },
  {
   "cell_type": "code",
   "execution_count": null,
   "id": "b5dd9bea-2a59-4aaf-9951-387fc2248f2b",
   "metadata": {},
   "outputs": [],
   "source": [
    "#3. Utwórz zmienną X_1, która powstaje przez doklejenie do zmiennej X kolumny pochodzącej z ones (skorzystaj z metody append przesyłając argument axis=1)"
   ]
  },
  {
   "cell_type": "code",
   "execution_count": 14,
   "id": "c3d63506-60be-447e-9af9-a57e0ca125ab",
   "metadata": {},
   "outputs": [
    {
     "data": {
      "text/plain": [
       "array([[-25., -24., -23., -22., -21.,   1.],\n",
       "       [-20., -19., -18., -17., -16.,   1.],\n",
       "       [-15., -14., -13., -12., -11.,   1.],\n",
       "       [-10.,  -9.,  -8.,  -7.,  -6.,   1.],\n",
       "       [ -5.,  -4.,  -3.,  -2.,  -1.,   1.],\n",
       "       [  0.,   1.,   2.,   3.,   4.,   1.],\n",
       "       [  5.,   6.,   7.,   8.,   9.,   1.],\n",
       "       [ 10.,  11.,  12.,  13.,  14.,   1.],\n",
       "       [ 15.,  16.,  17.,  18.,  19.,   1.],\n",
       "       [ 20.,  21.,  22.,  23.,  24.,   1.]])"
      ]
     },
     "execution_count": 14,
     "metadata": {},
     "output_type": "execute_result"
    }
   ],
   "source": [
    "X_1 = np.append(X.copy(),Y,axis=1)\n",
    "X_1"
   ]
  },
  {
   "cell_type": "code",
   "execution_count": null,
   "id": "e41b4c68-c161-4d89-9742-aa48e7253be8",
   "metadata": {},
   "outputs": [],
   "source": []
  },
  {
   "cell_type": "code",
   "execution_count": null,
   "id": "ca934a67-dabc-4fbf-baaf-77b8f6662e87",
   "metadata": {},
   "outputs": [],
   "source": [
    "#4. Utwórz wektor w, który ma tyle samo współrzędnych co ilość kolumn w zmiennej X_1. Wartości współrzędnych mają być wylosowane (skorzystaj z \n",
    "#np.random.rand)"
   ]
  },
  {
   "cell_type": "code",
   "execution_count": null,
   "id": "fab66207-2530-4456-8533-e145eab9114b",
   "metadata": {},
   "outputs": [],
   "source": []
  },
  {
   "cell_type": "code",
   "execution_count": 15,
   "id": "8a44f0c8-0bcc-46f9-8dfb-2f5cef8a5d38",
   "metadata": {},
   "outputs": [
    {
     "data": {
      "text/plain": [
       "array([0.85838683, 0.25436604, 0.97800622, 0.97502068, 0.40476843,\n",
       "       0.86189798])"
      ]
     },
     "execution_count": 15,
     "metadata": {},
     "output_type": "execute_result"
    }
   ],
   "source": [
    "w = np.random.rand(X_1.shape[1])\n",
    "w"
   ]
  },
  {
   "cell_type": "code",
   "execution_count": null,
   "id": "9181a0c0-b4a5-498d-8996-fac03a028d0e",
   "metadata": {},
   "outputs": [],
   "source": []
  },
  {
   "cell_type": "code",
   "execution_count": null,
   "id": "0b5f2b2f-2601-4654-a8dc-ce06d8b58aa2",
   "metadata": {},
   "outputs": [],
   "source": [
    "#5. Zdefiniuj funkcję predict przyjmującą jako argument x (będzie to jeden wiersz z tablicy X_1) i w, a w niej:\n",
    "    #pomnóż przez siebie  wektor x i w (skorzystaj z metody np.dot). Wynik zapisz w zmiennej total_stimulation\n",
    "    #napisz wyrażenie if, które będzie działać jak funkcja skoku i\n",
    "        #dla total_stimulation > 0 zwróci 1\n",
    "        #a w przeciwnym razie zwróci -1"
   ]
  },
  {
   "cell_type": "code",
   "execution_count": null,
   "id": "b7048d41-abef-43b9-947d-10a80545ba3c",
   "metadata": {},
   "outputs": [],
   "source": []
  },
  {
   "cell_type": "code",
   "execution_count": 16,
   "id": "4e6b3c3d-18e5-465a-a08f-ffb765863acf",
   "metadata": {},
   "outputs": [],
   "source": [
    "def predict(x, w):\n",
    "    total_simulation = np.dot(x,w)  #mnozenie matematyczne macierzy dot\n",
    "    y_pred = 1 if total_simulation > 0 else -1\n",
    "    return y_pred"
   ]
  },
  {
   "cell_type": "code",
   "execution_count": null,
   "id": "d9b68e52-b946-4296-bdaf-115175dbbe5f",
   "metadata": {},
   "outputs": [],
   "source": []
  },
  {
   "cell_type": "code",
   "execution_count": null,
   "id": "6e98594f-3014-411a-a5ac-b681a8772b71",
   "metadata": {},
   "outputs": [],
   "source": [
    "#6. Przetestuj działanie tej funkcji dla w i X_1[0,]\n"
   ]
  },
  {
   "cell_type": "code",
   "execution_count": null,
   "id": "652400dc-27b1-45ff-ac2d-f63bd4041571",
   "metadata": {},
   "outputs": [],
   "source": []
  },
  {
   "cell_type": "code",
   "execution_count": 17,
   "id": "9282da73-387f-4450-89ee-791ae8b0ad3f",
   "metadata": {},
   "outputs": [
    {
     "name": "stdout",
     "output_type": "stream",
     "text": [
      "-1\n"
     ]
    }
   ],
   "source": [
    "print(predict(X_1[0], w))"
   ]
  },
  {
   "cell_type": "code",
   "execution_count": null,
   "id": "748fce2f-2bf8-437c-9572-0953577d96f8",
   "metadata": {},
   "outputs": [],
   "source": []
  },
  {
   "cell_type": "code",
   "execution_count": null,
   "id": "8ec97c39-df64-4e75-a9b7-ec25e54c8958",
   "metadata": {},
   "outputs": [],
   "source": [
    "# 7. Napisz pętlę for, która dla każdego wiersza z X_1 wywoła funkcję predict. Wyniki tej funkcji na razie będziemy tylko wyświetlać"
   ]
  },
  {
   "cell_type": "code",
   "execution_count": 18,
   "id": "e1c2d6a7-47ca-4611-b53e-e0d5396c1912",
   "metadata": {},
   "outputs": [
    {
     "name": "stdout",
     "output_type": "stream",
     "text": [
      "-1\n",
      "-1\n",
      "-1\n",
      "-1\n",
      "-1\n",
      "1\n",
      "1\n",
      "1\n",
      "1\n",
      "1\n"
     ]
    }
   ],
   "source": [
    "for row in X_1:\n",
    "    y_pred = predict(row, w)\n",
    "    print(y_pred)"
   ]
  },
  {
   "cell_type": "code",
   "execution_count": null,
   "id": "95230041-9e8e-4c81-bf43-f1db9ce12018",
   "metadata": {},
   "outputs": [],
   "source": []
  },
  {
   "cell_type": "code",
   "execution_count": null,
   "id": "3bb7804c-3b79-4099-b264-cb6b58f51191",
   "metadata": {},
   "outputs": [],
   "source": []
  },
  {
   "cell_type": "code",
   "execution_count": null,
   "id": "69891c53-8b8e-443a-8f4e-a234487990e1",
   "metadata": {},
   "outputs": [],
   "source": []
  },
  {
   "cell_type": "code",
   "execution_count": null,
   "id": "369be835-9f38-4ba6-98a7-d5b100411ffb",
   "metadata": {},
   "outputs": [],
   "source": []
  },
  {
   "cell_type": "code",
   "execution_count": null,
   "id": "c3056f39-9876-4def-9f65-86d8984a66f6",
   "metadata": {},
   "outputs": [],
   "source": []
  },
  {
   "cell_type": "code",
   "execution_count": null,
   "id": "f5735eba-9de4-49da-9727-5fc97671127b",
   "metadata": {},
   "outputs": [],
   "source": []
  },
  {
   "cell_type": "code",
   "execution_count": null,
   "id": "c8814663-de82-4fe4-8de3-827a82b212cd",
   "metadata": {},
   "outputs": [],
   "source": []
  },
  {
   "cell_type": "code",
   "execution_count": null,
   "id": "762d64cc-5fbf-40b5-9e35-a57c2d4d50a4",
   "metadata": {},
   "outputs": [],
   "source": []
  },
  {
   "cell_type": "code",
   "execution_count": null,
   "id": "1d0a525f-8a83-4f2f-b39f-d5459da975c2",
   "metadata": {},
   "outputs": [],
   "source": []
  },
  {
   "cell_type": "code",
   "execution_count": null,
   "id": "5a542a16-a7f3-4aa4-9c14-f938e88d72a6",
   "metadata": {},
   "outputs": [],
   "source": []
  },
  {
   "cell_type": "code",
   "execution_count": null,
   "id": "75a249d0-46f5-42a1-80af-1f831639bdf0",
   "metadata": {},
   "outputs": [],
   "source": []
  },
  {
   "cell_type": "code",
   "execution_count": null,
   "id": "9ee356dc-c670-4a4d-91bb-f0185e33c6ae",
   "metadata": {},
   "outputs": [],
   "source": []
  },
  {
   "cell_type": "code",
   "execution_count": null,
   "id": "cd58368c-2918-417e-9878-cd86c0b2be84",
   "metadata": {},
   "outputs": [],
   "source": []
  },
  {
   "cell_type": "code",
   "execution_count": null,
   "id": "ea38335b-421b-4528-ae78-3018e7eb2a5a",
   "metadata": {},
   "outputs": [],
   "source": []
  },
  {
   "cell_type": "code",
   "execution_count": null,
   "id": "bfb87880-2c90-4224-b55d-801a61d85800",
   "metadata": {},
   "outputs": [],
   "source": []
  },
  {
   "cell_type": "code",
   "execution_count": null,
   "id": "86f4536c-aeb7-4d95-87f0-f9c24a8571d6",
   "metadata": {},
   "outputs": [],
   "source": []
  },
  {
   "cell_type": "code",
   "execution_count": null,
   "id": "b9b4e343-d291-422a-9520-7a4fcc0788a2",
   "metadata": {},
   "outputs": [],
   "source": []
  }
 ],
 "metadata": {
  "kernelspec": {
   "display_name": "Python 3 (ipykernel)",
   "language": "python",
   "name": "python3"
  },
  "language_info": {
   "codemirror_mode": {
    "name": "ipython",
    "version": 3
   },
   "file_extension": ".py",
   "mimetype": "text/x-python",
   "name": "python",
   "nbconvert_exporter": "python",
   "pygments_lexer": "ipython3",
   "version": "3.11.7"
  }
 },
 "nbformat": 4,
 "nbformat_minor": 5
}
