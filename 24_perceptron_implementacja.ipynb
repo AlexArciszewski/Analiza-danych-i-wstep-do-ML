{
 "cells": [
  {
   "cell_type": "code",
   "execution_count": 5,
   "id": "d14b49c3-5123-4e19-b283-3b035cbe78e3",
   "metadata": {},
   "outputs": [],
   "source": [
    "import numpy as np\n",
    "import matplotlib.pyplot as plt\n"
   ]
  },
  {
   "cell_type": "code",
   "execution_count": 13,
   "id": "f3015d96-9f14-4556-ab62-9c3124a362d9",
   "metadata": {},
   "outputs": [
    {
     "name": "stdout",
     "output_type": "stream",
     "text": [
      "Epoch:0, weight:[ 0.25422294 -0.35897508 -1.24864964  0.48873781],number of errors 3\n",
      "Epoch:1, weight:[ 0.05422294 -0.75897508  0.75135036  0.48873781],number of errors 4\n",
      "Epoch:2, weight:[ 0.05422294 -1.15897508 -0.24864964  0.48873781],number of errors 2\n",
      "Epoch:3, weight:[-0.54577706 -1.55897508  1.15135036  0.48873781],number of errors 2\n",
      "Epoch:4, weight:[-0.54577706 -1.95897508  0.15135036  0.48873781],number of errors 2\n",
      "Epoch:5, weight:[-0.74577706 -2.35897508  2.15135036  0.48873781],number of errors 4\n",
      "Epoch:6, weight:[-0.74577706 -2.75897508  1.15135036  0.48873781],number of errors 2\n",
      "Epoch:7, weight:[-0.34577706 -2.75897508  1.75135036  0.48873781],number of errors 2\n",
      "Epoch:8, weight:[-0.34577706 -3.15897508  0.75135036  0.48873781],number of errors 2\n",
      "Epoch:9, weight:[ 0.05422294 -3.15897508  1.35135036  0.48873781],number of errors 2\n",
      "Epoch:10, weight:[ 0.45422294 -3.15897508  1.95135036  0.48873781],number of errors 2\n",
      "Epoch:11, weight:[ 0.45422294 -3.55897508  0.95135036  0.48873781],number of errors 2\n",
      "Epoch:12, weight:[ 0.85422294 -3.55897508  1.55135036  0.48873781],number of errors 2\n",
      "Epoch:13, weight:[ 0.85422294 -3.95897508  0.55135036  0.48873781],number of errors 2\n",
      "Epoch:14, weight:[ 0.65422294 -4.35897508  2.55135036  0.48873781],number of errors 4\n",
      "Epoch:15, weight:[ 0.65422294 -4.75897508  1.55135036  0.48873781],number of errors 2\n",
      "Epoch:16, weight:[ 1.05422294 -4.75897508  2.15135036  0.48873781],number of errors 2\n",
      "Epoch:17, weight:[ 1.05422294 -5.15897508  1.15135036  0.48873781],number of errors 2\n",
      "Epoch:18, weight:[ 1.45422294 -5.15897508  1.75135036  0.48873781],number of errors 2\n",
      "Epoch:19, weight:[ 1.45422294 -5.15897508  1.75135036  0.48873781],number of errors 0\n",
      "Epoch:20, weight:[ 1.45422294 -5.15897508  1.75135036  0.48873781],number of errors 0\n",
      "Epoch:21, weight:[ 1.45422294 -5.15897508  1.75135036  0.48873781],number of errors 0\n",
      "Epoch:22, weight:[ 1.45422294 -5.15897508  1.75135036  0.48873781],number of errors 0\n",
      "Epoch:23, weight:[ 1.45422294 -5.15897508  1.75135036  0.48873781],number of errors 0\n",
      "Epoch:24, weight:[ 1.45422294 -5.15897508  1.75135036  0.48873781],number of errors 0\n",
      "Epoch:25, weight:[ 1.45422294 -5.15897508  1.75135036  0.48873781],number of errors 0\n",
      "Epoch:26, weight:[ 1.45422294 -5.15897508  1.75135036  0.48873781],number of errors 0\n",
      "Epoch:27, weight:[ 1.45422294 -5.15897508  1.75135036  0.48873781],number of errors 0\n",
      "Epoch:28, weight:[ 1.45422294 -5.15897508  1.75135036  0.48873781],number of errors 0\n",
      "Epoch:29, weight:[ 1.45422294 -5.15897508  1.75135036  0.48873781],number of errors 0\n",
      "Epoch:30, weight:[ 1.45422294 -5.15897508  1.75135036  0.48873781],number of errors 0\n",
      "Epoch:31, weight:[ 1.45422294 -5.15897508  1.75135036  0.48873781],number of errors 0\n",
      "Epoch:32, weight:[ 1.45422294 -5.15897508  1.75135036  0.48873781],number of errors 0\n",
      "Epoch:33, weight:[ 1.45422294 -5.15897508  1.75135036  0.48873781],number of errors 0\n",
      "Epoch:34, weight:[ 1.45422294 -5.15897508  1.75135036  0.48873781],number of errors 0\n",
      "Epoch:35, weight:[ 1.45422294 -5.15897508  1.75135036  0.48873781],number of errors 0\n",
      "Epoch:36, weight:[ 1.45422294 -5.15897508  1.75135036  0.48873781],number of errors 0\n",
      "Epoch:37, weight:[ 1.45422294 -5.15897508  1.75135036  0.48873781],number of errors 0\n",
      "Epoch:38, weight:[ 1.45422294 -5.15897508  1.75135036  0.48873781],number of errors 0\n",
      "Epoch:39, weight:[ 1.45422294 -5.15897508  1.75135036  0.48873781],number of errors 0\n",
      "Epoch:40, weight:[ 1.45422294 -5.15897508  1.75135036  0.48873781],number of errors 0\n",
      "Epoch:41, weight:[ 1.45422294 -5.15897508  1.75135036  0.48873781],number of errors 0\n",
      "Epoch:42, weight:[ 1.45422294 -5.15897508  1.75135036  0.48873781],number of errors 0\n",
      "Epoch:43, weight:[ 1.45422294 -5.15897508  1.75135036  0.48873781],number of errors 0\n",
      "Epoch:44, weight:[ 1.45422294 -5.15897508  1.75135036  0.48873781],number of errors 0\n",
      "Epoch:45, weight:[ 1.45422294 -5.15897508  1.75135036  0.48873781],number of errors 0\n",
      "Epoch:46, weight:[ 1.45422294 -5.15897508  1.75135036  0.48873781],number of errors 0\n",
      "Epoch:47, weight:[ 1.45422294 -5.15897508  1.75135036  0.48873781],number of errors 0\n",
      "Epoch:48, weight:[ 1.45422294 -5.15897508  1.75135036  0.48873781],number of errors 0\n",
      "Epoch:49, weight:[ 1.45422294 -5.15897508  1.75135036  0.48873781],number of errors 0\n",
      "Epoch:50, weight:[ 1.45422294 -5.15897508  1.75135036  0.48873781],number of errors 0\n",
      "Epoch:51, weight:[ 1.45422294 -5.15897508  1.75135036  0.48873781],number of errors 0\n",
      "Epoch:52, weight:[ 1.45422294 -5.15897508  1.75135036  0.48873781],number of errors 0\n",
      "Epoch:53, weight:[ 1.45422294 -5.15897508  1.75135036  0.48873781],number of errors 0\n",
      "Epoch:54, weight:[ 1.45422294 -5.15897508  1.75135036  0.48873781],number of errors 0\n",
      "Epoch:55, weight:[ 1.45422294 -5.15897508  1.75135036  0.48873781],number of errors 0\n",
      "Epoch:56, weight:[ 1.45422294 -5.15897508  1.75135036  0.48873781],number of errors 0\n",
      "Epoch:57, weight:[ 1.45422294 -5.15897508  1.75135036  0.48873781],number of errors 0\n",
      "Epoch:58, weight:[ 1.45422294 -5.15897508  1.75135036  0.48873781],number of errors 0\n",
      "Epoch:59, weight:[ 1.45422294 -5.15897508  1.75135036  0.48873781],number of errors 0\n",
      "Epoch:60, weight:[ 1.45422294 -5.15897508  1.75135036  0.48873781],number of errors 0\n",
      "Epoch:61, weight:[ 1.45422294 -5.15897508  1.75135036  0.48873781],number of errors 0\n",
      "Epoch:62, weight:[ 1.45422294 -5.15897508  1.75135036  0.48873781],number of errors 0\n",
      "Epoch:63, weight:[ 1.45422294 -5.15897508  1.75135036  0.48873781],number of errors 0\n",
      "Epoch:64, weight:[ 1.45422294 -5.15897508  1.75135036  0.48873781],number of errors 0\n",
      "Epoch:65, weight:[ 1.45422294 -5.15897508  1.75135036  0.48873781],number of errors 0\n",
      "Epoch:66, weight:[ 1.45422294 -5.15897508  1.75135036  0.48873781],number of errors 0\n",
      "Epoch:67, weight:[ 1.45422294 -5.15897508  1.75135036  0.48873781],number of errors 0\n",
      "Epoch:68, weight:[ 1.45422294 -5.15897508  1.75135036  0.48873781],number of errors 0\n",
      "Epoch:69, weight:[ 1.45422294 -5.15897508  1.75135036  0.48873781],number of errors 0\n",
      "Epoch:70, weight:[ 1.45422294 -5.15897508  1.75135036  0.48873781],number of errors 0\n",
      "Epoch:71, weight:[ 1.45422294 -5.15897508  1.75135036  0.48873781],number of errors 0\n",
      "Epoch:72, weight:[ 1.45422294 -5.15897508  1.75135036  0.48873781],number of errors 0\n",
      "Epoch:73, weight:[ 1.45422294 -5.15897508  1.75135036  0.48873781],number of errors 0\n",
      "Epoch:74, weight:[ 1.45422294 -5.15897508  1.75135036  0.48873781],number of errors 0\n",
      "Epoch:75, weight:[ 1.45422294 -5.15897508  1.75135036  0.48873781],number of errors 0\n",
      "Epoch:76, weight:[ 1.45422294 -5.15897508  1.75135036  0.48873781],number of errors 0\n",
      "Epoch:77, weight:[ 1.45422294 -5.15897508  1.75135036  0.48873781],number of errors 0\n",
      "Epoch:78, weight:[ 1.45422294 -5.15897508  1.75135036  0.48873781],number of errors 0\n",
      "Epoch:79, weight:[ 1.45422294 -5.15897508  1.75135036  0.48873781],number of errors 0\n",
      "Epoch:80, weight:[ 1.45422294 -5.15897508  1.75135036  0.48873781],number of errors 0\n",
      "Epoch:81, weight:[ 1.45422294 -5.15897508  1.75135036  0.48873781],number of errors 0\n",
      "Epoch:82, weight:[ 1.45422294 -5.15897508  1.75135036  0.48873781],number of errors 0\n",
      "Epoch:83, weight:[ 1.45422294 -5.15897508  1.75135036  0.48873781],number of errors 0\n",
      "Epoch:84, weight:[ 1.45422294 -5.15897508  1.75135036  0.48873781],number of errors 0\n",
      "Epoch:85, weight:[ 1.45422294 -5.15897508  1.75135036  0.48873781],number of errors 0\n",
      "Epoch:86, weight:[ 1.45422294 -5.15897508  1.75135036  0.48873781],number of errors 0\n",
      "Epoch:87, weight:[ 1.45422294 -5.15897508  1.75135036  0.48873781],number of errors 0\n",
      "Epoch:88, weight:[ 1.45422294 -5.15897508  1.75135036  0.48873781],number of errors 0\n",
      "Epoch:89, weight:[ 1.45422294 -5.15897508  1.75135036  0.48873781],number of errors 0\n",
      "Epoch:90, weight:[ 1.45422294 -5.15897508  1.75135036  0.48873781],number of errors 0\n",
      "Epoch:91, weight:[ 1.45422294 -5.15897508  1.75135036  0.48873781],number of errors 0\n",
      "Epoch:92, weight:[ 1.45422294 -5.15897508  1.75135036  0.48873781],number of errors 0\n",
      "Epoch:93, weight:[ 1.45422294 -5.15897508  1.75135036  0.48873781],number of errors 0\n",
      "Epoch:94, weight:[ 1.45422294 -5.15897508  1.75135036  0.48873781],number of errors 0\n",
      "Epoch:95, weight:[ 1.45422294 -5.15897508  1.75135036  0.48873781],number of errors 0\n",
      "Epoch:96, weight:[ 1.45422294 -5.15897508  1.75135036  0.48873781],number of errors 0\n",
      "Epoch:97, weight:[ 1.45422294 -5.15897508  1.75135036  0.48873781],number of errors 0\n",
      "Epoch:98, weight:[ 1.45422294 -5.15897508  1.75135036  0.48873781],number of errors 0\n",
      "Epoch:99, weight:[ 1.45422294 -5.15897508  1.75135036  0.48873781],number of errors 0\n",
      "[ 1.45422294 -5.15897508  1.75135036  0.48873781]\n",
      "-1\n",
      "1\n",
      "-1\n"
     ]
    },
    {
     "data": {
      "image/png": "[encoded data removed]",
      "text/plain": [
       "<Figure size 640x480 with 1 Axes>"
      ]
     },
     "metadata": {},
     "output_type": "display_data"
    }
   ],
   "source": [
    "class Perceptron:\n",
    "    def __init__(self, eta=0.10, epochs=50, is_verbose = False):\n",
    "\n",
    "        self.eta = eta\n",
    "        self.epochs = epochs\n",
    "        self.is_verbose = is_verbose\n",
    "        self.list_of_errors = []\n",
    "\n",
    "    def predict(self, x):\n",
    "\n",
    "        total_stimulation =np.dot(x, self.w)\n",
    "        y_pred = 1 if total_stimulation >0 else -1\n",
    "        return y_pred\n",
    "        \n",
    "    def fit(self, X, y):\n",
    "\n",
    "        self.list_of_errors =[]\n",
    "\n",
    "        ones =np.ones((X.shape[0],1))\n",
    "        X_1 = np.append(X.copy(), ones, axis=1)\n",
    "        \n",
    "        self.w=np.random.rand(X_1.shape[1])\n",
    "        \n",
    "        for e in range(self.epochs):\n",
    "\n",
    "            number_of_errors = 0\n",
    "            \n",
    "            for x, y_target in zip(X_1,y):\n",
    "\n",
    "                y_pred =  self.predict(x)\n",
    "                delta_w = self.eta * (y_target - y_pred) * x\n",
    "                self.w += delta_w\n",
    "\n",
    "                number_of_errors += 1 if y_target != y_pred else 0\n",
    "\n",
    "            self.list_of_errors.append(number_of_errors)\n",
    "\n",
    "            if(self.is_verbose):\n",
    "                print(\"Epoch:{}, weight:{},number of errors {}\".format(e,self.w, number_of_errors))\n",
    "\n",
    "X = np.array([\n",
    "    [2, 4, 20],\n",
    "    [4, 3, -10],\n",
    "    [5, 6, 13],\n",
    "    [5, 4, 8],\n",
    "    [3, 4, 5],\n",
    "])\n",
    "\n",
    "y = np.array([1, -1, -1, 1,-1])\n",
    "\n",
    "perceptron = Perceptron(eta=0.1, epochs=100, is_verbose=True)\n",
    "perceptron.fit(X,y)\n",
    "\n",
    "print(perceptron.w)\n",
    "\n",
    "\n",
    "print(perceptron.predict(np.array([[1, 2, 3, 1]])))\n",
    "print(perceptron.predict(np.array([[2, 2, 8, 1]])))\n",
    "print(perceptron.predict(np.array([[3, 3, 3, 1]])))\n",
    "\n",
    "%matplotlib inline\n",
    "plt.scatter(range(perceptron.epochs), perceptron.list_of_errors)\n",
    "plt.show()\n",
    "    \n",
    "        \n",
    "\n",
    "\n",
    "\n",
    "        "
   ]
  },
  {
   "cell_type": "code",
   "execution_count": null,
   "id": "b7094d51-6ae9-4e86-a94f-d34cd357e7b2",
   "metadata": {},
   "outputs": [],
   "source": [
    "#eta współczynnik prędkosci uczenia domyślnie 0.1 uczymy się kilka razy na tych samych danych uczących aby je wykorzystać bo np. \n",
    "#Mamy mało więc tu 50 razy parametr epochs."
   ]
  },
  {
   "cell_type": "code",
   "execution_count": null,
   "id": "dd87d180-65de-4ab4-8a53-744e7d7bc42d",
   "metadata": {},
   "outputs": [],
   "source": [
    "#perceptron będzie posiadał równiez metodę predict"
   ]
  },
  {
   "cell_type": "code",
   "execution_count": null,
   "id": "8afe803c-a677-45d4-b23d-839ab6309e86",
   "metadata": {},
   "outputs": [],
   "source": [
    "#fit metoda ucząca X macierz/tablicanumpy array 1000 wierszy i każda próbka ma 5cech to mamy 1000 wierszy i  5 kolumn dla tablicy"
   ]
  },
  {
   "cell_type": "code",
   "execution_count": null,
   "id": "a439036e-ca1f-43d1-8668-534a5a9704d3",
   "metadata": {},
   "outputs": [],
   "source": [
    "#dla każdego wiersza znamy etypkietę wartośc target y. y to też wektor a własciwie tablicą jednokolumnową z wartościami wyznaczanymi przez\n",
    "#perceptron \n",
    "#dla próbek obserwowanych w zmiennej X"
   ]
  },
  {
   "cell_type": "code",
   "execution_count": null,
   "id": "ef2b3227-2ab2-4fc7-aa9f-39ce57c123bb",
   "metadata": {},
   "outputs": [],
   "source": [
    "#Do wartości próbek zmiennej X trzeba dodac jeszcze sztuczna kolumnę z samych jedynek ones =np.ones((X.shape[0],1)). \n",
    "#Macierz jedynek ma miec tyle wierszy ile przyszło próbek do algorytmu czyli ile wierszy w zmiennej  X i tylko jedna kolumnę"
   ]
  },
  {
   "cell_type": "code",
   "execution_count": null,
   "id": "6eaa4ac9-da80-40be-a34d-904aaae97890",
   "metadata": {},
   "outputs": [],
   "source": [
    "#Macierz jedynek doklejamy do macierzy X opisującej wszystkie probki przekazane do algorytmu"
   ]
  },
  {
   "cell_type": "code",
   "execution_count": null,
   "id": "55c107c5-e4d3-43ac-bf85-d964dfd076e7",
   "metadata": {},
   "outputs": [],
   "source": [
    "#X z doklejoną kolumną jedynek to X_1= np.append(X.copy(), ones, axis=1)"
   ]
  },
  {
   "cell_type": "code",
   "execution_count": null,
   "id": "8e86be78-2651-4aed-8d6c-ce04cec43dfd",
   "metadata": {},
   "outputs": [],
   "source": [
    "#Uczenie maszynowe  self.w=np.random.rand(X_1.shape[1])\n",
    "#Mózgiem perceptornu jest tablica z wagami którą losujemy w -wektor którego wartości są wylosowane na początku \n",
    "#i losujemy tyle wartości ile jest kolumn w tablicy X_1"
   ]
  },
  {
   "cell_type": "code",
   "execution_count": null,
   "id": "ec287a0f-fddc-44d0-a9ef-61f731838fb2",
   "metadata": {},
   "outputs": [],
   "source": [
    "#Uczenie:for e in range(self.epochs): uczenie odpywa się tyle razy ile jest epoch"
   ]
  },
  {
   "cell_type": "code",
   "execution_count": null,
   "id": "a3f7df14-20f4-4103-a030-e26016df7ba8",
   "metadata": {},
   "outputs": [],
   "source": [
    " #for x, y_target in zip(X_1,y): zadaniem drugiej pętli jest przejście przez wszystkie próbki znajdujące się \n",
    "#w macierzy X_1 i y. "
   ]
  },
  {
   "cell_type": "code",
   "execution_count": null,
   "id": "d9086132-251b-417c-a1ce-279f7c0a4ec2",
   "metadata": {},
   "outputs": [],
   "source": [
    "# x to pojedyncza próbka(mała litera) z doklejona jedynką y _target to znana wartość etykiety przypisanej do tej próbki.\n",
    "#wyznaczamy przewidywana przez perceptron wartość etykiety y_pred  za pomoca funkcji predict ->y_pred =  self.predict(x)"
   ]
  },
  {
   "cell_type": "code",
   "execution_count": null,
   "id": "7e321d00-97fb-4b65-b0e8-5ff4ade42bbd",
   "metadata": {},
   "outputs": [],
   "source": [
    "#jedynym argumentem rpzekazwanym do funkcji predict jest wartość wszystkich cech związanych z ta pojedynczą próbką czyli x"
   ]
  },
  {
   "cell_type": "code",
   "execution_count": null,
   "id": "1920bcb5-93c8-452a-a1e1-e4555793efeb",
   "metadata": {},
   "outputs": [],
   "source": [
    "#Wzór na deltaw delta_w = self.eta * (y_target - y_pred) * x"
   ]
  },
  {
   "cell_type": "code",
   "execution_count": null,
   "id": "3afb0cca-eded-4f2e-af4a-6354f2c767c6",
   "metadata": {},
   "outputs": [],
   "source": [
    "#eta to zwykła liczba, y_target oraz y_pred to też zwykłe liczby x jest wektorem. liczba-liczba razy wektor to wektor. \n",
    "#eta*wektor tez da wektor"
   ]
  },
  {
   "cell_type": "code",
   "execution_count": null,
   "id": "a3c58fac-f4d9-468b-b504-b420dcd2ff73",
   "metadata": {},
   "outputs": [],
   "source": [
    "#delta w wektor wartości korygujacych oryginalnej wektor w dodajemy te wartości do istniejacych wag self.w += delta_w"
   ]
  },
  {
   "cell_type": "code",
   "execution_count": null,
   "id": "c21677e9-dc58-4b9a-93e5-ee1b3f1810df",
   "metadata": {},
   "outputs": [],
   "source": [
    "#uczenie zakończone"
   ]
  },
  {
   "cell_type": "code",
   "execution_count": null,
   "id": "58ef811c-a230-4357-b3dd-ce5c2ddde581",
   "metadata": {},
   "outputs": [],
   "source": [
    "#teraz funkcja przewidująca wartości."
   ]
  },
  {
   "cell_type": "code",
   "execution_count": null,
   "id": "84acaa0d-674f-46bc-8a54-b4fd283025aa",
   "metadata": {},
   "outputs": [],
   "source": [
    "#Wyznaczamy total_stimulation z czyli wartość pwostałą przez przemnożenie wartości x z próbki danych przez wartości wag"
   ]
  },
  {
   "cell_type": "code",
   "execution_count": null,
   "id": "709dde4a-ed1b-46db-b38e-a328744f5e6b",
   "metadata": {},
   "outputs": [],
   "source": [
    "# Trzeba wykonać mnożenie dwóch macierzy. Wykorzystujemy np.dot funkcję. Wynikiem tego mnożenia będzie liczba z będąca wartością całkowitego pobudzenia perceptornu\n",
    "#total_stimulation =np.dot(x, self.w)"
   ]
  },
  {
   "cell_type": "code",
   "execution_count": null,
   "id": "605b00c4-0629-495a-995a-b708f7d5fd85",
   "metadata": {},
   "outputs": [],
   "source": [
    "#Trzeba sprawdzić czy ta wartość pobudzenia perceptronu jest większa od 0 czy nie. y_pred = 1 if total_stimulation >0 else -1"
   ]
  },
  {
   "cell_type": "code",
   "execution_count": null,
   "id": "ca72f7b7-f349-4155-a3bd-70368ea56fbf",
   "metadata": {},
   "outputs": [],
   "source": [
    "#pozostało zwrócenie wznaczonej wartości return y_pred"
   ]
  },
  {
   "cell_type": "code",
   "execution_count": null,
   "id": "26dadc28-0cb2-486c-bf7e-5a4215649804",
   "metadata": {},
   "outputs": [],
   "source": [
    "#2*pierwsza wartość z tablicy -4*druga wartość z tablicy + trzecia wartość z tablicy. Uczymy perceptron , że jeśli wynik tej operacji\n",
    "#wykonanej > 0 to ma być zwracana wartość 1 a w przeciwnym wypadku ma być zwracana wartość -1."
   ]
  },
  {
   "cell_type": "code",
   "execution_count": null,
   "id": "7a5f93b5-9edc-4d54-a0b7-5dc2a45b8a21",
   "metadata": {},
   "outputs": [],
   "source": [
    "#X = np.array([\n",
    "#    [2, 4, 20],\n",
    "#    [4, 3, -10],\n",
    "#    [5, 6, 13],\n",
    "#    [5, 4, 8],\n",
    "#    [3, 4, 5],\n",
    "#])"
   ]
  },
  {
   "cell_type": "code",
   "execution_count": null,
   "id": "bbbcd124-546a-48ce-915e-deb8e569eda8",
   "metadata": {},
   "outputs": [],
   "source": [
    "#Budujemy tablicę z 5 jedynek y = np.array([1, -1, -1, 1,-1])\n",
    "\n",
    "#Definiujemy perceptron,który będzie się uczył z prędkością eta. 0.1 i będzie przetwarzał dane uczące 100 razy"
   ]
  },
  {
   "cell_type": "code",
   "execution_count": null,
   "id": "fd310412-4c26-4543-809b-3fa616f61ce1",
   "metadata": {},
   "outputs": [],
   "source": [
    "#print(perceptron.w)#dostalismy[ 1.84168811 -5.59189853  1.8155261   0.27751696]"
   ]
  },
  {
   "cell_type": "code",
   "execution_count": null,
   "id": "d02565db-cba5-41d2-b604-c19e91dfaca5",
   "metadata": {},
   "outputs": [],
   "source": [
    "#Sprawdzamy wartości wyznaczonych wag. perceptron jest daleko od tego co pojawiło się we wzorze 2*pierwsza wartość z tablicy -4*druga wartość z \n",
    "#tablicy + trzecia wartość z tablicy\n",
    "#pierwsza wartość wyszła 1.84 zamiast 2 druga to -5.59 zamiast -4  trzecia to 1.81 zamiast 1\n",
    "#Sprawdzamy teraz dla innego zestawu liczb"
   ]
  },
  {
   "cell_type": "code",
   "execution_count": null,
   "id": "98053b34-f27f-441f-8f6d-10421004f5bd",
   "metadata": {},
   "outputs": [],
   "source": [
    "#Wagi nie zostały do końca poprawnie odgadnięte. perceptron sobie radzi."
   ]
  },
  {
   "cell_type": "code",
   "execution_count": null,
   "id": "1d8ed0af-e15e-46b9-874e-a38a2413c2f1",
   "metadata": {},
   "outputs": [],
   "source": [
    "#W konstruktorze perceptronu dodaliśmy is_verbose = False): oraz  self.is_verbose = is_verbose\n",
    "#by dowiedziec sie ile razy perceptron się pomylił w każdej epoce self.list_of_errors = [] w postaci listy"
   ]
  },
  {
   "cell_type": "code",
   "execution_count": null,
   "id": "cb7abe83-350b-43a5-b590-8e12ef06c792",
   "metadata": {},
   "outputs": [],
   "source": [
    "#self.list_of_errors =[] trafia do fit."
   ]
  },
  {
   "cell_type": "code",
   "execution_count": null,
   "id": "eb688ba8-a67c-4dcf-a8df-151343f4a9f9",
   "metadata": {},
   "outputs": [],
   "source": [
    "#po każdym uczeniu próbki jeśli została odgadnięta wartość y_pred sprawdzamy czy to odgadniecie było prawidłowe \n",
    "#number_of_errors += 1 if y_target != y_pred else 0"
   ]
  },
  {
   "cell_type": "code",
   "execution_count": null,
   "id": "964e66ca-cfbd-4f7d-966e-dc5ea889e13a",
   "metadata": {},
   "outputs": [],
   "source": [
    "#Po zakończonej epoce dodajemy listę znalezionych błędów self.list_of_errors.append(number_of_errors)"
   ]
  },
  {
   "cell_type": "code",
   "execution_count": null,
   "id": "334b7300-855e-439c-8414-48211e1be5b6",
   "metadata": {},
   "outputs": [],
   "source": [
    "#self.list_of_errors.append(number_of_errors)"
   ]
  },
  {
   "cell_type": "code",
   "execution_count": null,
   "id": "9518e1f9-3033-48e9-b119-2c1900665b3b",
   "metadata": {},
   "outputs": [],
   "source": []
  },
  {
   "cell_type": "code",
   "execution_count": null,
   "id": "af764a08-6ab7-41d7-bccc-274b83360ec2",
   "metadata": {},
   "outputs": [],
   "source": [
    "# Dodajemy komunikat:if(self.isverbose):\n",
    "#                print(\"Epoch:{}, weight:{},number of errors {}\".format(e,sef.w, number_of_errors))"
   ]
  },
  {
   "cell_type": "code",
   "execution_count": null,
   "id": "70cb051a-72d5-4817-89e8-ec8a1bed0932",
   "metadata": {},
   "outputs": [],
   "source": [
    "#Dodajed operceptronu.perceptron = Perceptron(eta=0.1, epochs=100, is_verbose=True)"
   ]
  },
  {
   "cell_type": "code",
   "execution_count": null,
   "id": "e616ca04-95cc-4ab9-8330-40365a2542ea",
   "metadata": {},
   "outputs": [],
   "source": [
    "#błędy wylosowanychw artośćiw ag rpzestały się pojawiać"
   ]
  },
  {
   "cell_type": "code",
   "execution_count": null,
   "id": "92ed75e6-d876-4cce-99e4-131e648185fc",
   "metadata": {},
   "outputs": [],
   "source": [
    "#Robimy wykres. na osi X liczba epok uczenia a na osi y ilosć popełnianych blędów"
   ]
  },
  {
   "cell_type": "code",
   "execution_count": null,
   "id": "f9f1726d-496f-47f5-b65a-8ad30e36c0d1",
   "metadata": {},
   "outputs": [],
   "source": [
    "#Robimy wykres. na osi X liczba epok uczenia a na osi y ilosć popełnianych blędów"
   ]
  },
  {
   "cell_type": "code",
   "execution_count": null,
   "id": "2577f2e2-da8b-4db8-bc0b-038ca5666e0d",
   "metadata": {},
   "outputs": [],
   "source": [
    "#Jeśli zwiększymy eta do 0.5 przyspieszymy uczenie"
   ]
  },
  {
   "cell_type": "code",
   "execution_count": null,
   "id": "59657a89-6e9e-4696-8928-a05093520c52",
   "metadata": {},
   "outputs": [],
   "source": [
    "#ale wylosowane wartości mogą być na tyle złe, ze proces uczenia się wydłużył\n",
    "#jak użyjemy wysokiego współczynnika uczenia się to wagi odgadnięte przez algorytm tez będą większe będą wysokie.\n",
    "#W uczeniu maszynowym zależy aby pracować z małymi wartościami wag"
   ]
  },
  {
   "cell_type": "code",
   "execution_count": null,
   "id": "7b182637-fe2d-4c24-93d7-1477b8f863d3",
   "metadata": {},
   "outputs": [],
   "source": []
  },
  {
   "cell_type": "code",
   "execution_count": null,
   "id": "df10b920-090e-4f34-b7cc-2058aad05379",
   "metadata": {},
   "outputs": [],
   "source": []
  },
  {
   "cell_type": "code",
   "execution_count": null,
   "id": "0e489f14-e964-4342-9177-7b78212fa004",
   "metadata": {},
   "outputs": [],
   "source": []
  },
  {
   "cell_type": "code",
   "execution_count": null,
   "id": "1966fb4b-5b69-4322-87fe-925058f5036d",
   "metadata": {},
   "outputs": [],
   "source": []
  }
 ],
 "metadata": {
  "kernelspec": {
   "display_name": "Python 3 (ipykernel)",
   "language": "python",
   "name": "python3"
  },
  "language_info": {
   "codemirror_mode": {
    "name": "ipython",
    "version": 3
   },
   "file_extension": ".py",
   "mimetype": "text/x-python",
   "name": "python",
   "nbconvert_exporter": "python",
   "pygments_lexer": "ipython3",
   "version": "3.11.7"
  }
 },
 "nbformat": 4,
 "nbformat_minor": 5
}
