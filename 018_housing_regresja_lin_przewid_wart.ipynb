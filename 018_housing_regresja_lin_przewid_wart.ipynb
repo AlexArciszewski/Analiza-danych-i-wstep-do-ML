{
 "cells": [
  {
   "cell_type": "code",
   "execution_count": null,
   "id": "98c8be90-d7a3-4fe0-afe3-0e0482ad1bd0",
   "metadata": {},
   "outputs": [],
   "source": [
    "#model regresji liniowej. przewidywanie wartości numerycznych"
   ]
  },
  {
   "cell_type": "code",
   "execution_count": null,
   "id": "15028e7f-a1e4-4992-b031-7042cc28ad8c",
   "metadata": {},
   "outputs": [],
   "source": [
    "#1 Import danych i bibliotek"
   ]
  },
  {
   "cell_type": "code",
   "execution_count": 1,
   "id": "e9c8fa7f-b26e-4a5c-82ae-bdeda862597a",
   "metadata": {},
   "outputs": [],
   "source": [
    "import numpy as np\n",
    "import pandas as pd\n",
    "import seaborn as sns\n",
    "import matplotlib. pyplot as plt"
   ]
  },
  {
   "cell_type": "code",
   "execution_count": 58,
   "id": "63f11b3c-a0ba-4f4b-be23-8fdddab2f8cc",
   "metadata": {},
   "outputs": [],
   "source": [
    "df = pd.read_csv(r\"C:\\Dane\\2_ML_Projekty\\003_programowanie_ML_zadanka_kurs_wprowadzenie\\Moduł 4\\Zbiory danych\\housing.csv\")"
   ]
  },
  {
   "cell_type": "code",
   "execution_count": 5,
   "id": "7070dcf9-8577-4363-9ee5-63e68fe96e33",
   "metadata": {},
   "outputs": [
    {
     "data": {
      "text/html": [
       "<div>\n",
       "<style scoped>\n",
       "    .dataframe tbody tr th:only-of-type {\n",
       "        vertical-align: middle;\n",
       "    }\n",
       "\n",
       "    .dataframe tbody tr th {\n",
       "        vertical-align: top;\n",
       "    }\n",
       "\n",
       "    .dataframe thead th {\n",
       "        text-align: right;\n",
       "    }\n",
       "</style>\n",
       "<table border=\"1\" class=\"dataframe\">\n",
       "  <thead>\n",
       "    <tr style=\"text-align: right;\">\n",
       "      <th></th>\n",
       "      <th>Unnamed: 0</th>\n",
       "      <th>SalePrice</th>\n",
       "      <th>LotArea</th>\n",
       "      <th>Heating</th>\n",
       "      <th>PoolArea</th>\n",
       "      <th>YearBuilt</th>\n",
       "      <th>OverallCond</th>\n",
       "      <th>GrLivArea</th>\n",
       "      <th>Fireplaces</th>\n",
       "      <th>PavedDrive</th>\n",
       "    </tr>\n",
       "  </thead>\n",
       "  <tbody>\n",
       "    <tr>\n",
       "      <th>0</th>\n",
       "      <td>0</td>\n",
       "      <td>208500</td>\n",
       "      <td>8450</td>\n",
       "      <td>GasA</td>\n",
       "      <td>0</td>\n",
       "      <td>2003</td>\n",
       "      <td>5</td>\n",
       "      <td>1710</td>\n",
       "      <td>0</td>\n",
       "      <td>Y</td>\n",
       "    </tr>\n",
       "    <tr>\n",
       "      <th>1</th>\n",
       "      <td>1</td>\n",
       "      <td>181500</td>\n",
       "      <td>9600</td>\n",
       "      <td>GasA</td>\n",
       "      <td>0</td>\n",
       "      <td>1976</td>\n",
       "      <td>8</td>\n",
       "      <td>1262</td>\n",
       "      <td>1</td>\n",
       "      <td>Y</td>\n",
       "    </tr>\n",
       "    <tr>\n",
       "      <th>2</th>\n",
       "      <td>2</td>\n",
       "      <td>223500</td>\n",
       "      <td>11250</td>\n",
       "      <td>GasA</td>\n",
       "      <td>0</td>\n",
       "      <td>2001</td>\n",
       "      <td>5</td>\n",
       "      <td>1786</td>\n",
       "      <td>1</td>\n",
       "      <td>Y</td>\n",
       "    </tr>\n",
       "    <tr>\n",
       "      <th>3</th>\n",
       "      <td>3</td>\n",
       "      <td>140000</td>\n",
       "      <td>9550</td>\n",
       "      <td>GasA</td>\n",
       "      <td>0</td>\n",
       "      <td>1915</td>\n",
       "      <td>5</td>\n",
       "      <td>1717</td>\n",
       "      <td>1</td>\n",
       "      <td>Y</td>\n",
       "    </tr>\n",
       "    <tr>\n",
       "      <th>4</th>\n",
       "      <td>4</td>\n",
       "      <td>250000</td>\n",
       "      <td>14260</td>\n",
       "      <td>GasA</td>\n",
       "      <td>0</td>\n",
       "      <td>2000</td>\n",
       "      <td>5</td>\n",
       "      <td>2198</td>\n",
       "      <td>1</td>\n",
       "      <td>Y</td>\n",
       "    </tr>\n",
       "  </tbody>\n",
       "</table>\n",
       "</div>"
      ],
      "text/plain": [
       "   Unnamed: 0  SalePrice  LotArea Heating  PoolArea  YearBuilt  OverallCond  \\\n",
       "0           0     208500     8450    GasA         0       2003            5   \n",
       "1           1     181500     9600    GasA         0       1976            8   \n",
       "2           2     223500    11250    GasA         0       2001            5   \n",
       "3           3     140000     9550    GasA         0       1915            5   \n",
       "4           4     250000    14260    GasA         0       2000            5   \n",
       "\n",
       "   GrLivArea  Fireplaces PavedDrive  \n",
       "0       1710           0          Y  \n",
       "1       1262           1          Y  \n",
       "2       1786           1          Y  \n",
       "3       1717           1          Y  \n",
       "4       2198           1          Y  "
      ]
     },
     "execution_count": 5,
     "metadata": {},
     "output_type": "execute_result"
    }
   ],
   "source": [
    "df.head()"
   ]
  },
  {
   "cell_type": "code",
   "execution_count": null,
   "id": "4e0b9ab1-e322-4520-95e1-65fb33962f23",
   "metadata": {},
   "outputs": [],
   "source": [
    "#Będziemy przewidywać cenę SalePrice po której nirruchomosć jest sprzedawana\n",
    "#LotArea całk pow działki.Heating to rodzaj ogrzewania Pool Area to wielkość basenu YearBuilt to rok budowy.OverallCond -stan ogólny \n",
    "#GrLivArea całkowita powierzchnia mieszkalna\tFireplaces kominki \tPavedDrive brukowany podjazd."
   ]
  },
  {
   "cell_type": "code",
   "execution_count": null,
   "id": "55c2e8d6-d932-49db-bb68-eb51131c3db3",
   "metadata": {},
   "outputs": [],
   "source": []
  },
  {
   "cell_type": "code",
   "execution_count": null,
   "id": "1d32ad09-9ae1-497e-a0a7-2fe74b27b44e",
   "metadata": {},
   "outputs": [],
   "source": [
    "#2. Ogólny opis danych"
   ]
  },
  {
   "cell_type": "code",
   "execution_count": null,
   "id": "b162d1b1-7ad8-49d3-911e-44179051748e",
   "metadata": {},
   "outputs": [],
   "source": []
  },
  {
   "cell_type": "code",
   "execution_count": 6,
   "id": "6e7ca11b-3cc9-4267-a8c5-9be0bf7ebbd3",
   "metadata": {},
   "outputs": [
    {
     "name": "stdout",
     "output_type": "stream",
     "text": [
      "<class 'pandas.core.frame.DataFrame'>\n",
      "RangeIndex: 1460 entries, 0 to 1459\n",
      "Data columns (total 10 columns):\n",
      " #   Column       Non-Null Count  Dtype \n",
      "---  ------       --------------  ----- \n",
      " 0   Unnamed: 0   1460 non-null   int64 \n",
      " 1   SalePrice    1460 non-null   int64 \n",
      " 2   LotArea      1460 non-null   int64 \n",
      " 3   Heating      1460 non-null   object\n",
      " 4   PoolArea     1460 non-null   int64 \n",
      " 5   YearBuilt    1460 non-null   int64 \n",
      " 6   OverallCond  1460 non-null   int64 \n",
      " 7   GrLivArea    1460 non-null   int64 \n",
      " 8   Fireplaces   1460 non-null   int64 \n",
      " 9   PavedDrive   1460 non-null   object\n",
      "dtypes: int64(8), object(2)\n",
      "memory usage: 114.2+ KB\n"
     ]
    }
   ],
   "source": [
    "df.info()"
   ]
  },
  {
   "cell_type": "code",
   "execution_count": null,
   "id": "e2d7a28d-bd50-4f31-8ec9-9232bbfb2b9a",
   "metadata": {},
   "outputs": [],
   "source": [
    "#1460 rekordów i 1460 non-null czyli zero braków"
   ]
  },
  {
   "cell_type": "code",
   "execution_count": 7,
   "id": "d11ac393-a69e-437e-98fb-f1f80c33f197",
   "metadata": {},
   "outputs": [
    {
     "data": {
      "text/plain": [
       "(1460, 10)"
      ]
     },
     "execution_count": 7,
     "metadata": {},
     "output_type": "execute_result"
    }
   ],
   "source": [
    "df.shape"
   ]
  },
  {
   "cell_type": "code",
   "execution_count": null,
   "id": "dd2d9bb6-6eda-46bb-973c-47275b1dd488",
   "metadata": {},
   "outputs": [],
   "source": [
    "#usuwam pierwszą zmienną aby nie przeszkadzała"
   ]
  },
  {
   "cell_type": "code",
   "execution_count": 49,
   "id": "78b741c5-532f-410a-8070-9c807493720d",
   "metadata": {},
   "outputs": [],
   "source": [
    "df.drop('Unnamed: 0', axis=1, inplace=True)"
   ]
  },
  {
   "cell_type": "code",
   "execution_count": 40,
   "id": "fe7bb9a2-1ccb-4c47-bc79-b0738af1c93d",
   "metadata": {},
   "outputs": [
    {
     "data": {
      "text/html": [
       "<div>\n",
       "<style scoped>\n",
       "    .dataframe tbody tr th:only-of-type {\n",
       "        vertical-align: middle;\n",
       "    }\n",
       "\n",
       "    .dataframe tbody tr th {\n",
       "        vertical-align: top;\n",
       "    }\n",
       "\n",
       "    .dataframe thead th {\n",
       "        text-align: right;\n",
       "    }\n",
       "</style>\n",
       "<table border=\"1\" class=\"dataframe\">\n",
       "  <thead>\n",
       "    <tr style=\"text-align: right;\">\n",
       "      <th></th>\n",
       "      <th>Unnamed: 0</th>\n",
       "      <th>SalePrice</th>\n",
       "      <th>LotArea</th>\n",
       "      <th>Heating</th>\n",
       "      <th>PoolArea</th>\n",
       "      <th>YearBuilt</th>\n",
       "      <th>OverallCond</th>\n",
       "      <th>GrLivArea</th>\n",
       "      <th>Fireplaces</th>\n",
       "      <th>PavedDrive</th>\n",
       "    </tr>\n",
       "  </thead>\n",
       "  <tbody>\n",
       "    <tr>\n",
       "      <th>0</th>\n",
       "      <td>0</td>\n",
       "      <td>208500</td>\n",
       "      <td>8450</td>\n",
       "      <td>GasA</td>\n",
       "      <td>0</td>\n",
       "      <td>2003</td>\n",
       "      <td>5</td>\n",
       "      <td>1710</td>\n",
       "      <td>0</td>\n",
       "      <td>Y</td>\n",
       "    </tr>\n",
       "    <tr>\n",
       "      <th>1</th>\n",
       "      <td>1</td>\n",
       "      <td>181500</td>\n",
       "      <td>9600</td>\n",
       "      <td>GasA</td>\n",
       "      <td>0</td>\n",
       "      <td>1976</td>\n",
       "      <td>8</td>\n",
       "      <td>1262</td>\n",
       "      <td>1</td>\n",
       "      <td>Y</td>\n",
       "    </tr>\n",
       "    <tr>\n",
       "      <th>2</th>\n",
       "      <td>2</td>\n",
       "      <td>223500</td>\n",
       "      <td>11250</td>\n",
       "      <td>GasA</td>\n",
       "      <td>0</td>\n",
       "      <td>2001</td>\n",
       "      <td>5</td>\n",
       "      <td>1786</td>\n",
       "      <td>1</td>\n",
       "      <td>Y</td>\n",
       "    </tr>\n",
       "    <tr>\n",
       "      <th>3</th>\n",
       "      <td>3</td>\n",
       "      <td>140000</td>\n",
       "      <td>9550</td>\n",
       "      <td>GasA</td>\n",
       "      <td>0</td>\n",
       "      <td>1915</td>\n",
       "      <td>5</td>\n",
       "      <td>1717</td>\n",
       "      <td>1</td>\n",
       "      <td>Y</td>\n",
       "    </tr>\n",
       "    <tr>\n",
       "      <th>4</th>\n",
       "      <td>4</td>\n",
       "      <td>250000</td>\n",
       "      <td>14260</td>\n",
       "      <td>GasA</td>\n",
       "      <td>0</td>\n",
       "      <td>2000</td>\n",
       "      <td>5</td>\n",
       "      <td>2198</td>\n",
       "      <td>1</td>\n",
       "      <td>Y</td>\n",
       "    </tr>\n",
       "  </tbody>\n",
       "</table>\n",
       "</div>"
      ],
      "text/plain": [
       "   Unnamed: 0  SalePrice  LotArea Heating  PoolArea  YearBuilt  OverallCond  \\\n",
       "0           0     208500     8450    GasA         0       2003            5   \n",
       "1           1     181500     9600    GasA         0       1976            8   \n",
       "2           2     223500    11250    GasA         0       2001            5   \n",
       "3           3     140000     9550    GasA         0       1915            5   \n",
       "4           4     250000    14260    GasA         0       2000            5   \n",
       "\n",
       "   GrLivArea  Fireplaces PavedDrive  \n",
       "0       1710           0          Y  \n",
       "1       1262           1          Y  \n",
       "2       1786           1          Y  \n",
       "3       1717           1          Y  \n",
       "4       2198           1          Y  "
      ]
     },
     "execution_count": 40,
     "metadata": {},
     "output_type": "execute_result"
    }
   ],
   "source": [
    "df.head()"
   ]
  },
  {
   "cell_type": "code",
   "execution_count": null,
   "id": "91c2ed95-492b-4c3e-94e6-ccd5dd3f404b",
   "metadata": {},
   "outputs": [],
   "source": [
    "#Opis danych w kontekscie zmiennych numerycznych metoda describe- czy nie ma skrajnych wartości do odrzucenia"
   ]
  },
  {
   "cell_type": "code",
   "execution_count": 11,
   "id": "3024f907-201e-4500-82f2-06f76eb9c352",
   "metadata": {},
   "outputs": [
    {
     "data": {
      "text/html": [
       "<div>\n",
       "<style scoped>\n",
       "    .dataframe tbody tr th:only-of-type {\n",
       "        vertical-align: middle;\n",
       "    }\n",
       "\n",
       "    .dataframe tbody tr th {\n",
       "        vertical-align: top;\n",
       "    }\n",
       "\n",
       "    .dataframe thead th {\n",
       "        text-align: right;\n",
       "    }\n",
       "</style>\n",
       "<table border=\"1\" class=\"dataframe\">\n",
       "  <thead>\n",
       "    <tr style=\"text-align: right;\">\n",
       "      <th></th>\n",
       "      <th>SalePrice</th>\n",
       "      <th>LotArea</th>\n",
       "      <th>PoolArea</th>\n",
       "      <th>YearBuilt</th>\n",
       "      <th>OverallCond</th>\n",
       "      <th>GrLivArea</th>\n",
       "      <th>Fireplaces</th>\n",
       "    </tr>\n",
       "  </thead>\n",
       "  <tbody>\n",
       "    <tr>\n",
       "      <th>count</th>\n",
       "      <td>1460.000000</td>\n",
       "      <td>1460.000000</td>\n",
       "      <td>1460.000000</td>\n",
       "      <td>1460.000000</td>\n",
       "      <td>1460.000000</td>\n",
       "      <td>1460.000000</td>\n",
       "      <td>1460.000000</td>\n",
       "    </tr>\n",
       "    <tr>\n",
       "      <th>mean</th>\n",
       "      <td>180921.195890</td>\n",
       "      <td>10516.828082</td>\n",
       "      <td>2.758904</td>\n",
       "      <td>1971.267808</td>\n",
       "      <td>5.575342</td>\n",
       "      <td>1515.463699</td>\n",
       "      <td>0.613014</td>\n",
       "    </tr>\n",
       "    <tr>\n",
       "      <th>std</th>\n",
       "      <td>79442.502883</td>\n",
       "      <td>9981.264932</td>\n",
       "      <td>40.177307</td>\n",
       "      <td>30.202904</td>\n",
       "      <td>1.112799</td>\n",
       "      <td>525.480383</td>\n",
       "      <td>0.644666</td>\n",
       "    </tr>\n",
       "    <tr>\n",
       "      <th>min</th>\n",
       "      <td>34900.000000</td>\n",
       "      <td>1300.000000</td>\n",
       "      <td>0.000000</td>\n",
       "      <td>1872.000000</td>\n",
       "      <td>1.000000</td>\n",
       "      <td>334.000000</td>\n",
       "      <td>0.000000</td>\n",
       "    </tr>\n",
       "    <tr>\n",
       "      <th>25%</th>\n",
       "      <td>129975.000000</td>\n",
       "      <td>7553.500000</td>\n",
       "      <td>0.000000</td>\n",
       "      <td>1954.000000</td>\n",
       "      <td>5.000000</td>\n",
       "      <td>1129.500000</td>\n",
       "      <td>0.000000</td>\n",
       "    </tr>\n",
       "    <tr>\n",
       "      <th>50%</th>\n",
       "      <td>163000.000000</td>\n",
       "      <td>9478.500000</td>\n",
       "      <td>0.000000</td>\n",
       "      <td>1973.000000</td>\n",
       "      <td>5.000000</td>\n",
       "      <td>1464.000000</td>\n",
       "      <td>1.000000</td>\n",
       "    </tr>\n",
       "    <tr>\n",
       "      <th>75%</th>\n",
       "      <td>214000.000000</td>\n",
       "      <td>11601.500000</td>\n",
       "      <td>0.000000</td>\n",
       "      <td>2000.000000</td>\n",
       "      <td>6.000000</td>\n",
       "      <td>1776.750000</td>\n",
       "      <td>1.000000</td>\n",
       "    </tr>\n",
       "    <tr>\n",
       "      <th>max</th>\n",
       "      <td>755000.000000</td>\n",
       "      <td>215245.000000</td>\n",
       "      <td>738.000000</td>\n",
       "      <td>2010.000000</td>\n",
       "      <td>9.000000</td>\n",
       "      <td>5642.000000</td>\n",
       "      <td>3.000000</td>\n",
       "    </tr>\n",
       "  </tbody>\n",
       "</table>\n",
       "</div>"
      ],
      "text/plain": [
       "           SalePrice        LotArea     PoolArea    YearBuilt  OverallCond  \\\n",
       "count    1460.000000    1460.000000  1460.000000  1460.000000  1460.000000   \n",
       "mean   180921.195890   10516.828082     2.758904  1971.267808     5.575342   \n",
       "std     79442.502883    9981.264932    40.177307    30.202904     1.112799   \n",
       "min     34900.000000    1300.000000     0.000000  1872.000000     1.000000   \n",
       "25%    129975.000000    7553.500000     0.000000  1954.000000     5.000000   \n",
       "50%    163000.000000    9478.500000     0.000000  1973.000000     5.000000   \n",
       "75%    214000.000000   11601.500000     0.000000  2000.000000     6.000000   \n",
       "max    755000.000000  215245.000000   738.000000  2010.000000     9.000000   \n",
       "\n",
       "         GrLivArea   Fireplaces  \n",
       "count  1460.000000  1460.000000  \n",
       "mean   1515.463699     0.613014  \n",
       "std     525.480383     0.644666  \n",
       "min     334.000000     0.000000  \n",
       "25%    1129.500000     0.000000  \n",
       "50%    1464.000000     1.000000  \n",
       "75%    1776.750000     1.000000  \n",
       "max    5642.000000     3.000000  "
      ]
     },
     "execution_count": 11,
     "metadata": {},
     "output_type": "execute_result"
    }
   ],
   "source": [
    "df. describe()"
   ]
  },
  {
   "cell_type": "code",
   "execution_count": null,
   "id": "017ea774-66cc-4af1-8376-e120bdaaee48",
   "metadata": {},
   "outputs": [],
   "source": [
    "#Ceny ok wielkosć działekwta maksynmalna jest dość duża to dziąłka rolna? PoolArea  widać, ze mało nieruchomości ma basen bo kwartyle sa 0, \n",
    "#lata budowy od 1872 do 2010 wydaja się ok. Overal condition jest skala od 1 do 10 wiec jest ok GrLivArea wydaje sie ok powierzchnia mieszkalna \n",
    "#Fireplaces też ok\n"
   ]
  },
  {
   "cell_type": "code",
   "execution_count": null,
   "id": "4b303678-61f2-446e-9395-0973ca8bdf6f",
   "metadata": {},
   "outputs": [],
   "source": [
    "#metoda describe na zmiennycht ypu object"
   ]
  },
  {
   "cell_type": "code",
   "execution_count": 13,
   "id": "f0d14874-472a-43b0-87c1-279565446c4d",
   "metadata": {},
   "outputs": [
    {
     "data": {
      "text/html": [
       "<div>\n",
       "<style scoped>\n",
       "    .dataframe tbody tr th:only-of-type {\n",
       "        vertical-align: middle;\n",
       "    }\n",
       "\n",
       "    .dataframe tbody tr th {\n",
       "        vertical-align: top;\n",
       "    }\n",
       "\n",
       "    .dataframe thead th {\n",
       "        text-align: right;\n",
       "    }\n",
       "</style>\n",
       "<table border=\"1\" class=\"dataframe\">\n",
       "  <thead>\n",
       "    <tr style=\"text-align: right;\">\n",
       "      <th></th>\n",
       "      <th>Heating</th>\n",
       "      <th>PavedDrive</th>\n",
       "    </tr>\n",
       "  </thead>\n",
       "  <tbody>\n",
       "    <tr>\n",
       "      <th>count</th>\n",
       "      <td>1460</td>\n",
       "      <td>1460</td>\n",
       "    </tr>\n",
       "    <tr>\n",
       "      <th>unique</th>\n",
       "      <td>6</td>\n",
       "      <td>3</td>\n",
       "    </tr>\n",
       "    <tr>\n",
       "      <th>top</th>\n",
       "      <td>GasA</td>\n",
       "      <td>Y</td>\n",
       "    </tr>\n",
       "    <tr>\n",
       "      <th>freq</th>\n",
       "      <td>1428</td>\n",
       "      <td>1340</td>\n",
       "    </tr>\n",
       "  </tbody>\n",
       "</table>\n",
       "</div>"
      ],
      "text/plain": [
       "       Heating PavedDrive\n",
       "count     1460       1460\n",
       "unique       6          3\n",
       "top       GasA          Y\n",
       "freq      1428       1340"
      ]
     },
     "execution_count": 13,
     "metadata": {},
     "output_type": "execute_result"
    }
   ],
   "source": [
    "df.describe(include=['O'])"
   ]
  },
  {
   "cell_type": "code",
   "execution_count": null,
   "id": "562a5693-83ff-416e-b236-eddf802e85eb",
   "metadata": {},
   "outputs": [],
   "source": [
    "#zmienne Heating i PavedDrive mają po 6 i 3 unikalne wartości. Nie ma braków danych"
   ]
  },
  {
   "cell_type": "code",
   "execution_count": null,
   "id": "b1463b07-b41e-4d99-bfa1-0ddec47631b2",
   "metadata": {},
   "outputs": [],
   "source": []
  },
  {
   "cell_type": "code",
   "execution_count": null,
   "id": "f7a37323-ca33-4e14-b2cf-fbf43f9bb44e",
   "metadata": {},
   "outputs": [],
   "source": [
    "#3. Analiza zmiennej celu SalePrice."
   ]
  },
  {
   "cell_type": "code",
   "execution_count": null,
   "id": "0c26dfef-e63b-4a93-a64f-c71d49296085",
   "metadata": {},
   "outputs": [],
   "source": []
  },
  {
   "cell_type": "code",
   "execution_count": null,
   "id": "2e96c5dd-23f6-41ef-8c9c-4d084f1f9178",
   "metadata": {},
   "outputs": [],
   "source": [
    "#Wykorzystujemy histplot z seaborn"
   ]
  },
  {
   "cell_type": "code",
   "execution_count": 15,
   "id": "6f7034ce-79c7-4cb9-aa66-653907ed3ef1",
   "metadata": {},
   "outputs": [
    {
     "name": "stderr",
     "output_type": "stream",
     "text": [
      "C:\\Anaconda\\Lib\\site-packages\\seaborn\\_oldcore.py:1119: FutureWarning: use_inf_as_na option is deprecated and will be removed in a future version. Convert inf values to NaN before operating instead.\n",
      "  with pd.option_context('mode.use_inf_as_na', True):\n"
     ]
    },
    {
     "data": {
      "text/plain": [
       "<Axes: xlabel='SalePrice', ylabel='Count'>"
      ]
     },
     "execution_count": 15,
     "metadata": {},
     "output_type": "execute_result"
    },
    {
     "data": {
      "image/png": "[encoded data removed]",
      "text/plain": [
       "<Figure size 640x480 with 1 Axes>"
      ]
     },
     "metadata": {},
     "output_type": "display_data"
    }
   ],
   "source": [
    "sns.histplot(df['SalePrice'])"
   ]
  },
  {
   "cell_type": "code",
   "execution_count": null,
   "id": "0d8c697e-2d06-46cd-93ce-816e5e78f3bf",
   "metadata": {},
   "outputs": [],
   "source": [
    "#najwieksza wartośc skupia siena poczatku rozkładu. mamy rozkład lekko skośny z prawej strony(ogon) po 700000 mamy duże odtające wartosci"
   ]
  },
  {
   "cell_type": "code",
   "execution_count": null,
   "id": "e8c998e3-c068-43dc-8946-5eebc5e69660",
   "metadata": {},
   "outputs": [],
   "source": []
  },
  {
   "cell_type": "code",
   "execution_count": null,
   "id": "9fa60dcd-8d14-4546-9356-c74802b61bef",
   "metadata": {},
   "outputs": [],
   "source": [
    "#4.Zmienna celu a zmienne jakosciowe"
   ]
  },
  {
   "cell_type": "code",
   "execution_count": null,
   "id": "6ca84090-e241-435f-8954-cf097ad1140d",
   "metadata": {},
   "outputs": [],
   "source": []
  },
  {
   "cell_type": "code",
   "execution_count": null,
   "id": "3e7ee2c6-c1ee-4afe-95cf-c8747e9cc690",
   "metadata": {},
   "outputs": [],
   "source": [
    "#które zmienne róznicuja zmienną celu"
   ]
  },
  {
   "cell_type": "code",
   "execution_count": null,
   "id": "5371b729-a584-4eac-904d-185356eb20bd",
   "metadata": {},
   "outputs": [],
   "source": [
    "#Heating od SalePrice "
   ]
  },
  {
   "cell_type": "code",
   "execution_count": null,
   "id": "a8fe596f-7c7d-458c-8024-194d2312eb46",
   "metadata": {},
   "outputs": [],
   "source": [
    "#grupowanei zewzględu na zmienna jakosciowa Heating od SalePrice. Bedę wyliczać średnią i sortowac rosnąco"
   ]
  },
  {
   "cell_type": "code",
   "execution_count": 17,
   "id": "0b628e4a-08b8-4a3a-a74d-f653a34420c5",
   "metadata": {},
   "outputs": [
    {
     "data": {
      "text/plain": [
       "Heating\n",
       "Floor     72500.000000\n",
       "Grav      75271.428571\n",
       "Wall      92100.000000\n",
       "OthW     125750.000000\n",
       "GasW     166632.166667\n",
       "GasA     182021.195378\n",
       "Name: SalePrice, dtype: float64"
      ]
     },
     "execution_count": 17,
     "metadata": {},
     "output_type": "execute_result"
    }
   ],
   "source": [
    "df.groupby('Heating')['SalePrice'].mean().sort_values(ascending=True)"
   ]
  },
  {
   "cell_type": "code",
   "execution_count": null,
   "id": "f7735825-6db9-4a38-85e7-eb30472ccf78",
   "metadata": {},
   "outputs": [],
   "source": [
    "#najniża wartośc nieruchomosci przy ogrzewaniu floor a najdroższa gazowe."
   ]
  },
  {
   "cell_type": "code",
   "execution_count": null,
   "id": "04bf288c-abbc-487f-b82c-3c2c3a945f9b",
   "metadata": {},
   "outputs": [],
   "source": [
    "#jak kształtuje sie zmienna heating liczebności kategorii ogrzewania"
   ]
  },
  {
   "cell_type": "code",
   "execution_count": 18,
   "id": "bc146cf9-8d1e-4ca1-aea2-1baae5b1e623",
   "metadata": {},
   "outputs": [
    {
     "data": {
      "text/plain": [
       "Heating\n",
       "GasA     1428\n",
       "GasW       18\n",
       "Grav        7\n",
       "Wall        4\n",
       "OthW        2\n",
       "Floor       1\n",
       "Name: count, dtype: int64"
      ]
     },
     "execution_count": 18,
     "metadata": {},
     "output_type": "execute_result"
    }
   ],
   "source": [
    "df['Heating'].value_counts()"
   ]
  },
  {
   "cell_type": "code",
   "execution_count": null,
   "id": "335e6302-6060-464e-b5aa-89c68face9a6",
   "metadata": {},
   "outputs": [],
   "source": [
    "#gazowe jest duże a reszta malo liczbna"
   ]
  },
  {
   "cell_type": "code",
   "execution_count": null,
   "id": "b2cf1bbf-0728-43f3-a1b7-27bfa9eeed5f",
   "metadata": {},
   "outputs": [],
   "source": [
    "#liczebnosi pozostały metod ogrzewania są niskie wiec można je wrzucić do other lub czegopodobnego."
   ]
  },
  {
   "cell_type": "code",
   "execution_count": null,
   "id": "a346835f-3135-4ea8-838f-992e21fea494",
   "metadata": {},
   "outputs": [],
   "source": [
    "#grupowanei zewzględu na zmienna jakosciowa PavedDrive od SalePrice. Bedę wyliczać średnią i sortowac rosnąco"
   ]
  },
  {
   "cell_type": "code",
   "execution_count": 20,
   "id": "3edaaed0-2628-41f2-8c07-d8d94502856f",
   "metadata": {},
   "outputs": [
    {
     "data": {
      "text/plain": [
       "PavedDrive\n",
       "N    115039.122222\n",
       "P    132330.000000\n",
       "Y    186433.973881\n",
       "Name: SalePrice, dtype: float64"
      ]
     },
     "execution_count": 20,
     "metadata": {},
     "output_type": "execute_result"
    }
   ],
   "source": [
    "df.groupby('PavedDrive')['SalePrice'].mean().sort_values(ascending=True)"
   ]
  },
  {
   "cell_type": "code",
   "execution_count": null,
   "id": "4e296de0-ab75-4458-9b62-fa8aa904cef4",
   "metadata": {},
   "outputs": [],
   "source": [
    "#Y-yes N-no P 3cia kat ?"
   ]
  },
  {
   "cell_type": "code",
   "execution_count": null,
   "id": "b85c4e78-189f-4997-84d1-64d270d22da0",
   "metadata": {},
   "outputs": [],
   "source": [
    "#Dla brukowanego podjazdu średnia cena jet najwyższa: Y    186433.973881"
   ]
  },
  {
   "cell_type": "code",
   "execution_count": 21,
   "id": "a61628f4-4300-4199-8437-05a7182b858c",
   "metadata": {},
   "outputs": [
    {
     "data": {
      "text/plain": [
       "PavedDrive\n",
       "Y    1340\n",
       "N      90\n",
       "P      30\n",
       "Name: count, dtype: int64"
      ]
     },
     "execution_count": 21,
     "metadata": {},
     "output_type": "execute_result"
    }
   ],
   "source": [
    "df['PavedDrive'].value_counts()"
   ]
  },
  {
   "cell_type": "code",
   "execution_count": null,
   "id": "5b75704d-e3db-47c2-906c-cd41bdacbe26",
   "metadata": {},
   "outputs": [],
   "source": [
    "#tak jak wyżej pierwsza jest najwbardziej liczna kategorią"
   ]
  },
  {
   "cell_type": "code",
   "execution_count": null,
   "id": "4d94bb78-ea11-4490-8612-3934c37e2e64",
   "metadata": {},
   "outputs": [],
   "source": [
    "#OverallCondzmienna która mozemyt raktować jakościową bo ma kilka kategorii ale też ilościowa bo ułożenie ma sens i sa uporzadkowane w okreslonej kolejnosci"
   ]
  },
  {
   "cell_type": "code",
   "execution_count": 22,
   "id": "10ca0f17-4e10-4e36-b45e-50bee001a2e4",
   "metadata": {},
   "outputs": [
    {
     "data": {
      "text/plain": [
       "OverallCond\n",
       "1     61000.000000\n",
       "3    101929.400000\n",
       "4    120438.438596\n",
       "2    141986.400000\n",
       "6    153961.591270\n",
       "8    155651.736111\n",
       "7    158145.487805\n",
       "5    203146.914738\n",
       "9    216004.545455\n",
       "Name: SalePrice, dtype: float64"
      ]
     },
     "execution_count": 22,
     "metadata": {},
     "output_type": "execute_result"
    }
   ],
   "source": [
    "df.groupby('OverallCond')['SalePrice'].mean().sort_values(ascending=True)"
   ]
  },
  {
   "cell_type": "code",
   "execution_count": null,
   "id": "93064ffb-a9f4-4510-9fea-edff23783b3d",
   "metadata": {},
   "outputs": [],
   "source": [
    "#im wartość większa tym cena rosnie "
   ]
  },
  {
   "cell_type": "code",
   "execution_count": 23,
   "id": "fe6c6807-bb9a-4c23-a420-4c5eafe14a4e",
   "metadata": {},
   "outputs": [
    {
     "data": {
      "text/plain": [
       "OverallCond\n",
       "5    821\n",
       "6    252\n",
       "7    205\n",
       "8     72\n",
       "4     57\n",
       "3     25\n",
       "9     22\n",
       "2      5\n",
       "1      1\n",
       "Name: count, dtype: int64"
      ]
     },
     "execution_count": 23,
     "metadata": {},
     "output_type": "execute_result"
    }
   ],
   "source": [
    "df['OverallCond'].value_counts()"
   ]
  },
  {
   "cell_type": "code",
   "execution_count": null,
   "id": "9c428d35-5806-49fb-8415-54c16a0071d6",
   "metadata": {},
   "outputs": [],
   "source": [
    "#traktujemy ją jak inne zmienne jakosciowe"
   ]
  },
  {
   "cell_type": "code",
   "execution_count": null,
   "id": "5e495a7c-b470-416a-8a57-70880f625868",
   "metadata": {},
   "outputs": [],
   "source": [
    "#df.drop(['Heating'],axis=1, inplace=True)"
   ]
  },
  {
   "cell_type": "code",
   "execution_count": null,
   "id": "71e966eb-5af8-4d45-be9b-69a52f537858",
   "metadata": {},
   "outputs": [],
   "source": []
  },
  {
   "cell_type": "code",
   "execution_count": null,
   "id": "f312dc02-36e4-44ab-8e7d-f25d06e4c5f6",
   "metadata": {},
   "outputs": [],
   "source": [
    "#5 Zmienne ilosciowe"
   ]
  },
  {
   "cell_type": "code",
   "execution_count": null,
   "id": "d3cd32f4-bc46-4397-975c-28a66a4981b8",
   "metadata": {},
   "outputs": [],
   "source": []
  },
  {
   "cell_type": "code",
   "execution_count": null,
   "id": "c21273a1-4472-4ae6-aceb-ad73e23654cb",
   "metadata": {},
   "outputs": [],
   "source": [
    "#przedstawimy korelacje meidzy tymi zmiennymi"
   ]
  },
  {
   "cell_type": "code",
   "execution_count": 50,
   "id": "3bd5f9b9-1ddf-46bb-b370-3306543d4a5a",
   "metadata": {},
   "outputs": [
    {
     "data": {
      "text/html": [
       "<div>\n",
       "<style scoped>\n",
       "    .dataframe tbody tr th:only-of-type {\n",
       "        vertical-align: middle;\n",
       "    }\n",
       "\n",
       "    .dataframe tbody tr th {\n",
       "        vertical-align: top;\n",
       "    }\n",
       "\n",
       "    .dataframe thead th {\n",
       "        text-align: right;\n",
       "    }\n",
       "</style>\n",
       "<table border=\"1\" class=\"dataframe\">\n",
       "  <thead>\n",
       "    <tr style=\"text-align: right;\">\n",
       "      <th></th>\n",
       "      <th>SalePrice</th>\n",
       "      <th>LotArea</th>\n",
       "      <th>PoolArea</th>\n",
       "      <th>YearBuilt</th>\n",
       "      <th>OverallCond</th>\n",
       "      <th>GrLivArea</th>\n",
       "      <th>Fireplaces</th>\n",
       "    </tr>\n",
       "  </thead>\n",
       "  <tbody>\n",
       "    <tr>\n",
       "      <th>0</th>\n",
       "      <td>208500</td>\n",
       "      <td>8450</td>\n",
       "      <td>0</td>\n",
       "      <td>2003</td>\n",
       "      <td>5</td>\n",
       "      <td>1710</td>\n",
       "      <td>0</td>\n",
       "    </tr>\n",
       "    <tr>\n",
       "      <th>1</th>\n",
       "      <td>181500</td>\n",
       "      <td>9600</td>\n",
       "      <td>0</td>\n",
       "      <td>1976</td>\n",
       "      <td>8</td>\n",
       "      <td>1262</td>\n",
       "      <td>1</td>\n",
       "    </tr>\n",
       "    <tr>\n",
       "      <th>2</th>\n",
       "      <td>223500</td>\n",
       "      <td>11250</td>\n",
       "      <td>0</td>\n",
       "      <td>2001</td>\n",
       "      <td>5</td>\n",
       "      <td>1786</td>\n",
       "      <td>1</td>\n",
       "    </tr>\n",
       "    <tr>\n",
       "      <th>3</th>\n",
       "      <td>140000</td>\n",
       "      <td>9550</td>\n",
       "      <td>0</td>\n",
       "      <td>1915</td>\n",
       "      <td>5</td>\n",
       "      <td>1717</td>\n",
       "      <td>1</td>\n",
       "    </tr>\n",
       "    <tr>\n",
       "      <th>4</th>\n",
       "      <td>250000</td>\n",
       "      <td>14260</td>\n",
       "      <td>0</td>\n",
       "      <td>2000</td>\n",
       "      <td>5</td>\n",
       "      <td>2198</td>\n",
       "      <td>1</td>\n",
       "    </tr>\n",
       "    <tr>\n",
       "      <th>...</th>\n",
       "      <td>...</td>\n",
       "      <td>...</td>\n",
       "      <td>...</td>\n",
       "      <td>...</td>\n",
       "      <td>...</td>\n",
       "      <td>...</td>\n",
       "      <td>...</td>\n",
       "    </tr>\n",
       "    <tr>\n",
       "      <th>1455</th>\n",
       "      <td>175000</td>\n",
       "      <td>7917</td>\n",
       "      <td>0</td>\n",
       "      <td>1999</td>\n",
       "      <td>5</td>\n",
       "      <td>1647</td>\n",
       "      <td>1</td>\n",
       "    </tr>\n",
       "    <tr>\n",
       "      <th>1456</th>\n",
       "      <td>210000</td>\n",
       "      <td>13175</td>\n",
       "      <td>0</td>\n",
       "      <td>1978</td>\n",
       "      <td>6</td>\n",
       "      <td>2073</td>\n",
       "      <td>2</td>\n",
       "    </tr>\n",
       "    <tr>\n",
       "      <th>1457</th>\n",
       "      <td>266500</td>\n",
       "      <td>9042</td>\n",
       "      <td>0</td>\n",
       "      <td>1941</td>\n",
       "      <td>9</td>\n",
       "      <td>2340</td>\n",
       "      <td>2</td>\n",
       "    </tr>\n",
       "    <tr>\n",
       "      <th>1458</th>\n",
       "      <td>142125</td>\n",
       "      <td>9717</td>\n",
       "      <td>0</td>\n",
       "      <td>1950</td>\n",
       "      <td>6</td>\n",
       "      <td>1078</td>\n",
       "      <td>0</td>\n",
       "    </tr>\n",
       "    <tr>\n",
       "      <th>1459</th>\n",
       "      <td>147500</td>\n",
       "      <td>9937</td>\n",
       "      <td>0</td>\n",
       "      <td>1965</td>\n",
       "      <td>6</td>\n",
       "      <td>1256</td>\n",
       "      <td>0</td>\n",
       "    </tr>\n",
       "  </tbody>\n",
       "</table>\n",
       "<p>1460 rows × 7 columns</p>\n",
       "</div>"
      ],
      "text/plain": [
       "      SalePrice  LotArea  PoolArea  YearBuilt  OverallCond  GrLivArea  \\\n",
       "0        208500     8450         0       2003            5       1710   \n",
       "1        181500     9600         0       1976            8       1262   \n",
       "2        223500    11250         0       2001            5       1786   \n",
       "3        140000     9550         0       1915            5       1717   \n",
       "4        250000    14260         0       2000            5       2198   \n",
       "...         ...      ...       ...        ...          ...        ...   \n",
       "1455     175000     7917         0       1999            5       1647   \n",
       "1456     210000    13175         0       1978            6       2073   \n",
       "1457     266500     9042         0       1941            9       2340   \n",
       "1458     142125     9717         0       1950            6       1078   \n",
       "1459     147500     9937         0       1965            6       1256   \n",
       "\n",
       "      Fireplaces  \n",
       "0              0  \n",
       "1              1  \n",
       "2              1  \n",
       "3              1  \n",
       "4              1  \n",
       "...          ...  \n",
       "1455           1  \n",
       "1456           2  \n",
       "1457           2  \n",
       "1458           0  \n",
       "1459           0  \n",
       "\n",
       "[1460 rows x 7 columns]"
      ]
     },
     "execution_count": 50,
     "metadata": {},
     "output_type": "execute_result"
    }
   ],
   "source": [
    "df4=df\n",
    "df4"
   ]
  },
  {
   "cell_type": "code",
   "execution_count": null,
   "id": "8c9eaa41-798f-4e39-802d-509963f11799",
   "metadata": {},
   "outputs": [],
   "source": [
    "#Usuwamy stringi bo korelacje moge zrobić między danymi liczbowymi"
   ]
  },
  {
   "cell_type": "code",
   "execution_count": 42,
   "id": "e93a1567-3c68-447c-b066-f6dec4c05a50",
   "metadata": {},
   "outputs": [],
   "source": [
    "df4.drop(['Heating', 'PavedDrive'], axis=1, inplace=True)"
   ]
  },
  {
   "cell_type": "code",
   "execution_count": 43,
   "id": "96fba7c2-f754-429c-9368-09ed7dc8c181",
   "metadata": {},
   "outputs": [
    {
     "data": {
      "text/html": [
       "<div>\n",
       "<style scoped>\n",
       "    .dataframe tbody tr th:only-of-type {\n",
       "        vertical-align: middle;\n",
       "    }\n",
       "\n",
       "    .dataframe tbody tr th {\n",
       "        vertical-align: top;\n",
       "    }\n",
       "\n",
       "    .dataframe thead th {\n",
       "        text-align: right;\n",
       "    }\n",
       "</style>\n",
       "<table border=\"1\" class=\"dataframe\">\n",
       "  <thead>\n",
       "    <tr style=\"text-align: right;\">\n",
       "      <th></th>\n",
       "      <th>Unnamed: 0</th>\n",
       "      <th>SalePrice</th>\n",
       "      <th>LotArea</th>\n",
       "      <th>PoolArea</th>\n",
       "      <th>YearBuilt</th>\n",
       "      <th>OverallCond</th>\n",
       "      <th>GrLivArea</th>\n",
       "      <th>Fireplaces</th>\n",
       "    </tr>\n",
       "  </thead>\n",
       "  <tbody>\n",
       "    <tr>\n",
       "      <th>0</th>\n",
       "      <td>0</td>\n",
       "      <td>208500</td>\n",
       "      <td>8450</td>\n",
       "      <td>0</td>\n",
       "      <td>2003</td>\n",
       "      <td>5</td>\n",
       "      <td>1710</td>\n",
       "      <td>0</td>\n",
       "    </tr>\n",
       "    <tr>\n",
       "      <th>1</th>\n",
       "      <td>1</td>\n",
       "      <td>181500</td>\n",
       "      <td>9600</td>\n",
       "      <td>0</td>\n",
       "      <td>1976</td>\n",
       "      <td>8</td>\n",
       "      <td>1262</td>\n",
       "      <td>1</td>\n",
       "    </tr>\n",
       "    <tr>\n",
       "      <th>2</th>\n",
       "      <td>2</td>\n",
       "      <td>223500</td>\n",
       "      <td>11250</td>\n",
       "      <td>0</td>\n",
       "      <td>2001</td>\n",
       "      <td>5</td>\n",
       "      <td>1786</td>\n",
       "      <td>1</td>\n",
       "    </tr>\n",
       "    <tr>\n",
       "      <th>3</th>\n",
       "      <td>3</td>\n",
       "      <td>140000</td>\n",
       "      <td>9550</td>\n",
       "      <td>0</td>\n",
       "      <td>1915</td>\n",
       "      <td>5</td>\n",
       "      <td>1717</td>\n",
       "      <td>1</td>\n",
       "    </tr>\n",
       "    <tr>\n",
       "      <th>4</th>\n",
       "      <td>4</td>\n",
       "      <td>250000</td>\n",
       "      <td>14260</td>\n",
       "      <td>0</td>\n",
       "      <td>2000</td>\n",
       "      <td>5</td>\n",
       "      <td>2198</td>\n",
       "      <td>1</td>\n",
       "    </tr>\n",
       "    <tr>\n",
       "      <th>...</th>\n",
       "      <td>...</td>\n",
       "      <td>...</td>\n",
       "      <td>...</td>\n",
       "      <td>...</td>\n",
       "      <td>...</td>\n",
       "      <td>...</td>\n",
       "      <td>...</td>\n",
       "      <td>...</td>\n",
       "    </tr>\n",
       "    <tr>\n",
       "      <th>1455</th>\n",
       "      <td>1455</td>\n",
       "      <td>175000</td>\n",
       "      <td>7917</td>\n",
       "      <td>0</td>\n",
       "      <td>1999</td>\n",
       "      <td>5</td>\n",
       "      <td>1647</td>\n",
       "      <td>1</td>\n",
       "    </tr>\n",
       "    <tr>\n",
       "      <th>1456</th>\n",
       "      <td>1456</td>\n",
       "      <td>210000</td>\n",
       "      <td>13175</td>\n",
       "      <td>0</td>\n",
       "      <td>1978</td>\n",
       "      <td>6</td>\n",
       "      <td>2073</td>\n",
       "      <td>2</td>\n",
       "    </tr>\n",
       "    <tr>\n",
       "      <th>1457</th>\n",
       "      <td>1457</td>\n",
       "      <td>266500</td>\n",
       "      <td>9042</td>\n",
       "      <td>0</td>\n",
       "      <td>1941</td>\n",
       "      <td>9</td>\n",
       "      <td>2340</td>\n",
       "      <td>2</td>\n",
       "    </tr>\n",
       "    <tr>\n",
       "      <th>1458</th>\n",
       "      <td>1458</td>\n",
       "      <td>142125</td>\n",
       "      <td>9717</td>\n",
       "      <td>0</td>\n",
       "      <td>1950</td>\n",
       "      <td>6</td>\n",
       "      <td>1078</td>\n",
       "      <td>0</td>\n",
       "    </tr>\n",
       "    <tr>\n",
       "      <th>1459</th>\n",
       "      <td>1459</td>\n",
       "      <td>147500</td>\n",
       "      <td>9937</td>\n",
       "      <td>0</td>\n",
       "      <td>1965</td>\n",
       "      <td>6</td>\n",
       "      <td>1256</td>\n",
       "      <td>0</td>\n",
       "    </tr>\n",
       "  </tbody>\n",
       "</table>\n",
       "<p>1460 rows × 8 columns</p>\n",
       "</div>"
      ],
      "text/plain": [
       "      Unnamed: 0  SalePrice  LotArea  PoolArea  YearBuilt  OverallCond  \\\n",
       "0              0     208500     8450         0       2003            5   \n",
       "1              1     181500     9600         0       1976            8   \n",
       "2              2     223500    11250         0       2001            5   \n",
       "3              3     140000     9550         0       1915            5   \n",
       "4              4     250000    14260         0       2000            5   \n",
       "...          ...        ...      ...       ...        ...          ...   \n",
       "1455        1455     175000     7917         0       1999            5   \n",
       "1456        1456     210000    13175         0       1978            6   \n",
       "1457        1457     266500     9042         0       1941            9   \n",
       "1458        1458     142125     9717         0       1950            6   \n",
       "1459        1459     147500     9937         0       1965            6   \n",
       "\n",
       "      GrLivArea  Fireplaces  \n",
       "0          1710           0  \n",
       "1          1262           1  \n",
       "2          1786           1  \n",
       "3          1717           1  \n",
       "4          2198           1  \n",
       "...         ...         ...  \n",
       "1455       1647           1  \n",
       "1456       2073           2  \n",
       "1457       2340           2  \n",
       "1458       1078           0  \n",
       "1459       1256           0  \n",
       "\n",
       "[1460 rows x 8 columns]"
      ]
     },
     "execution_count": 43,
     "metadata": {},
     "output_type": "execute_result"
    }
   ],
   "source": [
    "df4"
   ]
  },
  {
   "cell_type": "code",
   "execution_count": null,
   "id": "097f657a-a679-4309-bd04-0e7945071ccb",
   "metadata": {},
   "outputs": [],
   "source": [
    "#wyznaczam korelacje miedzy zmiennymi"
   ]
  },
  {
   "cell_type": "code",
   "execution_count": 51,
   "id": "f3526709-60e3-4fd5-8785-bd034c2822fb",
   "metadata": {},
   "outputs": [
    {
     "data": {
      "text/html": [
       "<div>\n",
       "<style scoped>\n",
       "    .dataframe tbody tr th:only-of-type {\n",
       "        vertical-align: middle;\n",
       "    }\n",
       "\n",
       "    .dataframe tbody tr th {\n",
       "        vertical-align: top;\n",
       "    }\n",
       "\n",
       "    .dataframe thead th {\n",
       "        text-align: right;\n",
       "    }\n",
       "</style>\n",
       "<table border=\"1\" class=\"dataframe\">\n",
       "  <thead>\n",
       "    <tr style=\"text-align: right;\">\n",
       "      <th></th>\n",
       "      <th>SalePrice</th>\n",
       "      <th>LotArea</th>\n",
       "      <th>PoolArea</th>\n",
       "      <th>YearBuilt</th>\n",
       "      <th>OverallCond</th>\n",
       "      <th>GrLivArea</th>\n",
       "      <th>Fireplaces</th>\n",
       "    </tr>\n",
       "  </thead>\n",
       "  <tbody>\n",
       "    <tr>\n",
       "      <th>SalePrice</th>\n",
       "      <td>1.000000</td>\n",
       "      <td>0.263843</td>\n",
       "      <td>0.092404</td>\n",
       "      <td>0.522897</td>\n",
       "      <td>-0.077856</td>\n",
       "      <td>0.708624</td>\n",
       "      <td>0.466929</td>\n",
       "    </tr>\n",
       "    <tr>\n",
       "      <th>LotArea</th>\n",
       "      <td>0.263843</td>\n",
       "      <td>1.000000</td>\n",
       "      <td>0.077672</td>\n",
       "      <td>0.014228</td>\n",
       "      <td>-0.005636</td>\n",
       "      <td>0.263116</td>\n",
       "      <td>0.271364</td>\n",
       "    </tr>\n",
       "    <tr>\n",
       "      <th>PoolArea</th>\n",
       "      <td>0.092404</td>\n",
       "      <td>0.077672</td>\n",
       "      <td>1.000000</td>\n",
       "      <td>0.004950</td>\n",
       "      <td>-0.001985</td>\n",
       "      <td>0.170205</td>\n",
       "      <td>0.095074</td>\n",
       "    </tr>\n",
       "    <tr>\n",
       "      <th>YearBuilt</th>\n",
       "      <td>0.522897</td>\n",
       "      <td>0.014228</td>\n",
       "      <td>0.004950</td>\n",
       "      <td>1.000000</td>\n",
       "      <td>-0.375983</td>\n",
       "      <td>0.199010</td>\n",
       "      <td>0.147716</td>\n",
       "    </tr>\n",
       "    <tr>\n",
       "      <th>OverallCond</th>\n",
       "      <td>-0.077856</td>\n",
       "      <td>-0.005636</td>\n",
       "      <td>-0.001985</td>\n",
       "      <td>-0.375983</td>\n",
       "      <td>1.000000</td>\n",
       "      <td>-0.079686</td>\n",
       "      <td>-0.023820</td>\n",
       "    </tr>\n",
       "    <tr>\n",
       "      <th>GrLivArea</th>\n",
       "      <td>0.708624</td>\n",
       "      <td>0.263116</td>\n",
       "      <td>0.170205</td>\n",
       "      <td>0.199010</td>\n",
       "      <td>-0.079686</td>\n",
       "      <td>1.000000</td>\n",
       "      <td>0.461679</td>\n",
       "    </tr>\n",
       "    <tr>\n",
       "      <th>Fireplaces</th>\n",
       "      <td>0.466929</td>\n",
       "      <td>0.271364</td>\n",
       "      <td>0.095074</td>\n",
       "      <td>0.147716</td>\n",
       "      <td>-0.023820</td>\n",
       "      <td>0.461679</td>\n",
       "      <td>1.000000</td>\n",
       "    </tr>\n",
       "  </tbody>\n",
       "</table>\n",
       "</div>"
      ],
      "text/plain": [
       "             SalePrice   LotArea  PoolArea  YearBuilt  OverallCond  GrLivArea  \\\n",
       "SalePrice     1.000000  0.263843  0.092404   0.522897    -0.077856   0.708624   \n",
       "LotArea       0.263843  1.000000  0.077672   0.014228    -0.005636   0.263116   \n",
       "PoolArea      0.092404  0.077672  1.000000   0.004950    -0.001985   0.170205   \n",
       "YearBuilt     0.522897  0.014228  0.004950   1.000000    -0.375983   0.199010   \n",
       "OverallCond  -0.077856 -0.005636 -0.001985  -0.375983     1.000000  -0.079686   \n",
       "GrLivArea     0.708624  0.263116  0.170205   0.199010    -0.079686   1.000000   \n",
       "Fireplaces    0.466929  0.271364  0.095074   0.147716    -0.023820   0.461679   \n",
       "\n",
       "             Fireplaces  \n",
       "SalePrice      0.466929  \n",
       "LotArea        0.271364  \n",
       "PoolArea       0.095074  \n",
       "YearBuilt      0.147716  \n",
       "OverallCond   -0.023820  \n",
       "GrLivArea      0.461679  \n",
       "Fireplaces     1.000000  "
      ]
     },
     "execution_count": 51,
     "metadata": {},
     "output_type": "execute_result"
    }
   ],
   "source": [
    "df4.corr()"
   ]
  },
  {
   "cell_type": "code",
   "execution_count": null,
   "id": "7030982e-d77c-4c17-bd63-43af60340903",
   "metadata": {},
   "outputs": [],
   "source": [
    "#tak się nie da bo trzeba zamienic tekstowe dane lub je wciąc...."
   ]
  },
  {
   "cell_type": "code",
   "execution_count": null,
   "id": "7a5fadb5-be8b-4428-94d3-f226e16b8a11",
   "metadata": {},
   "outputs": [],
   "source": [
    "#mapa ciepła"
   ]
  },
  {
   "cell_type": "code",
   "execution_count": 52,
   "id": "0d1919c4-83e9-4845-8275-dae17eb67017",
   "metadata": {},
   "outputs": [
    {
     "data": {
      "text/plain": [
       "<Axes: >"
      ]
     },
     "execution_count": 52,
     "metadata": {},
     "output_type": "execute_result"
    },
    {
     "data": {
      "image/png": "[encoded data removed]",
      "text/plain": [
       "<Figure size 640x480 with 2 Axes>"
      ]
     },
     "metadata": {},
     "output_type": "display_data"
    }
   ],
   "source": [
    "sns.heatmap(df4.corr(), annot=True)"
   ]
  },
  {
   "cell_type": "code",
   "execution_count": 53,
   "id": "72432cb7-34ae-417d-94d5-948d9aec41d2",
   "metadata": {},
   "outputs": [
    {
     "data": {
      "image/png": "[encoded data removed]",
      "text/plain": [
       "<Figure size 640x480 with 2 Axes>"
      ]
     },
     "metadata": {},
     "output_type": "display_data"
    }
   ],
   "source": [
    "sns.heatmap(df4.corr(), annot=True)\n",
    "plt.show()"
   ]
  },
  {
   "cell_type": "code",
   "execution_count": 36,
   "id": "4ddd3f6f-671b-4b04-9a91-32bb7da72611",
   "metadata": {},
   "outputs": [],
   "source": [
    "#Korleacje dodatnie. SalePrice najbardziej koreluje z GrLivArea 0,71 rośnie metraż rśnei cena normalna korelacja. "
   ]
  },
  {
   "cell_type": "code",
   "execution_count": null,
   "id": "716b6d22-65dd-4fc9-92cd-67fed74db31c",
   "metadata": {},
   "outputs": [],
   "source": [
    "#Korleacje dodatnie. Rok budowy w mairę nwoa neiruchomosc droższa od starszej"
   ]
  },
  {
   "cell_type": "code",
   "execution_count": null,
   "id": "f38a4fa9-d460-4b95-840b-6808817ce5a4",
   "metadata": {},
   "outputs": [],
   "source": [
    "#Korleacje dodatnie. liczba kominków czyli liczba pokoi też im wiecej tym cena wyzsza"
   ]
  },
  {
   "cell_type": "code",
   "execution_count": null,
   "id": "b1024cfb-f5cb-459b-978f-f6f4bd698db1",
   "metadata": {},
   "outputs": [],
   "source": [
    "#Sprawdzamy korelacje miedzy SalePrrice a GrLivArea za pomoca wykresu rozrzutu"
   ]
  },
  {
   "cell_type": "code",
   "execution_count": 54,
   "id": "899c2b2d-6ea3-465e-98b2-58161f893845",
   "metadata": {},
   "outputs": [
    {
     "data": {
      "image/png": "[encoded data removed]",
      "text/plain": [
       "<Figure size 640x480 with 1 Axes>"
      ]
     },
     "metadata": {},
     "output_type": "display_data"
    }
   ],
   "source": [
    "sns.scatterplot(x='GrLivArea', y='SalePrice',data=df4)\n",
    "plt.show()"
   ]
  },
  {
   "cell_type": "code",
   "execution_count": null,
   "id": "24bc7d69-b2dd-4b51-872d-794908048aa8",
   "metadata": {},
   "outputs": [],
   "source": [
    "#scena nieruchomości rośnie z jej rozmiarem"
   ]
  },
  {
   "cell_type": "code",
   "execution_count": null,
   "id": "1abacf49-c272-4f51-b4f5-51d9e29f4f80",
   "metadata": {},
   "outputs": [],
   "source": []
  },
  {
   "cell_type": "code",
   "execution_count": null,
   "id": "a294649f-a887-43f0-a3a0-03460421f384",
   "metadata": {},
   "outputs": [],
   "source": [
    "#Zmienne ilościowe rozkład -zmienne numeryczne objasniające"
   ]
  },
  {
   "cell_type": "code",
   "execution_count": 69,
   "id": "684cb2cb-37ad-4a9e-b701-f819d6c03198",
   "metadata": {},
   "outputs": [],
   "source": [
    "nums = ['LotArea', 'PoolArea', 'GrLivArea', 'YearBuilt' ]"
   ]
  },
  {
   "cell_type": "code",
   "execution_count": 70,
   "id": "51279385-9f91-4920-bed7-8a79a296a95b",
   "metadata": {},
   "outputs": [
    {
     "name": "stderr",
     "output_type": "stream",
     "text": [
      "C:\\Anaconda\\Lib\\site-packages\\seaborn\\_oldcore.py:1119: FutureWarning: use_inf_as_na option is deprecated and will be removed in a future version. Convert inf values to NaN before operating instead.\n",
      "  with pd.option_context('mode.use_inf_as_na', True):\n"
     ]
    },
    {
     "data": {
      "image/png": "[encoded data removed]",
      "text/plain": [
       "<Figure size 640x480 with 1 Axes>"
      ]
     },
     "metadata": {},
     "output_type": "display_data"
    },
    {
     "name": "stdout",
     "output_type": "stream",
     "text": [
      " \n"
     ]
    },
    {
     "name": "stderr",
     "output_type": "stream",
     "text": [
      "C:\\Anaconda\\Lib\\site-packages\\seaborn\\_oldcore.py:1119: FutureWarning: use_inf_as_na option is deprecated and will be removed in a future version. Convert inf values to NaN before operating instead.\n",
      "  with pd.option_context('mode.use_inf_as_na', True):\n"
     ]
    },
    {
     "data": {
      "image/png": "[encoded data removed]",
      "text/plain": [
       "<Figure size 640x480 with 1 Axes>"
      ]
     },
     "metadata": {},
     "output_type": "display_data"
    },
    {
     "name": "stdout",
     "output_type": "stream",
     "text": [
      " \n"
     ]
    },
    {
     "name": "stderr",
     "output_type": "stream",
     "text": [
      "C:\\Anaconda\\Lib\\site-packages\\seaborn\\_oldcore.py:1119: FutureWarning: use_inf_as_na option is deprecated and will be removed in a future version. Convert inf values to NaN before operating instead.\n",
      "  with pd.option_context('mode.use_inf_as_na', True):\n"
     ]
    },
    {
     "data": {
      "image/png": "[encoded data removed]",
      "text/plain": [
       "<Figure size 640x480 with 1 Axes>"
      ]
     },
     "metadata": {},
     "output_type": "display_data"
    },
    {
     "name": "stdout",
     "output_type": "stream",
     "text": [
      " \n"
     ]
    },
    {
     "name": "stderr",
     "output_type": "stream",
     "text": [
      "C:\\Anaconda\\Lib\\site-packages\\seaborn\\_oldcore.py:1119: FutureWarning: use_inf_as_na option is deprecated and will be removed in a future version. Convert inf values to NaN before operating instead.\n",
      "  with pd.option_context('mode.use_inf_as_na', True):\n"
     ]
    },
    {
     "data": {
      "image/png": "[encoded data removed]",
      "text/plain": [
       "<Figure size 640x480 with 1 Axes>"
      ]
     },
     "metadata": {},
     "output_type": "display_data"
    },
    {
     "name": "stdout",
     "output_type": "stream",
     "text": [
      " \n"
     ]
    }
   ],
   "source": [
    "for i in nums:\n",
    "    sns.histplot(df4[i])\n",
    "    plt.show()\n",
    "    print(' ')"
   ]
  },
  {
   "cell_type": "code",
   "execution_count": null,
   "id": "18f0ca73-7fe4-47d1-8573-44e755ffc579",
   "metadata": {},
   "outputs": [],
   "source": [
    "#Lot area dane się koncentruja na poczatku rozkładu rozkład skosny\n",
    "# dla poolarea jest wiele nieruchomosci co nie mają basenu\n",
    "#GrLivArea dobrze się rozkłada ta zmienna ma sporo ogonaa rozkąłd nirmalny\n",
    "#Year Build najwięcje koło 2000 roku ogon z lewej...."
   ]
  },
  {
   "cell_type": "code",
   "execution_count": null,
   "id": "62c3788d-67c2-401c-9f6a-8107971cb4ca",
   "metadata": {},
   "outputs": [],
   "source": []
  },
  {
   "cell_type": "code",
   "execution_count": null,
   "id": "5d74dbbb-ee09-47ed-98a4-11c888ef6a7e",
   "metadata": {},
   "outputs": [],
   "source": []
  },
  {
   "cell_type": "code",
   "execution_count": null,
   "id": "60125757-fcd5-417c-8b12-81223ab12145",
   "metadata": {},
   "outputs": [],
   "source": []
  },
  {
   "cell_type": "code",
   "execution_count": null,
   "id": "8ef3faf1-e98d-4736-8a56-b67d135cb2af",
   "metadata": {},
   "outputs": [],
   "source": []
  },
  {
   "cell_type": "code",
   "execution_count": null,
   "id": "a31ed309-593d-43a0-b028-f5a0435abf67",
   "metadata": {},
   "outputs": [],
   "source": []
  },
  {
   "cell_type": "code",
   "execution_count": null,
   "id": "4a93c569-1564-44ff-aeae-42068c228f42",
   "metadata": {},
   "outputs": [],
   "source": []
  },
  {
   "cell_type": "code",
   "execution_count": null,
   "id": "2d6c7de2-c55f-4e71-9b9a-7d7df1e77074",
   "metadata": {},
   "outputs": [],
   "source": []
  },
  {
   "cell_type": "code",
   "execution_count": null,
   "id": "91f02e4d-50a1-4cda-97ca-4faf92558d46",
   "metadata": {},
   "outputs": [],
   "source": []
  },
  {
   "cell_type": "code",
   "execution_count": null,
   "id": "dd74863a-7474-4229-a37f-0ebe4270f200",
   "metadata": {},
   "outputs": [],
   "source": []
  },
  {
   "cell_type": "code",
   "execution_count": null,
   "id": "2e8254b5-5bb3-4f96-9d13-f1c59904f594",
   "metadata": {},
   "outputs": [],
   "source": [
    "#6 Zmienne objasniające- Analiza"
   ]
  },
  {
   "cell_type": "code",
   "execution_count": null,
   "id": "f9dbef82-5979-41cc-bcdd-35b1b7891d12",
   "metadata": {},
   "outputs": [],
   "source": []
  },
  {
   "cell_type": "code",
   "execution_count": null,
   "id": "c304fa6e-ccd6-4fc5-b190-ef1865ef4fb4",
   "metadata": {},
   "outputs": [],
   "source": [
    "#Zaciagnąłem jeszcze raz dane df"
   ]
  },
  {
   "cell_type": "code",
   "execution_count": 61,
   "id": "150abeab-d05d-4065-9712-615f170dadb2",
   "metadata": {},
   "outputs": [
    {
     "data": {
      "text/html": [
       "<div>\n",
       "<style scoped>\n",
       "    .dataframe tbody tr th:only-of-type {\n",
       "        vertical-align: middle;\n",
       "    }\n",
       "\n",
       "    .dataframe tbody tr th {\n",
       "        vertical-align: top;\n",
       "    }\n",
       "\n",
       "    .dataframe thead th {\n",
       "        text-align: right;\n",
       "    }\n",
       "</style>\n",
       "<table border=\"1\" class=\"dataframe\">\n",
       "  <thead>\n",
       "    <tr style=\"text-align: right;\">\n",
       "      <th></th>\n",
       "      <th>Unnamed: 0</th>\n",
       "      <th>SalePrice</th>\n",
       "      <th>LotArea</th>\n",
       "      <th>Heating</th>\n",
       "      <th>PoolArea</th>\n",
       "      <th>YearBuilt</th>\n",
       "      <th>OverallCond</th>\n",
       "      <th>GrLivArea</th>\n",
       "      <th>Fireplaces</th>\n",
       "      <th>PavedDrive</th>\n",
       "    </tr>\n",
       "  </thead>\n",
       "  <tbody>\n",
       "    <tr>\n",
       "      <th>0</th>\n",
       "      <td>0</td>\n",
       "      <td>208500</td>\n",
       "      <td>8450</td>\n",
       "      <td>GasA</td>\n",
       "      <td>0</td>\n",
       "      <td>2003</td>\n",
       "      <td>5</td>\n",
       "      <td>1710</td>\n",
       "      <td>0</td>\n",
       "      <td>Y</td>\n",
       "    </tr>\n",
       "    <tr>\n",
       "      <th>1</th>\n",
       "      <td>1</td>\n",
       "      <td>181500</td>\n",
       "      <td>9600</td>\n",
       "      <td>GasA</td>\n",
       "      <td>0</td>\n",
       "      <td>1976</td>\n",
       "      <td>8</td>\n",
       "      <td>1262</td>\n",
       "      <td>1</td>\n",
       "      <td>Y</td>\n",
       "    </tr>\n",
       "    <tr>\n",
       "      <th>2</th>\n",
       "      <td>2</td>\n",
       "      <td>223500</td>\n",
       "      <td>11250</td>\n",
       "      <td>GasA</td>\n",
       "      <td>0</td>\n",
       "      <td>2001</td>\n",
       "      <td>5</td>\n",
       "      <td>1786</td>\n",
       "      <td>1</td>\n",
       "      <td>Y</td>\n",
       "    </tr>\n",
       "    <tr>\n",
       "      <th>3</th>\n",
       "      <td>3</td>\n",
       "      <td>140000</td>\n",
       "      <td>9550</td>\n",
       "      <td>GasA</td>\n",
       "      <td>0</td>\n",
       "      <td>1915</td>\n",
       "      <td>5</td>\n",
       "      <td>1717</td>\n",
       "      <td>1</td>\n",
       "      <td>Y</td>\n",
       "    </tr>\n",
       "    <tr>\n",
       "      <th>4</th>\n",
       "      <td>4</td>\n",
       "      <td>250000</td>\n",
       "      <td>14260</td>\n",
       "      <td>GasA</td>\n",
       "      <td>0</td>\n",
       "      <td>2000</td>\n",
       "      <td>5</td>\n",
       "      <td>2198</td>\n",
       "      <td>1</td>\n",
       "      <td>Y</td>\n",
       "    </tr>\n",
       "  </tbody>\n",
       "</table>\n",
       "</div>"
      ],
      "text/plain": [
       "   Unnamed: 0  SalePrice  LotArea Heating  PoolArea  YearBuilt  OverallCond  \\\n",
       "0           0     208500     8450    GasA         0       2003            5   \n",
       "1           1     181500     9600    GasA         0       1976            8   \n",
       "2           2     223500    11250    GasA         0       2001            5   \n",
       "3           3     140000     9550    GasA         0       1915            5   \n",
       "4           4     250000    14260    GasA         0       2000            5   \n",
       "\n",
       "   GrLivArea  Fireplaces PavedDrive  \n",
       "0       1710           0          Y  \n",
       "1       1262           1          Y  \n",
       "2       1786           1          Y  \n",
       "3       1717           1          Y  \n",
       "4       2198           1          Y  "
      ]
     },
     "execution_count": 61,
     "metadata": {},
     "output_type": "execute_result"
    }
   ],
   "source": [
    "df.head()"
   ]
  },
  {
   "cell_type": "code",
   "execution_count": 64,
   "id": "df546657-77fb-402a-bd92-bcf634c75967",
   "metadata": {},
   "outputs": [],
   "source": [
    "df.drop('Unnamed: 0', axis=1, inplace=True)"
   ]
  },
  {
   "cell_type": "code",
   "execution_count": 65,
   "id": "04ac776d-3b68-4ebc-a668-4635bac28c4e",
   "metadata": {},
   "outputs": [
    {
     "data": {
      "text/html": [
       "<div>\n",
       "<style scoped>\n",
       "    .dataframe tbody tr th:only-of-type {\n",
       "        vertical-align: middle;\n",
       "    }\n",
       "\n",
       "    .dataframe tbody tr th {\n",
       "        vertical-align: top;\n",
       "    }\n",
       "\n",
       "    .dataframe thead th {\n",
       "        text-align: right;\n",
       "    }\n",
       "</style>\n",
       "<table border=\"1\" class=\"dataframe\">\n",
       "  <thead>\n",
       "    <tr style=\"text-align: right;\">\n",
       "      <th></th>\n",
       "      <th>SalePrice</th>\n",
       "      <th>LotArea</th>\n",
       "      <th>Heating</th>\n",
       "      <th>PoolArea</th>\n",
       "      <th>YearBuilt</th>\n",
       "      <th>OverallCond</th>\n",
       "      <th>GrLivArea</th>\n",
       "      <th>Fireplaces</th>\n",
       "      <th>PavedDrive</th>\n",
       "    </tr>\n",
       "  </thead>\n",
       "  <tbody>\n",
       "    <tr>\n",
       "      <th>0</th>\n",
       "      <td>208500</td>\n",
       "      <td>8450</td>\n",
       "      <td>GasA</td>\n",
       "      <td>0</td>\n",
       "      <td>2003</td>\n",
       "      <td>5</td>\n",
       "      <td>1710</td>\n",
       "      <td>0</td>\n",
       "      <td>Y</td>\n",
       "    </tr>\n",
       "    <tr>\n",
       "      <th>1</th>\n",
       "      <td>181500</td>\n",
       "      <td>9600</td>\n",
       "      <td>GasA</td>\n",
       "      <td>0</td>\n",
       "      <td>1976</td>\n",
       "      <td>8</td>\n",
       "      <td>1262</td>\n",
       "      <td>1</td>\n",
       "      <td>Y</td>\n",
       "    </tr>\n",
       "    <tr>\n",
       "      <th>2</th>\n",
       "      <td>223500</td>\n",
       "      <td>11250</td>\n",
       "      <td>GasA</td>\n",
       "      <td>0</td>\n",
       "      <td>2001</td>\n",
       "      <td>5</td>\n",
       "      <td>1786</td>\n",
       "      <td>1</td>\n",
       "      <td>Y</td>\n",
       "    </tr>\n",
       "    <tr>\n",
       "      <th>3</th>\n",
       "      <td>140000</td>\n",
       "      <td>9550</td>\n",
       "      <td>GasA</td>\n",
       "      <td>0</td>\n",
       "      <td>1915</td>\n",
       "      <td>5</td>\n",
       "      <td>1717</td>\n",
       "      <td>1</td>\n",
       "      <td>Y</td>\n",
       "    </tr>\n",
       "    <tr>\n",
       "      <th>4</th>\n",
       "      <td>250000</td>\n",
       "      <td>14260</td>\n",
       "      <td>GasA</td>\n",
       "      <td>0</td>\n",
       "      <td>2000</td>\n",
       "      <td>5</td>\n",
       "      <td>2198</td>\n",
       "      <td>1</td>\n",
       "      <td>Y</td>\n",
       "    </tr>\n",
       "  </tbody>\n",
       "</table>\n",
       "</div>"
      ],
      "text/plain": [
       "   SalePrice  LotArea Heating  PoolArea  YearBuilt  OverallCond  GrLivArea  \\\n",
       "0     208500     8450    GasA         0       2003            5       1710   \n",
       "1     181500     9600    GasA         0       1976            8       1262   \n",
       "2     223500    11250    GasA         0       2001            5       1786   \n",
       "3     140000     9550    GasA         0       1915            5       1717   \n",
       "4     250000    14260    GasA         0       2000            5       2198   \n",
       "\n",
       "   Fireplaces PavedDrive  \n",
       "0           0          Y  \n",
       "1           1          Y  \n",
       "2           1          Y  \n",
       "3           1          Y  \n",
       "4           1          Y  "
      ]
     },
     "execution_count": 65,
     "metadata": {},
     "output_type": "execute_result"
    }
   ],
   "source": [
    "df.head()"
   ]
  },
  {
   "cell_type": "code",
   "execution_count": null,
   "id": "f1d372e2-6680-42e2-871a-bdd93169c8a0",
   "metadata": {},
   "outputs": [],
   "source": [
    "# wpisuję zmienne do listy "
   ]
  },
  {
   "cell_type": "code",
   "execution_count": 67,
   "id": "def2e547-9767-4e54-a344-dac1525bf6e9",
   "metadata": {},
   "outputs": [],
   "source": [
    "chars = ['Heating', 'OverallCond', 'Fireplaces', 'PavedDrive']"
   ]
  },
  {
   "cell_type": "code",
   "execution_count": null,
   "id": "ec5db567-c215-43f3-9a08-872a925a6e7c",
   "metadata": {},
   "outputs": [],
   "source": [
    "#szukamy liczności kategorii tych zmiennych"
   ]
  },
  {
   "cell_type": "code",
   "execution_count": 68,
   "id": "90715486-6628-40bb-be8b-32a422f2fa39",
   "metadata": {},
   "outputs": [
    {
     "name": "stdout",
     "output_type": "stream",
     "text": [
      "Heating\n",
      "GasA     1428\n",
      "GasW       18\n",
      "Grav        7\n",
      "Wall        4\n",
      "OthW        2\n",
      "Floor       1\n",
      "Name: count, dtype: int64\n",
      " \n",
      "OverallCond\n",
      "5    821\n",
      "6    252\n",
      "7    205\n",
      "8     72\n",
      "4     57\n",
      "3     25\n",
      "9     22\n",
      "2      5\n",
      "1      1\n",
      "Name: count, dtype: int64\n",
      " \n",
      "Fireplaces\n",
      "0    690\n",
      "1    650\n",
      "2    115\n",
      "3      5\n",
      "Name: count, dtype: int64\n",
      " \n",
      "PavedDrive\n",
      "Y    1340\n",
      "N      90\n",
      "P      30\n",
      "Name: count, dtype: int64\n",
      " \n"
     ]
    }
   ],
   "source": [
    "for i in chars:\n",
    "    print(df[i].value_counts())\n",
    "    print(' ')"
   ]
  },
  {
   "cell_type": "code",
   "execution_count": null,
   "id": "cbb47307-3aa3-4b47-86eb-57e355c72f22",
   "metadata": {},
   "outputs": [],
   "source": [
    "#heating GasA zostaje reszta do jednej, overallCond ma więcej więc może z 4-5kat Fireplaces ma 4 a ale 2-3 można połaczyć\n",
    "#PavedDrive ma 3 kategorie"
   ]
  },
  {
   "cell_type": "code",
   "execution_count": null,
   "id": "175f7997-2c72-4984-8489-8f3c97b6b24d",
   "metadata": {},
   "outputs": [],
   "source": []
  },
  {
   "cell_type": "code",
   "execution_count": null,
   "id": "656cd4af-871b-4fcc-a493-326f1ea992c2",
   "metadata": {},
   "outputs": [],
   "source": [
    "#7 Transformacja zmiennych -przygotowanie zbioru przed podziałem. kategoryzacja zmiennych"
   ]
  },
  {
   "cell_type": "code",
   "execution_count": null,
   "id": "be46cfee-a09c-492b-8e41-2cabb1b90c1a",
   "metadata": {},
   "outputs": [],
   "source": []
  },
  {
   "cell_type": "code",
   "execution_count": null,
   "id": "933fb2d6-065f-4269-b282-7aadde292743",
   "metadata": {},
   "outputs": [],
   "source": [
    "# Heating"
   ]
  },
  {
   "cell_type": "code",
   "execution_count": null,
   "id": "8fda3a4c-2491-49b5-a687-bd371d37ef7a",
   "metadata": {},
   "outputs": [],
   "source": []
  },
  {
   "cell_type": "code",
   "execution_count": 71,
   "id": "e32dabe8-b4b6-4024-af9a-e1ae5bfaf3a6",
   "metadata": {},
   "outputs": [
    {
     "data": {
      "text/plain": [
       "Heating\n",
       "GasA     1428\n",
       "GasW       18\n",
       "Grav        7\n",
       "Wall        4\n",
       "OthW        2\n",
       "Floor       1\n",
       "Name: count, dtype: int64"
      ]
     },
     "execution_count": 71,
     "metadata": {},
     "output_type": "execute_result"
    }
   ],
   "source": [
    "df['Heating'].value_counts()"
   ]
  },
  {
   "cell_type": "code",
   "execution_count": null,
   "id": "10bce53f-ec84-42f8-a127-95892014bec2",
   "metadata": {},
   "outputs": [],
   "source": [
    "#1sza kat najbardziej liczba więc pozostałe kategorie wrzucimy do drugiej."
   ]
  },
  {
   "cell_type": "code",
   "execution_count": 72,
   "id": "dd890240-8f31-4433-b5e1-46dc0d243798",
   "metadata": {},
   "outputs": [],
   "source": [
    "df['Heating'] = np.where(df['Heating'] =='GasA', 'GasA', 'Non GasA')"
   ]
  },
  {
   "cell_type": "code",
   "execution_count": 74,
   "id": "b76b93e3-a95c-4097-9af2-4dd80771300a",
   "metadata": {},
   "outputs": [
    {
     "data": {
      "text/plain": [
       "Heating\n",
       "GasA        1428\n",
       "Non GasA      32\n",
       "Name: count, dtype: int64"
      ]
     },
     "execution_count": 74,
     "metadata": {},
     "output_type": "execute_result"
    }
   ],
   "source": [
    "df['Heating'].value_counts()"
   ]
  },
  {
   "cell_type": "code",
   "execution_count": null,
   "id": "1ff8b7ff-83e5-49b4-a4f4-a018de8b90ba",
   "metadata": {},
   "outputs": [],
   "source": []
  },
  {
   "cell_type": "code",
   "execution_count": null,
   "id": "a5a58c0c-1756-4cda-a532-902eca5d0a39",
   "metadata": {},
   "outputs": [],
   "source": [
    "#Overall condition"
   ]
  },
  {
   "cell_type": "code",
   "execution_count": null,
   "id": "0d9a6c19-6146-48a3-88c7-3fb4b8bdb135",
   "metadata": {},
   "outputs": [],
   "source": []
  },
  {
   "cell_type": "code",
   "execution_count": 75,
   "id": "fc8d4994-dc7d-4539-b627-08d78b6e66de",
   "metadata": {},
   "outputs": [
    {
     "data": {
      "text/plain": [
       "OverallCond\n",
       "5    821\n",
       "6    252\n",
       "7    205\n",
       "8     72\n",
       "4     57\n",
       "3     25\n",
       "9     22\n",
       "2      5\n",
       "1      1\n",
       "Name: count, dtype: int64"
      ]
     },
     "execution_count": 75,
     "metadata": {},
     "output_type": "execute_result"
    }
   ],
   "source": [
    "df['OverallCond'].value_counts()"
   ]
  },
  {
   "cell_type": "code",
   "execution_count": null,
   "id": "0679acd2-86f2-48e6-89b3-1c577abf881c",
   "metadata": {},
   "outputs": [],
   "source": [
    "#łączymy kategorie 1-4. 5,6,7 mają dużo obserwacji więc zostają. 8 i 9 zostawiamy."
   ]
  },
  {
   "cell_type": "code",
   "execution_count": 79,
   "id": "0bf74c5b-11f1-4b29-8a62-82e550ce69b6",
   "metadata": {},
   "outputs": [],
   "source": [
    "df['OverallCond'] = np.where(df['OverallCond'] <= 4, '<=4',\n",
    "                     np.where(df['OverallCond'] == 5, '5',\n",
    "                     np.where(df['OverallCond'] == 6, '6',\n",
    "                     np.where(df['OverallCond'] == 7, '7', '>=8'))))"
   ]
  },
  {
   "cell_type": "code",
   "execution_count": null,
   "id": "c8bf271c-c74e-4364-a5af-1c1b28f1b33a",
   "metadata": {},
   "outputs": [],
   "source": [
    "#sprawdzenie"
   ]
  },
  {
   "cell_type": "code",
   "execution_count": 80,
   "id": "fdd3d625-6f27-4f35-b607-a5287ec0cd3a",
   "metadata": {},
   "outputs": [
    {
     "data": {
      "text/plain": [
       "OverallCond\n",
       "5      821\n",
       "6      252\n",
       "7      205\n",
       ">=8     94\n",
       "<=4     88\n",
       "Name: count, dtype: int64"
      ]
     },
     "execution_count": 80,
     "metadata": {},
     "output_type": "execute_result"
    }
   ],
   "source": [
    "df['OverallCond'].value_counts()"
   ]
  },
  {
   "cell_type": "code",
   "execution_count": null,
   "id": "3aaf65f1-6119-404d-8f87-6f2b41ed4e64",
   "metadata": {},
   "outputs": [],
   "source": []
  },
  {
   "cell_type": "code",
   "execution_count": null,
   "id": "4a4bbb68-1223-4e7c-8b38-8e0c73e721ee",
   "metadata": {},
   "outputs": [],
   "source": [
    "#'Fireplaces'"
   ]
  },
  {
   "cell_type": "code",
   "execution_count": null,
   "id": "85d0cc45-3bbf-4d25-a09b-f0aaa1b28a4b",
   "metadata": {},
   "outputs": [],
   "source": []
  },
  {
   "cell_type": "code",
   "execution_count": 81,
   "id": "7416bc4b-ce37-4b7f-ad30-2800c6a5d284",
   "metadata": {},
   "outputs": [
    {
     "data": {
      "text/plain": [
       "Fireplaces\n",
       "0    690\n",
       "1    650\n",
       "2    115\n",
       "3      5\n",
       "Name: count, dtype: int64"
      ]
     },
     "execution_count": 81,
     "metadata": {},
     "output_type": "execute_result"
    }
   ],
   "source": [
    "df['Fireplaces'].value_counts()"
   ]
  },
  {
   "cell_type": "code",
   "execution_count": null,
   "id": "78577495-66f8-4fce-9e84-77f9c9e2102a",
   "metadata": {},
   "outputs": [],
   "source": [
    "#łączymy 2 oraz 3"
   ]
  },
  {
   "cell_type": "code",
   "execution_count": 83,
   "id": "b5f967ba-ddc4-4ef0-b267-1a2448266ae8",
   "metadata": {},
   "outputs": [],
   "source": [
    "df['Fireplaces'] = np.where(df['Fireplaces'] >=2, '>=2', df['Fireplaces'])"
   ]
  },
  {
   "cell_type": "code",
   "execution_count": 84,
   "id": "4c751129-512d-496c-ab95-8e65f0dbec2e",
   "metadata": {},
   "outputs": [
    {
     "data": {
      "text/plain": [
       "Fireplaces\n",
       "0      690\n",
       "1      650\n",
       ">=2    120\n",
       "Name: count, dtype: int64"
      ]
     },
     "execution_count": 84,
     "metadata": {},
     "output_type": "execute_result"
    }
   ],
   "source": [
    "df['Fireplaces'].value_counts()"
   ]
  },
  {
   "cell_type": "code",
   "execution_count": null,
   "id": "e1ac4c79-fe3d-421a-9a3b-5d071021bc70",
   "metadata": {},
   "outputs": [],
   "source": []
  },
  {
   "cell_type": "code",
   "execution_count": null,
   "id": "e32b01f7-a4f1-4595-8e17-cff216d17b59",
   "metadata": {},
   "outputs": [],
   "source": [
    "#Dodamy jeszcze PoolArea bo to ma wpływ na cene nieruchomosci..."
   ]
  },
  {
   "cell_type": "code",
   "execution_count": null,
   "id": "17efa25b-d0cf-4b78-8f02-0378504e085a",
   "metadata": {},
   "outputs": [],
   "source": []
  },
  {
   "cell_type": "code",
   "execution_count": 85,
   "id": "210906c9-db52-4a5a-a6a4-ae242b140b1a",
   "metadata": {},
   "outputs": [
    {
     "data": {
      "text/plain": [
       "PoolArea\n",
       "0      1453\n",
       "512       1\n",
       "648       1\n",
       "576       1\n",
       "555       1\n",
       "480       1\n",
       "519       1\n",
       "738       1\n",
       "Name: count, dtype: int64"
      ]
     },
     "execution_count": 85,
     "metadata": {},
     "output_type": "execute_result"
    }
   ],
   "source": [
    "df['PoolArea'].value_counts()"
   ]
  },
  {
   "cell_type": "code",
   "execution_count": null,
   "id": "cfe2c51a-86a5-4423-b5b0-60e3d5700a34",
   "metadata": {},
   "outputs": [],
   "source": [
    "#Zmienna usuwamy bo powierzchnia basenu jest tylkow  kilku nieruchomościach a w 1453 jej brakuje."
   ]
  },
  {
   "cell_type": "code",
   "execution_count": 86,
   "id": "8d66c4e7-1728-4d48-9ae9-2f984486be8f",
   "metadata": {},
   "outputs": [],
   "source": [
    "df.drop('PoolArea', axis=1, inplace=True)"
   ]
  },
  {
   "cell_type": "code",
   "execution_count": 87,
   "id": "6818de85-42bb-4bf1-bb91-b9ad64ffa720",
   "metadata": {},
   "outputs": [
    {
     "data": {
      "text/html": [
       "<div>\n",
       "<style scoped>\n",
       "    .dataframe tbody tr th:only-of-type {\n",
       "        vertical-align: middle;\n",
       "    }\n",
       "\n",
       "    .dataframe tbody tr th {\n",
       "        vertical-align: top;\n",
       "    }\n",
       "\n",
       "    .dataframe thead th {\n",
       "        text-align: right;\n",
       "    }\n",
       "</style>\n",
       "<table border=\"1\" class=\"dataframe\">\n",
       "  <thead>\n",
       "    <tr style=\"text-align: right;\">\n",
       "      <th></th>\n",
       "      <th>SalePrice</th>\n",
       "      <th>LotArea</th>\n",
       "      <th>Heating</th>\n",
       "      <th>YearBuilt</th>\n",
       "      <th>OverallCond</th>\n",
       "      <th>GrLivArea</th>\n",
       "      <th>Fireplaces</th>\n",
       "      <th>PavedDrive</th>\n",
       "    </tr>\n",
       "  </thead>\n",
       "  <tbody>\n",
       "    <tr>\n",
       "      <th>0</th>\n",
       "      <td>208500</td>\n",
       "      <td>8450</td>\n",
       "      <td>GasA</td>\n",
       "      <td>2003</td>\n",
       "      <td>5</td>\n",
       "      <td>1710</td>\n",
       "      <td>0</td>\n",
       "      <td>Y</td>\n",
       "    </tr>\n",
       "    <tr>\n",
       "      <th>1</th>\n",
       "      <td>181500</td>\n",
       "      <td>9600</td>\n",
       "      <td>GasA</td>\n",
       "      <td>1976</td>\n",
       "      <td>&gt;=8</td>\n",
       "      <td>1262</td>\n",
       "      <td>1</td>\n",
       "      <td>Y</td>\n",
       "    </tr>\n",
       "    <tr>\n",
       "      <th>2</th>\n",
       "      <td>223500</td>\n",
       "      <td>11250</td>\n",
       "      <td>GasA</td>\n",
       "      <td>2001</td>\n",
       "      <td>5</td>\n",
       "      <td>1786</td>\n",
       "      <td>1</td>\n",
       "      <td>Y</td>\n",
       "    </tr>\n",
       "    <tr>\n",
       "      <th>3</th>\n",
       "      <td>140000</td>\n",
       "      <td>9550</td>\n",
       "      <td>GasA</td>\n",
       "      <td>1915</td>\n",
       "      <td>5</td>\n",
       "      <td>1717</td>\n",
       "      <td>1</td>\n",
       "      <td>Y</td>\n",
       "    </tr>\n",
       "    <tr>\n",
       "      <th>4</th>\n",
       "      <td>250000</td>\n",
       "      <td>14260</td>\n",
       "      <td>GasA</td>\n",
       "      <td>2000</td>\n",
       "      <td>5</td>\n",
       "      <td>2198</td>\n",
       "      <td>1</td>\n",
       "      <td>Y</td>\n",
       "    </tr>\n",
       "  </tbody>\n",
       "</table>\n",
       "</div>"
      ],
      "text/plain": [
       "   SalePrice  LotArea Heating  YearBuilt OverallCond  GrLivArea Fireplaces  \\\n",
       "0     208500     8450    GasA       2003           5       1710          0   \n",
       "1     181500     9600    GasA       1976         >=8       1262          1   \n",
       "2     223500    11250    GasA       2001           5       1786          1   \n",
       "3     140000     9550    GasA       1915           5       1717          1   \n",
       "4     250000    14260    GasA       2000           5       2198          1   \n",
       "\n",
       "  PavedDrive  \n",
       "0          Y  \n",
       "1          Y  \n",
       "2          Y  \n",
       "3          Y  \n",
       "4          Y  "
      ]
     },
     "execution_count": 87,
     "metadata": {},
     "output_type": "execute_result"
    }
   ],
   "source": [
    "df.head()"
   ]
  },
  {
   "cell_type": "code",
   "execution_count": null,
   "id": "23ce10e2-60b1-478a-ba45-720fea14acad",
   "metadata": {},
   "outputs": [],
   "source": []
  },
  {
   "cell_type": "code",
   "execution_count": null,
   "id": "338aa922-978c-4b6c-a4d4-13c3ceffabbc",
   "metadata": {},
   "outputs": [],
   "source": [
    "#YearBuilt"
   ]
  },
  {
   "cell_type": "code",
   "execution_count": null,
   "id": "3a75c095-e8ed-46fa-b4f2-69b3dea7c9d5",
   "metadata": {},
   "outputs": [],
   "source": []
  },
  {
   "cell_type": "code",
   "execution_count": 89,
   "id": "454139f2-a4b1-4d71-9c56-3f4491cceab5",
   "metadata": {},
   "outputs": [
    {
     "data": {
      "text/plain": [
       "YearBuilt\n",
       "2006    67\n",
       "2005    64\n",
       "2004    54\n",
       "2007    49\n",
       "2003    45\n",
       "        ..\n",
       "1875     1\n",
       "1911     1\n",
       "1917     1\n",
       "1872     1\n",
       "1905     1\n",
       "Name: count, Length: 112, dtype: int64"
      ]
     },
     "execution_count": 89,
     "metadata": {},
     "output_type": "execute_result"
    }
   ],
   "source": [
    "df['YearBuilt'].value_counts()"
   ]
  },
  {
   "cell_type": "code",
   "execution_count": null,
   "id": "ea3bdb46-9240-4656-ada6-095b54969491",
   "metadata": {},
   "outputs": [],
   "source": [
    "#wyznaczymy wiek nieruchomosci od roku biezącego odejmiemy rok budowy. Bedziemy wiedziec jak stara jest nieruchomość i podzielimy na kategorie"
   ]
  },
  {
   "cell_type": "code",
   "execution_count": 90,
   "id": "f1adade9-5e29-42a9-99fe-907effbd349d",
   "metadata": {},
   "outputs": [],
   "source": [
    "df['Age'] = 2024 - df['YearBuilt']"
   ]
  },
  {
   "cell_type": "code",
   "execution_count": 92,
   "id": "dfa3d410-286c-41ec-a1f0-bea2ed630f53",
   "metadata": {},
   "outputs": [],
   "source": [
    "df.drop('YearBuilt', axis=1, inplace=True)"
   ]
  },
  {
   "cell_type": "code",
   "execution_count": 93,
   "id": "93748a87-069f-4147-beff-75ef9384243d",
   "metadata": {},
   "outputs": [
    {
     "data": {
      "text/html": [
       "<div>\n",
       "<style scoped>\n",
       "    .dataframe tbody tr th:only-of-type {\n",
       "        vertical-align: middle;\n",
       "    }\n",
       "\n",
       "    .dataframe tbody tr th {\n",
       "        vertical-align: top;\n",
       "    }\n",
       "\n",
       "    .dataframe thead th {\n",
       "        text-align: right;\n",
       "    }\n",
       "</style>\n",
       "<table border=\"1\" class=\"dataframe\">\n",
       "  <thead>\n",
       "    <tr style=\"text-align: right;\">\n",
       "      <th></th>\n",
       "      <th>SalePrice</th>\n",
       "      <th>LotArea</th>\n",
       "      <th>Heating</th>\n",
       "      <th>OverallCond</th>\n",
       "      <th>GrLivArea</th>\n",
       "      <th>Fireplaces</th>\n",
       "      <th>PavedDrive</th>\n",
       "      <th>Age</th>\n",
       "    </tr>\n",
       "  </thead>\n",
       "  <tbody>\n",
       "    <tr>\n",
       "      <th>0</th>\n",
       "      <td>208500</td>\n",
       "      <td>8450</td>\n",
       "      <td>GasA</td>\n",
       "      <td>5</td>\n",
       "      <td>1710</td>\n",
       "      <td>0</td>\n",
       "      <td>Y</td>\n",
       "      <td>21</td>\n",
       "    </tr>\n",
       "    <tr>\n",
       "      <th>1</th>\n",
       "      <td>181500</td>\n",
       "      <td>9600</td>\n",
       "      <td>GasA</td>\n",
       "      <td>&gt;=8</td>\n",
       "      <td>1262</td>\n",
       "      <td>1</td>\n",
       "      <td>Y</td>\n",
       "      <td>48</td>\n",
       "    </tr>\n",
       "    <tr>\n",
       "      <th>2</th>\n",
       "      <td>223500</td>\n",
       "      <td>11250</td>\n",
       "      <td>GasA</td>\n",
       "      <td>5</td>\n",
       "      <td>1786</td>\n",
       "      <td>1</td>\n",
       "      <td>Y</td>\n",
       "      <td>23</td>\n",
       "    </tr>\n",
       "    <tr>\n",
       "      <th>3</th>\n",
       "      <td>140000</td>\n",
       "      <td>9550</td>\n",
       "      <td>GasA</td>\n",
       "      <td>5</td>\n",
       "      <td>1717</td>\n",
       "      <td>1</td>\n",
       "      <td>Y</td>\n",
       "      <td>109</td>\n",
       "    </tr>\n",
       "    <tr>\n",
       "      <th>4</th>\n",
       "      <td>250000</td>\n",
       "      <td>14260</td>\n",
       "      <td>GasA</td>\n",
       "      <td>5</td>\n",
       "      <td>2198</td>\n",
       "      <td>1</td>\n",
       "      <td>Y</td>\n",
       "      <td>24</td>\n",
       "    </tr>\n",
       "  </tbody>\n",
       "</table>\n",
       "</div>"
      ],
      "text/plain": [
       "   SalePrice  LotArea Heating OverallCond  GrLivArea Fireplaces PavedDrive  \\\n",
       "0     208500     8450    GasA           5       1710          0          Y   \n",
       "1     181500     9600    GasA         >=8       1262          1          Y   \n",
       "2     223500    11250    GasA           5       1786          1          Y   \n",
       "3     140000     9550    GasA           5       1717          1          Y   \n",
       "4     250000    14260    GasA           5       2198          1          Y   \n",
       "\n",
       "   Age  \n",
       "0   21  \n",
       "1   48  \n",
       "2   23  \n",
       "3  109  \n",
       "4   24  "
      ]
     },
     "execution_count": 93,
     "metadata": {},
     "output_type": "execute_result"
    }
   ],
   "source": [
    "df.head()"
   ]
  },
  {
   "cell_type": "code",
   "execution_count": null,
   "id": "79e8bfac-f282-4919-87d8-47b8c62a3516",
   "metadata": {},
   "outputs": [],
   "source": [
    "#mamy zmienną Age odnosząca się do wieku nieruchmości"
   ]
  },
  {
   "cell_type": "code",
   "execution_count": null,
   "id": "36b66d18-ca15-4fb3-9ef7-c18446fd3632",
   "metadata": {},
   "outputs": [],
   "source": []
  },
  {
   "cell_type": "code",
   "execution_count": null,
   "id": "402c06f9-d09c-4ca2-9905-00dbd1b8374d",
   "metadata": {},
   "outputs": [],
   "source": [
    "#8 Podziałna treningowy oraz testowy"
   ]
  },
  {
   "cell_type": "code",
   "execution_count": null,
   "id": "494a5ad9-eddf-42a1-b0ef-0087520cfc0c",
   "metadata": {},
   "outputs": [],
   "source": []
  },
  {
   "cell_type": "code",
   "execution_count": 95,
   "id": "a359aa9c-7380-43af-b7d0-3620b2663f57",
   "metadata": {},
   "outputs": [],
   "source": [
    "from sklearn.model_selection import train_test_split"
   ]
  },
  {
   "cell_type": "code",
   "execution_count": null,
   "id": "98784d6c-240e-414f-befc-6b9c6e2e817d",
   "metadata": {},
   "outputs": [],
   "source": [
    "#podział na zbiór treningowy i testowy funkcją train_test_split"
   ]
  },
  {
   "cell_type": "code",
   "execution_count": 98,
   "id": "b876f06e-aeba-4b3f-90c1-c6b2ce94d4b9",
   "metadata": {},
   "outputs": [],
   "source": [
    "df_train, df_test = train_test_split(df, test_size=0.3, random_state=4)"
   ]
  },
  {
   "cell_type": "code",
   "execution_count": null,
   "id": "c26092ce-c9e5-4c57-b2c2-3ea8c58193d9",
   "metadata": {},
   "outputs": [],
   "source": [
    "#randoms tate odworzenie wyników"
   ]
  },
  {
   "cell_type": "code",
   "execution_count": null,
   "id": "9326e016-ca9d-49ab-b9e3-0a8e409ff877",
   "metadata": {},
   "outputs": [],
   "source": [
    "#Sprawdzenie podziału zbiorów"
   ]
  },
  {
   "cell_type": "code",
   "execution_count": 99,
   "id": "3849d10c-5d43-4bac-baf7-4f8c5f4eeb2f",
   "metadata": {},
   "outputs": [
    {
     "data": {
      "text/plain": [
       "(1460, 8)"
      ]
     },
     "execution_count": 99,
     "metadata": {},
     "output_type": "execute_result"
    }
   ],
   "source": [
    "df.shape"
   ]
  },
  {
   "cell_type": "code",
   "execution_count": 101,
   "id": "a2e80bc9-a166-4013-8f04-3f642b11adb7",
   "metadata": {},
   "outputs": [
    {
     "data": {
      "text/plain": [
       "(1022, 8)"
      ]
     },
     "execution_count": 101,
     "metadata": {},
     "output_type": "execute_result"
    }
   ],
   "source": [
    "df_train.shape"
   ]
  },
  {
   "cell_type": "code",
   "execution_count": 102,
   "id": "51e656b0-f565-4b69-a830-cf2688ecb4d0",
   "metadata": {},
   "outputs": [
    {
     "data": {
      "text/plain": [
       "(438, 8)"
      ]
     },
     "execution_count": 102,
     "metadata": {},
     "output_type": "execute_result"
    }
   ],
   "source": [
    "df_test.shape"
   ]
  },
  {
   "cell_type": "code",
   "execution_count": null,
   "id": "29d90ae8-1051-4527-9a81-4a8307f27728",
   "metadata": {},
   "outputs": [],
   "source": []
  },
  {
   "cell_type": "code",
   "execution_count": null,
   "id": "4bee8ac6-34cf-4e11-9b55-d487e8a6a9d1",
   "metadata": {},
   "outputs": [],
   "source": [
    "#9 Obsługa braków danych"
   ]
  },
  {
   "cell_type": "code",
   "execution_count": null,
   "id": "7207f0db-d6e1-4b69-a1c0-f8681c00df2b",
   "metadata": {},
   "outputs": [],
   "source": []
  },
  {
   "cell_type": "code",
   "execution_count": 103,
   "id": "f8d8a8fb-2448-4745-9741-b5691fe5829c",
   "metadata": {},
   "outputs": [
    {
     "data": {
      "text/plain": [
       "SalePrice      0\n",
       "LotArea        0\n",
       "Heating        0\n",
       "OverallCond    0\n",
       "GrLivArea      0\n",
       "Fireplaces     0\n",
       "PavedDrive     0\n",
       "Age            0\n",
       "dtype: int64"
      ]
     },
     "execution_count": 103,
     "metadata": {},
     "output_type": "execute_result"
    }
   ],
   "source": [
    "df_train.isna().sum()"
   ]
  },
  {
   "cell_type": "code",
   "execution_count": null,
   "id": "7c1b69bb-094a-4fd9-8506-ca79d1db7723",
   "metadata": {},
   "outputs": [],
   "source": []
  },
  {
   "cell_type": "code",
   "execution_count": 104,
   "id": "5b755cff-3c03-45fb-955b-d52df1639424",
   "metadata": {},
   "outputs": [
    {
     "data": {
      "text/plain": [
       "SalePrice      0\n",
       "LotArea        0\n",
       "Heating        0\n",
       "OverallCond    0\n",
       "GrLivArea      0\n",
       "Fireplaces     0\n",
       "PavedDrive     0\n",
       "Age            0\n",
       "dtype: int64"
      ]
     },
     "execution_count": 104,
     "metadata": {},
     "output_type": "execute_result"
    }
   ],
   "source": [
    "df_test.isna().sum()"
   ]
  },
  {
   "cell_type": "code",
   "execution_count": null,
   "id": "1fcb9c53-a1ee-4ee6-afda-6ce5a98366cb",
   "metadata": {},
   "outputs": [],
   "source": [
    "#brak rekordów z braującymi danymi"
   ]
  },
  {
   "cell_type": "code",
   "execution_count": null,
   "id": "e9448fb8-f80f-4fa3-a2ee-747019f3660d",
   "metadata": {},
   "outputs": [],
   "source": []
  },
  {
   "cell_type": "code",
   "execution_count": null,
   "id": "fd9e1bf4-416a-4350-ac86-321dc0e17dd2",
   "metadata": {},
   "outputs": [],
   "source": [
    "#10 One Hot Encoding"
   ]
  },
  {
   "cell_type": "code",
   "execution_count": null,
   "id": "3fea46a7-5a4d-43a1-a316-bfbe1f8deb34",
   "metadata": {},
   "outputs": [],
   "source": []
  },
  {
   "cell_type": "code",
   "execution_count": 105,
   "id": "c6dbd91f-a9a0-49b3-99ff-16b17386daba",
   "metadata": {},
   "outputs": [
    {
     "data": {
      "text/html": [
       "<div>\n",
       "<style scoped>\n",
       "    .dataframe tbody tr th:only-of-type {\n",
       "        vertical-align: middle;\n",
       "    }\n",
       "\n",
       "    .dataframe tbody tr th {\n",
       "        vertical-align: top;\n",
       "    }\n",
       "\n",
       "    .dataframe thead th {\n",
       "        text-align: right;\n",
       "    }\n",
       "</style>\n",
       "<table border=\"1\" class=\"dataframe\">\n",
       "  <thead>\n",
       "    <tr style=\"text-align: right;\">\n",
       "      <th></th>\n",
       "      <th>SalePrice</th>\n",
       "      <th>LotArea</th>\n",
       "      <th>Heating</th>\n",
       "      <th>OverallCond</th>\n",
       "      <th>GrLivArea</th>\n",
       "      <th>Fireplaces</th>\n",
       "      <th>PavedDrive</th>\n",
       "      <th>Age</th>\n",
       "    </tr>\n",
       "  </thead>\n",
       "  <tbody>\n",
       "    <tr>\n",
       "      <th>0</th>\n",
       "      <td>208500</td>\n",
       "      <td>8450</td>\n",
       "      <td>GasA</td>\n",
       "      <td>5</td>\n",
       "      <td>1710</td>\n",
       "      <td>0</td>\n",
       "      <td>Y</td>\n",
       "      <td>21</td>\n",
       "    </tr>\n",
       "    <tr>\n",
       "      <th>1</th>\n",
       "      <td>181500</td>\n",
       "      <td>9600</td>\n",
       "      <td>GasA</td>\n",
       "      <td>&gt;=8</td>\n",
       "      <td>1262</td>\n",
       "      <td>1</td>\n",
       "      <td>Y</td>\n",
       "      <td>48</td>\n",
       "    </tr>\n",
       "    <tr>\n",
       "      <th>2</th>\n",
       "      <td>223500</td>\n",
       "      <td>11250</td>\n",
       "      <td>GasA</td>\n",
       "      <td>5</td>\n",
       "      <td>1786</td>\n",
       "      <td>1</td>\n",
       "      <td>Y</td>\n",
       "      <td>23</td>\n",
       "    </tr>\n",
       "    <tr>\n",
       "      <th>3</th>\n",
       "      <td>140000</td>\n",
       "      <td>9550</td>\n",
       "      <td>GasA</td>\n",
       "      <td>5</td>\n",
       "      <td>1717</td>\n",
       "      <td>1</td>\n",
       "      <td>Y</td>\n",
       "      <td>109</td>\n",
       "    </tr>\n",
       "    <tr>\n",
       "      <th>4</th>\n",
       "      <td>250000</td>\n",
       "      <td>14260</td>\n",
       "      <td>GasA</td>\n",
       "      <td>5</td>\n",
       "      <td>2198</td>\n",
       "      <td>1</td>\n",
       "      <td>Y</td>\n",
       "      <td>24</td>\n",
       "    </tr>\n",
       "  </tbody>\n",
       "</table>\n",
       "</div>"
      ],
      "text/plain": [
       "   SalePrice  LotArea Heating OverallCond  GrLivArea Fireplaces PavedDrive  \\\n",
       "0     208500     8450    GasA           5       1710          0          Y   \n",
       "1     181500     9600    GasA         >=8       1262          1          Y   \n",
       "2     223500    11250    GasA           5       1786          1          Y   \n",
       "3     140000     9550    GasA           5       1717          1          Y   \n",
       "4     250000    14260    GasA           5       2198          1          Y   \n",
       "\n",
       "   Age  \n",
       "0   21  \n",
       "1   48  \n",
       "2   23  \n",
       "3  109  \n",
       "4   24  "
      ]
     },
     "execution_count": 105,
     "metadata": {},
     "output_type": "execute_result"
    }
   ],
   "source": [
    "df.head()"
   ]
  },
  {
   "cell_type": "code",
   "execution_count": null,
   "id": "449c3398-7fd5-47d6-907b-152448eda49a",
   "metadata": {},
   "outputs": [],
   "source": []
  },
  {
   "cell_type": "code",
   "execution_count": 106,
   "id": "dda943dd-7c80-4338-8af7-1c955344e719",
   "metadata": {},
   "outputs": [],
   "source": [
    "chars = ['Heating', 'OverallCond', 'Fireplaces', 'PavedDrive']"
   ]
  },
  {
   "cell_type": "code",
   "execution_count": 107,
   "id": "5c765ad3-69ee-4f01-ac15-e5b4036de937",
   "metadata": {},
   "outputs": [],
   "source": [
    "for i in chars:\n",
    "    dummy = pd.get_dummies(df_train[i], prefix=i)\n",
    "    dummy_test = pd.get_dummies(df_test[i], prefix=i)"
   ]
  },
  {
   "cell_type": "code",
   "execution_count": null,
   "id": "e3c39701-b850-4ea6-b8c0-9a9d9d6a5cd2",
   "metadata": {},
   "outputs": [],
   "source": [
    "#Dla i w chars tworzymy zbiór dummy za pomcoa funkcji get_dummies na zbiorze treningowym prefix =i i to samo dla zbioru testowego"
   ]
  },
  {
   "cell_type": "code",
   "execution_count": null,
   "id": "4d5a188f-81c8-4311-9433-feb941821507",
   "metadata": {},
   "outputs": [],
   "source": [
    "#Ze zbioru treningowego i testowego usuwam najliczniejszą zmienną to jest zmienna i do tego podłoga '_' i najliczniejsza kategoria \n",
    "#df_train[i].value_counts().index[0] i z niej robimy str i axis=1 inplace=True bo nadpisujemy to robimy dla zbioru trenignowego i testowego"
   ]
  },
  {
   "cell_type": "code",
   "execution_count": null,
   "id": "de663dfb-67d7-4468-80f8-ae3fcb1f5ad6",
   "metadata": {},
   "outputs": [],
   "source": [
    "# terazłacze do zbioru trenignowego it estowego za pomoca funckji concat dołączam zbiory dummy i dummy test "
   ]
  },
  {
   "cell_type": "code",
   "execution_count": null,
   "id": "db18999f-e928-4fa2-814a-ce78390d0165",
   "metadata": {},
   "outputs": [],
   "source": [
    "#dropujemy i początkowej zmiennej"
   ]
  },
  {
   "cell_type": "code",
   "execution_count": 109,
   "id": "ca0dce87-b986-4589-80f8-496cbbbfb1e8",
   "metadata": {},
   "outputs": [],
   "source": [
    "for i in chars:\n",
    "    dummy = pd.get_dummies(df_train[i], prefix=i)\n",
    "    dummy_test = pd.get_dummies(df_test[i], prefix=i)\n",
    "    \n",
    "    dummy.drop(i+ '_' + str(df_train[i].value_counts().index[0]), axis=1, inplace=True)\n",
    "    dummy_test.drop(i+ '_' + str(df_train[i].value_counts().index[0]), axis=1, inplace=True)\n",
    "    \n",
    "    df_train = pd.concat([df_train, dummy], axis=1)\n",
    "    df_test = pd.concat([df_test, dummy_test], axis=1)\n",
    "    \n",
    "    df_train.drop(i, axis=1, inplace=True)\n",
    "    df_test.drop(i, axis=1, inplace=True)"
   ]
  },
  {
   "cell_type": "code",
   "execution_count": 110,
   "id": "d7c6ab16-2cb0-42a2-afe9-3c260d0ee5f9",
   "metadata": {},
   "outputs": [
    {
     "data": {
      "text/html": [
       "<div>\n",
       "<style scoped>\n",
       "    .dataframe tbody tr th:only-of-type {\n",
       "        vertical-align: middle;\n",
       "    }\n",
       "\n",
       "    .dataframe tbody tr th {\n",
       "        vertical-align: top;\n",
       "    }\n",
       "\n",
       "    .dataframe thead th {\n",
       "        text-align: right;\n",
       "    }\n",
       "</style>\n",
       "<table border=\"1\" class=\"dataframe\">\n",
       "  <thead>\n",
       "    <tr style=\"text-align: right;\">\n",
       "      <th></th>\n",
       "      <th>SalePrice</th>\n",
       "      <th>LotArea</th>\n",
       "      <th>GrLivArea</th>\n",
       "      <th>Age</th>\n",
       "      <th>Heating_Non GasA</th>\n",
       "      <th>OverallCond_6</th>\n",
       "      <th>OverallCond_7</th>\n",
       "      <th>OverallCond_&lt;=4</th>\n",
       "      <th>OverallCond_&gt;=8</th>\n",
       "      <th>Fireplaces_1</th>\n",
       "      <th>Fireplaces_&gt;=2</th>\n",
       "      <th>PavedDrive_N</th>\n",
       "      <th>PavedDrive_P</th>\n",
       "    </tr>\n",
       "  </thead>\n",
       "  <tbody>\n",
       "    <tr>\n",
       "      <th>1153</th>\n",
       "      <td>120500</td>\n",
       "      <td>5890</td>\n",
       "      <td>816</td>\n",
       "      <td>94</td>\n",
       "      <td>False</td>\n",
       "      <td>False</td>\n",
       "      <td>False</td>\n",
       "      <td>False</td>\n",
       "      <td>True</td>\n",
       "      <td>False</td>\n",
       "      <td>False</td>\n",
       "      <td>False</td>\n",
       "      <td>False</td>\n",
       "    </tr>\n",
       "    <tr>\n",
       "      <th>717</th>\n",
       "      <td>157000</td>\n",
       "      <td>10000</td>\n",
       "      <td>1178</td>\n",
       "      <td>51</td>\n",
       "      <td>False</td>\n",
       "      <td>True</td>\n",
       "      <td>False</td>\n",
       "      <td>False</td>\n",
       "      <td>False</td>\n",
       "      <td>True</td>\n",
       "      <td>False</td>\n",
       "      <td>False</td>\n",
       "      <td>False</td>\n",
       "    </tr>\n",
       "    <tr>\n",
       "      <th>354</th>\n",
       "      <td>140000</td>\n",
       "      <td>8400</td>\n",
       "      <td>1595</td>\n",
       "      <td>84</td>\n",
       "      <td>False</td>\n",
       "      <td>False</td>\n",
       "      <td>False</td>\n",
       "      <td>False</td>\n",
       "      <td>False</td>\n",
       "      <td>False</td>\n",
       "      <td>True</td>\n",
       "      <td>False</td>\n",
       "      <td>False</td>\n",
       "    </tr>\n",
       "    <tr>\n",
       "      <th>777</th>\n",
       "      <td>142500</td>\n",
       "      <td>13350</td>\n",
       "      <td>894</td>\n",
       "      <td>50</td>\n",
       "      <td>False</td>\n",
       "      <td>False</td>\n",
       "      <td>False</td>\n",
       "      <td>False</td>\n",
       "      <td>False</td>\n",
       "      <td>True</td>\n",
       "      <td>False</td>\n",
       "      <td>False</td>\n",
       "      <td>False</td>\n",
       "    </tr>\n",
       "    <tr>\n",
       "      <th>1327</th>\n",
       "      <td>130500</td>\n",
       "      <td>6600</td>\n",
       "      <td>816</td>\n",
       "      <td>42</td>\n",
       "      <td>False</td>\n",
       "      <td>False</td>\n",
       "      <td>False</td>\n",
       "      <td>False</td>\n",
       "      <td>True</td>\n",
       "      <td>True</td>\n",
       "      <td>False</td>\n",
       "      <td>False</td>\n",
       "      <td>False</td>\n",
       "    </tr>\n",
       "  </tbody>\n",
       "</table>\n",
       "</div>"
      ],
      "text/plain": [
       "      SalePrice  LotArea  GrLivArea  Age  Heating_Non GasA  OverallCond_6  \\\n",
       "1153     120500     5890        816   94             False          False   \n",
       "717      157000    10000       1178   51             False           True   \n",
       "354      140000     8400       1595   84             False          False   \n",
       "777      142500    13350        894   50             False          False   \n",
       "1327     130500     6600        816   42             False          False   \n",
       "\n",
       "      OverallCond_7  OverallCond_<=4  OverallCond_>=8  Fireplaces_1  \\\n",
       "1153          False            False             True         False   \n",
       "717           False            False            False          True   \n",
       "354           False            False            False         False   \n",
       "777           False            False            False          True   \n",
       "1327          False            False             True          True   \n",
       "\n",
       "      Fireplaces_>=2  PavedDrive_N  PavedDrive_P  \n",
       "1153           False         False         False  \n",
       "717            False         False         False  \n",
       "354             True         False         False  \n",
       "777            False         False         False  \n",
       "1327           False         False         False  "
      ]
     },
     "execution_count": 110,
     "metadata": {},
     "output_type": "execute_result"
    }
   ],
   "source": [
    "df_train.head()"
   ]
  },
  {
   "cell_type": "code",
   "execution_count": 111,
   "id": "2a7ed459-2d12-449b-9650-95c00dd3405b",
   "metadata": {},
   "outputs": [
    {
     "data": {
      "text/html": [
       "<div>\n",
       "<style scoped>\n",
       "    .dataframe tbody tr th:only-of-type {\n",
       "        vertical-align: middle;\n",
       "    }\n",
       "\n",
       "    .dataframe tbody tr th {\n",
       "        vertical-align: top;\n",
       "    }\n",
       "\n",
       "    .dataframe thead th {\n",
       "        text-align: right;\n",
       "    }\n",
       "</style>\n",
       "<table border=\"1\" class=\"dataframe\">\n",
       "  <thead>\n",
       "    <tr style=\"text-align: right;\">\n",
       "      <th></th>\n",
       "      <th>SalePrice</th>\n",
       "      <th>LotArea</th>\n",
       "      <th>GrLivArea</th>\n",
       "      <th>Age</th>\n",
       "      <th>Heating_Non GasA</th>\n",
       "      <th>OverallCond_6</th>\n",
       "      <th>OverallCond_7</th>\n",
       "      <th>OverallCond_&lt;=4</th>\n",
       "      <th>OverallCond_&gt;=8</th>\n",
       "      <th>Fireplaces_1</th>\n",
       "      <th>Fireplaces_&gt;=2</th>\n",
       "      <th>PavedDrive_N</th>\n",
       "      <th>PavedDrive_P</th>\n",
       "    </tr>\n",
       "  </thead>\n",
       "  <tbody>\n",
       "    <tr>\n",
       "      <th>280</th>\n",
       "      <td>228500</td>\n",
       "      <td>11287</td>\n",
       "      <td>1982</td>\n",
       "      <td>35</td>\n",
       "      <td>False</td>\n",
       "      <td>True</td>\n",
       "      <td>False</td>\n",
       "      <td>False</td>\n",
       "      <td>False</td>\n",
       "      <td>True</td>\n",
       "      <td>False</td>\n",
       "      <td>False</td>\n",
       "      <td>False</td>\n",
       "    </tr>\n",
       "    <tr>\n",
       "      <th>1365</th>\n",
       "      <td>216000</td>\n",
       "      <td>7500</td>\n",
       "      <td>1674</td>\n",
       "      <td>24</td>\n",
       "      <td>False</td>\n",
       "      <td>False</td>\n",
       "      <td>False</td>\n",
       "      <td>False</td>\n",
       "      <td>False</td>\n",
       "      <td>False</td>\n",
       "      <td>False</td>\n",
       "      <td>False</td>\n",
       "      <td>False</td>\n",
       "    </tr>\n",
       "    <tr>\n",
       "      <th>132</th>\n",
       "      <td>150750</td>\n",
       "      <td>7388</td>\n",
       "      <td>1327</td>\n",
       "      <td>65</td>\n",
       "      <td>False</td>\n",
       "      <td>True</td>\n",
       "      <td>False</td>\n",
       "      <td>False</td>\n",
       "      <td>False</td>\n",
       "      <td>False</td>\n",
       "      <td>False</td>\n",
       "      <td>False</td>\n",
       "      <td>False</td>\n",
       "    </tr>\n",
       "    <tr>\n",
       "      <th>357</th>\n",
       "      <td>134000</td>\n",
       "      <td>4224</td>\n",
       "      <td>1142</td>\n",
       "      <td>48</td>\n",
       "      <td>False</td>\n",
       "      <td>False</td>\n",
       "      <td>False</td>\n",
       "      <td>False</td>\n",
       "      <td>False</td>\n",
       "      <td>True</td>\n",
       "      <td>False</td>\n",
       "      <td>False</td>\n",
       "      <td>False</td>\n",
       "    </tr>\n",
       "    <tr>\n",
       "      <th>438</th>\n",
       "      <td>90350</td>\n",
       "      <td>4280</td>\n",
       "      <td>694</td>\n",
       "      <td>111</td>\n",
       "      <td>False</td>\n",
       "      <td>True</td>\n",
       "      <td>False</td>\n",
       "      <td>False</td>\n",
       "      <td>False</td>\n",
       "      <td>True</td>\n",
       "      <td>False</td>\n",
       "      <td>False</td>\n",
       "      <td>True</td>\n",
       "    </tr>\n",
       "  </tbody>\n",
       "</table>\n",
       "</div>"
      ],
      "text/plain": [
       "      SalePrice  LotArea  GrLivArea  Age  Heating_Non GasA  OverallCond_6  \\\n",
       "280      228500    11287       1982   35             False           True   \n",
       "1365     216000     7500       1674   24             False          False   \n",
       "132      150750     7388       1327   65             False           True   \n",
       "357      134000     4224       1142   48             False          False   \n",
       "438       90350     4280        694  111             False           True   \n",
       "\n",
       "      OverallCond_7  OverallCond_<=4  OverallCond_>=8  Fireplaces_1  \\\n",
       "280           False            False            False          True   \n",
       "1365          False            False            False         False   \n",
       "132           False            False            False         False   \n",
       "357           False            False            False          True   \n",
       "438           False            False            False          True   \n",
       "\n",
       "      Fireplaces_>=2  PavedDrive_N  PavedDrive_P  \n",
       "280            False         False         False  \n",
       "1365           False         False         False  \n",
       "132            False         False         False  \n",
       "357            False         False         False  \n",
       "438            False         False          True  "
      ]
     },
     "execution_count": 111,
     "metadata": {},
     "output_type": "execute_result"
    }
   ],
   "source": [
    "df_test.head()"
   ]
  },
  {
   "cell_type": "code",
   "execution_count": null,
   "id": "0ffd9eca-2380-407c-9c7f-07ec7ba7baef",
   "metadata": {},
   "outputs": [],
   "source": []
  },
  {
   "cell_type": "code",
   "execution_count": null,
   "id": "a0024c34-192d-4f87-851c-9a136b97e6d3",
   "metadata": {},
   "outputs": [],
   "source": [
    "#11 Zmienna ilościowa analiza skośności "
   ]
  },
  {
   "cell_type": "code",
   "execution_count": null,
   "id": "27ade4e4-0da5-4772-a03a-b35cc0550227",
   "metadata": {},
   "outputs": [],
   "source": []
  },
  {
   "cell_type": "code",
   "execution_count": 112,
   "id": "eacdb680-d1a2-48de-b5c1-648e4085e639",
   "metadata": {},
   "outputs": [
    {
     "data": {
      "text/html": [
       "<div>\n",
       "<style scoped>\n",
       "    .dataframe tbody tr th:only-of-type {\n",
       "        vertical-align: middle;\n",
       "    }\n",
       "\n",
       "    .dataframe tbody tr th {\n",
       "        vertical-align: top;\n",
       "    }\n",
       "\n",
       "    .dataframe thead th {\n",
       "        text-align: right;\n",
       "    }\n",
       "</style>\n",
       "<table border=\"1\" class=\"dataframe\">\n",
       "  <thead>\n",
       "    <tr style=\"text-align: right;\">\n",
       "      <th></th>\n",
       "      <th>SalePrice</th>\n",
       "      <th>LotArea</th>\n",
       "      <th>GrLivArea</th>\n",
       "      <th>Age</th>\n",
       "      <th>Heating_Non GasA</th>\n",
       "      <th>OverallCond_6</th>\n",
       "      <th>OverallCond_7</th>\n",
       "      <th>OverallCond_&lt;=4</th>\n",
       "      <th>OverallCond_&gt;=8</th>\n",
       "      <th>Fireplaces_1</th>\n",
       "      <th>Fireplaces_&gt;=2</th>\n",
       "      <th>PavedDrive_N</th>\n",
       "      <th>PavedDrive_P</th>\n",
       "    </tr>\n",
       "  </thead>\n",
       "  <tbody>\n",
       "    <tr>\n",
       "      <th>1153</th>\n",
       "      <td>120500</td>\n",
       "      <td>5890</td>\n",
       "      <td>816</td>\n",
       "      <td>94</td>\n",
       "      <td>False</td>\n",
       "      <td>False</td>\n",
       "      <td>False</td>\n",
       "      <td>False</td>\n",
       "      <td>True</td>\n",
       "      <td>False</td>\n",
       "      <td>False</td>\n",
       "      <td>False</td>\n",
       "      <td>False</td>\n",
       "    </tr>\n",
       "    <tr>\n",
       "      <th>717</th>\n",
       "      <td>157000</td>\n",
       "      <td>10000</td>\n",
       "      <td>1178</td>\n",
       "      <td>51</td>\n",
       "      <td>False</td>\n",
       "      <td>True</td>\n",
       "      <td>False</td>\n",
       "      <td>False</td>\n",
       "      <td>False</td>\n",
       "      <td>True</td>\n",
       "      <td>False</td>\n",
       "      <td>False</td>\n",
       "      <td>False</td>\n",
       "    </tr>\n",
       "    <tr>\n",
       "      <th>354</th>\n",
       "      <td>140000</td>\n",
       "      <td>8400</td>\n",
       "      <td>1595</td>\n",
       "      <td>84</td>\n",
       "      <td>False</td>\n",
       "      <td>False</td>\n",
       "      <td>False</td>\n",
       "      <td>False</td>\n",
       "      <td>False</td>\n",
       "      <td>False</td>\n",
       "      <td>True</td>\n",
       "      <td>False</td>\n",
       "      <td>False</td>\n",
       "    </tr>\n",
       "    <tr>\n",
       "      <th>777</th>\n",
       "      <td>142500</td>\n",
       "      <td>13350</td>\n",
       "      <td>894</td>\n",
       "      <td>50</td>\n",
       "      <td>False</td>\n",
       "      <td>False</td>\n",
       "      <td>False</td>\n",
       "      <td>False</td>\n",
       "      <td>False</td>\n",
       "      <td>True</td>\n",
       "      <td>False</td>\n",
       "      <td>False</td>\n",
       "      <td>False</td>\n",
       "    </tr>\n",
       "    <tr>\n",
       "      <th>1327</th>\n",
       "      <td>130500</td>\n",
       "      <td>6600</td>\n",
       "      <td>816</td>\n",
       "      <td>42</td>\n",
       "      <td>False</td>\n",
       "      <td>False</td>\n",
       "      <td>False</td>\n",
       "      <td>False</td>\n",
       "      <td>True</td>\n",
       "      <td>True</td>\n",
       "      <td>False</td>\n",
       "      <td>False</td>\n",
       "      <td>False</td>\n",
       "    </tr>\n",
       "  </tbody>\n",
       "</table>\n",
       "</div>"
      ],
      "text/plain": [
       "      SalePrice  LotArea  GrLivArea  Age  Heating_Non GasA  OverallCond_6  \\\n",
       "1153     120500     5890        816   94             False          False   \n",
       "717      157000    10000       1178   51             False           True   \n",
       "354      140000     8400       1595   84             False          False   \n",
       "777      142500    13350        894   50             False          False   \n",
       "1327     130500     6600        816   42             False          False   \n",
       "\n",
       "      OverallCond_7  OverallCond_<=4  OverallCond_>=8  Fireplaces_1  \\\n",
       "1153          False            False             True         False   \n",
       "717           False            False            False          True   \n",
       "354           False            False            False         False   \n",
       "777           False            False            False          True   \n",
       "1327          False            False             True          True   \n",
       "\n",
       "      Fireplaces_>=2  PavedDrive_N  PavedDrive_P  \n",
       "1153           False         False         False  \n",
       "717            False         False         False  \n",
       "354             True         False         False  \n",
       "777            False         False         False  \n",
       "1327           False         False         False  "
      ]
     },
     "execution_count": 112,
     "metadata": {},
     "output_type": "execute_result"
    }
   ],
   "source": [
    "df_train.head()"
   ]
  },
  {
   "cell_type": "code",
   "execution_count": 116,
   "id": "49cc5a59-cdff-42bc-833a-232025c9289d",
   "metadata": {},
   "outputs": [
    {
     "data": {
      "text/html": [
       "<div>\n",
       "<style scoped>\n",
       "    .dataframe tbody tr th:only-of-type {\n",
       "        vertical-align: middle;\n",
       "    }\n",
       "\n",
       "    .dataframe tbody tr th {\n",
       "        vertical-align: top;\n",
       "    }\n",
       "\n",
       "    .dataframe thead th {\n",
       "        text-align: right;\n",
       "    }\n",
       "</style>\n",
       "<table border=\"1\" class=\"dataframe\">\n",
       "  <thead>\n",
       "    <tr style=\"text-align: right;\">\n",
       "      <th></th>\n",
       "      <th>SalePrice</th>\n",
       "      <th>LotArea</th>\n",
       "      <th>GrLivArea</th>\n",
       "      <th>Age</th>\n",
       "      <th>Heating_Non GasA</th>\n",
       "      <th>OverallCond_6</th>\n",
       "      <th>OverallCond_7</th>\n",
       "      <th>OverallCond_&lt;=4</th>\n",
       "      <th>OverallCond_&gt;=8</th>\n",
       "      <th>Fireplaces_1</th>\n",
       "      <th>Fireplaces_&gt;=2</th>\n",
       "      <th>PavedDrive_N</th>\n",
       "      <th>PavedDrive_P</th>\n",
       "    </tr>\n",
       "  </thead>\n",
       "  <tbody>\n",
       "    <tr>\n",
       "      <th>280</th>\n",
       "      <td>228500</td>\n",
       "      <td>11287</td>\n",
       "      <td>1982</td>\n",
       "      <td>35</td>\n",
       "      <td>False</td>\n",
       "      <td>True</td>\n",
       "      <td>False</td>\n",
       "      <td>False</td>\n",
       "      <td>False</td>\n",
       "      <td>True</td>\n",
       "      <td>False</td>\n",
       "      <td>False</td>\n",
       "      <td>False</td>\n",
       "    </tr>\n",
       "    <tr>\n",
       "      <th>1365</th>\n",
       "      <td>216000</td>\n",
       "      <td>7500</td>\n",
       "      <td>1674</td>\n",
       "      <td>24</td>\n",
       "      <td>False</td>\n",
       "      <td>False</td>\n",
       "      <td>False</td>\n",
       "      <td>False</td>\n",
       "      <td>False</td>\n",
       "      <td>False</td>\n",
       "      <td>False</td>\n",
       "      <td>False</td>\n",
       "      <td>False</td>\n",
       "    </tr>\n",
       "    <tr>\n",
       "      <th>132</th>\n",
       "      <td>150750</td>\n",
       "      <td>7388</td>\n",
       "      <td>1327</td>\n",
       "      <td>65</td>\n",
       "      <td>False</td>\n",
       "      <td>True</td>\n",
       "      <td>False</td>\n",
       "      <td>False</td>\n",
       "      <td>False</td>\n",
       "      <td>False</td>\n",
       "      <td>False</td>\n",
       "      <td>False</td>\n",
       "      <td>False</td>\n",
       "    </tr>\n",
       "    <tr>\n",
       "      <th>357</th>\n",
       "      <td>134000</td>\n",
       "      <td>4224</td>\n",
       "      <td>1142</td>\n",
       "      <td>48</td>\n",
       "      <td>False</td>\n",
       "      <td>False</td>\n",
       "      <td>False</td>\n",
       "      <td>False</td>\n",
       "      <td>False</td>\n",
       "      <td>True</td>\n",
       "      <td>False</td>\n",
       "      <td>False</td>\n",
       "      <td>False</td>\n",
       "    </tr>\n",
       "    <tr>\n",
       "      <th>438</th>\n",
       "      <td>90350</td>\n",
       "      <td>4280</td>\n",
       "      <td>694</td>\n",
       "      <td>111</td>\n",
       "      <td>False</td>\n",
       "      <td>True</td>\n",
       "      <td>False</td>\n",
       "      <td>False</td>\n",
       "      <td>False</td>\n",
       "      <td>True</td>\n",
       "      <td>False</td>\n",
       "      <td>False</td>\n",
       "      <td>True</td>\n",
       "    </tr>\n",
       "  </tbody>\n",
       "</table>\n",
       "</div>"
      ],
      "text/plain": [
       "      SalePrice  LotArea  GrLivArea  Age  Heating_Non GasA  OverallCond_6  \\\n",
       "280      228500    11287       1982   35             False           True   \n",
       "1365     216000     7500       1674   24             False          False   \n",
       "132      150750     7388       1327   65             False           True   \n",
       "357      134000     4224       1142   48             False          False   \n",
       "438       90350     4280        694  111             False           True   \n",
       "\n",
       "      OverallCond_7  OverallCond_<=4  OverallCond_>=8  Fireplaces_1  \\\n",
       "280           False            False            False          True   \n",
       "1365          False            False            False         False   \n",
       "132           False            False            False         False   \n",
       "357           False            False            False          True   \n",
       "438           False            False            False          True   \n",
       "\n",
       "      Fireplaces_>=2  PavedDrive_N  PavedDrive_P  \n",
       "280            False         False         False  \n",
       "1365           False         False         False  \n",
       "132            False         False         False  \n",
       "357            False         False         False  \n",
       "438            False         False          True  "
      ]
     },
     "execution_count": 116,
     "metadata": {},
     "output_type": "execute_result"
    }
   ],
   "source": [
    "df_test.head()"
   ]
  },
  {
   "cell_type": "code",
   "execution_count": 117,
   "id": "b18d9d2b-224d-4d9a-bde0-c1d8d646f99f",
   "metadata": {},
   "outputs": [],
   "source": [
    "df_train = df_train.astype(int)"
   ]
  },
  {
   "cell_type": "code",
   "execution_count": 118,
   "id": "49ce2510-9acc-4cd3-9e3f-79373747198e",
   "metadata": {},
   "outputs": [
    {
     "data": {
      "text/html": [
       "<div>\n",
       "<style scoped>\n",
       "    .dataframe tbody tr th:only-of-type {\n",
       "        vertical-align: middle;\n",
       "    }\n",
       "\n",
       "    .dataframe tbody tr th {\n",
       "        vertical-align: top;\n",
       "    }\n",
       "\n",
       "    .dataframe thead th {\n",
       "        text-align: right;\n",
       "    }\n",
       "</style>\n",
       "<table border=\"1\" class=\"dataframe\">\n",
       "  <thead>\n",
       "    <tr style=\"text-align: right;\">\n",
       "      <th></th>\n",
       "      <th>SalePrice</th>\n",
       "      <th>LotArea</th>\n",
       "      <th>GrLivArea</th>\n",
       "      <th>Age</th>\n",
       "      <th>Heating_Non GasA</th>\n",
       "      <th>OverallCond_6</th>\n",
       "      <th>OverallCond_7</th>\n",
       "      <th>OverallCond_&lt;=4</th>\n",
       "      <th>OverallCond_&gt;=8</th>\n",
       "      <th>Fireplaces_1</th>\n",
       "      <th>Fireplaces_&gt;=2</th>\n",
       "      <th>PavedDrive_N</th>\n",
       "      <th>PavedDrive_P</th>\n",
       "    </tr>\n",
       "  </thead>\n",
       "  <tbody>\n",
       "    <tr>\n",
       "      <th>1153</th>\n",
       "      <td>120500</td>\n",
       "      <td>5890</td>\n",
       "      <td>816</td>\n",
       "      <td>94</td>\n",
       "      <td>0</td>\n",
       "      <td>0</td>\n",
       "      <td>0</td>\n",
       "      <td>0</td>\n",
       "      <td>1</td>\n",
       "      <td>0</td>\n",
       "      <td>0</td>\n",
       "      <td>0</td>\n",
       "      <td>0</td>\n",
       "    </tr>\n",
       "    <tr>\n",
       "      <th>717</th>\n",
       "      <td>157000</td>\n",
       "      <td>10000</td>\n",
       "      <td>1178</td>\n",
       "      <td>51</td>\n",
       "      <td>0</td>\n",
       "      <td>1</td>\n",
       "      <td>0</td>\n",
       "      <td>0</td>\n",
       "      <td>0</td>\n",
       "      <td>1</td>\n",
       "      <td>0</td>\n",
       "      <td>0</td>\n",
       "      <td>0</td>\n",
       "    </tr>\n",
       "    <tr>\n",
       "      <th>354</th>\n",
       "      <td>140000</td>\n",
       "      <td>8400</td>\n",
       "      <td>1595</td>\n",
       "      <td>84</td>\n",
       "      <td>0</td>\n",
       "      <td>0</td>\n",
       "      <td>0</td>\n",
       "      <td>0</td>\n",
       "      <td>0</td>\n",
       "      <td>0</td>\n",
       "      <td>1</td>\n",
       "      <td>0</td>\n",
       "      <td>0</td>\n",
       "    </tr>\n",
       "    <tr>\n",
       "      <th>777</th>\n",
       "      <td>142500</td>\n",
       "      <td>13350</td>\n",
       "      <td>894</td>\n",
       "      <td>50</td>\n",
       "      <td>0</td>\n",
       "      <td>0</td>\n",
       "      <td>0</td>\n",
       "      <td>0</td>\n",
       "      <td>0</td>\n",
       "      <td>1</td>\n",
       "      <td>0</td>\n",
       "      <td>0</td>\n",
       "      <td>0</td>\n",
       "    </tr>\n",
       "    <tr>\n",
       "      <th>1327</th>\n",
       "      <td>130500</td>\n",
       "      <td>6600</td>\n",
       "      <td>816</td>\n",
       "      <td>42</td>\n",
       "      <td>0</td>\n",
       "      <td>0</td>\n",
       "      <td>0</td>\n",
       "      <td>0</td>\n",
       "      <td>1</td>\n",
       "      <td>1</td>\n",
       "      <td>0</td>\n",
       "      <td>0</td>\n",
       "      <td>0</td>\n",
       "    </tr>\n",
       "  </tbody>\n",
       "</table>\n",
       "</div>"
      ],
      "text/plain": [
       "      SalePrice  LotArea  GrLivArea  Age  Heating_Non GasA  OverallCond_6  \\\n",
       "1153     120500     5890        816   94                 0              0   \n",
       "717      157000    10000       1178   51                 0              1   \n",
       "354      140000     8400       1595   84                 0              0   \n",
       "777      142500    13350        894   50                 0              0   \n",
       "1327     130500     6600        816   42                 0              0   \n",
       "\n",
       "      OverallCond_7  OverallCond_<=4  OverallCond_>=8  Fireplaces_1  \\\n",
       "1153              0                0                1             0   \n",
       "717               0                0                0             1   \n",
       "354               0                0                0             0   \n",
       "777               0                0                0             1   \n",
       "1327              0                0                1             1   \n",
       "\n",
       "      Fireplaces_>=2  PavedDrive_N  PavedDrive_P  \n",
       "1153               0             0             0  \n",
       "717                0             0             0  \n",
       "354                1             0             0  \n",
       "777                0             0             0  \n",
       "1327               0             0             0  "
      ]
     },
     "execution_count": 118,
     "metadata": {},
     "output_type": "execute_result"
    }
   ],
   "source": [
    "df_train.head()"
   ]
  },
  {
   "cell_type": "code",
   "execution_count": 119,
   "id": "95841914-1a6f-4e96-99b6-50e760bbb04c",
   "metadata": {},
   "outputs": [],
   "source": [
    "df_test = df_test.astype(int)"
   ]
  },
  {
   "cell_type": "code",
   "execution_count": null,
   "id": "79df5a5e-f66b-4f9b-8cb1-89aba35cacf2",
   "metadata": {},
   "outputs": [],
   "source": []
  },
  {
   "cell_type": "code",
   "execution_count": null,
   "id": "4d58857a-6b64-4112-a0e8-9a5124d79161",
   "metadata": {},
   "outputs": [],
   "source": []
  },
  {
   "cell_type": "code",
   "execution_count": null,
   "id": "fcf8a25f-d75c-4581-97f8-d9b62667387f",
   "metadata": {},
   "outputs": [],
   "source": []
  },
  {
   "cell_type": "code",
   "execution_count": null,
   "id": "ca58cf30-5810-4828-a880-9452ef9f0e09",
   "metadata": {},
   "outputs": [],
   "source": [
    "#Analizujemy zmienne numeryczne"
   ]
  },
  {
   "cell_type": "code",
   "execution_count": 113,
   "id": "4d888d0d-4714-4250-9df8-491da8bee5e3",
   "metadata": {},
   "outputs": [],
   "source": [
    "nums = ['SalePrice', 'LotArea', 'GrLivArea', 'Age']"
   ]
  },
  {
   "cell_type": "code",
   "execution_count": null,
   "id": "9af749b2-6a4e-44a4-8ce1-e9ceae1636fd",
   "metadata": {},
   "outputs": [],
   "source": [
    "#dla el w nims printuj el wyznacz poziom skosnosci za pomoca metody skew, wyznacz wykres dla każdej zmiennej sns.histplot(df_tain[i])\n",
    "#plt.show()"
   ]
  },
  {
   "cell_type": "code",
   "execution_count": 115,
   "id": "f9314378-dacc-42fc-ae34-f2015fca9879",
   "metadata": {},
   "outputs": [
    {
     "name": "stdout",
     "output_type": "stream",
     "text": [
      "SalePrice\n",
      "2.032075855188361\n"
     ]
    },
    {
     "name": "stderr",
     "output_type": "stream",
     "text": [
      "C:\\Anaconda\\Lib\\site-packages\\seaborn\\_oldcore.py:1119: FutureWarning: use_inf_as_na option is deprecated and will be removed in a future version. Convert inf values to NaN before operating instead.\n",
      "  with pd.option_context('mode.use_inf_as_na', True):\n"
     ]
    },
    {
     "data": {
      "image/png": "[encoded data removed]",
      "text/plain": [
       "<Figure size 640x480 with 1 Axes>"
      ]
     },
     "metadata": {},
     "output_type": "display_data"
    },
    {
     "name": "stdout",
     "output_type": "stream",
     "text": [
      "LotArea\n",
      "11.546185232443355\n"
     ]
    },
    {
     "name": "stderr",
     "output_type": "stream",
     "text": [
      "C:\\Anaconda\\Lib\\site-packages\\seaborn\\_oldcore.py:1119: FutureWarning: use_inf_as_na option is deprecated and will be removed in a future version. Convert inf values to NaN before operating instead.\n",
      "  with pd.option_context('mode.use_inf_as_na', True):\n"
     ]
    },
    {
     "data": {
      "image/png": "[encoded data removed]",
      "text/plain": [
       "<Figure size 640x480 with 1 Axes>"
      ]
     },
     "metadata": {},
     "output_type": "display_data"
    },
    {
     "name": "stdout",
     "output_type": "stream",
     "text": [
      "GrLivArea\n",
      "1.575271441893833\n"
     ]
    },
    {
     "name": "stderr",
     "output_type": "stream",
     "text": [
      "C:\\Anaconda\\Lib\\site-packages\\seaborn\\_oldcore.py:1119: FutureWarning: use_inf_as_na option is deprecated and will be removed in a future version. Convert inf values to NaN before operating instead.\n",
      "  with pd.option_context('mode.use_inf_as_na', True):\n"
     ]
    },
    {
     "data": {
      "image/png": "[encoded data removed]",
      "text/plain": [
       "<Figure size 640x480 with 1 Axes>"
      ]
     },
     "metadata": {},
     "output_type": "display_data"
    },
    {
     "name": "stdout",
     "output_type": "stream",
     "text": [
      "Age\n",
      "0.6242226035695754\n"
     ]
    },
    {
     "name": "stderr",
     "output_type": "stream",
     "text": [
      "C:\\Anaconda\\Lib\\site-packages\\seaborn\\_oldcore.py:1119: FutureWarning: use_inf_as_na option is deprecated and will be removed in a future version. Convert inf values to NaN before operating instead.\n",
      "  with pd.option_context('mode.use_inf_as_na', True):\n"
     ]
    },
    {
     "data": {
      "image/png": "[encoded data removed]",
      "text/plain": [
       "<Figure size 640x480 with 1 Axes>"
      ]
     },
     "metadata": {},
     "output_type": "display_data"
    }
   ],
   "source": [
    "for i in nums:\n",
    "    print(i)\n",
    "    print(df_train[i].skew())\n",
    "    sns.histplot(df_train[i])\n",
    "    plt.show()\n",
    "    print(' ')"
   ]
  },
  {
   "cell_type": "code",
   "execution_count": null,
   "id": "2cf94fe2-07ae-4fe4-876e-d170864e7c36",
   "metadata": {},
   "outputs": [],
   "source": [
    "#Saleprice ma skośność ponad 2.03 prawostronna skosność do +-0.5 słaba skosnosć rozkład symetryczny. Powyżej +-0.5 skośnosć umiarkowana. \n",
    "#Powyżej +-1 silna skośnośc"
   ]
  },
  {
   "cell_type": "code",
   "execution_count": null,
   "id": "489ac10c-dc36-429d-aa10-63e20bfcddcb",
   "metadata": {},
   "outputs": [],
   "source": [
    "#LotArea ma skośnośc ponad 11 silnie skoncetrowane wartości przy poczatku rozkładu a poxniej ogon z prawej"
   ]
  },
  {
   "cell_type": "code",
   "execution_count": null,
   "id": "b897380b-bbbc-40c5-8198-84015281d667",
   "metadata": {},
   "outputs": [],
   "source": [
    "#GrLivArea ma równiez silną skośnośc powyżej 1.57"
   ]
  },
  {
   "cell_type": "code",
   "execution_count": null,
   "id": "9ba1551e-ac34-4ebf-829d-c170331f9886",
   "metadata": {},
   "outputs": [],
   "source": [
    "#Age skośnośc 0.62 skośnosc rpawostronna ale dużo niższa"
   ]
  },
  {
   "cell_type": "code",
   "execution_count": null,
   "id": "cfcaba42-4f01-4357-970c-6f279cf4fdc6",
   "metadata": {},
   "outputs": [],
   "source": [
    "#Aby rozwiązać problem skośnosci logarytmujemy wykres..."
   ]
  },
  {
   "cell_type": "code",
   "execution_count": null,
   "id": "4aab517d-8f82-410c-8c21-5a0571beb7ac",
   "metadata": {},
   "outputs": [],
   "source": [
    "#Stworzymy wykresy w formie zlogarytmowanej. i sprawdzimy czy logarytmizacjarozkładunam pomoże...."
   ]
  },
  {
   "cell_type": "code",
   "execution_count": null,
   "id": "ee891667-505f-4d42-945e-e7bbf1c4cbe9",
   "metadata": {},
   "outputs": [],
   "source": []
  },
  {
   "cell_type": "code",
   "execution_count": 120,
   "id": "6214539d-cebc-44e8-aebe-cdf9ce7f3c65",
   "metadata": {},
   "outputs": [
    {
     "name": "stdout",
     "output_type": "stream",
     "text": [
      "SalePrice\n",
      "0.09499601869160085\n"
     ]
    },
    {
     "name": "stderr",
     "output_type": "stream",
     "text": [
      "C:\\Anaconda\\Lib\\site-packages\\seaborn\\_oldcore.py:1119: FutureWarning: use_inf_as_na option is deprecated and will be removed in a future version. Convert inf values to NaN before operating instead.\n",
      "  with pd.option_context('mode.use_inf_as_na', True):\n"
     ]
    },
    {
     "data": {
      "image/png": "[encoded data removed]",
      "text/plain": [
       "<Figure size 640x480 with 1 Axes>"
      ]
     },
     "metadata": {},
     "output_type": "display_data"
    },
    {
     "name": "stdout",
     "output_type": "stream",
     "text": [
      " \n",
      "LotArea\n",
      "0.1423154925761638\n"
     ]
    },
    {
     "name": "stderr",
     "output_type": "stream",
     "text": [
      "C:\\Anaconda\\Lib\\site-packages\\seaborn\\_oldcore.py:1119: FutureWarning: use_inf_as_na option is deprecated and will be removed in a future version. Convert inf values to NaN before operating instead.\n",
      "  with pd.option_context('mode.use_inf_as_na', True):\n"
     ]
    },
    {
     "data": {
      "image/png": "[encoded data removed]",
      "text/plain": [
       "<Figure size 640x480 with 1 Axes>"
      ]
     },
     "metadata": {},
     "output_type": "display_data"
    },
    {
     "name": "stdout",
     "output_type": "stream",
     "text": [
      " \n",
      "GrLivArea\n",
      "0.025874550940670694\n"
     ]
    },
    {
     "name": "stderr",
     "output_type": "stream",
     "text": [
      "C:\\Anaconda\\Lib\\site-packages\\seaborn\\_oldcore.py:1119: FutureWarning: use_inf_as_na option is deprecated and will be removed in a future version. Convert inf values to NaN before operating instead.\n",
      "  with pd.option_context('mode.use_inf_as_na', True):\n"
     ]
    },
    {
     "data": {
      "image/png": "[encoded data removed]",
      "text/plain": [
       "<Figure size 640x480 with 1 Axes>"
      ]
     },
     "metadata": {},
     "output_type": "display_data"
    },
    {
     "name": "stdout",
     "output_type": "stream",
     "text": [
      " \n",
      "Age\n",
      "-0.13532040020686603\n"
     ]
    },
    {
     "name": "stderr",
     "output_type": "stream",
     "text": [
      "C:\\Anaconda\\Lib\\site-packages\\seaborn\\_oldcore.py:1119: FutureWarning: use_inf_as_na option is deprecated and will be removed in a future version. Convert inf values to NaN before operating instead.\n",
      "  with pd.option_context('mode.use_inf_as_na', True):\n"
     ]
    },
    {
     "data": {
      "image/png": "[encoded data removed]",
      "text/plain": [
       "<Figure size 640x480 with 1 Axes>"
      ]
     },
     "metadata": {},
     "output_type": "display_data"
    },
    {
     "name": "stdout",
     "output_type": "stream",
     "text": [
      " \n"
     ]
    }
   ],
   "source": [
    "for i in nums:\n",
    "    print(i)\n",
    "    print(np.log(df_train[i]).skew())\n",
    "    sns.histplot(np.log(df_train[i]))\n",
    "    plt.show()\n",
    "    print(' ')"
   ]
  },
  {
   "cell_type": "code",
   "execution_count": null,
   "id": "b62b9ac7-9a1e-496c-a8f4-fa6692ee61a9",
   "metadata": {},
   "outputs": [],
   "source": [
    "#SalePrice z 2,03 skośnośc spadła do 0,09 rozkłąd prawie idealnie symetryczny"
   ]
  },
  {
   "cell_type": "code",
   "execution_count": null,
   "id": "e5acac18-fb4e-454b-b365-115f695ffe3e",
   "metadata": {},
   "outputs": [],
   "source": [
    "#LotArea ze skońsości z 11 do 0,14"
   ]
  },
  {
   "cell_type": "code",
   "execution_count": null,
   "id": "999b08ed-498d-4860-b814-0d446e6a5634",
   "metadata": {},
   "outputs": [],
   "source": [
    "#GrLivArea z 1,57 na 0,02"
   ]
  },
  {
   "cell_type": "code",
   "execution_count": null,
   "id": "4595a5c6-5d31-4214-896c-75fd3bfffdbd",
   "metadata": {},
   "outputs": [],
   "source": [
    "#Age 0,62 na -0,16"
   ]
  },
  {
   "cell_type": "code",
   "execution_count": null,
   "id": "bac0d769-62b6-4c36-a412-63b71b77c349",
   "metadata": {},
   "outputs": [],
   "source": [
    "#Zmienne poddamy logarytmizacji i zostawimy tylko te, które jej poddamy(poddamy logarytmowi)"
   ]
  },
  {
   "cell_type": "code",
   "execution_count": null,
   "id": "0ff20b1f-0e79-48aa-8278-1ce1b6dc7dca",
   "metadata": {},
   "outputs": [],
   "source": []
  },
  {
   "cell_type": "code",
   "execution_count": 121,
   "id": "b7a4217e-3ad4-47a9-b886-aa0774beb391",
   "metadata": {},
   "outputs": [],
   "source": [
    "for i in nums:\n",
    "    df_train[i] = np.log(df_train[i])\n",
    "    df_test[i]  = np.log(df_test[i])"
   ]
  },
  {
   "cell_type": "code",
   "execution_count": 122,
   "id": "310d135e-b564-4844-a093-bb51a35444c4",
   "metadata": {},
   "outputs": [
    {
     "data": {
      "text/html": [
       "<div>\n",
       "<style scoped>\n",
       "    .dataframe tbody tr th:only-of-type {\n",
       "        vertical-align: middle;\n",
       "    }\n",
       "\n",
       "    .dataframe tbody tr th {\n",
       "        vertical-align: top;\n",
       "    }\n",
       "\n",
       "    .dataframe thead th {\n",
       "        text-align: right;\n",
       "    }\n",
       "</style>\n",
       "<table border=\"1\" class=\"dataframe\">\n",
       "  <thead>\n",
       "    <tr style=\"text-align: right;\">\n",
       "      <th></th>\n",
       "      <th>SalePrice</th>\n",
       "      <th>LotArea</th>\n",
       "      <th>GrLivArea</th>\n",
       "      <th>Age</th>\n",
       "      <th>Heating_Non GasA</th>\n",
       "      <th>OverallCond_6</th>\n",
       "      <th>OverallCond_7</th>\n",
       "      <th>OverallCond_&lt;=4</th>\n",
       "      <th>OverallCond_&gt;=8</th>\n",
       "      <th>Fireplaces_1</th>\n",
       "      <th>Fireplaces_&gt;=2</th>\n",
       "      <th>PavedDrive_N</th>\n",
       "      <th>PavedDrive_P</th>\n",
       "    </tr>\n",
       "  </thead>\n",
       "  <tbody>\n",
       "    <tr>\n",
       "      <th>1153</th>\n",
       "      <td>11.699405</td>\n",
       "      <td>8.681011</td>\n",
       "      <td>6.704414</td>\n",
       "      <td>4.543295</td>\n",
       "      <td>0</td>\n",
       "      <td>0</td>\n",
       "      <td>0</td>\n",
       "      <td>0</td>\n",
       "      <td>1</td>\n",
       "      <td>0</td>\n",
       "      <td>0</td>\n",
       "      <td>0</td>\n",
       "      <td>0</td>\n",
       "    </tr>\n",
       "    <tr>\n",
       "      <th>717</th>\n",
       "      <td>11.964001</td>\n",
       "      <td>9.210340</td>\n",
       "      <td>7.071573</td>\n",
       "      <td>3.931826</td>\n",
       "      <td>0</td>\n",
       "      <td>1</td>\n",
       "      <td>0</td>\n",
       "      <td>0</td>\n",
       "      <td>0</td>\n",
       "      <td>1</td>\n",
       "      <td>0</td>\n",
       "      <td>0</td>\n",
       "      <td>0</td>\n",
       "    </tr>\n",
       "    <tr>\n",
       "      <th>354</th>\n",
       "      <td>11.849398</td>\n",
       "      <td>9.035987</td>\n",
       "      <td>7.374629</td>\n",
       "      <td>4.430817</td>\n",
       "      <td>0</td>\n",
       "      <td>0</td>\n",
       "      <td>0</td>\n",
       "      <td>0</td>\n",
       "      <td>0</td>\n",
       "      <td>0</td>\n",
       "      <td>1</td>\n",
       "      <td>0</td>\n",
       "      <td>0</td>\n",
       "    </tr>\n",
       "    <tr>\n",
       "      <th>777</th>\n",
       "      <td>11.867097</td>\n",
       "      <td>9.499272</td>\n",
       "      <td>6.795706</td>\n",
       "      <td>3.912023</td>\n",
       "      <td>0</td>\n",
       "      <td>0</td>\n",
       "      <td>0</td>\n",
       "      <td>0</td>\n",
       "      <td>0</td>\n",
       "      <td>1</td>\n",
       "      <td>0</td>\n",
       "      <td>0</td>\n",
       "      <td>0</td>\n",
       "    </tr>\n",
       "    <tr>\n",
       "      <th>1327</th>\n",
       "      <td>11.779129</td>\n",
       "      <td>8.794825</td>\n",
       "      <td>6.704414</td>\n",
       "      <td>3.737670</td>\n",
       "      <td>0</td>\n",
       "      <td>0</td>\n",
       "      <td>0</td>\n",
       "      <td>0</td>\n",
       "      <td>1</td>\n",
       "      <td>1</td>\n",
       "      <td>0</td>\n",
       "      <td>0</td>\n",
       "      <td>0</td>\n",
       "    </tr>\n",
       "  </tbody>\n",
       "</table>\n",
       "</div>"
      ],
      "text/plain": [
       "      SalePrice   LotArea  GrLivArea       Age  Heating_Non GasA  \\\n",
       "1153  11.699405  8.681011   6.704414  4.543295                 0   \n",
       "717   11.964001  9.210340   7.071573  3.931826                 0   \n",
       "354   11.849398  9.035987   7.374629  4.430817                 0   \n",
       "777   11.867097  9.499272   6.795706  3.912023                 0   \n",
       "1327  11.779129  8.794825   6.704414  3.737670                 0   \n",
       "\n",
       "      OverallCond_6  OverallCond_7  OverallCond_<=4  OverallCond_>=8  \\\n",
       "1153              0              0                0                1   \n",
       "717               1              0                0                0   \n",
       "354               0              0                0                0   \n",
       "777               0              0                0                0   \n",
       "1327              0              0                0                1   \n",
       "\n",
       "      Fireplaces_1  Fireplaces_>=2  PavedDrive_N  PavedDrive_P  \n",
       "1153             0               0             0             0  \n",
       "717              1               0             0             0  \n",
       "354              0               1             0             0  \n",
       "777              1               0             0             0  \n",
       "1327             1               0             0             0  "
      ]
     },
     "execution_count": 122,
     "metadata": {},
     "output_type": "execute_result"
    }
   ],
   "source": [
    "df_train.head()"
   ]
  },
  {
   "cell_type": "code",
   "execution_count": 123,
   "id": "b6fe1124-8f8f-419d-b5e5-59d631e7d040",
   "metadata": {},
   "outputs": [
    {
     "data": {
      "text/html": [
       "<div>\n",
       "<style scoped>\n",
       "    .dataframe tbody tr th:only-of-type {\n",
       "        vertical-align: middle;\n",
       "    }\n",
       "\n",
       "    .dataframe tbody tr th {\n",
       "        vertical-align: top;\n",
       "    }\n",
       "\n",
       "    .dataframe thead th {\n",
       "        text-align: right;\n",
       "    }\n",
       "</style>\n",
       "<table border=\"1\" class=\"dataframe\">\n",
       "  <thead>\n",
       "    <tr style=\"text-align: right;\">\n",
       "      <th></th>\n",
       "      <th>SalePrice</th>\n",
       "      <th>LotArea</th>\n",
       "      <th>GrLivArea</th>\n",
       "      <th>Age</th>\n",
       "      <th>Heating_Non GasA</th>\n",
       "      <th>OverallCond_6</th>\n",
       "      <th>OverallCond_7</th>\n",
       "      <th>OverallCond_&lt;=4</th>\n",
       "      <th>OverallCond_&gt;=8</th>\n",
       "      <th>Fireplaces_1</th>\n",
       "      <th>Fireplaces_&gt;=2</th>\n",
       "      <th>PavedDrive_N</th>\n",
       "      <th>PavedDrive_P</th>\n",
       "    </tr>\n",
       "  </thead>\n",
       "  <tbody>\n",
       "    <tr>\n",
       "      <th>280</th>\n",
       "      <td>12.339291</td>\n",
       "      <td>9.331407</td>\n",
       "      <td>7.591862</td>\n",
       "      <td>3.555348</td>\n",
       "      <td>0</td>\n",
       "      <td>1</td>\n",
       "      <td>0</td>\n",
       "      <td>0</td>\n",
       "      <td>0</td>\n",
       "      <td>1</td>\n",
       "      <td>0</td>\n",
       "      <td>0</td>\n",
       "      <td>0</td>\n",
       "    </tr>\n",
       "    <tr>\n",
       "      <th>1365</th>\n",
       "      <td>12.283034</td>\n",
       "      <td>8.922658</td>\n",
       "      <td>7.422971</td>\n",
       "      <td>3.178054</td>\n",
       "      <td>0</td>\n",
       "      <td>0</td>\n",
       "      <td>0</td>\n",
       "      <td>0</td>\n",
       "      <td>0</td>\n",
       "      <td>0</td>\n",
       "      <td>0</td>\n",
       "      <td>0</td>\n",
       "      <td>0</td>\n",
       "    </tr>\n",
       "    <tr>\n",
       "      <th>132</th>\n",
       "      <td>11.923378</td>\n",
       "      <td>8.907612</td>\n",
       "      <td>7.190676</td>\n",
       "      <td>4.174387</td>\n",
       "      <td>0</td>\n",
       "      <td>1</td>\n",
       "      <td>0</td>\n",
       "      <td>0</td>\n",
       "      <td>0</td>\n",
       "      <td>0</td>\n",
       "      <td>0</td>\n",
       "      <td>0</td>\n",
       "      <td>0</td>\n",
       "    </tr>\n",
       "    <tr>\n",
       "      <th>357</th>\n",
       "      <td>11.805595</td>\n",
       "      <td>8.348538</td>\n",
       "      <td>7.040536</td>\n",
       "      <td>3.871201</td>\n",
       "      <td>0</td>\n",
       "      <td>0</td>\n",
       "      <td>0</td>\n",
       "      <td>0</td>\n",
       "      <td>0</td>\n",
       "      <td>1</td>\n",
       "      <td>0</td>\n",
       "      <td>0</td>\n",
       "      <td>0</td>\n",
       "    </tr>\n",
       "    <tr>\n",
       "      <th>438</th>\n",
       "      <td>11.411446</td>\n",
       "      <td>8.361708</td>\n",
       "      <td>6.542472</td>\n",
       "      <td>4.709530</td>\n",
       "      <td>0</td>\n",
       "      <td>1</td>\n",
       "      <td>0</td>\n",
       "      <td>0</td>\n",
       "      <td>0</td>\n",
       "      <td>1</td>\n",
       "      <td>0</td>\n",
       "      <td>0</td>\n",
       "      <td>1</td>\n",
       "    </tr>\n",
       "  </tbody>\n",
       "</table>\n",
       "</div>"
      ],
      "text/plain": [
       "      SalePrice   LotArea  GrLivArea       Age  Heating_Non GasA  \\\n",
       "280   12.339291  9.331407   7.591862  3.555348                 0   \n",
       "1365  12.283034  8.922658   7.422971  3.178054                 0   \n",
       "132   11.923378  8.907612   7.190676  4.174387                 0   \n",
       "357   11.805595  8.348538   7.040536  3.871201                 0   \n",
       "438   11.411446  8.361708   6.542472  4.709530                 0   \n",
       "\n",
       "      OverallCond_6  OverallCond_7  OverallCond_<=4  OverallCond_>=8  \\\n",
       "280               1              0                0                0   \n",
       "1365              0              0                0                0   \n",
       "132               1              0                0                0   \n",
       "357               0              0                0                0   \n",
       "438               1              0                0                0   \n",
       "\n",
       "      Fireplaces_1  Fireplaces_>=2  PavedDrive_N  PavedDrive_P  \n",
       "280              1               0             0             0  \n",
       "1365             0               0             0             0  \n",
       "132              0               0             0             0  \n",
       "357              1               0             0             0  \n",
       "438              1               0             0             1  "
      ]
     },
     "execution_count": 123,
     "metadata": {},
     "output_type": "execute_result"
    }
   ],
   "source": [
    "df_test.head()"
   ]
  },
  {
   "cell_type": "code",
   "execution_count": null,
   "id": "56bd5029-c598-4ea8-aa9c-7113e2422793",
   "metadata": {},
   "outputs": [],
   "source": []
  },
  {
   "cell_type": "code",
   "execution_count": null,
   "id": "f2946791-a0e2-46e6-933d-da4cd4edab73",
   "metadata": {},
   "outputs": [],
   "source": [
    "#12 Budowa modelu regresji liniowej"
   ]
  },
  {
   "cell_type": "code",
   "execution_count": null,
   "id": "409512a7-d654-4b3e-87f7-673234da481b",
   "metadata": {},
   "outputs": [],
   "source": []
  },
  {
   "cell_type": "code",
   "execution_count": 124,
   "id": "f00f55c4-2345-4a5e-b2ae-1ff1599e8ec9",
   "metadata": {},
   "outputs": [],
   "source": [
    "from sklearn.linear_model import LinearRegression\n"
   ]
  },
  {
   "cell_type": "code",
   "execution_count": null,
   "id": "4626e4e0-b652-43d7-845d-453b895a04fd",
   "metadata": {},
   "outputs": [],
   "source": [
    "#Budujemy obiekt dla tej funkcji"
   ]
  },
  {
   "cell_type": "code",
   "execution_count": 125,
   "id": "e7498267-e96d-4c37-b4e7-2878f1a1c914",
   "metadata": {},
   "outputs": [],
   "source": [
    "linearModel = LinearRegression()"
   ]
  },
  {
   "cell_type": "code",
   "execution_count": null,
   "id": "e36126ca-f3a0-4b77-bef4-f9facb94058d",
   "metadata": {},
   "outputs": [],
   "source": [
    "# Wyróżnaimy X oraz y"
   ]
  },
  {
   "cell_type": "code",
   "execution_count": null,
   "id": "8f43189c-fd47-4c06-9767-cabab325aabe",
   "metadata": {},
   "outputs": [],
   "source": [
    "X_train = df_train"
   ]
  },
  {
   "cell_type": "code",
   "execution_count": null,
   "id": "b6c6a57e-c703-4d6e-8ec5-7288b9fd8323",
   "metadata": {},
   "outputs": [],
   "source": [
    "#X_train bedzie zestawem zmiennych objasniających usuwamy zmienną celu SalePrice"
   ]
  },
  {
   "cell_type": "code",
   "execution_count": 126,
   "id": "05bf7b64-4cab-4223-96c3-b91b63feaafc",
   "metadata": {},
   "outputs": [],
   "source": [
    "X_train = df_train.drop('SalePrice', axis=1 )\n",
    "y_train = df_train['SalePrice']"
   ]
  },
  {
   "cell_type": "code",
   "execution_count": null,
   "id": "794f1ce4-7600-4fbf-9e82-ad9969d0278f",
   "metadata": {},
   "outputs": [],
   "source": [
    "#to samo dla zbioru tetowego"
   ]
  },
  {
   "cell_type": "code",
   "execution_count": 127,
   "id": "bedb9591-f0c9-4de5-941e-2a9c82444420",
   "metadata": {},
   "outputs": [],
   "source": [
    "X_test = df_test.drop('SalePrice', axis=1 )\n",
    "y_test = df_test['SalePrice']"
   ]
  },
  {
   "cell_type": "code",
   "execution_count": null,
   "id": "dc01a92c-54dd-479d-a022-8d896f47b949",
   "metadata": {},
   "outputs": [],
   "source": [
    "#zestaw zmiennych objasniających X_train oraz zmiennej objasnianej y_train na zbiorze treningowym"
   ]
  },
  {
   "cell_type": "code",
   "execution_count": 128,
   "id": "fc266e16-0470-47e1-9a13-527d4168cb63",
   "metadata": {},
   "outputs": [
    {
     "data": {
      "text/html": [
       "<style>#sk-container-id-1 {color: black;background-color: white;}#sk-container-id-1 pre{padding: 0;}#sk-container-id-1 div.sk-toggleable {background-color: white;}#sk-container-id-1 label.sk-toggleable__label {cursor: pointer;display: block;width: 100%;margin-bottom: 0;padding: 0.3em;box-sizing: border-box;text-align: center;}#sk-container-id-1 label.sk-toggleable__label-arrow:before {content: \"▸\";float: left;margin-right: 0.25em;color: #696969;}#sk-container-id-1 label.sk-toggleable__label-arrow:hover:before {color: black;}#sk-container-id-1 div.sk-estimator:hover label.sk-toggleable__label-arrow:before {color: black;}#sk-container-id-1 div.sk-toggleable__content {max-height: 0;max-width: 0;overflow: hidden;text-align: left;background-color: #f0f8ff;}#sk-container-id-1 div.sk-toggleable__content pre {margin: 0.2em;color: black;border-radius: 0.25em;background-color: #f0f8ff;}#sk-container-id-1 input.sk-toggleable__control:checked~div.sk-toggleable__content {max-height: 200px;max-width: 100%;overflow: auto;}#sk-container-id-1 input.sk-toggleable__control:checked~label.sk-toggleable__label-arrow:before {content: \"▾\";}#sk-container-id-1 div.sk-estimator input.sk-toggleable__control:checked~label.sk-toggleable__label {background-color: #d4ebff;}#sk-container-id-1 div.sk-label input.sk-toggleable__control:checked~label.sk-toggleable__label {background-color: #d4ebff;}#sk-container-id-1 input.sk-hidden--visually {border: 0;clip: rect(1px 1px 1px 1px);clip: rect(1px, 1px, 1px, 1px);height: 1px;margin: -1px;overflow: hidden;padding: 0;position: absolute;width: 1px;}#sk-container-id-1 div.sk-estimator {font-family: monospace;background-color: #f0f8ff;border: 1px dotted black;border-radius: 0.25em;box-sizing: border-box;margin-bottom: 0.5em;}#sk-container-id-1 div.sk-estimator:hover {background-color: #d4ebff;}#sk-container-id-1 div.sk-parallel-item::after {content: \"\";width: 100%;border-bottom: 1px solid gray;flex-grow: 1;}#sk-container-id-1 div.sk-label:hover label.sk-toggleable__label {background-color: #d4ebff;}#sk-container-id-1 div.sk-serial::before {content: \"\";position: absolute;border-left: 1px solid gray;box-sizing: border-box;top: 0;bottom: 0;left: 50%;z-index: 0;}#sk-container-id-1 div.sk-serial {display: flex;flex-direction: column;align-items: center;background-color: white;padding-right: 0.2em;padding-left: 0.2em;position: relative;}#sk-container-id-1 div.sk-item {position: relative;z-index: 1;}#sk-container-id-1 div.sk-parallel {display: flex;align-items: stretch;justify-content: center;background-color: white;position: relative;}#sk-container-id-1 div.sk-item::before, #sk-container-id-1 div.sk-parallel-item::before {content: \"\";position: absolute;border-left: 1px solid gray;box-sizing: border-box;top: 0;bottom: 0;left: 50%;z-index: -1;}#sk-container-id-1 div.sk-parallel-item {display: flex;flex-direction: column;z-index: 1;position: relative;background-color: white;}#sk-container-id-1 div.sk-parallel-item:first-child::after {align-self: flex-end;width: 50%;}#sk-container-id-1 div.sk-parallel-item:last-child::after {align-self: flex-start;width: 50%;}#sk-container-id-1 div.sk-parallel-item:only-child::after {width: 0;}#sk-container-id-1 div.sk-dashed-wrapped {border: 1px dashed gray;margin: 0 0.4em 0.5em 0.4em;box-sizing: border-box;padding-bottom: 0.4em;background-color: white;}#sk-container-id-1 div.sk-label label {font-family: monospace;font-weight: bold;display: inline-block;line-height: 1.2em;}#sk-container-id-1 div.sk-label-container {text-align: center;}#sk-container-id-1 div.sk-container {/* jupyter's `normalize.less` sets `[hidden] { display: none; }` but bootstrap.min.css set `[hidden] { display: none !important; }` so we also need the `!important` here to be able to override the default hidden behavior on the sphinx rendered scikit-learn.org. See: https://github.com/scikit-learn/scikit-learn/issues/21755 */display: inline-block !important;position: relative;}#sk-container-id-1 div.sk-text-repr-fallback {display: none;}</style><div id=\"sk-container-id-1\" class=\"sk-top-container\"><div class=\"sk-text-repr-fallback\"><pre>LinearRegression()</pre><b>In a Jupyter environment, please rerun this cell to show the HTML representation or trust the notebook. <br />On GitHub, the HTML representation is unable to render, please try loading this page with nbviewer.org.</b></div><div class=\"sk-container\" hidden><div class=\"sk-item\"><div class=\"sk-estimator sk-toggleable\"><input class=\"sk-toggleable__control sk-hidden--visually\" id=\"sk-estimator-id-1\" type=\"checkbox\" checked><label for=\"sk-estimator-id-1\" class=\"sk-toggleable__label sk-toggleable__label-arrow\">LinearRegression</label><div class=\"sk-toggleable__content\"><pre>LinearRegression()</pre></div></div></div></div></div>"
      ],
      "text/plain": [
       "LinearRegression()"
      ]
     },
     "execution_count": 128,
     "metadata": {},
     "output_type": "execute_result"
    }
   ],
   "source": [
    "linearModel.fit(X_train, y_train)"
   ]
  },
  {
   "cell_type": "code",
   "execution_count": null,
   "id": "6a8df4c0-1e1b-4122-b203-26904c0bf553",
   "metadata": {},
   "outputs": [],
   "source": [
    "#Model zostal dopasowany. teraz ocenimy jego jakość na podstawie wyprognozowanych wartości na zbiorze testowym"
   ]
  },
  {
   "cell_type": "code",
   "execution_count": null,
   "id": "5efbaad8-db09-4279-8ee9-6626b0b86b6c",
   "metadata": {},
   "outputs": [],
   "source": [
    "#tworze wektor y_pred za pomoca metody predict"
   ]
  },
  {
   "cell_type": "code",
   "execution_count": 129,
   "id": "0841b7cf-0fde-470d-b561-78b899efa2e5",
   "metadata": {},
   "outputs": [],
   "source": [
    "y_pred = linearModel.predict(X_test)"
   ]
  },
  {
   "cell_type": "code",
   "execution_count": 130,
   "id": "3e63883e-2999-4d6e-ba9c-defd6fc438d7",
   "metadata": {},
   "outputs": [
    {
     "data": {
      "text/plain": [
       "array([12.38197526, 12.19227742, 11.79719573, 11.78047863, 11.22257772,\n",
       "       12.13820077, 12.05102878, 12.39608136, 12.2736759 , 12.43966309,\n",
       "       11.83557115, 12.38654641, 11.66103805, 11.70227733, 11.80585306,\n",
       "       12.53138184, 11.62603431, 11.8473468 , 12.42965454, 11.84757058,\n",
       "       12.65204741, 12.24853618, 12.50719418, 12.6054953 , 12.43101966,\n",
       "       12.18616625, 12.28186922, 12.78432757, 11.64950882, 11.57285851,\n",
       "       12.27294656, 11.72301972, 12.40399257, 12.2784084 , 11.59438132,\n",
       "       11.53218   , 11.92023544, 12.24313701, 12.69991053, 11.79977371,\n",
       "       11.91179291, 12.01954087, 11.93067842, 11.84106998, 11.73055555,\n",
       "       12.49308653, 12.42969126, 11.85060964, 12.37479238, 11.65901607,\n",
       "       12.02649971, 11.65252288, 12.33209864, 11.609528  , 12.03535673,\n",
       "       12.28214549, 12.0146071 , 12.12559886, 12.37163176, 11.57268397,\n",
       "       12.63261698, 11.93792865, 11.84448153, 12.38265032, 12.49939409,\n",
       "       11.4351742 , 11.9979482 , 12.22858921, 12.37493411, 12.50297071,\n",
       "       11.27863354, 12.32554035, 11.6698415 , 12.04572647, 11.77998781,\n",
       "       12.13795582, 12.35339446, 11.68053039, 11.96880738, 12.30970568,\n",
       "       12.27191304, 12.32498991, 11.38520773, 11.62212311, 11.93231537,\n",
       "       11.91450112, 12.02516254, 12.81434627, 12.08535909, 12.13780684,\n",
       "       12.0770929 , 11.92788271, 11.65010793, 11.65035719, 11.92076553,\n",
       "       11.95573823, 11.56156949, 12.46074682, 12.22182096, 12.27784173,\n",
       "       11.9912187 , 11.23830477, 11.46455118, 12.004373  , 11.60315331,\n",
       "       12.18263711, 11.53481045, 11.70212332, 12.07205057, 11.53486988,\n",
       "       11.64075452, 11.98443659, 12.38908783, 12.30415072, 11.6963007 ,\n",
       "       11.90470157, 12.00515228, 11.82332392, 12.36995764, 11.94651599,\n",
       "       11.62713614, 11.90470157, 12.49356168, 12.33140879, 12.0235581 ,\n",
       "       12.48879556, 12.50100335, 12.55055482, 12.43458846, 12.04584311,\n",
       "       12.28978269, 11.8612573 , 12.22825763, 11.44815046, 12.25483863,\n",
       "       12.24616312, 11.62402441, 11.14536624, 12.00197851, 12.61846863,\n",
       "       12.28052067, 11.67943644, 11.35796031, 11.535512  , 11.94786538,\n",
       "       11.62682537, 11.94029927, 11.87502668, 12.08487506, 12.03607864,\n",
       "       12.00274946, 12.42694243, 12.51617943, 12.37656154, 11.68647895,\n",
       "       12.70183504, 11.8332454 , 12.39976479, 11.71256433, 12.29802559,\n",
       "       11.55612728, 12.33450503, 11.81318787, 12.0295317 , 12.10658919,\n",
       "       12.42246015, 11.95284323, 11.35665857, 11.83553847, 11.87709479,\n",
       "       11.79876946, 11.785905  , 12.70364074, 11.77829632, 12.17962345,\n",
       "       12.44981668, 12.5653779 , 11.44613524, 11.48734425, 12.62369288,\n",
       "       11.72798805, 11.69593947, 11.515074  , 12.23351299, 11.98529266,\n",
       "       11.60020504, 12.26699059, 11.88400838, 12.21283334, 11.76057843,\n",
       "       12.61698936, 11.73282561, 11.84888083, 11.61596336, 11.68906438,\n",
       "       12.13970163, 11.95527565, 11.78387282, 11.70307528, 12.09592674,\n",
       "       12.39203529, 12.32304163, 12.39743763, 11.69195751, 12.41263074,\n",
       "       12.6177477 , 11.68701408, 12.24145528, 11.70117465, 12.05554024,\n",
       "       11.79647552, 11.81003327, 12.32243349, 12.16792124, 11.7325508 ,\n",
       "       11.63398713, 11.84247603, 11.90434524, 12.34821155, 11.74086347,\n",
       "       12.57434327, 11.60031298, 11.79287875, 11.75514176, 12.18420103,\n",
       "       11.71255282, 11.93831809, 12.46258995, 11.65427091, 11.85643153,\n",
       "       12.31615319, 11.94776161, 11.80223049, 12.19905392, 11.99293143,\n",
       "       11.51056947, 12.27798491, 11.7625929 , 11.63819419, 11.12242614,\n",
       "       11.74677017, 12.31035106, 12.4558625 , 12.01584409, 12.44947048,\n",
       "       11.37243565, 12.50608373, 12.36149731, 11.87734769, 12.38104462,\n",
       "       11.95098157, 12.14044392, 11.75664836, 12.11871267, 12.13836122,\n",
       "       11.59669402, 12.23431062, 12.1706386 , 12.10207663, 11.98357341,\n",
       "       11.65853628, 11.83080576, 11.66666214, 12.4375423 , 12.25257889,\n",
       "       11.57260385, 11.41972462, 12.46580292, 12.13014781, 12.02057122,\n",
       "       11.65288066, 12.60081326, 12.28518271, 12.43258305, 11.95525066,\n",
       "       12.07691986, 12.08848001, 11.39399532, 12.21865647, 11.59680762,\n",
       "       12.08169842, 11.85795969, 12.382946  , 12.78838231, 11.9200495 ,\n",
       "       12.27723727, 12.15399502, 11.95304975, 11.89161844, 12.53003317,\n",
       "       11.40283989, 12.28726992, 12.31868517, 12.50009173, 11.41508706,\n",
       "       12.61318679, 11.8772889 , 11.84366448, 11.95262221, 12.08669521,\n",
       "       11.93769229, 12.16497009, 12.26493218, 11.95632018, 12.38923202,\n",
       "       12.20103624, 11.72669187, 11.47777782, 11.62274848, 12.27255466,\n",
       "       12.00870249, 12.31124359, 12.24944621, 11.88451367, 11.6061774 ,\n",
       "       11.72532297, 12.23517124, 12.27956839, 12.02526087, 11.85148872,\n",
       "       12.30736502, 12.27341851, 12.16919949, 12.56210663, 11.4986607 ,\n",
       "       11.98777505, 11.80974085, 12.53250948, 12.00674267, 11.37831028,\n",
       "       11.49840435, 12.53695622, 11.18753984, 11.51892014, 12.35523499,\n",
       "       11.73349272, 11.20252272, 11.82538968, 11.73488093, 11.89319947,\n",
       "       12.22024306, 12.53880425, 12.31522991, 11.75769383, 11.8894949 ,\n",
       "       11.61477987, 11.65069724, 11.7371132 , 11.7846115 , 11.5812264 ,\n",
       "       11.99556805, 11.82131133, 11.84966673, 12.4679853 , 12.64501305,\n",
       "       11.93046192, 12.25623555, 11.9438738 , 11.22664076, 12.28048692,\n",
       "       11.36738231, 11.8225167 , 12.11936807, 11.71029132, 11.84931672,\n",
       "       11.9252433 , 12.18925804, 12.37334198, 12.43484402, 11.11046493,\n",
       "       11.90682801, 12.30038971, 11.90950189, 11.5669459 , 12.429599  ,\n",
       "       11.72755648, 11.85470252, 11.89579719, 11.69135765, 11.74005321,\n",
       "       11.69460569, 12.14212269, 11.91717129, 12.51842851, 11.76302138,\n",
       "       11.96092086, 11.75615929, 11.03081352, 11.82166537, 12.00978835,\n",
       "       12.42442911, 11.54717196, 11.4404272 , 12.59632383, 12.39902983,\n",
       "       12.47042659, 11.89407179, 12.12433984, 12.07348001, 12.23573238,\n",
       "       12.19909206, 12.23722337, 12.03308661, 12.64957138, 12.02317783,\n",
       "       12.27439554, 12.45718468, 12.68067833, 12.1247448 , 11.45434957,\n",
       "       12.12954494, 11.61388221, 12.7647261 , 11.70779195, 12.25329503,\n",
       "       12.55981487, 11.92941394, 12.103584  , 11.96880378, 12.49096462,\n",
       "       11.8137605 , 11.54837871, 12.22068246, 11.52125646, 12.35682546,\n",
       "       11.66474712, 11.85748305, 11.83062872, 12.68010096, 12.19842024,\n",
       "       12.6516828 , 12.44399712, 11.66514946, 11.97676013, 12.33410423,\n",
       "       12.14592066, 11.97989938, 12.33066098])"
      ]
     },
     "execution_count": 130,
     "metadata": {},
     "output_type": "execute_result"
    }
   ],
   "source": [
    "y_pred"
   ]
  },
  {
   "cell_type": "code",
   "execution_count": null,
   "id": "07db1ed1-9cf9-439a-95f9-fbd136d30b2c",
   "metadata": {},
   "outputs": [],
   "source": []
  },
  {
   "cell_type": "code",
   "execution_count": null,
   "id": "47c540e6-c9e4-454d-a56c-597da5ad42fa",
   "metadata": {},
   "outputs": [],
   "source": [
    "#13 Ocena jakości zbudowanego modelu"
   ]
  },
  {
   "cell_type": "code",
   "execution_count": null,
   "id": "be8a1730-61e5-4c85-8e9f-26304e83f3ca",
   "metadata": {},
   "outputs": [],
   "source": []
  },
  {
   "cell_type": "code",
   "execution_count": null,
   "id": "18e12520-ca0a-4a35-8a72-f9000c49d048",
   "metadata": {},
   "outputs": [],
   "source": [
    "#wyprognozowane wartości zmiennej objasnianej na zbiorze testowym. Bedziemy je zestawiac ze zmienna y_test(rzeczywiste wartości poddane logarytmowi więc \n",
    "#trzeba odwrócic logarytm aby ocenić rzetelnosc modelu)"
   ]
  },
  {
   "cell_type": "code",
   "execution_count": null,
   "id": "a8cd1612-ed9f-489e-9c56-d79fc670d8c4",
   "metadata": {},
   "outputs": [],
   "source": []
  },
  {
   "cell_type": "code",
   "execution_count": 132,
   "id": "5b7ed2db-a6b3-40f4-9c4e-4d12b1adfd24",
   "metadata": {},
   "outputs": [],
   "source": [
    "from sklearn import metrics"
   ]
  },
  {
   "cell_type": "code",
   "execution_count": null,
   "id": "70f06223-33ec-4529-909e-586aacc476cf",
   "metadata": {},
   "outputs": [],
   "source": [
    "#jako argument wektor wartości rzeczywistych na zbiorze testowym a drugi to wartości prognozowane\n",
    "#Wartości zostały podddane logarytmizacji trzeba to odwrócić. funkcje exp trzeba zastosować\n"
   ]
  },
  {
   "cell_type": "code",
   "execution_count": null,
   "id": "9ae22d78-b1fa-49f9-a4f5-faf2dca9d83f",
   "metadata": {},
   "outputs": [],
   "source": [
    "#średni bład bezwględny"
   ]
  },
  {
   "cell_type": "code",
   "execution_count": 134,
   "id": "c611192f-f2bf-42e0-8e5c-0f43b7944ab4",
   "metadata": {},
   "outputs": [],
   "source": [
    "MAE_linear = metrics.mean_absolute_error(np.exp(y_test), np.exp(y_pred))"
   ]
  },
  {
   "cell_type": "code",
   "execution_count": null,
   "id": "7160d7a9-348b-49ae-ba8b-b25165346544",
   "metadata": {},
   "outputs": [],
   "source": [
    "#błąd średniokwadratowy"
   ]
  },
  {
   "cell_type": "code",
   "execution_count": 135,
   "id": "5f63c4f0-675d-468e-b16f-177cc0f83636",
   "metadata": {},
   "outputs": [],
   "source": [
    "MSE_linear = metrics.mean_squared_error(np.exp(y_test), np.exp(y_pred))"
   ]
  },
  {
   "cell_type": "code",
   "execution_count": null,
   "id": "04fd6aa1-9f61-40fe-af39-07acca9e838c",
   "metadata": {},
   "outputs": [],
   "source": [
    "#Pierwiastek blędu średniowkadratowego"
   ]
  },
  {
   "cell_type": "code",
   "execution_count": 136,
   "id": "73f4ddee-44ae-4214-b98c-786e8b61b491",
   "metadata": {},
   "outputs": [],
   "source": [
    "RMSE_linear = np.sqrt(MSE_linear)"
   ]
  },
  {
   "cell_type": "code",
   "execution_count": null,
   "id": "0dd0b012-fb6e-450c-a564-26c75901d971",
   "metadata": {},
   "outputs": [],
   "source": [
    "#budujemy tabele z wynikami"
   ]
  },
  {
   "cell_type": "code",
   "execution_count": 137,
   "id": "be5eb228-e1d3-49f7-aa15-e16ea3c04ea7",
   "metadata": {},
   "outputs": [],
   "source": [
    "results = pd.DataFrame(data=[[\"Linear Regression\", MAE_linear, MSE_linear, RMSE_linear]], columns =['Model', 'MAE', 'MSE', 'RMSE' ])"
   ]
  },
  {
   "cell_type": "code",
   "execution_count": 138,
   "id": "d8e11668-e372-42e0-839a-c570f3f7e334",
   "metadata": {},
   "outputs": [
    {
     "data": {
      "text/html": [
       "<div>\n",
       "<style scoped>\n",
       "    .dataframe tbody tr th:only-of-type {\n",
       "        vertical-align: middle;\n",
       "    }\n",
       "\n",
       "    .dataframe tbody tr th {\n",
       "        vertical-align: top;\n",
       "    }\n",
       "\n",
       "    .dataframe thead th {\n",
       "        text-align: right;\n",
       "    }\n",
       "</style>\n",
       "<table border=\"1\" class=\"dataframe\">\n",
       "  <thead>\n",
       "    <tr style=\"text-align: right;\">\n",
       "      <th></th>\n",
       "      <th>Model</th>\n",
       "      <th>MAE</th>\n",
       "      <th>MSE</th>\n",
       "      <th>RMSE</th>\n",
       "    </tr>\n",
       "  </thead>\n",
       "  <tbody>\n",
       "    <tr>\n",
       "      <th>0</th>\n",
       "      <td>Linear Regression</td>\n",
       "      <td>21221.896421</td>\n",
       "      <td>1.011493e+09</td>\n",
       "      <td>31803.977185</td>\n",
       "    </tr>\n",
       "  </tbody>\n",
       "</table>\n",
       "</div>"
      ],
      "text/plain": [
       "               Model           MAE           MSE          RMSE\n",
       "0  Linear Regression  21221.896421  1.011493e+09  31803.977185"
      ]
     },
     "execution_count": 138,
     "metadata": {},
     "output_type": "execute_result"
    }
   ],
   "source": [
    "results"
   ]
  },
  {
   "cell_type": "code",
   "execution_count": null,
   "id": "39086a27-eec3-4a65-94b6-23924579f0b6",
   "metadata": {},
   "outputs": [],
   "source": [
    "#MAE średnia róznica między wartościami rzeczywistymi a prognozanymi wynosi 21221"
   ]
  },
  {
   "cell_type": "code",
   "execution_count": null,
   "id": "080ddbae-4d09-42a7-80e7-a01e6acfe9ce",
   "metadata": {},
   "outputs": [],
   "source": [
    "#RMSE średni pierwiastek błędu kwadratowego wynosi 31803"
   ]
  },
  {
   "cell_type": "code",
   "execution_count": null,
   "id": "ca452700-a2e5-47b4-8c38-b21c093e81ee",
   "metadata": {},
   "outputs": [],
   "source": [
    "#Wyliczenie R2 współczynnika determiancji"
   ]
  },
  {
   "cell_type": "code",
   "execution_count": 139,
   "id": "98175fe3-5e3c-45c6-a4ba-54ad1fb50309",
   "metadata": {},
   "outputs": [
    {
     "data": {
      "text/plain": [
       "0.840355530901672"
      ]
     },
     "execution_count": 139,
     "metadata": {},
     "output_type": "execute_result"
    }
   ],
   "source": [
    "linearModel.score(X_test, y_test)"
   ]
  },
  {
   "cell_type": "code",
   "execution_count": null,
   "id": "4bc75991-fb0c-48de-8f1f-6cd5df2197f8",
   "metadata": {},
   "outputs": [],
   "source": [
    "#Dość dobre dopasowanie modelu do danychbo powyżej 0.8"
   ]
  },
  {
   "cell_type": "code",
   "execution_count": null,
   "id": "ab4e0fc9-4361-49d2-9aa5-03ee423d92cb",
   "metadata": {},
   "outputs": [],
   "source": []
  },
  {
   "cell_type": "code",
   "execution_count": null,
   "id": "ff7366bc-a994-4474-915a-c2371a219e27",
   "metadata": {},
   "outputs": [],
   "source": []
  },
  {
   "cell_type": "code",
   "execution_count": null,
   "id": "0ca842b6-dd4b-4cd5-905b-e7c675bce08a",
   "metadata": {},
   "outputs": [],
   "source": []
  },
  {
   "cell_type": "code",
   "execution_count": null,
   "id": "35370a5a-726c-436d-be5c-5d482d5fea6d",
   "metadata": {},
   "outputs": [],
   "source": []
  }
 ],
 "metadata": {
  "kernelspec": {
   "display_name": "Python 3 (ipykernel)",
   "language": "python",
   "name": "python3"
  },
  "language_info": {
   "codemirror_mode": {
    "name": "ipython",
    "version": 3
   },
   "file_extension": ".py",
   "mimetype": "text/x-python",
   "name": "python",
   "nbconvert_exporter": "python",
   "pygments_lexer": "ipython3",
   "version": "3.11.7"
  }
 },
 "nbformat": 4,
 "nbformat_minor": 5
}
