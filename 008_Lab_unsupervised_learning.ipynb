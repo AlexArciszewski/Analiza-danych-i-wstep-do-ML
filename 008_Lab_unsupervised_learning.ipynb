{
 "cells": [
  {
   "cell_type": "code",
   "execution_count": null,
   "id": "c4244ef0-8463-498f-8253-82c9f15f1652",
   "metadata": {},
   "outputs": [],
   "source": [
    "#. Załaduj moduły: numpy i matplotlib. Dodaj linijkę powodującą wyświetlanie wykresu w bieżącym IDE, bez otwierania dodatkowego okna.\n",
    "#Dodatkowo załaduj również kolejne 2 moduły:\n",
    "#from sklearn.datasets.samples_generator import make_blobs\n",
    "#from sklearn.cluster import KMeans\n",
    "#pierwszy z nich posłuży do wygenerowania fikcyjnego zbioru danych, a drugi znasz już z lekcji"
   ]
  },
  {
   "cell_type": "code",
   "execution_count": 3,
   "id": "d13b03e5-ac6a-4be6-9843-b164698b36f9",
   "metadata": {},
   "outputs": [],
   "source": [
    "import numpy as np\n",
    "import pandas as pd\n",
    "from matplotlib import pyplot as plt\n",
    "from sklearn.cluster import KMeans\n",
    "from sklearn.datasets import make_blobs#data gen nowa\n",
    "# from sklearn.datasets.samples_generator import make_blobs  #data gen stara\n"
   ]
  },
  {
   "cell_type": "code",
   "execution_count": 4,
   "id": "6c9edb7d-f221-4371-97b9-60d383c6e1bb",
   "metadata": {},
   "outputs": [
    {
     "data": {
      "text/plain": [
       "<function sklearn.datasets._samples_generator.make_blobs(n_samples=100, n_features=2, *, centers=None, cluster_std=1.0, center_box=(-10.0, 10.0), shuffle=True, random_state=None, return_centers=False)>"
      ]
     },
     "execution_count": 4,
     "metadata": {},
     "output_type": "execute_result"
    }
   ],
   "source": [
    "make_blobs"
   ]
  },
  {
   "cell_type": "code",
   "execution_count": null,
   "id": "03b2886b-ec27-41fe-8a01-7a377552897e",
   "metadata": {},
   "outputs": [],
   "source": [
    "#3. Uruchom instrukcję, która utworzy  zbiór 100 punktów, które połączą się w skupiska. Uruchamiając to polecenie z parametrem \n",
    "# random_state uzyskasz taki sam zbiór danych za każdym razem. Możesz w kolejnych wariantach tego zadania zmieniać tą wartość. \n",
    "# Tutaj będziemy korzystać tylko ze zmiennej X:"
   ]
  },
  {
   "cell_type": "code",
   "execution_count": 6,
   "id": "83772835-6f21-4318-a25f-415087bcc634",
   "metadata": {},
   "outputs": [],
   "source": [
    "X, y = make_blobs(n_samples=100, centers=4, cluster_std=0.60, random_state=0)"
   ]
  },
  {
   "cell_type": "code",
   "execution_count": null,
   "id": "61c0ae5c-b566-4693-9369-a49d6632caa4",
   "metadata": {},
   "outputs": [],
   "source": [
    "#4. Narysuj wykres obrazujący punkty o współrzędnych X. X ma dwie kolumny - zerową i pierwszą. Na osi X skorzystaj z danych w zerowej \n",
    "# kolumnie, a na osi Y z danych w pierwszej kolumnie."
   ]
  },
  {
   "cell_type": "code",
   "execution_count": 7,
   "id": "7e7b06cc-5a98-4ca9-bc94-54c796239ab2",
   "metadata": {},
   "outputs": [
    {
     "data": {
      "text/plain": [
       "<matplotlib.collections.PathCollection at 0x1d1ce9773d0>"
      ]
     },
     "execution_count": 7,
     "metadata": {},
     "output_type": "execute_result"
    },
    {
     "data": {
      "image/png": "[encoded data removed]",
      "text/plain": [
       "<Figure size 640x480 with 1 Axes>"
      ]
     },
     "metadata": {},
     "output_type": "display_data"
    }
   ],
   "source": [
    "plt.scatter(X[:,0], X[:,1])"
   ]
  },
  {
   "cell_type": "code",
   "execution_count": null,
   "id": "cd29a8c3-329f-42bd-979a-1c0b60bb8732",
   "metadata": {},
   "outputs": [],
   "source": [
    "# 5. Zadeklaruj pustą tablicę WCSS do zapamiętywania \"wydajności\" clustrów z różnymi ilościami centroidów"
   ]
  },
  {
   "cell_type": "code",
   "execution_count": 8,
   "id": "9f52af4d-a8fb-4e9c-bace-4c4d5ef4d762",
   "metadata": {},
   "outputs": [],
   "source": [
    "WCSS = []"
   ]
  },
  {
   "cell_type": "code",
   "execution_count": null,
   "id": "ddf064de-f592-4f1b-9036-4ce89e43b1f6",
   "metadata": {},
   "outputs": [],
   "source": [
    "#6. W pętli generuj modele KMeans z ilością clustrów od 1 do 15. Każdorazowo ćwicz model na danych z X i dodawaj do WCSS nową wartość \n",
    "# określającą skuteczność podziału algorytmu"
   ]
  },
  {
   "cell_type": "code",
   "execution_count": 9,
   "id": "8086aee7-79ab-4191-ba22-814744839639",
   "metadata": {},
   "outputs": [
    {
     "name": "stderr",
     "output_type": "stream",
     "text": [
      "C:\\Anaconda\\Lib\\site-packages\\sklearn\\cluster\\_kmeans.py:1382: UserWarning: KMeans is known to have a memory leak on Windows with MKL, when there are less chunks than available threads. You can avoid it by setting the environment variable OMP_NUM_THREADS=1.\n",
      "  warnings.warn(\n",
      "C:\\Anaconda\\Lib\\site-packages\\sklearn\\cluster\\_kmeans.py:1382: UserWarning: KMeans is known to have a memory leak on Windows with MKL, when there are less chunks than available threads. You can avoid it by setting the environment variable OMP_NUM_THREADS=1.\n",
      "  warnings.warn(\n",
      "C:\\Anaconda\\Lib\\site-packages\\sklearn\\cluster\\_kmeans.py:1382: UserWarning: KMeans is known to have a memory leak on Windows with MKL, when there are less chunks than available threads. You can avoid it by setting the environment variable OMP_NUM_THREADS=1.\n",
      "  warnings.warn(\n",
      "C:\\Anaconda\\Lib\\site-packages\\sklearn\\cluster\\_kmeans.py:1382: UserWarning: KMeans is known to have a memory leak on Windows with MKL, when there are less chunks than available threads. You can avoid it by setting the environment variable OMP_NUM_THREADS=1.\n",
      "  warnings.warn(\n",
      "C:\\Anaconda\\Lib\\site-packages\\sklearn\\cluster\\_kmeans.py:1382: UserWarning: KMeans is known to have a memory leak on Windows with MKL, when there are less chunks than available threads. You can avoid it by setting the environment variable OMP_NUM_THREADS=1.\n",
      "  warnings.warn(\n",
      "C:\\Anaconda\\Lib\\site-packages\\sklearn\\cluster\\_kmeans.py:1382: UserWarning: KMeans is known to have a memory leak on Windows with MKL, when there are less chunks than available threads. You can avoid it by setting the environment variable OMP_NUM_THREADS=1.\n",
      "  warnings.warn(\n",
      "C:\\Anaconda\\Lib\\site-packages\\sklearn\\cluster\\_kmeans.py:1382: UserWarning: KMeans is known to have a memory leak on Windows with MKL, when there are less chunks than available threads. You can avoid it by setting the environment variable OMP_NUM_THREADS=1.\n",
      "  warnings.warn(\n",
      "C:\\Anaconda\\Lib\\site-packages\\sklearn\\cluster\\_kmeans.py:1382: UserWarning: KMeans is known to have a memory leak on Windows with MKL, when there are less chunks than available threads. You can avoid it by setting the environment variable OMP_NUM_THREADS=1.\n",
      "  warnings.warn(\n",
      "C:\\Anaconda\\Lib\\site-packages\\sklearn\\cluster\\_kmeans.py:1382: UserWarning: KMeans is known to have a memory leak on Windows with MKL, when there are less chunks than available threads. You can avoid it by setting the environment variable OMP_NUM_THREADS=1.\n",
      "  warnings.warn(\n",
      "C:\\Anaconda\\Lib\\site-packages\\sklearn\\cluster\\_kmeans.py:1382: UserWarning: KMeans is known to have a memory leak on Windows with MKL, when there are less chunks than available threads. You can avoid it by setting the environment variable OMP_NUM_THREADS=1.\n",
      "  warnings.warn(\n",
      "C:\\Anaconda\\Lib\\site-packages\\sklearn\\cluster\\_kmeans.py:1382: UserWarning: KMeans is known to have a memory leak on Windows with MKL, when there are less chunks than available threads. You can avoid it by setting the environment variable OMP_NUM_THREADS=1.\n",
      "  warnings.warn(\n",
      "C:\\Anaconda\\Lib\\site-packages\\sklearn\\cluster\\_kmeans.py:1382: UserWarning: KMeans is known to have a memory leak on Windows with MKL, when there are less chunks than available threads. You can avoid it by setting the environment variable OMP_NUM_THREADS=1.\n",
      "  warnings.warn(\n",
      "C:\\Anaconda\\Lib\\site-packages\\sklearn\\cluster\\_kmeans.py:1382: UserWarning: KMeans is known to have a memory leak on Windows with MKL, when there are less chunks than available threads. You can avoid it by setting the environment variable OMP_NUM_THREADS=1.\n",
      "  warnings.warn(\n",
      "C:\\Anaconda\\Lib\\site-packages\\sklearn\\cluster\\_kmeans.py:1382: UserWarning: KMeans is known to have a memory leak on Windows with MKL, when there are less chunks than available threads. You can avoid it by setting the environment variable OMP_NUM_THREADS=1.\n",
      "  warnings.warn(\n"
     ]
    }
   ],
   "source": [
    "for k in range(1,15):\n",
    "    kmeans = KMeans(n_clusters=k, n_init='auto')\n",
    "    kmeans.fit(X)\n",
    "    WCSS.append(kmeans.inertia_)"
   ]
  },
  {
   "cell_type": "code",
   "execution_count": null,
   "id": "54922f78-b8c6-4dbd-be18-50e0b66150b8",
   "metadata": {},
   "outputs": [],
   "source": [
    "#for k in range(1, 15):Opis: Tworzysz pętlę for, która przechodzi przez wartości zmiennej k od 1 do 14. Wartość ta reprezentuje liczbę klastrów (grup), \n",
    "# które będą testowane w algorytmie KMeans w każdym przebiegu.\n",
    " #kmeans = KMeans(n_clusters=k, n_init='auto') Opis: Tworzysz nowy obiekt klasy KMeans, gdzie:\n",
    "#n_clusters=k: liczba klastrów ustawiona na bieżącą wartość k z pętli (czyli od 1 do 14).\n",
    "#n_init='auto': ta opcja automatycznie ustawia liczbę inicjalizacji centroidów na wartość zalecaną w nowszych wersjach \n",
    "#scikit-learn (domyślnie 10 w starszych wersjach). Oznacza to, że algorytm będzie uruchamiany kilka razy z różnymi \n",
    "#początkowymi wartościami, a wynik z najniższą wartością WCSS zostanie wybrany.\n",
    "# kmeans.fit(X) Opis: Trenujesz algorytm KMeans na zbiorze danych X. fit() oznacza dopasowanie modelu, \n",
    "#czyli znalezienie centroidów (środków klastrów) w danych.\n",
    "# WCSS.append(kmeans.inertia_) Dodajesz do listy WCSS wartość bezwładności (ang. Inertia), którą zwraca metoda kmeans.inertia_. \n",
    "#Inercja to suma kwadratów odległości próbek od ich najbliższego centroidu. Jest to miara, jak dobrze klastry pasują do danych \n",
    "#(im mniejsza inercja, tym lepsze dopasowanie)."
   ]
  },
  {
   "cell_type": "code",
   "execution_count": 10,
   "id": "557c765a-c1ef-472a-8f9d-6ca246fe1472",
   "metadata": {},
   "outputs": [
    {
     "data": {
      "text/plain": [
       "[883.0169856326323,\n",
       " 369.5013573411993,\n",
       " 157.16167677985197,\n",
       " 69.62938652487978,\n",
       " 63.4134981009944,\n",
       " 56.5771353614207,\n",
       " 49.85520710835137,\n",
       " 44.49991897472566,\n",
       " 36.488494118687846,\n",
       " 38.976104599936214,\n",
       " 28.376673630963065,\n",
       " 27.025599223139544,\n",
       " 24.9029673224604,\n",
       " 21.45511866506898]"
      ]
     },
     "execution_count": 10,
     "metadata": {},
     "output_type": "execute_result"
    }
   ],
   "source": [
    "WCSS"
   ]
  },
  {
   "cell_type": "code",
   "execution_count": null,
   "id": "09714e1c-93b1-4886-8da2-53792d6c23c6",
   "metadata": {},
   "outputs": [],
   "source": [
    "# 7. W oparciu o dane w WCSS narysuj wykres \"łokciowy\" elbow - odczytaj z wykresu optymalną ilość clustrów\n"
   ]
  },
  {
   "cell_type": "code",
   "execution_count": 11,
   "id": "fdf115ca-49df-40b1-89e4-f1ecf4acb724",
   "metadata": {},
   "outputs": [
    {
     "data": {
      "image/png": "[encoded data removed]",
      "text/plain": [
       "<Figure size 640x480 with 1 Axes>"
      ]
     },
     "metadata": {},
     "output_type": "display_data"
    }
   ],
   "source": [
    "plt.plot(range(1,15),WCSS)\n",
    "plt.xlabel(\"number of K Value(Cluster)\")\n",
    "plt.ylabel(\"WCSS\")\n",
    "plt.grid()\n",
    "plt.show()"
   ]
  },
  {
   "cell_type": "code",
   "execution_count": null,
   "id": "12e88a59-5b41-4ac2-bbd2-bd3b557ac77f",
   "metadata": {},
   "outputs": [],
   "source": [
    "# 9. Technikami podobnymi do pokazanych na lekcji, narysuj granice podziału obszarów odgadywanych przez model. \n",
    "# Do wykresu dodaj punkty z X oraz położenia centroidów:"
   ]
  },
  {
   "cell_type": "code",
   "execution_count": 12,
   "id": "4b8f529f-507f-44fc-a26a-94e29568aeab",
   "metadata": {},
   "outputs": [
    {
     "name": "stderr",
     "output_type": "stream",
     "text": [
      "C:\\Anaconda\\Lib\\site-packages\\sklearn\\cluster\\_kmeans.py:1382: UserWarning: KMeans is known to have a memory leak on Windows with MKL, when there are less chunks than available threads. You can avoid it by setting the environment variable OMP_NUM_THREADS=1.\n",
      "  warnings.warn(\n"
     ]
    }
   ],
   "source": [
    "kmeans = KMeans(n_clusters=4, max_iter=300, random_state=1, n_init='auto') #kmeans to model dzielacy zbiór na 5 grup\n",
    "clusters = kmeans.fit_predict(X)#zbór punktów dzielimy na 4 grup i przecwiczymy model\n",
    "labels  = kmeans.labels_#tablica ktora dla kazdej próbki przechowuje nr klastra lub grupy do ktorej probka została zakwalifikowana\n",
    "centroids = kmeans.cluster_centers_#centralne punkty każdej grupy"
   ]
  },
  {
   "cell_type": "code",
   "execution_count": null,
   "id": "321bbb38-faa7-41be-84d9-997bbee7f814",
   "metadata": {},
   "outputs": [],
   "source": [
    "#Rysowanie obszaru podziału wykonaj z dokładnością 0.1 (mniejsza wartość powoduje wolne rysowanie wykresu, bo będzie zbyt szczegółowy)"
   ]
  },
  {
   "cell_type": "code",
   "execution_count": 13,
   "id": "4f11c818-e2c1-421f-bb2e-810656e6a756",
   "metadata": {},
   "outputs": [],
   "source": [
    "h=0.1"
   ]
  },
  {
   "cell_type": "code",
   "execution_count": null,
   "id": "889b7e76-ea5b-418b-8114-407eb5205e45",
   "metadata": {},
   "outputs": [],
   "source": [
    "#Wyznacz wartości x_min, x_max, y_min, y_max określające fragment płaszczyzny na którym zmieszczą się wszystkie punkty z X"
   ]
  },
  {
   "cell_type": "code",
   "execution_count": null,
   "id": "777d983c-6fa6-4259-9dd6-680b9edf144c",
   "metadata": {},
   "outputs": [],
   "source": [
    "#Utwórz macierze xx i yy korzystając z funkcji meshgrid. wartości x mają się zmieniać od x_min do x_max z krokiem h. \n",
    "#Podobnie dla wartości y\n",
    "#Dla każdego punktu wyznacz wynik predykcji modelu i zapisz go w zmiennej X. Podczas wywoływanie predykcji możesz \"spłaszczyć\" \n",
    "#dane z współrzędnych x i y korzystając z funkcji ravel(). Zmień kształt Z na taki sam jak ma xx"
   ]
  },
  {
   "cell_type": "code",
   "execution_count": 15,
   "id": "615716fb-f5da-45bd-870d-cf91678677b4",
   "metadata": {},
   "outputs": [],
   "source": [
    "x_min, x_max = X[:,0].min(), X[:,0].max()\n",
    "y_min, y_max = X[:,1].min(), X[:,1].max()\n",
    "xx,yy=np.meshgrid(np.arange(x_min, x_max, h), np.arange(y_min, y_max, h))\n",
    "Z = kmeans.predict(np.c_[xx.ravel(),yy.ravel()])\n",
    "Z=Z.reshape(xx.shape)"
   ]
  },
  {
   "cell_type": "code",
   "execution_count": null,
   "id": "8cd8a983-6511-4883-9490-801a6dd9a00d",
   "metadata": {},
   "outputs": [],
   "source": []
  },
  {
   "cell_type": "code",
   "execution_count": 18,
   "id": "30cfc511-69dd-4305-ae44-ceb8f7835059",
   "metadata": {},
   "outputs": [
    {
     "data": {
      "image/png": "[encoded data removed]",
      "text/plain": [
       "<Figure size 1500x1000 with 1 Axes>"
      ]
     },
     "metadata": {},
     "output_type": "display_data"
    }
   ],
   "source": [
    "plt.figure(1 , figsize = (15 , 10) )\n",
    "plt.clf()\n",
    "plt.imshow(Z , interpolation='nearest', \n",
    "           extent=(xx.min(), xx.max(), yy.min(), yy.max()),\n",
    "           cmap = plt.cm.Pastel1, origin='lower')\n",
    " \n",
    "plt.scatter(x=X[:,0], y=X[:,1], c=labels, s=100)\n",
    " \n",
    "plt.scatter(x=centroids[:,0], y=centroids[:,1],s=300 , c='red')\n",
    " \n",
    "plt.ylabel('x') , plt.xlabel('y')\n",
    "plt.grid()\n",
    "plt.title(\"Clustering\")\n",
    "plt.show()"
   ]
  },
  {
   "cell_type": "code",
   "execution_count": null,
   "id": "09096b29-a789-4fd2-bc76-0091a65dc635",
   "metadata": {},
   "outputs": [],
   "source": [
    "#Oto wyjaśnienie każdej linii kodu:\n",
    "#1. plt.figure(1, figsize=(15, 7))\n",
    "\n",
    "#    Opis: Tworzy nową figurę (okno wykresu), która będzie wyświetlać wykres.\n",
    " #       1: Numer identyfikujący figurę. Można go użyć do odniesienia się do tego konkretnego wykresu, jeśli mamy więcej niż jeden.\n",
    "  #      figsize=(15, 7): Ustawia rozmiar wykresu na 15 jednostek szerokości i 7 jednostek wysokości, co określa proporcje figury.\n",
    "\n",
    "#2. plt.clf()\n",
    "\n",
    "#    Opis: Czyści bieżącą figurę, usuwając wszelkie wcześniejsze dane, wykresy lub inne elementy, które mogły być już na niej wyświetlone. Zapewnia, że nowy wykres zaczyna się od \"czystego\" okna.\n",
    "\n",
    "#3. plt.imshow(Z, interpolation='nearest', extent=(xx.min(), xx.max(), yy.min(), yy.max()), cmap=plt.cm.Pastel1, origin='lower')\n",
    "\n",
    " #   plt.imshow(Z, ...): Wyświetla siatkę wartości jako obraz na wykresie.\n",
    "  #      Z: Tablica zawierająca dane, które mają być wyświetlone (np. klasyfikacja punktów w przestrzeni 2D).\n",
    "   #     interpolation='nearest': Ustawia sposób wyświetlania pikseli, tutaj bez interpolacji (piksele są prostokątne).\n",
    "    #    extent=(xx.min(), xx.max(), yy.min(), yy.max()): Zakres wartości na osiach X i Y, ustawiony na minimalne i maksymalne wartości siatek xx i yy.\n",
    "     #   cmap=plt.cm.Pastel1: Kolormap (paleta kolorów) ustawiona na pastelowe kolory, co sprawia, że regiony są delikatnie zabarwione.\n",
    "      #  origin='lower': Początek układu współrzędnych umieszczony w lewym dolnym rogu, co odwzorowuje układ wartości na siatce.\n",
    "\n",
    "#4. plt.scatter(x=X[:, 0], y=X[:, 1], c=labels, s=100)\n",
    "\n",
    "#   plt.scatter: Tworzy wykres punktowy dla danych wejściowych X.\n",
    "#      x=X[:, 0]: Wyciąga współrzędne X wszystkich punktów (pierwsza kolumna X).\n",
    "#     y=X[:, 1]: Wyciąga współrzędne Y wszystkich punktów (druga kolumna X).\n",
    "#     c=labels: Kolory punktów są określone przez etykiety klastrów (labels). Każdy klaster ma inny kolor.\n",
    "#     s=100: Wielkość punktów ustawiona na 100 (większe niż domyślne).\n",
    "\n",
    "#5. plt.scatter(x=centroids[:, 0], y=centroids[:, 1], s=300, c='red')\n",
    "\n",
    "#    plt.scatter: Tworzy wykres punktowy dla centroidów klastrów.\n",
    "#        x=centroids[:, 0]: Wyciąga współrzędne X centroidów (pierwsza kolumna centroids).\n",
    "#        y=centroids[:, 1]: Wyciąga współrzędne Y centroidów (druga kolumna centroids).\n",
    "#        s=300: Wielkość punktów centroidów jest ustawiona na 300 (większe niż punkty danych).\n",
    "#        c='red': Kolor centroidów ustawiony na czerwony, aby były wyraźnie widoczne.\n",
    "\n",
    "#6. plt.ylabel('x') , plt.xlabel('y')\n",
    "\n",
    "#    Opis: Ustawia etykiety osi.\n",
    "#      plt.ylabel('x'): Ustawia opis osi Y jako 'x'.\n",
    "#      plt.xlabel('y'): Ustawia opis osi X jako 'y'.\n",
    "\n",
    "#7. plt.grid()\n",
    "\n",
    "#    Opis: Włącza siatkę na wykresie, co ułatwia odczytywanie współrzędnych punktów.\n",
    "\n",
    "#8. plt.title(\"Clustering\")\n",
    "\n",
    " #   Opis: Ustawia tytuł wykresu jako \"Clustering\", co pozwala lepiej zrozumieć, że wykres przedstawia wyniki klasteryzacji.\n",
    "\n",
    "#9. plt.show()\n",
    "\n",
    " #   Opis: Wyświetla gotowy wykres. Renderuje wszystkie wcześniej zdefiniowane elementy i wyświetla je w oknie graficznym.\n",
    "\n",
    "#Podsumowanie:\n",
    "\n",
    "#Kod ten generuje wizualizację klasteryzacji:\n",
    "\n",
    " #   Siatka decyzyjna (za pomocą imshow) wyświetla podział przestrzeni na różne klastry.\n",
    " #   Punkty danych (scatter) są wyświetlane z różnymi kolorami zależnymi od etykiet klastrów.\n",
    " #   Centroidy klastrów są zaznaczone jako duże czerwone punkty.\n"
   ]
  },
  {
   "cell_type": "code",
   "execution_count": null,
   "id": "44129ee4-70cd-4915-96a3-0825dac1ec1b",
   "metadata": {},
   "outputs": [],
   "source": []
  },
  {
   "cell_type": "code",
   "execution_count": null,
   "id": "d457a358-44c6-405c-814c-6f82df9fc496",
   "metadata": {},
   "outputs": [],
   "source": []
  },
  {
   "cell_type": "code",
   "execution_count": null,
   "id": "430d57af-2b82-493b-b136-5eb55ec09f87",
   "metadata": {},
   "outputs": [],
   "source": []
  },
  {
   "cell_type": "code",
   "execution_count": null,
   "id": "46c4620b-98c9-45c1-8fe1-2f60b7a01fb5",
   "metadata": {},
   "outputs": [],
   "source": []
  },
  {
   "cell_type": "code",
   "execution_count": null,
   "id": "995e8f82-e435-4a2d-9198-28a7ad2d158f",
   "metadata": {},
   "outputs": [],
   "source": []
  },
  {
   "cell_type": "code",
   "execution_count": null,
   "id": "80462b5b-d258-4f99-b2e6-03bd193c6967",
   "metadata": {},
   "outputs": [],
   "source": []
  },
  {
   "cell_type": "code",
   "execution_count": null,
   "id": "29c2493b-3832-4faa-88f2-20696abd8313",
   "metadata": {},
   "outputs": [],
   "source": []
  },
  {
   "cell_type": "code",
   "execution_count": null,
   "id": "04f2e2c2-6fef-41df-adda-ba178621d58f",
   "metadata": {},
   "outputs": [],
   "source": []
  },
  {
   "cell_type": "code",
   "execution_count": null,
   "id": "c0c3c2ac-177c-4853-acb4-5b72874cb3a2",
   "metadata": {},
   "outputs": [],
   "source": []
  },
  {
   "cell_type": "code",
   "execution_count": null,
   "id": "d90559d5-42ef-4084-864b-35423b17f21f",
   "metadata": {},
   "outputs": [],
   "source": []
  },
  {
   "cell_type": "code",
   "execution_count": null,
   "id": "c9b1f4c5-854a-482c-aa4b-1298cb9c0666",
   "metadata": {},
   "outputs": [],
   "source": []
  },
  {
   "cell_type": "code",
   "execution_count": null,
   "id": "99220978-b819-490a-8437-e73036ce4fc7",
   "metadata": {},
   "outputs": [],
   "source": []
  },
  {
   "cell_type": "code",
   "execution_count": null,
   "id": "cee86fce-08e1-4cd0-be83-caf58bfafd32",
   "metadata": {},
   "outputs": [],
   "source": []
  },
  {
   "cell_type": "code",
   "execution_count": null,
   "id": "7fa1b806-aed2-449e-a438-ae56c7ec3e5e",
   "metadata": {},
   "outputs": [],
   "source": []
  },
  {
   "cell_type": "code",
   "execution_count": null,
   "id": "999a64ef-422c-48f8-b35f-d021c44c9714",
   "metadata": {},
   "outputs": [],
   "source": []
  },
  {
   "cell_type": "code",
   "execution_count": null,
   "id": "cd4946ff-e699-451b-93a2-07690dbd4408",
   "metadata": {},
   "outputs": [],
   "source": []
  },
  {
   "cell_type": "code",
   "execution_count": null,
   "id": "a3b056cf-1599-42b1-be5a-3dec24319dc5",
   "metadata": {},
   "outputs": [],
   "source": []
  },
  {
   "cell_type": "code",
   "execution_count": null,
   "id": "17aed3de-01c0-4dff-bc1f-cdf948f10805",
   "metadata": {},
   "outputs": [],
   "source": []
  },
  {
   "cell_type": "code",
   "execution_count": null,
   "id": "ec601ba6-4990-4e51-a692-2e788a0040d1",
   "metadata": {},
   "outputs": [],
   "source": []
  },
  {
   "cell_type": "code",
   "execution_count": null,
   "id": "52060e1c-4daa-4e57-9996-a8768f1a6f15",
   "metadata": {},
   "outputs": [],
   "source": []
  },
  {
   "cell_type": "code",
   "execution_count": null,
   "id": "f29f2f37-ab09-4fd1-9e26-9f4cbf36b0ac",
   "metadata": {},
   "outputs": [],
   "source": []
  },
  {
   "cell_type": "code",
   "execution_count": null,
   "id": "99e10168-8636-45b5-8618-f7613dddbeb4",
   "metadata": {},
   "outputs": [],
   "source": []
  },
  {
   "cell_type": "code",
   "execution_count": null,
   "id": "fcfcb8f6-10de-4e91-942c-7a7ae16022ca",
   "metadata": {},
   "outputs": [],
   "source": []
  },
  {
   "cell_type": "code",
   "execution_count": null,
   "id": "e00e7536-7e33-43b1-a355-7cb10378dbb6",
   "metadata": {},
   "outputs": [],
   "source": []
  },
  {
   "cell_type": "code",
   "execution_count": null,
   "id": "8538a1d3-57c5-4d8a-9a46-f1b85dede9ff",
   "metadata": {},
   "outputs": [],
   "source": []
  },
  {
   "cell_type": "code",
   "execution_count": null,
   "id": "c7553bdd-61ba-4586-a9de-470a15d1ea91",
   "metadata": {},
   "outputs": [],
   "source": []
  },
  {
   "cell_type": "code",
   "execution_count": null,
   "id": "beabfec0-75c8-45c5-9d33-f7715f01bd32",
   "metadata": {},
   "outputs": [],
   "source": []
  },
  {
   "cell_type": "code",
   "execution_count": null,
   "id": "a7df9525-834e-468c-a255-9a6108ee82c9",
   "metadata": {},
   "outputs": [],
   "source": []
  },
  {
   "cell_type": "code",
   "execution_count": null,
   "id": "9c673f66-b350-4682-9daa-6f27cc4d8412",
   "metadata": {},
   "outputs": [],
   "source": []
  },
  {
   "cell_type": "code",
   "execution_count": null,
   "id": "5e07c47e-4948-45a1-92d7-5b9388eefadc",
   "metadata": {},
   "outputs": [],
   "source": []
  }
 ],
 "metadata": {
  "kernelspec": {
   "display_name": "Python 3 (ipykernel)",
   "language": "python",
   "name": "python3"
  },
  "language_info": {
   "codemirror_mode": {
    "name": "ipython",
    "version": 3
   },
   "file_extension": ".py",
   "mimetype": "text/x-python",
   "name": "python",
   "nbconvert_exporter": "python",
   "pygments_lexer": "ipython3",
   "version": "3.11.7"
  }
 },
 "nbformat": 4,
 "nbformat_minor": 5
}
