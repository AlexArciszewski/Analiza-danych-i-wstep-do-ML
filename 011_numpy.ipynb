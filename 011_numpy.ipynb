{
 "cells": [
  {
   "cell_type": "code",
   "execution_count": 44,
   "id": "3e25592c-9011-4289-a649-b4646bb93052",
   "metadata": {},
   "outputs": [],
   "source": [
    "import numpy as np"
   ]
  },
  {
   "cell_type": "code",
   "execution_count": null,
   "id": "e7e05ea5-5e90-4dd9-86ec-1846610e235f",
   "metadata": {},
   "outputs": [],
   "source": [
    "#Utwórz w zmiennej a jednowymiarową tablicę z elementami od 0 do 19. Hint: Służy do tego metoda np.arange"
   ]
  },
  {
   "cell_type": "code",
   "execution_count": 4,
   "id": "1f3bb8da-285c-4757-8869-6f754a1bf539",
   "metadata": {},
   "outputs": [
    {
     "name": "stdout",
     "output_type": "stream",
     "text": [
      "[ 0  1  2  3  4  5  6  7  8  9 10 11 12 13 14 15 16 17 18 19]\n"
     ]
    }
   ],
   "source": [
    "a = np.arange(20)\n",
    "print(a)"
   ]
  },
  {
   "cell_type": "code",
   "execution_count": null,
   "id": "7d2b832b-4034-4251-97a8-074f63cfe1a2",
   "metadata": {},
   "outputs": [],
   "source": [
    "#Wyświetl kształt tej tablicy. Hint: służy do tego właściwość shape"
   ]
  },
  {
   "cell_type": "code",
   "execution_count": 16,
   "id": "cc68bd50-c03f-41aa-98a2-5dc97be22716",
   "metadata": {
    "scrolled": true
   },
   "outputs": [
    {
     "data": {
      "text/plain": [
       "(20,)"
      ]
     },
     "execution_count": 16,
     "metadata": {},
     "output_type": "execute_result"
    }
   ],
   "source": [
    "a.shape"
   ]
  },
  {
   "cell_type": "code",
   "execution_count": null,
   "id": "05cc9e90-da00-4856-a22a-61bd84fbcc13",
   "metadata": {},
   "outputs": [],
   "source": [
    " #Wyświetl zerowy element tablicy. Wyświetl czwarty element tablicy. Hint: Korzystaj z [] i numeruj od 0"
   ]
  },
  {
   "cell_type": "code",
   "execution_count": 9,
   "id": "84cd9c7e-73a3-425c-9c79-9bb3700c9905",
   "metadata": {},
   "outputs": [
    {
     "data": {
      "text/plain": [
       "0"
      ]
     },
     "execution_count": 9,
     "metadata": {},
     "output_type": "execute_result"
    }
   ],
   "source": [
    "a[0]"
   ]
  },
  {
   "cell_type": "code",
   "execution_count": 15,
   "id": "f9a3be8d-6d7d-49b8-bbf4-c68b1911ea94",
   "metadata": {},
   "outputs": [
    {
     "data": {
      "text/plain": [
       "4"
      ]
     },
     "execution_count": 15,
     "metadata": {},
     "output_type": "execute_result"
    }
   ],
   "source": [
    "a[4]"
   ]
  },
  {
   "cell_type": "code",
   "execution_count": 14,
   "id": "21f378d0-564b-46f8-a8ec-d048e423483c",
   "metadata": {},
   "outputs": [
    {
     "data": {
      "text/plain": [
       "array([ 0,  1,  2,  3,  4,  5,  6,  7,  8,  9, 10, 11, 12, 13, 14, 15, 16,\n",
       "       17, 18, 19])"
      ]
     },
     "execution_count": 14,
     "metadata": {},
     "output_type": "execute_result"
    }
   ],
   "source": [
    "#Zmień kształt tablicy na 2x10. Wynik przekształcenia zapisz w a. Potem ponownie sprawdź kształt i wyświetl zawartość tablicy.\n",
    "#Hint: Skorzystaj z metody reshape(...)"
   ]
  },
  {
   "cell_type": "code",
   "execution_count": 18,
   "id": "cd2b48a5-e75e-43cd-99b4-bf76b5346a1e",
   "metadata": {},
   "outputs": [],
   "source": [
    "a =np.reshape(a,(2,10))"
   ]
  },
  {
   "cell_type": "code",
   "execution_count": 19,
   "id": "9f7a2e80-8482-4e06-a383-3ca48901a266",
   "metadata": {},
   "outputs": [
    {
     "data": {
      "text/plain": [
       "array([[ 0,  1,  2,  3,  4,  5,  6,  7,  8,  9],\n",
       "       [10, 11, 12, 13, 14, 15, 16, 17, 18, 19]])"
      ]
     },
     "execution_count": 19,
     "metadata": {},
     "output_type": "execute_result"
    }
   ],
   "source": [
    "a"
   ]
  },
  {
   "cell_type": "code",
   "execution_count": null,
   "id": "8f803c4f-fc1d-4bea-b8a1-fba08126446a",
   "metadata": {},
   "outputs": [],
   "source": [
    "#Wyświetl element zerowy z przekształconej w poprzednim kroku tablicy. Czy jest to ten sam element co poprzednio?"
   ]
  },
  {
   "cell_type": "code",
   "execution_count": 20,
   "id": "2b2380cc-892b-48de-81dc-56bf60ba3486",
   "metadata": {},
   "outputs": [
    {
     "data": {
      "text/plain": [
       "array([0, 1, 2, 3, 4, 5, 6, 7, 8, 9])"
      ]
     },
     "execution_count": 20,
     "metadata": {},
     "output_type": "execute_result"
    }
   ],
   "source": [
    "a[0]"
   ]
  },
  {
   "cell_type": "code",
   "execution_count": null,
   "id": "ce670a57-40b6-4be5-814e-c92be3623661",
   "metadata": {},
   "outputs": [],
   "source": [
    "#(Uwaga - tu będzie błąd, ale na błędach człowiek się uczy, więc to dobrze). Wyświetl czwarty element z tablicy a"
   ]
  },
  {
   "cell_type": "code",
   "execution_count": 21,
   "id": "4c78d19c-85ae-419f-ad24-5fae688547e3",
   "metadata": {},
   "outputs": [
    {
     "ename": "IndexError",
     "evalue": "index 4 is out of bounds for axis 0 with size 2",
     "output_type": "error",
     "traceback": [
      "\u001b[1;31m---------------------------------------------------------------------------\u001b[0m",
      "\u001b[1;31mIndexError\u001b[0m                                Traceback (most recent call last)",
      "Cell \u001b[1;32mIn[21], line 1\u001b[0m\n\u001b[1;32m----> 1\u001b[0m \u001b[43ma\u001b[49m\u001b[43m[\u001b[49m\u001b[38;5;241;43m4\u001b[39;49m\u001b[43m]\u001b[49m\n",
      "\u001b[1;31mIndexError\u001b[0m: index 4 is out of bounds for axis 0 with size 2"
     ]
    }
   ],
   "source": [
    "a[4]"
   ]
  },
  {
   "cell_type": "code",
   "execution_count": null,
   "id": "3545d2a5-e596-468a-8ccf-a1183eb1126f",
   "metadata": {},
   "outputs": [],
   "source": [
    "8. #A teraz zróbmy to poprawnie. Z tablicy a wyświetl czwarty element znajdujący się w zerowym wierszu. Hint: Musisz dwa razy \n",
    "#skorzystać z [][]"
   ]
  },
  {
   "cell_type": "code",
   "execution_count": 22,
   "id": "d2a163fa-4f1e-449e-9114-4a3bb12c05d6",
   "metadata": {},
   "outputs": [
    {
     "data": {
      "text/plain": [
       "4"
      ]
     },
     "execution_count": 22,
     "metadata": {},
     "output_type": "execute_result"
    }
   ],
   "source": [
    "a[0][4]"
   ]
  },
  {
   "cell_type": "code",
   "execution_count": null,
   "id": "3af53e68-dd0f-4ea6-8acc-3554b4026193",
   "metadata": {},
   "outputs": [],
   "source": [
    "#Zmień kształt tablicy a na 2x5x2"
   ]
  },
  {
   "cell_type": "code",
   "execution_count": 28,
   "id": "3195c968-283b-4669-a5e0-c76ccabf6f3a",
   "metadata": {},
   "outputs": [],
   "source": [
    "b = a.reshape(2,5,2)"
   ]
  },
  {
   "cell_type": "code",
   "execution_count": 29,
   "id": "35d35e3d-0de1-4cc7-afd0-ae69a51e85de",
   "metadata": {},
   "outputs": [
    {
     "data": {
      "text/plain": [
       "array([[[ 0,  1],\n",
       "        [ 2,  3],\n",
       "        [ 4,  5],\n",
       "        [ 6,  7],\n",
       "        [ 8,  9]],\n",
       "\n",
       "       [[10, 11],\n",
       "        [12, 13],\n",
       "        [14, 15],\n",
       "        [16, 17],\n",
       "        [18, 19]]])"
      ]
     },
     "execution_count": 29,
     "metadata": {},
     "output_type": "execute_result"
    }
   ],
   "source": [
    "b"
   ]
  },
  {
   "cell_type": "code",
   "execution_count": 30,
   "id": "6878ba00-9db5-47da-83a8-0702032dcc4c",
   "metadata": {},
   "outputs": [
    {
     "data": {
      "text/plain": [
       "(2, 5, 2)"
      ]
     },
     "execution_count": 30,
     "metadata": {},
     "output_type": "execute_result"
    }
   ],
   "source": [
    "b.shape"
   ]
  },
  {
   "cell_type": "code",
   "execution_count": 31,
   "id": "66745376-f9c8-47d8-ad81-8a26f73d956c",
   "metadata": {},
   "outputs": [
    {
     "data": {
      "text/plain": [
       "array([[0, 1],\n",
       "       [2, 3],\n",
       "       [4, 5],\n",
       "       [6, 7],\n",
       "       [8, 9]])"
      ]
     },
     "execution_count": 31,
     "metadata": {},
     "output_type": "execute_result"
    }
   ],
   "source": [
    "b[0]"
   ]
  },
  {
   "cell_type": "code",
   "execution_count": 32,
   "id": "9324073e-e833-4ed2-b067-d48624f9c9ad",
   "metadata": {},
   "outputs": [
    {
     "data": {
      "text/plain": [
       "array([8, 9])"
      ]
     },
     "execution_count": 32,
     "metadata": {},
     "output_type": "execute_result"
    }
   ],
   "source": [
    "b[0][4]"
   ]
  },
  {
   "cell_type": "code",
   "execution_count": 33,
   "id": "e18ebf99-9acd-4a20-94ac-5be7971a3aa8",
   "metadata": {},
   "outputs": [
    {
     "data": {
      "text/plain": [
       "9"
      ]
     },
     "execution_count": 33,
     "metadata": {},
     "output_type": "execute_result"
    }
   ],
   "source": [
    "b[0][4][1]"
   ]
  },
  {
   "cell_type": "code",
   "execution_count": null,
   "id": "81340ba0-efa9-4e5b-9230-5371f27ef36a",
   "metadata": {},
   "outputs": [],
   "source": [
    "#12. Tworząc tablicę, możesz od razu definiować jej kształt. Utwórz tablicę b korzystając\n",
    "#z parametrów przekazywanych do metody array lub wywołując odpowiednie metody dla już istniejącej tablicy, \n",
    "#tak aby zawierała ona elementy parzyste od 0 do 40 o kształcie 4x5"
   ]
  },
  {
   "cell_type": "code",
   "execution_count": 48,
   "id": "141fe0cb-3ea3-47b2-af9e-71fa85c9842b",
   "metadata": {},
   "outputs": [
    {
     "data": {
      "text/plain": [
       "[0, 2, 4, 6, 8, 10, 12, 14, 16, 18, 20, 22, 24, 26, 28, 30, 32, 34, 36, 38]"
      ]
     },
     "execution_count": 48,
     "metadata": {},
     "output_type": "execute_result"
    }
   ],
   "source": [
    "x = [number for number in range(40) if number % 2 == 0]\n",
    "x"
   ]
  },
  {
   "cell_type": "code",
   "execution_count": 49,
   "id": "5f1e2fa2-fbb2-446e-8e15-9673163e5342",
   "metadata": {},
   "outputs": [],
   "source": [
    "c =np.array(x).reshape(4, 5)"
   ]
  },
  {
   "cell_type": "code",
   "execution_count": 50,
   "id": "47566f3e-ba35-494b-90ec-d70ad35c912a",
   "metadata": {},
   "outputs": [
    {
     "data": {
      "text/plain": [
       "array([[ 0,  2,  4,  6,  8],\n",
       "       [10, 12, 14, 16, 18],\n",
       "       [20, 22, 24, 26, 28],\n",
       "       [30, 32, 34, 36, 38]])"
      ]
     },
     "execution_count": 50,
     "metadata": {},
     "output_type": "execute_result"
    }
   ],
   "source": [
    "c"
   ]
  },
  {
   "cell_type": "code",
   "execution_count": null,
   "id": "57d3f7e4-c234-460a-b239-354db3d97685",
   "metadata": {},
   "outputs": [],
   "source": [
    "#a_python_list =  [2**x for x in range(10)]\n",
    "\n",
    "#tworzy standardową pythonową listę dziesięciu kolejnych potęg dwójki. W oparciu o tą listę utwórz obiekt array c1"
   ]
  },
  {
   "cell_type": "code",
   "execution_count": 55,
   "id": "c9b538cb-ed6f-4409-867e-d61e21f1c3fe",
   "metadata": {},
   "outputs": [
    {
     "data": {
      "text/plain": [
       "array([  1,   2,   4,   8,  16,  32,  64, 128, 256, 512])"
      ]
     },
     "execution_count": 55,
     "metadata": {},
     "output_type": "execute_result"
    }
   ],
   "source": [
    "a_python_list =  [2**x for x in range(10)]\n",
    "c1 =np.array(a_python_list)\n",
    "c1"
   ]
  },
  {
   "cell_type": "code",
   "execution_count": null,
   "id": "0ba43483-13ed-4240-82bd-0dc37412fab2",
   "metadata": {},
   "outputs": [],
   "source": [
    "#14. To może się wydawać trochę dziwne, ale czasami w uczeniu maszynowym potrzebne są bardzo specyficzne obiekty array. \n",
    "#W tym zadaniu utworzysz takie \"dziwaczne\" tablice"
   ]
  },
  {
   "cell_type": "code",
   "execution_count": null,
   "id": "74b8b47d-72e6-4ac8-80f7-73bb08b34855",
   "metadata": {},
   "outputs": [],
   "source": [
    "#Utwórz tablicę zero_array składającą się z 10 zer. Hint: Skorzystaj z metody zeros"
   ]
  },
  {
   "cell_type": "code",
   "execution_count": 58,
   "id": "054ccd80-35fd-4933-98de-e16d310929b6",
   "metadata": {},
   "outputs": [
    {
     "data": {
      "text/plain": [
       "array([[0., 0., 0., 0., 0., 0., 0., 0., 0., 0.]])"
      ]
     },
     "execution_count": 58,
     "metadata": {},
     "output_type": "execute_result"
    }
   ],
   "source": [
    "zero_array=np.zeros((1,10))\n",
    "zero_array"
   ]
  },
  {
   "cell_type": "code",
   "execution_count": null,
   "id": "3e590a17-8522-4b81-8c48-a21965314de6",
   "metadata": {},
   "outputs": [],
   "source": [
    "#Utwórz tablicę one_array składającą się z 10 jedynek. Hint: Skorzystaj z metody ones"
   ]
  },
  {
   "cell_type": "code",
   "execution_count": 59,
   "id": "86eb0fb7-a64b-4af4-b90c-ad81975defca",
   "metadata": {},
   "outputs": [
    {
     "data": {
      "text/plain": [
       "array([[1., 1., 1., 1., 1., 1., 1., 1., 1., 1.]])"
      ]
     },
     "execution_count": 59,
     "metadata": {},
     "output_type": "execute_result"
    }
   ],
   "source": [
    "one_array=np.ones((1,10))\n",
    "one_array"
   ]
  },
  {
   "cell_type": "code",
   "execution_count": null,
   "id": "846586a5-ef19-42da-8ec9-e9098c7e849a",
   "metadata": {},
   "outputs": [],
   "source": [
    "#Utwórz tablicę empty_array składającą się ze 100  byle-jakich-liczb. Hint skorzystaj z metody empty\n",
    "#Ta metoda tworzy tablicę, która zawiera to, co akurat było w pamięci. Wielokrotne uruchamianie w/w \n",
    "#polecenia może dawać różne wyniki, ale to nie jest jakiś świetny sposób na generowanie liczb losowych"
   ]
  },
  {
   "cell_type": "code",
   "execution_count": 63,
   "id": "0ddbc6c6-f328-4e4f-a62c-c87502e69fdc",
   "metadata": {},
   "outputs": [
    {
     "data": {
      "text/plain": [
       "array([[0.00000000e+000, 0.00000000e+000, 4.94065646e-324,\n",
       "        6.95264024e-310, 4.69362364e-322, 1.13651414e-311,\n",
       "        1.13651414e-311, 1.13651414e-311, 1.13651414e-311,\n",
       "        1.13651414e-311, 1.13651414e-311, 1.13651414e-311,\n",
       "        1.13651414e-311, 1.13651414e-311, 1.13651414e-311,\n",
       "        1.13651414e-311, 1.13651414e-311, 1.13651414e-311,\n",
       "        1.13651414e-311, 1.13651414e-311, 1.13651414e-311,\n",
       "        1.13651414e-311, 1.13651414e-311, 1.13651414e-311,\n",
       "        1.13651414e-311, 1.13651414e-311, 1.13651414e-311,\n",
       "        1.13651414e-311, 1.13651414e-311, 1.13651414e-311,\n",
       "        1.13651414e-311, 1.13651414e-311, 1.13651414e-311,\n",
       "        1.13651414e-311, 1.13651414e-311, 1.13651414e-311,\n",
       "        1.13651414e-311, 1.13651414e-311, 1.13651414e-311,\n",
       "        1.13651415e-311, 1.13651415e-311, 1.13651415e-311,\n",
       "        1.13651415e-311, 1.13651415e-311, 1.13651415e-311,\n",
       "        1.13651415e-311, 1.13651415e-311, 1.13651415e-311,\n",
       "        1.13651415e-311, 1.13651415e-311, 1.13651415e-311,\n",
       "        1.13651415e-311, 1.13651415e-311, 1.13651415e-311,\n",
       "        1.13651415e-311, 1.13651415e-311, 1.13651415e-311,\n",
       "        1.13651415e-311, 1.13651415e-311, 1.13651415e-311,\n",
       "        1.13651415e-311, 1.13651415e-311, 1.13651415e-311,\n",
       "        1.13651415e-311, 1.13651415e-311, 1.13651415e-311,\n",
       "        1.13651415e-311, 1.13651415e-311, 1.13651415e-311,\n",
       "        1.13651415e-311, 1.13651415e-311, 1.13651415e-311,\n",
       "        1.13651415e-311, 1.13651415e-311, 0.00000000e+000,\n",
       "        0.00000000e+000, 0.00000000e+000, 0.00000000e+000,\n",
       "        0.00000000e+000, 0.00000000e+000, 0.00000000e+000,\n",
       "        0.00000000e+000, 0.00000000e+000, 0.00000000e+000,\n",
       "        0.00000000e+000, 0.00000000e+000, 0.00000000e+000,\n",
       "        0.00000000e+000, 0.00000000e+000, 0.00000000e+000,\n",
       "        0.00000000e+000, 0.00000000e+000, 0.00000000e+000,\n",
       "        0.00000000e+000, 0.00000000e+000, 0.00000000e+000,\n",
       "        0.00000000e+000, 0.00000000e+000, 0.00000000e+000,\n",
       "        0.00000000e+000]])"
      ]
     },
     "execution_count": 63,
     "metadata": {},
     "output_type": "execute_result"
    }
   ],
   "source": [
    "empty_array =np.empty((1,100))\n",
    "empty_array"
   ]
  },
  {
   "cell_type": "code",
   "execution_count": null,
   "id": "015372e3-d31c-41a2-bfce-e8bdfe7c4ee5",
   "metadata": {},
   "outputs": [],
   "source": [
    "#Utwórz tablicę linspace_array zawierającą 5 elementów, która jako zerową wartość ma 100, jako ostatnią ma wartość 200, i wszystkie elementy różnią się od siebie o tyle samo. \n",
    "#Hint: Skorzystaj z metody linspace"
   ]
  },
  {
   "cell_type": "code",
   "execution_count": 64,
   "id": "dbdc724a-257e-486e-ac42-fec17b04da97",
   "metadata": {},
   "outputs": [
    {
     "name": "stdout",
     "output_type": "stream",
     "text": [
      "[100. 125. 150. 175. 200.]\n"
     ]
    }
   ],
   "source": [
    "linspace_array = np.linspace(100, 200, 5)\n",
    "print(linspace_array)"
   ]
  },
  {
   "cell_type": "code",
   "execution_count": null,
   "id": "ef551cb7-4a05-4315-a0f1-5e9a9e821966",
   "metadata": {},
   "outputs": [],
   "source": [
    "#Utwórz tablicę random_array składającą się z 10 losowych liczb. Hint: Skorzystaj z metody np.random.random"
   ]
  },
  {
   "cell_type": "code",
   "execution_count": 65,
   "id": "64b91cd6-85e6-4f1a-a25f-b9b052b04491",
   "metadata": {},
   "outputs": [
    {
     "name": "stdout",
     "output_type": "stream",
     "text": [
      "[0.55530649 0.02107562 0.04216417 0.48659018 0.10064244 0.78767471\n",
      " 0.80158647 0.88043222 0.62104884 0.84040415]\n"
     ]
    }
   ],
   "source": [
    "random_array = np.random.random(10)\n",
    "print(random_array)"
   ]
  },
  {
   "cell_type": "code",
   "execution_count": null,
   "id": "e91b3c73-cf4e-4436-8450-1c87d0ea8bf6",
   "metadata": {},
   "outputs": [],
   "source": [
    "#Utwórz tablicę diagonal_array o wymiarach 5x5, która na przekątnej ma jedynki, a pozostałe wartości to zera. Hint: \n",
    "#Skorzystaj z metody eye"
   ]
  },
  {
   "cell_type": "code",
   "execution_count": 66,
   "id": "db1eaa4a-0a46-4fdf-a3e3-761025f931f4",
   "metadata": {},
   "outputs": [
    {
     "name": "stdout",
     "output_type": "stream",
     "text": [
      "[[1. 0. 0. 0. 0.]\n",
      " [0. 1. 0. 0. 0.]\n",
      " [0. 0. 1. 0. 0.]\n",
      " [0. 0. 0. 1. 0.]\n",
      " [0. 0. 0. 0. 1.]]\n"
     ]
    }
   ],
   "source": [
    "import numpy as np\n",
    "\n",
    "diagonal_array = np.eye(5)\n",
    "print(diagonal_array)"
   ]
  },
  {
   "cell_type": "code",
   "execution_count": null,
   "id": "747bff82-cdb7-4c1e-95e4-6c1db7e802a5",
   "metadata": {},
   "outputs": [],
   "source": [
    "#Utwórz tablicę lucky_array o wymiarach 5x5 składającą się z samych trzynastek. Hint: Skorzystaj z metody full"
   ]
  },
  {
   "cell_type": "code",
   "execution_count": 67,
   "id": "69e90afe-622d-45c3-93fe-03b715572268",
   "metadata": {},
   "outputs": [
    {
     "name": "stdout",
     "output_type": "stream",
     "text": [
      "[[13 13 13 13 13]\n",
      " [13 13 13 13 13]\n",
      " [13 13 13 13 13]\n",
      " [13 13 13 13 13]\n",
      " [13 13 13 13 13]]\n"
     ]
    }
   ],
   "source": [
    "lucky_array = np.full((5, 5), 13)\n",
    "print(lucky_array)"
   ]
  },
  {
   "cell_type": "code",
   "execution_count": null,
   "id": "d7bf8c6b-a3ad-454a-bd89-36a7c219859b",
   "metadata": {},
   "outputs": [],
   "source": []
  },
  {
   "cell_type": "code",
   "execution_count": null,
   "id": "f754da5e-76b4-4a98-a6d1-e56c20a0bcad",
   "metadata": {},
   "outputs": [],
   "source": []
  },
  {
   "cell_type": "code",
   "execution_count": null,
   "id": "3edc3536-bdb2-48a6-b668-0364dcb9875f",
   "metadata": {},
   "outputs": [],
   "source": []
  },
  {
   "cell_type": "code",
   "execution_count": null,
   "id": "240cecd6-bc02-4fd1-8b43-5c992a049a03",
   "metadata": {},
   "outputs": [],
   "source": []
  }
 ],
 "metadata": {
  "kernelspec": {
   "display_name": "Python 3 (ipykernel)",
   "language": "python",
   "name": "python3"
  },
  "language_info": {
   "codemirror_mode": {
    "name": "ipython",
    "version": 3
   },
   "file_extension": ".py",
   "mimetype": "text/x-python",
   "name": "python",
   "nbconvert_exporter": "python",
   "pygments_lexer": "ipython3",
   "version": "3.11.7"
  }
 },
 "nbformat": 4,
 "nbformat_minor": 5
}
